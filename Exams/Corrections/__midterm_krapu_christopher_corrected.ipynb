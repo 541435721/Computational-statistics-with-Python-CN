{
 "metadata": {
  "name": "",
  "signature": "sha256:96c8bd2a119334b559fa894a1488c7dca2bd26b66aa9a46a4ed65f6afed85b38"
 },
 "nbformat": 3,
 "nbformat_minor": 0,
 "worksheets": [
  {
   "cells": [
    {
     "cell_type": "markdown",
     "metadata": {},
     "source": [
      "Instructions\n",
      "----\n",
      "\n",
      "This is a \"closed book\" examination - in particular, you are not to use any resources outside of this notebook (except possibly pen and paper). You may consult help from within the notebook using ? but not any online references. Violation of any of these exam rules is a violation of the University's honor code and will result in penalty under that code.\n",
      "\n",
      "\n",
      "You have 1 hour and 45 minutes to complete the exam.\n",
      "\n",
      "- <font color=red>Use a new cell for different parts of a question</font>\n",
      "- <font color=red>The maximum score for the mid-terms is 60</font>"
     ]
    },
    {
     "cell_type": "code",
     "collapsed": false,
     "input": [
      "import os\n",
      "import sys\n",
      "import glob\n",
      "import matplotlib.pyplot as plt\n",
      "import numpy as np\n",
      "import pandas as pd\n",
      "import scipy.linalg as la\n",
      "import scipy.optimize as opt\n",
      "import sympy as sy\n",
      "%matplotlib inline\n",
      "plt.style.use('ggplot')"
     ],
     "language": "python",
     "metadata": {},
     "outputs": [],
     "prompt_number": 68
    },
    {
     "cell_type": "code",
     "collapsed": false,
     "input": [
      "np.set_printoptions(formatter={'float': '{: 0.3f}'.format})"
     ],
     "language": "python",
     "metadata": {},
     "outputs": [],
     "prompt_number": 69
    },
    {
     "cell_type": "code",
     "collapsed": false,
     "input": [
      "%load_ext rpy2.ipython"
     ],
     "language": "python",
     "metadata": {},
     "outputs": [
      {
       "output_type": "stream",
       "stream": "stdout",
       "text": [
        "The rpy2.ipython extension is already loaded. To reload it, use:\n",
        "  %reload_ext rpy2.ipython\n"
       ]
      }
     ],
     "prompt_number": 70
    },
    {
     "cell_type": "markdown",
     "metadata": {},
     "source": [
      "**Question 1 (10 points)**. \n",
      "\n",
      "Given the 2 matrices\n",
      "```\n",
      "A = np.array([[1,2,3],[4,5,6]])\n",
      "B = np.array([[1,2,3,4],[5,6,7,8],[9,10,11,12]])\n",
      "```\n",
      "\n",
      "Perform matrix multiplication of `A` and `B` using the following methods:\n",
      "\n",
      "1. Using nested `for` loops without the `dot` function (4 points)\n",
      "2. Using numpy (2 points)\n",
      "3. Using R (start the first line of a new cell with %%R). You should pass in the A and B matrices defined in Python for full marks, but partial credit will be given if you redefine them in R (4 points)"
     ]
    },
    {
     "cell_type": "code",
     "collapsed": false,
     "input": [
      "A = np.array([[1,2,3],[4,5,6]])\n",
      "B = np.array([[1,2,3,4],[5,6,7,8],[9,10,11,12]])\n"
     ],
     "language": "python",
     "metadata": {},
     "outputs": [],
     "prompt_number": 71
    },
    {
     "cell_type": "code",
     "collapsed": false,
     "input": [
      "def dot(u,v):\n",
      "    answer=0\n",
      "    for i,num in enumerate(u):\n",
      "        answer  += u[i]*v[i]\n",
      "            \n",
      "    return answer\n",
      "B_t=B.transpose()\n",
      "print A\n",
      "\n",
      "for i in [0,1]:     \n",
      "    for j in [0,1,2,3]:\n",
      "      \n",
      "        product[i,j] = dot(A[i],B_t[j])\n",
      "       \n",
      "        \n",
      "print product\n",
      "                \n",
      "                \n",
      "        \n",
      "        \n"
     ],
     "language": "python",
     "metadata": {},
     "outputs": [
      {
       "output_type": "stream",
       "stream": "stdout",
       "text": [
        "[[1 2 3]\n",
        " [4 5 6]]\n",
        "[[ 38  44  50  56]\n",
        " [ 83  98 113 128]]\n"
       ]
      }
     ],
     "prompt_number": 72
    },
    {
     "cell_type": "code",
     "collapsed": false,
     "input": [
      "### CORRECTION ###\n",
      "def dot(u,v):\n",
      "    answer=0\n",
      "    for i,num in enumerate(u):\n",
      "        answer  += u[i]*v[i]\n",
      "            \n",
      "    return answer\n",
      "\n",
      "B_t=B.transpose()\n",
      "\n",
      "\n",
      "product = np.zeros([2,4])\n",
      "\n",
      "for i in [0,1]:     \n",
      "    for j in [0,1,2,3]:\n",
      "      \n",
      "        product[i,j] = dot(A[i],B_t[j])\n",
      "       \n",
      "        \n",
      "print product\n",
      "                \n",
      "                "
     ],
     "language": "python",
     "metadata": {},
     "outputs": [
      {
       "output_type": "stream",
       "stream": "stdout",
       "text": [
        "[[ 38.000  44.000  50.000  56.000]\n",
        " [ 83.000  98.000  113.000  128.000]]\n"
       ]
      }
     ],
     "prompt_number": 73
    },
    {
     "cell_type": "markdown",
     "metadata": {},
     "source": [
      "<font color=blue>Grade (+/- comments)</font>\n",
      "\n",
      "\\-1 Just initialize A as an empty or zero matrix and it will work."
     ]
    },
    {
     "cell_type": "code",
     "collapsed": false,
     "input": [
      "print np.arange(0,2)\n",
      "print np.arange(0,4)"
     ],
     "language": "python",
     "metadata": {},
     "outputs": [
      {
       "output_type": "stream",
       "stream": "stdout",
       "text": [
        "[0 1]\n",
        "[0 1 2 3]\n"
       ]
      }
     ],
     "prompt_number": 74
    },
    {
     "cell_type": "code",
     "collapsed": false,
     "input": [
      "product = np.zeros"
     ],
     "language": "python",
     "metadata": {},
     "outputs": [],
     "prompt_number": 75
    },
    {
     "cell_type": "code",
     "collapsed": false,
     "input": [
      "# using numpy\n",
      "product = np.dot(A,B)\n",
      "print product"
     ],
     "language": "python",
     "metadata": {},
     "outputs": [
      {
       "output_type": "stream",
       "stream": "stdout",
       "text": [
        "[[ 38  44  50  56]\n",
        " [ 83  98 113 128]]\n"
       ]
      }
     ],
     "prompt_number": 76
    },
    {
     "cell_type": "code",
     "collapsed": false,
     "input": [
      "### CORRECTION ### for cell below since I can't comment in the magic cell."
     ],
     "language": "python",
     "metadata": {},
     "outputs": [],
     "prompt_number": 77
    },
    {
     "cell_type": "code",
     "collapsed": false,
     "input": [
      "%%R -i A,B\n",
      "\n",
      "A%*%B\n",
      "\n"
     ],
     "language": "python",
     "metadata": {},
     "outputs": [
      {
       "metadata": {},
       "output_type": "display_data",
       "text": [
        "     [,1] [,2] [,3] [,4]\n",
        "[1,]   38   44   50   56\n",
        "[2,]   83   98  113  128\n"
       ]
      }
     ],
     "prompt_number": 78
    },
    {
     "cell_type": "markdown",
     "metadata": {},
     "source": [
      "<font color=blue>Grade (+/- comments)</font>\n",
      "\n",
      "\\-4"
     ]
    },
    {
     "cell_type": "markdown",
     "metadata": {},
     "source": [
      "**Question 2 (10 points)**. \n",
      "\n",
      "1. Read the `iris.csv` data set into a Pandas DataFrame. Dispaly the first 4 lines of the DataFrame. (2 points)\n",
      "2. Create a new DataFrame showing the mean `SepalLength`, `SepalWidth`, `PetalLength` and `PetalWidth` for the 3 different types of irises. (4 points)\n",
      "3. Make a scatter plot of `SepalLength` against `PetalLength` where each species is assigned a different color. (4 points)"
     ]
    },
    {
     "cell_type": "code",
     "collapsed": false,
     "input": [
      "! head -n6 iris.csv"
     ],
     "language": "python",
     "metadata": {},
     "outputs": [
      {
       "output_type": "stream",
       "stream": "stdout",
       "text": [
        "SepalLength,SepalWidth,PetalLength,PetalWidth,Name\r\n",
        "5.1,3.5,1.4,0.2,Iris-setosa\r\n",
        "4.9,3.0,1.4,0.2,Iris-setosa\r\n",
        "4.7,3.2,1.3,0.2,Iris-setosa\r\n",
        "4.6,3.1,1.5,0.2,Iris-setosa\r\n",
        "5.0,3.6,1.4,0.2,Iris-setosa\r\n"
       ]
      }
     ],
     "prompt_number": 79
    },
    {
     "cell_type": "code",
     "collapsed": false,
     "input": [
      "data=pd.read_table('iris.csv')"
     ],
     "language": "python",
     "metadata": {},
     "outputs": [],
     "prompt_number": 80
    },
    {
     "cell_type": "code",
     "collapsed": false,
     "input": [
      "print data[data.index.values<4]"
     ],
     "language": "python",
     "metadata": {},
     "outputs": [
      {
       "output_type": "stream",
       "stream": "stdout",
       "text": [
        "  SepalLength,SepalWidth,PetalLength,PetalWidth,Name\n",
        "0                        5.1,3.5,1.4,0.2,Iris-setosa\n",
        "1                        4.9,3.0,1.4,0.2,Iris-setosa\n",
        "2                        4.7,3.2,1.3,0.2,Iris-setosa\n",
        "3                        4.6,3.1,1.5,0.2,Iris-setosa\n"
       ]
      }
     ],
     "prompt_number": 81
    },
    {
     "cell_type": "code",
     "collapsed": false,
     "input": [
      "### CORRECTION ###\n",
      "#1\n",
      "data = pd.DataFrame()\n",
      "data = pd.io.parsers.read_table('iris.csv',sep=',')\n",
      "\n",
      "print data[data.index.values<4]"
     ],
     "language": "python",
     "metadata": {},
     "outputs": [
      {
       "output_type": "stream",
       "stream": "stdout",
       "text": [
        "   SepalLength  SepalWidth  PetalLength  PetalWidth         Name\n",
        "0          5.1         3.5          1.4         0.2  Iris-setosa\n",
        "1          4.9         3.0          1.4         0.2  Iris-setosa\n",
        "2          4.7         3.2          1.3         0.2  Iris-setosa\n",
        "3          4.6         3.1          1.5         0.2  Iris-setosa\n"
       ]
      }
     ],
     "prompt_number": 82
    },
    {
     "cell_type": "code",
     "collapsed": false,
     "input": [
      "### CORRECTION ###\n",
      "#2\n",
      "unique_names = data['Name'].unique()\n",
      "mean_frame=pd.DataFrame()\n",
      "\n",
      "for name in unique_names:\n",
      "    mean_frame[name]=data[data['Name']==name].mean()\n",
      "print mean_frame.transpose()\n"
     ],
     "language": "python",
     "metadata": {},
     "outputs": [
      {
       "output_type": "stream",
       "stream": "stdout",
       "text": [
        "                 SepalLength  SepalWidth  PetalLength  PetalWidth\n",
        "Iris-setosa            5.006       3.418        1.464       0.244\n",
        "Iris-versicolor        5.936       2.770        4.260       1.326\n",
        "Iris-virginica         6.588       2.974        5.552       2.026\n"
       ]
      }
     ],
     "prompt_number": 83
    },
    {
     "cell_type": "markdown",
     "metadata": {},
     "source": [
      "<font color=blue>Grade (+/- comments)</font>\n",
      "\n",
      "\\- 8"
     ]
    },
    {
     "cell_type": "code",
     "collapsed": false,
     "input": [
      "### CORRECTION ###\n",
      "#3\n",
      "\n",
      "axes=plt.axes()\n",
      "\n",
      "colors = ['Red','Blue','Green']\n",
      "\n",
      "partial_frames=[]\n",
      "for i,name in enumerate(unique_names):\n",
      "    partial_frames.append(data[data['Name']==name])\n",
      "   \n",
      "\n",
      "for i,name in enumerate(unique_names):\n",
      "    partial_frames[i].plot(kind='scatter',x='PetalLength',y='SepalLength',color=colors[i],ax=axes)\n",
      "    "
     ],
     "language": "python",
     "metadata": {},
     "outputs": [
      {
       "metadata": {},
       "output_type": "display_data",
       "png": "[encoded data removed]",
       "text": [
        "<matplotlib.figure.Figure at 0x7fedf1ec0d90>"
       ]
      }
     ],
     "prompt_number": 84
    },
    {
     "cell_type": "markdown",
     "metadata": {},
     "source": [
      "**Question 3 (10 points)**.\n",
      "\n",
      "Given the following covariance matrix\n",
      "```python\n",
      "A = np.array([[2,1],[1,4]])\n",
      "```\n",
      "\n",
      "1. Show that the eigenvectors of $A$ are orthogonal. (2 points)\n",
      "2. What is the vector representing the first principal component direction? (2 points)\n",
      "3. Find $A^{-1}$ without performing a matrix inversion. (2 points)\n",
      "4. What are the coordinates of the data points (0, 1) and (1, 1) in the standard basis expressed as coordinates of the principal components? (2 points)\n",
      "5. What is the proportion of variance explained if we keep only the projection onto the first principal component? (2 points)."
     ]
    },
    {
     "cell_type": "code",
     "collapsed": false,
     "input": [
      "import scipy.linalg as la"
     ],
     "language": "python",
     "metadata": {},
     "outputs": [],
     "prompt_number": 85
    },
    {
     "cell_type": "code",
     "collapsed": false,
     "input": [
      "A = np.array([[2,1],[1,4]])"
     ],
     "language": "python",
     "metadata": {},
     "outputs": [],
     "prompt_number": 113
    },
    {
     "cell_type": "code",
     "collapsed": false,
     "input": [
      "eigenvalues,eigenvectors = la.eig(A)\n",
      "\n",
      "# if dot product is zero, they are orthogonal\n",
      "print np.dot(eigenvectors[0],eigenvectors[1])\n",
      "\n"
     ],
     "language": "python",
     "metadata": {},
     "outputs": [
      {
       "output_type": "stream",
       "stream": "stdout",
       "text": [
        "0.0\n"
       ]
      }
     ],
     "prompt_number": 114
    },
    {
     "cell_type": "code",
     "collapsed": false,
     "input": [
      "# the first principal component ASSUMING THAT THIS MEANS THE FIRST EIGENVALUE AND NOT THE LARGEST. IF YOU WANT THE LARGEST EIGENVALUE, IT \n",
      "# WOULD BE eigenvalues[1] and eigenvectors[1]\n",
      "print eigenvalues[0]\n",
      "print eigenvectors[0]"
     ],
     "language": "python",
     "metadata": {},
     "outputs": [
      {
       "output_type": "stream",
       "stream": "stdout",
       "text": [
        "(1.58578643763+0j)\n",
        "[-0.924 -0.383]\n"
       ]
      }
     ],
     "prompt_number": 118
    },
    {
     "cell_type": "code",
     "collapsed": false,
     "input": [
      "### CORRECTION ###\n",
      "#2\n",
      "# for symmetric matrix, the largest eigenvalue correspond to the eigenvector which is the first PC.\n",
      "print eigenvalues[eigenvalues.argmax()]\n",
      "print eigenvectors[:,eigenvalues.argmax()]"
     ],
     "language": "python",
     "metadata": {},
     "outputs": [
      {
       "output_type": "stream",
       "stream": "stdout",
       "text": [
        "(4.41421356237+0j)\n",
        "[-0.383 -0.924]\n"
       ]
      }
     ],
     "prompt_number": 119
    },
    {
     "cell_type": "markdown",
     "metadata": {},
     "source": [
      "<font color=blue>Grade (+/- comments)</font>\n",
      "\n",
      "\\-2 v consists of column vectors. Want `v[:, e.argmax()]`"
     ]
    },
    {
     "cell_type": "code",
     "collapsed": false,
     "input": [
      "### CORRECTION ###\n",
      "#3\n",
      "\n",
      "# since the matrix Q's inverse is its transpose\n",
      "\n",
      "eigenvalues_inverse = [1/l for l in eigenvalues]\n",
      "lambda_inverse = np.diag(eigenvalues_inverse)\n",
      "A_inv = np.dot(eigenvectors,np.dot(lambda_inverse,eigenvectors.transpose()))\n",
      "\n",
      "# inverse from spectral decomp.:\n",
      "print A_inv\n",
      "\n",
      "# to compare against system inverse:\n",
      "print la.inv(A)"
     ],
     "language": "python",
     "metadata": {},
     "outputs": [
      {
       "output_type": "stream",
       "stream": "stdout",
       "text": [
        "[[ 0.57142857+0.j -0.14285714+0.j]\n",
        " [-0.14285714+0.j  0.28571429+0.j]]\n",
        "[[ 0.571 -0.143]\n",
        " [-0.143  0.286]]\n"
       ]
      }
     ],
     "prompt_number": 91
    },
    {
     "cell_type": "code",
     "collapsed": false,
     "input": [
      "A_inv = la.pinv(A)\n",
      "print A_inv"
     ],
     "language": "python",
     "metadata": {},
     "outputs": [
      {
       "output_type": "stream",
       "stream": "stdout",
       "text": [
        "[[ 0.571 -0.143]\n",
        " [-0.143  0.286]]\n"
       ]
      }
     ],
     "prompt_number": 92
    },
    {
     "cell_type": "markdown",
     "metadata": {},
     "source": [
      "<font color=blue>Grade (+/- comments)</font>\n",
      "\n",
      "\\-2 pinv() is even more expensive than regular matrix inversion!"
     ]
    },
    {
     "cell_type": "code",
     "collapsed": false,
     "input": [
      "#we want to be able to change basis from standard to eigenvectors which requires the inverse of the eigenvector matrix:\n",
      "E=eigenvectors\n",
      "E_inv = la.pinv(E)\n",
      "\n",
      "data_points = np.array([[0,1],[1,1]])\n",
      "transformed  = np.dot(E_inv,(np.dot(data_points,E)))\n",
      "\n",
      "#coordinates of data points expressed in eigenvector basis\n",
      "print transformed\n"
     ],
     "language": "python",
     "metadata": {},
     "outputs": [
      {
       "output_type": "stream",
       "stream": "stdout",
       "text": [
        "[[-0.561  0.354]\n",
        " [ 0.354  1.561]]\n"
       ]
      }
     ],
     "prompt_number": 93
    },
    {
     "cell_type": "code",
     "collapsed": false,
     "input": [
      "### CORRECTION ###\n",
      "#4\n",
      "#we want to be able to change basis from standard to eigenvectors which requires the inverse of the eigenvector matrix:\n",
      "E=eigenvectors\n",
      "E_inv = la.inv(E)\n",
      "\n",
      "data_points = np.array([[0,1],[1,1]])\n",
      "transformed  = np.dot(E,(np.dot(data_points,E_inv)))\n",
      "\n",
      "#coordinates of data points expressed in eigenvector basis\n",
      "print transformed\n"
     ],
     "language": "python",
     "metadata": {},
     "outputs": [
      {
       "output_type": "stream",
       "stream": "stdout",
       "text": [
        "[[ 0.854  1.061]\n",
        " [ 1.061  0.146]]\n"
       ]
      }
     ],
     "prompt_number": 94
    },
    {
     "cell_type": "markdown",
     "metadata": {},
     "source": [
      "<font color=blue>Grade (+/- comments)</font>\n",
      "\n",
      "\\-2"
     ]
    },
    {
     "cell_type": "code",
     "collapsed": false,
     "input": [
      "#to find the variance with only the first component, repeat above calculations with only the eigenvector corresponding \n",
      "#to largest eigenvalue\n",
      "eigenvectors[0]=np.array([0,0])\n",
      "E_reduced=eigenvectors\n",
      "E_inv_reduced = la.pinv(E_reduced)\n",
      "transformed_reduced  = np.dot(E_inv_reduced,(np.dot(data_points,E_reduced)))\n",
      "#covariance matrix after reduction to first PC\n",
      "print transformed_reduced\n",
      "\n",
      "#I have no idea what the proportion of variance is taken to mean so I'm just going to assume the ratio of the traces.\n",
      "print transformed_reduced.trace()/transformed.trace()"
     ],
     "language": "python",
     "metadata": {},
     "outputs": [
      {
       "output_type": "stream",
       "stream": "stdout",
       "text": [
        "[[ 0.146 -0.354]\n",
        " [-0.354  0.854]]\n",
        "1.0\n"
       ]
      }
     ],
     "prompt_number": 95
    },
    {
     "cell_type": "code",
     "collapsed": false,
     "input": [
      "### CORRECTION ###\n",
      "#5\n",
      "\n",
      "# proportion of variance is given by the ratio of the sum of eigenvalues kept after truncation to the sum of all the eigenvalues.\n",
      "\n",
      "prop_var = eigenvalues.max()/sum(eigenvalues)\n"
     ],
     "language": "python",
     "metadata": {},
     "outputs": [],
     "prompt_number": 96
    },
    {
     "cell_type": "markdown",
     "metadata": {},
     "source": [
      "<font color=blue>Grade (+/- comments)</font>\n",
      "\n",
      "\\-2"
     ]
    },
    {
     "cell_type": "markdown",
     "metadata": {},
     "source": [
      "**Question 4 (10 points)**.\n",
      "\n",
      "Find the minimum of the following quadratic function on $\\mathbb{R}^2$ \n",
      "\n",
      "$$f(x) = x^TAx +b^Tx +c$$\n",
      "where\n",
      "$$A = \\left(\\begin{matrix}13&5\\\\5&7\\end{matrix}\\right), b = \\left(\\begin{matrix}1\\\\1\\end{matrix}\\right) \\textrm {and } c = 2$$\n",
      "\n",
      "Under the constraints:\n",
      "$$g(x) = 2x_1-5x_2=2 \\;\\;\\;\\;\\;\\; \\textrm{ and } \\;\\;\\;\\;\\;\\; h(x) = x_1+x_2=1$$\n",
      "\n",
      "1. Use a matrix decomposition method to find the minimum of the *unconstrained* problem without using `scipy.optimize` (Use library functions - no need to code your own). Note: for full credit you should exploit matrix structure. (3 points)\n",
      "2. Find the solution using constrained optimization with the `scipy.optimize` package. (3 points)\n",
      "2. Use Lagrange multipliers and solve the resulting set of equations directly without using `scipy.optimize`. (4 points)"
     ]
    },
    {
     "cell_type": "code",
     "collapsed": false,
     "input": [
      "import scipy.optimize as opt"
     ],
     "language": "python",
     "metadata": {},
     "outputs": [],
     "prompt_number": 97
    },
    {
     "cell_type": "code",
     "collapsed": false,
     "input": [
      "#matrix is positive definite and symmetric, so we can use cholesky decomposition. Then, we want to solve for Ax=b by using back substitution\n",
      "# with the cholesky decomposition\n",
      "A=np.array([[13,5],[5,7]])\n",
      "tri = la.cholesky(A)\n",
      "print tri"
     ],
     "language": "python",
     "metadata": {},
     "outputs": [
      {
       "output_type": "stream",
       "stream": "stdout",
       "text": [
        "[[ 3.606  1.387]\n",
        " [ 0.000  2.253]]\n"
       ]
      }
     ],
     "prompt_number": 98
    },
    {
     "cell_type": "code",
     "collapsed": false,
     "input": [
      "### CORRECTION ###\n",
      "#1\n",
      "\n",
      "#I'll assume the factor of 1/2 is implied like in class. Otherwise, the matrix entries would just be multiplied by 2.\n",
      "\n",
      "#matrix is positive definite and symmetric, so we can use cholesky decomposition. Then, we want to solve for Ax=b by using back substitution\n",
      "# with the cholesky decomposition\n",
      "A=np.array([[13,5],[5,7]])\n",
      "b=np.array([1,1])\n",
      "\n",
      "#cholesky decomp.\n",
      "upper_tri = la.cholesky(A)\n",
      "lower_tri = upper_tri.transpose()\n",
      "\n",
      "#back substitution - LL^Tx = b, Lu=b, L^Tx = u\n",
      "u=la.solve(upper_tri,b)\n",
      "x=la.solve(lower_tri,u)\n",
      "\n",
      "print x\n"
     ],
     "language": "python",
     "metadata": {},
     "outputs": [
      {
       "output_type": "stream",
       "stream": "stdout",
       "text": [
        "[ 0.030  0.179]\n"
       ]
      }
     ],
     "prompt_number": 99
    },
    {
     "cell_type": "markdown",
     "metadata": {},
     "source": [
      "<font color = 'green',size=4pt>I had hoped for the solution as well :)</font>"
     ]
    },
    {
     "cell_type": "code",
     "collapsed": false,
     "input": [
      "def f(x,A,b,c):\n",
      "    return np.dot(np.dot(x.transpose(),A),x)+np.dot(b.transpose(),x)+c\n",
      "A=np.array([[13,5],[5,7]])\n",
      "b=np.array([[1],[1]])\n",
      "c=2\n",
      "x0=np.array([[1],[2]])\n",
      "\n",
      "\n",
      "    \n",
      "results=opt.minimize(f,x0,args=(A,b,c),constraints=({'type':'eq','fun': lambda x: 2*x[0]-5*x[1]-2},{'type':'eq','fun':lambda x: x[0]+x[1]-1}))\n",
      "print results"
     ],
     "language": "python",
     "metadata": {},
     "outputs": [
      {
       "output_type": "stream",
       "stream": "stdout",
       "text": [
        "  status: 0\n",
        " success: True\n",
        "    njev: 2\n",
        "    nfev: 8\n",
        "     fun: array([ 16.000])\n",
        "       x: array([ 1.000,  0.000])\n",
        " message: 'Optimization terminated successfully.'\n",
        "     jac: array([ 27.000,  11.000,  0.000])\n",
        "     nit: 2\n"
       ]
      }
     ],
     "prompt_number": 100
    },
    {
     "cell_type": "code",
     "collapsed": false,
     "input": [
      "\n",
      "x1 = sy.Symbol('x1')\n",
      "x2=sy.Symbol('x2')\n",
      "l = sy.Symbol('l')\n",
      "g = 2*x1-5*x2-2\n",
      "h = x1+x2-1\n",
      "A = x1*(13*x1+5*x2)+x2*(5*x1+7*x2)+x1+x2+2\n",
      "gradient_A = [sy.diff(A,i) for i in [x1,x2]]\n",
      "gradient_g = [sy.diff(g,i) for i in [x1,x2]]\n",
      "eq1 = gradient_A[0]-l*gradient_g[0]\n",
      "eq2 = gradient_A[1]-l*gradient_g[1]\n",
      "eq3 = g\n",
      "eq4 = h\n",
      "# we have two equations via the gradient and two via the constraints:\n",
      "results = sy.solve([eq1,eq2,eq3,eq4],[x1,x2,l])\n",
      "\n",
      "# not sure why there's no solution. When I try this with only one constraint it works.\n",
      "#sy.solve([eq1,eq2,eq3],[x1,x2,l]) - works fine"
     ],
     "language": "python",
     "metadata": {},
     "outputs": [],
     "prompt_number": 101
    },
    {
     "cell_type": "code",
     "collapsed": false,
     "input": [
      "### CORRECTION ###\n",
      "#3\n",
      "x1 = sy.Symbol('x1')\n",
      "x2 = sy.Symbol('x2')\n",
      "\n",
      "lambda1 = sy.Symbol('lambda1')\n",
      "lambda2 = sy.Symbol('lambda2')\n",
      "\n",
      "g = 2*x1-5*x2-2\n",
      "h = x1+x2-1\n",
      "A = x1*(13*x1+5*x2)+x2*(5*x1+7*x2)+x1+x2+2\n",
      "gradient_A = [sy.diff(A,i) for i in [x1,x2]]\n",
      "gradient_g = [sy.diff(g,i) for i in [x1,x2]]\n",
      "\n",
      "\n",
      "eq1 = gradient_A[0]-lambda1*gradient_g[0]\n",
      "eq2 = gradient_A[1]-lambda2*gradient_g[1]\n",
      "eq3 = g\n",
      "eq4 = h\n",
      "\n",
      "\n",
      "# we have two equations via the gradient and two via the constraints:\n",
      "results = sy.solve([eq1,eq2,eq3,eq4],[x1,x2,lambda1,lambda2])\n",
      "print results"
     ],
     "language": "python",
     "metadata": {},
     "outputs": [
      {
       "output_type": "stream",
       "stream": "stdout",
       "text": [
        "{lambda2: -11/5, x1: 1, x2: 0, lambda1: 27/2}\n"
       ]
      }
     ],
     "prompt_number": 102
    },
    {
     "cell_type": "markdown",
     "metadata": {},
     "source": [
      "<font color = 'green',size=4pt>When there are two constraints, you need 2 multipliers.  With only 1, you obtained an inconsistent system, so - no solution. -2</font>"
     ]
    },
    {
     "cell_type": "markdown",
     "metadata": {},
     "source": [
      "**Question 5 (10 points)**. \n",
      "\n",
      "Consider the linear transformation $f(x)$ on $\\mathbb{R}^3$ that takes the standard basis $\\left\\{e_1,e_2,e_3\\right\\}$ to $\\left\\{v_1,v_2,v_3\\right\\}$ where\n",
      "\n",
      "$$v_1=\\left(\\begin{matrix}10\\\\-10\\\\16\\end{matrix}\\right), v_2=\\left(\\begin{matrix}2\\\\-5\\\\20\\end{matrix}\\right) \\textrm {and } v_3=\\left(\\begin{matrix}1\\\\-4\\\\13\\end{matrix}\\right)$$\n",
      "\n",
      "1. Write a matrix $A$ that represents the same linear transformaton. (2 points)\n",
      "\n",
      "2. Compute the rank of $A$ (use any method you like). (2 points)\n",
      "\n",
      "3. Find the eigenvalues and eigenvectors of $A$. (2 points)\n",
      "\n",
      "4. What is the matrix representation of $f$ with respect to the eigenbasis? (4 points)"
     ]
    },
    {
     "cell_type": "code",
     "collapsed": false,
     "input": [
      "A = np.array([[10,2,1],[-10,-5,-4],[1,-4,13]])"
     ],
     "language": "python",
     "metadata": {},
     "outputs": [],
     "prompt_number": 103
    },
    {
     "cell_type": "code",
     "collapsed": false,
     "input": [
      "### CORRECTION ###\n",
      "#1\n",
      "# Correction: fixed a typo where I accidentally read the last row as the last column in f.\n",
      "\n",
      "A = np.array([[10,2,1],[-10,-5,-4],[16,20,13]])"
     ],
     "language": "python",
     "metadata": {},
     "outputs": [],
     "prompt_number": 104
    },
    {
     "cell_type": "markdown",
     "metadata": {},
     "source": [
      "<font color = 'green',size=4pt>What happened with the last row?</font>"
     ]
    },
    {
     "cell_type": "code",
     "collapsed": false,
     "input": [
      "U,S,V=la.svd(A)\n",
      "# rank is 3 because matrix is non singular\n",
      "print len(S)\n"
     ],
     "language": "python",
     "metadata": {},
     "outputs": [
      {
       "output_type": "stream",
       "stream": "stdout",
       "text": [
        "3\n"
       ]
      }
     ],
     "prompt_number": 105
    },
    {
     "cell_type": "code",
     "collapsed": false,
     "input": [
      "eigenvalues,eigenvectors = la.eig(A)\n",
      "print eigenvalues,eigenvectors"
     ],
     "language": "python",
     "metadata": {},
     "outputs": [
      {
       "output_type": "stream",
       "stream": "stdout",
       "text": [
        "[ 9.+0.j  3.+0.j  6.+0.j] [[-0.577 -0.000 -0.120]\n",
        " [ 0.577  0.447 -0.241]\n",
        " [-0.577 -0.894  0.963]]\n"
       ]
      }
     ],
     "prompt_number": 106
    },
    {
     "cell_type": "code",
     "collapsed": false,
     "input": [
      "# matrix in eigenvector basis\n",
      "f_transformed = np.dot(la.inv(eigenvectors),np.dot(A,eigenvectors))\n",
      "print f_transformed"
     ],
     "language": "python",
     "metadata": {},
     "outputs": [
      {
       "output_type": "stream",
       "stream": "stdout",
       "text": [
        "[[ 9.000  0.000 -0.000]\n",
        " [ 0.000  3.000  0.000]\n",
        " [ 0.000 -0.000  6.000]]\n"
       ]
      }
     ],
     "prompt_number": 107
    },
    {
     "cell_type": "code",
     "collapsed": false,
     "input": [
      "### CORRECTION ###\n",
      "#4\n",
      "\n",
      "\n",
      "\n",
      "A_prime = np.dot(la.inv(eigenvectors),np.dot(A,eigenvectors))\n",
      "print A_prime\n",
      "print np.diag(eigenvalues)\n"
     ],
     "language": "python",
     "metadata": {},
     "outputs": [
      {
       "output_type": "stream",
       "stream": "stdout",
       "text": [
        "[[ 9.000  0.000 -0.000]\n",
        " [ 0.000  3.000  0.000]\n",
        " [ 0.000 -0.000  6.000]]\n",
        "[[ 9.+0.j  0.+0.j  0.+0.j]\n",
        " [ 0.+0.j  3.+0.j  0.+0.j]\n",
        " [ 0.+0.j  0.+0.j  6.+0.j]]\n"
       ]
      }
     ],
     "prompt_number": 108
    },
    {
     "cell_type": "markdown",
     "metadata": {},
     "source": [
      "<font color = 'green',size=4pt>diag(eigenvalues) -4</font>"
     ]
    },
    {
     "cell_type": "markdown",
     "metadata": {},
     "source": [
      "**Question 6 (10 points)**\n",
      "\n",
      "Given the the function $f(x) = \\frac{1}{2} x^TAx + b^Tx$ where\n",
      "\n",
      "\\begin{align}\n",
      "A = \\left(\\begin{matrix}13&5&-3\\\\5&11&7\\\\-3&7&20\\end{matrix}\\right) \n",
      ", \\ b = \\left(\\begin{matrix}1\\\\1\\\\1\\end{matrix}\\right),\n",
      "\\end{align}\n",
      "\n",
      "complete the following code to find the first 3 vector directions for a conjugate gradient *descent* algorithm.\n",
      "\n",
      "Hint: Recall from linear algebra that the projection of $v$ on $u$ is \n",
      "\n",
      "$$\n",
      "\\frac{v \\cdot u}{u \\cdot u}u\n",
      "$$\n",
      "and that $u$ is conjugate to $v$ with respect to $A$ if \n",
      "$$Av\\cdot u = 0$$\n",
      "\n",
      "Also, recall that the gradient at $x_k$ of the quadratic function $f$ is given by $Ax_k + b$ since\n",
      "\n",
      "\\begin{align}\n",
      "\\dfrac{\\partial (x^TAx)}{\\partial x} &= \\dfrac{\\partial (x^T)^T}{\\partial x}\\dfrac{\\partial (x^Ty)}{\\partial x} +  \\dfrac{\\partial y^T}{\\partial x} \\dfrac{\\partial (x^Ty)}{\\partial y}\n",
      "   & \\text{chain rule with $y=Ax$} \\\\\n",
      "&= y + \\dfrac{\\partial (x^TA^T)}{\\partial x} \\dfrac{\\partial (x^Ty)}{\\partial y} & \\text{using $\\dfrac{\\partial (x^Ty)}{\\partial x} = y$} \\\\\n",
      "&= y + A^T\\dfrac{\\partial (y^Tx)}{\\partial y} & \\text{using $x^Ty = y^Tx$} \\\\\n",
      "&= Ax + A^Tx \\\\\n",
      "&= (A+A^T)x \\\\\n",
      "&= 2Ax & \\text{if $A$ is symmetric}\n",
      "\\end{align}\n",
      "\n",
      "\n",
      "<p>\n",
      "<font color=red>There are two lines of code to complete: the correction term in the function next_p, and the initial value of p = p0 in the main body of code.</font></p>\n",
      "\n",
      "<p>\n",
      "<font color=red>We do not expect this algorithm to converge in $3$ steps, and it is very primitive compared to scipy's implementation.  Do not be alarmed if you try to match solutions and fail.</font></p>"
     ]
    },
    {
     "cell_type": "code",
     "collapsed": false,
     "input": [
      "### Correction\n",
      "def next_x (A,x,b,p):\n",
      "    \n",
      "    return x + ((np.dot(p,-b)).astype(float)/(np.dot(p,A.dot(p)).astype(float)))*p # returns x_{k+1} given x_k, p_k, A and b"
     ],
     "language": "python",
     "metadata": {},
     "outputs": [],
     "prompt_number": 109
    },
    {
     "cell_type": "code",
     "collapsed": false,
     "input": [
      "#there's a syntax error I can't fix so this is pretty much toast.\n",
      "\n",
      "\n",
      "def next_p(A,x,b,ps):\n",
      "    correction = np.zeros_like(x)\n",
      "    x=np.reshape(x,(3,1))\n",
      "    for i in range(len(ps)):\n",
      "        correction += np.dot((x,ps)*x         # Fill in this line (7 points)\n",
      "    \n",
      "    return -b - A.dot(x) - correction \n",
      "                                       \n",
      "# Complete the indicated line above with the correction term so that this function returns \n",
      "# the gradient at x minus the correction term that makes the new p conjugate to all the others"
     ],
     "language": "python",
     "metadata": {},
     "outputs": [
      {
       "ename": "SyntaxError",
       "evalue": "invalid syntax (<ipython-input-110-6f6c217f348b>, line 10)",
       "output_type": "pyerr",
       "traceback": [
        "\u001b[1;36m  File \u001b[1;32m\"<ipython-input-110-6f6c217f348b>\"\u001b[1;36m, line \u001b[1;32m10\u001b[0m\n\u001b[1;33m    return -b - A.dot(x) - correction\u001b[0m\n\u001b[1;37m         ^\u001b[0m\n\u001b[1;31mSyntaxError\u001b[0m\u001b[1;31m:\u001b[0m invalid syntax\n"
       ]
      }
     ],
     "prompt_number": 110
    },
    {
     "cell_type": "code",
     "collapsed": false,
     "input": [
      "### CORRECTION ###\n",
      "\n",
      "\n",
      "def next_p(A,x,b,ps):\n",
      "    correction = np.zeros_like(x)\n",
      "  \n",
      "   \n",
      "    x=np.reshape(x,(3,))\n",
      "    for i in range(len(ps)):\n",
      "       \n",
      "        correction +=((ps[i].dot(A)).dot(-A.dot(x)-b))/(ps[i].dot(A.dot(ps[i])))*ps[i] # Fill in this line (7 points)\n",
      "        \n",
      "    \n",
      "    return -b - A.dot(x) - correction \n",
      "                                       \n",
      "# Complete the indicated line above with the correction term so that this function returns \n",
      "# the gradient at x minus the correction term that makes the new p conjugate to all the others"
     ],
     "language": "python",
     "metadata": {},
     "outputs": []
    },
    {
     "cell_type": "code",
     "collapsed": false,
     "input": [
      "A = np.array([[13,5,-3],[5,11,7],[-3,7,20]])   # Value of matrix A\n",
      "b = np.array([1,1,1])                           # Value of b\n",
      "x0 = np.array([0,0,0])                          # Initial guess for xmin\n",
      "\n",
      "\n",
      "\n",
      "p0 =la.solve(A,b)                  # fill in p0 (3 points)\n",
      "\n",
      "x = x0 # initializes x for the for loop \n",
      "p = p0 # initializes p for the for loop\n",
      "ps = []  # start list to store the conjugate vectors\n",
      "ps.append(p0) # store first vector\n",
      "\n",
      "for i in range(2):\n",
      "    x = next_x(A,x,b,p)   # gets x_{k+1}\n",
      "    p = next_p(A,x,b,ps)  # computes p_{k+1}\n",
      "    ps.append(p)          # stores p_{k+1} in list\n",
      "\n",
      "ps  # prints the list of three vectors"
     ],
     "language": "python",
     "metadata": {},
     "outputs": []
    },
    {
     "cell_type": "code",
     "collapsed": false,
     "input": [
      "### CORRECTION ###\n",
      "\n",
      "A = np.array([[13.0,5.0,-3.0],[5.0,11.0,7.0],[-3.0,7.0,20.0]])   # Value of matrix A\n",
      "b = np.array([1.0,1.0,1.0])                           # Value of b\n",
      "x0 = np.array([0.0,0.0,0.0])                          # Initial guess for xmin\n",
      "\n",
      "\n",
      "#the first gradient vector should be taken as the gradient at x0. Since Ax0=[0,0,0], the gradient Ax-b becomes just -b.\n",
      "p0 =  -b                # fill in p0 (3 points)\n",
      "\n",
      "x = x0 # initializes x for the for loop \n",
      "p = p0 # initializes p for the for loop\n",
      "ps = []  # start list to store the conjugate vectors\n",
      "ps.append(p0) # store first vector\n",
      "\n",
      "for i in range(2):\n",
      "   \n",
      "    x = next_x(A,x,b,p)   # gets x_{k+1}\n",
      "    \n",
      "    p = next_p(A,x,b,ps)  # computes p_{k+1}\n",
      "    ps.append(p)          # stores p_{k+1} in list\n",
      "\n",
      "ps  # prints the list of three vectors\n"
     ],
     "language": "python",
     "metadata": {},
     "outputs": [
      {
       "metadata": {},
       "output_type": "pyout",
       "prompt_number": 111,
       "text": [
        "[array([-1.000, -1.000, -1.000]),\n",
        " array([-0.312,  0.075,  0.123]),\n",
        " array([-0.066,  0.118, -0.072])]"
       ]
      }
     ],
     "prompt_number": 111
    },
    {
     "cell_type": "markdown",
     "metadata": {},
     "source": [
      "<font color = 'green',size=4pt>-10</font>"
     ]
    },
    {
     "cell_type": "markdown",
     "metadata": {},
     "source": [
      "- <font color='blue', size=4pt>Total deductions for Q1-Q3 = -21 </font>\n",
      "- <font color = 'green',size=4pt>Total Points Deducted Q4-Q6: -16</font>"
     ]
    },
    {
     "cell_type": "code",
     "collapsed": false,
     "input": [
      "print (ps[0].dot(A.dot(ps[1])))\n",
      "print (ps[1].dot(A.dot(ps[2])))\n",
      "print (ps[2].dot(A.dot(ps[0])))"
     ],
     "language": "python",
     "metadata": {},
     "outputs": []
    }
   ],
   "metadata": {}
  }
 ]
}