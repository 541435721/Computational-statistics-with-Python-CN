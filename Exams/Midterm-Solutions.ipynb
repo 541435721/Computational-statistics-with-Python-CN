{
 "metadata": {
  "name": "",
  "signature": "sha256:d1eabd20b7499d6aaec92e9c68b7226a62926dc319c1597f930a85eedc83eaa6"
 },
 "nbformat": 3,
 "nbformat_minor": 0,
 "worksheets": [
  {
   "cells": [
    {
     "cell_type": "markdown",
     "metadata": {},
     "source": [
      "Instructions\n",
      "----\n",
      "\n",
      "This is a \"closed book\" examination - in particular, you are not to use any resources outside of this notebook (except possibly pen and paper). You may consult help from within the notebook using ? but not any online references. You should turn wireless off or set your laptop in \"Airplane\" mode prior to taking the exam. \n",
      "\n",
      "You have 2 hours to complete the exam.\n",
      "\n",
      "- <font color=red>Use a new cell for different parts of a question</font>"
     ]
    },
    {
     "cell_type": "code",
     "collapsed": false,
     "input": [
      "import os\n",
      "import sys\n",
      "import glob\n",
      "import matplotlib.pyplot as plt\n",
      "import numpy as np\n",
      "import pandas as pd\n",
      "import scipy.linalg as la\n",
      "%matplotlib inline\n",
      "plt.style.use('ggplot')"
     ],
     "language": "python",
     "metadata": {},
     "outputs": [],
     "prompt_number": 37
    },
    {
     "cell_type": "code",
     "collapsed": false,
     "input": [
      "np.set_printoptions(formatter={'float': '{: 0.3f}'.format})"
     ],
     "language": "python",
     "metadata": {},
     "outputs": [],
     "prompt_number": 2
    },
    {
     "cell_type": "code",
     "collapsed": false,
     "input": [
      "%load_ext rpy2.ipython"
     ],
     "language": "python",
     "metadata": {},
     "outputs": [],
     "prompt_number": 3
    },
    {
     "cell_type": "markdown",
     "metadata": {},
     "source": [
      "**Question 1 (10 points)**. \n",
      "\n",
      "Given the 2 matrices\n",
      "```\n",
      "A = np.array([[1,2,3],[4,5,6]])\n",
      "B = np.array([[1,2,3,4],[5,6,7,8],[9,10,11,12]])\n",
      "```\n",
      "\n",
      "Perfom matrix multiplication of `a` and `b` using the following methods:\n",
      "\n",
      "1. Using a `for` loop (4 points)\n",
      "2. Using numpy (2 points)\n",
      "3. Using R by creating an Rmagic cell (start the first line of a new cell with %%R) (4 points)"
     ]
    },
    {
     "cell_type": "code",
     "collapsed": false,
     "input": [
      "A = np.array([[1,2,3],[4,5,6]])\n",
      "B = np.array([[1,2,3,4],[5,6,7,8],[9,10,11,12]])"
     ],
     "language": "python",
     "metadata": {},
     "outputs": [],
     "prompt_number": 4
    },
    {
     "cell_type": "code",
     "collapsed": false,
     "input": [
      "C = np.zeros((2,4))\n",
      "for i in range(len(A)):\n",
      "    for j in range(len(B)):\n",
      "        for k in range(len(A[i])):\n",
      "            C[i,j] += A[i,k] * B[k,j]\n",
      "C"
     ],
     "language": "python",
     "metadata": {},
     "outputs": [
      {
       "metadata": {},
       "output_type": "pyout",
       "prompt_number": 5,
       "text": [
        "array([[ 38.000,  44.000,  50.000,  0.000],\n",
        "       [ 83.000,  98.000,  113.000,  0.000]])"
       ]
      }
     ],
     "prompt_number": 5
    },
    {
     "cell_type": "code",
     "collapsed": false,
     "input": [
      "A.dot(B)"
     ],
     "language": "python",
     "metadata": {},
     "outputs": [
      {
       "metadata": {},
       "output_type": "pyout",
       "prompt_number": 6,
       "text": [
        "array([[ 38,  44,  50,  56],\n",
        "       [ 83,  98, 113, 128]])"
       ]
      }
     ],
     "prompt_number": 6
    },
    {
     "cell_type": "code",
     "collapsed": false,
     "input": [
      "%%R -i A,B -o C\n",
      "\n",
      "C <- A %*% B\n",
      "print(C)"
     ],
     "language": "python",
     "metadata": {},
     "outputs": [
      {
       "metadata": {},
       "output_type": "display_data",
       "text": [
        "     [,1] [,2] [,3] [,4]\n",
        "[1,]   38   44   50   56\n",
        "[2,]   83   98  113  128\n"
       ]
      }
     ],
     "prompt_number": 7
    },
    {
     "cell_type": "markdown",
     "metadata": {},
     "source": [
      "**Question 2 (10 points - 2 points each)**. \n",
      "\n",
      "1. Use Unix commands to display ONLY lines 21-30 of the `iris.csv` data set. (Hint: use cat, head, tail and piping)\n",
      "2. Using the `open` function and a `for` loop, print only the lines where the Name field is `Iris-versicolor`\n",
      "3. Read the `iris.csv` data set into a Pandas DataFrame.\n",
      "4. Create a new DataFrame showing the mean `SepalLength`, `SepalWidth`, `PetalLength` and `PetalWidth` for the 3 different types of irises.\n",
      "5. Create a new column in the DataFrame named `PetalLengthSquared` that is the square of `PetalLength`."
     ]
    },
    {
     "cell_type": "code",
     "collapsed": false,
     "input": [
      "! head iris.csv"
     ],
     "language": "python",
     "metadata": {},
     "outputs": [
      {
       "output_type": "stream",
       "stream": "stdout",
       "text": [
        "SepalLength,SepalWidth,PetalLength,PetalWidth,Name\r\n",
        "5.1,3.5,1.4,0.2,Iris-setosa\r\n",
        "4.9,3.0,1.4,0.2,Iris-setosa\r\n",
        "4.7,3.2,1.3,0.2,Iris-setosa\r\n",
        "4.6,3.1,1.5,0.2,Iris-setosa\r\n",
        "5.0,3.6,1.4,0.2,Iris-setosa\r\n",
        "5.4,3.9,1.7,0.4,Iris-setosa\r\n",
        "4.6,3.4,1.4,0.3,Iris-setosa\r\n",
        "5.0,3.4,1.5,0.2,Iris-setosa\r\n",
        "4.4,2.9,1.4,0.2,Iris-setosa\r\n"
       ]
      }
     ],
     "prompt_number": 8
    },
    {
     "cell_type": "code",
     "collapsed": false,
     "input": [
      "! cat iris.csv | head -n 30 | tail -n 10 "
     ],
     "language": "python",
     "metadata": {},
     "outputs": [
      {
       "output_type": "stream",
       "stream": "stdout",
       "text": [
        "5.1,3.8,1.5,0.3,Iris-setosa\r\n",
        "5.4,3.4,1.7,0.2,Iris-setosa\r\n",
        "5.1,3.7,1.5,0.4,Iris-setosa\r\n",
        "4.6,3.6,1.0,0.2,Iris-setosa\r\n",
        "5.1,3.3,1.7,0.5,Iris-setosa\r\n",
        "4.8,3.4,1.9,0.2,Iris-setosa\r\n",
        "5.0,3.0,1.6,0.2,Iris-setosa\r\n",
        "5.0,3.4,1.6,0.4,Iris-setosa\r\n",
        "5.2,3.5,1.5,0.2,Iris-setosa\r\n",
        "5.2,3.4,1.4,0.2,Iris-setosa\r\n"
       ]
      }
     ],
     "prompt_number": 9
    },
    {
     "cell_type": "code",
     "collapsed": false,
     "input": [
      "for line in open('iris.csv'):\n",
      "    sl, sw, pl, pw, name = line.strip().split(',')\n",
      "    if name == 'Iris-versicolor':\n",
      "        print line,"
     ],
     "language": "python",
     "metadata": {},
     "outputs": [
      {
       "output_type": "stream",
       "stream": "stdout",
       "text": [
        "7.0,3.2,4.7,1.4,Iris-versicolor\n",
        "6.4,3.2,4.5,1.5,Iris-versicolor\n",
        "6.9,3.1,4.9,1.5,Iris-versicolor\n",
        "5.5,2.3,4.0,1.3,Iris-versicolor\n",
        "6.5,2.8,4.6,1.5,Iris-versicolor\n",
        "5.7,2.8,4.5,1.3,Iris-versicolor\n",
        "6.3,3.3,4.7,1.6,Iris-versicolor\n",
        "4.9,2.4,3.3,1.0,Iris-versicolor\n",
        "6.6,2.9,4.6,1.3,Iris-versicolor\n",
        "5.2,2.7,3.9,1.4,Iris-versicolor\n",
        "5.0,2.0,3.5,1.0,Iris-versicolor\n",
        "5.9,3.0,4.2,1.5,Iris-versicolor\n",
        "6.0,2.2,4.0,1.0,Iris-versicolor\n",
        "6.1,2.9,4.7,1.4,Iris-versicolor\n",
        "5.6,2.9,3.6,1.3,Iris-versicolor\n",
        "6.7,3.1,4.4,1.4,Iris-versicolor\n",
        "5.6,3.0,4.5,1.5,Iris-versicolor\n",
        "5.8,2.7,4.1,1.0,Iris-versicolor\n",
        "6.2,2.2,4.5,1.5,Iris-versicolor\n",
        "5.6,2.5,3.9,1.1,Iris-versicolor\n",
        "5.9,3.2,4.8,1.8,Iris-versicolor\n",
        "6.1,2.8,4.0,1.3,Iris-versicolor\n",
        "6.3,2.5,4.9,1.5,Iris-versicolor\n",
        "6.1,2.8,4.7,1.2,Iris-versicolor\n",
        "6.4,2.9,4.3,1.3,Iris-versicolor\n",
        "6.6,3.0,4.4,1.4,Iris-versicolor\n",
        "6.8,2.8,4.8,1.4,Iris-versicolor\n",
        "6.7,3.0,5.0,1.7,Iris-versicolor\n",
        "6.0,2.9,4.5,1.5,Iris-versicolor\n",
        "5.7,2.6,3.5,1.0,Iris-versicolor\n",
        "5.5,2.4,3.8,1.1,Iris-versicolor\n",
        "5.5,2.4,3.7,1.0,Iris-versicolor\n",
        "5.8,2.7,3.9,1.2,Iris-versicolor\n",
        "6.0,2.7,5.1,1.6,Iris-versicolor\n",
        "5.4,3.0,4.5,1.5,Iris-versicolor\n",
        "6.0,3.4,4.5,1.6,Iris-versicolor\n",
        "6.7,3.1,4.7,1.5,Iris-versicolor\n",
        "6.3,2.3,4.4,1.3,Iris-versicolor\n",
        "5.6,3.0,4.1,1.3,Iris-versicolor\n",
        "5.5,2.5,4.0,1.3,Iris-versicolor\n",
        "5.5,2.6,4.4,1.2,Iris-versicolor\n",
        "6.1,3.0,4.6,1.4,Iris-versicolor\n",
        "5.8,2.6,4.0,1.2,Iris-versicolor\n",
        "5.0,2.3,3.3,1.0,Iris-versicolor\n",
        "5.6,2.7,4.2,1.3,Iris-versicolor\n",
        "5.7,3.0,4.2,1.2,Iris-versicolor\n",
        "5.7,2.9,4.2,1.3,Iris-versicolor\n",
        "6.2,2.9,4.3,1.3,Iris-versicolor\n",
        "5.1,2.5,3.0,1.1,Iris-versicolor\n",
        "5.7,2.8,4.1,1.3,Iris-versicolor\n"
       ]
      }
     ],
     "prompt_number": 11
    },
    {
     "cell_type": "code",
     "collapsed": false,
     "input": [
      "df = pd.read_csv('iris.csv')\n",
      "df.head()"
     ],
     "language": "python",
     "metadata": {},
     "outputs": [
      {
       "html": [
        "<div style=\"max-height:1000px;max-width:1500px;overflow:auto;\">\n",
        "<table border=\"1\" class=\"dataframe\">\n",
        "  <thead>\n",
        "    <tr style=\"text-align: right;\">\n",
        "      <th></th>\n",
        "      <th>SepalLength</th>\n",
        "      <th>SepalWidth</th>\n",
        "      <th>PetalLength</th>\n",
        "      <th>PetalWidth</th>\n",
        "      <th>Name</th>\n",
        "    </tr>\n",
        "  </thead>\n",
        "  <tbody>\n",
        "    <tr>\n",
        "      <th>0</th>\n",
        "      <td> 5.1</td>\n",
        "      <td> 3.5</td>\n",
        "      <td> 1.4</td>\n",
        "      <td> 0.2</td>\n",
        "      <td> Iris-setosa</td>\n",
        "    </tr>\n",
        "    <tr>\n",
        "      <th>1</th>\n",
        "      <td> 4.9</td>\n",
        "      <td> 3.0</td>\n",
        "      <td> 1.4</td>\n",
        "      <td> 0.2</td>\n",
        "      <td> Iris-setosa</td>\n",
        "    </tr>\n",
        "    <tr>\n",
        "      <th>2</th>\n",
        "      <td> 4.7</td>\n",
        "      <td> 3.2</td>\n",
        "      <td> 1.3</td>\n",
        "      <td> 0.2</td>\n",
        "      <td> Iris-setosa</td>\n",
        "    </tr>\n",
        "    <tr>\n",
        "      <th>3</th>\n",
        "      <td> 4.6</td>\n",
        "      <td> 3.1</td>\n",
        "      <td> 1.5</td>\n",
        "      <td> 0.2</td>\n",
        "      <td> Iris-setosa</td>\n",
        "    </tr>\n",
        "    <tr>\n",
        "      <th>4</th>\n",
        "      <td> 5.0</td>\n",
        "      <td> 3.6</td>\n",
        "      <td> 1.4</td>\n",
        "      <td> 0.2</td>\n",
        "      <td> Iris-setosa</td>\n",
        "    </tr>\n",
        "  </tbody>\n",
        "</table>\n",
        "</div>"
       ],
       "metadata": {},
       "output_type": "pyout",
       "prompt_number": 12,
       "text": [
        "   SepalLength  SepalWidth  PetalLength  PetalWidth         Name\n",
        "0          5.1         3.5          1.4         0.2  Iris-setosa\n",
        "1          4.9         3.0          1.4         0.2  Iris-setosa\n",
        "2          4.7         3.2          1.3         0.2  Iris-setosa\n",
        "3          4.6         3.1          1.5         0.2  Iris-setosa\n",
        "4          5.0         3.6          1.4         0.2  Iris-setosa"
       ]
      }
     ],
     "prompt_number": 12
    },
    {
     "cell_type": "code",
     "collapsed": false,
     "input": [
      "df.groupby(df.Name).mean()"
     ],
     "language": "python",
     "metadata": {},
     "outputs": [
      {
       "html": [
        "<div style=\"max-height:1000px;max-width:1500px;overflow:auto;\">\n",
        "<table border=\"1\" class=\"dataframe\">\n",
        "  <thead>\n",
        "    <tr style=\"text-align: right;\">\n",
        "      <th></th>\n",
        "      <th>SepalLength</th>\n",
        "      <th>SepalWidth</th>\n",
        "      <th>PetalLength</th>\n",
        "      <th>PetalWidth</th>\n",
        "      <th>PetalLengthSquared</th>\n",
        "    </tr>\n",
        "    <tr>\n",
        "      <th>Name</th>\n",
        "      <th></th>\n",
        "      <th></th>\n",
        "      <th></th>\n",
        "      <th></th>\n",
        "      <th></th>\n",
        "    </tr>\n",
        "  </thead>\n",
        "  <tbody>\n",
        "    <tr>\n",
        "      <th>Iris-setosa</th>\n",
        "      <td> 5.006</td>\n",
        "      <td> 3.418</td>\n",
        "      <td> 1.464</td>\n",
        "      <td> 0.244</td>\n",
        "      <td>  2.1728</td>\n",
        "    </tr>\n",
        "    <tr>\n",
        "      <th>Iris-versicolor</th>\n",
        "      <td> 5.936</td>\n",
        "      <td> 2.770</td>\n",
        "      <td> 4.260</td>\n",
        "      <td> 1.326</td>\n",
        "      <td> 18.3640</td>\n",
        "    </tr>\n",
        "    <tr>\n",
        "      <th>Iris-virginica</th>\n",
        "      <td> 6.588</td>\n",
        "      <td> 2.974</td>\n",
        "      <td> 5.552</td>\n",
        "      <td> 2.026</td>\n",
        "      <td> 31.1232</td>\n",
        "    </tr>\n",
        "  </tbody>\n",
        "</table>\n",
        "</div>"
       ],
       "metadata": {},
       "output_type": "pyout",
       "prompt_number": 15,
       "text": [
        "                 SepalLength  SepalWidth  PetalLength  PetalWidth  \\\n",
        "Name                                                                \n",
        "Iris-setosa            5.006       3.418        1.464       0.244   \n",
        "Iris-versicolor        5.936       2.770        4.260       1.326   \n",
        "Iris-virginica         6.588       2.974        5.552       2.026   \n",
        "\n",
        "                 PetalLengthSquared  \n",
        "Name                                 \n",
        "Iris-setosa                  2.1728  \n",
        "Iris-versicolor             18.3640  \n",
        "Iris-virginica              31.1232  "
       ]
      }
     ],
     "prompt_number": 15
    },
    {
     "cell_type": "code",
     "collapsed": false,
     "input": [
      "df['PetalLengthSquared'] = df['PetalLength']**2\n",
      "df.head()"
     ],
     "language": "python",
     "metadata": {},
     "outputs": [
      {
       "html": [
        "<div style=\"max-height:1000px;max-width:1500px;overflow:auto;\">\n",
        "<table border=\"1\" class=\"dataframe\">\n",
        "  <thead>\n",
        "    <tr style=\"text-align: right;\">\n",
        "      <th></th>\n",
        "      <th>SepalLength</th>\n",
        "      <th>SepalWidth</th>\n",
        "      <th>PetalLength</th>\n",
        "      <th>PetalWidth</th>\n",
        "      <th>Name</th>\n",
        "      <th>PetalLengthSquared</th>\n",
        "    </tr>\n",
        "  </thead>\n",
        "  <tbody>\n",
        "    <tr>\n",
        "      <th>0</th>\n",
        "      <td> 5.1</td>\n",
        "      <td> 3.5</td>\n",
        "      <td> 1.4</td>\n",
        "      <td> 0.2</td>\n",
        "      <td> Iris-setosa</td>\n",
        "      <td> 1.96</td>\n",
        "    </tr>\n",
        "    <tr>\n",
        "      <th>1</th>\n",
        "      <td> 4.9</td>\n",
        "      <td> 3.0</td>\n",
        "      <td> 1.4</td>\n",
        "      <td> 0.2</td>\n",
        "      <td> Iris-setosa</td>\n",
        "      <td> 1.96</td>\n",
        "    </tr>\n",
        "    <tr>\n",
        "      <th>2</th>\n",
        "      <td> 4.7</td>\n",
        "      <td> 3.2</td>\n",
        "      <td> 1.3</td>\n",
        "      <td> 0.2</td>\n",
        "      <td> Iris-setosa</td>\n",
        "      <td> 1.69</td>\n",
        "    </tr>\n",
        "    <tr>\n",
        "      <th>3</th>\n",
        "      <td> 4.6</td>\n",
        "      <td> 3.1</td>\n",
        "      <td> 1.5</td>\n",
        "      <td> 0.2</td>\n",
        "      <td> Iris-setosa</td>\n",
        "      <td> 2.25</td>\n",
        "    </tr>\n",
        "    <tr>\n",
        "      <th>4</th>\n",
        "      <td> 5.0</td>\n",
        "      <td> 3.6</td>\n",
        "      <td> 1.4</td>\n",
        "      <td> 0.2</td>\n",
        "      <td> Iris-setosa</td>\n",
        "      <td> 1.96</td>\n",
        "    </tr>\n",
        "  </tbody>\n",
        "</table>\n",
        "</div>"
       ],
       "metadata": {},
       "output_type": "pyout",
       "prompt_number": 14,
       "text": [
        "   SepalLength  SepalWidth  PetalLength  PetalWidth         Name  \\\n",
        "0          5.1         3.5          1.4         0.2  Iris-setosa   \n",
        "1          4.9         3.0          1.4         0.2  Iris-setosa   \n",
        "2          4.7         3.2          1.3         0.2  Iris-setosa   \n",
        "3          4.6         3.1          1.5         0.2  Iris-setosa   \n",
        "4          5.0         3.6          1.4         0.2  Iris-setosa   \n",
        "\n",
        "   PetalLengthSquared  \n",
        "0                1.96  \n",
        "1                1.96  \n",
        "2                1.69  \n",
        "3                2.25  \n",
        "4                1.96  "
       ]
      }
     ],
     "prompt_number": 14
    },
    {
     "cell_type": "markdown",
     "metadata": {},
     "source": [
      "**Question 3 (10 points)**.\n",
      "\n",
      "5. Arrange the following complexity classes from least to most complex:\n",
      "    - O(n)\n",
      "    - O(2^n)\n",
      "    - O(n^2)\n",
      "    - O(n log(n))\n",
      "    - (O(n!)\n",
      "1. What is the algorithmic complexity (in Big O notation) of \"vanilla\" matrix multiplication?\n",
      "2. What do you expect the average case algorithmic complexity of the following algorithm to be?\n",
      "```python\n",
      "def recursive_sort(xs):\n",
      "    if xs == []:\n",
      "        return xs\n",
      "    else:\n",
      "        pivot = xs[0]\n",
      "        lower = [x for x in xs[1:] if x < pivot]\n",
      "        higher = [x for x in xs[1:] if x >= pivot]\n",
      "        return recursive_sort(lower) + [pivot] + recursive_sort(higher)\n",
      "```\n",
      "3. What do you expect the worst case algorithmic complexity of the `recursive_sort` algorithm to be?\n",
      "4. Give an example of an input list or array `x` that will result in worst case behavior."
     ]
    },
    {
     "cell_type": "markdown",
     "metadata": {},
     "source": [
      "- O(n log(n))\n",
      "- O(n)\n",
      "- O(n^2)\n",
      "- O(2^n)\n",
      "- O(n!)"
     ]
    },
    {
     "cell_type": "heading",
     "level": 3,
     "metadata": {},
     "source": [
      "O(n^3)"
     ]
    },
    {
     "cell_type": "markdown",
     "metadata": {},
     "source": [
      "O(n log(n))"
     ]
    },
    {
     "cell_type": "markdown",
     "metadata": {},
     "source": [
      "O(n^2)"
     ]
    },
    {
     "cell_type": "markdown",
     "metadata": {},
     "source": [
      "An already sorted llst."
     ]
    },
    {
     "cell_type": "markdown",
     "metadata": {},
     "source": [
      "**Question 4 (20 points)**. \n",
      "\n",
      "Consider the following matrix with dimensions (4,6).\n",
      "```python\n",
      "np.array([[5, 5, 2, 6, 2, 0],\n",
      "          [8, 6, 7, 8, 9, 7],\n",
      "          [9, 5, 0, 4, 6, 8],\n",
      "          [8, 7, 9, 3, 6, 1]])\n",
      "```\n",
      "1. Normalize the matrix so that every column has zero mean and unit standard deviation using broadcasting.\n",
      "2. Find the (Pearson) correlation distance between all possible pairs of *column* vectors in the normalized matrix using only numpy functions or methods.\n",
      "3. What is the covaraince matrix $M$ of $A$ if $A$ is treated as a collection of *row vectors*? \n",
      "4. What is the projection matrix that will take the covariance matrix $M$ into the space spanned by the eigenvectors of $M$?\n",
      "5. What is the rank 2 approximation of the covariance matrix (i.e. reconstruct the covariance matrix using only the 2 largest singular (or eigenvalue) values)."
     ]
    },
    {
     "cell_type": "code",
     "collapsed": false,
     "input": [
      "A = np.array([[5, 5, 2, 6, 2, 0],\n",
      "          [8, 6, 7, 8, 9, 7],\n",
      "          [9, 5, 0, 4, 6, 8],\n",
      "          [8, 7, 9, 3, 6, 1]])"
     ],
     "language": "python",
     "metadata": {},
     "outputs": [],
     "prompt_number": 16
    },
    {
     "cell_type": "code",
     "collapsed": false,
     "input": [
      "A1 = (A - A.mean(0))/A.std(0)\n",
      "print A1.mean(0)\n",
      "print A1.std(0)"
     ],
     "language": "python",
     "metadata": {},
     "outputs": [
      {
       "output_type": "stream",
       "stream": "stdout",
       "text": [
        "[-0.000 -0.000  0.000  0.000  0.000  0.000]\n",
        "[ 1.000  1.000  1.000  1.000  1.000  1.000]\n"
       ]
      }
     ],
     "prompt_number": 18
    },
    {
     "cell_type": "code",
     "collapsed": false,
     "input": [
      "np.corrcoef(A.T)"
     ],
     "language": "python",
     "metadata": {},
     "outputs": [
      {
       "metadata": {},
       "output_type": "pyout",
       "prompt_number": 31,
       "text": [
        "array([[ 1.000,  0.302,  0.137, -0.304,  0.771,  0.754],\n",
        "       [ 0.302,  1.000,  0.953, -0.275,  0.455, -0.256],\n",
        "       [ 0.137,  0.953,  1.000,  0.018,  0.483, -0.272],\n",
        "       [-0.304, -0.275,  0.018,  1.000,  0.275,  0.258],\n",
        "       [ 0.771,  0.455,  0.483,  0.275,  1.000,  0.711],\n",
        "       [ 0.754, -0.256, -0.272,  0.258,  0.711,  1.000]])"
       ]
      }
     ],
     "prompt_number": 31
    },
    {
     "cell_type": "code",
     "collapsed": false,
     "input": [
      "M = np.cov(A)\n",
      "print \"Covarince matrix\"\n",
      "print M\n",
      "e, V = la.eig(M)\n",
      "P = V.T\n",
      "print \n",
      "print \"Projection matrix from B to B'\"\n",
      "P.dot(M)"
     ],
     "language": "python",
     "metadata": {},
     "outputs": [
      {
       "output_type": "stream",
       "stream": "stdout",
       "text": [
        "Covarince matrix\n",
        "[[ 5.467  0.000 -0.133  1.933]\n",
        " [ 0.000  1.100  0.800 -0.200]\n",
        " [-0.133  0.800  10.267 -3.667]\n",
        " [ 1.933 -0.200 -3.667  9.467]]\n",
        "\n",
        "Projection matrix from B to B'\n"
       ]
      },
      {
       "metadata": {},
       "output_type": "pyout",
       "prompt_number": 50,
       "text": [
        "array([[ 2.321, -0.768, -9.885,  9.363],\n",
        "       [ 4.020,  0.470,  4.499,  3.791],\n",
        "       [ 3.478, -0.174, -1.244, -2.190],\n",
        "       [-0.005, -1.024,  0.096,  0.019]])"
       ]
      }
     ],
     "prompt_number": 50
    },
    {
     "cell_type": "code",
     "collapsed": false,
     "input": [
      "e[2:] = 0\n",
      "np.real_if_close(P.T.dot(np.diag(e).dot(P)))"
     ],
     "language": "python",
     "metadata": {},
     "outputs": [
      {
       "metadata": {},
       "output_type": "pyout",
       "prompt_number": 48,
       "text": [
        "array([[ 2.652,  0.136,  0.874,  3.705],\n",
        "       [ 0.136,  0.074,  0.845, -0.270],\n",
        "       [ 0.874,  0.845,  9.898, -4.302],\n",
        "       [ 3.705, -0.270, -4.302,  8.351]])"
       ]
      }
     ],
     "prompt_number": 48
    },
    {
     "cell_type": "markdown",
     "metadata": {},
     "source": [
      "**Question 5 (10 points)**. \n",
      "\n",
      "Find the minimum of the following quadratic function on $\\mathbb{R}^4$ \n",
      "\n",
      "$$f(x) = x^TAx +b^Tx +c$$\n",
      "where\n",
      "$$A = \\left(\\begin{matrix}13&5&0&0\\\\5&7&0&0\\\\0&0&20&-7\\\\0&0&-7&12\\end{matrix}\\right), b = \\left(\\begin{matrix}1\\\\1\\\\1\\\\1\\end{matrix}\\right) \\textrm {and } c = 2$$\n",
      "\n",
      "and $x$ is a column vector.\n",
      "\n",
      "a. Using scipy.optimize \n",
      "\n",
      "b. Using a matrix decomposition method (library functions - no need to code your own).  Note: for full credit you should exploit matrix structure.\n",
      "\n",
      "c. Find the minimum under the constraint $||x||^2 = 1$ (i.e. on the unit sphere in $\\mathbb{R}^4$).\n",
      "\n",
      "**Note: Do not be overly concerned if your values for $x$ at the minimum do not match exactly **\n"
     ]
    },
    {
     "cell_type": "code",
     "collapsed": false,
     "input": [
      "import scipy.optimize as opt\n",
      "\n",
      "def func(x, A, b, c):\n",
      "    return x.T.dot(A.dot(x)) + b.T.dot(x) + c"
     ],
     "language": "python",
     "metadata": {},
     "outputs": [],
     "prompt_number": 99
    },
    {
     "cell_type": "code",
     "collapsed": false,
     "input": [
      "A = np.reshape([13,5,0,0,5,7,0,0,0,0,20,-7,0,0,-7,12], (4,4))\n",
      "b = np.ones((4,1))\n",
      "c = 2\n",
      "x = np.zeros((4,1))\n",
      "x.T.dot(A.dot(x)) + b.T.dot(x) + c"
     ],
     "language": "python",
     "metadata": {},
     "outputs": [
      {
       "metadata": {},
       "output_type": "pyout",
       "prompt_number": 95,
       "text": [
        "array([[ 2.000]])"
       ]
      }
     ],
     "prompt_number": 95
    },
    {
     "cell_type": "code",
     "collapsed": false,
     "input": [
      "x0 = np.zeros((4,1))\n",
      "sol = opt.minimize(func, x0, args=(A, b, c))\n",
      "sol"
     ],
     "language": "python",
     "metadata": {},
     "outputs": [
      {
       "metadata": {},
       "output_type": "pyout",
       "prompt_number": 101,
       "text": [
        "   status: 0\n",
        "  success: True\n",
        "     njev: 9\n",
        "     nfev: 54\n",
        " hess_inv: array([[ 0.221, -0.404,  0.074,  0.080],\n",
        "       [-0.404,  0.893, -0.161, -0.173],\n",
        "       [ 0.074, -0.161,  0.064,  0.053],\n",
        "       [ 0.080, -0.173,  0.053,  0.090]])\n",
        "      fun: 1.901911788037445\n",
        "        x: array([-0.015, -0.061, -0.050, -0.071])\n",
        "  message: 'Optimization terminated successfully.'\n",
        "      jac: array([-0.000, -0.000,  0.000,  0.000])"
       ]
      }
     ],
     "prompt_number": 101
    },
    {
     "cell_type": "code",
     "collapsed": false,
     "input": [
      "la.solve(A, -b/2)"
     ],
     "language": "python",
     "metadata": {},
     "outputs": [
      {
       "metadata": {},
       "output_type": "pyout",
       "prompt_number": 111,
       "text": [
        "array([[-0.015],\n",
        "       [-0.061],\n",
        "       [-0.050],\n",
        "       [-0.071]])"
       ]
      }
     ],
     "prompt_number": 111
    },
    {
     "cell_type": "code",
     "collapsed": false,
     "input": [
      "# Alternative more efficient solution\n",
      "la.cho_solve(la.cho_factor(A), -b/2)"
     ],
     "language": "python",
     "metadata": {},
     "outputs": [
      {
       "metadata": {},
       "output_type": "pyout",
       "prompt_number": 117,
       "text": [
        "array([[-0.015],\n",
        "       [-0.061],\n",
        "       [-0.050],\n",
        "       [-0.071]])"
       ]
      }
     ],
     "prompt_number": 117
    },
    {
     "cell_type": "code",
     "collapsed": false,
     "input": [
      "cons = {'type': 'eq', 'fun': lambda x: la.norm(x) - 1}\n",
      "opt.minimize(f, x0, args=(A, b, c), constraints=cons)"
     ],
     "language": "python",
     "metadata": {},
     "outputs": [
      {
       "metadata": {},
       "output_type": "pyout",
       "prompt_number": 120,
       "text": [
        "  status: 0\n",
        " success: True\n",
        "    njev: 30\n",
        "    nfev: 231\n",
        "     fun: array([ 6.376])\n",
        "       x: array([-0.531,  0.831, -0.091, -0.142])\n",
        " message: 'Optimization terminated successfully.'\n",
        "     jac: array([-4.491,  7.323, -0.672, -1.119,  0.000])\n",
        "     nit: 30"
       ]
      }
     ],
     "prompt_number": 120
    },
    {
     "cell_type": "markdown",
     "metadata": {},
     "source": [
      "**Question 6 (10 points)**.\n",
      "\n",
      "Find the minimum of the following quadratic function on $\\mathbb{R}^2$ \n",
      "\n",
      "$$f(x) = x^TAx +b^Tx +c$$\n",
      "where\n",
      "$$A = \\left(\\begin{matrix}13&5\\\\5&7\\end{matrix}\\right), b = \\left(\\begin{matrix}1\\\\1\\end{matrix}\\right) \\textrm {and } c = 2$$\n",
      "\n",
      "Under the constraints:\n",
      "$$g(x) = 2x_1-5x_2=2 \\;\\;\\;\\;\\;\\; \\textrm{ and } \\;\\;\\;\\;\\;\\; h(x) = x_1+x_2=1$$\n",
      "using Lagrange multipliers and `scipy.optimize`.\n",
      "\n",
      "**Note: Using Lagrange multipliers should convert this to an unconstrained optimization!**"
     ]
    },
    {
     "cell_type": "code",
     "collapsed": false,
     "input": [
      "A = np.reshape([13,5,5,7], (2,2))\n",
      "b = np.ones((2,1))\n",
      "c = 2\n",
      "\n",
      "print A, b, c\n",
      "\n",
      "def func(x, A, b, c):\n",
      "    return x.T.dot(A.dot(x)) + b.T.dot(x) + c\n",
      "\n",
      "cons = [{'type': 'eq', 'fun': lambda x: 2*x[0] - 5*x[1] - 2},\n",
      "        {'type': 'eq', 'fun': lambda x: x[0] + x[1] - 1}]\n",
      "\n",
      "x0 = np.zeros((2,1))\n",
      "opt.minimize(func, x0, A, b, c, constraints=cons)"
     ],
     "language": "python",
     "metadata": {},
     "outputs": [
      {
       "output_type": "stream",
       "stream": "stdout",
       "text": [
        "[[13  5]\n",
        " [ 5  7]] [[ 1.000]\n",
        " [ 1.000]] 2\n"
       ]
      },
      {
       "ename": "AttributeError",
       "evalue": "'numpy.ndarray' object has no attribute 'lower'",
       "output_type": "pyerr",
       "traceback": [
        "\u001b[0;31m---------------------------------------------------------------------------\u001b[0m\n\u001b[0;31mAttributeError\u001b[0m                            Traceback (most recent call last)",
        "\u001b[0;32m<ipython-input-126-eb5e62bfa14b>\u001b[0m in \u001b[0;36m<module>\u001b[0;34m()\u001b[0m\n\u001b[1;32m     12\u001b[0m \u001b[0;34m\u001b[0m\u001b[0m\n\u001b[1;32m     13\u001b[0m \u001b[0mx0\u001b[0m \u001b[0;34m=\u001b[0m \u001b[0mnp\u001b[0m\u001b[0;34m.\u001b[0m\u001b[0mzeros\u001b[0m\u001b[0;34m(\u001b[0m\u001b[0;34m(\u001b[0m\u001b[0;36m2\u001b[0m\u001b[0;34m,\u001b[0m\u001b[0;36m1\u001b[0m\u001b[0;34m)\u001b[0m\u001b[0;34m)\u001b[0m\u001b[0;34m\u001b[0m\u001b[0m\n\u001b[0;32m---> 14\u001b[0;31m \u001b[0mopt\u001b[0m\u001b[0;34m.\u001b[0m\u001b[0mminimize\u001b[0m\u001b[0;34m(\u001b[0m\u001b[0mfunc\u001b[0m\u001b[0;34m,\u001b[0m \u001b[0mx0\u001b[0m\u001b[0;34m,\u001b[0m \u001b[0mA\u001b[0m\u001b[0;34m,\u001b[0m \u001b[0mb\u001b[0m\u001b[0;34m,\u001b[0m \u001b[0mc\u001b[0m\u001b[0;34m,\u001b[0m \u001b[0mconstraints\u001b[0m\u001b[0;34m=\u001b[0m\u001b[0mcons\u001b[0m\u001b[0;34m)\u001b[0m\u001b[0;34m\u001b[0m\u001b[0m\n\u001b[0m",
        "\u001b[0;32m/Users/cliburn/anaconda/lib/python2.7/site-packages/scipy/optimize/_minimize.pyc\u001b[0m in \u001b[0;36mminimize\u001b[0;34m(fun, x0, args, method, jac, hess, hessp, bounds, constraints, tol, callback, options)\u001b[0m\n\u001b[1;32m    341\u001b[0m         \u001b[0mmeth\u001b[0m \u001b[0;34m=\u001b[0m \u001b[0;34m\"_custom\"\u001b[0m\u001b[0;34m\u001b[0m\u001b[0m\n\u001b[1;32m    342\u001b[0m     \u001b[0;32melse\u001b[0m\u001b[0;34m:\u001b[0m\u001b[0;34m\u001b[0m\u001b[0m\n\u001b[0;32m--> 343\u001b[0;31m         \u001b[0mmeth\u001b[0m \u001b[0;34m=\u001b[0m \u001b[0mmethod\u001b[0m\u001b[0;34m.\u001b[0m\u001b[0mlower\u001b[0m\u001b[0;34m(\u001b[0m\u001b[0;34m)\u001b[0m\u001b[0;34m\u001b[0m\u001b[0m\n\u001b[0m\u001b[1;32m    344\u001b[0m \u001b[0;34m\u001b[0m\u001b[0m\n\u001b[1;32m    345\u001b[0m     \u001b[0;31m# deprecated methods\u001b[0m\u001b[0;34m\u001b[0m\u001b[0;34m\u001b[0m\u001b[0m\n",
        "\u001b[0;31mAttributeError\u001b[0m: 'numpy.ndarray' object has no attribute 'lower'"
       ]
      }
     ],
     "prompt_number": 126
    },
    {
     "cell_type": "markdown",
     "metadata": {},
     "source": [
      "**Question 7 (10 points)**. \n",
      "\n",
      "Write the matrix $A$ for the linear transformation $f(x)$ on $\\mathbb{R}^3$ that takes the standard basis $\\left\\{e_1,e_2,e_3\\right\\}$ to $\\left\\{v_1,v_2,v_3\\right\\}$ where\n",
      "\n",
      "$$v_1=\\left(\\begin{matrix}10\\\\-10\\\\16\\end{matrix}\\right), v_2=\\left(\\begin{matrix}2\\\\-5\\\\20\\end{matrix}\\right) \\textrm {and } v_3=\\left(\\begin{matrix}1\\\\-4\\\\13\\end{matrix}\\right)$$\n",
      "\n",
      "a. Compute the rank of $A$ (use any method you like)\n",
      "\n",
      "b. Find the eigenvalues and eigenvectors of $A$\n",
      "\n",
      "c. What is the matrix representation of $f$ with respect to the eigenbasis"
     ]
    },
    {
     "cell_type": "code",
     "collapsed": false,
     "input": [
      "\n",
      "\n",
      "\n",
      "\n",
      "\n"
     ],
     "language": "python",
     "metadata": {},
     "outputs": []
    },
    {
     "cell_type": "markdown",
     "metadata": {},
     "source": [
      "**Question 8 (10 points)**.\n",
      "\n",
      "1. Show using `sympy` that the log function is concave.\n",
      "2. What can we say about the relationship of $E(\\log x)$ and $\\log E(x)$?"
     ]
    },
    {
     "cell_type": "code",
     "collapsed": false,
     "input": [
      "\n",
      "\n",
      "\n"
     ],
     "language": "python",
     "metadata": {},
     "outputs": [],
     "prompt_number": 4
    },
    {
     "cell_type": "markdown",
     "metadata": {},
     "source": [
      "**Question 9 (10 points)**\n",
      "\n",
      "Given the matrix:\n",
      "\n",
      "$$A = \\left(\\begin{matrix}13&5&-3\\\\5&11&7\\\\-3&7&20\\end{matrix}\\right)$$\n",
      "\n",
      "Convert the standard basis in $\\mathbb{R}^3$ to a conjugate basis that is conjugate with respect to $A$."
     ]
    },
    {
     "cell_type": "code",
     "collapsed": false,
     "input": [],
     "language": "python",
     "metadata": {},
     "outputs": []
    }
   ],
   "metadata": {}
  }
 ]
}