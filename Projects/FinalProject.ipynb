{
 "metadata": {
  "name": "",
  "signature": "sha256:b62863f70c1d3d17558fa6e0c710574ced7dfc693bdc27cc733114b989d7116f"
 },
 "nbformat": 3,
 "nbformat_minor": 0,
 "worksheets": [
  {
   "cells": [
    {
     "cell_type": "markdown",
     "metadata": {},
     "source": [
      "Instructions for Final Project (25%)\n",
      "----\n",
      "\n",
      "For the final project, you will need to implement a \"new\" statistical algorithm in Python from the research literature and write a report on it (in an IPython notebook, of course!). The report must include the following sections:\n",
      "\n",
      "### Background\n",
      "\n",
      "State the research paper you are using. Describe the concept of the algorithm and why it is interesting and/or useful. If appropriate, describe the mathematical basis of the algorithm. Some potential topics for the backgorund include:\n",
      "\n",
      "- What problem does it address? \n",
      "- What are known and possible applications of the algorithm? \n",
      "- What are its advantages and disadvantages relative to other algorithms?\n",
      "- How will you use it in your research?\n",
      "\n",
      "### Implementation\n",
      "\n",
      "Implement the algorithm as a Python function or family of functions as clearly as possible. Can your code be understood by someone with a similar quantitative background as yours? Does it follow good coding conventions?\n",
      "\n",
      "### Testing\n",
      "\n",
      "Write unit tests for your functions and make sure they pass. These should include both common and edge cases (e.g. test at boundaries - what happens if the input is an empty vector etc.).\n",
      "\n",
      "### Optimization\n",
      "\n",
      "Profile the performance of the algorithm and identify bottlenecks. Eliminate these bottlenecks where possible using vectorization, Cython and/or just-in-time compiling. Document what you did and the resulting performance improvement.\n",
      "\n",
      "### High performance computing\n",
      "\n",
      "If you can identify tasks tht can be performed in parallel, parallelize the algorithm. Depending on the algorithm, this may involve the use of multiprocessing, OpenMP, MPI, GPU prgoramming or map-reduce versions (or some combination of them). If the algorithm cannot be parallelized, more weight will be given to how effectively you perform optimization using Cython or just-in-time compilation. Document what you did and the resulting performance improvement.\n",
      "\n",
      "### Application and comparison\n",
      "\n",
      "Apply the algorithm to a \"real\" problem (this can be simulated data) to show how it works and to compare it with at least one other algorithm that addresses the same problem from some available Python or R package. \n",
      "\n",
      "### Reproducible analysis\n",
      "\n",
      "You are expected to perform the entire development process using a new GitHub repository with regular commits. The GitHub repository should contain a Makefile that can run all tests, as well as perform profiling and benchmarking."
     ]
    },
    {
     "cell_type": "code",
     "collapsed": false,
     "input": [],
     "language": "python",
     "metadata": {},
     "outputs": [],
     "prompt_number": 0
    }
   ],
   "metadata": {}
  }
 ]
}