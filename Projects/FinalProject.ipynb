{
 "metadata": {
  "name": "",
  "signature": "sha256:6534231c6556a2a18e6df50b38147b7e145162fa67b5ac473a8b32073f5e4e78"
 },
 "nbformat": 3,
 "nbformat_minor": 0,
 "worksheets": [
  {
   "cells": [
    {
     "cell_type": "markdown",
     "metadata": {},
     "source": [
      "Instructions for Final Project (25%)\n",
      "----\n",
      "\n",
      "For the final project, you will need to implement a \"new\" statstical algorithm in Python from the research literature and write a report on it (in an IPython notebook, of course!). The report must include the following sections:\n",
      "\n",
      "### Background\n",
      "\n",
      "Stte the research paper you are using. Describe the concept of the algorithm and why it is interesting and/or useful. If appropriate, describe the mathematical basis of the algorithm. Some potential topics for the backgorund include:\n",
      "\n",
      "- What problem does it address? \n",
      "- What are known and possible applications of the algorithm? \n",
      "- What are its advantages and disadvantages relative to ohter algorithms?\n",
      "- How will you use it in your research?\n",
      "\n",
      "### Implementation\n",
      "\n",
      "Implement the algorithm as a Python function or family of functions as clearly as possible. Can your code be understtod by someone with a similar quantitative backgorund as yours? Does it follow good coding conventions?\n",
      "\n",
      "### Testing\n",
      "\n",
      "Write unit tests for your functions and make sure they pass. These shouold include both common and edge cases (e.g. test at boundarires - what happens if the input is an empyt vector etc).\n",
      "\n",
      "### Optimization\n",
      "\n",
      "Profile the performance of the algorihtm and identify bottlenecks. Eliminate these bottlenecks where possible using vectroization, Cython and/or just-in-time compiling. Document what you did and the resulting performance improvement.\n",
      "\n",
      "### High performance computing\n",
      "\n",
      "If you can identify tasks tht can be performed in parallel, parallelize the algorithm. Depending on the algorithm, this may involve the use of multiprocessing, OpenMP, MPI, GPU prgoramming or map-reduce versions (or some combintaiton of them). If the algorithm cannot be parallelized, more weight will be given to how effectively you perform optimization using Cython or just-in-time compilaiton. Document what you did and the resulting performance improvement.\n",
      "\n",
      "### Application and comparison\n",
      "\n",
      "Apply the algorithm to a \"real\" problem (this can be simulated data) to show how it works and to compare it with at least one other algorithm that addresses the same problem from some available Python or R package. \n",
      "\n",
      "### Reproducible analysis\n",
      "\n",
      "You are expected to perform the entire development process using a new GitHub repository with regular commits. The GitHub repository should coantin a MakeFile that can run all tests, as well as perfrom profiling and benchmarking."
     ]
    },
    {
     "cell_type": "code",
     "collapsed": false,
     "input": [],
     "language": "python",
     "metadata": {},
     "outputs": []
    }
   ],
   "metadata": {}
  }
 ]
}