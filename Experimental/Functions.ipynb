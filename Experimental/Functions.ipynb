{
 "metadata": {
  "name": "",
  "signature": "sha256:2a6514f162151be523d62a39589e9423314a10664850af08b09b0c546a1edc1b"
 },
 "nbformat": 3,
 "nbformat_minor": 0,
 "worksheets": [
  {
   "cells": [
    {
     "cell_type": "markdown",
     "metadata": {},
     "source": [
      "Estimating functions\n",
      "----\n",
      "\n",
      "- Interpolation: find a function $f$ that connects all points $(x_i, z_i)$ - i.e. $z_i = f(x_i)$\n",
      "- Smoothing: find a function $f$ that minimizes the pointwise least squares sum $\\sum_{i=1}^n (y_i - f(x_i))^2$\n",
      "- Approximation: find a function $g$ that minimzes the distance $\\left[ \\int |f(x) - g(x)|^p w(x) dx \\right]^{1/p}$"
     ]
    },
    {
     "cell_type": "markdown",
     "metadata": {},
     "source": [
      "### Outline\n",
      "\n",
      "- Function interpolation\n",
      "    - polynomial interpolation\n",
      "    - rational interpolation\n",
      "    - Runges interpolation\n",
      "    - Chebyshev intervals\n",
      "    - Splines and the natural cubic spline\n",
      "- Function smoothing\n",
      "    - Splines again\n",
      "    - Non-parametric methods\n",
      "- Function approximation\n",
      "    - Exact methods using power series, continued fractions and special functions\n",
      "    - Inexact methods using polynomial, rational or other approximations"
     ]
    }
   ],
   "metadata": {}
  }
 ]
}