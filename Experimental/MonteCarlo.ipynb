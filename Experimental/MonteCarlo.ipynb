{
 "metadata": {
  "name": "",
  "signature": "sha256:7bd45ba170c2f90dc12e7049a8bc29be5d7c16130a1ee08737d3543bff80a889"
 },
 "nbformat": 3,
 "nbformat_minor": 0,
 "worksheets": [
  {
   "cells": [
    {
     "cell_type": "code",
     "collapsed": false,
     "input": [
      "import os\n",
      "import sys\n",
      "import glob\n",
      "import matplotlib.pyplot as plt\n",
      "import numpy as np\n",
      "import pandas as pd\n",
      "%matplotlib inline\n",
      "%precision 4"
     ],
     "language": "python",
     "metadata": {},
     "outputs": [
      {
       "metadata": {},
       "output_type": "pyout",
       "prompt_number": 1,
       "text": [
        "u'%.4f'"
       ]
      }
     ],
     "prompt_number": 1
    },
    {
     "cell_type": "markdown",
     "metadata": {},
     "source": [
      "Topics\n",
      "----\n",
      "\n",
      "- ECDF\n",
      "- PDF\n",
      "    - Kernel density methods\n",
      "    - Orthogonal polynomials\n",
      "    - Splines"
     ]
    },
    {
     "cell_type": "code",
     "collapsed": false,
     "input": [
      "x = np.concatenate([np.random.normal(0, 1, 10000), \n",
      "                    np.random.normal(4, 1, 10000)])\n",
      "sx = np.sort(x)\n",
      "y = (1.0+np.arange(len(sx)))/len(sx)\n",
      "plt.plot(sx, y)"
     ],
     "language": "python",
     "metadata": {},
     "outputs": [
      {
       "metadata": {},
       "output_type": "pyout",
       "prompt_number": 26,
       "text": [
        "[<matplotlib.lines.Line2D at 0x11471e6d0>]"
       ]
      },
      {
       "metadata": {},
       "output_type": "display_data",
       "png": "[encoded data removed]",
       "text": [
        "<matplotlib.figure.Figure at 0x114262950>"
       ]
      }
     ],
     "prompt_number": 26
    },
    {
     "cell_type": "code",
     "collapsed": false,
     "input": [
      "# Inverse transform method of generating random numbers\n",
      "\n",
      "import scipy.interpolate as interpolate\n",
      "\n",
      "inv_cdf = interpolate.interp1d(y, sx, bounds_error=False, assume_sorted=True)\n",
      "r = np.random.uniform(0, 1, 1000)\n",
      "ys = inv_cdf(r)\n",
      "\n",
      "plt.hist(x, 25, histtype='step', color='red', normed=True)\n",
      "plt.hist(ys, 25, histtype='step', color='blue', normed=True);"
     ],
     "language": "python",
     "metadata": {},
     "outputs": [
      {
       "metadata": {},
       "output_type": "display_data",
       "png": "[encoded data removed]",
       "text": [
        "<matplotlib.figure.Figure at 0x114a06590>"
       ]
      }
     ],
     "prompt_number": 29
    },
    {
     "cell_type": "code",
     "collapsed": false,
     "input": [
      "def epanechnikov(u):\n",
      "    \"\"\"Epanechnikov kernel.\"\"\"\n",
      "    return np.where(np.abs(u) <= np.sqrt(5), 3/(4*np.sqrt(5)) * (1 - u*u/5.0), 0)"
     ],
     "language": "python",
     "metadata": {},
     "outputs": [],
     "prompt_number": 89
    },
    {
     "cell_type": "code",
     "collapsed": false,
     "input": [
      "def kde(x, y, h=None, kernel=epanechnikov):\n",
      "    \"\"\"Returns kernel density estimate.\"\"\"\n",
      "    n = float(len(y))\n",
      "    # Silverman  .9 min(standard deviation, interquartile range/1.34)n\u22121/5\n",
      "    if h is None:\n",
      "        iqr = np.subtract(*np.percentile(x, [75, 25]))\n",
      "        h = 0.9*np.min([y.std(ddof=1), iqr/1.34])*n**-0.2\n",
      "    return np.sum(kernel((x-y[:, None])/h)/h, axis=0)/n"
     ],
     "language": "python",
     "metadata": {},
     "outputs": [],
     "prompt_number": 112
    },
    {
     "cell_type": "code",
     "collapsed": false,
     "input": [
      "xs = np.linspace(-5,8,100)\n",
      "d = [kde(x, ys, 0.5, epanechnikov) for x in xs]"
     ],
     "language": "python",
     "metadata": {},
     "outputs": [],
     "prompt_number": 113
    },
    {
     "cell_type": "code",
     "collapsed": false,
     "input": [
      "plt.plot(xs, kde(xs, ys))"
     ],
     "language": "python",
     "metadata": {},
     "outputs": [
      {
       "metadata": {},
       "output_type": "pyout",
       "prompt_number": 114,
       "text": [
        "[<matplotlib.lines.Line2D at 0x1166206d0>]"
       ]
      },
      {
       "metadata": {},
       "output_type": "display_data",
       "png": "[encoded data removed]",
       "text": [
        "<matplotlib.figure.Figure at 0x1164363d0>"
       ]
      }
     ],
     "prompt_number": 114
    },
    {
     "cell_type": "code",
     "collapsed": false,
     "input": [],
     "language": "python",
     "metadata": {},
     "outputs": []
    }
   ],
   "metadata": {}
  }
 ]
}