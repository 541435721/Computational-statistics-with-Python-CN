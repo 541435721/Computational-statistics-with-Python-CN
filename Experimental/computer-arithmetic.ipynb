{
 "metadata": {
  "name": "",
  "signature": "sha256:447f822e96c3ee96b815487fe65f83547ec9be75d662001f4c049690ef119d8c"
 },
 "nbformat": 3,
 "nbformat_minor": 0,
 "worksheets": [
  {
   "cells": [
    {
     "cell_type": "code",
     "collapsed": false,
     "input": [
      "import os\n",
      "import sys\n",
      "import glob\n",
      "import matplotlib.pyplot as plt\n",
      "import numpy as np\n",
      "import pandas as pd\n",
      "%matplotlib inline\n",
      "%precision 4\n"
     ],
     "language": "python",
     "metadata": {},
     "outputs": [
      {
       "metadata": {},
       "output_type": "pyout",
       "prompt_number": 1,
       "text": [
        "u'%.4f'"
       ]
      }
     ],
     "prompt_number": 1
    },
    {
     "cell_type": "markdown",
     "metadata": {},
     "source": [
      "Outline\n",
      "----\n",
      "\n",
      "- Computer numbers are imperfect models of mathematical numbers\n",
      "    - associative law does not hold\n",
      "    - distributive law does not hold\n",
      "    - range is finite\n",
      "    - \"gap\" between numbers is finite\n",
      "    - \"gap\" between numbers varies wuth ize of numbers\n",
      "- Motivation\n",
      "    - Variance is negative\n",
      "    - Tail probaility of logistic $1 - F(t) = 1 - (1+e^{-1})^{-1}$\n",
      "    - Likelihood is zero\n",
      "    - $\\log(1+x)$ and $e^x - 1$\n",
      "    - inner product of large vectors\n",
      "    - infinite loop from testing for equality\n",
      "- Types of numbers\n",
      "    - Integers\n",
      "    - Fixed point\n",
      "    - Floating point\n",
      "- Absolute and relative error\n",
      "- Representation of numbers\n",
      "    - 2's complement for integers (no overflow for Python)\n",
      "    - (S, E, F) for floating point\n",
      "        - IEEE standard (+/-oo and NaN)\n",
      "    - Min and max numbers\n",
      "    - Precision - machine epsilon and Unit\n",
      "- Integers\n",
      "    - Integer division discards fractional remainder\n",
      "        - ```from __future__ import division```\n",
      "- Floating point\n",
      "    - Catastrophic cancellation\n",
      "    - Overflow and underflow\n",
      "    - Accumulated rounoff errors\n",
      "    - Rules of thumb\n",
      "        - Associative law\n",
      "            - add numbers of like magnitude together\n",
      "            - add small numbers before big ones\n",
      "        - Catastrophic cancellation\n",
      "            - Rework expression\n",
      "                - Avoid subtracting two numbers of similar magnitude\n",
      "                - Use series approximation\n",
      "                - Use provided functions `log1p`, `expm1`\n",
      "                - Work in log space for likelihoods\n",
      "                - log(u/v) and log(u) - log(v)\n",
      "                - Ise multi-precision library\n",
      "- Conditioning\n",
      "    - Definition\n",
      "    - |x f'(x)/f(x)|\n",
      "    - For matrices with L2 norm\n",
      "    - Property of problem\n",
      "    - Approaches\n",
      "        - Pre-conditioning\n",
      "        - Regularization\n",
      "- Stability\n",
      "    - Property of algorithm\n",
      "        - alogrithm calculuates a solution\n",
      "        - how close is this solution to the true solution?\n",
      "    - Pivoting in Gaussian elimination\n",
      "    - Roots of quadratic equation\n",
      "    - Approaches\n",
      "        - Use better algorithm\n",
      "        - Use high quality library rather than roll-your-own\n",
      "        - Defensive programming and testing"
     ]
    },
    {
     "cell_type": "markdown",
     "metadata": {},
     "source": [
      "Motivating examples\n",
      "----"
     ]
    },
    {
     "cell_type": "markdown",
     "metadata": {},
     "source": [
      "### Normalizing weights\n",
      "\n",
      "Given a set of weights, we want to nromalize them so that the sum = 1."
     ]
    },
    {
     "cell_type": "code",
     "collapsed": false,
     "input": [
      "def normalize(ws):\n",
      "    \"\"\"Returns normalized set of weights that sum to 1.\"\"\"\n",
      "    s = sum(ws)\n",
      "    return [w/s for w in ws]"
     ],
     "language": "python",
     "metadata": {},
     "outputs": [],
     "prompt_number": 36
    },
    {
     "cell_type": "code",
     "collapsed": false,
     "input": [
      "ws = [1,2,3,4,5]\n",
      "normalize(ws)"
     ],
     "language": "python",
     "metadata": {},
     "outputs": [
      {
       "metadata": {},
       "output_type": "pyout",
       "prompt_number": 37,
       "text": [
        "[0, 0, 0, 0, 0]"
       ]
      }
     ],
     "prompt_number": 37
    },
    {
     "cell_type": "markdown",
     "metadata": {},
     "source": [
      "### Comparing likleihoods\n",
      "\n",
      "Assuming indepdnece, the likelihood of observing some data points given a distributional model for each data point is the product of the likelihood for each data point."
     ]
    },
    {
     "cell_type": "code",
     "collapsed": false,
     "input": [
      "from scipy.stats import norm\n",
      "\n",
      "rv1 = norm(0, 1)\n",
      "rv2 = norm(0, 3)\n",
      "\n",
      "xs = np.random.normal(0, 3, 1000)\n",
      "likelihood1 = np.prod(rv1.pdf(xs))\n",
      "likelihood2 = np.prod(rv2.pdf(xs))\n",
      "likelihood2 > likelihood1"
     ],
     "language": "python",
     "metadata": {},
     "outputs": [
      {
       "metadata": {},
       "output_type": "pyout",
       "prompt_number": 80,
       "text": [
        "False"
       ]
      }
     ],
     "prompt_number": 80
    },
    {
     "cell_type": "markdown",
     "metadata": {},
     "source": [
      "### Calculating variance\n",
      "\n",
      "$$\n",
      "s^2 = \\frac{\\sum_{i=1}^{n} x_i^2 - (\\sum_{i=1}^n x_i)^2/n}{n-1}\n",
      "$$"
     ]
    },
    {
     "cell_type": "code",
     "collapsed": false,
     "input": [
      "def var(xs):\n",
      "    \"\"\"Returns variance of sample data.\"\"\"\n",
      "    n = 0\n",
      "    s = 0\n",
      "    ss = 0\n",
      "    \n",
      "    for x in xs:\n",
      "        n +=1\n",
      "        s += x\n",
      "        ss += x*x\n",
      "\n",
      "    v = (ss - (s*s)/n)/(n-1)\n",
      "    return v"
     ],
     "language": "python",
     "metadata": {},
     "outputs": [],
     "prompt_number": 6
    },
    {
     "cell_type": "code",
     "collapsed": false,
     "input": [
      "# What is the sample variance for numbers from a normal distribution with variance 1?\n",
      "np.random.seed(4)\n",
      "xs = np.random.normal(1e9, 1, 1000)\n",
      "var(xs)"
     ],
     "language": "python",
     "metadata": {},
     "outputs": [
      {
       "metadata": {},
       "output_type": "pyout",
       "prompt_number": 34,
       "text": [
        "-262.4064"
       ]
      }
     ],
     "prompt_number": 34
    },
    {
     "cell_type": "code",
     "collapsed": false,
     "input": [],
     "language": "python",
     "metadata": {},
     "outputs": []
    }
   ],
   "metadata": {}
  }
 ]
}