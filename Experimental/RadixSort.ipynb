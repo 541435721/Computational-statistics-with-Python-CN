{
 "metadata": {
  "name": "",
  "signature": "sha256:ebca32476a712cc24456b4d30a2ed337e42465c97a32c72d315f1bc61fc16122"
 },
 "nbformat": 3,
 "nbformat_minor": 0,
 "worksheets": [
  {
   "cells": [
    {
     "cell_type": "code",
     "collapsed": false,
     "input": [
      "import numpy as np\n",
      "from numpy.core.defchararray import zfill \n",
      "from operator import itemgetter\n",
      "\n",
      "def radix_sort_int(xs):\n",
      "    \"\"\"Sort xs using radix-sort.\"\"\"\n",
      "\n",
      "    # split numbers into component digits\n",
      "    xs = xs.astype('string')\n",
      "    width = max(map(len, xs))\n",
      "    xs = zfill(xs, width)\n",
      "    xs = np.array(map(list, xs))\n",
      "\n",
      "    # perform radix-sort\n",
      "    for i in range(width):\n",
      "        xs = sorted(xs, key=itemgetter(-(i+1)))\n",
      "\n",
      "    # convert back to numpy array of ints\n",
      "    return np.array([''.join(_) for _ in np.array(xs)]).astype('int')"
     ],
     "language": "python",
     "metadata": {},
     "outputs": [],
     "prompt_number": 50
    },
    {
     "cell_type": "code",
     "collapsed": false,
     "input": [
      "np.random.seed(1)\n",
      "xs = np.random.randint(0, 1000, 100)\n",
      "\n",
      "print(xs)\n",
      "print\n",
      "print(radix_sort_int(xs))\n",
      "print\n",
      "print(xs)"
     ],
     "language": "python",
     "metadata": {},
     "outputs": [
      {
       "output_type": "stream",
       "stream": "stdout",
       "text": [
        "[ 37 235 908  72 767 905 715 645 847 960 144 129 972 583 749 508 390 281\n",
        " 178 276 254 357 914 468 907 252 490 668 925 398 562 580 215 983 753 503\n",
        " 478 864  86 141 393   7 319 829 534 313 513 896 316 209 264 728 653 627\n",
        " 431 633 456 542  71 387 454 917 561 313 515 964 792 497  43 588  26 820\n",
        " 336 621 883 297 466  15  64 196  25 367 738 471 903 282 665 616  22 777\n",
        " 707 999 126 279 381 356 155 933 313 595]\n",
        "\n",
        "[  7  15  22  25  26  37  43  64  71  72  86 126 129 141 144 155 178 196\n",
        " 209 215 235 252 254 264 276 279 281 282 297 313 313 313 316 319 336 356\n",
        " 357 367 381 387 390 393 398 431 454 456 466 468 471 478 490 497 503 508\n",
        " 513 515 534 542 561 562 580 583 588 595 616 621 627 633 645 653 665 668\n",
        " 707 715 728 738 749 753 767 777 792 820 829 847 864 883 896 903 905 907\n",
        " 908 914 917 925 933 960 964 972 983 999]\n",
        "\n",
        "[ 37 235 908  72 767 905 715 645 847 960 144 129 972 583 749 508 390 281\n",
        " 178 276 254 357 914 468 907 252 490 668 925 398 562 580 215 983 753 503\n",
        " 478 864  86 141 393   7 319 829 534 313 513 896 316 209 264 728 653 627\n",
        " 431 633 456 542  71 387 454 917 561 313 515 964 792 497  43 588  26 820\n",
        " 336 621 883 297 466  15  64 196  25 367 738 471 903 282 665 616  22 777\n",
        " 707 999 126 279 381 356 155 933 313 595]\n"
       ]
      }
     ],
     "prompt_number": 52
    },
    {
     "cell_type": "code",
     "collapsed": false,
     "input": [],
     "language": "python",
     "metadata": {},
     "outputs": []
    }
   ],
   "metadata": {}
  }
 ]
}