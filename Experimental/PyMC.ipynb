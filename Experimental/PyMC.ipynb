{
 "metadata": {
  "name": "",
  "signature": "sha256:bbf578f6c2e8c697e2a2389198779f3894ec21c7517b815420c58c6c9c9ccab0"
 },
 "nbformat": 3,
 "nbformat_minor": 0,
 "worksheets": [
  {
   "cells": [
    {
     "cell_type": "code",
     "collapsed": false,
     "input": [
      "from __future__ import division\n",
      "import os\n",
      "import sys\n",
      "import glob\n",
      "import matplotlib.pyplot as plt\n",
      "import numpy as np\n",
      "import pandas as pd\n",
      "%matplotlib inline\n",
      "%precision 4\n",
      "plt.style.use('ggplot')\n"
     ],
     "language": "python",
     "metadata": {},
     "outputs": [],
     "prompt_number": 1
    },
    {
     "cell_type": "code",
     "collapsed": false,
     "input": [
      "np.random.seed(1234)\n",
      "import pymc\n",
      "import scipy.stats as stats"
     ],
     "language": "python",
     "metadata": {},
     "outputs": [],
     "prompt_number": 30
    },
    {
     "cell_type": "markdown",
     "metadata": {},
     "source": [
      "PyMC\n",
      "----\n",
      "\n",
      "- [Dcoumentation for PyMC2](http://pymc-devs.github.io/pymc/)\n",
      "- [Repository for PyMC3](https://github.com/pymc-devs/pymc3)\n",
      "\n",
      "PyMC3 is alpha software that is intended to improve on PyMC2 in the following ways (from GitHub page):\n",
      "\n",
      "- Intuitive model specification syntax, for example, x ~ N(0,1) translates to x = Normal(0,1)\n",
      "- Powerful sampling algorithms such as Hamiltonian Monte Carlo\n",
      "- Easy optimization for finding the maximum a posteriori point\n",
      "- Theano features\n",
      "    - Numpy broadcasting and advanced indexing\n",
      "    - Linear algebra operators\n",
      "    - Computation optimization and dynamic C compilation\n",
      "- Simple extensibility\n",
      "\n",
      "It also comes with extensive [examples](https://github.com/pymc-devs/pymc3/tree/master/pymc3/examples) including ports of the R/JAGS code examples from [Doing Bayesian Data Analysis](https://github.com/aloctavodia/Doing_bayesian_data_analysis).\n",
      "\n",
      "However, the API is different and it is not backwards compartible with models specified in PyMC2."
     ]
    },
    {
     "cell_type": "markdown",
     "metadata": {},
     "source": [
      "Examples\n",
      "----"
     ]
    },
    {
     "cell_type": "markdown",
     "metadata": {},
     "source": [
      "### Coin toss\n",
      "\n",
      "We'll repeat the example of determining the bias of a coin from observed coin tosses. The likelihood is binomial, and  we use a beta prior."
     ]
    },
    {
     "cell_type": "code",
     "collapsed": false,
     "input": [
      "n = 100\n",
      "h = 61\n",
      "alpha = 2\n",
      "beta = 2\n",
      "\n",
      "p = pymc.Beta('p', alpha=alpha, beta=beta)\n",
      "y = pymc.Binomial('y', n=n, p=p, value=h, observed=True)\n",
      "m = pymc.Model([p, likelihood])"
     ],
     "language": "python",
     "metadata": {},
     "outputs": [],
     "prompt_number": 81
    },
    {
     "cell_type": "code",
     "collapsed": false,
     "input": [
      "mc = pymc.MCMC(m)\n",
      "mc.sample(iter=11000, burn=10000)\n",
      "plt.hist(p.trace(), 15, histtype='step', normed=True, label='post');\n",
      "x = np.linspace(0, 1, 100)\n",
      "plt.plot(x, stats.beta.pdf(x, alpha, beta), label='prior');\n",
      "plt.legend(loc='best');"
     ],
     "language": "python",
     "metadata": {},
     "outputs": [
      {
       "output_type": "stream",
       "stream": "stdout",
       "text": [
        "\r",
        " [-----------------83%-----------       ] 9230 of 11000 complete in 0.5 sec"
       ]
      },
      {
       "output_type": "stream",
       "stream": "stdout",
       "text": [
        "\r",
        " [-----------------100%-----------------] 11000 of 11000 complete in 0.6 sec"
       ]
      },
      {
       "metadata": {},
       "output_type": "display_data",
       "png": "[encoded data removed]",
       "text": [
        "<matplotlib.figure.Figure at 0x119016ad0>"
       ]
      }
     ],
     "prompt_number": 82
    },
    {
     "cell_type": "markdown",
     "metadata": {},
     "source": [
      "Since the computer is doing all the work, we don't need to use a conjugate prior if we have good reasons not to."
     ]
    },
    {
     "cell_type": "code",
     "collapsed": false,
     "input": [
      "p = pymc.TruncatedNormal('p', mu=0.3, tau=10, a=0, b=1)\n",
      "y = pymc.Binomial('y', n=n, p=p, value=h, observed=True)\n",
      "m = pymc.Model([p, y])"
     ],
     "language": "python",
     "metadata": {},
     "outputs": [],
     "prompt_number": 83
    },
    {
     "cell_type": "code",
     "collapsed": false,
     "input": [
      "mc = pymc.MCMC(m)\n",
      "mc.sample(iter=11000, burn=10000)\n",
      "plt.hist(p.trace(), 15, histtype='step', normed=True, label='post');\n",
      "a, b = plt.xlim()\n",
      "x = np.linspace(0, 1, 100)\n",
      "a, b = (0 - 0.3) / 0.1, (1 - 0.3) / 0.1\n",
      "plt.plot(x, stats.truncnorm.pdf(x, a, b, 0.3, 0.1), label='prior');\n",
      "plt.legend(loc='best');"
     ],
     "language": "python",
     "metadata": {},
     "outputs": [
      {
       "output_type": "stream",
       "stream": "stdout",
       "text": [
        "\r",
        " [--------         21%                  ] 2357 of 11000 complete in 0.5 sec"
       ]
      },
      {
       "output_type": "stream",
       "stream": "stdout",
       "text": [
        "\r",
        " [---------------- 42%                  ] 4723 of 11000 complete in 1.0 sec"
       ]
      },
      {
       "output_type": "stream",
       "stream": "stdout",
       "text": [
        "\r",
        " [-----------------64%----              ] 7050 of 11000 complete in 1.5 sec"
       ]
      },
      {
       "output_type": "stream",
       "stream": "stdout",
       "text": [
        "\r",
        " [-----------------85%------------      ] 9388 of 11000 complete in 2.0 sec"
       ]
      },
      {
       "output_type": "stream",
       "stream": "stdout",
       "text": [
        "\r",
        " [-----------------100%-----------------] 11000 of 11000 complete in 2.4 sec"
       ]
      },
      {
       "metadata": {},
       "output_type": "display_data",
       "png": "[encoded data removed]",
       "text": [
        "<matplotlib.figure.Figure at 0x117953190>"
       ]
      }
     ],
     "prompt_number": 84
    },
    {
     "cell_type": "markdown",
     "metadata": {},
     "source": [
      "### Estimating mean and standard deviation of normal distribution\n",
      "\n",
      "$$\n",
      "X \\sim \\mathcal{N}(\\mu, \\sigma^2)\n",
      "$$"
     ]
    },
    {
     "cell_type": "code",
     "collapsed": false,
     "input": [
      "# generate observed data\n",
      "N = 100\n",
      "y = np.random.normal(10, 2, N)\n",
      "\n",
      "# define priors\n",
      "mu = pymc.Uniform('mu', lower=0, upper=100)\n",
      "tau = pymc.Uniform('tau', lower=0, upper=1)\n",
      "    \n",
      "# define likelihood\n",
      "y_obs = pymc.Normal('Y_obs', mu=mu, tau=tau, value=y, observed=True)\n",
      "    \n",
      "# inference\n",
      "m = pymc.Model([mu, tau, y])\n",
      "mc = pymc.MCMC(m)\n",
      "mc.sample(iter=110000, burn=100000)"
     ],
     "language": "python",
     "metadata": {},
     "outputs": [
      {
       "output_type": "stream",
       "stream": "stdout",
       "text": [
        "\r",
        " [-                 4%                  ] 4891 of 110000 complete in 0.5 sec"
       ]
      },
      {
       "output_type": "stream",
       "stream": "stdout",
       "text": [
        "\r",
        " [---               8%                  ] 9604 of 110000 complete in 1.0 sec"
       ]
      },
      {
       "output_type": "stream",
       "stream": "stdout",
       "text": [
        "\r",
        " [----             12%                  ] 14260 of 110000 complete in 1.5 sec"
       ]
      },
      {
       "output_type": "stream",
       "stream": "stdout",
       "text": [
        "\r",
        " [------           17%                  ] 18917 of 110000 complete in 2.0 sec"
       ]
      },
      {
       "output_type": "stream",
       "stream": "stdout",
       "text": [
        "\r",
        " [--------         21%                  ] 23571 of 110000 complete in 2.5 sec"
       ]
      },
      {
       "output_type": "stream",
       "stream": "stdout",
       "text": [
        "\r",
        " [---------        25%                  ] 28229 of 110000 complete in 3.0 sec"
       ]
      },
      {
       "output_type": "stream",
       "stream": "stdout",
       "text": [
        "\r",
        " [-----------      29%                  ] 32887 of 110000 complete in 3.5 sec"
       ]
      },
      {
       "output_type": "stream",
       "stream": "stdout",
       "text": [
        "\r",
        " [------------     34%                  ] 37527 of 110000 complete in 4.0 sec"
       ]
      },
      {
       "output_type": "stream",
       "stream": "stdout",
       "text": [
        "\r",
        " [--------------   38%                  ] 42175 of 110000 complete in 4.5 sec"
       ]
      },
      {
       "output_type": "stream",
       "stream": "stdout",
       "text": [
        "\r",
        " [---------------- 42%                  ] 46821 of 110000 complete in 5.0 sec"
       ]
      },
      {
       "output_type": "stream",
       "stream": "stdout",
       "text": [
        "\r",
        " [-----------------46%                  ] 51468 of 110000 complete in 5.5 sec"
       ]
      },
      {
       "output_type": "stream",
       "stream": "stdout",
       "text": [
        "\r",
        " [-----------------51%                  ] 56118 of 110000 complete in 6.0 sec"
       ]
      },
      {
       "output_type": "stream",
       "stream": "stdout",
       "text": [
        "\r",
        " [-----------------55%                  ] 60776 of 110000 complete in 6.5 sec"
       ]
      },
      {
       "output_type": "stream",
       "stream": "stdout",
       "text": [
        "\r",
        " [-----------------59%--                ] 65435 of 110000 complete in 7.0 sec"
       ]
      },
      {
       "output_type": "stream",
       "stream": "stdout",
       "text": [
        "\r",
        " [-----------------63%----              ] 70097 of 110000 complete in 7.5 sec"
       ]
      },
      {
       "output_type": "stream",
       "stream": "stdout",
       "text": [
        "\r",
        " [-----------------67%-----             ] 74754 of 110000 complete in 8.0 sec"
       ]
      },
      {
       "output_type": "stream",
       "stream": "stdout",
       "text": [
        "\r",
        " [-----------------72%-------           ] 79414 of 110000 complete in 8.5 sec"
       ]
      },
      {
       "output_type": "stream",
       "stream": "stdout",
       "text": [
        "\r",
        " [-----------------76%---------         ] 84083 of 110000 complete in 9.0 sec"
       ]
      },
      {
       "output_type": "stream",
       "stream": "stdout",
       "text": [
        "\r",
        " [-----------------80%----------        ] 88746 of 110000 complete in 9.5 sec"
       ]
      },
      {
       "output_type": "stream",
       "stream": "stdout",
       "text": [
        "\r",
        " [-----------------84%------------      ] 93406 of 110000 complete in 10.0 sec"
       ]
      },
      {
       "output_type": "stream",
       "stream": "stdout",
       "text": [
        "\r",
        " [-----------------89%-------------     ] 98058 of 110000 complete in 10.5 sec"
       ]
      },
      {
       "output_type": "stream",
       "stream": "stdout",
       "text": [
        "\r",
        " [-----------------92%---------------   ] 101990 of 110000 complete in 11.0 sec"
       ]
      },
      {
       "output_type": "stream",
       "stream": "stdout",
       "text": [
        "\r",
        " [-----------------95%----------------  ] 105410 of 110000 complete in 11.5 sec"
       ]
      },
      {
       "output_type": "stream",
       "stream": "stdout",
       "text": [
        "\r",
        " [-----------------98%----------------- ] 108833 of 110000 complete in 12.0 sec"
       ]
      },
      {
       "output_type": "stream",
       "stream": "stdout",
       "text": [
        "\r",
        " [-----------------100%-----------------] 110000 of 110000 complete in 12.2 sec"
       ]
      }
     ],
     "prompt_number": 108
    },
    {
     "cell_type": "code",
     "collapsed": false,
     "input": [
      "plt.figure(figsize=(10,4))\n",
      "plt.subplot(121)\n",
      "plt.hist(mu.trace(), 15, histtype='step', normed=True, label='post');\n",
      "plt.legend(loc='best');\n",
      "plt.subplot(122)\n",
      "plt.hist(np.sqrt(1.0/tau.trace()), 15, histtype='step', normed=True, label='post');\n",
      "plt.legend(loc='best');"
     ],
     "language": "python",
     "metadata": {},
     "outputs": [
      {
       "metadata": {},
       "output_type": "display_data",
       "png": "[encoded data removed]",
       "text": [
        "<matplotlib.figure.Figure at 0x119bb4190>"
       ]
      }
     ],
     "prompt_number": 109
    },
    {
     "cell_type": "markdown",
     "metadata": {},
     "source": [
      "### Estimating parameters of a hierarchical model\n",
      "\n",
      "Gelman's book has an example where the dose of a drug may be affected to the number of rat deaths in an experiment.\n",
      "\n",
      "| Dose (log g/ml) | # Rats | # Deaths |\n",
      "|-----------------|--------|----------|\n",
      "| -0.896          | 5      | 0        |\n",
      "| -0.296          | 5      | 1        |\n",
      "| -0.053          | 5      | 3        |\n",
      "| 0.727           | 5      | 5        |\n",
      "\n",
      "We will model the number of deaths as a random sample from a binomial distribution, where $n$ is the number of rats and $p$ the probabbility of a rat dying. We are given $n = 5$, but we believve that $p$ may be related to the drug dose $x$. As $x$ increases the number of rats dying seems to increase, and since $p$ is a probability, we use the following model:\n",
      "\n",
      "$$\n",
      "y \\sim \\text{Bin}(n, p) \\\\\n",
      "\\text{logit}(p) = \\alpha + \\beta x \\\\\n",
      "\\alpha \\sim \\mathcal{N}(0, 5) \\\\\n",
      "\\beta \\sim \\mathcal{N}(0, 10)\n",
      "$$\n",
      "\n",
      "where we set vague priors for $\\alpha$ and $\\beta$, the parameters for the logistic model."
     ]
    },
    {
     "cell_type": "code",
     "collapsed": false,
     "input": [
      "# define invlogit function\n",
      "def invlogit(x):\n",
      "    return pymc.exp(x) / (1 + pymc.exp(x))"
     ],
     "language": "python",
     "metadata": {},
     "outputs": [],
     "prompt_number": 115
    },
    {
     "cell_type": "code",
     "collapsed": false,
     "input": [
      "# observed data\n",
      "n = 5 * np.ones(4)\n",
      "x = np.array([-0.896, -0.296, -0.053, 0.727])\n",
      "y_obs = np.array([0, 1, 3, 5])\n",
      "\n",
      "# define priors\n",
      "alpha = pymc.Normal('alpha', mu=0, tau=1.0/5**2)\n",
      "beta = pymc.Normal('beta', mu=0, tau=1.0/10**2)\n",
      "\n",
      "# define likelihood\n",
      "p = pymc.InvLogit('p', alpha + beta*x)\n",
      "y = pymc.Binomial('y_obs', n=n, p=p, value=y_obs, observed=True)\n",
      "\n",
      "# inference\n",
      "m = pymc.Model([alpha, beta, y])\n",
      "mc = pymc.MCMC(m)\n",
      "mc.sample(iter=110000, burn=100000)"
     ],
     "language": "python",
     "metadata": {},
     "outputs": [
      {
       "output_type": "stream",
       "stream": "stdout",
       "text": [
        "\r",
        " [-                 2%                  ] 3028 of 110000 complete in 0.5 sec"
       ]
      },
      {
       "output_type": "stream",
       "stream": "stdout",
       "text": [
        "\r",
        " [--                5%                  ] 6047 of 110000 complete in 1.0 sec"
       ]
      },
      {
       "output_type": "stream",
       "stream": "stdout",
       "text": [
        "\r",
        " [---               8%                  ] 9073 of 110000 complete in 1.5 sec"
       ]
      },
      {
       "output_type": "stream",
       "stream": "stdout",
       "text": [
        "\r",
        " [----             10%                  ] 12088 of 110000 complete in 2.0 sec"
       ]
      },
      {
       "output_type": "stream",
       "stream": "stdout",
       "text": [
        "\r",
        " [-----            13%                  ] 15120 of 110000 complete in 2.5 sec"
       ]
      },
      {
       "output_type": "stream",
       "stream": "stdout",
       "text": [
        "\r",
        " [------           16%                  ] 18154 of 110000 complete in 3.0 sec"
       ]
      },
      {
       "output_type": "stream",
       "stream": "stdout",
       "text": [
        "\r",
        " [-------          19%                  ] 21193 of 110000 complete in 3.5 sec"
       ]
      },
      {
       "output_type": "stream",
       "stream": "stdout",
       "text": [
        "\r",
        " [--------         22%                  ] 24234 of 110000 complete in 4.0 sec"
       ]
      },
      {
       "output_type": "stream",
       "stream": "stdout",
       "text": [
        "\r",
        " [---------        24%                  ] 27261 of 110000 complete in 4.5 sec"
       ]
      },
      {
       "output_type": "stream",
       "stream": "stdout",
       "text": [
        "\r",
        " [----------       27%                  ] 30278 of 110000 complete in 5.0 sec"
       ]
      },
      {
       "output_type": "stream",
       "stream": "stdout",
       "text": [
        "\r",
        " [-----------      30%                  ] 33297 of 110000 complete in 5.5 sec"
       ]
      },
      {
       "output_type": "stream",
       "stream": "stdout",
       "text": [
        "\r",
        " [------------     33%                  ] 36324 of 110000 complete in 6.0 sec"
       ]
      },
      {
       "output_type": "stream",
       "stream": "stdout",
       "text": [
        "\r",
        " [-------------    35%                  ] 39358 of 110000 complete in 6.5 sec"
       ]
      },
      {
       "output_type": "stream",
       "stream": "stdout",
       "text": [
        "\r",
        " [--------------   38%                  ] 42395 of 110000 complete in 7.0 sec"
       ]
      },
      {
       "output_type": "stream",
       "stream": "stdout",
       "text": [
        "\r",
        " [---------------  41%                  ] 45432 of 110000 complete in 7.5 sec"
       ]
      },
      {
       "output_type": "stream",
       "stream": "stdout",
       "text": [
        "\r",
        " [---------------- 44%                  ] 48457 of 110000 complete in 8.0 sec"
       ]
      },
      {
       "output_type": "stream",
       "stream": "stdout",
       "text": [
        "\r",
        " [-----------------46%                  ] 51483 of 110000 complete in 8.5 sec"
       ]
      },
      {
       "output_type": "stream",
       "stream": "stdout",
       "text": [
        "\r",
        " [-----------------49%                  ] 54504 of 110000 complete in 9.0 sec"
       ]
      },
      {
       "output_type": "stream",
       "stream": "stdout",
       "text": [
        "\r",
        " [-----------------52%                  ] 57527 of 110000 complete in 9.5 sec"
       ]
      },
      {
       "output_type": "stream",
       "stream": "stdout",
       "text": [
        "\r",
        " [-----------------55%                  ] 60527 of 110000 complete in 10.0 sec"
       ]
      },
      {
       "output_type": "stream",
       "stream": "stdout",
       "text": [
        "\r",
        " [-----------------57%-                 ] 63473 of 110000 complete in 10.5 sec"
       ]
      },
      {
       "output_type": "stream",
       "stream": "stdout",
       "text": [
        "\r",
        " [-----------------60%--                ] 66481 of 110000 complete in 11.0 sec"
       ]
      },
      {
       "output_type": "stream",
       "stream": "stdout",
       "text": [
        "\r",
        " [-----------------63%----              ] 69494 of 110000 complete in 11.5 sec"
       ]
      },
      {
       "output_type": "stream",
       "stream": "stdout",
       "text": [
        "\r",
        " [-----------------65%-----             ] 72523 of 110000 complete in 12.0 sec"
       ]
      },
      {
       "output_type": "stream",
       "stream": "stdout",
       "text": [
        "\r",
        " [-----------------68%------            ] 75537 of 110000 complete in 12.5 sec"
       ]
      },
      {
       "output_type": "stream",
       "stream": "stdout",
       "text": [
        "\r",
        " [-----------------71%-------           ] 78551 of 110000 complete in 13.0 sec"
       ]
      },
      {
       "output_type": "stream",
       "stream": "stdout",
       "text": [
        "\r",
        " [-----------------74%--------          ] 81586 of 110000 complete in 13.5 sec"
       ]
      },
      {
       "output_type": "stream",
       "stream": "stdout",
       "text": [
        "\r",
        " [-----------------76%---------         ] 84614 of 110000 complete in 14.0 sec"
       ]
      },
      {
       "output_type": "stream",
       "stream": "stdout",
       "text": [
        "\r",
        " [-----------------79%----------        ] 87647 of 110000 complete in 14.5 sec"
       ]
      },
      {
       "output_type": "stream",
       "stream": "stdout",
       "text": [
        "\r",
        " [-----------------82%-----------       ] 90679 of 110000 complete in 15.0 sec"
       ]
      },
      {
       "output_type": "stream",
       "stream": "stdout",
       "text": [
        "\r",
        " [-----------------85%------------      ] 93714 of 110000 complete in 15.5 sec"
       ]
      },
      {
       "output_type": "stream",
       "stream": "stdout",
       "text": [
        "\r",
        " [-----------------87%-------------     ] 96748 of 110000 complete in 16.0 sec"
       ]
      },
      {
       "output_type": "stream",
       "stream": "stdout",
       "text": [
        "\r",
        " [-----------------90%--------------    ] 99779 of 110000 complete in 16.5 sec"
       ]
      },
      {
       "output_type": "stream",
       "stream": "stdout",
       "text": [
        "\r",
        " [-----------------92%---------------   ] 102257 of 110000 complete in 17.0 sec"
       ]
      },
      {
       "output_type": "stream",
       "stream": "stdout",
       "text": [
        "\r",
        " [-----------------95%----------------  ] 104688 of 110000 complete in 17.5 sec"
       ]
      },
      {
       "output_type": "stream",
       "stream": "stdout",
       "text": [
        "\r",
        " [-----------------97%----------------- ] 107123 of 110000 complete in 18.0 sec"
       ]
      },
      {
       "output_type": "stream",
       "stream": "stdout",
       "text": [
        "\r",
        " [-----------------99%----------------- ] 109557 of 110000 complete in 18.5 sec"
       ]
      },
      {
       "output_type": "stream",
       "stream": "stdout",
       "text": [
        "\r",
        " [-----------------100%-----------------] 110000 of 110000 complete in 18.6 sec"
       ]
      }
     ],
     "prompt_number": 177
    },
    {
     "cell_type": "code",
     "collapsed": false,
     "input": [
      "beta.stats()"
     ],
     "language": "python",
     "metadata": {},
     "outputs": [
      {
       "metadata": {},
       "output_type": "pyout",
       "prompt_number": 178,
       "text": [
        "{'95% HPD interval': array([  2.1442,  16.4456]),\n",
        " 'mc error': 0.1364,\n",
        " 'mean': 8.7027,\n",
        " 'n': 10000,\n",
        " 'quantiles': {2.5000: 2.8105,\n",
        "  25: 5.8920,\n",
        "  50: 8.0876,\n",
        "  75: 10.9561,\n",
        "  97.5000: 18.4316},\n",
        " 'standard deviation': 3.9920}"
       ]
      }
     ],
     "prompt_number": 178
    },
    {
     "cell_type": "code",
     "collapsed": false,
     "input": [
      "pymc.Matplot.plot(mc)"
     ],
     "language": "python",
     "metadata": {},
     "outputs": [
      {
       "output_type": "stream",
       "stream": "stdout",
       "text": [
        "Plotting beta\n",
        "Plotting"
       ]
      },
      {
       "output_type": "stream",
       "stream": "stdout",
       "text": [
        " alpha\n"
       ]
      },
      {
       "metadata": {},
       "output_type": "display_data",
       "png": "[encoded data removed]",
       "text": [
        "<matplotlib.figure.Figure at 0x11d490810>"
       ]
      },
      {
       "metadata": {},
       "output_type": "display_data",
       "png": "[encoded data removed]",
       "text": [
        "<matplotlib.figure.Figure at 0x119aa1750>"
       ]
      }
     ],
     "prompt_number": 179
    },
    {
     "cell_type": "code",
     "collapsed": false,
     "input": [
      "xp = np.linspace(-1, 1, 100)\n",
      "a = alpha.stats()['mean']\n",
      "b = beta.stats()['mean']\n",
      "plt.plot(xp, invlogit(a + b*xp).value)\n",
      "plt.scatter(x, y_obs/5, s=50);\n",
      "plt.xlabel('Log does of drug')\n",
      "plt.ylabel('Risk of death');"
     ],
     "language": "python",
     "metadata": {},
     "outputs": [
      {
       "metadata": {},
       "output_type": "display_data",
       "png": "[encoded data removed]",
       "text": [
        "<matplotlib.figure.Figure at 0x1196b2710>"
       ]
      }
     ],
     "prompt_number": 180
    },
    {
     "cell_type": "markdown",
     "metadata": {},
     "source": [
      "Explanation\n",
      "----"
     ]
    },
    {
     "cell_type": "markdown",
     "metadata": {},
     "source": [
      "#### Building blocks\n",
      "\n",
      "- Stochastic\n",
      "- Deterministic\n",
      "- Poteential\n",
      "\n",
      "#### Fitting models\n",
      "\n",
      "- MAP\n",
      "- NorApprox\n",
      "- MCMC"
     ]
    },
    {
     "cell_type": "code",
     "collapsed": false,
     "input": [],
     "language": "python",
     "metadata": {},
     "outputs": []
    }
   ],
   "metadata": {}
  }
 ]
}