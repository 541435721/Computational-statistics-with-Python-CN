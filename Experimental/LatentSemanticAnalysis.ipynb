{
 "metadata": {
  "name": "",
  "signature": "sha256:cab54ea41e42ce95b6a622c2b1d7c97314d1deeb97ba16980702c9329c3860a7"
 },
 "nbformat": 3,
 "nbformat_minor": 0,
 "worksheets": [
  {
   "cells": [
    {
     "cell_type": "code",
     "collapsed": false,
     "input": [
      "import os\n",
      "import sys\n",
      "import glob\n",
      "import matplotlib.pyplot as plt\n",
      "import numpy as np\n",
      "import pandas as pd\n",
      "%matplotlib inline\n",
      "%precision 4\n",
      "plt.style.use('ggplot')\n",
      "import scipy.linalg as la"
     ],
     "language": "python",
     "metadata": {},
     "outputs": [],
     "prompt_number": 33
    },
    {
     "cell_type": "code",
     "collapsed": false,
     "input": [
      "np.set_printoptions(formatter={'float': '{: 0.2f}'.format})"
     ],
     "language": "python",
     "metadata": {},
     "outputs": [],
     "prompt_number": 47
    },
    {
     "cell_type": "code",
     "collapsed": false,
     "input": [
      "m = np.zeros((12, 9), dtype='int')\n",
      "m[0,0] = 1\n",
      "m[0,3] = 1\n",
      "m[1,0] = 1\n",
      "m[1,2] = 1\n",
      "m[2,0] = 1\n",
      "m[2,1] = 1\n",
      "m[3,1] = 1\n",
      "m[3,2] = 1\n",
      "m[3,4] = 1\n",
      "m[4,1] = 1\n",
      "m[4,2] = 1\n",
      "m[4,3] = 2\n",
      "m[5,1] = 1\n",
      "m[5,4] = 1\n",
      "m[6,1] = 1\n",
      "m[6,4] = 1\n",
      "m[7,2] = 1\n",
      "m[7,3] = 1\n",
      "m[8,1] = 1\n",
      "m[8,8] = 1\n",
      "m[9,5:8] = 1\n",
      "m[10,6:9] = 1\n",
      "m[11,7:9] = 1"
     ],
     "language": "python",
     "metadata": {},
     "outputs": [],
     "prompt_number": 39
    },
    {
     "cell_type": "code",
     "collapsed": false,
     "input": [
      "m"
     ],
     "language": "python",
     "metadata": {},
     "outputs": [
      {
       "metadata": {},
       "output_type": "pyout",
       "prompt_number": 40,
       "text": [
        "array([[1, 0, 0, 1, 0, 0, 0, 0, 0],\n",
        "       [1, 0, 1, 0, 0, 0, 0, 0, 0],\n",
        "       [1, 1, 0, 0, 0, 0, 0, 0, 0],\n",
        "       [0, 1, 1, 0, 1, 0, 0, 0, 0],\n",
        "       [0, 1, 1, 2, 0, 0, 0, 0, 0],\n",
        "       [0, 1, 0, 0, 1, 0, 0, 0, 0],\n",
        "       [0, 1, 0, 0, 1, 0, 0, 0, 0],\n",
        "       [0, 0, 1, 1, 0, 0, 0, 0, 0],\n",
        "       [0, 1, 0, 0, 0, 0, 0, 0, 1],\n",
        "       [0, 0, 0, 0, 0, 1, 1, 1, 0],\n",
        "       [0, 0, 0, 0, 0, 0, 1, 1, 1],\n",
        "       [0, 0, 0, 0, 0, 0, 0, 1, 1]])"
       ]
      }
     ],
     "prompt_number": 40
    },
    {
     "cell_type": "code",
     "collapsed": false,
     "input": [
      "U, s, V = la.svd(m, full_matrices=False)"
     ],
     "language": "python",
     "metadata": {},
     "outputs": [],
     "prompt_number": 72
    },
    {
     "cell_type": "code",
     "collapsed": false,
     "input": [
      "def dotM(*args):\n",
      "    return reduce(np.dot, args)"
     ],
     "language": "python",
     "metadata": {},
     "outputs": [],
     "prompt_number": 53
    },
    {
     "cell_type": "code",
     "collapsed": false,
     "input": [
      "s_ = s.copy()\n",
      "s_[2:] = 0\n",
      "S = np.diag(s_)\n",
      "m2 = dotM(U, S, V)"
     ],
     "language": "python",
     "metadata": {},
     "outputs": [],
     "prompt_number": 81
    },
    {
     "cell_type": "code",
     "collapsed": false,
     "input": [
      "np.cov(m)"
     ],
     "language": "python",
     "metadata": {},
     "outputs": [
      {
       "metadata": {},
       "output_type": "pyout",
       "prompt_number": 82,
       "text": [
        "array([[ 0.19,  0.07,  0.07, -0.08,  0.14, -0.06, -0.06,  0.07, -0.06,\n",
        "        -0.08, -0.08, -0.06],\n",
        "       [ 0.07,  0.19,  0.07,  0.04,  0.01, -0.06, -0.06,  0.07, -0.06,\n",
        "        -0.08, -0.08, -0.06],\n",
        "       [ 0.07,  0.07,  0.19,  0.04,  0.01,  0.07,  0.07, -0.06,  0.07,\n",
        "        -0.08, -0.08, -0.06],\n",
        "       [-0.08,  0.04,  0.04,  0.25,  0.08,  0.17,  0.17,  0.04,  0.04,\n",
        "        -0.12, -0.13, -0.08],\n",
        "       [ 0.14,  0.01,  0.01,  0.08,  0.53,  0.01,  0.01,  0.26,  0.01,\n",
        "        -0.17, -0.17, -0.11],\n",
        "       [-0.06, -0.06,  0.07,  0.17,  0.01,  0.19,  0.19, -0.06,  0.07,\n",
        "        -0.08, -0.08, -0.06],\n",
        "       [-0.06, -0.06,  0.07,  0.17,  0.01,  0.19,  0.19, -0.06,  0.07,\n",
        "        -0.08, -0.08, -0.06],\n",
        "       [ 0.07,  0.07, -0.06,  0.04,  0.26, -0.06, -0.06,  0.19, -0.06,\n",
        "        -0.08, -0.08, -0.06],\n",
        "       [-0.06, -0.06,  0.07,  0.04,  0.01,  0.07,  0.07, -0.06,  0.19,\n",
        "        -0.08,  0.04,  0.07],\n",
        "       [-0.08, -0.08, -0.08, -0.12, -0.17, -0.08, -0.08, -0.08, -0.08,\n",
        "         0.25,  0.12,  0.04],\n",
        "       [-0.08, -0.08, -0.08, -0.13, -0.17, -0.08, -0.08, -0.08,  0.04,\n",
        "         0.12,  0.25,  0.17],\n",
        "       [-0.06, -0.06, -0.06, -0.08, -0.11, -0.06, -0.06, -0.06,  0.07,\n",
        "         0.04,  0.17,  0.19]])"
       ]
      }
     ],
     "prompt_number": 82
    },
    {
     "cell_type": "code",
     "collapsed": false,
     "input": [
      "np.cov(m2)"
     ],
     "language": "python",
     "metadata": {},
     "outputs": [
      {
       "metadata": {},
       "output_type": "pyout",
       "prompt_number": 83,
       "text": [
        "array([[ 0.06,  0.05,  0.04,  0.07,  0.15,  0.03,  0.03,  0.08, -0.00,\n",
        "        -0.08, -0.09, -0.07],\n",
        "       [ 0.05,  0.04,  0.03,  0.06,  0.12,  0.03,  0.03,  0.06, -0.00,\n",
        "        -0.06, -0.07, -0.05],\n",
        "       [ 0.04,  0.03,  0.03,  0.05,  0.10,  0.03,  0.03,  0.05,  0.01,\n",
        "        -0.04, -0.04, -0.03],\n",
        "       [ 0.07,  0.06,  0.05,  0.09,  0.17,  0.05,  0.05,  0.09,  0.01,\n",
        "        -0.07, -0.08, -0.06],\n",
        "       [ 0.15,  0.12,  0.10,  0.17,  0.37,  0.09,  0.09,  0.20, -0.00,\n",
        "        -0.18, -0.21, -0.15],\n",
        "       [ 0.03,  0.03,  0.03,  0.05,  0.09,  0.03,  0.03,  0.04,  0.01,\n",
        "        -0.02, -0.03, -0.02],\n",
        "       [ 0.03,  0.03,  0.03,  0.05,  0.09,  0.03,  0.03,  0.04,  0.01,\n",
        "        -0.02, -0.03, -0.02],\n",
        "       [ 0.08,  0.06,  0.05,  0.09,  0.20,  0.04,  0.04,  0.11, -0.01,\n",
        "        -0.10, -0.12, -0.09],\n",
        "       [-0.00, -0.00,  0.01,  0.01, -0.00,  0.01,  0.01, -0.01,  0.02,\n",
        "         0.03,  0.04,  0.03],\n",
        "       [-0.08, -0.06, -0.04, -0.07, -0.18, -0.02, -0.02, -0.10,  0.03,\n",
        "         0.13,  0.16,  0.12],\n",
        "       [-0.09, -0.07, -0.04, -0.08, -0.21, -0.03, -0.03, -0.12,  0.04,\n",
        "         0.16,  0.20,  0.14],\n",
        "       [-0.07, -0.05, -0.03, -0.06, -0.15, -0.02, -0.02, -0.09,  0.03,\n",
        "         0.12,  0.14,  0.10]])"
       ]
      }
     ],
     "prompt_number": 83
    },
    {
     "cell_type": "code",
     "collapsed": false,
     "input": [],
     "language": "python",
     "metadata": {},
     "outputs": []
    }
   ],
   "metadata": {}
  }
 ]
}