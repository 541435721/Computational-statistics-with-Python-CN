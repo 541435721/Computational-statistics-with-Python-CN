{
 "metadata": {
  "name": "",
  "signature": "sha256:0bbef50d9f32cc2edf993bfb7bb081e4dc8ce19ce1c8602a84027d8d55f2c80f"
 },
 "nbformat": 3,
 "nbformat_minor": 0,
 "worksheets": [
  {
   "cells": [
    {
     "cell_type": "code",
     "collapsed": false,
     "input": [
      "from __future__ import division\n",
      "import os\n",
      "import sys\n",
      "import glob\n",
      "import matplotlib.pyplot as plt\n",
      "import numpy as np\n",
      "import pandas as pd\n",
      "%matplotlib inline\n",
      "%precision 4\n",
      "plt.style.use('ggplot')\n"
     ],
     "language": "python",
     "metadata": {},
     "outputs": [],
     "prompt_number": 1
    },
    {
     "cell_type": "code",
     "collapsed": false,
     "input": [
      "import scipy.stats as st"
     ],
     "language": "python",
     "metadata": {},
     "outputs": [],
     "prompt_number": 2
    },
    {
     "cell_type": "code",
     "collapsed": false,
     "input": [
      "np.set_printoptions(formatter={'float': lambda x: '%.4f' % x})"
     ],
     "language": "python",
     "metadata": {},
     "outputs": [],
     "prompt_number": 3
    },
    {
     "cell_type": "markdown",
     "metadata": {},
     "source": [
      "Data\n",
      "---"
     ]
    },
    {
     "cell_type": "code",
     "collapsed": false,
     "input": [
      "ngenes = 100\n",
      "ncases = 50\n",
      "nctrls = 50\n",
      "nsamples = ncases + nctrls\n",
      "x = np.random.normal(0, 1, (ngenes, nsamples))\n",
      "# add correlation\n",
      "for i in range(ngenes):\n",
      "    idx = np.random.choice(ngenes)\n",
      "    x[i,:] += np.random.normal() * x[idx, :]\n",
      "\n",
      "target_genes = [5,15,25,35,45]\n",
      "x[target_genes, ncases:] += np.random.normal(1, 1, (len(target_genes), ncases))"
     ],
     "language": "python",
     "metadata": {},
     "outputs": [],
     "prompt_number": 12
    },
    {
     "cell_type": "code",
     "collapsed": false,
     "input": [
      "t, p0 = st.ttest_ind(x[:, :ncases], x[:, ncases:], axis=1)"
     ],
     "language": "python",
     "metadata": {},
     "outputs": [],
     "prompt_number": 25
    },
    {
     "cell_type": "markdown",
     "metadata": {},
     "source": [
      "### Bonferroni"
     ]
    },
    {
     "cell_type": "code",
     "collapsed": false,
     "input": [
      "p1 = np.clip(len(p) * p, 0, 1)\n",
      "idx = p1 < 0.05\n",
      "zip(np.nonzero(idx)[0], p1[idx])"
     ],
     "language": "python",
     "metadata": {},
     "outputs": [
      {
       "metadata": {},
       "output_type": "pyout",
       "prompt_number": 26,
       "text": [
        "[(15, 0.0130), (25, 0.0006)]"
       ]
      }
     ],
     "prompt_number": 26
    },
    {
     "cell_type": "markdown",
     "metadata": {},
     "source": [
      "### Holm"
     ]
    },
    {
     "cell_type": "code",
     "collapsed": false,
     "input": [
      "ordered_p = p.copy()\n",
      "ordered_p.sort()"
     ],
     "language": "python",
     "metadata": {},
     "outputs": [],
     "prompt_number": 16
    },
    {
     "cell_type": "code",
     "collapsed": false,
     "input": [
      "k = len(ordered_p)\n",
      "p2 = np.zeros(k)\n",
      "p2[0] = k * p2[0]\n",
      "for i in range(1, len(ordered_p)):\n",
      "    p2[i] = np.clip(max(ps[i-1], (k-i)*ordered_p[i]), 0, 1)\n",
      "idx = p2 < 0.05\n",
      "zip(np.nonzero(idx)[0], p2[idx])"
     ],
     "language": "python",
     "metadata": {},
     "outputs": [
      {
       "metadata": {},
       "output_type": "pyout",
       "prompt_number": 28,
       "text": [
        "[(0, 0.0000), (1, 0.0129)]"
       ]
      }
     ],
     "prompt_number": 28
    },
    {
     "cell_type": "markdown",
     "metadata": {},
     "source": [
      "### Westfall and Young (Permutation-resampling based family-wise error rate)"
     ]
    },
    {
     "cell_type": "code",
     "collapsed": false,
     "input": [
      "ranks = np.argsort(np.abs(t))[::-1]"
     ],
     "language": "python",
     "metadata": {},
     "outputs": [],
     "prompt_number": 18
    },
    {
     "cell_type": "code",
     "collapsed": false,
     "input": [
      "nperms = 10000\n",
      "counts = np.zeros((nperms, k))\n",
      "for i in range(nperms):\n",
      "    u = np.zeros(k)\n",
      "    sidx = np.random.permutation(nsamples)\n",
      "    y = x[:, sidx]\n",
      "    tb, pb = st.ttest_ind(y[:, :ncases], y[:, ncases:], axis=1)\n",
      "    u[k-1] = np.abs(tb[ranks[k-1]])\n",
      "    for j in range(k-2, -1, -1):\n",
      "        u[j] = max(u[j+1], np.abs(tb[ranks[j]]))\n",
      "    counts[i] = (u >= np.abs(t[ranks]))\n",
      "\n",
      "p3 = np.sum(counts, axis=0)/nperms\n",
      "for i in range(1, k):\n",
      "    p3[i] = max(qs[i],p3[i-1])\n",
      "zip(ranks, p3[qs< 0.05])"
     ],
     "language": "python",
     "metadata": {},
     "outputs": [
      {
       "metadata": {},
       "output_type": "pyout",
       "prompt_number": 30,
       "text": [
        "[(25, 0.0004), (15, 0.0145)]"
       ]
      }
     ],
     "prompt_number": 30
    },
    {
     "cell_type": "code",
     "collapsed": false,
     "input": [
      "plt.plot(sorted(p0))\n",
      "plt.plot(sorted(p1))\n",
      "plt.plot(sorted(p2))\n",
      "plt.plot(sorted(p3))\n",
      "plt.ylim([0,1])"
     ],
     "language": "python",
     "metadata": {},
     "outputs": [
      {
       "metadata": {},
       "output_type": "pyout",
       "prompt_number": 32,
       "text": [
        "(0, 1)"
       ]
      },
      {
       "metadata": {},
       "output_type": "display_data",
       "png": "[encoded data removed]",
       "text": [
        "<matplotlib.figure.Figure at 0x115390e90>"
       ]
      }
     ],
     "prompt_number": 32
    },
    {
     "cell_type": "code",
     "collapsed": false,
     "input": [],
     "language": "python",
     "metadata": {},
     "outputs": []
    }
   ],
   "metadata": {}
  }
 ]
}