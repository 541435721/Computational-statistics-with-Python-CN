{
 "metadata": {
  "name": "",
  "signature": "sha256:03336eb3835e4b9950bb3a9e8aea989e7d00c9420adf8c52d8e34b56eb2e9acf"
 },
 "nbformat": 3,
 "nbformat_minor": 0,
 "worksheets": [
  {
   "cells": [
    {
     "cell_type": "markdown",
     "metadata": {},
     "source": [
      "Basics of matrices\n",
      "----\n",
      "\n",
      "- matrices - normal, diagonalizable, symmetric, skew symmetric, unitary, orthonomal\n",
      "- orthogonal - vector space is complete (no missing points) and has an inner product\n",
      "- vector space \n",
      "- inner product satisfies symmetry, linearity in first argument and positive definiteness\n",
      "\n",
      "- column space of matrix\n",
      "- column space of matrix is image (rnange) of coresponding transformation\n",
      "- dim(column space) = rank\n",
      "- left null space (the null space of $A^T$) is the orthogonal complement to the column space of A.\n",
      "- kernel of matrix\n",
      "- kernel as solution set to homogeneous equations\n",
      "- row space\n",
      "- kernel is orthogonal complement of row space\n",
      "- solution to non-homogeneous equations \n",
      "    - solution of Ax = b is a translation of the kernel by a vector v \n",
      "- simple matrix example\n",
      "- rank-nullity theorem\n",
      "- projection\n",
      "    - idempotent\n",
      "    - let P be a projection on W. Then W = U + V where U is the range(column space)  of P and V is the kernel of P\n",
      "    - P is the identity operator for U - if x $\\in$ U, Px = x\n",
      "    - every vextor x in W is decomposable into u in Px and v in (I-P)x\n",
      "    - eigenvalues of a projection operator are only 0s or 1s\n",
      "    - an orthogonal projection - U and V are orthogonal subspaces $<Px, (I-P)y> = 0$\n",
      "    - orthogonal projections are self-adjoint $<Av, w> = <v, Aw>$\n",
      "    - orthogonal projections are bounded\n",
      "    - orthogonal projection onto a line $P = uu^T$\n",
      "    - orthogonal projection onto orthonormal basis $P = AA^T$ if the columns $u$ of A are orthonormal\n",
      "    - If u are not orthonormal, then $P = A(A^TA)^{-1}A^T$\n",
      "    - $(A^TA)^{-1}$ is a normalizing factor (u^Tu)^{-1} means divide by length in 1D\n",
      "    - diagonalization of P\n",
      "    - centering matrix as an example of a projection (onto subspace of vectors whose components sum to zero)\n",
      "- For a matrix A, the column space, row space, null space, and left null space are referred to as the [four fundamental subspaces](http://www.eng.iastate.edu/~julied/classes/CE570/Notes/strangpaper.pdf)\n",
      "\n",
      "- The condition number is the value of the asymptotic worst-case relative change in output for a relative change in input\n",
      "- conditioning is a property of the matrix\n",
      "- condition number with Euclidean norm = ratio of max and minsingular values\n",
      "\n"
     ]
    },
    {
     "cell_type": "code",
     "collapsed": false,
     "input": [
      "import os\n",
      "import sys\n",
      "import glob\n",
      "import matplotlib.pyplot as plt\n",
      "import numpy as np\n",
      "import pandas as pd\n",
      "%matplotlib inline\n",
      "%precision 4\n"
     ],
     "language": "python",
     "metadata": {},
     "outputs": [
      {
       "metadata": {},
       "output_type": "pyout",
       "prompt_number": 1,
       "text": [
        "u'%.4f'"
       ]
      }
     ],
     "prompt_number": 1
    },
    {
     "cell_type": "code",
     "collapsed": false,
     "input": [
      "x = np.array([1,2,3])"
     ],
     "language": "python",
     "metadata": {},
     "outputs": [],
     "prompt_number": 2
    },
    {
     "cell_type": "code",
     "collapsed": false,
     "input": [
      "np.dot(x,x)"
     ],
     "language": "python",
     "metadata": {},
     "outputs": [
      {
       "metadata": {},
       "output_type": "pyout",
       "prompt_number": 3,
       "text": [
        "14"
       ]
      }
     ],
     "prompt_number": 3
    },
    {
     "cell_type": "code",
     "collapsed": false,
     "input": [],
     "language": "python",
     "metadata": {},
     "outputs": []
    }
   ],
   "metadata": {}
  }
 ]
}