{
 "metadata": {
  "name": "",
  "signature": "sha256:c4cfad5240642bb9e4e39c08b27be03297e4bb979e9705097afbe198738f41a1"
 },
 "nbformat": 3,
 "nbformat_minor": 0,
 "worksheets": [
  {
   "cells": [
    {
     "cell_type": "markdown",
     "metadata": {},
     "source": [
      "Using Git and GitHub\n",
      "----\n",
      "\n",
      "This tutorial only covers the *bare* basics. When you are comfortable using Git in the basic way shown in this tutorial, there are plenty of online and dead tree resources for more advanced Git usage that you can learn from.\n",
      "\n",
      "### Basic concepts to understand\n",
      "\n",
      "- Git verus GitHub\n",
      "- Working directory, staging area and snapshort archive\n",
      "- Remotes and origin\n",
      "- Branches and master\n",
      "\n",
      "### Useful references:\n",
      "\n",
      "- <https://confluence.atlassian.com/display/STASH/Basic+Git+commands>\n",
      "- <http://sweetme.at/2013/09/29/essential-git-commands-cheat-sheet/>"
     ]
    },
    {
     "cell_type": "markdown",
     "metadata": {},
     "source": [
      "**Exercise 1**. Create a reepository on GitHub called 'monster-cookies' and clone to your local drive."
     ]
    },
    {
     "cell_type": "code",
     "collapsed": false,
     "input": [],
     "language": "python",
     "metadata": {},
     "outputs": []
    },
    {
     "cell_type": "markdown",
     "metadata": {},
     "source": [
      "**Exercise 1.1**. Set your username and email if necessary."
     ]
    },
    {
     "cell_type": "code",
     "collapsed": false,
     "input": [],
     "language": "python",
     "metadata": {},
     "outputs": []
    },
    {
     "cell_type": "markdown",
     "metadata": {},
     "source": [
      "**Exercise 2**. Add two files `phd_thesis.txt` and `jasa_manuscript.txt` with the contents `My very short thesis.` and `$\\pi = 3$ almost everywhere.` respectively to your local repository. How do you check the status of your local repository?"
     ]
    },
    {
     "cell_type": "code",
     "collapsed": false,
     "input": [],
     "language": "python",
     "metadata": {},
     "outputs": []
    },
    {
     "cell_type": "markdown",
     "metadata": {},
     "source": [
      "**Exercise 3**. Modify `phd_thesis.txt` by adding another line `This is a very good thesis`.\n",
      "\n",
      "- You decide that you don't want these changes but have not done `git add`. What do you do?\n",
      "- You decide that you don't want these changes but have just done `git add`. What do you do?\n",
      "- You decide that you don't want these changes but have just done `git commit`. What do you do?\n",
      "- You decide that you don't want these changes but have just done `git push`. What do you do?"
     ]
    },
    {
     "cell_type": "code",
     "collapsed": false,
     "input": [],
     "language": "python",
     "metadata": {},
     "outputs": []
    },
    {
     "cell_type": "markdown",
     "metadata": {},
     "source": [
      "**Exercise 4**: Modify \"jasa_mnauscript.txt\" by replacing the number 3 with 22/7. Add, commit and push your changes."
     ]
    },
    {
     "cell_type": "code",
     "collapsed": false,
     "input": [],
     "language": "python",
     "metadata": {},
     "outputs": []
    },
    {
     "cell_type": "markdown",
     "metadata": {},
     "source": [
      "**Exercise 5**. You accidnetally type `rm phd_thesis.txt` and realize you haven't backed up your laptop in 3 years. What do you do?"
     ]
    },
    {
     "cell_type": "code",
     "collapsed": false,
     "input": [],
     "language": "python",
     "metadata": {},
     "outputs": []
    },
    {
     "cell_type": "markdown",
     "metadata": {},
     "source": [
      "**Exercise 6**. You accidentally deleted the `monster-cookies` folder on your hard drive with `rm -rf monster-cookies`. What do you do?"
     ]
    },
    {
     "cell_type": "code",
     "collapsed": false,
     "input": [],
     "language": "python",
     "metadata": {},
     "outputs": []
    },
    {
     "cell_type": "markdown",
     "metadata": {},
     "source": [
      "**Exercise 7**. Your laptop falls into the lake at Sarah P Duke gardens and is eaten by a turtle. What do you do?"
     ]
    },
    {
     "cell_type": "code",
     "collapsed": false,
     "input": [],
     "language": "python",
     "metadata": {},
     "outputs": []
    },
    {
     "cell_type": "markdown",
     "metadata": {},
     "source": [
      "**Exericse 8**. You realize that $\\pi = 3$ after all, and want to go back to the version before you made the 22/7 switch. What do you do?"
     ]
    },
    {
     "cell_type": "code",
     "collapsed": false,
     "input": [],
     "language": "python",
     "metadata": {},
     "outputs": []
    },
    {
     "cell_type": "markdown",
     "metadata": {},
     "source": [
      "**Exercise 9**. You want to show off your productivity to your thesis advisor. What do you do?"
     ]
    },
    {
     "cell_type": "code",
     "collapsed": false,
     "input": [],
     "language": "python",
     "metadata": {},
     "outputs": []
    },
    {
     "cell_type": "markdown",
     "metadata": {},
     "source": [
      "**Exercise 10**. You the follwoing Python scritpt to `monster-cookies` and run it. \n",
      "```python\n",
      "for i in range(10):\n",
      "    open('f%02d.dat' % i, 'w').write('This contains intermediate results #%d' % i)\n",
      "```\n",
      "\n",
      "Now you have a `.py` file that you want to commit to GitHub and lots of `.dat` files that you don't want to commit but still wish to keep in the folder. What do you do?"
     ]
    },
    {
     "cell_type": "code",
     "collapsed": false,
     "input": [],
     "language": "python",
     "metadata": {},
     "outputs": []
    },
    {
     "cell_type": "markdown",
     "metadata": {},
     "source": [
      "**Exercise 11**. You modify `phd_thesis.txt` by replacing `very good` with `super awesome`. You modify `jasa_manuscript.txt` by replacing `3` with `3.14`. Add, commit and push each file so that each file has its own commit messsage (`making my thesis more awesomer` and `international pie day is March 14` respectively)."
     ]
    },
    {
     "cell_type": "code",
     "collapsed": false,
     "input": [],
     "language": "python",
     "metadata": {},
     "outputs": []
    },
    {
     "cell_type": "markdown",
     "metadata": {},
     "source": [
      "**Exercise 12**. You decide to collaborate on `jasa_manuscipt.txt` with your friend (choose the person on your left or right, depending on who you think is better looking). You want to grant wrtie permission to your friend so that he/she can make changes to your repository. What do you do?"
     ]
    },
    {
     "cell_type": "code",
     "collapsed": false,
     "input": [],
     "language": "python",
     "metadata": {},
     "outputs": []
    },
    {
     "cell_type": "markdown",
     "metadata": {},
     "source": [
      "**Exercise 13**. Your friend changes 3.14 to 2.718 in `jasa_manuscript.txt` and commits the changes to GitHub (add, commit, push). At the same time, you want to change $\\pi$ to $e$ so that the final version in GitHub reads $e = 2.718$. What do you do?"
     ]
    },
    {
     "cell_type": "code",
     "collapsed": false,
     "input": [],
     "language": "python",
     "metadata": {},
     "outputs": []
    },
    {
     "cell_type": "markdown",
     "metadata": {},
     "source": [
      "**Exercise 14**. You are flying back to RDU on a 34 hour plane trip with no internet access when you have a brilliant idea taht you want to record. You pull out your laptop, create a new repository called `my-first-original-thought`, write down your thoughts in `brillaint.txt`, then add and commit it to your lcoal repository. When you arrive, you put your local repository on GitHub so taht it can be archived and shared. How did you do this?"
     ]
    },
    {
     "cell_type": "code",
     "collapsed": false,
     "input": [],
     "language": "python",
     "metadata": {},
     "outputs": []
    },
    {
     "cell_type": "markdown",
     "metadata": {},
     "source": [
      "**Exericse 15**.Your JASA manuscript is accepted after all 3 reviewers acclaim its brilliance with commeents like \"I never relaized the most common character in the English language had a numeric value!\". You want to tag the current (accepted) version of the manuscript as 1.0 with the annotation \"Version accepted by JASA\". What do you do?"
     ]
    },
    {
     "cell_type": "code",
     "collapsed": false,
     "input": [],
     "language": "python",
     "metadata": {},
     "outputs": []
    }
   ],
   "metadata": {}
  }
 ]
}