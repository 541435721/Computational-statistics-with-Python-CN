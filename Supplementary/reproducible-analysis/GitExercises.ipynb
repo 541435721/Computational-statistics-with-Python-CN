{
 "metadata": {
  "name": "",
  "signature": "sha256:f6436501b2bf36f6b2e795be6e8c82a98d4f896f247cb628675d100bf81830ea"
 },
 "nbformat": 3,
 "nbformat_minor": 0,
 "worksheets": [
  {
   "cells": [
    {
     "cell_type": "markdown",
     "metadata": {},
     "source": [
      "Using Git and GitHub\n",
      "----"
     ]
    },
    {
     "cell_type": "markdown",
     "metadata": {},
     "source": [
      "**Exercise 1**. Create a reepository on GitHub called 'monster-cookies' and clone to your local drive."
     ]
    },
    {
     "cell_type": "markdown",
     "metadata": {},
     "source": [
      "**Exercise 1.1**. Set your username and email if necessary."
     ]
    },
    {
     "cell_type": "markdown",
     "metadata": {},
     "source": [
      "**Exercise 2**. Add two files `phd_thesis.txt` and `jasa_manuscript.txt` with the contents `My very short thesis.` and `$\\pi = 3$ almost everywhere.` respectively."
     ]
    },
    {
     "cell_type": "markdown",
     "metadata": {},
     "source": [
      "**Exercise 3**. Modify `phd_thesis.txt` by adding another line `This is a very good thesis`.\n",
      "\n",
      "- You decide that you don't want these changes but have not done `git add`. What do you do?\n",
      "- You decide that you don't want these changes but have just done `git add`. What do you do?\n",
      "- You decide that you don't want these changes but have just done `git commit`. What do you do?\n",
      "- You decide that you don't want these changes but have just done `git push`. What do you do?"
     ]
    },
    {
     "cell_type": "markdown",
     "metadata": {},
     "source": [
      "**Exercise 4**: Modify \"jasa_mnauscript.txt\" by replacing the number 3 with 22/7. Add, commit and push your changes."
     ]
    },
    {
     "cell_type": "markdown",
     "metadata": {},
     "source": [
      "**Exercise 5**. You accidnetally type `rm phd_thesis.txt` and realize you haven't backed up your laptop in 3 years. What do you do?"
     ]
    },
    {
     "cell_type": "markdown",
     "metadata": {},
     "source": [
      "**Exercise 6**. You accidentally deleted the `monster-cookies` folder on your hard drive with `rm -rf monster-cookies`. What do you do?"
     ]
    },
    {
     "cell_type": "markdown",
     "metadata": {},
     "source": [
      "**Exercise 7**. Your laptop falls into the lake at Sarah P Duke gardens and is eaten by a turtle. What do you do?"
     ]
    },
    {
     "cell_type": "markdown",
     "metadata": {},
     "source": [
      "**Exericse 8**. You realize that $\\pi = 3$ after all, and want to go back to the version before you made the 22/7 switch. What do you do?"
     ]
    },
    {
     "cell_type": "markdown",
     "metadata": {},
     "source": [
      "**Exercise 9**. You want to show off your productivity to your thesis advisor. What do you do?"
     ]
    },
    {
     "cell_type": "markdown",
     "metadata": {},
     "source": [
      "**Exercise 10**. You the follwoing Python scritpt to `monster-cookies` and run it. \n",
      "```python\n",
      "for i in range(10):\n",
      "    open('f%02d.dat' % i, 'w').write('This contains intermediate results #%d' % i)\n",
      "```\n",
      "\n",
      "Now you have a `.py` file that you want to commit to GitHub and lots of `.dat` files that you don't want to commit but still wish to keep in the folder. What do you do?"
     ]
    },
    {
     "cell_type": "code",
     "collapsed": false,
     "input": [],
     "language": "python",
     "metadata": {},
     "outputs": []
    }
   ],
   "metadata": {}
  }
 ]
}