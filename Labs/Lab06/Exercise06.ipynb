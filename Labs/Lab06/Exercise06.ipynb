{
 "metadata": {
  "name": "",
  "signature": "sha256:73341767c42aa1bba62218294ae571b2af102d01a4e48eedece8bad79c2d0168"
 },
 "nbformat": 3,
 "nbformat_minor": 0,
 "worksheets": [
  {
   "cells": [
    {
     "cell_type": "code",
     "collapsed": false,
     "input": [
      "import os\n",
      "import sys\n",
      "import glob\n",
      "import matplotlib.pyplot as plt\n",
      "import numpy as np\n",
      "import pandas as pd\n",
      "%matplotlib inline\n",
      "%precision 4\n",
      "plt.style.use('ggplot')\n"
     ],
     "language": "python",
     "metadata": {},
     "outputs": [],
     "prompt_number": 1
    },
    {
     "cell_type": "markdown",
     "metadata": {},
     "source": [
      "**Exercise 1 (10 points)**.\n",
      "\n",
      "A milkmaid is at point A and needs to get to point B. However, she also needs to fill a pail of water from the river en route from A to B. The equation of the river's path is shown in the figure below. What is the minimum distance she has to travel to do this?\n",
      "\n",
      "Hints:\n",
      "\n",
      "- The milkmaid's path must include some point P(x, y) that is on the river\n",
      "- Use Lagrange multipliers\n",
      "- Set up a consttrained optimization problem and solve with `scipy.optimize`\n",
      "\n",
      "![Milkmaid problem](milkmaid.png)"
     ]
    },
    {
     "cell_type": "code",
     "collapsed": false,
     "input": [
      "\n",
      "\n",
      "\n",
      "\n"
     ],
     "language": "python",
     "metadata": {},
     "outputs": []
    },
    {
     "cell_type": "markdown",
     "metadata": {},
     "source": [
      "**Exercise 2 (10 points)**.\n",
      "\n",
      "Modify the coin toss example in the EM lecture notes so that each sample is now a record of the outcomes of rolls from biased dice. Assume that there are two dice and that there is an equal likelihood of selecting a die for each sample. Given the following samples, esitmate the parameters for each die (i.e. the probabiliites of getting a 1, 2, 3, 4, 5 or 6)."
     ]
    },
    {
     "cell_type": "code",
     "collapsed": false,
     "input": [
      "df = pd.read_csv('dice.csv', index_col=0)\n",
      "df"
     ],
     "language": "python",
     "metadata": {},
     "outputs": [
      {
       "html": [
        "<div style=\"max-height:1000px;max-width:1500px;overflow:auto;\">\n",
        "<table border=\"1\" class=\"dataframe\">\n",
        "  <thead>\n",
        "    <tr style=\"text-align: right;\">\n",
        "      <th></th>\n",
        "      <th>1</th>\n",
        "      <th>2</th>\n",
        "      <th>3</th>\n",
        "      <th>4</th>\n",
        "      <th>5</th>\n",
        "      <th>6</th>\n",
        "    </tr>\n",
        "  </thead>\n",
        "  <tbody>\n",
        "    <tr>\n",
        "      <th>Sample 1</th>\n",
        "      <td>  2</td>\n",
        "      <td> 14</td>\n",
        "      <td> 10</td>\n",
        "      <td> 20</td>\n",
        "      <td> 26</td>\n",
        "      <td> 28</td>\n",
        "    </tr>\n",
        "    <tr>\n",
        "      <th>Sample 2</th>\n",
        "      <td>  1</td>\n",
        "      <td> 13</td>\n",
        "      <td> 12</td>\n",
        "      <td> 17</td>\n",
        "      <td> 21</td>\n",
        "      <td> 36</td>\n",
        "    </tr>\n",
        "    <tr>\n",
        "      <th>Sample 3</th>\n",
        "      <td> 21</td>\n",
        "      <td> 18</td>\n",
        "      <td> 16</td>\n",
        "      <td> 12</td>\n",
        "      <td> 14</td>\n",
        "      <td> 19</td>\n",
        "    </tr>\n",
        "    <tr>\n",
        "      <th>Sample 4</th>\n",
        "      <td> 15</td>\n",
        "      <td> 20</td>\n",
        "      <td> 20</td>\n",
        "      <td> 15</td>\n",
        "      <td> 12</td>\n",
        "      <td> 18</td>\n",
        "    </tr>\n",
        "    <tr>\n",
        "      <th>Sample 5</th>\n",
        "      <td>  5</td>\n",
        "      <td> 10</td>\n",
        "      <td> 11</td>\n",
        "      <td> 24</td>\n",
        "      <td> 17</td>\n",
        "      <td> 33</td>\n",
        "    </tr>\n",
        "  </tbody>\n",
        "</table>\n",
        "</div>"
       ],
       "metadata": {},
       "output_type": "pyout",
       "prompt_number": 23,
       "text": [
        "           1   2   3   4   5   6\n",
        "Sample 1   2  14  10  20  26  28\n",
        "Sample 2   1  13  12  17  21  36\n",
        "Sample 3  21  18  16  12  14  19\n",
        "Sample 4  15  20  20  15  12  18\n",
        "Sample 5   5  10  11  24  17  33"
       ]
      }
     ],
     "prompt_number": 23
    },
    {
     "cell_type": "code",
     "collapsed": false,
     "input": [],
     "language": "python",
     "metadata": {},
     "outputs": []
    },
    {
     "cell_type": "markdown",
     "metadata": {},
     "source": [
      "**Exercise 3 (10 points)**\n",
      "\n",
      "Modify the Gaussian mixture model example in the EM lecture notes so that "
     ]
    },
    {
     "cell_type": "code",
     "collapsed": false,
     "input": [],
     "language": "python",
     "metadata": {},
     "outputs": []
    },
    {
     "cell_type": "code",
     "collapsed": false,
     "input": [],
     "language": "python",
     "metadata": {},
     "outputs": []
    },
    {
     "cell_type": "code",
     "collapsed": false,
     "input": [],
     "language": "python",
     "metadata": {},
     "outputs": []
    }
   ],
   "metadata": {}
  }
 ]
}