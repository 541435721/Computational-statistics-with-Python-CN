{
 "metadata": {
  "name": "",
  "signature": "sha256:54d021a609dd79afc71a0cf1ebb72477287f64e562d1b44df895e9a3697af445"
 },
 "nbformat": 3,
 "nbformat_minor": 0,
 "worksheets": [
  {
   "cells": [
    {
     "cell_type": "markdown",
     "metadata": {},
     "source": [
      "**Exercise**. A Caesar cipher replaces each in a string with the letter $k$ modulo 26 positions down. For example, with $k=3$, 'a' would become 'd', 'b' would become 'e' and so on. The Caesar cipher is very easy to crack, since the relative letter frequencies are preserved - that is, 'e' is the most commonly used English letter, so the most frequent letter in the cipher is likely to be the code for 'e'. We can download a large corpus of English text (e.g. a few books from Project Gutenberg), and estimate the individual letter frequencies. Using for example, a multinomial model where each letter is one of 26 possibiilites with frequencies given by the the previous estimates, and assuming that each letter is independent, we can simply go through all 26 possible values of $k$ and choose the model with the highest likelihood. Or just use $\\chi^2$ statistic to compare observed and expected frequencies.\n",
      "\n",
      "Have an extended exercise to write a Caesar encoder and code to crack the cipher. \n",
      "\n",
      "- Writing the encoder/decoder\n",
      "    - Convert a sentence to lowercase\n",
      "    - Write a function let2int to convert a lowercase letter to a number from 0 to 25\n",
      "    - Write the reverse function int2let to convert a number to a lowercase letter\n",
      "    - Examples with the ternary operator in a list comprehsnsion\n",
      "    - Write a functiton to encode a sentecne with shift k\n",
      "    - Write a function to decode a sentence with shfit k\n",
      "    - Confirm that sentence = decode(encode(sentence))\n",
      "    \n",
      "- Writing the cracker\n",
      "    - Write a function to download a book from Project Gutenberg\n",
      "    - Write a fucntion to estimte letter frequencies in text\n",
      "    - Write a function to calculate the $\\chi^2$ statistic given observed and expected frequencies\n",
      "    - Write a cracker to deecode encrypted text by choosing the shift $k$ with the smallest $\\chi^2$ score\n",
      "    \n",
      "Worked example provided in [caesar.ipynb](caesar.ipynb)"
     ]
    },
    {
     "cell_type": "code",
     "collapsed": false,
     "input": [],
     "language": "python",
     "metadata": {},
     "outputs": []
    }
   ],
   "metadata": {}
  }
 ]
}