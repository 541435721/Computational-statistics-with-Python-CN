{
 "metadata": {
  "name": "",
  "signature": "sha256:1cc61bf474b2918a84fb7097aab196dc5bb70f337e8c3a3423c6b28db5ba2685"
 },
 "nbformat": 3,
 "nbformat_minor": 0,
 "worksheets": [
  {
   "cells": [
    {
     "cell_type": "code",
     "collapsed": false,
     "input": [],
     "language": "python",
     "metadata": {},
     "outputs": []
    }
   ],
   "metadata": {}
  }
 ]
}