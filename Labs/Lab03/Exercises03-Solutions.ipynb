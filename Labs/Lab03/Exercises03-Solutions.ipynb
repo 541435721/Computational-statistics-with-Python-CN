{
 "metadata": {
  "name": "",
  "signature": "sha256:d7b384f718d257cd4eced4f02beed14fd723cb468b7debf281b2e47ac5732cab"
 },
 "nbformat": 3,
 "nbformat_minor": 0,
 "worksheets": [
  {
   "cells": [
    {
     "cell_type": "code",
     "collapsed": false,
     "input": [
      "import os\n",
      "import sys\n",
      "import glob\n",
      "import matplotlib.pyplot as plt\n",
      "import numpy as np\n",
      "import pandas as pd\n",
      "%matplotlib inline\n",
      "plt.style.use('ggplot')\n",
      "%precision 4"
     ],
     "language": "python",
     "metadata": {},
     "outputs": [
      {
       "metadata": {},
       "output_type": "pyout",
       "prompt_number": 12,
       "text": [
        "u'%.4f'"
       ]
      }
     ],
     "prompt_number": 12
    },
    {
     "cell_type": "markdown",
     "metadata": {},
     "source": [
      "**Exercise 1 (10 pts)**. Avodiing catastrophic cancellation.\n",
      "\n",
      "The tail of the standard logistic distributon is given by $1 - F(t) = 1 - (1+e^{-t})^{-1}$.\n",
      "\n",
      "- Define a function `f1` to calculate the tail probability of the logistic distribution using the formula given above\n",
      "- Use `sympy` to find the exact value of the tail distribution (using the same symbolic formula) to 20 decimal digits\n",
      "- Calculate the *relative error* of `f1` when $t = 25$ (The relative error is given by `abs(exact - approximate)/exact`)\n",
      "- Rewrite the expression for the tail of the logistic distribution using simple algebra so that there is no risk of cancellation, and write a function `f2` using this formula. Calculate the *relative error* of `f2` when $t = 25$. \n",
      "- How much more accurate is `f2` compared with `f1` in terms of the relative error?"
     ]
    },
    {
     "cell_type": "code",
     "collapsed": false,
     "input": [
      "# Your code here\n",
      "\n",
      "def f1(t):\n",
      "    \"\"\"Calculates tail probabilty of the logistic distribution.\"\"\"\n",
      "    return 1 - 1.0/(1 + np.exp(-t))\n",
      "\n",
      "def fsymb(t, n=20):\n",
      "    \"\"\"Exact value to n decimal digits using symbolic algebra.\"\"\"\n",
      "    from sympy import exp\n",
      "    return (1 - 1/(1 + exp(-t))).evalf(n=n)\n",
      "\n",
      "def f2(t):\n",
      "    \"\"\"Calculates tail probabilty of the logistic distribution - no cancellation.\"\"\"\n",
      "    return 1/(1 + np.exp(t))\n",
      "\n",
      "r1 =  abs(fsymb(25) - f1(25))/fsymb(25)\n",
      "r2 = abs(fsymb(25) - f2(25))/fsymb(25)\n",
      "\n",
      "print \"Relative error of f1:\\t%.16f\" % r1\n",
      "print \"Relative error of f2\\t%.16f\" % r2\n",
      "print \"f2 improvieemnt over f1\\t%g\" % (r1/r2)"
     ],
     "language": "python",
     "metadata": {},
     "outputs": [
      {
       "output_type": "stream",
       "stream": "stdout",
       "text": [
        "Relative error of f1:\t0.0000041759147666\n",
        "Relative error of f2\t0.0000000000000001\n",
        "f2 improvieemnt over f1\t3.66247e+10\n"
       ]
      }
     ],
     "prompt_number": 46
    },
    {
     "cell_type": "markdown",
     "metadata": {},
     "source": [
      "**Exercise 2 (10 pts)**. Ill-conditioned linear problems.\n",
      "\n",
      "You are given a $n \\times p$ design matrix $X$ and a $p$-vector of observations $y$ and asked to find the coefficients $\\beta$ that solve the linear equations $X \\beta = y$. \n",
      "```python\n",
      "X = np.load('x.npy')\n",
      "y = np.load('y.npy')\n",
      "```\n",
      "\n",
      "The solution $\\beta$ can also be loaded as\n",
      "```python\n",
      "beta = np.load('b.npy')\n",
      "```\n",
      "\n",
      "- Write a formulat that could solve the system of linear equations in terms of $X$ and $y$ Write a function `f1` that takes arguments $X$ and $y$ and returns $\\beta$ using this.\n",
      "- How could you code this formula using `np.linalg.solve` tht does not require inverting a matrix? Write a function `f2` that takes arguments $X$ and $y$ and returns $\\beta$ using this.\n",
      "- Note that carefully designed algorithms *can* solve this ill-conditioned problem, which is why you should always use library functions for linear algebra rather than write your own.\n",
      "```python\n",
      "np.linalg.lstsq(x, y)[0]\n",
      "```\n",
      "- What happens if you try to solve for $\\beta$ using `f1` or `f2`? Remove the column of $X$ that is making the matrix singluar and find the $p-1$ vector $b$ using `f2`.\n",
      "- Note that the solution differs from that given by `np.linalg.lstsq`. This arises because the relevant condition number for `f2` is actually for the matrix $X^TX$ while the condition number of `lstsq` is for the matrix $X$. Why is the condition so high even after removing the column that makes the matrix singular?"
     ]
    },
    {
     "cell_type": "code",
     "collapsed": false,
     "input": [
      "X = np.load('x.npy')\n",
      "y = np.load('y.npy')\n",
      "beta = np.load('b.npy')\n",
      "\n",
      "# Your code here\n",
      "\n",
      "def f1(X, y):\n",
      "    \"\"\"Direct translation of normal equations to code.\"\"\"\n",
      "    return np.dot(np.linalg.inv(np.dot(X.T, X)), np.dot(X.T, y))\n",
      "\n",
      "def f2(X, y):\n",
      "    \"\"\"Solving normal equations wihtout matrix inversion.\"\"\"\n",
      "    return np.solve(np.dot(x.T, x), np.dot(x.T, np.dot(x, b)))\n",
      "\n",
      "%precision 2\n",
      "print \"X = \"\n",
      "print X\n",
      "# counting from 0 (so column 5 is the last column)\n",
      "# we can see that column 5 is a multiple of column 3\n",
      "# so one approach is to simply remove this (dependent) column\n",
      "\n",
      "print \"True solution\\t\\t\", beta\n",
      "print \"Library function\\t\", np.linalg.lstsq(X, y)[0]\n",
      "print \"Using f2\\t\\t\", f1(X[:, :5], y)\n",
      "\n",
      "# Condition number is still high because column 1 is on a much\n",
      "# larger scale than all the other columns"
     ],
     "language": "python",
     "metadata": {},
     "outputs": [
      {
       "output_type": "stream",
       "stream": "stdout",
       "text": [
        "X = \n",
        "[[  5.00e+00   4.82e+14   9.00e+00   5.00e+00   0.00e+00   5.00e+01]\n",
        " [  1.00e+00   4.21e+14   6.00e+00   9.00e+00   2.00e+00   9.00e+01]\n",
        " [  5.00e+00   1.20e+14   4.00e+00   2.00e+00   4.00e+00   2.00e+01]\n",
        " [  7.00e+00   5.42e+14   1.00e+00   7.00e+00   0.00e+00   7.00e+01]\n",
        " [  9.00e+00   5.42e+14   7.00e+00   6.00e+00   9.00e+00   6.00e+01]\n",
        " [  0.00e+00   6.02e+13   8.00e+00   8.00e+00   3.00e+00   8.00e+01]\n",
        " [  8.00e+00   4.21e+14   3.00e+00   6.00e+00   5.00e+00   6.00e+01]\n",
        " [  9.00e+00   1.81e+14   4.00e+00   8.00e+00   1.00e+00   8.00e+01]\n",
        " [  0.00e+00   1.81e+14   9.00e+00   2.00e+00   0.00e+00   2.00e+01]\n",
        " [  9.00e+00   1.20e+14   7.00e+00   7.00e+00   9.00e+00   7.00e+01]]\n",
        "True solution\t\t[ 0.47  0.1   0.9   0.12  0.52  0.08]\n",
        "Library function\t[ 0.47  0.1   0.9   0.01  0.53  0.09]\n",
        "Using f2\t\t[ 0.47  0.1   0.91  0.95  0.52]\n"
       ]
      }
     ],
     "prompt_number": 34
    },
    {
     "cell_type": "markdown",
     "metadata": {},
     "source": [
      "**Exercise 3 (10 pts)**. Importance of using efficient algorihtms.\n",
      "\n",
      "- Implement bubble sort\n",
      "- Calculate its big $\\mathcal{O}$ algorithmic complexity\n",
      "- Time the performance of bubble sort on random uniform deivate vectors of sizes `range(100, 2000, 100)` using `time.time()` from the standard library\n",
      "- Use `scipy.optimize.curve_fit` to fit an appropirate function to the collection of (size, execution time) data points. Extrapolate how long it would take to sort a ranodm vector of size 1,000,000. Now time how long it takes for the system sort to sort a ranodm vector of size 1,000,000.\n",
      "- Plot the fits together with the data points uisng `matplotlib.pyplot` functions."
     ]
    },
    {
     "cell_type": "code",
     "collapsed": false,
     "input": [
      "# Your code here\n",
      "\n",
      "def bubble(xs):\n",
      "    \"\"\"Bubble sort.\"\"\"\n",
      "    for i in range(len(xs)):\n",
      "        for j in range(i, len(xs)):\n",
      "            if xs[i] > xs[j]:\n",
      "                xs[i], xs[j] = xs[j], xs[i]\n",
      "    return xs\n",
      "\n",
      "import time\n",
      "\n",
      "ns = range(100, 2000, 100)\n",
      "bubble_times = []\n",
      "\n",
      "for n in ns:\n",
      "    xs = np.random.random(n)\n",
      "    start = time.time()\n",
      "    bubble(xs)\n",
      "    bubble_times.append(time.time() - start)\n",
      "\n",
      "def func(x, a, b, c):\n",
      "    \"\"\"Quadratic function for O(n^2) complexity.\"\"\"\n",
      "    return a*x**2 + b*x + c\n",
      "\n",
      "from scipy.optimize import curve_fit\n",
      "\n",
      "plt.scatter(ns, bubble_times, c='blue')\n",
      "popt, pcov = curve_fit(func, ns, bubble_times)\n",
      "a, b, c = popt\n",
      "\n",
      "print \"Predicted time to sort 1,000,000 items = %.2f seconds\" % func(1000000, a, b, c)\n",
      "\n",
      "x = np.random.random(1000000)\n",
      "start = time.time()\n",
      "x.sort()\n",
      "elapsed = time.time() - start\n",
      "print \"Time for system sort to sort 1,000,000 items = %.2f seconds\" % elapsed\n",
      "\n",
      "xp = np.linspace(0, 2000)\n",
      "plt.plot(xp, func(xp, a, b, c))\n",
      "plt.xlim([0, 2000]);"
     ],
     "language": "python",
     "metadata": {},
     "outputs": [
      {
       "output_type": "stream",
       "stream": "stdout",
       "text": [
        "Predicted time to sort 1,000,000 items = 280338.51 seconds\n",
        "Time for system sort to sort 1,000,000 items = 0.10 seconds"
       ]
      },
      {
       "output_type": "stream",
       "stream": "stdout",
       "text": [
        "\n"
       ]
      },
      {
       "metadata": {},
       "output_type": "display_data",
       "png": "[encoded data removed]",
       "text": [
        "<matplotlib.figure.Figure at 0x115e47cd0>"
       ]
      }
     ],
     "prompt_number": 45
    },
    {
     "cell_type": "markdown",
     "metadata": {},
     "source": [
      "**Exercise 4 (20 pts)**. One of the goals of the course it that you will be able to implement novel algorihtms from the literature. \n",
      "\n",
      "- Implement the mean-shift algorithm in 1D as described [here](http://homepages.inf.ed.ac.uk/rbf/CVonline/LOCAL_COPIES/TUZEL1/MeanShift.pdf). \n",
      "    - Use the following function signature\n",
      "    ```python\n",
      "    def mean_shift(xs, x, kernel, max_iters=100, tol=1e-6):\n",
      "    ```\n",
      "    - xs is the data set, x is the starting location, and kernel is a kernel function\n",
      "    - tol is the difference in $||x||$ across iterations\n",
      "- Use the following kernels with bandwidth $h$ (a default value of 1.0 will work fine)\n",
      "    - Flat - return 1 if $||x|| < h$ and 0 otherwise\n",
      "    - Gaussian \n",
      "    $$\\frac{1}{\\sqrt{2 \\pi h}}e^{\\frac{-||x||^2}{h^2}}$$\n",
      "    - Note that $||x||$ is the norm of the data point being evaluated minus the current value of $x$\n",
      "- Use both kernels to find all 3 modes of the data set in `x1d.npy`\n",
      "- Modify the algorihtm abd/or kernels so that it now works in an arbitrary number of dimensions.\n",
      "- Uset both kernels to find all 3 modes of the data set in `x2d.npy`\n",
      "- Plot the path of successive intermeidate solutions of the mean-shift algorithm starting from `x0 = (-4, 10)` until it converges onto a mode in the 2D data for each kernel. Superimposet the path on top of a contour plot of the data density."
     ]
    },
    {
     "cell_type": "code",
     "collapsed": false,
     "input": [
      "# Your code here\n",
      "\n",
      "def gaussian_kernel(xs, m, h=1.0):\n",
      "    \"\"\"Gaussian kernel for a shifting window centerd at m.\"\"\"\n",
      "    X = xs - m\n",
      "    d = X.shape[1]\n",
      "    return [(2*np.pi*h**d)**-0.5*np.exp(-(np.dot(_.T, _)/h)**2) for _ in X]\n",
      "\n",
      "def flat_kernel(xs, m, h=1.0):\n",
      "    \"\"\"Flat kenrel for a shifting window centerd at m.\"\"\"\n",
      "    return "
     ],
     "language": "python",
     "metadata": {},
     "outputs": [],
     "prompt_number": 56
    },
    {
     "cell_type": "code",
     "collapsed": false,
     "input": [
      "gaussian_kernel(np.ones((4,2)), np.zeros(2), 2)"
     ],
     "language": "python",
     "metadata": {},
     "outputs": [
      {
       "output_type": "stream",
       "stream": "stdout",
       "text": [
        "2\n"
       ]
      },
      {
       "metadata": {},
       "output_type": "pyout",
       "prompt_number": 57,
       "text": [
        "[0.07, 0.07, 0.07, 0.07]"
       ]
      }
     ],
     "prompt_number": 57
    },
    {
     "cell_type": "code",
     "collapsed": false,
     "input": [
      "np.dot(xs.T, xs)"
     ],
     "language": "python",
     "metadata": {},
     "outputs": [
      {
       "metadata": {},
       "output_type": "pyout",
       "prompt_number": 51,
       "text": [
        "array([[ 10.,  10.],\n",
        "       [ 10.,  10.]])"
       ]
      }
     ],
     "prompt_number": 51
    },
    {
     "cell_type": "code",
     "collapsed": false,
     "input": [
      "# Recursion is used to show off the dividde-and-conquer paradigm\n",
      "\n",
      "def almost_quick_sort(xs):\n",
      "    \"\"\"Almost a quick sort.\"\"\"\n",
      "\n",
      "    # base case\n",
      "    if xs == []:\n",
      "        return xs\n",
      "    # recursive case\n",
      "    else:\n",
      "        pivot = xs[0]\n",
      "        less_than = [x for x in xs[1:] if x <= pivot]\n",
      "        more_than = [x for x in xs[1:] if x > pivot]\n",
      "        return almost_quick_sort(less_than) + [pivot] + almost_quick_sort(more_than)\n",
      "\n",
      "xs = [3,1,4,1,5,9,2,6,5,3,5,9]\n",
      "print almost_quick_sort(xs)"
     ],
     "language": "python",
     "metadata": {},
     "outputs": [
      {
       "output_type": "stream",
       "stream": "stdout",
       "text": [
        "[1, 1, 2, 3, 3, 4, 5, 5, 5, 6, 9, 9]\n"
       ]
      }
     ],
     "prompt_number": 436
    },
    {
     "cell_type": "code",
     "collapsed": false,
     "input": [
      "x = np.load('x.npy')\n",
      "y = np.load('y.npy')\n",
      "b = np.load('b.npy')"
     ],
     "language": "python",
     "metadata": {},
     "outputs": [],
     "prompt_number": 408
    },
    {
     "cell_type": "code",
     "collapsed": false,
     "input": [
      "np.linalg.lstsq(x, y)[0]"
     ],
     "language": "python",
     "metadata": {},
     "outputs": [
      {
       "metadata": {},
       "output_type": "pyout",
       "prompt_number": 409,
       "text": [
        "array([ 0.47,  0.1 ,  0.9 ,  0.01,  0.53,  0.09])"
       ]
      }
     ],
     "prompt_number": 409
    },
    {
     "cell_type": "code",
     "collapsed": false,
     "input": [
      "np.linalg.solve(np.dot(x.T, x), np.dot(x.T, np.dot(x, b)))"
     ],
     "language": "python",
     "metadata": {},
     "outputs": [
      {
       "ename": "LinAlgError",
       "evalue": "Singular matrix",
       "output_type": "pyerr",
       "traceback": [
        "\u001b[0;31m---------------------------------------------------------------------------\u001b[0m\n\u001b[0;31mLinAlgError\u001b[0m                               Traceback (most recent call last)",
        "\u001b[0;32m<ipython-input-411-fbdc72d4530a>\u001b[0m in \u001b[0;36m<module>\u001b[0;34m()\u001b[0m\n\u001b[0;32m----> 1\u001b[0;31m \u001b[0mnp\u001b[0m\u001b[0;34m.\u001b[0m\u001b[0mlinalg\u001b[0m\u001b[0;34m.\u001b[0m\u001b[0msolve\u001b[0m\u001b[0;34m(\u001b[0m\u001b[0mnp\u001b[0m\u001b[0;34m.\u001b[0m\u001b[0mdot\u001b[0m\u001b[0;34m(\u001b[0m\u001b[0mx\u001b[0m\u001b[0;34m.\u001b[0m\u001b[0mT\u001b[0m\u001b[0;34m,\u001b[0m \u001b[0mx\u001b[0m\u001b[0;34m)\u001b[0m\u001b[0;34m,\u001b[0m \u001b[0mnp\u001b[0m\u001b[0;34m.\u001b[0m\u001b[0mdot\u001b[0m\u001b[0;34m(\u001b[0m\u001b[0mx\u001b[0m\u001b[0;34m.\u001b[0m\u001b[0mT\u001b[0m\u001b[0;34m,\u001b[0m \u001b[0mnp\u001b[0m\u001b[0;34m.\u001b[0m\u001b[0mdot\u001b[0m\u001b[0;34m(\u001b[0m\u001b[0mx\u001b[0m\u001b[0;34m,\u001b[0m \u001b[0mb\u001b[0m\u001b[0;34m)\u001b[0m\u001b[0;34m)\u001b[0m\u001b[0;34m)\u001b[0m\u001b[0;34m\u001b[0m\u001b[0m\n\u001b[0m",
        "\u001b[0;32m/Users/cliburn/anaconda/lib/python2.7/site-packages/numpy/linalg/linalg.pyc\u001b[0m in \u001b[0;36msolve\u001b[0;34m(a, b)\u001b[0m\n\u001b[1;32m    379\u001b[0m     \u001b[0msignature\u001b[0m \u001b[0;34m=\u001b[0m \u001b[0;34m'DD->D'\u001b[0m \u001b[0;32mif\u001b[0m \u001b[0misComplexType\u001b[0m\u001b[0;34m(\u001b[0m\u001b[0mt\u001b[0m\u001b[0;34m)\u001b[0m \u001b[0;32melse\u001b[0m \u001b[0;34m'dd->d'\u001b[0m\u001b[0;34m\u001b[0m\u001b[0m\n\u001b[1;32m    380\u001b[0m     \u001b[0mextobj\u001b[0m \u001b[0;34m=\u001b[0m \u001b[0mget_linalg_error_extobj\u001b[0m\u001b[0;34m(\u001b[0m\u001b[0m_raise_linalgerror_singular\u001b[0m\u001b[0;34m)\u001b[0m\u001b[0;34m\u001b[0m\u001b[0m\n\u001b[0;32m--> 381\u001b[0;31m     \u001b[0mr\u001b[0m \u001b[0;34m=\u001b[0m \u001b[0mgufunc\u001b[0m\u001b[0;34m(\u001b[0m\u001b[0ma\u001b[0m\u001b[0;34m,\u001b[0m \u001b[0mb\u001b[0m\u001b[0;34m,\u001b[0m \u001b[0msignature\u001b[0m\u001b[0;34m=\u001b[0m\u001b[0msignature\u001b[0m\u001b[0;34m,\u001b[0m \u001b[0mextobj\u001b[0m\u001b[0;34m=\u001b[0m\u001b[0mextobj\u001b[0m\u001b[0;34m)\u001b[0m\u001b[0;34m\u001b[0m\u001b[0m\n\u001b[0m\u001b[1;32m    382\u001b[0m \u001b[0;34m\u001b[0m\u001b[0m\n\u001b[1;32m    383\u001b[0m     \u001b[0;32mreturn\u001b[0m \u001b[0mwrap\u001b[0m\u001b[0;34m(\u001b[0m\u001b[0mr\u001b[0m\u001b[0;34m.\u001b[0m\u001b[0mastype\u001b[0m\u001b[0;34m(\u001b[0m\u001b[0mresult_t\u001b[0m\u001b[0;34m)\u001b[0m\u001b[0;34m)\u001b[0m\u001b[0;34m\u001b[0m\u001b[0m\n",
        "\u001b[0;32m/Users/cliburn/anaconda/lib/python2.7/site-packages/numpy/linalg/linalg.pyc\u001b[0m in \u001b[0;36m_raise_linalgerror_singular\u001b[0;34m(err, flag)\u001b[0m\n\u001b[1;32m     88\u001b[0m \u001b[0;34m\u001b[0m\u001b[0m\n\u001b[1;32m     89\u001b[0m \u001b[0;32mdef\u001b[0m \u001b[0m_raise_linalgerror_singular\u001b[0m\u001b[0;34m(\u001b[0m\u001b[0merr\u001b[0m\u001b[0;34m,\u001b[0m \u001b[0mflag\u001b[0m\u001b[0;34m)\u001b[0m\u001b[0;34m:\u001b[0m\u001b[0;34m\u001b[0m\u001b[0m\n\u001b[0;32m---> 90\u001b[0;31m     \u001b[0;32mraise\u001b[0m \u001b[0mLinAlgError\u001b[0m\u001b[0;34m(\u001b[0m\u001b[0;34m\"Singular matrix\"\u001b[0m\u001b[0;34m)\u001b[0m\u001b[0;34m\u001b[0m\u001b[0m\n\u001b[0m\u001b[1;32m     91\u001b[0m \u001b[0;34m\u001b[0m\u001b[0m\n\u001b[1;32m     92\u001b[0m \u001b[0;32mdef\u001b[0m \u001b[0m_raise_linalgerror_nonposdef\u001b[0m\u001b[0;34m(\u001b[0m\u001b[0merr\u001b[0m\u001b[0;34m,\u001b[0m \u001b[0mflag\u001b[0m\u001b[0;34m)\u001b[0m\u001b[0;34m:\u001b[0m\u001b[0;34m\u001b[0m\u001b[0m\n",
        "\u001b[0;31mLinAlgError\u001b[0m: Singular matrix"
       ]
      }
     ],
     "prompt_number": 411
    },
    {
     "cell_type": "code",
     "collapsed": false,
     "input": [
      "np.dot(np.dot(np.linalg.inv(np.dot(x[:,:5].T, x[:, :5])), x[:, :5].T), np.dot(x[:, :5], b[:5]))"
     ],
     "language": "python",
     "metadata": {},
     "outputs": [
      {
       "metadata": {},
       "output_type": "pyout",
       "prompt_number": 412,
       "text": [
        "array([ 0.47,  0.1 ,  0.9 ,  0.12,  0.52])"
       ]
      }
     ],
     "prompt_number": 412
    },
    {
     "cell_type": "code",
     "collapsed": false,
     "input": [],
     "language": "python",
     "metadata": {},
     "outputs": []
    },
    {
     "cell_type": "code",
     "collapsed": false,
     "input": [
      "def f2(t):\n",
      "    return 1/(1 + np.exp(t))"
     ],
     "language": "python",
     "metadata": {},
     "outputs": [],
     "prompt_number": 253
    },
    {
     "cell_type": "code",
     "collapsed": false,
     "input": [
      "f2(25)"
     ],
     "language": "python",
     "metadata": {},
     "outputs": [
      {
       "metadata": {},
       "output_type": "pyout",
       "prompt_number": 25,
       "text": [
        "0.00000000001388794386"
       ]
      }
     ],
     "prompt_number": 25
    },
    {
     "cell_type": "code",
     "collapsed": false,
     "input": [
      "f2(t) - f(t)"
     ],
     "language": "python",
     "metadata": {},
     "outputs": [
      {
       "metadata": {},
       "output_type": "pyout",
       "prompt_number": 28,
       "text": [
        "-0.00000000000000007398"
       ]
      }
     ],
     "prompt_number": 28
    },
    {
     "cell_type": "code",
     "collapsed": false,
     "input": [
      "from sympy import symbols, exp\n",
      "\n",
      "exact = (1 - 1/(1 + exp(-25))).evalf(n=20)"
     ],
     "language": "python",
     "metadata": {},
     "outputs": [],
     "prompt_number": 52
    },
    {
     "cell_type": "code",
     "collapsed": false,
     "input": [
      "np.abs(exact - f(25))/exact"
     ],
     "language": "python",
     "metadata": {},
     "outputs": [
      {
       "metadata": {},
       "output_type": "pyout",
       "prompt_number": 55,
       "text": [
        "4.1759147665982646285e-6"
       ]
      }
     ],
     "prompt_number": 55
    },
    {
     "cell_type": "code",
     "collapsed": false,
     "input": [
      "np.abs(exact - f2(25))/exact"
     ],
     "language": "python",
     "metadata": {},
     "outputs": [
      {
       "metadata": {},
       "output_type": "pyout",
       "prompt_number": 56,
       "text": [
        "1.1401906367350844868e-16"
       ]
      }
     ],
     "prompt_number": 56
    },
    {
     "cell_type": "code",
     "collapsed": false,
     "input": [],
     "language": "python",
     "metadata": {},
     "outputs": []
    },
    {
     "cell_type": "code",
     "collapsed": false,
     "input": [],
     "language": "python",
     "metadata": {},
     "outputs": []
    },
    {
     "cell_type": "code",
     "collapsed": false,
     "input": [
      "a = dict(zip(range(1000000), range(1000000)))\n",
      "b = dict(zip(range(4000), range(1000000,1004000)))\n",
      "\n",
      "%timeit {k: [a[k], b[k]] for k in b if k in a}"
     ],
     "language": "python",
     "metadata": {},
     "outputs": [
      {
       "output_type": "stream",
       "stream": "stdout",
       "text": [
        "100 loops, best of 3: 2.61 ms per loop\n"
       ]
      }
     ],
     "prompt_number": 466
    },
    {
     "cell_type": "code",
     "collapsed": false,
     "input": [],
     "language": "python",
     "metadata": {},
     "outputs": []
    }
   ],
   "metadata": {}
  }
 ]
}