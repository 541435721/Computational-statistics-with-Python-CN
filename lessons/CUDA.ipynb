{
 "metadata": {
  "name": "",
  "signature": "sha256:4528cdbf3328e204e0618ee63bd887e1cab3bc02d5c3040017a13e330b587de8"
 },
 "nbformat": 3,
 "nbformat_minor": 0,
 "worksheets": [
  {
   "cells": [
    {
     "cell_type": "code",
     "collapsed": false,
     "input": [
      "%matplotlib inline\n",
      "import matplotlib.pyplot as plt"
     ],
     "language": "python",
     "metadata": {},
     "outputs": [],
     "prompt_number": 1
    },
    {
     "cell_type": "markdown",
     "metadata": {},
     "source": [
      "### CUDA Python\n",
      "\n",
      "Most of the time, it is sufficient to use the high-level decorators `jit`, `autojit`, `vectorize` and `guvectorize` for running functoins on the GPU, but sometimes, explicit control is necessary. This is provided by the \n",
      "\n",
      "Low level Python code using the numbapro.cuda module is similar to CUDA C, and will compile to the same machine code, but with the benefits of integerating into Python for use of numpy arrays, convenient I/O, graphics etc.\n",
      "\n",
      "Optionally, CUDA Python can provide\n",
      "\n",
      "* Automatic memory transfer\n",
      "    * NumPy arrays are automatically transferred\n",
      "    * CPU -> GPU\n",
      "    * GPU -> CPU\n",
      "* Automatic work scheduling\n",
      "    * The work is distributed the across all threads on the GPU\n",
      "    * The GPU hardware handles the scheduling\n",
      "* Automatic GPU memory management\n",
      "    * GPU memory is tied to object lifetime\n",
      "    * freed automatically\n",
      "   \n",
      "but these can be over-riden with explicit control instructions if desired. [Source](http://nbviewer.ipython.org/github/ContinuumIO/numbapro-examples/blob/master/webinars/2014_06_17/intro_to_gpu_python.ipynb)\n",
      "\n",
      "Python CUDA also provides syntactic sugar for obtaining thread identity. For example,\n",
      "\n",
      "```python\n",
      "tx = cuda.threadIdx.x\n",
      "ty = cuda.threadIdx.y\n",
      "bx = cuda.blockIdx.x\n",
      "by = cuda.blockIdx.y\n",
      "bw = cuda.blockDim.x\n",
      "bh = cuda.blockDim.y\n",
      "x = tx + bx * bw\n",
      "y = ty + by * bh\n",
      "array[x, y] = something(x, y)\n",
      "``` \n",
      "can be abbreivated to\n",
      "```python\n",
      "x, y = cuda.grid(2)\n",
      "array[x, y] = something(x, y)\n",
      "```"
     ]
    },
    {
     "cell_type": "code",
     "collapsed": false,
     "input": [
      "from numbapro import cuda, vectorize, guvectorize\n",
      "from numbapro import void, int64, float32, float64, complex64, complex128\n",
      "import numpy as np"
     ],
     "language": "python",
     "metadata": {},
     "outputs": [],
     "prompt_number": 21
    },
    {
     "cell_type": "code",
     "collapsed": false,
     "input": [
      "gpu = cuda.get_current_device()"
     ],
     "language": "python",
     "metadata": {},
     "outputs": [
      {
       "ename": "CudaSupportError",
       "evalue": "Error at driver init: \n\nCUDA driver library cannot be found.\nIf you are sure that a CUDA driver is installed,\ntry setting environment variable NUMBAPRO_CUDA_DRIVER\nwith the file path of the CUDA driver shared library.\n:",
       "output_type": "pyerr",
       "traceback": [
        "\u001b[0;31m---------------------------------------------------------------------------\u001b[0m\n\u001b[0;31mCudaSupportError\u001b[0m                          Traceback (most recent call last)",
        "\u001b[0;32m<ipython-input-3-af41809cc40a>\u001b[0m in \u001b[0;36m<module>\u001b[0;34m()\u001b[0m\n\u001b[0;32m----> 1\u001b[0;31m \u001b[0mgpu\u001b[0m \u001b[0;34m=\u001b[0m \u001b[0mcuda\u001b[0m\u001b[0;34m.\u001b[0m\u001b[0mget_current_device\u001b[0m\u001b[0;34m(\u001b[0m\u001b[0;34m)\u001b[0m\u001b[0;34m\u001b[0m\u001b[0m\n\u001b[0m",
        "\u001b[0;32m/Users/cliburn/anaconda/lib/python2.7/site-packages/numba/cuda/api.pyc\u001b[0m in \u001b[0;36mget_current_device\u001b[0;34m()\u001b[0m\n\u001b[1;32m    225\u001b[0m \u001b[0;32mdef\u001b[0m \u001b[0mget_current_device\u001b[0m\u001b[0;34m(\u001b[0m\u001b[0;34m)\u001b[0m\u001b[0;34m:\u001b[0m\u001b[0;34m\u001b[0m\u001b[0m\n\u001b[1;32m    226\u001b[0m     \u001b[0;34m\"Get current device associated with the current thread\"\u001b[0m\u001b[0;34m\u001b[0m\u001b[0m\n\u001b[0;32m--> 227\u001b[0;31m     \u001b[0;32mreturn\u001b[0m \u001b[0mcurrent_context\u001b[0m\u001b[0;34m(\u001b[0m\u001b[0;34m)\u001b[0m\u001b[0;34m.\u001b[0m\u001b[0mdevice\u001b[0m\u001b[0;34m\u001b[0m\u001b[0m\n\u001b[0m\u001b[1;32m    228\u001b[0m \u001b[0;34m\u001b[0m\u001b[0m\n\u001b[1;32m    229\u001b[0m \u001b[0;34m\u001b[0m\u001b[0m\n",
        "\u001b[0;32m/Users/cliburn/anaconda/lib/python2.7/site-packages/numba/cuda/cudadrv/devices.pyc\u001b[0m in \u001b[0;36mget_context\u001b[0;34m(devnum)\u001b[0m\n\u001b[1;32m     80\u001b[0m \u001b[0;32mdef\u001b[0m \u001b[0mget_context\u001b[0m\u001b[0;34m(\u001b[0m\u001b[0mdevnum\u001b[0m\u001b[0;34m=\u001b[0m\u001b[0;36m0\u001b[0m\u001b[0;34m)\u001b[0m\u001b[0;34m:\u001b[0m\u001b[0;34m\u001b[0m\u001b[0m\n\u001b[1;32m     81\u001b[0m     \u001b[0;32mif\u001b[0m \u001b[0;32mnot\u001b[0m \u001b[0m_gpustack\u001b[0m\u001b[0;34m:\u001b[0m\u001b[0;34m\u001b[0m\u001b[0m\n\u001b[0;32m---> 82\u001b[0;31m         \u001b[0m_gpustack\u001b[0m\u001b[0;34m.\u001b[0m\u001b[0mpush\u001b[0m\u001b[0;34m(\u001b[0m\u001b[0mget_gpu\u001b[0m\u001b[0;34m(\u001b[0m\u001b[0mdevnum\u001b[0m\u001b[0;34m)\u001b[0m\u001b[0;34m.\u001b[0m\u001b[0mcontext\u001b[0m\u001b[0;34m)\u001b[0m\u001b[0;34m\u001b[0m\u001b[0m\n\u001b[0m\u001b[1;32m     83\u001b[0m     \u001b[0;32mreturn\u001b[0m \u001b[0m_gpustack\u001b[0m\u001b[0;34m.\u001b[0m\u001b[0mtop\u001b[0m\u001b[0;34m\u001b[0m\u001b[0m\n\u001b[1;32m     84\u001b[0m \u001b[0;34m\u001b[0m\u001b[0m\n",
        "\u001b[0;32m/Users/cliburn/anaconda/lib/python2.7/site-packages/numba/cuda/cudadrv/devices.pyc\u001b[0m in \u001b[0;36mget_gpu\u001b[0;34m(i)\u001b[0m\n\u001b[1;32m     71\u001b[0m \u001b[0;34m\u001b[0m\u001b[0m\n\u001b[1;32m     72\u001b[0m \u001b[0;32mdef\u001b[0m \u001b[0mget_gpu\u001b[0m\u001b[0;34m(\u001b[0m\u001b[0mi\u001b[0m\u001b[0;34m)\u001b[0m\u001b[0;34m:\u001b[0m\u001b[0;34m\u001b[0m\u001b[0m\n\u001b[0;32m---> 73\u001b[0;31m     \u001b[0minit_gpus\u001b[0m\u001b[0;34m(\u001b[0m\u001b[0;34m)\u001b[0m\u001b[0;34m\u001b[0m\u001b[0m\n\u001b[0m\u001b[1;32m     74\u001b[0m     \u001b[0;32mreturn\u001b[0m \u001b[0mgpus\u001b[0m\u001b[0;34m[\u001b[0m\u001b[0mi\u001b[0m\u001b[0;34m]\u001b[0m\u001b[0;34m\u001b[0m\u001b[0m\n\u001b[1;32m     75\u001b[0m \u001b[0;34m\u001b[0m\u001b[0m\n",
        "\u001b[0;32m/Users/cliburn/anaconda/lib/python2.7/site-packages/numba/cuda/cudadrv/devices.pyc\u001b[0m in \u001b[0;36minit_gpus\u001b[0;34m()\u001b[0m\n\u001b[1;32m     17\u001b[0m         \u001b[0;32massert\u001b[0m \u001b[0mlen\u001b[0m\u001b[0;34m(\u001b[0m\u001b[0mgpus\u001b[0m\u001b[0;34m)\u001b[0m\u001b[0;34m\u001b[0m\u001b[0m\n\u001b[1;32m     18\u001b[0m         \u001b[0;32mreturn\u001b[0m\u001b[0;34m\u001b[0m\u001b[0m\n\u001b[0;32m---> 19\u001b[0;31m     \u001b[0;32mfor\u001b[0m \u001b[0mnum\u001b[0m \u001b[0;32min\u001b[0m \u001b[0mrange\u001b[0m\u001b[0;34m(\u001b[0m\u001b[0mdriver\u001b[0m\u001b[0;34m.\u001b[0m\u001b[0mget_device_count\u001b[0m\u001b[0;34m(\u001b[0m\u001b[0;34m)\u001b[0m\u001b[0;34m)\u001b[0m\u001b[0;34m:\u001b[0m\u001b[0;34m\u001b[0m\u001b[0m\n\u001b[0m\u001b[1;32m     20\u001b[0m         \u001b[0mdevice\u001b[0m \u001b[0;34m=\u001b[0m \u001b[0mdriver\u001b[0m\u001b[0;34m.\u001b[0m\u001b[0mget_device\u001b[0m\u001b[0;34m(\u001b[0m\u001b[0mnum\u001b[0m\u001b[0;34m)\u001b[0m\u001b[0;34m\u001b[0m\u001b[0m\n\u001b[1;32m     21\u001b[0m         \u001b[0mgpu\u001b[0m \u001b[0;34m=\u001b[0m \u001b[0mGPU\u001b[0m\u001b[0;34m(\u001b[0m\u001b[0mdevice\u001b[0m\u001b[0;34m)\u001b[0m\u001b[0;34m\u001b[0m\u001b[0m\n",
        "\u001b[0;32m/Users/cliburn/anaconda/lib/python2.7/site-packages/numba/cuda/cudadrv/driver.pyc\u001b[0m in \u001b[0;36mget_device_count\u001b[0;34m(self)\u001b[0m\n\u001b[1;32m    254\u001b[0m     \u001b[0;32mdef\u001b[0m \u001b[0mget_device_count\u001b[0m\u001b[0;34m(\u001b[0m\u001b[0mself\u001b[0m\u001b[0;34m)\u001b[0m\u001b[0;34m:\u001b[0m\u001b[0;34m\u001b[0m\u001b[0m\n\u001b[1;32m    255\u001b[0m         \u001b[0mcount\u001b[0m \u001b[0;34m=\u001b[0m \u001b[0mc_int\u001b[0m\u001b[0;34m(\u001b[0m\u001b[0;34m)\u001b[0m\u001b[0;34m\u001b[0m\u001b[0m\n\u001b[0;32m--> 256\u001b[0;31m         \u001b[0mself\u001b[0m\u001b[0;34m.\u001b[0m\u001b[0mcuDeviceGetCount\u001b[0m\u001b[0;34m(\u001b[0m\u001b[0mbyref\u001b[0m\u001b[0;34m(\u001b[0m\u001b[0mcount\u001b[0m\u001b[0;34m)\u001b[0m\u001b[0;34m)\u001b[0m\u001b[0;34m\u001b[0m\u001b[0m\n\u001b[0m\u001b[1;32m    257\u001b[0m         \u001b[0;32mreturn\u001b[0m \u001b[0mcount\u001b[0m\u001b[0;34m.\u001b[0m\u001b[0mvalue\u001b[0m\u001b[0;34m\u001b[0m\u001b[0m\n\u001b[1;32m    258\u001b[0m \u001b[0;34m\u001b[0m\u001b[0m\n",
        "\u001b[0;32m/Users/cliburn/anaconda/lib/python2.7/site-packages/numba/cuda/cudadrv/driver.pyc\u001b[0m in \u001b[0;36m__getattr__\u001b[0;34m(self, fname)\u001b[0m\n\u001b[1;32m    203\u001b[0m         \u001b[0;32mif\u001b[0m \u001b[0mself\u001b[0m\u001b[0;34m.\u001b[0m\u001b[0minitialization_error\u001b[0m \u001b[0;32mis\u001b[0m \u001b[0;32mnot\u001b[0m \u001b[0mNone\u001b[0m\u001b[0;34m:\u001b[0m\u001b[0;34m\u001b[0m\u001b[0m\n\u001b[1;32m    204\u001b[0m             raise CudaSupportError(\"Error at driver init: \\n%s:\" %\n\u001b[0;32m--> 205\u001b[0;31m                                    self.initialization_error)\n\u001b[0m\u001b[1;32m    206\u001b[0m \u001b[0;34m\u001b[0m\u001b[0m\n\u001b[1;32m    207\u001b[0m         \u001b[0;31m# Find function in driver library\u001b[0m\u001b[0;34m\u001b[0m\u001b[0;34m\u001b[0m\u001b[0m\n",
        "\u001b[0;31mCudaSupportError\u001b[0m: Error at driver init: \n\nCUDA driver library cannot be found.\nIf you are sure that a CUDA driver is installed,\ntry setting environment variable NUMBAPRO_CUDA_DRIVER\nwith the file path of the CUDA driver shared library.\n:"
       ]
      }
     ],
     "prompt_number": 3
    },
    {
     "cell_type": "markdown",
     "metadata": {},
     "source": [
      "### Vector addition with the `vectorize` decorator"
     ]
    },
    {
     "cell_type": "code",
     "collapsed": false,
     "input": [
      "@vectorize(['int64(int64, int64)', \n",
      "            'float32(float32, float32)',\n",
      "            'float64(float64, float64)'], \n",
      "           target='gpu')\n",
      "def cu_add(a, b):\n",
      "    return a + b"
     ],
     "language": "python",
     "metadata": {},
     "outputs": [],
     "prompt_number": 4
    },
    {
     "cell_type": "code",
     "collapsed": false,
     "input": [
      "n = 100\n",
      "a = np.arange(n, dtype=np.float32)\n",
      "b = np.arange(n, dtype=np.float32)"
     ],
     "language": "python",
     "metadata": {},
     "outputs": [],
     "prompt_number": 5
    },
    {
     "cell_type": "code",
     "collapsed": false,
     "input": [
      "c = cu_add(a, b)\n",
      "print c"
     ],
     "language": "python",
     "metadata": {},
     "outputs": [
      {
       "output_type": "stream",
       "stream": "stdout",
       "text": [
        "[   0.    2.    4.    6.    8.   10.   12.   14.   16.   18.   20.   22.\n",
        "   24.   26.   28.   30.   32.   34.   36.   38.   40.   42.   44.   46.\n",
        "   48.   50.   52.   54.   56.   58.   60.   62.   64.   66.   68.   70.\n",
        "   72.   74.   76.   78.   80.   82.   84.   86.   88.   90.   92.   94.\n",
        "   96.   98.  100.  102.  104.  106.  108.  110.  112.  114.  116.  118.\n",
        "  120.  122.  124.  126.  128.  130.  132.  134.  136.  138.  140.  142.\n",
        "  144.  146.  148.  150.  152.  154.  156.  158.  160.  162.  164.  166.\n",
        "  168.  170.  172.  174.  176.  178.  180.  182.  184.  186.  188.  190.\n",
        "  192.  194.  196.  198.]\n"
       ]
      }
     ],
     "prompt_number": 6
    },
    {
     "cell_type": "markdown",
     "metadata": {},
     "source": [
      "### Switching execution target\n",
      "\n",
      "One advantage of the high-level vectorize decorator is that the funciton code will run without any change on a single core, multiple cores or GPU by simply chaning the target. This can be used to run the apprropriate code depending on problem type and size, or as a fallback on machines that lack a GPU."
     ]
    },
    {
     "cell_type": "code",
     "collapsed": false,
     "input": [
      "# run in parallel on mulitple CPU cores by changing target\n",
      "@vectorize(['int64(int64, int64)', \n",
      "            'float64(float32, float32)',\n",
      "            'float64(float64, float64)'], \n",
      "           target='parallel')\n",
      "def mc_add(a, b):\n",
      "    return a + b\n",
      "\n",
      "mc_add(a, b)"
     ],
     "language": "python",
     "metadata": {},
     "outputs": [
      {
       "metadata": {},
       "output_type": "pyout",
       "prompt_number": 7,
       "text": [
        "array([   0.,    2.,    4.,    6.,    8.,   10.,   12.,   14.,   16.,\n",
        "         18.,   20.,   22.,   24.,   26.,   28.,   30.,   32.,   34.,\n",
        "         36.,   38.,   40.,   42.,   44.,   46.,   48.,   50.,   52.,\n",
        "         54.,   56.,   58.,   60.,   62.,   64.,   66.,   68.,   70.,\n",
        "         72.,   74.,   76.,   78.,   80.,   82.,   84.,   86.,   88.,\n",
        "         90.,   92.,   94.,   96.,   98.,  100.,  102.,  104.,  106.,\n",
        "        108.,  110.,  112.,  114.,  116.,  118.,  120.,  122.,  124.,\n",
        "        126.,  128.,  130.,  132.,  134.,  136.,  138.,  140.,  142.,\n",
        "        144.,  146.,  148.,  150.,  152.,  154.,  156.,  158.,  160.,\n",
        "        162.,  164.,  166.,  168.,  170.,  172.,  174.,  176.,  178.,\n",
        "        180.,  182.,  184.,  186.,  188.,  190.,  192.,  194.,  196.,  198.])"
       ]
      }
     ],
     "prompt_number": 7
    },
    {
     "cell_type": "markdown",
     "metadata": {},
     "source": [
      "### Vector addition with CUDA Python\n",
      "\n",
      "Ignoring minor syntactic differneces and absence of boilerplate for memory managemnt, these CUDA Python functions should be familiar to CUDA C programmers."
     ]
    },
    {
     "cell_type": "code",
     "collapsed": false,
     "input": [
      "@cuda.jit('void(float32[:], float32[:], float32[:])')\n",
      "def cu_add(a, b, c):\n",
      "    i = cuda.grid(1)\n",
      "\n",
      "    if i  > c.size:\n",
      "        return\n",
      "    c[i] = a[i] + b[i]"
     ],
     "language": "python",
     "metadata": {},
     "outputs": [],
     "prompt_number": 8
    },
    {
     "cell_type": "code",
     "collapsed": false,
     "input": [
      "nthreads = gpu.WARP_SIZE\n",
      "nblocks = int(np.ceil(float(n)/nthreads))\n",
      "print 'Blocks per grid:', nblocks\n",
      "print 'Threads per block', nthreads\n",
      "\n",
      "c = np.empty_like(a)\n",
      "cu_add[nblocks, nthreads](a, b, c)\n",
      "print c"
     ],
     "language": "python",
     "metadata": {},
     "outputs": [
      {
       "output_type": "stream",
       "stream": "stdout",
       "text": [
        "Blocks per grid: 4\n",
        "Threads per block 32\n",
        "[   0.    2.    4.    6.    8.   10.   12.   14.   16.   18.   20.   22.\n",
        "   24.   26.   28.   30.   32.   34.   36.   38.   40.   42.   44.   46.\n",
        "   48.   50.   52.   54.   56.   58.   60.   62.   64.   66.   68.   70.\n",
        "   72.   74.   76.   78.   80.   82.   84.   86.   88.   90.   92.   94.\n",
        "   96.   98.  100.  102.  104.  106.  108.  110.  112.  114.  116.  118.\n",
        "  120.  122.  124.  126.  128.  130.  132.  134.  136.  138.  140.  142.\n",
        "  144.  146.  148.  150.  152.  154.  156.  158.  160.  162.  164.  166.\n",
        "  168.  170.  172.  174.  176.  178.  180.  182.  184.  186.  188.  190.\n",
        "  192.  194.  196.  198.]\n"
       ]
      }
     ],
     "prompt_number": 9
    },
    {
     "cell_type": "markdown",
     "metadata": {},
     "source": [
      "### Julia sets in Python"
     ]
    },
    {
     "cell_type": "markdown",
     "metadata": {},
     "source": [
      "#### Python code"
     ]
    },
    {
     "cell_type": "code",
     "collapsed": false,
     "input": [
      "def mandel_python(xs, ys, max_iters):\n",
      "    c = np.zeros((len(xs), len(ys)), np.int)\n",
      "    for i, x in enumerate(xs):\n",
      "        for j, y in enumerate(ys):\n",
      "            a = complex(x, y)\n",
      "            z = 0.0j\n",
      "            for k in range(max_iters):\n",
      "                z = z*z + a\n",
      "                if z.real*z.real + z.imag*z.imag >= 4:\n",
      "                    c[i,j] = k\n",
      "    return c"
     ],
     "language": "python",
     "metadata": {},
     "outputs": [],
     "prompt_number": 16
    },
    {
     "cell_type": "code",
     "collapsed": false,
     "input": [
      "@cuda.jit('void(float32[:], float32[:], float32[:,:])')\n",
      "def cu_mandel(a, b, c):\n",
      "    x, y = cuda.grid(2)\n",
      "\n",
      "    c = complex(x, y)\n",
      "    z = 0.0j\n",
      "    for i in range(max_iters):\n",
      "        z = z*z + c\n",
      "        if (z.real*z.real + z.imag*z.imag) >= 4:\n",
      "          return i\n",
      "    if i  > c.size:\n",
      "        return"
     ],
     "language": "python",
     "metadata": {},
     "outputs": []
    },
    {
     "cell_type": "code",
     "collapsed": false,
     "input": [
      "xmin, xmax, ymin, ymax = -1, 1, -2, 1\n",
      "xs = np.linspace(xmin, xmax, int(100*(xmax-xmin)))\n",
      "ys = np.linspace(ymin, ymax, int(100*(ymax-ymin)))\n",
      "max_iters = 200\n",
      "c = mandel_python(ys, xs, max_iters)\n",
      "plt.imshow(np.log1p(c), extent=[xmin, xmax, ymin, ymax]);"
     ],
     "language": "python",
     "metadata": {},
     "outputs": [
      {
       "metadata": {},
       "output_type": "display_data",
       "png": "[encoded data removed]",
       "text": [
        "<matplotlib.figure.Figure at 0x10df7b510>"
       ]
      }
     ],
     "prompt_number": 19
    },
    {
     "cell_type": "code",
     "collapsed": false,
     "input": [],
     "language": "python",
     "metadata": {},
     "outputs": []
    }
   ],
   "metadata": {}
  }
 ]
}