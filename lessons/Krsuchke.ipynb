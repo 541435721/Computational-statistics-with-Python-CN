{
 "metadata": {
  "name": "",
  "signature": "sha256:7a50212d5b677c456b8bed7e963aaef4725e1bc24fd675ef7c11c36d4d5c460b"
 },
 "nbformat": 3,
 "nbformat_minor": 0,
 "worksheets": [
  {
   "cells": [
    {
     "cell_type": "code",
     "collapsed": false,
     "input": [
      "%matplotlib inline\n",
      "import matplotlib.pyplot as plt\n",
      "import numpy as np"
     ],
     "language": "python",
     "metadata": {},
     "outputs": [],
     "prompt_number": 1
    },
    {
     "cell_type": "markdown",
     "metadata": {},
     "source": [
      "BayesUpdate 4;70"
     ]
    },
    {
     "cell_type": "code",
     "collapsed": false,
     "input": [
      "n = 63\n",
      "thetas = np.linspace(1.0/(n+1), 1, n, endpoint=False)\n",
      "prior = np.vstack([thetas, 1-thetas]).min(0)\n",
      "prior /= prior.sum()\n",
      "data = np.array([1]*3 + [0]*9)\n",
      "heads = (data == 1).sum()\n",
      "tails = (data == 0).sum()\n",
      "likelihood = thetas**heads + (1 - thetas)**tails\n",
      "evidence = (likelihood * prior).sum()\n",
      "posterior = (likelihood * prior)/evidence\n",
      "\n",
      "def lines(xs, ys, **kwargs):\n",
      "    for x, y in zip(xs, ys):\n",
      "        plt.axvline(x, y, **kwargs)\n",
      "\n",
      "lines(thetas, prior)\n",
      "lines(theta, posterior, c='red')"
     ],
     "language": "python",
     "metadata": {},
     "outputs": [
      {
       "metadata": {},
       "output_type": "display_data",
       "png": "[encoded data removed]",
       "text": [
        "<matplotlib.figure.Figure at 0x1086e3410>"
       ]
      }
     ],
     "prompt_number": 22
    },
    {
     "cell_type": "code",
     "collapsed": false,
     "input": [
      "np.linspace"
     ],
     "language": "python",
     "metadata": {},
     "outputs": [],
     "prompt_number": 2
    },
    {
     "cell_type": "code",
     "collapsed": false,
     "input": [],
     "language": "python",
     "metadata": {},
     "outputs": []
    }
   ],
   "metadata": {}
  }
 ]
}