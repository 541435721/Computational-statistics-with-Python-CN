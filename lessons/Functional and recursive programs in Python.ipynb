{
 "metadata": {
  "name": "",
  "signature": "sha256:bbfd5e7f035907041c282f1c161bba556e4bf4e9fa21acd9360d7f44c8ab59b5"
 },
 "nbformat": 3,
 "nbformat_minor": 0,
 "worksheets": [
  {
   "cells": [
    {
     "cell_type": "markdown",
     "metadata": {},
     "source": [
      "Functional and recursive programs in Python \n",
      "====\n",
      "\n",
      "```\n",
      "pip install functional\n",
      "```"
     ]
    },
    {
     "cell_type": "markdown",
     "metadata": {},
     "source": [
      "Iterators, list comprehension, generator expressions and higher order functions\n",
      "----"
     ]
    },
    {
     "cell_type": "markdown",
     "metadata": {},
     "source": [
      "An iterator is an object representing a stream of data; this object returns the data one element at a time. Any sequence in Python (e..g strings, lists, dicts) is iterable, and this is made use of in for-loops, list comprehensions and genrerator expressions."
     ]
    },
    {
     "cell_type": "markdown",
     "metadata": {},
     "source": [
      "### Imperative style"
     ]
    },
    {
     "cell_type": "code",
     "collapsed": false,
     "input": [
      "xs = []\n",
      "for i in range(10):\n",
      "    if i % 2 == 0:\n",
      "        xs.append(i*i)\n",
      "xs"
     ],
     "language": "python",
     "metadata": {},
     "outputs": [
      {
       "metadata": {},
       "output_type": "pyout",
       "prompt_number": 26,
       "text": [
        "[0, 4, 16, 36, 64]"
       ]
      }
     ],
     "prompt_number": 26
    },
    {
     "cell_type": "markdown",
     "metadata": {},
     "source": [
      "### Using list comprehenions"
     ]
    },
    {
     "cell_type": "code",
     "collapsed": false,
     "input": [
      "# A list comprehension builds a list in memory\n",
      "xs = [i*i for i in range(10) if i % 2 == 0] # memory is allocated\n",
      "xs"
     ],
     "language": "python",
     "metadata": {},
     "outputs": [
      {
       "metadata": {},
       "output_type": "pyout",
       "prompt_number": 27,
       "text": [
        "[0, 4, 16, 36, 64]"
       ]
      }
     ],
     "prompt_number": 27
    },
    {
     "cell_type": "code",
     "collapsed": false,
     "input": [
      "# The rarely used Python ternary operator can be useful here\n",
      "xs = [i**2 if i % 2 == 0 else i**3 for i in xrange(10)]\n",
      "xs"
     ],
     "language": "python",
     "metadata": {},
     "outputs": [
      {
       "metadata": {},
       "output_type": "pyout",
       "prompt_number": 2,
       "text": [
        "[0, 1, 4, 27, 16, 125, 36, 343, 64, 729]"
       ]
      }
     ],
     "prompt_number": 2
    },
    {
     "cell_type": "code",
     "collapsed": false,
     "input": [
      "# List comprehensions can be nested\n",
      "\n",
      "# in the code below, x iterates over the outer loop\n",
      "# and y interates over the inner loop\n",
      "print [(x, y) for x in ['A', 'B'] for y in xrange(1,5)]\n",
      "\n",
      "# To be explicit, here is the equivalnet for loop version\n",
      "xs = []\n",
      "for x in ['A', 'B']:\n",
      "    for y in xrange(1,5):\n",
      "        xs.append((x, y))\n",
      "print xs\n",
      "\n",
      "# Here is one way to calculate \n",
      "# exp(-(x**2 + y**2)) over a square grid\n",
      "z = array([exp(-(x**2 + y**2)) \n",
      "           for x in linspace(-3,3,25) \n",
      "           for y in linspace(-3,3,25)]).reshape((25,25))\n",
      "imshow(z);"
     ],
     "language": "python",
     "metadata": {},
     "outputs": [
      {
       "output_type": "stream",
       "stream": "stdout",
       "text": [
        "[('A', 1), ('A', 2), ('A', 3), ('A', 4), ('B', 1), ('B', 2), ('B', 3), ('B', 4)]\n",
        "[('A', 1), ('A', 2), ('A', 3), ('A', 4), ('B', 1), ('B', 2), ('B', 3), ('B', 4)]\n"
       ]
      },
      {
       "metadata": {},
       "output_type": "display_data",
       "png": "[encoded data removed]",
       "text": [
        "<matplotlib.figure.Figure at 0x10dd4ba50>"
       ]
      }
     ],
     "prompt_number": 26
    },
    {
     "cell_type": "markdown",
     "metadata": {},
     "source": [
      "### Using generators\n",
      "\n",
      "When a function returns a list, enough storage must be allocated to hold the list's contents. This may be impractical when the amount of data is enormous (e.g. several terabytes) and also inefficient if you will only be working with a small subset of the data at any time. A geneerator is a function that returns an iterator that computes a value from a stream only when evaluated (this is known as laziness). The advantage of using generators is that you can work with arbitrarily large amounts of data or even infinite streams, something that is increasingly common in the age of big data."
     ]
    },
    {
     "cell_type": "code",
     "collapsed": false,
     "input": [
      "# A generator expression looks like a list comprehension \n",
      "# but \n",
      "xs = (i*i for i in range(10) if i % 2 == 0) # no memory is allocated\n",
      "list(xs)"
     ],
     "language": "python",
     "metadata": {},
     "outputs": [
      {
       "metadata": {},
       "output_type": "pyout",
       "prompt_number": 32,
       "text": [
        "[0, 4, 16, 36, 64]"
       ]
      }
     ],
     "prompt_number": 32
    },
    {
     "cell_type": "code",
     "collapsed": false,
     "input": [
      "# Generator functions contain the keywork yield\n",
      "# that evaluates and returns the next item in a stream\n",
      "# Here is an explicit veriosn of the above generator comprehension\n",
      "\n",
      "def generator(n):\n",
      "    for i in xrange(n):\n",
      "        if i % 2 == 0:\n",
      "            yield i*i\n",
      "        \n",
      "list(generator(10))"
     ],
     "language": "python",
     "metadata": {},
     "outputs": [
      {
       "metadata": {},
       "output_type": "pyout",
       "prompt_number": 59,
       "text": [
        "[0, 4, 16, 36, 64]"
       ]
      }
     ],
     "prompt_number": 59
    },
    {
     "cell_type": "code",
     "collapsed": false,
     "input": [
      "# reading files\n",
      "# The for loop works with files by returning an iterator that provdies one line at a time\n",
      "# So the code below is fine even if the file f is several terabytes in size\n",
      "\n",
      "with open('ht_wt.csv') as f:\n",
      "    for i, line in enumerate(f):\n",
      "        print line,\n",
      "        if i > 5:\n",
      "            break"
     ],
     "language": "python",
     "metadata": {},
     "outputs": [
      {
       "output_type": "stream",
       "stream": "stdout",
       "text": [
        "male,height,weight\n",
        "0,63.2,168.7\n",
        "0,68.7,169.8\n",
        "0,64.8,176.6\n",
        "0,67.9,246.8\n",
        "1,68.9,151.6\n",
        "1,67.8,158.0\n"
       ]
      }
     ],
     "prompt_number": 64
    },
    {
     "cell_type": "markdown",
     "metadata": {},
     "source": [
      "### Itertools module"
     ]
    },
    {
     "cell_type": "code",
     "collapsed": false,
     "input": [
      "# The itertools module provides many functions that return iterators\n",
      "from string import ascii_lowercase\n",
      "print ascii_lowercase\n",
      "\n",
      "# how many 13 letter combinations of 26 letters are there?\n",
      "from itertools import combinations, islice\n",
      "from scipy.misc import comb\n",
      "print \"{:,}\".format(comb(26, 13))\n",
      "\n",
      "# suppose we are only interested in the first 10\n",
      "# because we use generators, only the 10 values are evaluated,\n",
      "# not all 10+ million possibilities which might crash the system\n",
      "[''.join(s) for s in islice(combinations(ascii_lowercase, 13), 10)]"
     ],
     "language": "python",
     "metadata": {},
     "outputs": [
      {
       "output_type": "stream",
       "stream": "stdout",
       "text": [
        "abcdefghijklmnopqrstuvwxyz\n",
        "10,400,600.0\n"
       ]
      },
      {
       "metadata": {},
       "output_type": "pyout",
       "prompt_number": 56,
       "text": [
        "['abcdefghijklm',\n",
        " 'abcdefghijkln',\n",
        " 'abcdefghijklo',\n",
        " 'abcdefghijklp',\n",
        " 'abcdefghijklq',\n",
        " 'abcdefghijklr',\n",
        " 'abcdefghijkls',\n",
        " 'abcdefghijklt',\n",
        " 'abcdefghijklu',\n",
        " 'abcdefghijklv']"
       ]
      }
     ],
     "prompt_number": 56
    },
    {
     "cell_type": "code",
     "collapsed": false,
     "input": [
      "# More itertools examples\n",
      "\n",
      "from itertools import cycle, groupby\n",
      "import operator\n",
      "\n",
      "# cycle thorugh items to geneerate an infinite stream\n",
      "list(islice(cycle([1,2,3]), 15))\n",
      "\n",
      "# group sorted items by some attribute\n",
      "# we will see the full power of groupby when we learn about the pandas module\n",
      "xs = list(((j, i) for i, j in enumerate(islice(cycle(['Duke', 'UNC', 'NCSU']), 10))))\n",
      "xs.sort()\n",
      "print xs, '\\n'\n",
      "for group in itertools.groupby(xs, operator.itemgetter(0)):\n",
      "    print group[0].ljust(10), ':', \n",
      "    for gp in group[1]:\n",
      "        print list(gp),\n",
      "    print"
     ],
     "language": "python",
     "metadata": {},
     "outputs": [
      {
       "output_type": "stream",
       "stream": "stdout",
       "text": [
        "[('Duke', 0), ('Duke', 3), ('Duke', 6), ('Duke', 9), ('NCSU', 2), ('NCSU', 5), ('NCSU', 8), ('UNC', 1), ('UNC', 4), ('UNC', 7)] \n",
        "\n",
        "Duke       : ['Duke', 0] ['Duke', 3] ['Duke', 6] ['Duke', 9]\n",
        "NCSU       : ['NCSU', 2] ['NCSU', 5] ['NCSU', 8]\n",
        "UNC        : ['UNC', 1] ['UNC', 4] ['UNC', 7]\n"
       ]
      }
     ],
     "prompt_number": 107
    },
    {
     "cell_type": "markdown",
     "metadata": {},
     "source": [
      "### Using higher order functions - map and filter"
     ]
    },
    {
     "cell_type": "code",
     "collapsed": false,
     "input": [
      "def square(x):\n",
      "    return x*x\n",
      "\n",
      "def even(x):\n",
      "    return x % 2 == 0\n",
      "\n",
      "xs = map(square, filter(even, range(10)))\n",
      "xs"
     ],
     "language": "python",
     "metadata": {},
     "outputs": [
      {
       "metadata": {},
       "output_type": "pyout",
       "prompt_number": 29,
       "text": [
        "[0, 4, 16, 36, 64]"
       ]
      }
     ],
     "prompt_number": 29
    },
    {
     "cell_type": "code",
     "collapsed": false,
     "input": [
      "### Using anonymous functions\n",
      "\n",
      "xs = map(lambda x: x*x, filter(lambda x: x % 2 == 0, range(10)))\n",
      "xs"
     ],
     "language": "python",
     "metadata": {},
     "outputs": [
      {
       "metadata": {},
       "output_type": "pyout",
       "prompt_number": 30,
       "text": [
        "[0, 4, 16, 36, 64]"
       ]
      }
     ],
     "prompt_number": 30
    },
    {
     "cell_type": "markdown",
     "metadata": {},
     "source": [
      "Operators and Reductions\n",
      "----"
     ]
    },
    {
     "cell_type": "markdown",
     "metadata": {},
     "source": [
      "### Imperative style"
     ]
    },
    {
     "cell_type": "code",
     "collapsed": false,
     "input": [
      "s = 10\n",
      "for i in range(10):\n",
      "    s += i\n",
      "s"
     ],
     "language": "python",
     "metadata": {},
     "outputs": [
      {
       "metadata": {},
       "output_type": "pyout",
       "prompt_number": 31,
       "text": [
        "55"
       ]
      }
     ],
     "prompt_number": 31
    },
    {
     "cell_type": "markdown",
     "metadata": {},
     "source": [
      "### Using operator.add and reduce"
     ]
    },
    {
     "cell_type": "code",
     "collapsed": false,
     "input": [
      "import operator\n",
      "\n",
      "s = reduce(operator.add, range(10), 10)\n",
      "s"
     ],
     "language": "python",
     "metadata": {},
     "outputs": [
      {
       "metadata": {},
       "output_type": "pyout",
       "prompt_number": 32,
       "text": [
        "55"
       ]
      }
     ],
     "prompt_number": 32
    },
    {
     "cell_type": "code",
     "collapsed": false,
     "input": [
      "# In practice, we just use sum\n",
      "sum(range(10)) + 10"
     ],
     "language": "python",
     "metadata": {},
     "outputs": [
      {
       "metadata": {},
       "output_type": "pyout",
       "prompt_number": 33,
       "text": [
        "55"
       ]
      }
     ],
     "prompt_number": 33
    },
    {
     "cell_type": "markdown",
     "metadata": {},
     "source": [
      "### The map-reduce idioom"
     ]
    },
    {
     "cell_type": "code",
     "collapsed": false,
     "input": [
      "# But understandning these higher order functions is useful later when we write parallel programs\n",
      "\n",
      "# suppose we have a list of lists of numbers\n",
      "xs = random.randint(0,10,(5,12)).tolist()\n",
      "xs"
     ],
     "language": "python",
     "metadata": {},
     "outputs": [
      {
       "metadata": {},
       "output_type": "pyout",
       "prompt_number": 34,
       "text": [
        "[[8, 8, 7, 9, 3, 1, 4, 3, 6, 3, 9, 6],\n",
        " [4, 5, 5, 3, 4, 5, 1, 5, 9, 5, 7, 0],\n",
        " [9, 3, 0, 3, 1, 7, 0, 5, 0, 8, 7, 4],\n",
        " [0, 0, 6, 9, 0, 8, 3, 3, 1, 8, 4, 3],\n",
        " [2, 3, 6, 8, 9, 7, 6, 2, 3, 8, 6, 7]]"
       ]
      }
     ],
     "prompt_number": 34
    },
    {
     "cell_type": "code",
     "collapsed": false,
     "input": [
      "# and we want to sum the squares for each list\n",
      "# then find maximum value\n",
      "# this can be done using the map-reduce pattern\n",
      "\n",
      "# here we use a list comprehension - in a parallel program\n",
      "# each map operation would be performed on a different processor in parallel\n",
      "\n",
      "# first we square each number for each list with a map operation\n",
      "row_sqs = [map(lambda x: x*x, x) for x in xs]\n",
      "row_sqs"
     ],
     "language": "python",
     "metadata": {},
     "outputs": [
      {
       "metadata": {},
       "output_type": "pyout",
       "prompt_number": 35,
       "text": [
        "[[64, 64, 49, 81, 9, 1, 16, 9, 36, 9, 81, 36],\n",
        " [16, 25, 25, 9, 16, 25, 1, 25, 81, 25, 49, 0],\n",
        " [81, 9, 0, 9, 1, 49, 0, 25, 0, 64, 49, 16],\n",
        " [0, 0, 36, 81, 0, 64, 9, 9, 1, 64, 16, 9],\n",
        " [4, 9, 36, 64, 81, 49, 36, 4, 9, 64, 36, 49]]"
       ]
      }
     ],
     "prompt_number": 35
    },
    {
     "cell_type": "code",
     "collapsed": false,
     "input": [
      "# then we add the squared numbers in each list with a reduce operaiton\n",
      "row_sums = [reduce(operator.add, row) for row in row_sqs]\n",
      "print row_sums"
     ],
     "language": "python",
     "metadata": {},
     "outputs": [
      {
       "output_type": "stream",
       "stream": "stdout",
       "text": [
        "[455, 297, 303, 289, 441]\n"
       ]
      }
     ],
     "prompt_number": 36
    },
    {
     "cell_type": "code",
     "collapsed": false,
     "input": [
      "# now this can be collected in a single proceessor and the max found easily\n",
      "max(row_sums)"
     ],
     "language": "python",
     "metadata": {},
     "outputs": [
      {
       "metadata": {},
       "output_type": "pyout",
       "prompt_number": 37,
       "text": [
        "455"
       ]
      }
     ],
     "prompt_number": 37
    },
    {
     "cell_type": "code",
     "collapsed": false,
     "input": [
      "# we can do this in one line, but it can be hard to read\n",
      "max(reduce(operator.add, map(lambda x: x*x, x)) for x in xs)"
     ],
     "language": "python",
     "metadata": {},
     "outputs": [
      {
       "metadata": {},
       "output_type": "pyout",
       "prompt_number": 38,
       "text": [
        "455"
       ]
      }
     ],
     "prompt_number": 38
    },
    {
     "cell_type": "code",
     "collapsed": false,
     "input": [
      "# In normal use, we would just use vectorized operations\n",
      "xs = array(xs)\n",
      "max(sum(xs*xs, axis=1)) # axis=1 sums by rows"
     ],
     "language": "python",
     "metadata": {},
     "outputs": [
      {
       "metadata": {},
       "output_type": "pyout",
       "prompt_number": 39,
       "text": [
        "455"
       ]
      }
     ],
     "prompt_number": 39
    },
    {
     "cell_type": "markdown",
     "metadata": {},
     "source": [
      "### Function composition"
     ]
    },
    {
     "cell_type": "markdown",
     "metadata": {},
     "source": [
      "We can get many more functional programmign tools by installing the `functional` package\n",
      "```bash\n",
      "pip install functional\n",
      "```"
     ]
    },
    {
     "cell_type": "code",
     "collapsed": false,
     "input": [
      "from functional import compose, foldl, partial"
     ],
     "language": "python",
     "metadata": {},
     "outputs": [],
     "prompt_number": 40
    },
    {
     "cell_type": "code",
     "collapsed": false,
     "input": [
      "# partial reduces the number of argumnents a function needs\n",
      "# it returns a new functions with some parameters \"filled in\"\n",
      "\n",
      "def f(x, y, z):\n",
      "    return x, y, z\n",
      "\n",
      "g = partial(f, 1)\n",
      "h = partial(f, 1, 2)\n",
      "k = partial(g, 2)\n",
      "j = partial(f, z=3)\n",
      "\n",
      "print f(1,2,3)\n",
      "print g(2,3)\n",
      "print h(3)\n",
      "print k(3)\n",
      "print j(1, 2)"
     ],
     "language": "python",
     "metadata": {},
     "outputs": [
      {
       "output_type": "stream",
       "stream": "stdout",
       "text": [
        "(1, 2, 3)\n",
        "(1, 2, 3)\n",
        "(1, 2, 3)\n",
        "(1, 2, 3)\n",
        "(1, 2, 3)\n"
       ]
      }
     ],
     "prompt_number": 41
    },
    {
     "cell_type": "code",
     "collapsed": false,
     "input": [
      "# a simple example\n",
      "\n",
      "def add(a, b):\n",
      "    return a + b\n",
      "\n",
      "add10 = partial(add, b=10)\n",
      "print add10(5)"
     ],
     "language": "python",
     "metadata": {},
     "outputs": [
      {
       "output_type": "stream",
       "stream": "stdout",
       "text": [
        "15\n"
       ]
      }
     ],
     "prompt_number": 42
    },
    {
     "cell_type": "code",
     "collapsed": false,
     "input": [
      "# compose does function composision\n",
      "\n",
      "def f(x):\n",
      "    return x**2\n",
      "\n",
      "def g(x):\n",
      "    return x + 2\n",
      "\n",
      "fg = compose(f, g)\n",
      "x =3\n",
      "fg(x)"
     ],
     "language": "python",
     "metadata": {},
     "outputs": [
      {
       "metadata": {},
       "output_type": "pyout",
       "prompt_number": 43,
       "text": [
        "25"
       ]
      }
     ],
     "prompt_number": 43
    },
    {
     "cell_type": "code",
     "collapsed": false,
     "input": [
      "# We can use reduce and parital to compose multiple arguments\n",
      "\n",
      "# reduce takes two arguments - the function, and an iterable\n",
      "# First we use parital to \"pre-load\" reduce with the compose function\n",
      "composeN = partial(reduce, compose)\n",
      "\n",
      "# Now we can compose multiple functions\n",
      "\n",
      "fggf = composeN([f, g, g, f])\n",
      "fggf(x)"
     ],
     "language": "python",
     "metadata": {},
     "outputs": [
      {
       "metadata": {},
       "output_type": "pyout",
       "prompt_number": 44,
       "text": [
        "169"
       ]
      }
     ],
     "prompt_number": 44
    },
    {
     "cell_type": "code",
     "collapsed": false,
     "input": [
      "# Let's check\n",
      "f(g(g(f(x))))"
     ],
     "language": "python",
     "metadata": {},
     "outputs": [
      {
       "metadata": {},
       "output_type": "pyout",
       "prompt_number": 45,
       "text": [
        "169"
       ]
      }
     ],
     "prompt_number": 45
    },
    {
     "cell_type": "markdown",
     "metadata": {},
     "source": [
      "From <https://docs.python.org/release/2.6/howto/functional.html>\n",
      "\n",
      "foldl() takes a binary function, a starting value (usually some kind of \u2018zero\u2019), and an iterable. The function is applied to the starting value and the first element of the list, then the result of that and the second element of the list, then the result of that and the third element of the list, and so on.\n",
      "\n",
      "This means that a call such as:\n",
      "```python\n",
      "foldl(f, 0, [1, 2, 3])\n",
      "```\n",
      "is equivalent to:\n",
      "```python\n",
      "f(f(f(0, 1), 2), 3)\n",
      "```"
     ]
    },
    {
     "cell_type": "code",
     "collapsed": false,
     "input": [
      "# Another example - define a function to flatten a list of list\n",
      "flatten = partial(foldl, operator.concat, [])\n",
      "flatten([[1],[2,3],[4,5,6]])"
     ],
     "language": "python",
     "metadata": {},
     "outputs": [
      {
       "metadata": {},
       "output_type": "pyout",
       "prompt_number": 46,
       "text": [
        "[1, 2, 3, 4, 5, 6]"
       ]
      }
     ],
     "prompt_number": 46
    },
    {
     "cell_type": "markdown",
     "metadata": {},
     "source": [
      "### A bootstrap example using higher order functions"
     ]
    },
    {
     "cell_type": "code",
     "collapsed": false,
     "input": [
      "# We want a bootstrap funciotn that will work for any distribution \n",
      "# and any statstiic of interest\n",
      "\n",
      "def bootstrap(n, low, high, dist, statistic):\n",
      "    \"\"\"A simple bootstrap function.\n",
      "    n = number of bootstrap samples\n",
      "    low = lower percentile\n",
      "    high = upper percentile\n",
      "    dist = random number generator that will give n samples\n",
      "    statistic = boootstrap summary of interest\"\"\"\n",
      "    \n",
      "    xs = dist(n)\n",
      "    bs = random.choice(xs, (500, len(xs)), replace=True)\n",
      "    bss = np.apply_along_axis(statistic, 1, bs)\n",
      "    bss.sort()\n",
      "    return bss[int(low*len(bss))], bss[int(high*len(bss))]"
     ],
     "language": "python",
     "metadata": {},
     "outputs": [],
     "prompt_number": 47
    },
    {
     "cell_type": "code",
     "collapsed": false,
     "input": [
      "n = 10000\n",
      "low = 0.025\n",
      "high = 0.975\n",
      "dist = partial(normal, 10, 3)\n",
      "statistic = mean\n",
      "print bootstrap(n, low, high, dist, statistic)\n",
      "\n",
      "# it is easy to find the bootstrap CI for variance of a poisson disttribution\n",
      "dist = partial(poisson, 5)\n",
      "print bootstrap(n, low, high, dist, var)\n",
      "\n",
      "# function composition will also work - e.g. to find precision\n",
      "print bootstrap(n, low, high, dist, compose(reciprocal, var))"
     ],
     "language": "python",
     "metadata": {},
     "outputs": [
      {
       "output_type": "stream",
       "stream": "stdout",
       "text": [
        "(9.8861056861933125, 10.00712396740086)\n",
        "(4.9012311100001726, 5.2013100399994601)"
       ]
      },
      {
       "output_type": "stream",
       "stream": "stdout",
       "text": [
        "\n",
        "(0.19743338027167104, 0.20920908430362828)"
       ]
      },
      {
       "output_type": "stream",
       "stream": "stdout",
       "text": [
        "\n"
       ]
      }
     ],
     "prompt_number": 48
    },
    {
     "cell_type": "markdown",
     "metadata": {},
     "source": [
      "### Decorators\n",
      "\n",
      "A decorator is a special function that takes a function as an argument, \"decorates\" the function with new capabilities, and then returns the function."
     ]
    },
    {
     "cell_type": "code",
     "collapsed": false,
     "input": [
      "# A simple decorator\n",
      "def func_timer(f):\n",
      "    import time\n",
      "    def func(x):\n",
      "        start = time.time()        \n",
      "        result = f(x)\n",
      "        print 'Elapsed time:', time.time() - start\n",
      "        return result\n",
      "    return func\n",
      "\n",
      "# manual call\n",
      "def snooze1(n):\n",
      "    import time\n",
      "    time.sleep(n)\n",
      "    \n",
      "func_timer(snooze1)(1)\n",
      "\n",
      "# use decorator syntactic sugar\n",
      "@func_timer\n",
      "def snooze2(n):\n",
      "    import time\n",
      "    time.sleep(n)\n",
      "    \n",
      "snooze2(2)"
     ],
     "language": "python",
     "metadata": {},
     "outputs": [
      {
       "output_type": "stream",
       "stream": "stdout",
       "text": [
        "Elapsed time: 1.0011241436\n",
        "Elapsed time:"
       ]
      },
      {
       "output_type": "stream",
       "stream": "stdout",
       "text": [
        " 2.00178384781\n"
       ]
      }
     ],
     "prompt_number": 49
    },
    {
     "cell_type": "markdown",
     "metadata": {},
     "source": [
      "### Use of recursion"
     ]
    },
    {
     "cell_type": "code",
     "collapsed": false,
     "input": [
      "# The classic example of recursion is either Fibonacci series or the factorial function\n",
      "# Recursion just means that a function calls itself\n",
      "\n",
      "def fact(n):\n",
      "    if n <= 1:\n",
      "        return 1\n",
      "    else:\n",
      "        return n*fact(n-1)\n",
      "\n",
      "def fib(n):\n",
      "    if n < 2:\n",
      "        return 1\n",
      "    else:\n",
      "        return fib(n-1) + fib(n-2)"
     ],
     "language": "python",
     "metadata": {},
     "outputs": [],
     "prompt_number": 50
    },
    {
     "cell_type": "code",
     "collapsed": false,
     "input": [
      "fact(6)"
     ],
     "language": "python",
     "metadata": {},
     "outputs": [
      {
       "metadata": {},
       "output_type": "pyout",
       "prompt_number": 51,
       "text": [
        "720"
       ]
      }
     ],
     "prompt_number": 51
    },
    {
     "cell_type": "code",
     "collapsed": false,
     "input": [
      "[fib(i) for i in range(10)]"
     ],
     "language": "python",
     "metadata": {},
     "outputs": [
      {
       "metadata": {},
       "output_type": "pyout",
       "prompt_number": 52,
       "text": [
        "[1, 1, 2, 3, 5, 8, 13, 21, 34, 55]"
       ]
      }
     ],
     "prompt_number": 52
    },
    {
     "cell_type": "markdown",
     "metadata": {},
     "source": [
      "### Recursion on trees\n",
      "\n",
      "For trees of arbitrary detph, recursion is the natural way to access and process nodes."
     ]
    },
    {
     "cell_type": "code",
     "collapsed": false,
     "input": [
      "# Write tree example?"
     ],
     "language": "python",
     "metadata": {},
     "outputs": [],
     "prompt_number": 67
    },
    {
     "cell_type": "code",
     "collapsed": false,
     "input": [],
     "language": "python",
     "metadata": {},
     "outputs": []
    }
   ],
   "metadata": {}
  }
 ]
}