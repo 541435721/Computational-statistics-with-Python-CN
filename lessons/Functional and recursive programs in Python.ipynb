{
 "metadata": {
  "name": "",
  "signature": "sha256:278d9bd3b3b264e5dc622ddd223821a9c8c36e88cf54530519e1cdcb385633fe"
 },
 "nbformat": 3,
 "nbformat_minor": 0,
 "worksheets": [
  {
   "cells": [
    {
     "cell_type": "markdown",
     "metadata": {},
     "source": [
      "Functional and recursive programs in Python \n",
      "====\n",
      "\n",
      "```\n",
      "pip install functional\n",
      "```"
     ]
    },
    {
     "cell_type": "markdown",
     "metadata": {},
     "source": [
      "Iterators, list comprehension, generator expressions and higher order functions\n",
      "----"
     ]
    },
    {
     "cell_type": "markdown",
     "metadata": {},
     "source": [
      "### Imperative style"
     ]
    },
    {
     "cell_type": "code",
     "collapsed": false,
     "input": [
      "xs = []\n",
      "for i in range(10):\n",
      "    if i % 2 == 0:\n",
      "        xs.append(i*i)\n",
      "xs"
     ],
     "language": "python",
     "metadata": {},
     "outputs": [
      {
       "metadata": {},
       "output_type": "pyout",
       "prompt_number": 26,
       "text": [
        "[0, 4, 16, 36, 64]"
       ]
      }
     ],
     "prompt_number": 26
    },
    {
     "cell_type": "markdown",
     "metadata": {},
     "source": [
      "### Using list comprehenions"
     ]
    },
    {
     "cell_type": "code",
     "collapsed": false,
     "input": [
      "### A list comprehension builds a list in memory\n",
      "xs = [i*i for i in range(10) if i % 2 == 0] # memory is allocated\n",
      "xs"
     ],
     "language": "python",
     "metadata": {},
     "outputs": [
      {
       "metadata": {},
       "output_type": "pyout",
       "prompt_number": 27,
       "text": [
        "[0, 4, 16, 36, 64]"
       ]
      }
     ],
     "prompt_number": 27
    },
    {
     "cell_type": "markdown",
     "metadata": {},
     "source": [
      "### Using generator expressions"
     ]
    },
    {
     "cell_type": "code",
     "collapsed": false,
     "input": [
      "### A generator expression looks like a list comprehension but returns values on demand only\n",
      "xs = (i*i for i in range(10) if i % 2 == 0) # no memory is allocated\n",
      "list(xs)"
     ],
     "language": "python",
     "metadata": {},
     "outputs": [
      {
       "metadata": {},
       "output_type": "pyout",
       "prompt_number": 28,
       "text": [
        "[0, 4, 16, 36, 64]"
       ]
      }
     ],
     "prompt_number": 28
    },
    {
     "cell_type": "markdown",
     "metadata": {},
     "source": [
      "### Using higher order functions - map and filter"
     ]
    },
    {
     "cell_type": "code",
     "collapsed": false,
     "input": [
      "def square(x):\n",
      "    return x*x\n",
      "\n",
      "def even(x):\n",
      "    return x % 2 == 0\n",
      "\n",
      "xs = map(square, filter(even, range(10)))\n",
      "xs"
     ],
     "language": "python",
     "metadata": {},
     "outputs": [
      {
       "metadata": {},
       "output_type": "pyout",
       "prompt_number": 29,
       "text": [
        "[0, 4, 16, 36, 64]"
       ]
      }
     ],
     "prompt_number": 29
    },
    {
     "cell_type": "code",
     "collapsed": false,
     "input": [
      "### Using anonymous functions\n",
      "\n",
      "xs = map(lambda x: x*x, filter(lambda x: x % 2 == 0, range(10)))\n",
      "xs"
     ],
     "language": "python",
     "metadata": {},
     "outputs": [
      {
       "metadata": {},
       "output_type": "pyout",
       "prompt_number": 30,
       "text": [
        "[0, 4, 16, 36, 64]"
       ]
      }
     ],
     "prompt_number": 30
    },
    {
     "cell_type": "markdown",
     "metadata": {},
     "source": [
      "Operators and Reductions\n",
      "----"
     ]
    },
    {
     "cell_type": "markdown",
     "metadata": {},
     "source": [
      "### Imperative style"
     ]
    },
    {
     "cell_type": "code",
     "collapsed": false,
     "input": [
      "s = 10\n",
      "for i in range(10):\n",
      "    s += i\n",
      "s"
     ],
     "language": "python",
     "metadata": {},
     "outputs": [
      {
       "metadata": {},
       "output_type": "pyout",
       "prompt_number": 31,
       "text": [
        "55"
       ]
      }
     ],
     "prompt_number": 31
    },
    {
     "cell_type": "markdown",
     "metadata": {},
     "source": [
      "### Using operator.add and reduce"
     ]
    },
    {
     "cell_type": "code",
     "collapsed": false,
     "input": [
      "import operator\n",
      "\n",
      "s = reduce(operator.add, range(10), 10)\n",
      "s"
     ],
     "language": "python",
     "metadata": {},
     "outputs": [
      {
       "metadata": {},
       "output_type": "pyout",
       "prompt_number": 32,
       "text": [
        "55"
       ]
      }
     ],
     "prompt_number": 32
    },
    {
     "cell_type": "code",
     "collapsed": false,
     "input": [
      "# In practice, we just use sum\n",
      "sum(range(10)) + 10"
     ],
     "language": "python",
     "metadata": {},
     "outputs": [
      {
       "metadata": {},
       "output_type": "pyout",
       "prompt_number": 33,
       "text": [
        "55"
       ]
      }
     ],
     "prompt_number": 33
    },
    {
     "cell_type": "markdown",
     "metadata": {},
     "source": [
      "### The map-reduce idioom"
     ]
    },
    {
     "cell_type": "code",
     "collapsed": false,
     "input": [
      "# But understandning these higher order functions is useful later when we write parallel programs\n",
      "\n",
      "# suppose we have a list of lists of numbers\n",
      "xs = random.randint(0,10,(5,12)).tolist()\n",
      "xs"
     ],
     "language": "python",
     "metadata": {},
     "outputs": [
      {
       "metadata": {},
       "output_type": "pyout",
       "prompt_number": 34,
       "text": [
        "[[8, 8, 7, 9, 3, 1, 4, 3, 6, 3, 9, 6],\n",
        " [4, 5, 5, 3, 4, 5, 1, 5, 9, 5, 7, 0],\n",
        " [9, 3, 0, 3, 1, 7, 0, 5, 0, 8, 7, 4],\n",
        " [0, 0, 6, 9, 0, 8, 3, 3, 1, 8, 4, 3],\n",
        " [2, 3, 6, 8, 9, 7, 6, 2, 3, 8, 6, 7]]"
       ]
      }
     ],
     "prompt_number": 34
    },
    {
     "cell_type": "code",
     "collapsed": false,
     "input": [
      "# and we want to sum the squares for each list\n",
      "# then find maximum value\n",
      "# this can be done using the map-reduce pattern\n",
      "\n",
      "# here we use a list comprehension - in a parallel program\n",
      "# each map operation would be performed on a different processor in parallel\n",
      "\n",
      "# first we square each number for each list with a map operation\n",
      "row_sqs = [map(lambda x: x*x, x) for x in xs]\n",
      "row_sqs"
     ],
     "language": "python",
     "metadata": {},
     "outputs": [
      {
       "metadata": {},
       "output_type": "pyout",
       "prompt_number": 35,
       "text": [
        "[[64, 64, 49, 81, 9, 1, 16, 9, 36, 9, 81, 36],\n",
        " [16, 25, 25, 9, 16, 25, 1, 25, 81, 25, 49, 0],\n",
        " [81, 9, 0, 9, 1, 49, 0, 25, 0, 64, 49, 16],\n",
        " [0, 0, 36, 81, 0, 64, 9, 9, 1, 64, 16, 9],\n",
        " [4, 9, 36, 64, 81, 49, 36, 4, 9, 64, 36, 49]]"
       ]
      }
     ],
     "prompt_number": 35
    },
    {
     "cell_type": "code",
     "collapsed": false,
     "input": [
      "# then we add the squared numbers in each list with a reduce operaiton\n",
      "row_sums = [reduce(operator.add, row) for row in row_sqs]\n",
      "print row_sums"
     ],
     "language": "python",
     "metadata": {},
     "outputs": [
      {
       "output_type": "stream",
       "stream": "stdout",
       "text": [
        "[455, 297, 303, 289, 441]\n"
       ]
      }
     ],
     "prompt_number": 36
    },
    {
     "cell_type": "code",
     "collapsed": false,
     "input": [
      "# now this can be collected in a single proceessor and the max found easily\n",
      "max(row_sums)"
     ],
     "language": "python",
     "metadata": {},
     "outputs": [
      {
       "metadata": {},
       "output_type": "pyout",
       "prompt_number": 37,
       "text": [
        "455"
       ]
      }
     ],
     "prompt_number": 37
    },
    {
     "cell_type": "code",
     "collapsed": false,
     "input": [
      "# we can do this in one line, but it can be hard to read\n",
      "max(reduce(operator.add, map(lambda x: x*x, x)) for x in xs)"
     ],
     "language": "python",
     "metadata": {},
     "outputs": [
      {
       "metadata": {},
       "output_type": "pyout",
       "prompt_number": 38,
       "text": [
        "455"
       ]
      }
     ],
     "prompt_number": 38
    },
    {
     "cell_type": "code",
     "collapsed": false,
     "input": [
      "# In normal use, we would just use vectorized operations\n",
      "xs = array(xs)\n",
      "max(sum(xs*xs, axis=1)) # axis=1 sums by rows"
     ],
     "language": "python",
     "metadata": {},
     "outputs": [
      {
       "metadata": {},
       "output_type": "pyout",
       "prompt_number": 39,
       "text": [
        "455"
       ]
      }
     ],
     "prompt_number": 39
    },
    {
     "cell_type": "markdown",
     "metadata": {},
     "source": [
      "### Function composition"
     ]
    },
    {
     "cell_type": "markdown",
     "metadata": {},
     "source": [
      "We can get many more functional programmign tools by installing the `functional` package\n",
      "```bash\n",
      "pip install functional\n",
      "```"
     ]
    },
    {
     "cell_type": "code",
     "collapsed": false,
     "input": [
      "from functional import compose, foldl, partial"
     ],
     "language": "python",
     "metadata": {},
     "outputs": [],
     "prompt_number": 40
    },
    {
     "cell_type": "code",
     "collapsed": false,
     "input": [
      "# partial reduces the number of argumnents a function needs\n",
      "# it returns a new functions with some parameters \"filled in\"\n",
      "\n",
      "def f(x, y, z):\n",
      "    return x, y, z\n",
      "\n",
      "g = partial(f, 1)\n",
      "h = partial(f, 1, 2)\n",
      "k = partial(g, 2)\n",
      "j = partial(f, z=3)\n",
      "\n",
      "print f(1,2,3)\n",
      "print g(2,3)\n",
      "print h(3)\n",
      "print k(3)\n",
      "print j(1, 2)"
     ],
     "language": "python",
     "metadata": {},
     "outputs": [
      {
       "output_type": "stream",
       "stream": "stdout",
       "text": [
        "(1, 2, 3)\n",
        "(1, 2, 3)\n",
        "(1, 2, 3)\n",
        "(1, 2, 3)\n",
        "(1, 2, 3)\n"
       ]
      }
     ],
     "prompt_number": 41
    },
    {
     "cell_type": "code",
     "collapsed": false,
     "input": [
      "# a simple example\n",
      "\n",
      "def add(a, b):\n",
      "    return a + b\n",
      "\n",
      "add10 = partial(add, b=10)\n",
      "print add10(5)"
     ],
     "language": "python",
     "metadata": {},
     "outputs": [
      {
       "output_type": "stream",
       "stream": "stdout",
       "text": [
        "15\n"
       ]
      }
     ],
     "prompt_number": 42
    },
    {
     "cell_type": "code",
     "collapsed": false,
     "input": [
      "# compose does function composision\n",
      "\n",
      "def f(x):\n",
      "    return x**2\n",
      "\n",
      "def g(x):\n",
      "    return x + 2\n",
      "\n",
      "fg = compose(f, g)\n",
      "x =3\n",
      "fg(x)"
     ],
     "language": "python",
     "metadata": {},
     "outputs": [
      {
       "metadata": {},
       "output_type": "pyout",
       "prompt_number": 43,
       "text": [
        "25"
       ]
      }
     ],
     "prompt_number": 43
    },
    {
     "cell_type": "code",
     "collapsed": false,
     "input": [
      "# We can use reduce and parital to compose multiple arguments\n",
      "\n",
      "# reduce takes two arguments - the function, and an iterable\n",
      "# First we use parital to \"pre-load\" reduce with the compose function\n",
      "composeN = partial(reduce, compose)\n",
      "\n",
      "# Now we can compose multiple functions\n",
      "\n",
      "fggf = composeN([f, g, g, f])\n",
      "fggf(x)"
     ],
     "language": "python",
     "metadata": {},
     "outputs": [
      {
       "metadata": {},
       "output_type": "pyout",
       "prompt_number": 44,
       "text": [
        "169"
       ]
      }
     ],
     "prompt_number": 44
    },
    {
     "cell_type": "code",
     "collapsed": false,
     "input": [
      "# Let's check\n",
      "f(g(g(f(x))))"
     ],
     "language": "python",
     "metadata": {},
     "outputs": [
      {
       "metadata": {},
       "output_type": "pyout",
       "prompt_number": 45,
       "text": [
        "169"
       ]
      }
     ],
     "prompt_number": 45
    },
    {
     "cell_type": "markdown",
     "metadata": {},
     "source": [
      "From <https://docs.python.org/release/2.6/howto/functional.html>\n",
      "\n",
      "foldl() takes a binary function, a starting value (usually some kind of \u2018zero\u2019), and an iterable. The function is applied to the starting value and the first element of the list, then the result of that and the second element of the list, then the result of that and the third element of the list, and so on.\n",
      "\n",
      "This means that a call such as:\n",
      "```python\n",
      "foldl(f, 0, [1, 2, 3])\n",
      "```\n",
      "is equivalent to:\n",
      "```python\n",
      "f(f(f(0, 1), 2), 3)\n",
      "```"
     ]
    },
    {
     "cell_type": "code",
     "collapsed": false,
     "input": [
      "# Another example - define a function to flatten a list of list\n",
      "flatten = partial(foldl, operator.concat, [])\n",
      "flatten([[1],[2,3],[4,5,6]])"
     ],
     "language": "python",
     "metadata": {},
     "outputs": [
      {
       "metadata": {},
       "output_type": "pyout",
       "prompt_number": 46,
       "text": [
        "[1, 2, 3, 4, 5, 6]"
       ]
      }
     ],
     "prompt_number": 46
    },
    {
     "cell_type": "markdown",
     "metadata": {},
     "source": [
      "### A bootstrap example using higher order functions"
     ]
    },
    {
     "cell_type": "code",
     "collapsed": false,
     "input": [
      "# We want a bootstrap funciotn that will work for any distribution \n",
      "# and any statstiic of interest\n",
      "\n",
      "def bootstrap(n, low, high, dist, statistic):\n",
      "    \"\"\"A simple bootstrap function.\n",
      "    n = number of bootstrap samples\n",
      "    low = lower percentile\n",
      "    high = upper percentile\n",
      "    dist = random number generator that will give n samples\n",
      "    statistic = boootstrap summary of interest\"\"\"\n",
      "    \n",
      "    xs = dist(n)\n",
      "    bs = random.choice(xs, (500, len(xs)), replace=True)\n",
      "    bss = np.apply_along_axis(statistic, 1, bs)\n",
      "    bss.sort()\n",
      "    return bss[int(low*len(bss))], bss[int(high*len(bss))]"
     ],
     "language": "python",
     "metadata": {},
     "outputs": [],
     "prompt_number": 47
    },
    {
     "cell_type": "code",
     "collapsed": false,
     "input": [
      "n = 10000\n",
      "low = 0.025\n",
      "high = 0.975\n",
      "dist = partial(normal, 10, 3)\n",
      "statistic = mean\n",
      "print bootstrap(n, low, high, dist, statistic)\n",
      "\n",
      "# it is easy to find the bootstrap CI for variance of a poisson disttribution\n",
      "dist = partial(poisson, 5)\n",
      "print bootstrap(n, low, high, dist, var)\n",
      "\n",
      "# function composition will also work - e.g. to find precision\n",
      "print bootstrap(n, low, high, dist, compose(reciprocal, var))"
     ],
     "language": "python",
     "metadata": {},
     "outputs": [
      {
       "output_type": "stream",
       "stream": "stdout",
       "text": [
        "(9.8861056861933125, 10.00712396740086)\n",
        "(4.9012311100001726, 5.2013100399994601)"
       ]
      },
      {
       "output_type": "stream",
       "stream": "stdout",
       "text": [
        "\n",
        "(0.19743338027167104, 0.20920908430362828)"
       ]
      },
      {
       "output_type": "stream",
       "stream": "stdout",
       "text": [
        "\n"
       ]
      }
     ],
     "prompt_number": 48
    },
    {
     "cell_type": "markdown",
     "metadata": {},
     "source": [
      "### Decorators\n",
      "\n",
      "A decorator is a special function that takes a function as an argument, \"decorates\" the function with new capabilities, and then returns the function."
     ]
    },
    {
     "cell_type": "code",
     "collapsed": false,
     "input": [
      "# A simple decorator\n",
      "def func_timer(f):\n",
      "    import time\n",
      "    def func(x):\n",
      "        start = time.time()        \n",
      "        result = f(x)\n",
      "        print 'Elapsed time:', time.time() - start\n",
      "        return result\n",
      "    return func\n",
      "\n",
      "# manual call\n",
      "def snooze1(n):\n",
      "    import time\n",
      "    time.sleep(n)\n",
      "    \n",
      "func_timer(snooze1)(1)\n",
      "\n",
      "# use decorator syntactic sugar\n",
      "@func_timer\n",
      "def snooze2(n):\n",
      "    import time\n",
      "    time.sleep(n)\n",
      "    \n",
      "snooze2(2)"
     ],
     "language": "python",
     "metadata": {},
     "outputs": [
      {
       "output_type": "stream",
       "stream": "stdout",
       "text": [
        "Elapsed time: 1.0011241436\n",
        "Elapsed time:"
       ]
      },
      {
       "output_type": "stream",
       "stream": "stdout",
       "text": [
        " 2.00178384781\n"
       ]
      }
     ],
     "prompt_number": 49
    },
    {
     "cell_type": "markdown",
     "metadata": {},
     "source": [
      "### Use of recursion"
     ]
    },
    {
     "cell_type": "code",
     "collapsed": false,
     "input": [
      "# The classic example of recursion is either Fibonacci series or the factorial function\n",
      "# Recursion just means that a function calls itself\n",
      "\n",
      "def fact(n):\n",
      "    if n <= 1:\n",
      "        return 1\n",
      "    else:\n",
      "        return n*fact(n-1)\n",
      "\n",
      "def fib(n):\n",
      "    if n < 2:\n",
      "        return 1\n",
      "    else:\n",
      "        return fib(n-1) + fib(n-2)"
     ],
     "language": "python",
     "metadata": {},
     "outputs": [],
     "prompt_number": 50
    },
    {
     "cell_type": "code",
     "collapsed": false,
     "input": [
      "fact(6)"
     ],
     "language": "python",
     "metadata": {},
     "outputs": [
      {
       "metadata": {},
       "output_type": "pyout",
       "prompt_number": 51,
       "text": [
        "720"
       ]
      }
     ],
     "prompt_number": 51
    },
    {
     "cell_type": "code",
     "collapsed": false,
     "input": [
      "[fib(i) for i in range(10)]"
     ],
     "language": "python",
     "metadata": {},
     "outputs": [
      {
       "metadata": {},
       "output_type": "pyout",
       "prompt_number": 52,
       "text": [
        "[1, 1, 2, 3, 5, 8, 13, 21, 34, 55]"
       ]
      }
     ],
     "prompt_number": 52
    },
    {
     "cell_type": "markdown",
     "metadata": {},
     "source": [
      "### Consider moving to optimization session"
     ]
    },
    {
     "cell_type": "code",
     "collapsed": false,
     "input": [
      "# Recursion is very slow and prone to crashing on Python\n",
      "# because of the redundant number of function calls made\n",
      "# However, if we save the results of previus function calls\n",
      "# and resuse them instead of repeating the calculaiotn,\n",
      "# we reduce memory usage and computational time dramatically"
     ],
     "language": "python",
     "metadata": {},
     "outputs": [],
     "prompt_number": 53
    },
    {
     "cell_type": "code",
     "collapsed": false,
     "input": [
      "# From http://code.activestate.com/recipes/578231-probably-the-fastest-memoization-decorator-in-the-/\n",
      "# Just for fun\n",
      "# should show classical version of the decorator\n",
      "\n",
      "def memoize1(f):\n",
      "    store = {}\n",
      "    def func(n):\n",
      "        if n not in store:\n",
      "            store[n] = f(n)\n",
      "        return store[n]\n",
      "    return func\n",
      "\n",
      "@memoize1\n",
      "def cfib(n):\n",
      "    return fib(n)\n",
      "\n",
      "def memoize2(f):\n",
      "  class memodict(dict):\n",
      "      __slots__ = ()\n",
      "      def __missing__(self, key):\n",
      "          self[key] = ret = f(key)\n",
      "          return ret\n",
      "  return memodict().__getitem__\n",
      "    \n",
      "@memoize2\n",
      "def mfib(n):\n",
      "    return fib(n)"
     ],
     "language": "python",
     "metadata": {},
     "outputs": [],
     "prompt_number": 54
    },
    {
     "cell_type": "code",
     "collapsed": false,
     "input": [
      "%timeit -n 3 fib(30)\n",
      "%timeit -n 10 cfib(30)\n",
      "%timeit -n 10 mfib(30)"
     ],
     "language": "python",
     "metadata": {},
     "outputs": [
      {
       "output_type": "stream",
       "stream": "stdout",
       "text": [
        "3 loops, best of 3: 583 ms per loop\n",
        "10 loops, best of 3: 286 ns per loop\n",
        "10 loops, best of 3: 95.4 ns per loop\n"
       ]
      }
     ],
     "prompt_number": 62
    },
    {
     "cell_type": "code",
     "collapsed": false,
     "input": [],
     "language": "python",
     "metadata": {},
     "outputs": []
    }
   ],
   "metadata": {}
  }
 ]
}