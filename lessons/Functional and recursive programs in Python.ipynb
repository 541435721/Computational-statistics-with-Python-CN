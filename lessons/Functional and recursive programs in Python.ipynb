{
 "metadata": {
  "name": "",
  "signature": "sha256:6ece0688ba56aef58e390d5caa4d58d2cafd3be98e07342a686de38df36a9904"
 },
 "nbformat": 3,
 "nbformat_minor": 0,
 "worksheets": [
  {
   "cells": [
    {
     "cell_type": "markdown",
     "metadata": {},
     "source": [
      "Functional and recursive programs in Python \n",
      "===="
     ]
    },
    {
     "cell_type": "markdown",
     "metadata": {},
     "source": [
      "Iterators, list comprehension, generator expressions and higher order functions\n",
      "----"
     ]
    },
    {
     "cell_type": "markdown",
     "metadata": {},
     "source": [
      "### Imperative style"
     ]
    },
    {
     "cell_type": "code",
     "collapsed": false,
     "input": [
      "xs = []\n",
      "for i in range(10):\n",
      "    if i % 2 == 0:\n",
      "        xs.append(i*i)\n",
      "xs"
     ],
     "language": "python",
     "metadata": {},
     "outputs": [
      {
       "metadata": {},
       "output_type": "pyout",
       "prompt_number": 1,
       "text": [
        "[0, 4, 16, 36, 64]"
       ]
      }
     ],
     "prompt_number": 1
    },
    {
     "cell_type": "markdown",
     "metadata": {},
     "source": [
      "### Using list comprehenions"
     ]
    },
    {
     "cell_type": "code",
     "collapsed": false,
     "input": [
      "### A list comprehension builds a list in memory\n",
      "xs = [i*i for i in range(10) if i % 2 == 0] # memory is allocated\n",
      "xs"
     ],
     "language": "python",
     "metadata": {},
     "outputs": [
      {
       "metadata": {},
       "output_type": "pyout",
       "prompt_number": 2,
       "text": [
        "[0, 4, 16, 36, 64]"
       ]
      }
     ],
     "prompt_number": 2
    },
    {
     "cell_type": "markdown",
     "metadata": {},
     "source": [
      "### Using generator expressions"
     ]
    },
    {
     "cell_type": "code",
     "collapsed": false,
     "input": [
      "### A generator expression looks like a list comprehension but returns values on demand only\n",
      "xs = (i*i for i in range(10) if i % 2 == 0) # no memory is allocated\n",
      "list(xs)"
     ],
     "language": "python",
     "metadata": {},
     "outputs": [
      {
       "metadata": {},
       "output_type": "pyout",
       "prompt_number": 3,
       "text": [
        "[0, 4, 16, 36, 64]"
       ]
      }
     ],
     "prompt_number": 3
    },
    {
     "cell_type": "markdown",
     "metadata": {},
     "source": [
      "### Using higher order functions - map and filter"
     ]
    },
    {
     "cell_type": "code",
     "collapsed": false,
     "input": [
      "def square(x):\n",
      "    return x*x\n",
      "\n",
      "def even(x):\n",
      "    return x % 2 == 0\n",
      "\n",
      "xs = map(square, filter(even, range(10)))\n",
      "xs"
     ],
     "language": "python",
     "metadata": {},
     "outputs": [
      {
       "metadata": {},
       "output_type": "pyout",
       "prompt_number": 4,
       "text": [
        "[0, 4, 16, 36, 64]"
       ]
      }
     ],
     "prompt_number": 4
    },
    {
     "cell_type": "code",
     "collapsed": false,
     "input": [
      "### Using anonymous functions\n",
      "\n",
      "xs = map(lambda x: x*x, filter(lambda x: x % 2 == 0, range(10)))\n",
      "xs"
     ],
     "language": "python",
     "metadata": {},
     "outputs": [
      {
       "metadata": {},
       "output_type": "pyout",
       "prompt_number": 5,
       "text": [
        "[0, 4, 16, 36, 64]"
       ]
      }
     ],
     "prompt_number": 5
    },
    {
     "cell_type": "markdown",
     "metadata": {},
     "source": [
      "Operators and Reductions\n",
      "----"
     ]
    },
    {
     "cell_type": "markdown",
     "metadata": {},
     "source": [
      "### Imperative style"
     ]
    },
    {
     "cell_type": "code",
     "collapsed": false,
     "input": [
      "s = 10\n",
      "for i in range(10):\n",
      "    s += i\n",
      "s"
     ],
     "language": "python",
     "metadata": {},
     "outputs": [
      {
       "metadata": {},
       "output_type": "pyout",
       "prompt_number": 6,
       "text": [
        "55"
       ]
      }
     ],
     "prompt_number": 6
    },
    {
     "cell_type": "markdown",
     "metadata": {},
     "source": [
      "### Using operator.add and reduce"
     ]
    },
    {
     "cell_type": "code",
     "collapsed": false,
     "input": [
      "import operator\n",
      "\n",
      "s = reduce(operator.add, range(10), 10)\n",
      "s"
     ],
     "language": "python",
     "metadata": {},
     "outputs": [
      {
       "metadata": {},
       "output_type": "pyout",
       "prompt_number": 15,
       "text": [
        "55"
       ]
      }
     ],
     "prompt_number": 15
    },
    {
     "cell_type": "code",
     "collapsed": false,
     "input": [
      "# In practice, we just use sum\n",
      "sum(range(10)) + 10"
     ],
     "language": "python",
     "metadata": {},
     "outputs": [
      {
       "metadata": {},
       "output_type": "pyout",
       "prompt_number": 9,
       "text": [
        "55"
       ]
      }
     ],
     "prompt_number": 9
    },
    {
     "cell_type": "markdown",
     "metadata": {},
     "source": [
      "### The map-reduce idioom"
     ]
    },
    {
     "cell_type": "code",
     "collapsed": false,
     "input": [
      "# But understandning these higher order functions is useful later when we write parallel programs\n",
      "\n",
      "# suppose we have a list of lists of numbers\n",
      "xs = random.randint(0,10,(5,12)).tolist()\n",
      "xs"
     ],
     "language": "python",
     "metadata": {},
     "outputs": [
      {
       "metadata": {},
       "output_type": "pyout",
       "prompt_number": 17,
       "text": [
        "[[0, 8, 0, 9, 7, 0, 9, 8, 5, 3, 9, 5],\n",
        " [9, 1, 1, 8, 7, 2, 6, 7, 3, 7, 7, 9],\n",
        " [2, 5, 4, 1, 6, 6, 9, 1, 7, 7, 6, 8],\n",
        " [9, 3, 4, 9, 5, 9, 1, 2, 0, 6, 7, 5],\n",
        " [2, 1, 8, 2, 3, 4, 0, 8, 5, 9, 1, 1]]"
       ]
      }
     ],
     "prompt_number": 17
    },
    {
     "cell_type": "code",
     "collapsed": false,
     "input": [
      "# and we want to sum the squares for each list\n",
      "# then find maximum value\n",
      "# this can be done using the map-reduce pattern\n",
      "\n",
      "# here we use a list comprehension - in a parallel program\n",
      "# each map operation would be performed on a different processor in parallel\n",
      "\n",
      "# first we square each number for each list with a map operation\n",
      "row_sqs = [map(lambda x: x*x, x) for x in xs]\n",
      "row_sqs"
     ],
     "language": "python",
     "metadata": {},
     "outputs": [
      {
       "metadata": {},
       "output_type": "pyout",
       "prompt_number": 27,
       "text": [
        "[[0, 64, 0, 81, 49, 0, 81, 64, 25, 9, 81, 25],\n",
        " [81, 1, 1, 64, 49, 4, 36, 49, 9, 49, 49, 81],\n",
        " [4, 25, 16, 1, 36, 36, 81, 1, 49, 49, 36, 64],\n",
        " [81, 9, 16, 81, 25, 81, 1, 4, 0, 36, 49, 25],\n",
        " [4, 1, 64, 4, 9, 16, 0, 64, 25, 81, 1, 1]]"
       ]
      }
     ],
     "prompt_number": 27
    },
    {
     "cell_type": "code",
     "collapsed": false,
     "input": [
      "# then we add the squared numbers in each list with a reduce operaiton\n",
      "row_sums = [reduce(operator.add, row) for row in row_sqs]\n",
      "print row_sums"
     ],
     "language": "python",
     "metadata": {},
     "outputs": [
      {
       "output_type": "stream",
       "stream": "stdout",
       "text": [
        "[479, 473, 398, 408, 270]\n"
       ]
      }
     ],
     "prompt_number": 31
    },
    {
     "cell_type": "code",
     "collapsed": false,
     "input": [
      "# now this can be collected in a single proceessor and the max found easily\n",
      "max(row_sums)"
     ],
     "language": "python",
     "metadata": {},
     "outputs": [
      {
       "metadata": {},
       "output_type": "pyout",
       "prompt_number": 34,
       "text": [
        "479"
       ]
      }
     ],
     "prompt_number": 34
    },
    {
     "cell_type": "code",
     "collapsed": false,
     "input": [
      "# we can do this in one line, but it can be hard to read\n",
      "max(reduce(operator.add, map(lambda x: x*x, x)) for x in xs)"
     ],
     "language": "python",
     "metadata": {},
     "outputs": [
      {
       "metadata": {},
       "output_type": "pyout",
       "prompt_number": 37,
       "text": [
        "479"
       ]
      }
     ],
     "prompt_number": 37
    },
    {
     "cell_type": "code",
     "collapsed": false,
     "input": [
      "# In normal use, we would just use vectorized operations\n",
      "xs = array(xs)\n",
      "max(sum(xs*xs, axis=1)) # axis=1 sums by rows"
     ],
     "language": "python",
     "metadata": {},
     "outputs": [
      {
       "metadata": {},
       "output_type": "pyout",
       "prompt_number": 45,
       "text": [
        "479"
       ]
      }
     ],
     "prompt_number": 45
    },
    {
     "cell_type": "markdown",
     "metadata": {},
     "source": [
      "### Function composition"
     ]
    },
    {
     "cell_type": "markdown",
     "metadata": {},
     "source": [
      "We can get many more functional programmign tools by installing the `functional` package\n",
      "```bash\n",
      "pip install functional\n",
      "```"
     ]
    },
    {
     "cell_type": "code",
     "collapsed": false,
     "input": [
      "from functional import compose, foldl, partial"
     ],
     "language": "python",
     "metadata": {},
     "outputs": [],
     "prompt_number": 1
    },
    {
     "cell_type": "code",
     "collapsed": false,
     "input": [
      "# compose does function composision\n",
      "\n",
      "def f(x):\n",
      "    return x**2\n",
      "\n",
      "def g(x):\n",
      "    return x + 2\n",
      "\n",
      "fg = compose(f, g)\n",
      "x =3\n",
      "fg(x)"
     ],
     "language": "python",
     "metadata": {},
     "outputs": [
      {
       "metadata": {},
       "output_type": "pyout",
       "prompt_number": 3,
       "text": [
        "25"
       ]
      }
     ],
     "prompt_number": 3
    },
    {
     "cell_type": "code",
     "collapsed": false,
     "input": [
      "# We can use reduce to compsoe multiple arguments\n",
      "\n",
      "# first we need to understand partial\n",
      "# partial reduces the number of arguments a function needs\n",
      "\n",
      "def add(a, b):\n",
      "    return a + b\n",
      "\n",
      "add10 = partial(add, b=10)\n",
      "print add10(5)\n",
      "\n",
      "# reduce takes two arguments - the function, and an iterable\n",
      "# So we use reduce to \"pre-load\" reduce with the compose function\n",
      "composeN = partial(reduce, compose)\n",
      "\n",
      "# Now we can compose multiple functions\n",
      "\n",
      "fggf = composeN([f, g, g, f])\n",
      "fggf(x)"
     ],
     "language": "python",
     "metadata": {},
     "outputs": [
      {
       "output_type": "stream",
       "stream": "stdout",
       "text": [
        "15\n"
       ]
      },
      {
       "metadata": {},
       "output_type": "pyout",
       "prompt_number": 9,
       "text": [
        "169"
       ]
      }
     ],
     "prompt_number": 9
    },
    {
     "cell_type": "code",
     "collapsed": false,
     "input": [
      "# Let's check\n",
      "f(g(g(f(x))))"
     ],
     "language": "python",
     "metadata": {},
     "outputs": [
      {
       "metadata": {},
       "output_type": "pyout",
       "prompt_number": 10,
       "text": [
        "169"
       ]
      }
     ],
     "prompt_number": 10
    },
    {
     "cell_type": "markdown",
     "metadata": {},
     "source": [
      "From <https://docs.python.org/release/2.6/howto/functional.html>\n",
      "\n",
      "foldl() takes a binary function, a starting value (usually some kind of \u2018zero\u2019), and an iterable. The function is applied to the starting value and the first element of the list, then the result of that and the second element of the list, then the result of that and the third element of the list, and so on.\n",
      "\n",
      "This means that a call such as:\n",
      "```python\n",
      "foldl(f, 0, [1, 2, 3])\n",
      "```\n",
      "is equivalent to:\n",
      "```python\n",
      "f(f(f(0, 1), 2), 3)\n",
      "```"
     ]
    },
    {
     "cell_type": "code",
     "collapsed": false,
     "input": [
      "# Another example - define a function to flatten a list of list\n",
      "flatten = partial(foldl, operator.concat, [])\n",
      "flatten([[1],[2,3],[4,5,6]])"
     ],
     "language": "python",
     "metadata": {},
     "outputs": [
      {
       "metadata": {},
       "output_type": "pyout",
       "prompt_number": 79,
       "text": [
        "[1, 2, 3, 4, 5, 6]"
       ]
      }
     ],
     "prompt_number": 79
    },
    {
     "cell_type": "markdown",
     "metadata": {},
     "source": [
      "### Use of recursion"
     ]
    },
    {
     "cell_type": "code",
     "collapsed": false,
     "input": [
      "# The classic example of recursion is either Fibonacci series or the factorial function\n",
      "# Recursion just means that a function calls itself\n",
      "\n",
      "def fact(n):\n",
      "    if n <= 1:\n",
      "        return 1\n",
      "    else:\n",
      "        return n*fact(n-1)\n",
      "\n",
      "def fib(n):\n",
      "    if n < 2:\n",
      "        return 1\n",
      "    else:\n",
      "        return fib(n-1) + fib(n-2)"
     ],
     "language": "python",
     "metadata": {},
     "outputs": [],
     "prompt_number": 152
    },
    {
     "cell_type": "code",
     "collapsed": false,
     "input": [
      "fact(6)"
     ],
     "language": "python",
     "metadata": {},
     "outputs": [
      {
       "metadata": {},
       "output_type": "pyout",
       "prompt_number": 153,
       "text": [
        "720"
       ]
      }
     ],
     "prompt_number": 153
    },
    {
     "cell_type": "code",
     "collapsed": false,
     "input": [
      "[fib(i) for i in range(10)]"
     ],
     "language": "python",
     "metadata": {},
     "outputs": [
      {
       "metadata": {},
       "output_type": "pyout",
       "prompt_number": 142,
       "text": [
        "[1, 1, 2, 3, 5, 8, 13, 21, 34, 55]"
       ]
      }
     ],
     "prompt_number": 142
    },
    {
     "cell_type": "code",
     "collapsed": false,
     "input": [
      "# Suppose we want to flatten arbitrarily deeply nested lists\n",
      "# Recursion comes in handy\n",
      "\n",
      "def isflat(xs):\n",
      "    return not any([iterable(x) for x in xs])\n",
      "\n",
      "def flattenN(xs):\n",
      "    if isflat(xs):\n",
      "        return xs\n",
      "    else:\n",
      "        x1 = [x for x in xs if not iterable(x)]\n",
      "        x2 = flatten(xs[len(x1):])\n",
      "        xs = flattenN(x1 + x2)\n",
      "    return xs"
     ],
     "language": "python",
     "metadata": {},
     "outputs": [],
     "prompt_number": 149
    },
    {
     "cell_type": "code",
     "collapsed": false,
     "input": [
      "flatten([[[1,2],[[3,4]]]])"
     ],
     "language": "python",
     "metadata": {},
     "outputs": [
      {
       "metadata": {},
       "output_type": "pyout",
       "prompt_number": 150,
       "text": [
        "[[1, 2], [[3, 4]]]"
       ]
      }
     ],
     "prompt_number": 150
    },
    {
     "cell_type": "code",
     "collapsed": false,
     "input": [
      "flattenN([[[1,2],[[3,4]]]])"
     ],
     "language": "python",
     "metadata": {},
     "outputs": [
      {
       "metadata": {},
       "output_type": "pyout",
       "prompt_number": 151,
       "text": [
        "[1, 2, 3, 4]"
       ]
      }
     ],
     "prompt_number": 151
    },
    {
     "cell_type": "code",
     "collapsed": false,
     "input": [],
     "language": "python",
     "metadata": {},
     "outputs": []
    }
   ],
   "metadata": {}
  }
 ]
}