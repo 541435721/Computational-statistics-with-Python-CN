{
 "metadata": {
  "name": "",
  "signature": "sha256:d81113dc7a9b9a37f8bf5a5a9a850b55f4ed56cbc844dedf0629210a21790344"
 },
 "nbformat": 3,
 "nbformat_minor": 0,
 "worksheets": [
  {
   "cells": [
    {
     "cell_type": "markdown",
     "metadata": {},
     "source": [
      "### Traditional Monte Carlo estimation of $\\pi$ "
     ]
    },
    {
     "cell_type": "code",
     "collapsed": false,
     "input": [
      "%matplotlib inline\n",
      "from matplotlib import pyplot as plt\n",
      "import numpy as np"
     ],
     "language": "python",
     "metadata": {},
     "outputs": [],
     "prompt_number": 1
    },
    {
     "cell_type": "code",
     "collapsed": false,
     "input": [
      "%load_ext cythonmagic"
     ],
     "language": "python",
     "metadata": {},
     "outputs": [],
     "prompt_number": 2
    },
    {
     "cell_type": "markdown",
     "metadata": {},
     "source": [
      "### Review of optimization"
     ]
    },
    {
     "cell_type": "code",
     "collapsed": false,
     "input": [
      "def pi_python(n):\n",
      "    s = np.zeros(n, dtype=np.bool)\n",
      "    for i in range(n):\n",
      "        x, y = np.random.uniform(-1, 1, 2)\n",
      "        s[i] = x**2 + y**2 < 1\n",
      "    return 4.0*np.sum(s)/n"
     ],
     "language": "python",
     "metadata": {},
     "outputs": [],
     "prompt_number": 3
    },
    {
     "cell_type": "code",
     "collapsed": false,
     "input": [
      "%%cython\n",
      "import cython\n",
      "import numpy as np\n",
      "cimport numpy as np\n",
      "\n",
      "@cython.cdivision\n",
      "@cython.boundscheck(False)\n",
      "@cython.wraparound(False)\n",
      "def pi_cython(long n):\n",
      "    cdef int[:] s = np.zeros(n, dtype=np.int32)\n",
      "    cdef int i = 0\n",
      "    cdef double x, y\n",
      "    for i in range(n):\n",
      "        x = np.random.uniform(-1, 1)\n",
      "        y = np.random.uniform(-1, 1)\n",
      "        s[i] = x**2 + y**2 < 1\n",
      "    cdef int hits = 0\n",
      "    for i in range(n):\n",
      "        hits += s[i]\n",
      "    return 4.0*hits/n"
     ],
     "language": "python",
     "metadata": {},
     "outputs": [],
     "prompt_number": 4
    },
    {
     "cell_type": "code",
     "collapsed": false,
     "input": [
      "def pi_numpy(n):\n",
      "    xs = np.random.uniform(-1, 1, (n,2))\n",
      "    return 4.0*((xs**2).sum(axis=1).sum() < 1)/n"
     ],
     "language": "python",
     "metadata": {},
     "outputs": [],
     "prompt_number": 12
    },
    {
     "cell_type": "code",
     "collapsed": false,
     "input": [
      "n = int(1e6)\n",
      "%timeit pi_python(n)\n",
      "%timeit pi_cython(n)\n",
      "%timeit pi_numpy(n)"
     ],
     "language": "python",
     "metadata": {},
     "outputs": [
      {
       "output_type": "stream",
       "stream": "stdout",
       "text": [
        "1 loops, best of 3: 7.17 s per loop\n",
        "1 loops, best of 3: 343 ms per loop"
       ]
      },
      {
       "output_type": "stream",
       "stream": "stdout",
       "text": [
        "\n",
        "10 loops, best of 3: 57.2 ms per loop"
       ]
      },
      {
       "output_type": "stream",
       "stream": "stdout",
       "text": [
        "\n"
       ]
      }
     ],
     "prompt_number": 13
    },
    {
     "cell_type": "markdown",
     "metadata": {},
     "source": [
      "### Embarassingly parallel (coarse grain) - multiprocessing"
     ]
    },
    {
     "cell_type": "code",
     "collapsed": false,
     "input": [
      "def pi_multiprocessing(n, m):\n",
      "    import multiprocessing\n",
      "    pool = multiprocessing.Pool(m)\n",
      "    results = pool.map(pi_numpy, [n/m]*m)\n",
      "    pool.close()\n",
      "    return np.mean(results)"
     ],
     "language": "python",
     "metadata": {},
     "outputs": [],
     "prompt_number": 9
    },
    {
     "cell_type": "code",
     "collapsed": false,
     "input": [
      "n = int(1e6)\n",
      "m = 4\n",
      "%timeit pi_numpy(n)\n",
      "%timeit pi_multiprocessing(n, m)"
     ],
     "language": "python",
     "metadata": {},
     "outputs": [
      {
       "output_type": "stream",
       "stream": "stdout",
       "text": [
        "10 loops, best of 3: 58.7 ms per loop\n"
       ]
      },
      {
       "output_type": "stream",
       "stream": "stdout",
       "text": [
        "10 loops, best of 3: 69.7 ms per loop\n"
       ]
      }
     ],
     "prompt_number": 19
    },
    {
     "cell_type": "markdown",
     "metadata": {},
     "source": [
      "### The bigger the problem, the more scope there is for parallelism"
     ]
    },
    {
     "cell_type": "code",
     "collapsed": false,
     "input": [
      "n = int(1e8)\n",
      "m = 2\n",
      "%timeit pi_numpy(n)\n",
      "%timeit pi_multiprocessing(n, m)"
     ],
     "language": "python",
     "metadata": {},
     "outputs": [
      {
       "output_type": "stream",
       "stream": "stdout",
       "text": [
        "1 loops, best of 3: 7.55 s per loop\n"
       ]
      },
      {
       "output_type": "stream",
       "stream": "stdout",
       "text": [
        "1 loops, best of 3: 5.13 s per loop\n"
       ]
      }
     ],
     "prompt_number": 20
    },
    {
     "cell_type": "code",
     "collapsed": false,
     "input": [],
     "language": "python",
     "metadata": {},
     "outputs": []
    }
   ],
   "metadata": {}
  }
 ]
}