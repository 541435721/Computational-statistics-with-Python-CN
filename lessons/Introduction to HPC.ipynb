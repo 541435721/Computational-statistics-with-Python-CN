{
 "metadata": {
  "name": "",
  "signature": "sha256:36bbd3eb7b7aa5ad8b54ecee685a61547552391b02e47df75f2363b1bb853ee2"
 },
 "nbformat": 3,
 "nbformat_minor": 0,
 "worksheets": [
  {
   "cells": [
    {
     "cell_type": "markdown",
     "metadata": {},
     "source": [
      "### Traditional Monte Carlo estimation of $\\pi$ "
     ]
    },
    {
     "cell_type": "code",
     "collapsed": false,
     "input": [
      "%matplotlib inline\n",
      "from matplotlib import pyplot as plt\n",
      "import numpy as np"
     ],
     "language": "python",
     "metadata": {},
     "outputs": [],
     "prompt_number": 1
    },
    {
     "cell_type": "code",
     "collapsed": false,
     "input": [
      "%load_ext cythonmagic"
     ],
     "language": "python",
     "metadata": {},
     "outputs": [],
     "prompt_number": 2
    },
    {
     "cell_type": "markdown",
     "metadata": {},
     "source": [
      "### Review of optimization"
     ]
    },
    {
     "cell_type": "code",
     "collapsed": false,
     "input": [
      "def pi_python(n):\n",
      "    s = np.zeros(n, dtype=np.bool)\n",
      "    for i in range(n):\n",
      "        x, y = np.random.uniform(-1, 1, 2)\n",
      "        s[i] = x**2 + y**2 < 1\n",
      "    return 4.0*np.sum(s)/n"
     ],
     "language": "python",
     "metadata": {},
     "outputs": [],
     "prompt_number": 3
    },
    {
     "cell_type": "code",
     "collapsed": false,
     "input": [
      "%%cython\n",
      "import cython\n",
      "import numpy as np\n",
      "cimport numpy as np\n",
      "\n",
      "@cython.cdivision\n",
      "@cython.boundscheck(False)\n",
      "@cython.wraparound(False)\n",
      "def pi_cython(long n):\n",
      "    cdef int[:] s = np.zeros(n, dtype=np.int32)\n",
      "    cdef int i = 0\n",
      "    cdef double x, y\n",
      "    for i in range(n):\n",
      "        x = np.random.uniform(-1, 1)\n",
      "        y = np.random.uniform(-1, 1)\n",
      "        s[i] = x**2 + y**2 < 1\n",
      "    cdef int hits = 0\n",
      "    for i in range(n):\n",
      "        hits += s[i]\n",
      "    return 4.0*hits/n"
     ],
     "language": "python",
     "metadata": {},
     "outputs": [],
     "prompt_number": 4
    },
    {
     "cell_type": "code",
     "collapsed": false,
     "input": [
      "def pi_numpy(n):\n",
      "    xs = np.random.uniform(-1, 1, (n,2))\n",
      "    return 4.0*((xs**2).sum(axis=1).sum() < 1)/n"
     ],
     "language": "python",
     "metadata": {},
     "outputs": [],
     "prompt_number": 5
    },
    {
     "cell_type": "code",
     "collapsed": false,
     "input": [
      "n = int(1e6)\n",
      "%timeit pi_python(n)\n",
      "%timeit pi_cython(n)\n",
      "%timeit pi_numpy(n)"
     ],
     "language": "python",
     "metadata": {},
     "outputs": [
      {
       "output_type": "stream",
       "stream": "stdout",
       "text": [
        "1 loops, best of 3: 6.51 s per loop\n",
        "1 loops, best of 3: 313 ms per loop"
       ]
      },
      {
       "output_type": "stream",
       "stream": "stdout",
       "text": [
        "\n",
        "10 loops, best of 3: 58.3 ms per loop"
       ]
      },
      {
       "output_type": "stream",
       "stream": "stdout",
       "text": [
        "\n"
       ]
      }
     ],
     "prompt_number": 6
    },
    {
     "cell_type": "markdown",
     "metadata": {},
     "source": [
      "### Embarassingly parallel problems"
     ]
    },
    {
     "cell_type": "markdown",
     "metadata": {},
     "source": [
      "#### Using Multiprocessing"
     ]
    },
    {
     "cell_type": "code",
     "collapsed": false,
     "input": [
      "import multiprocessing\n",
      "\n",
      "multiprocessing.cpu_count()"
     ],
     "language": "python",
     "metadata": {},
     "outputs": [
      {
       "metadata": {},
       "output_type": "pyout",
       "prompt_number": 7,
       "text": [
        "4"
       ]
      }
     ],
     "prompt_number": 7
    },
    {
     "cell_type": "code",
     "collapsed": false,
     "input": [
      "def pi_multiprocessing(n, m):\n",
      "    \"\"\"Split a job of length n into m pieces.\"\"\"\n",
      "    import multiprocessing\n",
      "    pool = multiprocessing.Pool(m)\n",
      "    results = pool.map(pi_numpy, [n/m]*m)\n",
      "    pool.close()\n",
      "    return np.mean(results)"
     ],
     "language": "python",
     "metadata": {},
     "outputs": [],
     "prompt_number": 8
    },
    {
     "cell_type": "code",
     "collapsed": false,
     "input": [
      "n = int(1e6)\n",
      "m = 4\n",
      "%timeit pi_numpy(n)\n",
      "%timeit pi_multiprocessing(n, m)"
     ],
     "language": "python",
     "metadata": {},
     "outputs": [
      {
       "output_type": "stream",
       "stream": "stdout",
       "text": [
        "10 loops, best of 3: 60.1 ms per loop\n"
       ]
      },
      {
       "output_type": "stream",
       "stream": "stdout",
       "text": [
        "10 loops, best of 3: 62.8 ms per loop\n"
       ]
      }
     ],
     "prompt_number": 9
    },
    {
     "cell_type": "markdown",
     "metadata": {},
     "source": [
      "**The bigger the problem, the more scope there is for parallelism**"
     ]
    },
    {
     "cell_type": "code",
     "collapsed": false,
     "input": [
      "n = int(1e8)\n",
      "m = 2\n",
      "%timeit pi_numpy(n)\n",
      "%timeit pi_multiprocessing(n, m)"
     ],
     "language": "python",
     "metadata": {},
     "outputs": [
      {
       "output_type": "stream",
       "stream": "stdout",
       "text": [
        "1 loops, best of 3: 7.74 s per loop\n"
       ]
      },
      {
       "output_type": "stream",
       "stream": "stdout",
       "text": [
        "1 loops, best of 3: 4.82 s per loop\n"
       ]
      }
     ],
     "prompt_number": 10
    },
    {
     "cell_type": "markdown",
     "metadata": {},
     "source": [
      "#### Using IPython parallel\n",
      "\n",
      "Start a cluster of workers using IPython notebook interface. Alternatively, enter\n",
      "\n",
      "```ipcluster start -n 4```\n",
      "\n",
      "at the command line."
     ]
    },
    {
     "cell_type": "code",
     "collapsed": false,
     "input": [
      "from IPython.parallel import Client, interactive"
     ],
     "language": "python",
     "metadata": {},
     "outputs": [],
     "prompt_number": 11
    },
    {
     "cell_type": "markdown",
     "metadata": {},
     "source": [
      "**Direct view**"
     ]
    },
    {
     "cell_type": "code",
     "collapsed": false,
     "input": [
      "rc = Client()\n",
      "print rc.ids\n",
      "dv = rc[:]\n",
      "num_procs = len(rc)"
     ],
     "language": "python",
     "metadata": {},
     "outputs": [
      {
       "output_type": "stream",
       "stream": "stdout",
       "text": [
        "[0, 1, 2, 3]\n"
       ]
      }
     ],
     "prompt_number": 12
    },
    {
     "cell_type": "code",
     "collapsed": false,
     "input": [
      "def mandel_python(xs, ys, max_iters):\n",
      "    c = np.zeros((len(xs), len(ys)), np.int)\n",
      "    for i, x in enumerate(xs):\n",
      "        for j, y in enumerate(ys):\n",
      "            a = complex(x, y)\n",
      "            z = 0.0j\n",
      "            for k in range(max_iters):\n",
      "                z = z*z + a\n",
      "                if z.real*z.real + z.imag*z.imag >= 4:\n",
      "                    c[i,j] = k\n",
      "    return max_iters"
     ],
     "language": "python",
     "metadata": {},
     "outputs": [],
     "prompt_number": 13
    },
    {
     "cell_type": "code",
     "collapsed": false,
     "input": [
      "def mandel_numpy(xs, ys, max_iters):\n",
      "    X, Y = np.meshgrid(xs, ys)\n",
      "    A = X + 1j*Y\n",
      "    z = np.zeros_like(A, np.complex)\n",
      "    c = np.zeros_like(A, np.int)\n",
      "    for i in range(max_iters):\n",
      "        z = z*z + A\n",
      "        out = z.real*z.real + z.imag*z.imag >= 4\n",
      "        c[out & (c==0)] = i\n",
      "    return c"
     ],
     "language": "python",
     "metadata": {},
     "outputs": [],
     "prompt_number": 14
    },
    {
     "cell_type": "code",
     "collapsed": false,
     "input": [
      "def mandel_parallel(xs):\n",
      "    chunks = np.split(xs, len(dv))\n",
      "    return np.hstack(dv.map_sync(mandel, chunks)) "
     ],
     "language": "python",
     "metadata": {},
     "outputs": [],
     "prompt_number": 20
    },
    {
     "cell_type": "code",
     "collapsed": false,
     "input": [
      "xmin, xmax, ymin, ymax = -2, 1, -1, 1\n",
      "xs = np.arange(xmin, xmax, 0.01)\n",
      "ys = np.arange(-1, 1, 0.01)\n",
      "max_iters = 1000\n",
      "\n",
      "dv['max_iters'] = max_iters\n",
      "dv['ys'] = ys\n",
      "dv['mandel_numpy'] = mandel_numpy\n",
      "mandel = lambda x: mandel_numpy(x, ys, max_iters)\n",
      "    \n",
      "%timeit mandel_python(xs, ys, max_iters)\n",
      "%timeit mandel_numpy(xs, ys, max_iters)\n",
      "%timeit mandel_parallel(xs)"
     ],
     "language": "python",
     "metadata": {},
     "outputs": [
      {
       "output_type": "stream",
       "stream": "stdout",
       "text": [
        "1 loops, best of 3: 25.4 s per loop\n",
        "1 loops, best of 3: 875 ms per loop"
       ]
      },
      {
       "output_type": "stream",
       "stream": "stdout",
       "text": [
        "\n",
        "1 loops, best of 3: 662 ms per loop"
       ]
      },
      {
       "output_type": "stream",
       "stream": "stdout",
       "text": [
        "\n"
       ]
      }
     ],
     "prompt_number": 24
    },
    {
     "cell_type": "code",
     "collapsed": false,
     "input": [
      "xmin, xmax, ymin, ymax = -2, 1, -1, 1\n",
      "xs = np.arange(xmin, xmax, 0.01)\n",
      "ys = np.arange(-1, 1, 0.01)\n",
      "c = mandel_parallel(xs)\n",
      "plt.imshow(np.log1p(c), extent=[xmin, xmax, ymin, ymax]);"
     ],
     "language": "python",
     "metadata": {},
     "outputs": [
      {
       "metadata": {},
       "output_type": "display_data",
       "png": "[encoded data removed]",
       "text": [
        "<matplotlib.figure.Figure at 0x10d77f750>"
       ]
      }
     ],
     "prompt_number": 26
    },
    {
     "cell_type": "code",
     "collapsed": false,
     "input": [],
     "language": "python",
     "metadata": {},
     "outputs": []
    }
   ],
   "metadata": {}
  }
 ]
}