{
 "metadata": {
  "name": "",
  "signature": "sha256:c1f7a8a5f1791c8f28cfadcd0ec5be58a8170c63b723837abdc9bc001fd86103"
 },
 "nbformat": 3,
 "nbformat_minor": 0,
 "worksheets": [
  {
   "cells": [
    {
     "cell_type": "code",
     "collapsed": false,
     "input": [
      "%matplotlib inline\n",
      "import matplotlib.pyplot as plt\n",
      "import numpy as np\n",
      "%precision 4\n",
      "import os, sys, glob"
     ],
     "language": "python",
     "metadata": {},
     "outputs": [],
     "prompt_number": 17
    },
    {
     "cell_type": "markdown",
     "metadata": {},
     "source": [
      "## Using SQLite3"
     ]
    },
    {
     "cell_type": "markdown",
     "metadata": {},
     "source": [
      "### Working example dataset\n",
      "\n",
      "This data contains the survival time after receiving a heart transplant, the age of the patient and whether or not the survival time was censored \n",
      "\n",
      "* Number of Observations - 69\n",
      "* Number of Variables - 3\n",
      "\n",
      "Variable name definitions::\n",
      "*    death - Days after surgery until death\n",
      "*    age - age at the time of surgery\n",
      "*    censored - indicates if an observation is censored.  1 is uncensored"
     ]
    },
    {
     "cell_type": "code",
     "collapsed": false,
     "input": [
      "import statsmodels.api as sm\n",
      "heart = sm.datasets.heart.load_pandas().data\n",
      "heart.take(np.random.choice(len(heart), 6))"
     ],
     "language": "python",
     "metadata": {},
     "outputs": [
      {
       "html": [
        "<div style=\"max-height:1000px;max-width:1500px;overflow:auto;\">\n",
        "<table border=\"1\" class=\"dataframe\">\n",
        "  <thead>\n",
        "    <tr style=\"text-align: right;\">\n",
        "      <th></th>\n",
        "      <th>survival</th>\n",
        "      <th>censors</th>\n",
        "      <th>age</th>\n",
        "    </tr>\n",
        "  </thead>\n",
        "  <tbody>\n",
        "    <tr>\n",
        "      <th>32</th>\n",
        "      <td> 147</td>\n",
        "      <td> 1</td>\n",
        "      <td> 47.5</td>\n",
        "    </tr>\n",
        "    <tr>\n",
        "      <th>9 </th>\n",
        "      <td>  10</td>\n",
        "      <td> 1</td>\n",
        "      <td> 55.3</td>\n",
        "    </tr>\n",
        "    <tr>\n",
        "      <th>7 </th>\n",
        "      <td> 280</td>\n",
        "      <td> 1</td>\n",
        "      <td> 49.5</td>\n",
        "    </tr>\n",
        "    <tr>\n",
        "      <th>61</th>\n",
        "      <td>  30</td>\n",
        "      <td> 0</td>\n",
        "      <td> 45.8</td>\n",
        "    </tr>\n",
        "    <tr>\n",
        "      <th>55</th>\n",
        "      <td> 297</td>\n",
        "      <td> 1</td>\n",
        "      <td> 42.8</td>\n",
        "    </tr>\n",
        "    <tr>\n",
        "      <th>33</th>\n",
        "      <td>  51</td>\n",
        "      <td> 1</td>\n",
        "      <td> 52.5</td>\n",
        "    </tr>\n",
        "  </tbody>\n",
        "</table>\n",
        "</div>"
       ],
       "metadata": {},
       "output_type": "pyout",
       "prompt_number": 20,
       "text": [
        "    survival  censors   age\n",
        "32       147        1  47.5\n",
        "9         10        1  55.3\n",
        "7        280        1  49.5\n",
        "61        30        0  45.8\n",
        "55       297        1  42.8\n",
        "33        51        1  52.5"
       ]
      }
     ],
     "prompt_number": 20
    },
    {
     "cell_type": "code",
     "collapsed": false,
     "input": [
      "import sqlite3\n",
      "conn = sqlite3.connect('heart.db')"
     ],
     "language": "python",
     "metadata": {},
     "outputs": [],
     "prompt_number": 50
    },
    {
     "cell_type": "markdown",
     "metadata": {},
     "source": [
      "### Creating and populating a table"
     ]
    },
    {
     "cell_type": "code",
     "collapsed": false,
     "input": [
      "c = conn.cursor()\n",
      "\n",
      "c.execute('''CREATE TABLE transplant\n",
      "             (survival integer, censors integer, age real)''')\n",
      "\n",
      "c.executemany(\"insert into transplant(survival, censors, age) values (?, ?, ?)\", heart.values);"
     ],
     "language": "python",
     "metadata": {},
     "outputs": [],
     "prompt_number": 51
    },
    {
     "cell_type": "markdown",
     "metadata": {},
     "source": [
      "### SQL queries\n",
      "\n",
      "SQL Queries take the form\n",
      "```sql\n",
      "select (distinct) ... from ... (limit ...)\n",
      "where ...\n",
      "groupby ..\n",
      "order by ...\n",
      "```\n",
      "where most of the query apart from the ```select ... from ...``` are optional."
     ]
    },
    {
     "cell_type": "markdown",
     "metadata": {},
     "source": [
      "#### Selecting all columns, first 10 rows"
     ]
    },
    {
     "cell_type": "code",
     "collapsed": false,
     "input": [
      "for row in c.execute('''select * from transplant limit 5;'''):\n",
      "    print row"
     ],
     "language": "python",
     "metadata": {},
     "outputs": [
      {
       "output_type": "stream",
       "stream": "stdout",
       "text": [
        "(15, 1, 54.3)\n",
        "(3, 1, 40.4)\n",
        "(624, 1, 51.0)\n",
        "(46, 1, 42.5)\n",
        "(127, 1, 48.0)\n"
       ]
      }
     ],
     "prompt_number": 58
    },
    {
     "cell_type": "markdown",
     "metadata": {},
     "source": [
      "#### Using where to filter rows"
     ]
    },
    {
     "cell_type": "code",
     "collapsed": false,
     "input": [
      "# only find censored data for subjects < 40 years old\n",
      "for row in c.execute('''\n",
      "select * from transplant \n",
      "where censors=0 and age < 40 limit 5;'''):\n",
      "    print row"
     ],
     "language": "python",
     "metadata": {},
     "outputs": [
      {
       "output_type": "stream",
       "stream": "stdout",
       "text": [
        "(1775, 0, 33.3)\n",
        "(1106, 0, 36.8)\n",
        "(875, 0, 38.9)\n",
        "(815, 0, 32.7)\n",
        "(592, 0, 26.7)\n"
       ]
      }
     ],
     "prompt_number": 63
    },
    {
     "cell_type": "markdown",
     "metadata": {},
     "source": [
      "#### Using SQL functions"
     ]
    },
    {
     "cell_type": "code",
     "collapsed": false,
     "input": [
      "for row in c.execute('''select count(*), avg(age) from transplant where censors=0 and age < 40;'''):\n",
      "    print row"
     ],
     "language": "python",
     "metadata": {},
     "outputs": [
      {
       "output_type": "stream",
       "stream": "stdout",
       "text": [
        "(9, 31.43333333333333)\n"
       ]
      }
     ],
     "prompt_number": 66
    },
    {
     "cell_type": "markdown",
     "metadata": {},
     "source": [
      "#### Using groupby to find number of cnesored and uncensored subjects and thier average age"
     ]
    },
    {
     "cell_type": "code",
     "collapsed": false,
     "input": [
      "query = '''\n",
      "select censors, count(*), avg(age) from transplant \n",
      "group by censors;\n",
      "'''\n",
      "for row in c.execute(query):\n",
      "    print row"
     ],
     "language": "python",
     "metadata": {},
     "outputs": [
      {
       "output_type": "stream",
       "stream": "stdout",
       "text": [
        "(0, 24, 41.729166666666664)\n",
        "(1, 45, 48.484444444444456)\n"
       ]
      }
     ],
     "prompt_number": 77
    },
    {
     "cell_type": "markdown",
     "metadata": {},
     "source": [
      "#### Using having to filter grouped results"
     ]
    },
    {
     "cell_type": "code",
     "collapsed": false,
     "input": [
      "query = '''\n",
      "select censors, count(*), avg(age) from transplant \n",
      "group by censors\n",
      "having avg(age) < 45;\n",
      "'''\n",
      "for row in c.execute(query):\n",
      "    print row"
     ],
     "language": "python",
     "metadata": {},
     "outputs": [
      {
       "output_type": "stream",
       "stream": "stdout",
       "text": [
        "(0, 24, 41.729166666666664)\n"
       ]
      }
     ],
     "prompt_number": 82
    },
    {
     "cell_type": "markdown",
     "metadata": {},
     "source": [
      "#### Using order by to sort results"
     ]
    },
    {
     "cell_type": "code",
     "collapsed": false,
     "input": [
      "query = '''\n",
      "select * from transplant \n",
      "where age < 40\n",
      "order by age desc;\n",
      "'''\n",
      "for row in c.execute(query):\n",
      "    print row"
     ],
     "language": "python",
     "metadata": {},
     "outputs": [
      {
       "output_type": "stream",
       "stream": "stdout",
       "text": [
        "(875, 0, 38.9)\n",
        "(1106, 0, 36.8)\n",
        "(44, 1, 36.2)\n",
        "(1, 0, 35.2)\n",
        "(1775, 0, 33.3)\n",
        "(815, 0, 32.7)\n",
        "(12, 1, 29.2)\n",
        "(13, 0, 28.9)\n",
        "(592, 0, 26.7)\n",
        "(167, 0, 26.7)\n",
        "(110, 0, 23.7)\n",
        "(228, 1, 19.7)\n"
       ]
      }
     ],
     "prompt_number": 83
    },
    {
     "cell_type": "markdown",
     "metadata": {},
     "source": [
      "#### Reading into a numpy structured array"
     ]
    },
    {
     "cell_type": "code",
     "collapsed": false,
     "input": [
      "result = c.execute(query).fetchall()\n",
      "arr = np.fromiter(result, dtype='i4,i4,f4')\n",
      "arr.dtype.names = ['survival', 'censors', 'age']\n",
      "print '\\n'.join(map(str, arr))"
     ],
     "language": "python",
     "metadata": {},
     "outputs": [
      {
       "output_type": "stream",
       "stream": "stdout",
       "text": [
        "(875, 0, 38.900001525878906)\n",
        "(1106, 0, 36.79999923706055)\n",
        "(44, 1, 36.20000076293945)\n",
        "(1, 0, 35.20000076293945)\n",
        "(1775, 0, 33.29999923706055)\n",
        "(815, 0, 32.70000076293945)\n",
        "(12, 1, 29.200000762939453)\n",
        "(13, 0, 28.899999618530273)\n",
        "(592, 0, 26.700000762939453)\n",
        "(167, 0, 26.700000762939453)\n",
        "(110, 0, 23.700000762939453)\n",
        "(228, 1, 19.700000762939453)\n"
       ]
      }
     ],
     "prompt_number": 137
    },
    {
     "cell_type": "markdown",
     "metadata": {},
     "source": [
      "#### Reading into a numpy regular array"
     ]
    },
    {
     "cell_type": "code",
     "collapsed": false,
     "input": [
      "from itertools import chain\n",
      "result = c.execute(query).fetchall()\n",
      "arr = np.fromiter(chain.from_iterable(result), dtype=np.float)\n",
      "print arr.reshape(-1,3)"
     ],
     "language": "python",
     "metadata": {},
     "outputs": [
      {
       "output_type": "stream",
       "stream": "stdout",
       "text": [
        "[[  8.7500e+02   0.0000e+00   3.8900e+01]\n",
        " [  1.1060e+03   0.0000e+00   3.6800e+01]\n",
        " [  4.4000e+01   1.0000e+00   3.6200e+01]\n",
        " [  1.0000e+00   0.0000e+00   3.5200e+01]\n",
        " [  1.7750e+03   0.0000e+00   3.3300e+01]\n",
        " [  8.1500e+02   0.0000e+00   3.2700e+01]\n",
        " [  1.2000e+01   1.0000e+00   2.9200e+01]\n",
        " [  1.3000e+01   0.0000e+00   2.8900e+01]\n",
        " [  5.9200e+02   0.0000e+00   2.6700e+01]\n",
        " [  1.6700e+02   0.0000e+00   2.6700e+01]\n",
        " [  1.1000e+02   0.0000e+00   2.3700e+01]\n",
        " [  2.2800e+02   1.0000e+00   1.9700e+01]]\n"
       ]
      }
     ],
     "prompt_number": 140
    },
    {
     "cell_type": "markdown",
     "metadata": {},
     "source": [
      "### Working wiht multiple tables in SQL"
     ]
    },
    {
     "cell_type": "markdown",
     "metadata": {},
     "source": [
      "We will consturct a new database with 2 tables to illustrate the concept of joins."
     ]
    },
    {
     "cell_type": "code",
     "collapsed": false,
     "input": [
      "conn.close()\n",
      "conn = sqlite3.connect('samples.db')\n",
      "c = conn.cursor()\n",
      "\n",
      "c.execute(\n",
      "'''\n",
      "CREATE TABLE IF NOT EXISTS t1(\n",
      "  ID TEXT,\n",
      "  Name TEXT,\n",
      "  Value Real);\n",
      "''')\n",
      "\n",
      "c.execute('''\n",
      "CREATE TABLE IF NOT EXISTS t2(\n",
      "  ID TEXT,\n",
      "  Name TEXT,\n",
      "  Value Real,\n",
      "  Age INTEGER);\n",
      "''');\n",
      "\n",
      "from string import ascii_lowercase\n",
      "for i in range(5):\n",
      "    c.execute('''insert into t1(ID, Name, Value) values (%d, '%s', %.2f)''' % (i, ascii_lowercase[i], i*i));\n",
      "    c.execute('''insert into t2(ID, Name, Value, Age) values (%d, '%s', %.2f, %d)''' % (i*2, ascii_lowercase[i*2], i*i+5, 10*i));"
     ],
     "language": "python",
     "metadata": {},
     "outputs": [],
     "prompt_number": 210
    },
    {
     "cell_type": "markdown",
     "metadata": {},
     "source": [
      "#### Cartesian product"
     ]
    },
    {
     "cell_type": "code",
     "collapsed": false,
     "input": [
      "# Without specifiying a join, the result is all possible combinations\n",
      "query = '''\n",
      "select t1.ID, t2.ID from t1, t2; \n",
      "'''\n",
      "for row in c.execute(query):\n",
      "    print row"
     ],
     "language": "python",
     "metadata": {},
     "outputs": [
      {
       "output_type": "stream",
       "stream": "stdout",
       "text": [
        "(u'0', u'0')\n",
        "(u'0', u'2')\n",
        "(u'0', u'4')\n",
        "(u'0', u'6')\n",
        "(u'0', u'8')\n",
        "(u'1', u'0')\n",
        "(u'1', u'2')\n",
        "(u'1', u'4')\n",
        "(u'1', u'6')\n",
        "(u'1', u'8')\n",
        "(u'2', u'0')\n",
        "(u'2', u'2')\n",
        "(u'2', u'4')\n",
        "(u'2', u'6')\n",
        "(u'2', u'8')\n",
        "(u'3', u'0')\n",
        "(u'3', u'2')\n",
        "(u'3', u'4')\n",
        "(u'3', u'6')\n",
        "(u'3', u'8')\n",
        "(u'4', u'0')\n",
        "(u'4', u'2')\n",
        "(u'4', u'4')\n",
        "(u'4', u'6')\n",
        "(u'4', u'8')\n"
       ]
      }
     ],
     "prompt_number": 211
    },
    {
     "cell_type": "code",
     "collapsed": false,
     "input": [
      "# Inner join (intersection)\n",
      "query = '''\n",
      "select t1.ID, t2.ID, t1.value, t2.value, t1.value * t2.value from t1, t2\n",
      "where t1.ID = t2.ID;\n",
      "'''\n",
      "for row in c.execute(query):\n",
      "    print row"
     ],
     "language": "python",
     "metadata": {},
     "outputs": [
      {
       "output_type": "stream",
       "stream": "stdout",
       "text": [
        "(u'0', u'0', 0.0, 5.0, 0.0)\n",
        "(u'2', u'2', 4.0, 6.0, 24.0)\n",
        "(u'4', u'4', 16.0, 9.0, 144.0)\n"
       ]
      }
     ],
     "prompt_number": 212
    },
    {
     "cell_type": "code",
     "collapsed": false,
     "input": [
      "# left join keeps all values from the left table (t2) \n",
      "# and values from the right (t1) where there is a match\n",
      "query = '''\n",
      "select t1.id, t2.ID, t1.value, t2.value from t2 left join t1 on t1.ID = t2.ID\n",
      "'''\n",
      "for row in c.execute(query):\n",
      "    print row"
     ],
     "language": "python",
     "metadata": {},
     "outputs": [
      {
       "output_type": "stream",
       "stream": "stdout",
       "text": [
        "(u'0', u'0', 0.0, 5.0)\n",
        "(u'2', u'2', 4.0, 6.0)\n",
        "(u'4', u'4', 16.0, 9.0)\n",
        "(None, u'6', None, 14.0)\n",
        "(None, u'8', None, 21.0)\n"
       ]
      }
     ],
     "prompt_number": 213
    },
    {
     "cell_type": "code",
     "collapsed": false,
     "input": [
      "# same join but we swtich left and right tables\n",
      "query = '''\n",
      "select t1.ID, t2.ID, t1.value, t2.value from t1 left join t2 on t1.ID = t2.ID\n",
      "'''\n",
      "for row in c.execute(query):\n",
      "    print row"
     ],
     "language": "python",
     "metadata": {},
     "outputs": [
      {
       "output_type": "stream",
       "stream": "stdout",
       "text": [
        "(u'0', u'0', 0.0, 5.0)\n",
        "(u'1', None, 1.0, None)\n",
        "(u'2', u'2', 4.0, 6.0)\n",
        "(u'3', None, 9.0, None)\n",
        "(u'4', u'4', 16.0, 9.0)\n"
       ]
      }
     ],
     "prompt_number": 214
    },
    {
     "cell_type": "code",
     "collapsed": false,
     "input": [
      "# we can join a table to itself by using aliases \n",
      "# lets add a few more rows to t1 which may have the same id and name but different values\n",
      "\n",
      "for i in range(5):\n",
      "    c.execute('''insert into t1(ID, Name, Value) values (%d, '%s', %.2f)''' % (i, ascii_lowercase[i], i*i*i));\n",
      "\n",
      "for row in c.execute('select * from t1;'):\n",
      "    print row"
     ],
     "language": "python",
     "metadata": {},
     "outputs": [
      {
       "output_type": "stream",
       "stream": "stdout",
       "text": [
        "(u'0', u'a', 0.0)\n",
        "(u'1', u'b', 1.0)\n",
        "(u'2', u'c', 4.0)\n",
        "(u'3', u'd', 9.0)\n",
        "(u'4', u'e', 16.0)\n",
        "(u'0', u'a', 0.0)\n",
        "(u'1', u'b', 1.0)\n",
        "(u'2', u'c', 8.0)\n",
        "(u'3', u'd', 27.0)\n",
        "(u'4', u'e', 64.0)\n"
       ]
      }
     ],
     "prompt_number": 215
    },
    {
     "cell_type": "code",
     "collapsed": false,
     "input": [
      "# Now use a self-join to find paired values for the same ID and name\n",
      "\n",
      "query = '''\n",
      "select t1a.ID, t1a.Name, t1a.value, t1b.value from t1 as t1a, t1 as t1b\n",
      "where t1a.Name = t1b.Name and t1a.Value < t1b.Value\n",
      "order by t1a.ID ASC;\n",
      "'''\n",
      "for row in c.execute(query):\n",
      "    print row"
     ],
     "language": "python",
     "metadata": {},
     "outputs": [
      {
       "output_type": "stream",
       "stream": "stdout",
       "text": [
        "(u'2', u'c', 4.0, 8.0)\n",
        "(u'3', u'd', 9.0, 27.0)\n",
        "(u'4', u'e', 16.0, 64.0)\n"
       ]
      }
     ],
     "prompt_number": 225
    },
    {
     "cell_type": "markdown",
     "metadata": {},
     "source": [
      "### Using HDF5"
     ]
    },
    {
     "cell_type": "code",
     "collapsed": false,
     "input": [],
     "language": "python",
     "metadata": {},
     "outputs": []
    },
    {
     "cell_type": "markdown",
     "metadata": {},
     "source": [
      "### Interfacing withPandas"
     ]
    },
    {
     "cell_type": "code",
     "collapsed": false,
     "input": [],
     "language": "python",
     "metadata": {},
     "outputs": []
    }
   ],
   "metadata": {}
  }
 ]
}