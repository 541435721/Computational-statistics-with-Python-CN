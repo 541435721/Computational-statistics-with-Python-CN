{
 "metadata": {
  "name": "",
  "signature": "sha256:f45d138e97ea889f850e8bc1f3f20130193200ad5f6469ffe12157a39a25c43c"
 },
 "nbformat": 3,
 "nbformat_minor": 0,
 "worksheets": [
  {
   "cells": [
    {
     "cell_type": "code",
     "collapsed": false,
     "input": [
      "%matplotlib inline\n",
      "import matplotlib.pyplot as plt\n",
      "import numpy as np\n",
      "%precision 4\n",
      "import os, sys, glob"
     ],
     "language": "python",
     "metadata": {},
     "outputs": [],
     "prompt_number": 1
    },
    {
     "cell_type": "code",
     "collapsed": false,
     "input": [
      "%%file ftest.c\n",
      "#include <apop.h>\n",
      "\n",
      "double ftest(double n1, double n2, double n3, double n4)\n",
      "{\n",
      "  apop_data *testdata = apop_data_fill(apop_data_alloc(2,2),\n",
      "                                       n1, n2,\n",
      "                                       n3, n4);\n",
      "  testdata = apop_test_fisher_exact(testdata);\n",
      "  double p = apop_data_get(testdata, 1, -1);\n",
      "  apop_data_free(testdata);\n",
      "  return p;\n",
      "}"
     ],
     "language": "python",
     "metadata": {},
     "outputs": [
      {
       "output_type": "stream",
       "stream": "stdout",
       "text": [
        "Overwriting ftest.c\n"
       ]
      }
     ],
     "prompt_number": 2
    },
    {
     "cell_type": "markdown",
     "metadata": {},
     "source": [
      "### Using clang and bitey"
     ]
    },
    {
     "cell_type": "code",
     "collapsed": false,
     "input": [
      "! clang -emit-llvm -I/usr/include -I/usr/local/Cellar/gsl/1.16/include -I/Users/cliburn/anaconda/include/python2.7 \\\n",
      "  -c ftest.c -o ftest.o"
     ],
     "language": "python",
     "metadata": {},
     "outputs": [],
     "prompt_number": 3
    },
    {
     "cell_type": "code",
     "collapsed": false,
     "input": [
      "import bitey\n",
      "bitey.load_library(\"/usr/lib/libapophenia.dylib\")\n",
      "import ftest"
     ],
     "language": "python",
     "metadata": {},
     "outputs": [],
     "prompt_number": 4
    },
    {
     "cell_type": "code",
     "collapsed": false,
     "input": [
      "ftest.ftest(10,2,5,19)"
     ],
     "language": "python",
     "metadata": {},
     "outputs": [
      {
       "metadata": {},
       "output_type": "pyout",
       "prompt_number": 5,
       "text": [
        "0.0008"
       ]
      }
     ],
     "prompt_number": 5
    },
    {
     "cell_type": "markdown",
     "metadata": {},
     "source": [
      "### Using swig and a makefile"
     ]
    },
    {
     "cell_type": "code",
     "collapsed": false,
     "input": [
      "%%file ftest.i\n",
      "%module apop\n",
      "%{\n",
      "extern double ftest(double n1, double n2, double n3, double n4);\n",
      "%}\n",
      "%include ftest.c"
     ],
     "language": "python",
     "metadata": {},
     "outputs": [
      {
       "output_type": "stream",
       "stream": "stdout",
       "text": [
        "Overwriting ftest.i\n"
       ]
      }
     ],
     "prompt_number": 6
    },
    {
     "cell_type": "code",
     "collapsed": false,
     "input": [
      "# generate a TAB character to copy and paste into makefile\n",
      "print(\"\\t\")"
     ],
     "language": "python",
     "metadata": {},
     "outputs": [
      {
       "output_type": "stream",
       "stream": "stdout",
       "text": [
        "\t\n"
       ]
      }
     ],
     "prompt_number": 7
    },
    {
     "cell_type": "code",
     "collapsed": false,
     "input": [
      "%%file makefile\n",
      "TARGET=_apop.so\n",
      "OBJECTS=ftest.o ftest_wrap.o\n",
      "CFLAGS=-I/usr/include -I/usr/local/Cellar/gsl/1.16/include -I/Users/cliburn/anaconda/include/python2.7 -g -Wall -Wno-self-assign -O3\n",
      "LDLIBS=-bundle -lgsl -lapophenia -lpython2.7\n",
      "CC=clang\n",
      "\n",
      "SWIGTARGET=apop.py ftest_wrap.c\n",
      "SWIGOBJECTS=ftest.i \n",
      "SWIG=swig\n",
      "SWIGFLAGS=-python\n",
      "\n",
      "$(TARGET): $(OBJECTS) $(SWGTARGET)\n",
      "\t $(CC) $(CFLAGS) $(LDLIBS) -o $(TARGET) $(OBJECTS)\n",
      "        \n",
      "$(SWIGTARGET): $(SWIGOBJECTS)\n",
      "\t $(SWIG) $(SWIGFLAGS) $(SWIGOBJECTS)\n",
      "        \n",
      "clean:\n",
      "\t rm $(SWIGTARGET) $(OBJECTS) $(TARGET)"
     ],
     "language": "python",
     "metadata": {},
     "outputs": [
      {
       "output_type": "stream",
       "stream": "stdout",
       "text": [
        "Overwriting makefile\n"
       ]
      }
     ],
     "prompt_number": 11
    },
    {
     "cell_type": "code",
     "collapsed": false,
     "input": [
      "! make"
     ],
     "language": "python",
     "metadata": {},
     "outputs": [
      {
       "output_type": "stream",
       "stream": "stdout",
       "text": [
        "rm apop.py ftest_wrap.c ftest.o ftest_wrap.o _apop.so\r\n"
       ]
      },
      {
       "output_type": "stream",
       "stream": "stdout",
       "text": [
        "clang -I/usr/include -I/usr/local/Cellar/gsl/1.16/include -I/Users/cliburn/anaconda/include/python2.7 -g -Wall -Wno-self-assign -O3   -c -o ftest.o ftest.c\r\n"
       ]
      },
      {
       "output_type": "stream",
       "stream": "stdout",
       "text": [
        "swig -python ftest.i \r\n"
       ]
      },
      {
       "output_type": "stream",
       "stream": "stdout",
       "text": [
        "clang -I/usr/include -I/usr/local/Cellar/gsl/1.16/include -I/Users/cliburn/anaconda/include/python2.7 -g -Wall -Wno-self-assign -O3   -c -o ftest_wrap.o ftest_wrap.c\r\n"
       ]
      },
      {
       "output_type": "stream",
       "stream": "stdout",
       "text": [
        "clang -I/usr/include -I/usr/local/Cellar/gsl/1.16/include -I/Users/cliburn/anaconda/include/python2.7 -g -Wall -Wno-self-assign -O3 -bundle -lgsl -lapophenia -lpython2.7 -o _apop.so ftest.o ftest_wrap.o\r\n"
       ]
      }
     ],
     "prompt_number": 12
    },
    {
     "cell_type": "code",
     "collapsed": false,
     "input": [
      "import apop\n",
      "apop.ftest(10,2,5,19)"
     ],
     "language": "python",
     "metadata": {},
     "outputs": [
      {
       "metadata": {},
       "output_type": "pyout",
       "prompt_number": 13,
       "text": [
        "0.0008"
       ]
      }
     ],
     "prompt_number": 13
    },
    {
     "cell_type": "code",
     "collapsed": false,
     "input": [],
     "language": "python",
     "metadata": {},
     "outputs": [],
     "prompt_number": 10
    }
   ],
   "metadata": {}
  }
 ]
}