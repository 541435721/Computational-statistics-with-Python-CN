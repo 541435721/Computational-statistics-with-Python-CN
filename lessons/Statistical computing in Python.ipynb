{
 "metadata": {
  "name": "",
  "signature": "sha256:63d89c2b5a4b448218c6dbfbd6d8a21743ee82ccfc6478b9f52c43a98b45b09e"
 },
 "nbformat": 3,
 "nbformat_minor": 0,
 "worksheets": [
  {
   "cells": [
    {
     "cell_type": "markdown",
     "metadata": {},
     "source": [
      "Statistical computing in Python \n",
      "===="
     ]
    },
    {
     "cell_type": "markdown",
     "metadata": {},
     "source": [
      "Using Pandas\n",
      "----\n",
      "\n",
      "The `numpy` module is excellent for numerical computations, but to handle missing data or arrays with mixed types takes more work. The `pandas` module provides objects similar to R's data frames, and these are more convenient for most statistical analysis. The `pandas` module also provides many mehtods for data import and manipulaiton that we will explore in this section. "
     ]
    },
    {
     "cell_type": "code",
     "collapsed": false,
     "input": [
      "import pandas as pd\n",
      "import statsmodels.api as sm\n",
      "from pandas import Series, DataFrame, Panel\n",
      "from string import ascii_lowercase as letters\n",
      "from scipy.stats import chisqprob\n",
      "import pymc"
     ],
     "language": "python",
     "metadata": {},
     "outputs": [],
     "prompt_number": 2
    },
    {
     "cell_type": "markdown",
     "metadata": {},
     "source": [
      "### Series\n",
      "\n",
      "Series is a 1D array with axis labels. "
     ]
    },
    {
     "cell_type": "code",
     "collapsed": false,
     "input": [
      "# Creating a series and extracting elements.\n",
      "\n",
      "xs = Series(arange(10), index=tuple(letters[:10]))\n",
      "print xs[:3],'\\n'\n",
      "print xs[7:], '\\n'\n",
      "print xs[::3], '\\n'\n",
      "print xs[['d', 'f', 'h']], '\\n'\n",
      "print xs.d, xs.f, xs.h"
     ],
     "language": "python",
     "metadata": {},
     "outputs": [
      {
       "output_type": "stream",
       "stream": "stdout",
       "text": [
        "a    0\n",
        "b    1\n",
        "c    2\n",
        "dtype: int64 \n",
        "\n",
        "h    7\n",
        "i    8\n",
        "j    9\n",
        "dtype: int64 \n",
        "\n",
        "a    0\n",
        "d    3\n",
        "g    6\n",
        "j    9\n",
        "dtype: int64 \n",
        "\n",
        "d    3\n",
        "f    5\n",
        "h    7\n",
        "dtype: int64 \n",
        "\n",
        "3 5 7\n"
       ]
      }
     ],
     "prompt_number": 2
    },
    {
     "cell_type": "code",
     "collapsed": false,
     "input": [
      "# All the numpy functions wiill work with Series objects, and return another Series\n",
      "\n",
      "y1, y2 = mean(xs), var(xs)\n",
      "y1, y2"
     ],
     "language": "python",
     "metadata": {},
     "outputs": [
      {
       "metadata": {},
       "output_type": "pyout",
       "prompt_number": 3,
       "text": [
        "(4.5, 8.25)"
       ]
      }
     ],
     "prompt_number": 3
    },
    {
     "cell_type": "code",
     "collapsed": false,
     "input": [
      "# Matplotlib will work on Series objects too\n",
      "plot(xs, sin(xs), 'r-o', xs, cos(xs), 'b-x');"
     ],
     "language": "python",
     "metadata": {},
     "outputs": [
      {
       "metadata": {},
       "output_type": "display_data",
       "png": "[encoded data removed]",
       "text": [
        "<matplotlib.figure.Figure at 0x11240af50>"
       ]
      }
     ],
     "prompt_number": 4
    },
    {
     "cell_type": "code",
     "collapsed": false,
     "input": [
      "# Convert to numpy arrays with values\n",
      "\n",
      "print xs.values"
     ],
     "language": "python",
     "metadata": {},
     "outputs": [
      {
       "output_type": "stream",
       "stream": "stdout",
       "text": [
        "[0 1 2 3 4 5 6 7 8 9]\n"
       ]
      }
     ],
     "prompt_number": 5
    },
    {
     "cell_type": "code",
     "collapsed": false,
     "input": [
      "# The Series datatype can also be used to represent time series\n",
      "\n",
      "import datetime as dt\n",
      "from pandas import date_range\n",
      "\n",
      "today = dt.date.today()\n",
      "print today, '\\n'\n",
      "days = date_range(today, periods=35, freq='D')\n",
      "ts = Series(normal(10, 1, len(days)), index=days)\n",
      "            \n",
      "# Extracting elements\n",
      "print ts[0:4], '\\n'\n",
      "print ts['2014-06-02':'2014-06-05'], '\\n' # Note - includes end time"
     ],
     "language": "python",
     "metadata": {},
     "outputs": [
      {
       "output_type": "stream",
       "stream": "stdout",
       "text": [
        "2014-06-02 \n",
        "\n",
        "2014-06-02    10.802615\n",
        "2014-06-03    10.431831\n",
        "2014-06-04    11.139216\n",
        "2014-06-05     9.604039\n",
        "Freq: D, dtype: float64 \n",
        "\n",
        "2014-06-02    10.802615\n",
        "2014-06-03    10.431831\n",
        "2014-06-04    11.139216\n",
        "2014-06-05     9.604039\n",
        "Freq: D, dtype: float64 \n",
        "\n"
       ]
      }
     ],
     "prompt_number": 6
    },
    {
     "cell_type": "code",
     "collapsed": false,
     "input": [
      "# We can geenerate statistics for time ranges with the resample method\n",
      "# For example, suppose we are interested in weekly means, standard deviations and sum-of-squares\n",
      "\n",
      "df = ts.resample(rule='W', how=('mean', 'std', lambda x: sum(x*x)))\n",
      "df"
     ],
     "language": "python",
     "metadata": {},
     "outputs": [
      {
       "html": [
        "<div style=\"max-height:1000px;max-width:1500px;overflow:auto;\">\n",
        "<table border=\"1\" class=\"dataframe\">\n",
        "  <thead>\n",
        "    <tr style=\"text-align: right;\">\n",
        "      <th></th>\n",
        "      <th>mean</th>\n",
        "      <th>std</th>\n",
        "      <th>&lt;lambda&gt;</th>\n",
        "    </tr>\n",
        "  </thead>\n",
        "  <tbody>\n",
        "    <tr>\n",
        "      <th>2014-06-08</th>\n",
        "      <td> 10.772684</td>\n",
        "      <td> 0.680366</td>\n",
        "      <td> 815.132356</td>\n",
        "    </tr>\n",
        "    <tr>\n",
        "      <th>2014-06-15</th>\n",
        "      <td> 10.185232</td>\n",
        "      <td> 0.999560</td>\n",
        "      <td> 732.167447</td>\n",
        "    </tr>\n",
        "    <tr>\n",
        "      <th>2014-06-22</th>\n",
        "      <td>  9.985190</td>\n",
        "      <td> 1.205654</td>\n",
        "      <td> 706.649709</td>\n",
        "    </tr>\n",
        "    <tr>\n",
        "      <th>2014-06-29</th>\n",
        "      <td> 10.312775</td>\n",
        "      <td> 0.849918</td>\n",
        "      <td> 748.807529</td>\n",
        "    </tr>\n",
        "    <tr>\n",
        "      <th>2014-07-06</th>\n",
        "      <td> 10.090293</td>\n",
        "      <td> 0.762803</td>\n",
        "      <td> 716.189343</td>\n",
        "    </tr>\n",
        "  </tbody>\n",
        "</table>\n",
        "</div>"
       ],
       "metadata": {},
       "output_type": "pyout",
       "prompt_number": 7,
       "text": [
        "                 mean       std    <lambda>\n",
        "2014-06-08  10.772684  0.680366  815.132356\n",
        "2014-06-15  10.185232  0.999560  732.167447\n",
        "2014-06-22   9.985190  1.205654  706.649709\n",
        "2014-06-29  10.312775  0.849918  748.807529\n",
        "2014-07-06  10.090293  0.762803  716.189343"
       ]
      }
     ],
     "prompt_number": 7
    },
    {
     "cell_type": "markdown",
     "metadata": {},
     "source": [
      "### DataFrame\n",
      "\n",
      "For statisticians, a DataFrame is similar to the R dataframe object. For everyone else, it is like a simple tabular spreadsheet. Each column is a Series object."
     ]
    },
    {
     "cell_type": "code",
     "collapsed": false,
     "input": [
      "# Note that the df object in the previous cell is a DataFrame\n",
      "print type(df)"
     ],
     "language": "python",
     "metadata": {},
     "outputs": [
      {
       "output_type": "stream",
       "stream": "stdout",
       "text": [
        "<class 'pandas.core.frame.DataFrame'>\n"
       ]
      }
     ],
     "prompt_number": 8
    },
    {
     "cell_type": "code",
     "collapsed": false,
     "input": [
      "# Renaming columns\n",
      "# The use of mean and std are problmeatic because there are also methods in dataframe with those names\n",
      "# Also, <lambda> is unifnormative\n",
      "# So we would like to give better names to the columns of df\n",
      "\n",
      "df.columns = ('mu', 'sigma', 'sum_of_sq')\n",
      "print df"
     ],
     "language": "python",
     "metadata": {},
     "outputs": [
      {
       "output_type": "stream",
       "stream": "stdout",
       "text": [
        "                   mu     sigma   sum_of_sq\n",
        "2014-06-08  10.772684  0.680366  815.132356\n",
        "2014-06-15  10.185232  0.999560  732.167447\n",
        "2014-06-22   9.985190  1.205654  706.649709\n",
        "2014-06-29  10.312775  0.849918  748.807529\n",
        "2014-07-06  10.090293  0.762803  716.189343\n"
       ]
      }
     ],
     "prompt_number": 9
    },
    {
     "cell_type": "code",
     "collapsed": false,
     "input": [
      "# Extracitng columns from a DataFrame\n",
      "\n",
      "print df.mu, '\\n' # by attribute\n",
      "print df['sigma'], '\\n' # by column name"
     ],
     "language": "python",
     "metadata": {},
     "outputs": [
      {
       "output_type": "stream",
       "stream": "stdout",
       "text": [
        "2014-06-08    10.772684\n",
        "2014-06-15    10.185232\n",
        "2014-06-22     9.985190\n",
        "2014-06-29    10.312775\n",
        "2014-07-06    10.090293\n",
        "Freq: W-SUN, Name: mu, dtype: float64 \n",
        "\n",
        "2014-06-08    0.680366\n",
        "2014-06-15    0.999560\n",
        "2014-06-22    1.205654\n",
        "2014-06-29    0.849918\n",
        "2014-07-06    0.762803\n",
        "Freq: W-SUN, Name: sigma, dtype: float64 \n",
        "\n"
       ]
      }
     ],
     "prompt_number": 10
    },
    {
     "cell_type": "code",
     "collapsed": false,
     "input": [
      "# Extracting rows from a DataFrame\n",
      "\n",
      "print df[1:3], '\\n'\n",
      "print df['2014-06-15'::2]"
     ],
     "language": "python",
     "metadata": {},
     "outputs": [
      {
       "output_type": "stream",
       "stream": "stdout",
       "text": [
        "                   mu     sigma   sum_of_sq\n",
        "2014-06-15  10.185232  0.999560  732.167447\n",
        "2014-06-22   9.985190  1.205654  706.649709 \n",
        "\n",
        "                   mu     sigma   sum_of_sq\n",
        "2014-06-15  10.185232  0.999560  732.167447\n",
        "2014-06-29  10.312775  0.849918  748.807529\n"
       ]
      }
     ],
     "prompt_number": 11
    },
    {
     "cell_type": "code",
     "collapsed": false,
     "input": [
      "# Extracting blocks and scalars\n",
      "\n",
      "print df.iat[2, 2], '\\n' # extract an element with iat()\n",
      "print df.loc['2014-06-08':'2014-06-22', 'sum_of_sq'], '\\n' # indexing by label\n",
      "print df.iloc[:3, 2], '\\n'  # indexing by position\n",
      "print df.ix[:3, 'sum_of_sq'], '\\n' # by label OR position"
     ],
     "language": "python",
     "metadata": {},
     "outputs": [
      {
       "output_type": "stream",
       "stream": "stdout",
       "text": [
        "706.64970933 \n",
        "\n",
        "2014-06-08    815.132356\n",
        "2014-06-15    732.167447\n",
        "2014-06-22    706.649709\n",
        "Freq: W-SUN, Name: sum_of_sq, dtype: float64 \n",
        "\n",
        "2014-06-08    815.132356\n",
        "2014-06-15    732.167447\n",
        "2014-06-22    706.649709\n",
        "Freq: W-SUN, Name: sum_of_sq, dtype: float64 \n",
        "\n",
        "2014-06-08    815.132356\n",
        "2014-06-15    732.167447\n",
        "2014-06-22    706.649709\n",
        "Freq: W-SUN, Name: sum_of_sq, dtype: float64 \n",
        "\n"
       ]
      }
     ],
     "prompt_number": 12
    },
    {
     "cell_type": "code",
     "collapsed": false,
     "input": [
      "# Using Boolean conditions for selecting eleements\n",
      "\n",
      "print df[(df.sigma < 1) & (df.sum_of_sq < 700)], '\\n' # need parenthesis because of operator precedence\n",
      "print df.query('sigma < 1 and sum_of_sq < 700') # the query() method allows more readable query strings"
     ],
     "language": "python",
     "metadata": {},
     "outputs": [
      {
       "output_type": "stream",
       "stream": "stdout",
       "text": [
        "Empty DataFrame\n",
        "Columns: [mu, sigma, sum_of_sq]\n",
        "Index: [] \n",
        "\n",
        "Empty DataFrame\n",
        "Columns: [mu, sigma, sum_of_sq]\n",
        "Index: []\n"
       ]
      }
     ],
     "prompt_number": 13
    },
    {
     "cell_type": "markdown",
     "metadata": {},
     "source": [
      "### Panels\n",
      "\n",
      "Panels are 3D arrays - they can be thought of as dictionaries of DataFrames."
     ]
    },
    {
     "cell_type": "code",
     "collapsed": false,
     "input": [
      "df= random.binomial(100, 0.95, (9,2))\n",
      "dm = random.binomial(100, 0.9, [12,2])\n",
      "dff = DataFrame(df, columns = ['Physics', 'Math'])\n",
      "dfm = DataFrame(dm, columns = ['Physics', 'Math'])\n",
      "score_panel = Panel({'Girls': dff, 'Boys': dfm})\n",
      "print score_panel, '\\n'"
     ],
     "language": "python",
     "metadata": {},
     "outputs": [
      {
       "output_type": "stream",
       "stream": "stdout",
       "text": [
        "<class 'pandas.core.panel.Panel'>\n",
        "Dimensions: 2 (items) x 12 (major_axis) x 2 (minor_axis)\n",
        "Items axis: Boys to Girls\n",
        "Major_axis axis: 0 to 11\n",
        "Minor_axis axis: Physics to Math \n",
        "\n"
       ]
      }
     ],
     "prompt_number": 14
    },
    {
     "cell_type": "code",
     "collapsed": false,
     "input": [
      "score_panel['Girls'].transpose()"
     ],
     "language": "python",
     "metadata": {},
     "outputs": [
      {
       "html": [
        "<div style=\"max-height:1000px;max-width:1500px;overflow:auto;\">\n",
        "<table border=\"1\" class=\"dataframe\">\n",
        "  <thead>\n",
        "    <tr style=\"text-align: right;\">\n",
        "      <th></th>\n",
        "      <th>0</th>\n",
        "      <th>1</th>\n",
        "      <th>2</th>\n",
        "      <th>3</th>\n",
        "      <th>4</th>\n",
        "      <th>5</th>\n",
        "      <th>6</th>\n",
        "      <th>7</th>\n",
        "      <th>8</th>\n",
        "      <th>9</th>\n",
        "      <th>10</th>\n",
        "      <th>11</th>\n",
        "    </tr>\n",
        "  </thead>\n",
        "  <tbody>\n",
        "    <tr>\n",
        "      <th>Physics</th>\n",
        "      <td> 98</td>\n",
        "      <td> 99</td>\n",
        "      <td> 97</td>\n",
        "      <td> 91</td>\n",
        "      <td> 98</td>\n",
        "      <td> 97</td>\n",
        "      <td> 94</td>\n",
        "      <td> 96</td>\n",
        "      <td> 93</td>\n",
        "      <td>NaN</td>\n",
        "      <td>NaN</td>\n",
        "      <td>NaN</td>\n",
        "    </tr>\n",
        "    <tr>\n",
        "      <th>Math</th>\n",
        "      <td> 99</td>\n",
        "      <td> 98</td>\n",
        "      <td> 96</td>\n",
        "      <td> 96</td>\n",
        "      <td> 94</td>\n",
        "      <td> 95</td>\n",
        "      <td> 97</td>\n",
        "      <td> 93</td>\n",
        "      <td> 92</td>\n",
        "      <td>NaN</td>\n",
        "      <td>NaN</td>\n",
        "      <td>NaN</td>\n",
        "    </tr>\n",
        "  </tbody>\n",
        "</table>\n",
        "</div>"
       ],
       "metadata": {},
       "output_type": "pyout",
       "prompt_number": 15,
       "text": [
        "         0   1   2   3   4   5   6   7   8   9   10  11\n",
        "Physics  98  99  97  91  98  97  94  96  93 NaN NaN NaN\n",
        "Math     99  98  96  96  94  95  97  93  92 NaN NaN NaN"
       ]
      }
     ],
     "prompt_number": 15
    },
    {
     "cell_type": "code",
     "collapsed": false,
     "input": [
      "# find physics and math scores of girls who scored >= 93 in math\n",
      "# a DataFrame is returned\n",
      "score_panel.ix['Girls', score_panel.Girls.Math >= 93, :]"
     ],
     "language": "python",
     "metadata": {},
     "outputs": [
      {
       "html": [
        "<div style=\"max-height:1000px;max-width:1500px;overflow:auto;\">\n",
        "<table border=\"1\" class=\"dataframe\">\n",
        "  <thead>\n",
        "    <tr style=\"text-align: right;\">\n",
        "      <th></th>\n",
        "      <th>Physics</th>\n",
        "      <th>Math</th>\n",
        "    </tr>\n",
        "  </thead>\n",
        "  <tbody>\n",
        "    <tr>\n",
        "      <th>0</th>\n",
        "      <td> 98</td>\n",
        "      <td> 99</td>\n",
        "    </tr>\n",
        "    <tr>\n",
        "      <th>1</th>\n",
        "      <td> 99</td>\n",
        "      <td> 98</td>\n",
        "    </tr>\n",
        "    <tr>\n",
        "      <th>2</th>\n",
        "      <td> 97</td>\n",
        "      <td> 96</td>\n",
        "    </tr>\n",
        "    <tr>\n",
        "      <th>3</th>\n",
        "      <td> 91</td>\n",
        "      <td> 96</td>\n",
        "    </tr>\n",
        "    <tr>\n",
        "      <th>4</th>\n",
        "      <td> 98</td>\n",
        "      <td> 94</td>\n",
        "    </tr>\n",
        "    <tr>\n",
        "      <th>5</th>\n",
        "      <td> 97</td>\n",
        "      <td> 95</td>\n",
        "    </tr>\n",
        "    <tr>\n",
        "      <th>6</th>\n",
        "      <td> 94</td>\n",
        "      <td> 97</td>\n",
        "    </tr>\n",
        "    <tr>\n",
        "      <th>7</th>\n",
        "      <td> 96</td>\n",
        "      <td> 93</td>\n",
        "    </tr>\n",
        "  </tbody>\n",
        "</table>\n",
        "</div>"
       ],
       "metadata": {},
       "output_type": "pyout",
       "prompt_number": 16,
       "text": [
        "   Physics  Math\n",
        "0       98    99\n",
        "1       99    98\n",
        "2       97    96\n",
        "3       91    96\n",
        "4       98    94\n",
        "5       97    95\n",
        "6       94    97\n",
        "7       96    93"
       ]
      }
     ],
     "prompt_number": 16
    },
    {
     "cell_type": "markdown",
     "metadata": {},
     "source": [
      "### Split-Apply-Combine\n",
      "\n",
      "Many statistical summaries are in the form of split along some property, then apply a funciton to each subgroup and finally combine the results into some object. This is known as the 'split-apply-combine' pattern and implemnented in Pandas via groupby() and a function that can be applied to each subgroup."
     ]
    },
    {
     "cell_type": "code",
     "collapsed": false,
     "input": [
      "# import a DataFrame to play with\n",
      "try:\n",
      "    tips = pd.read_pickle('tips.pic')\n",
      "except:\n",
      "    tips = pd.read_csv('https://raw.github.com/vincentarelbundock/Rdatasets/master/csv/reshape2/tips.csv')\n",
      "    tips.to_pickle('tips.pic')"
     ],
     "language": "python",
     "metadata": {},
     "outputs": [],
     "prompt_number": 17
    },
    {
     "cell_type": "code",
     "collapsed": false,
     "input": [
      "tips.head(n=4)"
     ],
     "language": "python",
     "metadata": {},
     "outputs": [
      {
       "html": [
        "<div style=\"max-height:1000px;max-width:1500px;overflow:auto;\">\n",
        "<table border=\"1\" class=\"dataframe\">\n",
        "  <thead>\n",
        "    <tr style=\"text-align: right;\">\n",
        "      <th></th>\n",
        "      <th>Unnamed: 0</th>\n",
        "      <th>total_bill</th>\n",
        "      <th>tip</th>\n",
        "      <th>sex</th>\n",
        "      <th>smoker</th>\n",
        "      <th>day</th>\n",
        "      <th>time</th>\n",
        "      <th>size</th>\n",
        "    </tr>\n",
        "  </thead>\n",
        "  <tbody>\n",
        "    <tr>\n",
        "      <th>0</th>\n",
        "      <td> 1</td>\n",
        "      <td> 16.99</td>\n",
        "      <td> 1.01</td>\n",
        "      <td> Female</td>\n",
        "      <td> No</td>\n",
        "      <td> Sun</td>\n",
        "      <td> Dinner</td>\n",
        "      <td> 2</td>\n",
        "    </tr>\n",
        "    <tr>\n",
        "      <th>1</th>\n",
        "      <td> 2</td>\n",
        "      <td> 10.34</td>\n",
        "      <td> 1.66</td>\n",
        "      <td>   Male</td>\n",
        "      <td> No</td>\n",
        "      <td> Sun</td>\n",
        "      <td> Dinner</td>\n",
        "      <td> 3</td>\n",
        "    </tr>\n",
        "    <tr>\n",
        "      <th>2</th>\n",
        "      <td> 3</td>\n",
        "      <td> 21.01</td>\n",
        "      <td> 3.50</td>\n",
        "      <td>   Male</td>\n",
        "      <td> No</td>\n",
        "      <td> Sun</td>\n",
        "      <td> Dinner</td>\n",
        "      <td> 3</td>\n",
        "    </tr>\n",
        "    <tr>\n",
        "      <th>3</th>\n",
        "      <td> 4</td>\n",
        "      <td> 23.68</td>\n",
        "      <td> 3.31</td>\n",
        "      <td>   Male</td>\n",
        "      <td> No</td>\n",
        "      <td> Sun</td>\n",
        "      <td> Dinner</td>\n",
        "      <td> 2</td>\n",
        "    </tr>\n",
        "  </tbody>\n",
        "</table>\n",
        "</div>"
       ],
       "metadata": {},
       "output_type": "pyout",
       "prompt_number": 18,
       "text": [
        "   Unnamed: 0  total_bill   tip     sex smoker  day    time  size\n",
        "0           1       16.99  1.01  Female     No  Sun  Dinner     2\n",
        "1           2       10.34  1.66    Male     No  Sun  Dinner     3\n",
        "2           3       21.01  3.50    Male     No  Sun  Dinner     3\n",
        "3           4       23.68  3.31    Male     No  Sun  Dinner     2"
       ]
      }
     ],
     "prompt_number": 18
    },
    {
     "cell_type": "code",
     "collapsed": false,
     "input": [
      "# We have an extra set of indices in the first column\n",
      "# Let's get rid of it\n",
      "\n",
      "tips = tips.ix[:, 1:]\n",
      "tips.head(n=4)"
     ],
     "language": "python",
     "metadata": {},
     "outputs": [
      {
       "html": [
        "<div style=\"max-height:1000px;max-width:1500px;overflow:auto;\">\n",
        "<table border=\"1\" class=\"dataframe\">\n",
        "  <thead>\n",
        "    <tr style=\"text-align: right;\">\n",
        "      <th></th>\n",
        "      <th>total_bill</th>\n",
        "      <th>tip</th>\n",
        "      <th>sex</th>\n",
        "      <th>smoker</th>\n",
        "      <th>day</th>\n",
        "      <th>time</th>\n",
        "      <th>size</th>\n",
        "    </tr>\n",
        "  </thead>\n",
        "  <tbody>\n",
        "    <tr>\n",
        "      <th>0</th>\n",
        "      <td> 16.99</td>\n",
        "      <td> 1.01</td>\n",
        "      <td> Female</td>\n",
        "      <td> No</td>\n",
        "      <td> Sun</td>\n",
        "      <td> Dinner</td>\n",
        "      <td> 2</td>\n",
        "    </tr>\n",
        "    <tr>\n",
        "      <th>1</th>\n",
        "      <td> 10.34</td>\n",
        "      <td> 1.66</td>\n",
        "      <td>   Male</td>\n",
        "      <td> No</td>\n",
        "      <td> Sun</td>\n",
        "      <td> Dinner</td>\n",
        "      <td> 3</td>\n",
        "    </tr>\n",
        "    <tr>\n",
        "      <th>2</th>\n",
        "      <td> 21.01</td>\n",
        "      <td> 3.50</td>\n",
        "      <td>   Male</td>\n",
        "      <td> No</td>\n",
        "      <td> Sun</td>\n",
        "      <td> Dinner</td>\n",
        "      <td> 3</td>\n",
        "    </tr>\n",
        "    <tr>\n",
        "      <th>3</th>\n",
        "      <td> 23.68</td>\n",
        "      <td> 3.31</td>\n",
        "      <td>   Male</td>\n",
        "      <td> No</td>\n",
        "      <td> Sun</td>\n",
        "      <td> Dinner</td>\n",
        "      <td> 2</td>\n",
        "    </tr>\n",
        "  </tbody>\n",
        "</table>\n",
        "</div>"
       ],
       "metadata": {},
       "output_type": "pyout",
       "prompt_number": 19,
       "text": [
        "   total_bill   tip     sex smoker  day    time  size\n",
        "0       16.99  1.01  Female     No  Sun  Dinner     2\n",
        "1       10.34  1.66    Male     No  Sun  Dinner     3\n",
        "2       21.01  3.50    Male     No  Sun  Dinner     3\n",
        "3       23.68  3.31    Male     No  Sun  Dinner     2"
       ]
      }
     ],
     "prompt_number": 19
    },
    {
     "cell_type": "code",
     "collapsed": false,
     "input": [
      "# For an example of the split-apply-combine pattern, we want to see counts by sex and smoker status.\n",
      "# In other words, we split by sex and smoker status to get 2x2 groups,\n",
      "# then apply the size function to count the number of entries per group\n",
      "# and finally combine the results into a new multi-index Series\n",
      "\n",
      "grouped = tips.groupby(['sex', 'smoker'])\n",
      "grouped.size()"
     ],
     "language": "python",
     "metadata": {},
     "outputs": [
      {
       "metadata": {},
       "output_type": "pyout",
       "prompt_number": 20,
       "text": [
        "sex     smoker\n",
        "Female  No        54\n",
        "        Yes       33\n",
        "Male    No        97\n",
        "        Yes       60\n",
        "dtype: int64"
       ]
      }
     ],
     "prompt_number": 20
    },
    {
     "cell_type": "code",
     "collapsed": false,
     "input": [
      "# If more than 1 column of resutls is generated, a DataFrame is returned\n",
      "\n",
      "grouped.mean()"
     ],
     "language": "python",
     "metadata": {},
     "outputs": [
      {
       "html": [
        "<div style=\"max-height:1000px;max-width:1500px;overflow:auto;\">\n",
        "<table border=\"1\" class=\"dataframe\">\n",
        "  <thead>\n",
        "    <tr style=\"text-align: right;\">\n",
        "      <th></th>\n",
        "      <th></th>\n",
        "      <th>total_bill</th>\n",
        "      <th>tip</th>\n",
        "      <th>size</th>\n",
        "    </tr>\n",
        "    <tr>\n",
        "      <th>sex</th>\n",
        "      <th>smoker</th>\n",
        "      <th></th>\n",
        "      <th></th>\n",
        "      <th></th>\n",
        "    </tr>\n",
        "  </thead>\n",
        "  <tbody>\n",
        "    <tr>\n",
        "      <th rowspan=\"2\" valign=\"top\">Female</th>\n",
        "      <th>No</th>\n",
        "      <td> 18.105185</td>\n",
        "      <td> 2.773519</td>\n",
        "      <td> 2.592593</td>\n",
        "    </tr>\n",
        "    <tr>\n",
        "      <th>Yes</th>\n",
        "      <td> 17.977879</td>\n",
        "      <td> 2.931515</td>\n",
        "      <td> 2.242424</td>\n",
        "    </tr>\n",
        "    <tr>\n",
        "      <th rowspan=\"2\" valign=\"top\">Male</th>\n",
        "      <th>No</th>\n",
        "      <td> 19.791237</td>\n",
        "      <td> 3.113402</td>\n",
        "      <td> 2.711340</td>\n",
        "    </tr>\n",
        "    <tr>\n",
        "      <th>Yes</th>\n",
        "      <td> 22.284500</td>\n",
        "      <td> 3.051167</td>\n",
        "      <td> 2.500000</td>\n",
        "    </tr>\n",
        "  </tbody>\n",
        "</table>\n",
        "</div>"
       ],
       "metadata": {},
       "output_type": "pyout",
       "prompt_number": 21,
       "text": [
        "               total_bill       tip      size\n",
        "sex    smoker                                \n",
        "Female No       18.105185  2.773519  2.592593\n",
        "       Yes      17.977879  2.931515  2.242424\n",
        "Male   No       19.791237  3.113402  2.711340\n",
        "       Yes      22.284500  3.051167  2.500000"
       ]
      }
     ],
     "prompt_number": 21
    },
    {
     "cell_type": "code",
     "collapsed": false,
     "input": [
      "# The returned results can be further manipulated via apply()\n",
      "# For example, suppose the bill and tips are in USD but we want EUR\n",
      "\n",
      "import json\n",
      "import urllib\n",
      "\n",
      "# get current conversion rate\n",
      "converter = json.loads(urllib.urlopen('http://rate-exchange.appspot.com/currency?from=USD&to=EUR').read())\n",
      "print converter\n",
      "grouped['total_bill', 'tip'].mean().apply(lambda x: x*converter['rate'])"
     ],
     "language": "python",
     "metadata": {},
     "outputs": [
      {
       "output_type": "stream",
       "stream": "stdout",
       "text": [
        "{u'to': u'EUR', u'rate': 0.735174, u'from': u'USD'}\n"
       ]
      },
      {
       "html": [
        "<div style=\"max-height:1000px;max-width:1500px;overflow:auto;\">\n",
        "<table border=\"1\" class=\"dataframe\">\n",
        "  <thead>\n",
        "    <tr style=\"text-align: right;\">\n",
        "      <th></th>\n",
        "      <th></th>\n",
        "      <th>total_bill</th>\n",
        "      <th>tip</th>\n",
        "    </tr>\n",
        "    <tr>\n",
        "      <th>sex</th>\n",
        "      <th>smoker</th>\n",
        "      <th></th>\n",
        "      <th></th>\n",
        "    </tr>\n",
        "  </thead>\n",
        "  <tbody>\n",
        "    <tr>\n",
        "      <th rowspan=\"2\" valign=\"top\">Female</th>\n",
        "      <th>No</th>\n",
        "      <td> 13.310461</td>\n",
        "      <td> 2.039019</td>\n",
        "    </tr>\n",
        "    <tr>\n",
        "      <th>Yes</th>\n",
        "      <td> 13.216869</td>\n",
        "      <td> 2.155174</td>\n",
        "    </tr>\n",
        "    <tr>\n",
        "      <th rowspan=\"2\" valign=\"top\">Male</th>\n",
        "      <th>No</th>\n",
        "      <td> 14.550003</td>\n",
        "      <td> 2.288892</td>\n",
        "    </tr>\n",
        "    <tr>\n",
        "      <th>Yes</th>\n",
        "      <td> 16.382985</td>\n",
        "      <td> 2.243138</td>\n",
        "    </tr>\n",
        "  </tbody>\n",
        "</table>\n",
        "</div>"
       ],
       "metadata": {},
       "output_type": "pyout",
       "prompt_number": 22,
       "text": [
        "               total_bill       tip\n",
        "sex    smoker                      \n",
        "Female No       13.310461  2.039019\n",
        "       Yes      13.216869  2.155174\n",
        "Male   No       14.550003  2.288892\n",
        "       Yes      16.382985  2.243138"
       ]
      }
     ],
     "prompt_number": 22
    },
    {
     "cell_type": "code",
     "collapsed": false,
     "input": [
      "# We can also transform the original data for more convenient analysis\n",
      "# For example, suppose we want standardized units for total bill and tips\n",
      "\n",
      "zscore = lambda x: (x - x.mean())/x.std()\n",
      "\n",
      "std_grouped = grouped['total_bill', 'tip'].transform(zscore)\n",
      "std_grouped.head(n=4)"
     ],
     "language": "python",
     "metadata": {},
     "outputs": [
      {
       "html": [
        "<div style=\"max-height:1000px;max-width:1500px;overflow:auto;\">\n",
        "<table border=\"1\" class=\"dataframe\">\n",
        "  <thead>\n",
        "    <tr style=\"text-align: right;\">\n",
        "      <th></th>\n",
        "      <th>total_bill</th>\n",
        "      <th>tip</th>\n",
        "    </tr>\n",
        "  </thead>\n",
        "  <tbody>\n",
        "    <tr>\n",
        "      <th>0</th>\n",
        "      <td>-0.153049</td>\n",
        "      <td>-1.562813</td>\n",
        "    </tr>\n",
        "    <tr>\n",
        "      <th>1</th>\n",
        "      <td>-1.083042</td>\n",
        "      <td>-0.975727</td>\n",
        "    </tr>\n",
        "    <tr>\n",
        "      <th>2</th>\n",
        "      <td> 0.139661</td>\n",
        "      <td> 0.259539</td>\n",
        "    </tr>\n",
        "    <tr>\n",
        "      <th>3</th>\n",
        "      <td> 0.445623</td>\n",
        "      <td> 0.131984</td>\n",
        "    </tr>\n",
        "  </tbody>\n",
        "</table>\n",
        "</div>"
       ],
       "metadata": {},
       "output_type": "pyout",
       "prompt_number": 23,
       "text": [
        "   total_bill       tip\n",
        "0   -0.153049 -1.562813\n",
        "1   -1.083042 -0.975727\n",
        "2    0.139661  0.259539\n",
        "3    0.445623  0.131984"
       ]
      }
     ],
     "prompt_number": 23
    },
    {
     "cell_type": "code",
     "collapsed": false,
     "input": [
      "# Suppose we want to apply a set of functions to only some columns\n",
      "grouped['total_bill', 'tip'].agg(['mean', 'min', 'max'])"
     ],
     "language": "python",
     "metadata": {},
     "outputs": [
      {
       "html": [
        "<div style=\"max-height:1000px;max-width:1500px;overflow:auto;\">\n",
        "<table border=\"1\" class=\"dataframe\">\n",
        "  <thead>\n",
        "    <tr>\n",
        "      <th></th>\n",
        "      <th></th>\n",
        "      <th colspan=\"3\" halign=\"left\">total_bill</th>\n",
        "      <th colspan=\"3\" halign=\"left\">tip</th>\n",
        "    </tr>\n",
        "    <tr>\n",
        "      <th></th>\n",
        "      <th></th>\n",
        "      <th>mean</th>\n",
        "      <th>min</th>\n",
        "      <th>max</th>\n",
        "      <th>mean</th>\n",
        "      <th>min</th>\n",
        "      <th>max</th>\n",
        "    </tr>\n",
        "    <tr>\n",
        "      <th>sex</th>\n",
        "      <th>smoker</th>\n",
        "      <th></th>\n",
        "      <th></th>\n",
        "      <th></th>\n",
        "      <th></th>\n",
        "      <th></th>\n",
        "      <th></th>\n",
        "    </tr>\n",
        "  </thead>\n",
        "  <tbody>\n",
        "    <tr>\n",
        "      <th rowspan=\"2\" valign=\"top\">Female</th>\n",
        "      <th>No</th>\n",
        "      <td> 18.105185</td>\n",
        "      <td> 7.25</td>\n",
        "      <td> 35.83</td>\n",
        "      <td> 2.773519</td>\n",
        "      <td> 1.00</td>\n",
        "      <td>  5.2</td>\n",
        "    </tr>\n",
        "    <tr>\n",
        "      <th>Yes</th>\n",
        "      <td> 17.977879</td>\n",
        "      <td> 3.07</td>\n",
        "      <td> 44.30</td>\n",
        "      <td> 2.931515</td>\n",
        "      <td> 1.00</td>\n",
        "      <td>  6.5</td>\n",
        "    </tr>\n",
        "    <tr>\n",
        "      <th rowspan=\"2\" valign=\"top\">Male</th>\n",
        "      <th>No</th>\n",
        "      <td> 19.791237</td>\n",
        "      <td> 7.51</td>\n",
        "      <td> 48.33</td>\n",
        "      <td> 3.113402</td>\n",
        "      <td> 1.25</td>\n",
        "      <td>  9.0</td>\n",
        "    </tr>\n",
        "    <tr>\n",
        "      <th>Yes</th>\n",
        "      <td> 22.284500</td>\n",
        "      <td> 7.25</td>\n",
        "      <td> 50.81</td>\n",
        "      <td> 3.051167</td>\n",
        "      <td> 1.00</td>\n",
        "      <td> 10.0</td>\n",
        "    </tr>\n",
        "  </tbody>\n",
        "</table>\n",
        "</div>"
       ],
       "metadata": {},
       "output_type": "pyout",
       "prompt_number": 24,
       "text": [
        "               total_bill                    tip            \n",
        "                     mean   min    max      mean   min   max\n",
        "sex    smoker                                               \n",
        "Female No       18.105185  7.25  35.83  2.773519  1.00   5.2\n",
        "       Yes      17.977879  3.07  44.30  2.931515  1.00   6.5\n",
        "Male   No       19.791237  7.51  48.33  3.113402  1.25   9.0\n",
        "       Yes      22.284500  7.25  50.81  3.051167  1.00  10.0"
       ]
      }
     ],
     "prompt_number": 24
    },
    {
     "cell_type": "code",
     "collapsed": false,
     "input": [
      "# We can also apply specific functions to specific columns\n",
      "df = grouped.agg({'total_bill': (min, max), 'tip': sum})\n",
      "df"
     ],
     "language": "python",
     "metadata": {},
     "outputs": [
      {
       "html": [
        "<div style=\"max-height:1000px;max-width:1500px;overflow:auto;\">\n",
        "<table border=\"1\" class=\"dataframe\">\n",
        "  <thead>\n",
        "    <tr>\n",
        "      <th></th>\n",
        "      <th></th>\n",
        "      <th>tip</th>\n",
        "      <th colspan=\"2\" halign=\"left\">total_bill</th>\n",
        "    </tr>\n",
        "    <tr>\n",
        "      <th></th>\n",
        "      <th></th>\n",
        "      <th>sum</th>\n",
        "      <th>min</th>\n",
        "      <th>max</th>\n",
        "    </tr>\n",
        "    <tr>\n",
        "      <th>sex</th>\n",
        "      <th>smoker</th>\n",
        "      <th></th>\n",
        "      <th></th>\n",
        "      <th></th>\n",
        "    </tr>\n",
        "  </thead>\n",
        "  <tbody>\n",
        "    <tr>\n",
        "      <th rowspan=\"2\" valign=\"top\">Female</th>\n",
        "      <th>No</th>\n",
        "      <td> 149.77</td>\n",
        "      <td> 7.25</td>\n",
        "      <td> 35.83</td>\n",
        "    </tr>\n",
        "    <tr>\n",
        "      <th>Yes</th>\n",
        "      <td>  96.74</td>\n",
        "      <td> 3.07</td>\n",
        "      <td> 44.30</td>\n",
        "    </tr>\n",
        "    <tr>\n",
        "      <th rowspan=\"2\" valign=\"top\">Male</th>\n",
        "      <th>No</th>\n",
        "      <td> 302.00</td>\n",
        "      <td> 7.51</td>\n",
        "      <td> 48.33</td>\n",
        "    </tr>\n",
        "    <tr>\n",
        "      <th>Yes</th>\n",
        "      <td> 183.07</td>\n",
        "      <td> 7.25</td>\n",
        "      <td> 50.81</td>\n",
        "    </tr>\n",
        "  </tbody>\n",
        "</table>\n",
        "</div>"
       ],
       "metadata": {},
       "output_type": "pyout",
       "prompt_number": 25,
       "text": [
        "                  tip  total_bill       \n",
        "                  sum         min    max\n",
        "sex    smoker                           \n",
        "Female No      149.77        7.25  35.83\n",
        "       Yes      96.74        3.07  44.30\n",
        "Male   No      302.00        7.51  48.33\n",
        "       Yes     183.07        7.25  50.81"
       ]
      }
     ],
     "prompt_number": 25
    },
    {
     "cell_type": "markdown",
     "metadata": {},
     "source": [
      "### Using statsmodels\n",
      "\n",
      "Many of the basic statistical tools available in R are replicted in the `statsmodels` package. We will only show one example."
     ]
    },
    {
     "cell_type": "code",
     "collapsed": false,
     "input": [
      "# Simulate the genotype for 4 SNPs in a case-control study using an additive genetic model\n",
      "\n",
      "n = 1000\n",
      "status = np.random.choice([0,1], n )\n",
      "genotype = np.random.choice([0,1,2], (n,4))\n",
      "genotype[status==0] = np.random.choice([0,1,2], (sum(status==0), 4), p=[0.33, 0.33, 0.34])\n",
      "genotype[status==1] = np.random.choice([0,1,2], (sum(status==1), 4), p=[0.2, 0.3, 0.5])\n",
      "df = DataFrame(np.hstack([status[:, np.newaxis], genotype]), columns=['status', 'SNP1', 'SNP2', 'SNP3', 'SNP4'])\n",
      "df.head(6)"
     ],
     "language": "python",
     "metadata": {},
     "outputs": [
      {
       "html": [
        "<div style=\"max-height:1000px;max-width:1500px;overflow:auto;\">\n",
        "<table border=\"1\" class=\"dataframe\">\n",
        "  <thead>\n",
        "    <tr style=\"text-align: right;\">\n",
        "      <th></th>\n",
        "      <th>status</th>\n",
        "      <th>SNP1</th>\n",
        "      <th>SNP2</th>\n",
        "      <th>SNP3</th>\n",
        "      <th>SNP4</th>\n",
        "    </tr>\n",
        "  </thead>\n",
        "  <tbody>\n",
        "    <tr>\n",
        "      <th>0</th>\n",
        "      <td> 0</td>\n",
        "      <td> 1</td>\n",
        "      <td> 2</td>\n",
        "      <td> 2</td>\n",
        "      <td> 0</td>\n",
        "    </tr>\n",
        "    <tr>\n",
        "      <th>1</th>\n",
        "      <td> 0</td>\n",
        "      <td> 0</td>\n",
        "      <td> 0</td>\n",
        "      <td> 0</td>\n",
        "      <td> 0</td>\n",
        "    </tr>\n",
        "    <tr>\n",
        "      <th>2</th>\n",
        "      <td> 1</td>\n",
        "      <td> 0</td>\n",
        "      <td> 2</td>\n",
        "      <td> 2</td>\n",
        "      <td> 2</td>\n",
        "    </tr>\n",
        "    <tr>\n",
        "      <th>3</th>\n",
        "      <td> 0</td>\n",
        "      <td> 0</td>\n",
        "      <td> 0</td>\n",
        "      <td> 1</td>\n",
        "      <td> 0</td>\n",
        "    </tr>\n",
        "    <tr>\n",
        "      <th>4</th>\n",
        "      <td> 0</td>\n",
        "      <td> 2</td>\n",
        "      <td> 1</td>\n",
        "      <td> 0</td>\n",
        "      <td> 1</td>\n",
        "    </tr>\n",
        "    <tr>\n",
        "      <th>5</th>\n",
        "      <td> 0</td>\n",
        "      <td> 2</td>\n",
        "      <td> 1</td>\n",
        "      <td> 0</td>\n",
        "      <td> 1</td>\n",
        "    </tr>\n",
        "  </tbody>\n",
        "</table>\n",
        "</div>"
       ],
       "metadata": {},
       "output_type": "pyout",
       "prompt_number": 26,
       "text": [
        "   status  SNP1  SNP2  SNP3  SNP4\n",
        "0       0     1     2     2     0\n",
        "1       0     0     0     0     0\n",
        "2       1     0     2     2     2\n",
        "3       0     0     0     1     0\n",
        "4       0     2     1     0     1\n",
        "5       0     2     1     0     1"
       ]
      }
     ],
     "prompt_number": 26
    },
    {
     "cell_type": "code",
     "collapsed": false,
     "input": [
      "# Use statsmodels to fit a logistic regression to  the data\n",
      "fit1 = sm.Logit.from_formula('status ~ %s' % '+'.join(df.columns[1:]), data=df).fit()\n",
      "fit1.summary()"
     ],
     "language": "python",
     "metadata": {},
     "outputs": [
      {
       "output_type": "stream",
       "stream": "stdout",
       "text": [
        "Optimization terminated successfully.\n",
        "         Current function value: 0.617515\n",
        "         Iterations 5\n"
       ]
      },
      {
       "html": [
        "<table class=\"simpletable\">\n",
        "<caption>Logit Regression Results</caption>\n",
        "<tr>\n",
        "  <th>Dep. Variable:</th>      <td>status</td>      <th>  No. Observations:  </th>  <td>  1000</td>  \n",
        "</tr>\n",
        "<tr>\n",
        "  <th>Model:</th>               <td>Logit</td>      <th>  Df Residuals:      </th>  <td>   995</td>  \n",
        "</tr>\n",
        "<tr>\n",
        "  <th>Method:</th>               <td>MLE</td>       <th>  Df Model:          </th>  <td>     4</td>  \n",
        "</tr>\n",
        "<tr>\n",
        "  <th>Date:</th>          <td>Mon, 02 Jun 2014</td> <th>  Pseudo R-squ.:     </th>  <td>0.1086</td>  \n",
        "</tr>\n",
        "<tr>\n",
        "  <th>Time:</th>              <td>21:24:12</td>     <th>  Log-Likelihood:    </th> <td> -617.51</td> \n",
        "</tr>\n",
        "<tr>\n",
        "  <th>converged:</th>           <td>True</td>       <th>  LL-Null:           </th> <td> -692.76</td> \n",
        "</tr>\n",
        "<tr>\n",
        "  <th> </th>                      <td> </td>        <th>  LLR p-value:       </th> <td>1.606e-31</td>\n",
        "</tr>\n",
        "</table>\n",
        "<table class=\"simpletable\">\n",
        "<tr>\n",
        "      <td></td>         <th>coef</th>     <th>std err</th>      <th>z</th>      <th>P>|z|</th> <th>[95.0% Conf. Int.]</th> \n",
        "</tr>\n",
        "<tr>\n",
        "  <th>Intercept</th> <td>   -2.2844</td> <td>    0.215</td> <td>  -10.633</td> <td> 0.000</td> <td>   -2.705    -1.863</td>\n",
        "</tr>\n",
        "<tr>\n",
        "  <th>SNP1</th>      <td>    0.6257</td> <td>    0.084</td> <td>    7.412</td> <td> 0.000</td> <td>    0.460     0.791</td>\n",
        "</tr>\n",
        "<tr>\n",
        "  <th>SNP2</th>      <td>    0.4101</td> <td>    0.084</td> <td>    4.900</td> <td> 0.000</td> <td>    0.246     0.574</td>\n",
        "</tr>\n",
        "<tr>\n",
        "  <th>SNP3</th>      <td>    0.5056</td> <td>    0.085</td> <td>    5.929</td> <td> 0.000</td> <td>    0.338     0.673</td>\n",
        "</tr>\n",
        "<tr>\n",
        "  <th>SNP4</th>      <td>    0.3950</td> <td>    0.087</td> <td>    4.517</td> <td> 0.000</td> <td>    0.224     0.566</td>\n",
        "</tr>\n",
        "</table>"
       ],
       "metadata": {},
       "output_type": "pyout",
       "prompt_number": 27,
       "text": [
        "<class 'statsmodels.iolib.summary.Summary'>\n",
        "\"\"\"\n",
        "                           Logit Regression Results                           \n",
        "==============================================================================\n",
        "Dep. Variable:                 status   No. Observations:                 1000\n",
        "Model:                          Logit   Df Residuals:                      995\n",
        "Method:                           MLE   Df Model:                            4\n",
        "Date:                Mon, 02 Jun 2014   Pseudo R-squ.:                  0.1086\n",
        "Time:                        21:24:12   Log-Likelihood:                -617.51\n",
        "converged:                       True   LL-Null:                       -692.76\n",
        "                                        LLR p-value:                 1.606e-31\n",
        "==============================================================================\n",
        "                 coef    std err          z      P>|z|      [95.0% Conf. Int.]\n",
        "------------------------------------------------------------------------------\n",
        "Intercept     -2.2844      0.215    -10.633      0.000        -2.705    -1.863\n",
        "SNP1           0.6257      0.084      7.412      0.000         0.460     0.791\n",
        "SNP2           0.4101      0.084      4.900      0.000         0.246     0.574\n",
        "SNP3           0.5056      0.085      5.929      0.000         0.338     0.673\n",
        "SNP4           0.3950      0.087      4.517      0.000         0.224     0.566\n",
        "==============================================================================\n",
        "\"\"\""
       ]
      }
     ],
     "prompt_number": 27
    },
    {
     "cell_type": "code",
     "collapsed": false,
     "input": [
      "# Alternative using GLM - similar to R\n",
      "fit2 = sm.GLM.from_formula('status ~ SNP1 + SNP2 + SNP3 + SNP4', data=df, family=sm.families.Binomial()).fit()\n",
      "print fit2.summary()\n",
      "print chisqprob(fit2.null_deviance - fit2.deviance, fit2.df_model)\n",
      "print(fit2.null_deviance - fit2.deviance, fit2.df_model)"
     ],
     "language": "python",
     "metadata": {},
     "outputs": [
      {
       "output_type": "stream",
       "stream": "stdout",
       "text": [
        "                 Generalized Linear Model Regression Results                  \n",
        "==============================================================================\n",
        "Dep. Variable:                 status   No. Observations:                 1000\n",
        "Model:                            GLM   Df Residuals:                      995\n",
        "Model Family:                Binomial   Df Model:                            4\n",
        "Link Function:                  logit   Scale:                             1.0\n",
        "Method:                          IRLS   Log-Likelihood:                -617.51\n",
        "Date:                Mon, 02 Jun 2014   Deviance:                       1235.0\n",
        "Time:                        21:24:12   Pearson chi2:                     999.\n",
        "No. Iterations:                     5                                         \n",
        "==============================================================================\n",
        "                 coef    std err          t      P>|t|      [95.0% Conf. Int.]\n",
        "------------------------------------------------------------------------------\n",
        "Intercept     -2.2844      0.215    -10.633      0.000        -2.705    -1.863\n",
        "SNP1           0.6257      0.084      7.412      0.000         0.460     0.791\n",
        "SNP2           0.4101      0.084      4.900      0.000         0.246     0.574\n",
        "SNP3           0.5056      0.085      5.929      0.000         0.338     0.673\n",
        "SNP4           0.3950      0.087      4.517      0.000         0.224     0.566\n",
        "==============================================================================\n",
        "1.60608666761e-31\n",
        "(150.4804530690717, 4)\n"
       ]
      }
     ],
     "prompt_number": 28
    },
    {
     "cell_type": "markdown",
     "metadata": {},
     "source": [
      "## Using R from IPython\n",
      "\n",
      "While Python support for statstical computing is rapidly improving (especially with the pandas, statsmodels and scikit-learn modules), the R ecosystem is staill vastly larger. However, we can have our cake and eat it too, since IPyhton allows us to run R (almost) seamlessly with the Rmagic extension. \n",
      "\n",
      "There are two ways to use Rmagic - using %R (appleis to single line) and %%R (applies to entire cell). Python objects can be passed into R with the -i flag and R objects pased out with the -o flag."
     ]
    },
    {
     "cell_type": "code",
     "collapsed": false,
     "input": [
      "%load_ext rpy2.ipython"
     ],
     "language": "python",
     "metadata": {},
     "outputs": [],
     "prompt_number": 29
    },
    {
     "cell_type": "code",
     "collapsed": false,
     "input": [
      "%%R -i df -o fit\n",
      "\n",
      "fit <- glm(status ~ ., data=df)\n",
      "print(summary(fit))\n",
      "print(fit$null.deviance - fit$deviance)\n",
      "print(fit$df.null - fit$df.residual)\n",
      "with(fit, pchisq(null.deviance - deviance, df.null - df.residual, lower.tail = FALSE))"
     ],
     "language": "python",
     "metadata": {},
     "outputs": [
      {
       "metadata": {},
       "output_type": "display_data",
       "text": [
        "\n",
        "Call:\n",
        "glm(formula = status ~ ., data = df)\n",
        "\n",
        "Deviance Residuals: \n",
        "     Min        1Q    Median        3Q       Max  \n",
        "-0.84906  -0.42686  -0.08912   0.42630   0.99698  \n",
        "\n",
        "Coefficients:\n",
        "            Estimate Std. Error t value Pr(>|t|)    \n",
        "(Intercept) 0.003016   0.041008   0.074    0.941    \n",
        "SNP1        0.137681   0.017782   7.743 2.39e-14 ***\n",
        "SNP2        0.089385   0.017932   4.985 7.32e-07 ***\n",
        "SNP3        0.109848   0.018063   6.082 1.69e-09 ***\n",
        "SNP4        0.086107   0.018713   4.601 4.74e-06 ***\n",
        "---\n",
        "Signif. codes:  0 \u2018***\u2019 0.001 \u2018**\u2019 0.01 \u2018*\u2019 0.05 \u2018.\u2019 0.1 \u2018 \u2019 1\n",
        "\n",
        "(Dispersion parameter for gaussian family taken to be 0.2156722)\n",
        "\n",
        "    Null deviance: 249.80  on 999  degrees of freedom\n",
        "Residual deviance: 214.59  on 995  degrees of freedom\n",
        "AIC: 1310.9\n",
        "\n",
        "Number of Fisher Scoring iterations: 2\n",
        "\n",
        "[1] 35.21014\n",
        "[1] 4\n",
        "[1] 4.205786e-07\n"
       ]
      }
     ],
     "prompt_number": 30
    },
    {
     "cell_type": "code",
     "collapsed": false,
     "input": [],
     "language": "python",
     "metadata": {},
     "outputs": [],
     "prompt_number": 30
    }
   ],
   "metadata": {}
  }
 ]
}