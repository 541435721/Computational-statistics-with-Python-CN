{
 "metadata": {
  "name": "",
  "signature": "sha256:49a297ea0dd4847ace3ae8c754b4d7e7fa2fc3c62829cd375ae3a41553590b6e"
 },
 "nbformat": 3,
 "nbformat_minor": 0,
 "worksheets": [
  {
   "cells": [
    {
     "cell_type": "markdown",
     "metadata": {},
     "source": [
      "Numerical computing in Python \n",
      "===="
     ]
    },
    {
     "cell_type": "markdown",
     "metadata": {},
     "source": [
      "Numpy\n",
      "----"
     ]
    },
    {
     "cell_type": "code",
     "collapsed": false,
     "input": [
      "import numpy as np\n",
      "import numpy.random as npr\n",
      "import scipy.linalg as la\n",
      "np.set_printoptions(precision=4)"
     ],
     "language": "python",
     "metadata": {},
     "outputs": [],
     "prompt_number": 153
    },
    {
     "cell_type": "markdown",
     "metadata": {},
     "source": [
      "### Array indexing"
     ]
    },
    {
     "cell_type": "code",
     "collapsed": false,
     "input": [
      "# Create a 10 by 6 array from normal deviates and convert to ints\n",
      "n, nrows, ncols = 100, 10, 6\n",
      "xs = np.random.normal(n, 15, size=(nrows, ncols)).astype('int')\n",
      "xs"
     ],
     "language": "python",
     "metadata": {},
     "outputs": [
      {
       "metadata": {},
       "output_type": "pyout",
       "prompt_number": 104,
       "text": [
        "array([[111,  79,  92,  81, 118,  96],\n",
        "       [107,  87, 113,  85, 124,  77],\n",
        "       [ 71,  99,  89, 113,  88,  91],\n",
        "       [ 85,  84,  94, 109, 112, 100],\n",
        "       [ 94, 102, 100,  98, 110,  89],\n",
        "       [ 93, 105, 119, 100, 128, 101],\n",
        "       [ 92,  82, 100,  73, 131, 127],\n",
        "       [104, 128,  97,  99, 106,  66],\n",
        "       [ 98,  89, 104,  77, 109, 114],\n",
        "       [ 90, 121, 106,  92,  96,  91]])"
       ]
      }
     ],
     "prompt_number": 104
    },
    {
     "cell_type": "code",
     "collapsed": false,
     "input": [
      "# Use slice notation\n",
      "print xs[0,0]\n",
      "print xs[-1,-1]\n",
      "print xs[3,:]\n",
      "print xs[:,0]\n",
      "print xs[::2,::2]\n",
      "print xs[2:5,2:5]"
     ],
     "language": "python",
     "metadata": {},
     "outputs": [
      {
       "output_type": "stream",
       "stream": "stdout",
       "text": [
        "111\n",
        "91\n",
        "[ 85  84  94 109 112 100]\n",
        "[111 107  71  85  94  93  92 104  98  90]\n",
        "[[111  92 118]\n",
        " [ 71  89  88]\n",
        " [ 94 100 110]\n",
        " [ 92 100 131]\n",
        " [ 98 104 109]]\n",
        "[[ 89 113  88]\n",
        " [ 94 109 112]\n",
        " [100  98 110]]\n"
       ]
      }
     ],
     "prompt_number": 105
    },
    {
     "cell_type": "code",
     "collapsed": false,
     "input": [
      "#  Indexing with list of integers\n",
      "print xs[0, [1,2,4,5]]"
     ],
     "language": "python",
     "metadata": {},
     "outputs": [
      {
       "output_type": "stream",
       "stream": "stdout",
       "text": [
        "[ 79  92 118  96]\n"
       ]
      }
     ],
     "prompt_number": 106
    },
    {
     "cell_type": "code",
     "collapsed": false,
     "input": [
      "# Boolean indexing\n",
      "print xs[xs % 2 == 0]\n",
      "xs[xs % 2 == 0] = 0 # set even entries to zero\n",
      "print xs"
     ],
     "language": "python",
     "metadata": {},
     "outputs": [
      {
       "output_type": "stream",
       "stream": "stdout",
       "text": [
        "[ 92 118  96 124  88  84  94 112 100  94 102 100  98 110 100 128  92  82\n",
        " 100 104 128 106  66  98 104 114  90 106  92  96]\n",
        "[[111  79   0  81   0   0]\n",
        " [107  87 113  85   0  77]\n",
        " [ 71  99  89 113   0  91]\n",
        " [ 85   0   0 109   0   0]\n",
        " [  0   0   0   0   0  89]\n",
        " [ 93 105 119   0   0 101]\n",
        " [  0   0   0  73 131 127]\n",
        " [  0   0  97  99   0   0]\n",
        " [  0  89   0  77 109   0]\n",
        " [  0 121   0   0   0  91]]\n"
       ]
      }
     ],
     "prompt_number": 107
    },
    {
     "cell_type": "markdown",
     "metadata": {},
     "source": [
      "### Broadcasting, row, column and matrix operations"
     ]
    },
    {
     "cell_type": "code",
     "collapsed": false,
     "input": [
      "# operations across rows, cols or entire matrix\n",
      "print xs.max()\n",
      "print xs.max(axis=0) # max of each col\n",
      "print xs.max(axis=1) # max of each row"
     ],
     "language": "python",
     "metadata": {},
     "outputs": [
      {
       "output_type": "stream",
       "stream": "stdout",
       "text": [
        "131\n",
        "[111 121 119 113 131 127]\n",
        "[111 113 113 109  89 119 131  99 109 121]\n"
       ]
      }
     ],
     "prompt_number": 108
    },
    {
     "cell_type": "code",
     "collapsed": false,
     "input": [
      "# A funcitonal rather than object-oriented approacha also wokrs\n",
      "print np.max(xs, axis=0)\n",
      "print np.max(xs, axis=0)"
     ],
     "language": "python",
     "metadata": {},
     "outputs": [
      {
       "output_type": "stream",
       "stream": "stdout",
       "text": [
        "[ 6  7  8  9 10 11]\n",
        "[ 6  7  8  9 10 11]\n"
       ]
      }
     ],
     "prompt_number": 113
    },
    {
     "cell_type": "code",
     "collapsed": false,
     "input": [
      "# broadcasting\n",
      "xs = np.arange(12).reshape(2,6)\n",
      "print xs, '\\n'\n",
      "print xs * 10, '\\n'\n",
      "\n",
      "# broadcasting just works when doing column-wise operations\n",
      "col_means = xs.mean(axis=0)\n",
      "print col_means, '\\n'\n",
      "print xs + col_means, '\\n'\n",
      "\n",
      "# but needs a little more work for row-wise operations\n",
      "row_means = xs.mean(axis=1)[:, np.newaxis]\n",
      "print row_means\n",
      "print xs + row_means"
     ],
     "language": "python",
     "metadata": {},
     "outputs": [
      {
       "output_type": "stream",
       "stream": "stdout",
       "text": [
        "[[ 0  1  2  3  4  5]\n",
        " [ 6  7  8  9 10 11]] \n",
        "\n",
        "[[  0  10  20  30  40  50]\n",
        " [ 60  70  80  90 100 110]] \n",
        "\n",
        "[ 3.  4.  5.  6.  7.  8.] \n",
        "\n",
        "[[  3.   5.   7.   9.  11.  13.]\n",
        " [  9.  11.  13.  15.  17.  19.]] \n",
        "\n",
        "[[ 2.5]\n",
        " [ 8.5]]\n",
        "[[  2.5   3.5   4.5   5.5   6.5   7.5]\n",
        " [ 14.5  15.5  16.5  17.5  18.5  19.5]]\n"
       ]
      }
     ],
     "prompt_number": 110
    },
    {
     "cell_type": "code",
     "collapsed": false,
     "input": [
      "# convert matrix to have zero mean and unit standard deviation using col summary statistics\n",
      "print (xs - xs.mean(axis=0))/xs.std(axis=0)"
     ],
     "language": "python",
     "metadata": {},
     "outputs": [
      {
       "output_type": "stream",
       "stream": "stdout",
       "text": [
        "[[-1. -1. -1. -1. -1. -1.]\n",
        " [ 1.  1.  1.  1.  1.  1.]]\n"
       ]
      }
     ],
     "prompt_number": 111
    },
    {
     "cell_type": "code",
     "collapsed": false,
     "input": [
      "# convert matrix to have zero mean and unit standard deviation using row summary statistics\n",
      "print (xs - xs.mean(axis=1)[:, np.newaxis])/xs.std(axis=1)[:, np.newaxis]"
     ],
     "language": "python",
     "metadata": {},
     "outputs": [
      {
       "output_type": "stream",
       "stream": "stdout",
       "text": [
        "[[-1.4639 -0.8783 -0.2928  0.2928  0.8783  1.4639]\n",
        " [-1.4639 -0.8783 -0.2928  0.2928  0.8783  1.4639]]\n"
       ]
      }
     ],
     "prompt_number": 112
    },
    {
     "cell_type": "markdown",
     "metadata": {},
     "source": [
      "### Linear algebra"
     ]
    },
    {
     "cell_type": "code",
     "collapsed": false,
     "input": [
      "A = np.array([[1,2],[3,4]])\n",
      "b = np.array([1,4])\n",
      "print A\n",
      "print b"
     ],
     "language": "python",
     "metadata": {},
     "outputs": [
      {
       "output_type": "stream",
       "stream": "stdout",
       "text": [
        "[[1 2]\n",
        " [3 4]]\n",
        "[1 4]\n"
       ]
      }
     ],
     "prompt_number": 117
    },
    {
     "cell_type": "code",
     "collapsed": false,
     "input": [
      "# Matrix operations\n",
      "print dot(A, A)\n",
      "print la.matrix_power(A, 2)\n",
      "\n",
      "print reduce(dot, [A, A, A])\n",
      "print la.matrix_power(A, 3)\n",
      "\n",
      "print A\n",
      "print inv(A)\n",
      "print A.T"
     ],
     "language": "python",
     "metadata": {},
     "outputs": [
      {
       "output_type": "stream",
       "stream": "stdout",
       "text": [
        "[[ 7 10]\n",
        " [15 22]]\n",
        "[[ 7 10]\n",
        " [15 22]]\n",
        "[[ 37  54]\n",
        " [ 81 118]]\n",
        "[[ 37  54]\n",
        " [ 81 118]]\n",
        "[[1 2]\n",
        " [3 4]]\n",
        "[[-2.   1. ]\n",
        " [ 1.5 -0.5]]\n",
        "[[1 3]\n",
        " [2 4]]\n"
       ]
      }
     ],
     "prompt_number": 139
    },
    {
     "cell_type": "code",
     "collapsed": false,
     "input": [
      "x = solve(A, b) # do not use x = dot(inv(A), b) as it is inefficient and numerically unstable\n",
      "print x\n",
      "print np.dot(A, x) - b"
     ],
     "language": "python",
     "metadata": {},
     "outputs": [
      {
       "output_type": "stream",
       "stream": "stdout",
       "text": [
        "[ 2.  -0.5]\n",
        "[ 0.  0.]\n"
       ]
      }
     ],
     "prompt_number": 140
    },
    {
     "cell_type": "markdown",
     "metadata": {},
     "source": [
      "### Matrix decompositions"
     ]
    },
    {
     "cell_type": "code",
     "collapsed": false,
     "input": [
      "A = npr.normal(100, 15, (6, 10)).astype('int')\n",
      "print A"
     ],
     "language": "python",
     "metadata": {},
     "outputs": [
      {
       "output_type": "stream",
       "stream": "stdout",
       "text": [
        "[[120  98  85  98  81 101  87  87 100  83]\n",
        " [104  82  90  81 132  83  76  87  87  80]\n",
        " [ 97 115 101  99 108  95 111 111  86  75]\n",
        " [105 109 134 120  84 120 124 113  82  98]\n",
        " [ 73  91 108  79  84  98 112 114 103 105]\n",
        " [119  96 132 105  77  88  89 102  82  80]]\n"
       ]
      }
     ],
     "prompt_number": 160
    },
    {
     "cell_type": "code",
     "collapsed": false,
     "input": [
      "P, L, U = la.lu(A)\n",
      "print dot(P, A)\n",
      "print dot(L, U)"
     ],
     "language": "python",
     "metadata": {},
     "outputs": [
      {
       "output_type": "stream",
       "stream": "stdout",
       "text": [
        "[[ 120.   98.   85.   98.   81.  101.   87.   87.  100.   83.]\n",
        " [  73.   91.  108.   79.   84.   98.  112.  114.  103.  105.]\n",
        " [ 104.   82.   90.   81.  132.   83.   76.   87.   87.   80.]\n",
        " [ 105.  109.  134.  120.   84.  120.  124.  113.   82.   98.]\n",
        " [ 119.   96.  132.  105.   77.   88.   89.  102.   82.   80.]\n",
        " [  97.  115.  101.   99.  108.   95.  111.  111.   86.   75.]]\n",
        "[[ 120.   98.   85.   98.   81.  101.   87.   87.  100.   83.]\n",
        " [  97.  115.  101.   99.  108.   95.  111.  111.   86.   75.]\n",
        " [ 119.   96.  132.  105.   77.   88.   89.  102.   82.   80.]\n",
        " [ 105.  109.  134.  120.   84.  120.  124.  113.   82.   98.]\n",
        " [ 104.   82.   90.   81.  132.   83.   76.   87.   87.   80.]\n",
        " [  73.   91.  108.   79.   84.   98.  112.  114.  103.  105.]]\n"
       ]
      }
     ],
     "prompt_number": 190
    },
    {
     "cell_type": "code",
     "collapsed": false,
     "input": [
      "Q, R = la.qr(A)\n",
      "print A\n",
      "print dot(Q, R).astype('int')"
     ],
     "language": "python",
     "metadata": {},
     "outputs": [
      {
       "output_type": "stream",
       "stream": "stdout",
       "text": [
        "[[120  98  85  98  81 101  87  87 100  83]\n",
        " [104  82  90  81 132  83  76  87  87  80]\n",
        " [ 97 115 101  99 108  95 111 111  86  75]\n",
        " [105 109 134 120  84 120 124 113  82  98]\n",
        " [ 73  91 108  79  84  98 112 114 103 105]\n",
        " [119  96 132 105  77  88  89 102  82  80]]\n",
        "[[120  98  85  98  81 101  87  87 100  83]\n",
        " [104  82  90  81 132  83  76  87  87  80]\n",
        " [ 97 115 101  99 108  95 111 111  86  75]\n",
        " [105 109 134 120  84 120 124 113  82  98]\n",
        " [ 73  91 108  78  84  97 111 113 103 105]\n",
        " [119  96 131 105  77  88  89 102  82  79]]\n"
       ]
      }
     ],
     "prompt_number": 217
    },
    {
     "cell_type": "code",
     "collapsed": false,
     "input": [
      "U, s, V = la.svd(A)\n",
      "m, n = A.shape\n",
      "S =  zeros((m, n))\n",
      "for i, _s in enumerate(s):\n",
      "    S[i,i] = _s\n",
      "print reduce(dot, [U, S, V])"
     ],
     "language": "python",
     "metadata": {},
     "outputs": [
      {
       "output_type": "stream",
       "stream": "stdout",
       "text": [
        "[[ 120.   98.   85.   98.   81.  101.   87.   87.  100.   83.]\n",
        " [ 104.   82.   90.   81.  132.   83.   76.   87.   87.   80.]\n",
        " [  97.  115.  101.   99.  108.   95.  111.  111.   86.   75.]\n",
        " [ 105.  109.  134.  120.   84.  120.  124.  113.   82.   98.]\n",
        " [  73.   91.  108.   79.   84.   98.  112.  114.  103.  105.]\n",
        " [ 119.   96.  132.  105.   77.   88.   89.  102.   82.   80.]]\n"
       ]
      }
     ],
     "prompt_number": 210
    },
    {
     "cell_type": "code",
     "collapsed": false,
     "input": [
      "B = np.cov(A)\n",
      "print B"
     ],
     "language": "python",
     "metadata": {},
     "outputs": [
      {
       "output_type": "stream",
       "stream": "stdout",
       "text": [
        "[[ 140.2222   -9.7778  -14.7778   -6.3333 -102.1111   66.6667]\n",
        " [  -9.7778  274.1778   35.9333 -145.8667 -115.2667  -24.5556]\n",
        " [ -14.7778   35.9333  154.1778   70.3111   -3.4      48.1111]\n",
        " [  -6.3333 -145.8667   70.3111  288.7667   61.3     196.4444]\n",
        " [-102.1111 -115.2667   -3.4      61.3     204.4556  -32.3333]\n",
        " [  66.6667  -24.5556   48.1111  196.4444  -32.3333  317.5556]]\n"
       ]
      }
     ],
     "prompt_number": 173
    },
    {
     "cell_type": "code",
     "collapsed": false,
     "input": [
      "u, V = eig(B)\n",
      "print dot(B, V)\n",
      "print dot(V, diag(u))"
     ],
     "language": "python",
     "metadata": {},
     "outputs": [
      {
       "output_type": "stream",
       "stream": "stdout",
       "text": [
        "[[ -22.3019  135.036  -119.6844  -12.2176   32.2464   25.337 ]\n",
        " [ 244.3147  195.5703  111.5807  -10.0868  -34.777    -5.2814]\n",
        " [ -78.9655   64.43    125.576     3.9674   76.9365   21.4289]\n",
        " [-386.6945   -1.0534   32.5245  -10.1064   18.1344  -31.1863]\n",
        " [-104.466  -230.5057   62.0381   -8.4961  -37.791    30.5742]\n",
        " [-324.2636  197.8906    2.9479    7.0636  -56.6071   16.4005]]\n",
        "[[ -22.3019  135.036  -119.6844  -12.2176   32.2464   25.337 ]\n",
        " [ 244.3147  195.5703  111.5807  -10.0868  -34.777    -5.2814]\n",
        " [ -78.9655   64.43    125.576     3.9674   76.9365   21.4289]\n",
        " [-386.6945   -1.0534   32.5245  -10.1064   18.1344  -31.1863]\n",
        " [-104.466  -230.5057   62.0381   -8.4961  -37.791    30.5742]\n",
        " [-324.2636  197.8906    2.9479    7.0636  -56.6071   16.4005]]\n"
       ]
      }
     ],
     "prompt_number": 214
    },
    {
     "cell_type": "code",
     "collapsed": false,
     "input": [
      "C = la.cholesky(B)\n",
      "print dot(C.T, C) # dot(C.T.conj(), C)\n",
      "print B"
     ],
     "language": "python",
     "metadata": {},
     "outputs": [
      {
       "output_type": "stream",
       "stream": "stdout",
       "text": [
        "[[ 140.2222   -9.7778  -14.7778   -6.3333 -102.1111   66.6667]\n",
        " [  -9.7778  274.1778   35.9333 -145.8667 -115.2667  -24.5556]\n",
        " [ -14.7778   35.9333  154.1778   70.3111   -3.4      48.1111]\n",
        " [  -6.3333 -145.8667   70.3111  288.7667   61.3     196.4444]\n",
        " [-102.1111 -115.2667   -3.4      61.3     204.4556  -32.3333]\n",
        " [  66.6667  -24.5556   48.1111  196.4444  -32.3333  317.5556]]\n",
        "[[ 140.2222   -9.7778  -14.7778   -6.3333 -102.1111   66.6667]\n",
        " [  -9.7778  274.1778   35.9333 -145.8667 -115.2667  -24.5556]\n",
        " [ -14.7778   35.9333  154.1778   70.3111   -3.4      48.1111]\n",
        " [  -6.3333 -145.8667   70.3111  288.7667   61.3     196.4444]\n",
        " [-102.1111 -115.2667   -3.4      61.3     204.4556  -32.3333]\n",
        " [  66.6667  -24.5556   48.1111  196.4444  -32.3333  317.5556]]\n"
       ]
      }
     ],
     "prompt_number": 219
    },
    {
     "cell_type": "markdown",
     "metadata": {},
     "source": [
      "### Least squares solution"
     ]
    },
    {
     "cell_type": "markdown",
     "metadata": {},
     "source": [
      "Suppose we want to solve a system of noisy linear equations\n",
      "\n",
      "$$\n",
      "y_1 = b_0 x_1 + b_1 \\\\\n",
      "y_2 = b_0 x_2 + b_1 \\\\\n",
      "y_3 = b_0 x_2 + b_1 \\\\\n",
      "y_4 = b_0 x_4 + b_1 \\\\\n",
      "$$\n",
      "\n",
      "Since the system is noisy (implies full rank) and overdetermined, we cannot find an exact solution. Instead, we will look for the least squares solution. First we can rewrrite in matrix notation $Y = AB$, treating $b_1$ as the coefficient of $x^0 = 1$:\n",
      "\n",
      "$$\n",
      "\\left(\n",
      "\\begin{array}{c}\n",
      "y_1 \\\\\n",
      "y_2 \\\\\n",
      "y_3 \\\\\n",
      "y_4 \n",
      "\\end{array} \n",
      "\\right) = \\left( \\begin{array}{cc}\n",
      "x_1 & 1 \\\\\n",
      "x_2 & 1 \\\\\n",
      "x_3 & 1 \\\\\n",
      "x_4 & 1 \\end{array} \\right)\n",
      "\\left( \n",
      "\\begin{array}{cc}\n",
      "b_0 & b_1 \n",
      "\\end{array}\n",
      "\\right)\n",
      "$$\n",
      "\n",
      "The solution of this (i.e. the $B$ matrix) is solved by multipling the psudoinverse of $A$ (the Vandermonde matrix) with $Y$\n",
      "\n",
      "$$\n",
      "(A^\\text{T}A)^{-1}A^\\text{T} Y\n",
      "$$\n",
      "\n",
      "Note that higher order polynomials have the same structure and can be solved in the same way\n",
      "\n",
      "$$\n",
      "\\left(\n",
      "\\begin{array}{c}\n",
      "y_1 \\\\\n",
      "y_2 \\\\\n",
      "y_3 \\\\\n",
      "y_4 \n",
      "\\end{array} \n",
      "\\right) = \\left( \\begin{array}{ccc}\n",
      "x_1^2 & x_1 & 1 \\\\\n",
      "x_2^2 & x_2 & 1 \\\\\n",
      "x_3^2 & x_3 & 1 \\\\\n",
      "x_4^2 & x_4 & 1 \\end{array} \\right)\n",
      "\\left( \n",
      "\\begin{array}{ccc}\n",
      "b_0 & b_1 & b_2\n",
      "\\end{array}\n",
      "\\right)\n",
      "$$"
     ]
    },
    {
     "cell_type": "code",
     "collapsed": false,
     "input": [
      "# Set up a system of 11 linear equations\n",
      "x = np.linspace(1,2,11)\n",
      "y = 6*x - 2 + npr.normal(0, 0.3, len(x))\n",
      "\n",
      "# Form the VanderMonde matrix\n",
      "A = np.vstack([x, np.ones(len(x))]).T\n",
      "\n",
      "# The linear algebra librayr has a lstsq() function \n",
      "# that will do the above calculaitons for us\n",
      "\n",
      "b, resids, rank, sv = la.lstsq(A, y)\n",
      "\n",
      "# Check against pseudoinverse and the normal equation\n",
      "print \"lstsq solution\".ljust(30), b\n",
      "print \"pseudoinverse solution\".ljust(30), dot(la.pinv(A), y)\n",
      "print \"normal euqation solution\".ljust(30), dot(dot(inv(dot(A.T, A)), A.T), y)\n",
      "\n",
      "# Now plot the solution\n",
      "xi = np.linspace(1,2,11)\n",
      "yi = b[0]*xi + b[1]\n",
      "\n",
      "plot(x, y, 'o')\n",
      "plot(xi, yi, 'r-');"
     ],
     "language": "python",
     "metadata": {},
     "outputs": [
      {
       "output_type": "stream",
       "stream": "stdout",
       "text": [
        "lstsq solution                 [ 6.1308 -2.2152]\n",
        "pseudoinverse solution         [ 6.1308 -2.2152]\n",
        "normal euqation solution       [ 6.1308 -2.2152]\n"
       ]
      },
      {
       "metadata": {},
       "output_type": "display_data",
       "png": "[encoded data removed]",
       "text": [
        "<matplotlib.figure.Figure at 0x10dca2a90>"
       ]
      }
     ],
     "prompt_number": 288
    },
    {
     "cell_type": "code",
     "collapsed": false,
     "input": [
      "# As advertised, this works for finding coeefficeints of a polynomial too\n",
      "\n",
      "x = np.linspace(0,2,11)\n",
      "y = 6*x*x + .5*x + 2 + npr.normal(0, 0.6, len(x))\n",
      "plot(x, y, 'o')\n",
      "A = np.vstack([x*x, x, np.ones(len(x))]).T\n",
      "b = la.lstsq(A, y)[0]\n",
      "\n",
      "xi = np.linspace(0,2,11)\n",
      "yi = b[0]*xi*xi + b[1]*xi + b[2]\n",
      "plot(xi, yi, 'r-');"
     ],
     "language": "python",
     "metadata": {},
     "outputs": [
      {
       "metadata": {},
       "output_type": "display_data",
       "png": "[encoded data removed]",
       "text": [
        "<matplotlib.figure.Figure at 0x10dcb0d90>"
       ]
      }
     ],
     "prompt_number": 289
    },
    {
     "cell_type": "code",
     "collapsed": false,
     "input": [],
     "language": "python",
     "metadata": {},
     "outputs": []
    }
   ],
   "metadata": {}
  }
 ]
}