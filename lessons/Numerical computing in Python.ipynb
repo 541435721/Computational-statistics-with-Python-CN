{
 "metadata": {
  "name": "",
  "signature": "sha256:613e2ca951e30c2b66f9829c952b7895b93fbde1bfad025750f5aaa091335a27"
 },
 "nbformat": 3,
 "nbformat_minor": 0,
 "worksheets": [
  {
   "cells": [
    {
     "cell_type": "markdown",
     "metadata": {},
     "source": [
      "Numerical computing in Python \n",
      "===="
     ]
    },
    {
     "cell_type": "code",
     "collapsed": false,
     "input": [
      "# Set up inline plotting\n",
      "%matplotlib inline\n",
      "import matplotlib.pyplot as plt"
     ],
     "language": "python",
     "metadata": {},
     "outputs": [],
     "prompt_number": 1
    },
    {
     "cell_type": "markdown",
     "metadata": {},
     "source": [
      "Numpy\n",
      "----"
     ]
    },
    {
     "cell_type": "code",
     "collapsed": false,
     "input": [
      "import numpy as np\n",
      "import numpy.random as npr\n",
      "import scipy.linalg as la\n",
      "np.set_printoptions(precision=4)"
     ],
     "language": "python",
     "metadata": {},
     "outputs": [],
     "prompt_number": 2
    },
    {
     "cell_type": "markdown",
     "metadata": {},
     "source": [
      "### Array indexing"
     ]
    },
    {
     "cell_type": "code",
     "collapsed": false,
     "input": [
      "# Create a 10 by 6 array from normal deviates and convert to ints\n",
      "n, nrows, ncols = 100, 10, 6\n",
      "xs = np.random.normal(n, 15, size=(nrows, ncols)).astype('int')\n",
      "xs"
     ],
     "language": "python",
     "metadata": {},
     "outputs": [
      {
       "metadata": {},
       "output_type": "pyout",
       "prompt_number": 3,
       "text": [
        "array([[100, 110, 101, 119, 112, 130],\n",
        "       [101, 100, 103, 112,  84,  70],\n",
        "       [ 95,  85, 113, 136, 108, 104],\n",
        "       [111,  96, 127, 112,  94,  96],\n",
        "       [108,  72,  95,  81, 104, 120],\n",
        "       [ 76, 115, 101,  85,  93, 133],\n",
        "       [101, 122, 100,  85, 104, 100],\n",
        "       [ 70,  72, 119, 105,  91, 101],\n",
        "       [ 92, 106,  95, 105,  95, 113],\n",
        "       [114,  89, 110, 114,  94,  89]])"
       ]
      }
     ],
     "prompt_number": 3
    },
    {
     "cell_type": "code",
     "collapsed": false,
     "input": [
      "# Use slice notation\n",
      "print(xs[0,0])\n",
      "print(xs[-1,-1])\n",
      "print(xs[3,:])\n",
      "print(xs[:,0])\n",
      "print(xs[::2,::2])\n",
      "print(xs[2:5,2:5])"
     ],
     "language": "python",
     "metadata": {},
     "outputs": [
      {
       "output_type": "stream",
       "stream": "stdout",
       "text": [
        "100\n",
        "89\n",
        "[111  96 127 112  94  96]\n",
        "[100 101  95 111 108  76 101  70  92 114]\n",
        "[[100 101 112]\n",
        " [ 95 113 108]\n",
        " [108  95 104]\n",
        " [101 100 104]\n",
        " [ 92  95  95]]\n",
        "[[113 136 108]\n",
        " [127 112  94]\n",
        " [ 95  81 104]]\n"
       ]
      }
     ],
     "prompt_number": 4
    },
    {
     "cell_type": "code",
     "collapsed": false,
     "input": [
      "#  Indexing with list of integers\n",
      "print(xs[0, [1,2,4,5]])"
     ],
     "language": "python",
     "metadata": {},
     "outputs": [
      {
       "output_type": "stream",
       "stream": "stdout",
       "text": [
        "[110 101 112 130]\n"
       ]
      }
     ],
     "prompt_number": 5
    },
    {
     "cell_type": "code",
     "collapsed": false,
     "input": [
      "# Boolean indexing\n",
      "print(xs[xs % 2 == 0])\n",
      "xs[xs % 2 == 0] = 0 # set even entries to zero\n",
      "print(xs)"
     ],
     "language": "python",
     "metadata": {},
     "outputs": [
      {
       "output_type": "stream",
       "stream": "stdout",
       "text": [
        "[100 110 112 130 100 112  84  70 136 108 104  96 112  94  96 108  72 104\n",
        " 120  76 122 100 104 100  70  72  92 106 114 110 114  94]\n",
        "[[  0   0 101 119   0   0]\n",
        " [101   0 103   0   0   0]\n",
        " [ 95  85 113   0   0   0]\n",
        " [111   0 127   0   0   0]\n",
        " [  0   0  95  81   0   0]\n",
        " [  0 115 101  85  93 133]\n",
        " [101   0   0  85   0   0]\n",
        " [  0   0 119 105  91 101]\n",
        " [  0   0  95 105  95 113]\n",
        " [  0  89   0   0   0  89]]\n"
       ]
      }
     ],
     "prompt_number": 6
    },
    {
     "cell_type": "markdown",
     "metadata": {},
     "source": [
      "### Broadcasting, row, column and matrix operations"
     ]
    },
    {
     "cell_type": "code",
     "collapsed": false,
     "input": [
      "# operations across rows, cols or entire matrix\n",
      "print(xs.max())\n",
      "print(xs.max(axis=0)) # max of each col\n",
      "print(xs.max(axis=1)) # max of each row"
     ],
     "language": "python",
     "metadata": {},
     "outputs": [
      {
       "output_type": "stream",
       "stream": "stdout",
       "text": [
        "133\n",
        "[111 115 127 119  95 133]\n",
        "[119 103 113 127  95 133 101 119 113  89]\n"
       ]
      }
     ],
     "prompt_number": 7
    },
    {
     "cell_type": "code",
     "collapsed": false,
     "input": [
      "# A funcitonal rather than object-oriented approacha also wokrs\n",
      "print(np.max(xs, axis=0))\n",
      "print(np.max(xs, axis=0))"
     ],
     "language": "python",
     "metadata": {},
     "outputs": [
      {
       "output_type": "stream",
       "stream": "stdout",
       "text": [
        "[111 115 127 119  95 133]\n",
        "[111 115 127 119  95 133]\n"
       ]
      }
     ],
     "prompt_number": 8
    },
    {
     "cell_type": "code",
     "collapsed": false,
     "input": [
      "# broadcasting\n",
      "xs = np.arange(12).reshape(2,6)\n",
      "print(xs, end='\\n\\n')\n",
      "print(xs * 10, end='\\n\\n')\n",
      "\n",
      "# broadcasting just works when doing column-wise operations\n",
      "col_means = xs.mean(axis=0)\n",
      "print(col_means, end='\\n\\n')\n",
      "print(xs + col_means, end='\\n\\n')\n",
      "\n",
      "# but needs a little more work for row-wise operations\n",
      "row_means = xs.mean(axis=1)[:, np.newaxis]\n",
      "print(row_means)\n",
      "print(xs + row_means)"
     ],
     "language": "python",
     "metadata": {},
     "outputs": [
      {
       "output_type": "stream",
       "stream": "stdout",
       "text": [
        "[[ 0  1  2  3  4  5]\n",
        " [ 6  7  8  9 10 11]]\n",
        "\n",
        "[[  0  10  20  30  40  50]\n",
        " [ 60  70  80  90 100 110]]\n",
        "\n",
        "[ 3.  4.  5.  6.  7.  8.]\n",
        "\n",
        "[[  3.   5.   7.   9.  11.  13.]\n",
        " [  9.  11.  13.  15.  17.  19.]]\n",
        "\n",
        "[[ 2.5]\n",
        " [ 8.5]]\n",
        "[[  2.5   3.5   4.5   5.5   6.5   7.5]\n",
        " [ 14.5  15.5  16.5  17.5  18.5  19.5]]\n"
       ]
      }
     ],
     "prompt_number": 9
    },
    {
     "cell_type": "code",
     "collapsed": false,
     "input": [
      "# convert matrix to have zero mean and unit standard deviation using col summary statistics\n",
      "print((xs - xs.mean(axis=0))/xs.std(axis=0))"
     ],
     "language": "python",
     "metadata": {},
     "outputs": [
      {
       "output_type": "stream",
       "stream": "stdout",
       "text": [
        "[[-1. -1. -1. -1. -1. -1.]\n",
        " [ 1.  1.  1.  1.  1.  1.]]\n"
       ]
      }
     ],
     "prompt_number": 10
    },
    {
     "cell_type": "code",
     "collapsed": false,
     "input": [
      "# convert matrix to have zero mean and unit standard deviation using row summary statistics\n",
      "print((xs - xs.mean(axis=1)[:, np.newaxis])/xs.std(axis=1)[:, np.newaxis])"
     ],
     "language": "python",
     "metadata": {},
     "outputs": [
      {
       "output_type": "stream",
       "stream": "stdout",
       "text": [
        "[[-1.4639 -0.8783 -0.2928  0.2928  0.8783  1.4639]\n",
        " [-1.4639 -0.8783 -0.2928  0.2928  0.8783  1.4639]]\n"
       ]
      }
     ],
     "prompt_number": 11
    },
    {
     "cell_type": "markdown",
     "metadata": {},
     "source": [
      "### Linear algebra\n",
      "\n",
      "In general, the linear algebra functions can be found in scipy.linalg. You can also get access to BLAS and LAPACK function via scipy.linagl.blas and scipy.linalg.lapack."
     ]
    },
    {
     "cell_type": "code",
     "collapsed": false,
     "input": [
      "A = np.array([[1,2],[3,4]])\n",
      "b = np.array([1,4])\n",
      "print(A)\n",
      "print(b)"
     ],
     "language": "python",
     "metadata": {},
     "outputs": [
      {
       "output_type": "stream",
       "stream": "stdout",
       "text": [
        "[[1 2]\n",
        " [3 4]]\n",
        "[1 4]\n"
       ]
      }
     ],
     "prompt_number": 12
    },
    {
     "cell_type": "code",
     "collapsed": false,
     "input": [
      "# Matrix operations\n",
      "import numpy as np\n",
      "import scipy.linalg as la\n",
      "from functools import reduce\n",
      "\n",
      "A = np.array([[1,2],[3,4]])\n",
      "print(np.dot(A, A))\n",
      "print(A)\n",
      "print(la.inv(A))\n",
      "print(A.T)"
     ],
     "language": "python",
     "metadata": {},
     "outputs": [
      {
       "output_type": "stream",
       "stream": "stdout",
       "text": [
        "[[ 7 10]\n",
        " [15 22]]\n",
        "[[1 2]\n",
        " [3 4]]\n",
        "[[-2.   1. ]\n",
        " [ 1.5 -0.5]]\n",
        "[[1 3]\n",
        " [2 4]]\n"
       ]
      }
     ],
     "prompt_number": 13
    },
    {
     "cell_type": "code",
     "collapsed": false,
     "input": [
      "x = la.solve(A, b) # do not use x = dot(inv(A), b) as it is inefficient and numerically unstable\n",
      "print(x)\n",
      "print(np.dot(A, x) - b)"
     ],
     "language": "python",
     "metadata": {},
     "outputs": [
      {
       "output_type": "stream",
       "stream": "stdout",
       "text": [
        "[ 2.  -0.5]\n",
        "[ -1.1102e-16  -8.8818e-16]\n"
       ]
      }
     ],
     "prompt_number": 14
    },
    {
     "cell_type": "markdown",
     "metadata": {},
     "source": [
      "### Matrix decompositions"
     ]
    },
    {
     "cell_type": "code",
     "collapsed": false,
     "input": [
      "A = npr.normal(100, 15, (6, 10)).astype('int')\n",
      "print(A)"
     ],
     "language": "python",
     "metadata": {},
     "outputs": [
      {
       "output_type": "stream",
       "stream": "stdout",
       "text": [
        "[[141 117  69 102  96  96  97  66 113 114]\n",
        " [ 94 106 107 109 121 106 106 138  90  92]\n",
        " [111  85 108  86 114  91 101  80  93 111]\n",
        " [ 97 100  84 111 107  93  90  87 111  99]\n",
        " [109  99 137 118 105  84  97 101  74  95]\n",
        " [129  95 107  91  85  91 106  79 102 100]]\n"
       ]
      }
     ],
     "prompt_number": 15
    },
    {
     "cell_type": "code",
     "collapsed": false,
     "input": [
      "P, L, U = la.lu(A)\n",
      "print(np.dot(P, A))\n",
      "print(np.dot(L, U))"
     ],
     "language": "python",
     "metadata": {},
     "outputs": [
      {
       "output_type": "stream",
       "stream": "stdout",
       "text": [
        "[[ 141.  117.   69.  102.   96.   96.   97.   66.  113.  114.]\n",
        " [  94.  106.  107.  109.  121.  106.  106.  138.   90.   92.]\n",
        " [ 109.   99.  137.  118.  105.   84.   97.  101.   74.   95.]\n",
        " [  97.  100.   84.  111.  107.   93.   90.   87.  111.   99.]\n",
        " [ 129.   95.  107.   91.   85.   91.  106.   79.  102.  100.]\n",
        " [ 111.   85.  108.   86.  114.   91.  101.   80.   93.  111.]]\n",
        "[[ 141.  117.   69.  102.   96.   96.   97.   66.  113.  114.]\n",
        " [  94.  106.  107.  109.  121.  106.  106.  138.   90.   92.]\n",
        " [ 129.   95.  107.   91.   85.   91.  106.   79.  102.  100.]\n",
        " [  97.  100.   84.  111.  107.   93.   90.   87.  111.   99.]\n",
        " [ 111.   85.  108.   86.  114.   91.  101.   80.   93.  111.]\n",
        " [ 109.   99.  137.  118.  105.   84.   97.  101.   74.   95.]]\n"
       ]
      }
     ],
     "prompt_number": 16
    },
    {
     "cell_type": "code",
     "collapsed": false,
     "input": [
      "Q, R = la.qr(A)\n",
      "print(A)\n",
      "print(np.dot(Q, R).astype('int'))"
     ],
     "language": "python",
     "metadata": {},
     "outputs": [
      {
       "output_type": "stream",
       "stream": "stdout",
       "text": [
        "[[141 117  69 102  96  96  97  66 113 114]\n",
        " [ 94 106 107 109 121 106 106 138  90  92]\n",
        " [111  85 108  86 114  91 101  80  93 111]\n",
        " [ 97 100  84 111 107  93  90  87 111  99]\n",
        " [109  99 137 118 105  84  97 101  74  95]\n",
        " [129  95 107  91  85  91 106  79 102 100]]\n",
        "[[140 116  68 101  95  95  96  65 112 113]\n",
        " [ 94 105 107 108 121 105 105 137  90  91]\n",
        " [110  84 107  86 113  90 101  80  92 110]\n",
        " [ 97  99  83 110 106  93  89  86 110  98]\n",
        " [109  98 137 117 104  83  96 100  73  94]\n",
        " [129  94 106  90  84  90 105  78 101  99]]\n"
       ]
      }
     ],
     "prompt_number": 17
    },
    {
     "cell_type": "code",
     "collapsed": false,
     "input": [
      "U, s, V = la.svd(A)\n",
      "m, n = A.shape\n",
      "S =  np.zeros((m, n))\n",
      "for i, _s in enumerate(s):\n",
      "    S[i,i] = _s\n",
      "print(reduce(np.dot, [U, S, V]))"
     ],
     "language": "python",
     "metadata": {},
     "outputs": [
      {
       "output_type": "stream",
       "stream": "stdout",
       "text": [
        "[[ 141.  117.   69.  102.   96.   96.   97.   66.  113.  114.]\n",
        " [  94.  106.  107.  109.  121.  106.  106.  138.   90.   92.]\n",
        " [ 111.   85.  108.   86.  114.   91.  101.   80.   93.  111.]\n",
        " [  97.  100.   84.  111.  107.   93.   90.   87.  111.   99.]\n",
        " [ 109.   99.  137.  118.  105.   84.   97.  101.   74.   95.]\n",
        " [ 129.   95.  107.   91.   85.   91.  106.   79.  102.  100.]]\n"
       ]
      }
     ],
     "prompt_number": 18
    },
    {
     "cell_type": "code",
     "collapsed": false,
     "input": [
      "B = np.cov(A)\n",
      "print(B)"
     ],
     "language": "python",
     "metadata": {},
     "outputs": [
      {
       "output_type": "stream",
       "stream": "stdout",
       "text": [
        "[[ 498.3222 -230.9889   73.5556  113.2333 -129.8778  189.2778]\n",
        " [-230.9889  205.2111  -68.8889  -44.5667   62.1    -142.6111]\n",
        " [  73.5556  -68.8889  157.1111   -3.7778   57.1111   92.1111]\n",
        " [ 113.2333  -44.5667   -3.7778   92.3222  -55.3444  -15.1667]\n",
        " [-129.8778   62.1      57.1111  -55.3444  303.4333   41.0556]\n",
        " [ 189.2778 -142.6111   92.1111  -15.1667   41.0556  195.6111]]\n"
       ]
      }
     ],
     "prompt_number": 19
    },
    {
     "cell_type": "code",
     "collapsed": false,
     "input": [
      "u, V = la.eig(B)\n",
      "print(np.dot(B, V))\n",
      "print(np.real(np.dot(V, np.diag(u))))"
     ],
     "language": "python",
     "metadata": {},
     "outputs": [
      {
       "output_type": "stream",
       "stream": "stdout",
       "text": [
        "[[ -6.0713e+02   2.3308e+01  -3.7833e+00  -5.4318e+01   2.2085e+01\n",
        "    3.2279e+00]\n",
        " [  3.4850e+02   3.5752e+01   4.7132e+00  -3.9019e+01   4.5126e+01\n",
        "   -9.0972e+00]\n",
        " [ -1.3085e+02  -1.4927e+02  -5.0222e-01   4.2155e+01   1.2269e+01\n",
        "   -7.2586e+01]\n",
        " [ -1.2723e+02   7.1831e+01   8.2358e+00  -5.6038e+01  -2.7015e+01\n",
        "   -3.6801e+01]\n",
        " [  1.7994e+02  -2.9028e+02  -2.3259e+00  -6.3256e+01  -1.0147e+01\n",
        "    7.3450e+00]\n",
        " [ -2.7878e+02  -1.5615e+02   9.1069e+00   3.4475e+01   8.3362e+00\n",
        "    3.7203e+01]]\n",
        "[[ -6.0713e+02   2.3308e+01  -3.7833e+00  -5.4318e+01   2.2085e+01\n",
        "    3.2279e+00]\n",
        " [  3.4850e+02   3.5752e+01   4.7132e+00  -3.9019e+01   4.5126e+01\n",
        "   -9.0972e+00]\n",
        " [ -1.3085e+02  -1.4927e+02  -5.0222e-01   4.2155e+01   1.2269e+01\n",
        "   -7.2586e+01]\n",
        " [ -1.2723e+02   7.1831e+01   8.2358e+00  -5.6038e+01  -2.7015e+01\n",
        "   -3.6801e+01]\n",
        " [  1.7994e+02  -2.9028e+02  -2.3259e+00  -6.3256e+01  -1.0147e+01\n",
        "    7.3450e+00]\n",
        " [ -2.7878e+02  -1.5615e+02   9.1069e+00   3.4475e+01   8.3362e+00\n",
        "    3.7203e+01]]\n"
       ]
      }
     ],
     "prompt_number": 20
    },
    {
     "cell_type": "code",
     "collapsed": false,
     "input": [
      "C = la.cholesky(B)\n",
      "print(np.dot(C.T, C)) # dot(C.T.conj(), C)\n",
      "print(B)"
     ],
     "language": "python",
     "metadata": {},
     "outputs": [
      {
       "output_type": "stream",
       "stream": "stdout",
       "text": [
        "[[ 498.3222 -230.9889   73.5556  113.2333 -129.8778  189.2778]\n",
        " [-230.9889  205.2111  -68.8889  -44.5667   62.1    -142.6111]\n",
        " [  73.5556  -68.8889  157.1111   -3.7778   57.1111   92.1111]\n",
        " [ 113.2333  -44.5667   -3.7778   92.3222  -55.3444  -15.1667]\n",
        " [-129.8778   62.1      57.1111  -55.3444  303.4333   41.0556]\n",
        " [ 189.2778 -142.6111   92.1111  -15.1667   41.0556  195.6111]]\n",
        "[[ 498.3222 -230.9889   73.5556  113.2333 -129.8778  189.2778]\n",
        " [-230.9889  205.2111  -68.8889  -44.5667   62.1    -142.6111]\n",
        " [  73.5556  -68.8889  157.1111   -3.7778   57.1111   92.1111]\n",
        " [ 113.2333  -44.5667   -3.7778   92.3222  -55.3444  -15.1667]\n",
        " [-129.8778   62.1      57.1111  -55.3444  303.4333   41.0556]\n",
        " [ 189.2778 -142.6111   92.1111  -15.1667   41.0556  195.6111]]\n"
       ]
      }
     ],
     "prompt_number": 21
    },
    {
     "cell_type": "markdown",
     "metadata": {},
     "source": [
      "### Least squares solution"
     ]
    },
    {
     "cell_type": "markdown",
     "metadata": {},
     "source": [
      "Suppose we want to solve a system of noisy linear equations\n",
      "\n",
      "$$\n",
      "y_1 = b_0 x_1 + b_1 \\\\\n",
      "y_2 = b_0 x_2 + b_1 \\\\\n",
      "y_3 = b_0 x_2 + b_1 \\\\\n",
      "y_4 = b_0 x_4 + b_1 \\\\\n",
      "$$\n",
      "\n",
      "Since the system is noisy (implies full rank) and overdetermined, we cannot find an exact solution. Instead, we will look for the least squares solution. First we can rewrrite in matrix notation $Y = AB$, treating $b_1$ as the coefficient of $x^0 = 1$:\n",
      "\n",
      "$$\n",
      "\\left(\n",
      "\\begin{array}{c}\n",
      "y_1 \\\\\n",
      "y_2 \\\\\n",
      "y_3 \\\\\n",
      "y_4 \n",
      "\\end{array} \n",
      "\\right) = \\left( \\begin{array}{cc}\n",
      "x_1 & 1 \\\\\n",
      "x_2 & 1 \\\\\n",
      "x_3 & 1 \\\\\n",
      "x_4 & 1 \\end{array} \\right)\n",
      "\\left( \n",
      "\\begin{array}{cc}\n",
      "b_0 & b_1 \n",
      "\\end{array}\n",
      "\\right)\n",
      "$$\n",
      "\n",
      "The solution of this (i.e. the $B$ matrix) is solved by multipling the psudoinverse of $A$ (the Vandermonde matrix) with $Y$\n",
      "\n",
      "$$\n",
      "(A^\\text{T}A)^{-1}A^\\text{T} Y\n",
      "$$\n",
      "\n",
      "Note that higher order polynomials have the same structure and can be solved in the same way\n",
      "\n",
      "$$\n",
      "\\left(\n",
      "\\begin{array}{c}\n",
      "y_1 \\\\\n",
      "y_2 \\\\\n",
      "y_3 \\\\\n",
      "y_4 \n",
      "\\end{array} \n",
      "\\right) = \\left( \\begin{array}{ccc}\n",
      "x_1^2 & x_1 & 1 \\\\\n",
      "x_2^2 & x_2 & 1 \\\\\n",
      "x_3^2 & x_3 & 1 \\\\\n",
      "x_4^2 & x_4 & 1 \\end{array} \\right)\n",
      "\\left( \n",
      "\\begin{array}{ccc}\n",
      "b_0 & b_1 & b_2\n",
      "\\end{array}\n",
      "\\right)\n",
      "$$"
     ]
    },
    {
     "cell_type": "code",
     "collapsed": false,
     "input": [
      "# Set up a system of 11 linear equations\n",
      "x = np.linspace(1,2,11)\n",
      "y = 6*x - 2 + npr.normal(0, 0.3, len(x))\n",
      "\n",
      "# Form the VanderMonde matrix\n",
      "A = np.vstack([x, np.ones(len(x))]).T\n",
      "\n",
      "# The linear algebra librayr has a lstsq() function \n",
      "# that will do the above calculaitons for us\n",
      "\n",
      "b, resids, rank, sv = la.lstsq(A, y)\n",
      "\n",
      "# Check against pseudoinverse and the normal equation\n",
      "print(\"lstsq solution\".ljust(30), b)\n",
      "print(\"pseudoinverse solution\".ljust(30), np.dot(la.pinv(A), y))\n",
      "print(\"normal euqation solution\".ljust(30), np.dot(np.dot(la.inv(np.dot(A.T, A)), A.T), y))\n",
      "\n",
      "# Now plot the solution\n",
      "xi = np.linspace(1,2,11)\n",
      "yi = b[0]*xi + b[1]\n",
      "\n",
      "plt.plot(x, y, 'o')\n",
      "plt.plot(xi, yi, 'r-');"
     ],
     "language": "python",
     "metadata": {},
     "outputs": [
      {
       "output_type": "stream",
       "stream": "stdout",
       "text": [
        "lstsq solution                 [ 6.2318 -2.4198]\n",
        "pseudoinverse solution         [ 6.2318 -2.4198]\n",
        "normal euqation solution       [ 6.2318 -2.4198]\n"
       ]
      },
      {
       "metadata": {},
       "output_type": "display_data",
       "png": "[encoded data removed]",
       "text": [
        "<matplotlib.figure.Figure at 0x1067e5470>"
       ]
      }
     ],
     "prompt_number": 22
    },
    {
     "cell_type": "code",
     "collapsed": false,
     "input": [
      "# As advertised, this works for finding coeefficeints of a polynomial too\n",
      "\n",
      "x = np.linspace(0,2,11)\n",
      "y = 6*x*x + .5*x + 2 + npr.normal(0, 0.6, len(x))\n",
      "plt.plot(x, y, 'o')\n",
      "A = np.vstack([x*x, x, np.ones(len(x))]).T\n",
      "b = la.lstsq(A, y)[0]\n",
      "\n",
      "xi = np.linspace(0,2,11)\n",
      "yi = b[0]*xi*xi + b[1]*xi + b[2]\n",
      "plt.plot(xi, yi, 'r-');"
     ],
     "language": "python",
     "metadata": {},
     "outputs": [
      {
       "metadata": {},
       "output_type": "display_data",
       "png": "[encoded data removed]",
       "text": [
        "<matplotlib.figure.Figure at 0x106817f98>"
       ]
      }
     ],
     "prompt_number": 23
    },
    {
     "cell_type": "code",
     "collapsed": false,
     "input": [
      "# It is important to understand what is going on,\n",
      "# but we don't have to work so hard to fit a polynomial\n",
      "\n",
      "b = np.random.randint(0, 10, 6)\n",
      "x = np.linspace(0, 1, 25)\n",
      "y = np.poly1d(b)(x) \n",
      "y += np.random.normal(0, 5, y.shape)\n",
      "\n",
      "p = np.poly1d(np.polyfit(x, y, len(b)-1))\n",
      "plt.plot(x, y, 'bo')\n",
      "plt.plot(x, p(x), 'r-')\n",
      "list(zip(b, p.coeffs))"
     ],
     "language": "python",
     "metadata": {},
     "outputs": [
      {
       "metadata": {},
       "output_type": "pyout",
       "prompt_number": 24,
       "text": [
        "[(7, 672.12833422685435),\n",
        " (1, -1612.0427741839192),\n",
        " (3, 1390.8064977304998),\n",
        " (7, -536.02170029819138),\n",
        " (3, 108.78788826483614),\n",
        " (1, -6.3318278906029715)]"
       ]
      },
      {
       "metadata": {},
       "output_type": "display_data",
       "png": "[encoded data removed]",
       "text": [
        "<matplotlib.figure.Figure at 0x1068a8e10>"
       ]
      }
     ],
     "prompt_number": 24
    },
    {
     "cell_type": "code",
     "collapsed": false,
     "input": [],
     "language": "python",
     "metadata": {},
     "outputs": [],
     "prompt_number": 24
    }
   ],
   "metadata": {}
  }
 ]
}