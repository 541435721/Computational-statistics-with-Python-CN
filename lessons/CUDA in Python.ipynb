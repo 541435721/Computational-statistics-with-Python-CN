{
 "metadata": {
  "name": "",
  "signature": "sha256:730107cce6b612db3c3246571f3247877392c1349e92d1a2fb1b2cd3e55d9686"
 },
 "nbformat": 3,
 "nbformat_minor": 0,
 "worksheets": [
  {
   "cells": [
    {
     "cell_type": "code",
     "collapsed": false,
     "input": [
      "import numpy as np\n",
      "from numbapro import cuda, vectorize\n",
      "import numbapro.cudalib.cufft as cufft "
     ],
     "language": "python",
     "metadata": {},
     "outputs": [],
     "prompt_number": 1
    },
    {
     "cell_type": "code",
     "collapsed": false,
     "input": [
      "%precision 4"
     ],
     "language": "python",
     "metadata": {},
     "outputs": [
      {
       "metadata": {},
       "output_type": "pyout",
       "prompt_number": 2,
       "text": [
        "u'%.4f'"
       ]
      }
     ],
     "prompt_number": 2
    },
    {
     "cell_type": "markdown",
     "metadata": {},
     "source": [
      "Replicating examples from [Accelerate R Applications with CUDA ](http://devblogs.nvidia.com/parallelforall/accelerate-r-applications-cuda/)\n",
      "----"
     ]
    },
    {
     "cell_type": "markdown",
     "metadata": {},
     "source": [
      "### FFT example"
     ]
    },
    {
     "cell_type": "code",
     "collapsed": false,
     "input": [
      "num = 4\n",
      "v = np.random.normal(0, 1, (num, 2))\n",
      "z = v[:,0] + 1j*v[:,1]\n",
      "print \"{:<20}\".format('Original'), z\n",
      "\n",
      "x_gpu = np.zeros(num, dtype='complex')\n",
      "cufft.fft(z, x_gpu)\n",
      "print \"{:<20}\".format('CUDA FFT'), x_gpu\n",
      "\n",
      "x_cpu = np.fft.fft(z)\n",
      "print \"{:<20}\".format('CPU  FFT'), x_cpu\n",
      "\n",
      "# NVidia IFFT returns unnormalzied results\n",
      "cufft.ifft(x_gpu, z) \n",
      "print \"{:<20}\".format('CUDA IFFT'), z/num\n",
      "\n",
      "x_cpu = np.fft.ifft(x_cpu)\n",
      "print \"{:<20}\".format('CPU  IFFT'), x_cpu"
     ],
     "language": "python",
     "metadata": {},
     "outputs": [
      {
       "output_type": "stream",
       "stream": "stdout",
       "text": [
        "Original             [-1.3536+0.3815j -1.2411+1.0137j  0.6321-0.1008j -0.2090-1.5019j]\n",
        "CUDA FFT            "
       ]
      },
      {
       "output_type": "stream",
       "stream": "stdout",
       "text": [
        " [-2.1716-0.2075j  0.5299+1.5144j  0.7287+0.7689j -4.5014-0.5499j]\n",
        "CPU  FFT             [-2.1716-0.2075j  0.5299+1.5144j  0.7287+0.7689j -4.5014-0.5499j]\n",
        "CUDA IFFT            [-1.3536+0.3815j -1.2411+1.0137j  0.6321-0.1008j -0.2090-1.5019j]\n",
        "CPU  IFFT            [-1.3536+0.3815j -1.2411+1.0137j  0.6321-0.1008j -0.2090-1.5019j]\n"
       ]
      }
     ],
     "prompt_number": 3
    },
    {
     "cell_type": "markdown",
     "metadata": {},
     "source": [
      "### Vector addition example"
     ]
    },
    {
     "cell_type": "markdown",
     "metadata": {},
     "source": [
      "#### Using CUDA Python to explicitly compile to PTX"
     ]
    },
    {
     "cell_type": "code",
     "collapsed": false,
     "input": [
      "@cuda.jit('void(float64[:,], float64[:], float64[:], int64)')\n",
      "def gvectorAdd(A, B, C, n):\n",
      "    i = cuda.grid(1)\n",
      "    if i < n:\n",
      "        C[i] = A[i] + B[i]"
     ],
     "language": "python",
     "metadata": {},
     "outputs": [],
     "prompt_number": 4
    },
    {
     "cell_type": "code",
     "collapsed": false,
     "input": [
      "A = np.arange(10, dtype=np.float64)\n",
      "B = np.arange(10, dtype=np.float64)\n",
      "C = np.empty_like(A)\n",
      "\n",
      "grid_dim = cuda.get_current_device().WARP_SIZE\n",
      "block_dim = 1\n",
      "\n",
      "gvectorAdd[grid_dim, block_dim](A, B, C, A.size)\n",
      "C"
     ],
     "language": "python",
     "metadata": {},
     "outputs": [
      {
       "metadata": {},
       "output_type": "pyout",
       "prompt_number": 5,
       "text": [
        "array([  0.,   2.,   4.,   6.,   8.,  10.,  12.,  14.,  16.,  18.])"
       ]
      }
     ],
     "prompt_number": 5
    },
    {
     "cell_type": "markdown",
     "metadata": {},
     "source": [
      "#### Using vectorize utility"
     ]
    },
    {
     "cell_type": "code",
     "collapsed": false,
     "input": [
      "@vectorize('float64(float64, float64)', target='gpu')\n",
      "def gvectorAdd2(A, B):\n",
      "    return A + B"
     ],
     "language": "python",
     "metadata": {},
     "outputs": [],
     "prompt_number": 6
    },
    {
     "cell_type": "code",
     "collapsed": false,
     "input": [
      "gvectorAdd2(A, B)"
     ],
     "language": "python",
     "metadata": {},
     "outputs": [
      {
       "metadata": {},
       "output_type": "pyout",
       "prompt_number": 7,
       "text": [
        "array([  0.,   2.,   4.,   6.,   8.,  10.,  12.,  14.,  16.,  18.])"
       ]
      }
     ],
     "prompt_number": 7
    },
    {
     "cell_type": "code",
     "collapsed": false,
     "input": [],
     "language": "python",
     "metadata": {},
     "outputs": [],
     "prompt_number": 7
    }
   ],
   "metadata": {}
  }
 ]
}