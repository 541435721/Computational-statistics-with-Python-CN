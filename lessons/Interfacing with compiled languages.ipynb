{
 "metadata": {
  "name": "",
  "signature": "sha256:fb089cea1e8cee8ead26119eb78eb2ee26adf9868dc27f75eac6fa8dc6c018c7"
 },
 "nbformat": 3,
 "nbformat_minor": 0,
 "worksheets": [
  {
   "cells": [
    {
     "cell_type": "markdown",
     "metadata": {},
     "source": [
      "Interfacing with compiled languages\n",
      "----\n",
      "\n",
      "Python is a high-level interpreted language, which greatly reduces the time taken to prototyte and develop useful statisticaln programs. However, the trade-off is that *pure* Python programs can be orders of magnitude slower than programs in compiled languages such as C/C++ or Forran. Hence most numerical and statistical programs often include interfaces to compiled code (e.g. numpy which is written in C) or more recently, are just-in-time compiled to native machine code (e.g. numba, pymc3). Fortunately, it is relatively easy to write custom modules that comple to native machine code and call them from Pytthon, an important factor in the popularity of Python as a langugae for scientific and statistical computing. "
     ]
    },
    {
     "cell_type": "code",
     "collapsed": false,
     "input": [
      "import numpy as np\n",
      "from numba import double, jit, autojit"
     ],
     "language": "python",
     "metadata": {},
     "outputs": [],
     "prompt_number": 75
    },
    {
     "cell_type": "code",
     "collapsed": false,
     "input": [
      "def pydot(xs, ys):\n",
      "    \"\"\"Return the dot proudct of two vectors u, v.\"\"\"\n",
      "    s = 0\n",
      "    for i in range(len(xs)):\n",
      "        s += xs[i] * ys[i]\n",
      "    return s"
     ],
     "language": "python",
     "metadata": {},
     "outputs": [],
     "prompt_number": 69
    },
    {
     "cell_type": "code",
     "collapsed": false,
     "input": [
      "# Calcuate Euclidean distance between two sequences\n",
      "def pydist(xs, ys):\n",
      "    s = 0\n",
      "    for (x, y) in zip(xs, ys):\n",
      "        s += ((x-y)**2)\n",
      "    return s**0.5\n",
      "\n",
      "def npdist(xs, ys):\n",
      "    return np.sqrt(np.dot((xs-ys), (xs-ys)))\n",
      "\n",
      "jitdist = autojit(pydist)"
     ],
     "language": "python",
     "metadata": {},
     "outputs": [],
     "prompt_number": 80
    },
    {
     "cell_type": "code",
     "collapsed": false,
     "input": [
      "n = 10**3\n",
      "xs = range(1, n+1)\n",
      "ys = list(np.zeros_like(xs))\n",
      "\n",
      "%timeit pydist(xs, ys)\n",
      "print(pydist(xs, ys))"
     ],
     "language": "python",
     "metadata": {},
     "outputs": [
      {
       "output_type": "stream",
       "stream": "stdout",
       "text": [
        "100 loops, best of 3: 2.62 ms per loop\n",
        "18271.1110773\n"
       ]
      }
     ],
     "prompt_number": 81
    },
    {
     "cell_type": "code",
     "collapsed": false,
     "input": [
      "n = 10**3\n",
      "xs = range(1, n+1)\n",
      "ys = list(np.zeros_like(xs))\n",
      "\n",
      "%timeit jitdist(xs, ys)\n",
      "print(jitdist(xs, ys))"
     ],
     "language": "python",
     "metadata": {},
     "outputs": [
      {
       "output_type": "stream",
       "stream": "stdout",
       "text": [
        "100 loops, best of 3: 2.58 ms per loop\n",
        "18271.1110773\n"
       ]
      }
     ],
     "prompt_number": 82
    },
    {
     "cell_type": "code",
     "collapsed": false,
     "input": [
      "n = 10**3\n",
      "xs = np.arange(1, n+1)\n",
      "ys = np.zeros_like(xs)\n",
      "\n",
      "%timeit npdist(xs, ys)\n",
      "print(npdist(xs, ys))"
     ],
     "language": "python",
     "metadata": {},
     "outputs": [
      {
       "output_type": "stream",
       "stream": "stdout",
       "text": [
        "100000 loops, best of 3: 10.3 \u00b5s per loop\n",
        "18271.1110773\n"
       ]
      }
     ],
     "prompt_number": 79
    },
    {
     "cell_type": "code",
     "collapsed": false,
     "input": [
      "n = 10**3\n",
      "xs = range(1, n+1)\n",
      "ys = np.array(xs)\n",
      "\n",
      "%timeit pydot(xs, xs)\n",
      "%timeit np.dot(xs, xs)"
     ],
     "language": "python",
     "metadata": {},
     "outputs": [
      {
       "output_type": "stream",
       "stream": "stdout",
       "text": [
        "1000 loops, best of 3: 468 \u00b5s per loop\n",
        "100 loops, best of 3: 2.52 ms per loop"
       ]
      },
      {
       "output_type": "stream",
       "stream": "stdout",
       "text": [
        "\n"
       ]
      }
     ],
     "prompt_number": 31
    },
    {
     "cell_type": "code",
     "collapsed": false,
     "input": [
      "%load_ext cythonmagic"
     ],
     "language": "python",
     "metadata": {},
     "outputs": [],
     "prompt_number": 32
    },
    {
     "cell_type": "code",
     "collapsed": false,
     "input": [
      "X = np.random.random((10, 3))"
     ],
     "language": "python",
     "metadata": {},
     "outputs": [],
     "prompt_number": 83
    },
    {
     "cell_type": "code",
     "collapsed": false,
     "input": [
      "X"
     ],
     "language": "python",
     "metadata": {},
     "outputs": [
      {
       "metadata": {},
       "output_type": "pyout",
       "prompt_number": 84,
       "text": [
        "array([[ 0.95085407,  0.5191667 ,  0.72366074],\n",
        "       [ 0.75301467,  0.43597801,  0.01067194],\n",
        "       [ 0.89447817,  0.87490258,  0.39726616],\n",
        "       [ 0.57844471,  0.84938617,  0.61916676],\n",
        "       [ 0.54610684,  0.86305812,  0.03444777],\n",
        "       [ 0.09657849,  0.22506137,  0.25296359],\n",
        "       [ 0.84504053,  0.49393419,  0.16781805],\n",
        "       [ 0.45864251,  0.39484091,  0.46687292],\n",
        "       [ 0.53852288,  0.0599175 ,  0.45365802],\n",
        "       [ 0.47993196,  0.62725661,  0.69472378]])"
       ]
      }
     ],
     "prompt_number": 84
    },
    {
     "cell_type": "code",
     "collapsed": false,
     "input": [
      "X[:, None, :]"
     ],
     "language": "python",
     "metadata": {},
     "outputs": [
      {
       "metadata": {},
       "output_type": "pyout",
       "prompt_number": 88,
       "text": [
        "array([[[ 0.95085407,  0.5191667 ,  0.72366074]],\n",
        "\n",
        "       [[ 0.75301467,  0.43597801,  0.01067194]],\n",
        "\n",
        "       [[ 0.89447817,  0.87490258,  0.39726616]],\n",
        "\n",
        "       [[ 0.57844471,  0.84938617,  0.61916676]],\n",
        "\n",
        "       [[ 0.54610684,  0.86305812,  0.03444777]],\n",
        "\n",
        "       [[ 0.09657849,  0.22506137,  0.25296359]],\n",
        "\n",
        "       [[ 0.84504053,  0.49393419,  0.16781805]],\n",
        "\n",
        "       [[ 0.45864251,  0.39484091,  0.46687292]],\n",
        "\n",
        "       [[ 0.53852288,  0.0599175 ,  0.45365802]],\n",
        "\n",
        "       [[ 0.47993196,  0.62725661,  0.69472378]]])"
       ]
      }
     ],
     "prompt_number": 88
    },
    {
     "cell_type": "code",
     "collapsed": false,
     "input": [
      " np.sqrt(((X[:, None, :] - X) ** 2).sum(-1))"
     ],
     "language": "python",
     "metadata": {},
     "outputs": []
    }
   ],
   "metadata": {}
  }
 ]
}