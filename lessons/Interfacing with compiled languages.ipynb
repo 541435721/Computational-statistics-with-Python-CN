{
 "metadata": {
  "name": "",
  "signature": "sha256:e7cefc654c200c6db6d02d9d14932486daeb3b64fb18f9fffb60e22dd50f76d2"
 },
 "nbformat": 3,
 "nbformat_minor": 0,
 "worksheets": [
  {
   "cells": [
    {
     "cell_type": "markdown",
     "metadata": {},
     "source": [
      "Interfacing with compiled languages\n",
      "----\n",
      "\n",
      "Python is a high-level interpreted language, which greatly reduces the time taken to prototyte and develop useful statisticaln programs. However, the trade-off is that *pure* Python programs can be orders of magnitude slower than programs in compiled languages such as C/C++ or Forran. Hence most numerical and statistical programs often include interfaces to compiled code (e.g. numpy which is written in C) or more recently, are just-in-time compiled to native machine code (e.g. numba, pymc3). Fortunately, it is relatively easy to write custom modules that comple to native machine code and call them from Pytthon, an important factor in the popularity of Python as a langugae for scientific and statistical computing. "
     ]
    },
    {
     "cell_type": "code",
     "collapsed": false,
     "input": [
      "%matplotlib inline\n",
      "import numpy as np\n",
      "import matplotlib.pyplot as plt"
     ],
     "language": "python",
     "metadata": {},
     "outputs": [],
     "prompt_number": 1
    },
    {
     "cell_type": "code",
     "collapsed": false,
     "input": [
      "from numba import double, jit, autojit"
     ],
     "language": "python",
     "metadata": {},
     "outputs": [],
     "prompt_number": 2
    },
    {
     "cell_type": "code",
     "collapsed": false,
     "input": [
      "def pydot(xs, ys):\n",
      "    \"\"\"Return the dot proudct of two vectors u, v.\"\"\"\n",
      "    s = 0\n",
      "    for i in range(len(xs)):\n",
      "        s += xs[i] * ys[i]\n",
      "    return s"
     ],
     "language": "python",
     "metadata": {},
     "outputs": [],
     "prompt_number": 3
    },
    {
     "cell_type": "code",
     "collapsed": false,
     "input": [
      "# Calcuate Euclidean distance between two sequences\n",
      "def pydist(xs, ys):\n",
      "    s = 0\n",
      "    for (x, y) in zip(xs, ys):\n",
      "        s += ((x-y)**2)\n",
      "    return s**0.5\n",
      "\n",
      "def npdist(xs, ys):\n",
      "    return np.sqrt(np.dot((xs-ys), (xs-ys)))\n",
      "\n",
      "jitdist = autojit(pydist)"
     ],
     "language": "python",
     "metadata": {},
     "outputs": [],
     "prompt_number": 4
    },
    {
     "cell_type": "code",
     "collapsed": false,
     "input": [
      "n = 10**3\n",
      "xs = range(1, n+1)\n",
      "ys = list(np.zeros_like(xs))\n",
      "\n",
      "%timeit pydist(xs, ys)\n",
      "print(pydist(xs, ys))"
     ],
     "language": "python",
     "metadata": {},
     "outputs": [
      {
       "output_type": "stream",
       "stream": "stdout",
       "text": [
        "100 loops, best of 3: 3.14 ms per loop\n",
        "18271.1110773\n"
       ]
      }
     ],
     "prompt_number": 5
    },
    {
     "cell_type": "code",
     "collapsed": false,
     "input": [
      "n = 10**3\n",
      "xs = range(1, n+1)\n",
      "ys = list(np.zeros_like(xs))\n",
      "\n",
      "%timeit jitdist(xs, ys)\n",
      "print(jitdist(xs, ys))"
     ],
     "language": "python",
     "metadata": {},
     "outputs": [
      {
       "output_type": "stream",
       "stream": "stdout",
       "text": [
        "1 loops, best of 3: 2.76 ms per loop\n",
        "18271.1110773\n"
       ]
      }
     ],
     "prompt_number": 6
    },
    {
     "cell_type": "code",
     "collapsed": false,
     "input": [
      "n = 10**3\n",
      "xs = np.arange(1, n+1)\n",
      "ys = np.zeros_like(xs)\n",
      "\n",
      "%timeit npdist(xs, ys)\n",
      "print(npdist(xs, ys))"
     ],
     "language": "python",
     "metadata": {},
     "outputs": [
      {
       "output_type": "stream",
       "stream": "stdout",
       "text": [
        "100000 loops, best of 3: 12.3 \u00b5s per loop\n",
        "18271.1110773\n"
       ]
      }
     ],
     "prompt_number": 7
    },
    {
     "cell_type": "code",
     "collapsed": false,
     "input": [
      "n = 10**3\n",
      "xs = range(1, n+1)\n",
      "ys = np.array(xs)\n",
      "\n",
      "%timeit pydot(xs, xs)\n",
      "%timeit np.dot(xs, xs)"
     ],
     "language": "python",
     "metadata": {},
     "outputs": [
      {
       "output_type": "stream",
       "stream": "stdout",
       "text": [
        "10000 loops, best of 3: 162 \u00b5s per loop\n",
        "1000 loops, best of 3: 543 \u00b5s per loop"
       ]
      },
      {
       "output_type": "stream",
       "stream": "stdout",
       "text": [
        "\n"
       ]
      }
     ],
     "prompt_number": 8
    },
    {
     "cell_type": "code",
     "collapsed": false,
     "input": [
      "%load_ext cythonmagic"
     ],
     "language": "python",
     "metadata": {},
     "outputs": [],
     "prompt_number": 9
    },
    {
     "cell_type": "code",
     "collapsed": false,
     "input": [
      "X = np.random.random((10, 3))"
     ],
     "language": "python",
     "metadata": {},
     "outputs": [],
     "prompt_number": 10
    },
    {
     "cell_type": "code",
     "collapsed": false,
     "input": [
      "X"
     ],
     "language": "python",
     "metadata": {},
     "outputs": [
      {
       "metadata": {},
       "output_type": "pyout",
       "prompt_number": 11,
       "text": [
        "array([[ 0.08659335,  0.01418951,  0.75827069],\n",
        "       [ 0.13028991,  0.86470627,  0.34539949],\n",
        "       [ 0.90196391,  0.51077579,  0.91043422],\n",
        "       [ 0.29741667,  0.35369074,  0.88662786],\n",
        "       [ 0.8104622 ,  0.97161683,  0.94836663],\n",
        "       [ 0.13456844,  0.45917427,  0.52955074],\n",
        "       [ 0.73077534,  0.8786843 ,  0.17552974],\n",
        "       [ 0.46054497,  0.76393055,  0.81164633],\n",
        "       [ 0.6942463 ,  0.05274337,  0.07490104],\n",
        "       [ 0.75483198,  0.16431996,  0.85721309]])"
       ]
      }
     ],
     "prompt_number": 11
    },
    {
     "cell_type": "code",
     "collapsed": false,
     "input": [
      "X[:, None, :]"
     ],
     "language": "python",
     "metadata": {},
     "outputs": [
      {
       "metadata": {},
       "output_type": "pyout",
       "prompt_number": 12,
       "text": [
        "array([[[ 0.08659335,  0.01418951,  0.75827069]],\n",
        "\n",
        "       [[ 0.13028991,  0.86470627,  0.34539949]],\n",
        "\n",
        "       [[ 0.90196391,  0.51077579,  0.91043422]],\n",
        "\n",
        "       [[ 0.29741667,  0.35369074,  0.88662786]],\n",
        "\n",
        "       [[ 0.8104622 ,  0.97161683,  0.94836663]],\n",
        "\n",
        "       [[ 0.13456844,  0.45917427,  0.52955074]],\n",
        "\n",
        "       [[ 0.73077534,  0.8786843 ,  0.17552974]],\n",
        "\n",
        "       [[ 0.46054497,  0.76393055,  0.81164633]],\n",
        "\n",
        "       [[ 0.6942463 ,  0.05274337,  0.07490104]],\n",
        "\n",
        "       [[ 0.75483198,  0.16431996,  0.85721309]]])"
       ]
      }
     ],
     "prompt_number": 12
    },
    {
     "cell_type": "code",
     "collapsed": false,
     "input": [
      " np.sqrt(((X[:, None, :] - X) ** 2).sum(-1))"
     ],
     "language": "python",
     "metadata": {},
     "outputs": [
      {
       "metadata": {},
       "output_type": "pyout",
       "prompt_number": 13,
       "text": [
        "array([[ 0.        ,  0.94644111,  0.9667372 ,  0.41974174,  1.21523234,\n",
        "         0.50261901,  1.22552384,  0.83952391,  0.91527186,  0.6920055 ],\n",
        "       [ 0.94644111,  0.        ,  1.01980969,  0.76288687,  0.91522325,\n",
        "         0.44540565,  0.6242066 ,  0.58018124,  1.02493901,  1.06889988],\n",
        "       [ 0.9667372 ,  1.01980969,  0.        ,  0.62507585,  0.47136599,\n",
        "         0.85827196,  0.83949198,  0.51835998,  0.97522099,  0.38014725],\n",
        "       [ 0.41974174,  0.76288687,  0.62507585,  0.        ,  0.80551849,\n",
        "         0.406387  ,  0.98441785,  0.44780551,  0.95233582,  0.49593879],\n",
        "       [ 1.21523234,  0.91522325,  0.47136599,  0.80551849,  0.        ,\n",
        "         0.94595798,  0.78247256,  0.4292646 ,  1.27309729,  0.81432913],\n",
        "       [ 0.50261901,  0.44540565,  0.85827196,  0.406387  ,  0.94595798,\n",
        "         0.        ,  0.810421  ,  0.52793467,  0.82772685,  0.76093925],\n",
        "       [ 1.22552384,  0.6242066 ,  0.83949198,  0.98441785,  0.78247256,\n",
        "         0.810421  ,  0.        ,  0.70059774,  0.83284988,  0.98771824],\n",
        "       [ 0.83952391,  0.58018124,  0.51835998,  0.44780551,  0.4292646 ,\n",
        "         0.52793467,  0.70059774,  0.        ,  1.05033192,  0.66948789],\n",
        "       [ 0.91527186,  1.02493901,  0.97522099,  0.95233582,  1.27309729,\n",
        "         0.82772685,  0.83284988,  1.05033192,  0.        ,  0.79254786],\n",
        "       [ 0.6920055 ,  1.06889988,  0.38014725,  0.49593879,  0.81432913,\n",
        "         0.76093925,  0.98771824,  0.66948789,  0.79254786,  0.        ]])"
       ]
      }
     ],
     "prompt_number": 13
    },
    {
     "cell_type": "code",
     "collapsed": false,
     "input": [],
     "language": "python",
     "metadata": {},
     "outputs": []
    }
   ],
   "metadata": {}
  }
 ]
}