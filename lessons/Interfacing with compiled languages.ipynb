{
 "metadata": {
  "name": "",
  "signature": "sha256:0833fa4f9728460ea0b354670232e38ef5ddd48a66d615b0a82a07e3999800a3"
 },
 "nbformat": 3,
 "nbformat_minor": 0,
 "worksheets": [
  {
   "cells": [
    {
     "cell_type": "markdown",
     "metadata": {},
     "source": [
      "Interfacing with compiled languages\n",
      "----\n",
      "\n",
      "Python is a high-level interpreted language, which greatly reduces the time taken to prototyte and develop useful statistical programs. However, the trade-off is that *pure* Python programs can be orders of magnitude slower than programs in compiled languages such as C/C++ or Forran. Hence most numerical and statistical programs often include interfaces to compiled code (e.g. numpy which is written in C) or more recently, are just-in-time compiled to native machine code (e.g. numba, pymc3). Fortunately, it is relatively easy to write custom modules that comple to native machine code and call them from Pytthon, an important factor in the popularity of Python as a langugae for scientific and statistical computing. \n",
      "\n",
      "We will use the example of calculating the pairwsise Euclidean distance between all points to illustrate the various methods of interfacing with native code.\n",
      "\n",
      "Adapted and extended from <http://nbviewer.ipython.org/url/jakevdp.github.io/downloads/notebooks/NumbaCython.ipynb>"
     ]
    },
    {
     "cell_type": "code",
     "collapsed": false,
     "input": [
      "%matplotlib inline\n",
      "import numpy as np\n",
      "import matplotlib.pyplot as plt\n",
      "from numba import jit\n",
      "import numexpr as ne\n",
      "# np.set_printoptions(precision=2)"
     ],
     "language": "python",
     "metadata": {},
     "outputs": [],
     "prompt_number": 1
    },
    {
     "cell_type": "markdown",
     "metadata": {},
     "source": [
      "### Make up some test data for use later"
     ]
    },
    {
     "cell_type": "code",
     "collapsed": false,
     "input": [
      "A = np.array([[0.0,0.0],[3.0,4.0]])\n",
      "n = 1000\n",
      "p = 3\n",
      "xs = np.random.random((n, p))"
     ],
     "language": "python",
     "metadata": {},
     "outputs": [],
     "prompt_number": 2
    },
    {
     "cell_type": "markdown",
     "metadata": {},
     "source": [
      "### \"Pure\" Python version"
     ]
    },
    {
     "cell_type": "code",
     "collapsed": false,
     "input": [
      "def pdist_python(xs):\n",
      "    n, p = xs.shape\n",
      "    D = np.empty((n, n), np.float)\n",
      "    for i in range(n):\n",
      "        for j in range(n):\n",
      "            s = 0.0\n",
      "            for k in range(p):\n",
      "                tmp = xs[i,k] - xs[j,k]\n",
      "                s += tmp * tmp\n",
      "            D[i, j] = s**0.5\n",
      "    return D"
     ],
     "language": "python",
     "metadata": {},
     "outputs": [],
     "prompt_number": 3
    },
    {
     "cell_type": "code",
     "collapsed": false,
     "input": [
      "print pdist_python(A)\n",
      "%timeit pdist_python(xs)"
     ],
     "language": "python",
     "metadata": {},
     "outputs": [
      {
       "output_type": "stream",
       "stream": "stdout",
       "text": [
        "[[ 0.  5.]\n",
        " [ 5.  0.]]\n",
        "1 loops, best of 3: 7.98 s per loop"
       ]
      },
      {
       "output_type": "stream",
       "stream": "stdout",
       "text": [
        "\n"
       ]
      }
     ],
     "prompt_number": 4
    },
    {
     "cell_type": "markdown",
     "metadata": {},
     "source": [
      "### Numpy version\n",
      "\n",
      "The numpy version makes use of advanced broadcasting. To follow the code below, we will have to understand numpy broadcasting rules a little better. Here is the gist from:\n",
      "\n",
      "From <http://docs.scipy.org/doc/numpy/reference/arrays.indexing.html#numpy.newaxis>\n",
      "\n",
      "When operating on two arrays, NumPy compares their shapes element-wise. It starts with the trailing dimensions, and works its way forward. Two dimensions are compatible when\n",
      "\n",
      "* they are equal, or\n",
      "* one of them is 1\n",
      "\n",
      "Arrays do not need to have the same number of dimensions. When either of the dimensions compared is one, the larger of the two is used. In other words, the smaller of two axes is stretched or \u201ccopied\u201d to match the other."
     ]
    },
    {
     "cell_type": "markdown",
     "metadata": {},
     "source": [
      "#### Distance between scalars"
     ]
    },
    {
     "cell_type": "code",
     "collapsed": false,
     "input": [
      "x = np.arange(10)\n",
      "x"
     ],
     "language": "python",
     "metadata": {},
     "outputs": [
      {
       "metadata": {},
       "output_type": "pyout",
       "prompt_number": 5,
       "text": [
        "array([0, 1, 2, 3, 4, 5, 6, 7, 8, 9])"
       ]
      }
     ],
     "prompt_number": 5
    },
    {
     "cell_type": "code",
     "collapsed": false,
     "input": [
      "# if we insert an extra dimension into x with np.newaxis\n",
      "# we get a (10, 1) matrix\n",
      "x[:, np.newaxis].shape"
     ],
     "language": "python",
     "metadata": {},
     "outputs": [
      {
       "metadata": {},
       "output_type": "pyout",
       "prompt_number": 6,
       "text": [
        "(10, 1)"
       ]
      }
     ],
     "prompt_number": 6
    },
    {
     "cell_type": "code",
     "collapsed": false,
     "input": [
      "# if we insert an extra dimension into x with np.newaxis\n",
      "# we get a (10, 1) matrix\n",
      "x[:, np.newaxis].shape"
     ],
     "language": "python",
     "metadata": {},
     "outputs": [
      {
       "metadata": {},
       "output_type": "pyout",
       "prompt_number": 7,
       "text": [
        "(10, 1)"
       ]
      }
     ],
     "prompt_number": 7
    },
    {
     "cell_type": "markdown",
     "metadata": {},
     "source": [
      "Comparing shape\n",
      "\n",
      "```\n",
      "x[:, None] = 10 x 1\n",
      "x          =     10\n",
      "```\n",
      "\n",
      "When we subtract the two arrays, broadcasting rules first match the the trailing axis to 10 (so x[:, None] is stretched to be (10,10)), and then matching the next axis, x is stretechd to also be (10,10)."
     ]
    },
    {
     "cell_type": "code",
     "collapsed": false,
     "input": [
      "# This is the pairwise distance matrix!\n",
      "x[:, None] - x"
     ],
     "language": "python",
     "metadata": {},
     "outputs": [
      {
       "metadata": {},
       "output_type": "pyout",
       "prompt_number": 8,
       "text": [
        "array([[ 0, -1, -2, -3, -4, -5, -6, -7, -8, -9],\n",
        "       [ 1,  0, -1, -2, -3, -4, -5, -6, -7, -8],\n",
        "       [ 2,  1,  0, -1, -2, -3, -4, -5, -6, -7],\n",
        "       [ 3,  2,  1,  0, -1, -2, -3, -4, -5, -6],\n",
        "       [ 4,  3,  2,  1,  0, -1, -2, -3, -4, -5],\n",
        "       [ 5,  4,  3,  2,  1,  0, -1, -2, -3, -4],\n",
        "       [ 6,  5,  4,  3,  2,  1,  0, -1, -2, -3],\n",
        "       [ 7,  6,  5,  4,  3,  2,  1,  0, -1, -2],\n",
        "       [ 8,  7,  6,  5,  4,  3,  2,  1,  0, -1],\n",
        "       [ 9,  8,  7,  6,  5,  4,  3,  2,  1,  0]])"
       ]
      }
     ],
     "prompt_number": 8
    },
    {
     "cell_type": "markdown",
     "metadata": {},
     "source": [
      "#### Distance between vectors"
     ]
    },
    {
     "cell_type": "code",
     "collapsed": false,
     "input": [
      "# Suppose we have a collection of vectors of dimeniosn 2\n",
      "# In the example below, there are 5 such 2-vectors\n",
      "# We want to calculate the Euclidean distance \n",
      "# for all pair-wise comparisons in a 5 x 5 matrix\n",
      "\n",
      "x = np.arange(10).reshape(5,2)\n",
      "print x.shape\n",
      "print x"
     ],
     "language": "python",
     "metadata": {},
     "outputs": [
      {
       "output_type": "stream",
       "stream": "stdout",
       "text": [
        "(5, 2)\n",
        "[[0 1]\n",
        " [2 3]\n",
        " [4 5]\n",
        " [6 7]\n",
        " [8 9]]\n"
       ]
      }
     ],
     "prompt_number": 9
    },
    {
     "cell_type": "code",
     "collapsed": false,
     "input": [
      "x[:, None, :].shape"
     ],
     "language": "python",
     "metadata": {},
     "outputs": [
      {
       "metadata": {},
       "output_type": "pyout",
       "prompt_number": 10,
       "text": [
        "(5, 1, 2)"
       ]
      }
     ],
     "prompt_number": 10
    },
    {
     "cell_type": "markdown",
     "metadata": {},
     "source": [
      "Comparing shape\n",
      "\n",
      "```\n",
      "x[:, None, :] = 5 x 1 x 2\n",
      "x          =        5 x 2\n",
      "```\n",
      "\n",
      "From the rules of broadcasting, we expect the result of subtraction to be a 5 x 5 x 2 array. To calculate Euclidean distance, we need to find the square root of the sum of squares for the 5 x 5 collection of 2-vectors."
     ]
    },
    {
     "cell_type": "code",
     "collapsed": false,
     "input": [
      "delta = x[:, None, :] - x\n",
      "pdist = np.sqrt((delta**2).sum(-1))\n",
      "pdist"
     ],
     "language": "python",
     "metadata": {},
     "outputs": [
      {
       "metadata": {},
       "output_type": "pyout",
       "prompt_number": 11,
       "text": [
        "array([[  0.        ,   2.82842712,   5.65685425,   8.48528137,  11.3137085 ],\n",
        "       [  2.82842712,   0.        ,   2.82842712,   5.65685425,\n",
        "          8.48528137],\n",
        "       [  5.65685425,   2.82842712,   0.        ,   2.82842712,\n",
        "          5.65685425],\n",
        "       [  8.48528137,   5.65685425,   2.82842712,   0.        ,\n",
        "          2.82842712],\n",
        "       [ 11.3137085 ,   8.48528137,   5.65685425,   2.82842712,   0.        ]])"
       ]
      }
     ],
     "prompt_number": 11
    },
    {
     "cell_type": "markdown",
     "metadata": {},
     "source": [
      "#### Finally, we come to the anti-climax - a one-liner function!"
     ]
    },
    {
     "cell_type": "code",
     "collapsed": false,
     "input": [
      "def pdist_numpy(xs):\n",
      "    return np.sqrt(((xs[:,None,:] - xs)**2).sum(-1))"
     ],
     "language": "python",
     "metadata": {},
     "outputs": [],
     "prompt_number": 12
    },
    {
     "cell_type": "code",
     "collapsed": false,
     "input": [
      "print pdist_numpy(A)\n",
      "%timeit pdist_numpy(xs)"
     ],
     "language": "python",
     "metadata": {},
     "outputs": [
      {
       "output_type": "stream",
       "stream": "stdout",
       "text": [
        "[[ 0.  5.]\n",
        " [ 5.  0.]]\n",
        "10 loops, best of 3: 63.8 ms per loop"
       ]
      },
      {
       "output_type": "stream",
       "stream": "stdout",
       "text": [
        "\n"
       ]
      }
     ],
     "prompt_number": 13
    },
    {
     "cell_type": "markdown",
     "metadata": {},
     "source": [
      "### Numexpr version"
     ]
    },
    {
     "cell_type": "code",
     "collapsed": false,
     "input": [
      "def pdist_numexpr(xs):\n",
      "    a = xs[:, np.newaxis, :]\n",
      "    return np.sqrt(ne.evaluate('sum((a-xs)**2, axis=2)'))"
     ],
     "language": "python",
     "metadata": {},
     "outputs": [],
     "prompt_number": 14
    },
    {
     "cell_type": "code",
     "collapsed": false,
     "input": [
      "print pdist_numexpr(A)\n",
      "%timeit pdist_numexpr(xs)"
     ],
     "language": "python",
     "metadata": {},
     "outputs": [
      {
       "output_type": "stream",
       "stream": "stdout",
       "text": [
        "[[ 0.  5.]\n",
        " [ 5.  0.]]\n",
        "10 loops, best of 3: 26.4 ms per loop"
       ]
      },
      {
       "output_type": "stream",
       "stream": "stdout",
       "text": [
        "\n"
       ]
      }
     ],
     "prompt_number": 15
    },
    {
     "cell_type": "markdown",
     "metadata": {},
     "source": [
      "### Numba version"
     ]
    },
    {
     "cell_type": "code",
     "collapsed": false,
     "input": [
      "pdist_numba1 = jit(pdist_python)"
     ],
     "language": "python",
     "metadata": {},
     "outputs": [],
     "prompt_number": 16
    },
    {
     "cell_type": "code",
     "collapsed": false,
     "input": [
      "print pdist_numba1(A)\n",
      "%timeit pdist_numba1(xs)"
     ],
     "language": "python",
     "metadata": {},
     "outputs": [
      {
       "output_type": "stream",
       "stream": "stdout",
       "text": [
        "[[ 0.  5.]\n",
        " [ 5.  0.]]\n",
        "100 loops, best of 3: 18.5 ms per loop"
       ]
      },
      {
       "output_type": "stream",
       "stream": "stdout",
       "text": [
        "\n"
       ]
      }
     ],
     "prompt_number": 17
    },
    {
     "cell_type": "code",
     "collapsed": false,
     "input": [
      "# We can gain more speed-up by passing in the output array as a variable\n",
      "\n",
      "@jit\n",
      "def pdist_numba2(xs, D):\n",
      "    n, p = xs.shape\n",
      "    for i in range(n):\n",
      "        for j in range(n):\n",
      "            s = 0.0\n",
      "            for k in range(p):\n",
      "                tmp = xs[i,k] - xs[j,k]\n",
      "                s += tmp * tmp\n",
      "            D[i, j] = s**0.5"
     ],
     "language": "python",
     "metadata": {},
     "outputs": [],
     "prompt_number": 18
    },
    {
     "cell_type": "code",
     "collapsed": false,
     "input": [
      "dA = np.empty(A.shape, np.float)\n",
      "pdist_numba2(A, dA)\n",
      "print dA\n",
      "D = np.empty((n,n), np.float)\n",
      "%timeit pdist_numba2(xs, D)"
     ],
     "language": "python",
     "metadata": {},
     "outputs": [
      {
       "output_type": "stream",
       "stream": "stdout",
       "text": [
        "[[ 0.  5.]\n",
        " [ 5.  0.]]\n",
        "100 loops, best of 3: 14.9 ms per loop"
       ]
      },
      {
       "output_type": "stream",
       "stream": "stdout",
       "text": [
        "\n"
       ]
      }
     ],
     "prompt_number": 19
    },
    {
     "cell_type": "markdown",
     "metadata": {},
     "source": [
      "### Cython version\n",
      "\n",
      "For more control over the translation to C, most Python scientific developers will use the Cython package. Essentially, this is a language that resembles Python with type annotations. The Cython code is then compiled into native code tranaparently."
     ]
    },
    {
     "cell_type": "code",
     "collapsed": false,
     "input": [
      "%load_ext cythonmagic"
     ],
     "language": "python",
     "metadata": {},
     "outputs": [],
     "prompt_number": 20
    },
    {
     "cell_type": "code",
     "collapsed": false,
     "input": [
      "%%cython\n",
      "\n",
      "import numpy as np\n",
      "cimport cython\n",
      "from libc.math cimport sqrt\n",
      "\n",
      "@cython.boundscheck(False)\n",
      "@cython.wraparound(False)\n",
      "def pdist_cython(double[:, ::1] xs):\n",
      "    cdef int n = xs.shape[0]\n",
      "    cdef int p = xs.shape[1]\n",
      "    cdef double tmp, d\n",
      "    cdef double[:, ::1] D = np.empty((n, n), dtype=np.float)\n",
      "    for i in range(n):\n",
      "        for j in range(n):\n",
      "            d = 0.0\n",
      "            for k in range(p):\n",
      "                tmp = xs[i, k] - xs[j, k]\n",
      "                d += tmp * tmp\n",
      "            D[i, j] = sqrt(d)\n",
      "    return np.asarray(D)"
     ],
     "language": "python",
     "metadata": {},
     "outputs": [],
     "prompt_number": 21
    },
    {
     "cell_type": "code",
     "collapsed": false,
     "input": [
      "print pdist_cython(A)\n",
      "%timeit pdist_cython(xs)"
     ],
     "language": "python",
     "metadata": {},
     "outputs": [
      {
       "output_type": "stream",
       "stream": "stdout",
       "text": [
        "[[ 0.  5.]\n",
        " [ 5.  0.]]\n",
        "100 loops, best of 3: 8.79 ms per loop"
       ]
      },
      {
       "output_type": "stream",
       "stream": "stdout",
       "text": [
        "\n"
       ]
      }
     ],
     "prompt_number": 22
    },
    {
     "cell_type": "markdown",
     "metadata": {},
     "source": [
      "### C version\n",
      "\n",
      "There are many ways to wrap C code for Python, such as [Swig](http://www.swig.org/) or [Boost Python with numpy](https://github.com/ndarray/Boost.NumPy). However, the standard library comes with [ctypes](https://docs.python.org/2/library/ctypes.html), a foreign function library that can be used to wrap C functions for use in pure python. This involves a little more work than the other approaches as shown below."
     ]
    },
    {
     "cell_type": "code",
     "collapsed": false,
     "input": [
      "%%file pdist_c.c\n",
      "#include <math.h>\n",
      "\n",
      "void pdist_c(int n, int p, double xs[n*p], double D[n*n]) {\n",
      "    for (int i=0; i<n; i++) {\n",
      "        for (int j=0; j<n; j++) {\n",
      "            double s = 0.0;\n",
      "            for (int k=0; k<p; k++) {\n",
      "                double tmp = xs[i*p+k] - xs[j*p+k];\n",
      "                s += tmp*tmp;\n",
      "            }\n",
      "            D[i*n+j] = sqrt(s);\n",
      "        }\n",
      "    }\n",
      "}"
     ],
     "language": "python",
     "metadata": {},
     "outputs": [
      {
       "output_type": "stream",
       "stream": "stdout",
       "text": [
        "Overwriting pdist_c.c\n"
       ]
      }
     ],
     "prompt_number": 23
    },
    {
     "cell_type": "code",
     "collapsed": false,
     "input": [
      "# Compile to a shared library\n",
      "! gcc -bundle -undefined dynamic_lookup pdist_c.c -o pdist_c.so\n",
      "# Linux: gcc -shared pdist_c.c -o pdist_c.so"
     ],
     "language": "python",
     "metadata": {},
     "outputs": [],
     "prompt_number": 24
    },
    {
     "cell_type": "code",
     "collapsed": false,
     "input": [
      "from ctypes import CDLL, c_int, c_void_p\n",
      "\n",
      "def pdist_c(xs):\n",
      "\n",
      "    # Use ctypes to load the library\n",
      "    lib = CDLL('./pdist_c.so')\n",
      "\n",
      "    # We need to give the argument adn return types explicitly\n",
      "    lib.pdist_c.argtypes = [c_int, c_int, np.ctypeslib.ndpointer(dtype = np.float), np.ctypeslib.ndpointer(dtype = np.float)]\n",
      "    lib.pdist_c.restype  = c_void_p\n",
      "\n",
      "    n, p = xs.shape\n",
      "    D = np.empty((n, n), np.float)\n",
      "    \n",
      "    lib.pidst_c(n, p, xs, D)\n",
      "    return D"
     ],
     "language": "python",
     "metadata": {},
     "outputs": [],
     "prompt_number": 25
    },
    {
     "cell_type": "code",
     "collapsed": false,
     "input": [
      "print pdist_cython(A)\n",
      "%timeit pdist_cython(xs)"
     ],
     "language": "python",
     "metadata": {},
     "outputs": [
      {
       "output_type": "stream",
       "stream": "stdout",
       "text": [
        "[[ 0.  5.]\n",
        " [ 5.  0.]]\n",
        "100 loops, best of 3: 8.8 ms per loop"
       ]
      },
      {
       "output_type": "stream",
       "stream": "stdout",
       "text": [
        "\n"
       ]
      }
     ],
     "prompt_number": 26
    },
    {
     "cell_type": "markdown",
     "metadata": {},
     "source": [
      "### C++ version\n",
      "\n",
      "Using C++ is almost the same as using C. Just add an extern C statement and use an appropriate C++ compiler."
     ]
    },
    {
     "cell_type": "code",
     "collapsed": false,
     "input": [
      "%%file pdist_c.cpp\n",
      "#include <cmath>\n",
      "#include <vector>\n",
      "using namespace std;\n",
      "\n",
      "extern \"C\" \n",
      "\n",
      "void pdist_cpp(int n, int p, vector<double> xs, vector<double> D) {\n",
      "    for (int i=0; i<n; i++) {\n",
      "        for (int j=0; j<n; j++) {\n",
      "            double s = 0.0;\n",
      "            for (int k=0; k<p; k++) {\n",
      "                double tmp = xs[i*p+k] - xs[j*p+k];\n",
      "                s += tmp*tmp;\n",
      "            }\n",
      "            D.push_back(sqrt(s));\n",
      "        }\n",
      "    }\n",
      "}"
     ],
     "language": "python",
     "metadata": {},
     "outputs": [
      {
       "output_type": "stream",
       "stream": "stdout",
       "text": [
        "Overwriting pdist_c.cpp\n"
       ]
      }
     ],
     "prompt_number": 27
    },
    {
     "cell_type": "code",
     "collapsed": false,
     "input": [
      "# Compile to a shared library\n",
      "! g++ -bundle -undefined dynamic_lookup pdist_c.cpp -o pdist_cpp.so\n",
      "# Linux: g++ -shared pdist_c.c -o pdist_c.so"
     ],
     "language": "python",
     "metadata": {},
     "outputs": [],
     "prompt_number": 28
    },
    {
     "cell_type": "code",
     "collapsed": false,
     "input": [
      "from ctypes import CDLL, c_int, c_void_p\n",
      "\n",
      "def pdist_c(xs):\n",
      "\n",
      "    # Use ctypes to load the library\n",
      "    lib = CDLL('./pdist_cpp.so')\n",
      "\n",
      "    # We need to give the argument adn return types explicitly\n",
      "    lib.pdist_cpp.argtypes = [c_int, c_int, np.ctypeslib.ndpointer(dtype = np.float), np.ctypeslib.ndpointer(dtype = np.float)]\n",
      "    lib.pdist_cpp.restype  = c_void_p\n",
      "\n",
      "    n, p = xs.shape\n",
      "    D = np.empty((n, n), np.float)\n",
      "    \n",
      "    lib.pidst_c(n, p, xs, D)\n",
      "    return D"
     ],
     "language": "python",
     "metadata": {},
     "outputs": [],
     "prompt_number": 29
    },
    {
     "cell_type": "code",
     "collapsed": false,
     "input": [
      "print pdist_cython(A)\n",
      "%timeit pdist_cython(xs)"
     ],
     "language": "python",
     "metadata": {},
     "outputs": [
      {
       "output_type": "stream",
       "stream": "stdout",
       "text": [
        "[[ 0.  5.]\n",
        " [ 5.  0.]]\n",
        "100 loops, best of 3: 8.84 ms per loop"
       ]
      },
      {
       "output_type": "stream",
       "stream": "stdout",
       "text": [
        "\n"
       ]
      }
     ],
     "prompt_number": 30
    },
    {
     "cell_type": "markdown",
     "metadata": {},
     "source": [
      "### Fortran"
     ]
    },
    {
     "cell_type": "code",
     "collapsed": false,
     "input": [
      "%%file pdist_fortran.f90\n",
      "\n",
      "#defining NPY_NO_DEPRECATED_API NPY_1_7_API_VERSION\n",
      "\n",
      "subroutine pdist_fortran(n, p, xs, D)\n",
      "integer, intent(in) :: n, p\n",
      "real(8), dimension(n, p), intent(in) :: xs\n",
      "real(8), dimension(n, n), intent(inout) :: D\n",
      "integer :: i, j, k\n",
      "real(8) :: s, tmp\n",
      "do j = 1, n\n",
      "    do i = 1, n\n",
      "        s = 0.0\n",
      "        do k = 1, p\n",
      "            tmp = xs(i, k) - xs(j, k)\n",
      "            s = s + tmp*tmp\n",
      "        end do\n",
      "        D(i, j) = sqrt(s)\n",
      "    end do\n",
      "end do\n",
      "end subroutine"
     ],
     "language": "python",
     "metadata": {},
     "outputs": [
      {
       "output_type": "stream",
       "stream": "stdout",
       "text": [
        "Overwriting pdist_fortran.f90\n"
       ]
      }
     ],
     "prompt_number": 31
    },
    {
     "cell_type": "code",
     "collapsed": false,
     "input": [
      "! f2py -c -m flib pdist_fortran.f90 &> /dev/null"
     ],
     "language": "python",
     "metadata": {},
     "outputs": [],
     "prompt_number": 32
    },
    {
     "cell_type": "code",
     "collapsed": false,
     "input": [
      "import flib\n",
      "\n",
      "def pdist_fortran(xs):\n",
      "    n, p = xs.shape\n",
      "    D = np.empty((n, n), np.float)\n",
      "\n",
      "    flib.pdist_fortran(n, p, xs, D)\n",
      "    return D"
     ],
     "language": "python",
     "metadata": {},
     "outputs": [],
     "prompt_number": 33
    },
    {
     "cell_type": "code",
     "collapsed": false,
     "input": [
      "print pdist_cython(A)\n",
      "%timeit pdist_cython(xs)"
     ],
     "language": "python",
     "metadata": {},
     "outputs": [
      {
       "output_type": "stream",
       "stream": "stdout",
       "text": [
        "[[ 0.  5.]\n",
        " [ 5.  0.]]\n",
        "100 loops, best of 3: 8.81 ms per loop"
       ]
      },
      {
       "output_type": "stream",
       "stream": "stdout",
       "text": [
        "\n"
       ]
      }
     ],
     "prompt_number": 34
    },
    {
     "cell_type": "markdown",
     "metadata": {},
     "source": [
      "## Summary\n",
      "\n",
      "* Using C, C++ or Fortran give essentially identcial performance\n",
      "* Of the JIT solutions:\n",
      "    * Cython is the fastest but needs the extra work of type annotations\n",
      "    * numba is almost as fast and simplest to use - just say jit(functiion)\n",
      "    * numexpr is slightly slower and works best for small numpy expressions but is also very convenient\n",
      "* A pure numpy solution also perfroms reasonably and will be the shortest solutoin (a one-liner in this case)\n",
      "* The pure python approach is very slow, but serves as a useful template for converting to native langauge directly or via a JIT compiler\n",
      "* Note that the fsatest alternatives are approximately 1000 times faster than the pure python version for the test problem with n=1000 and p=3."
     ]
    },
    {
     "cell_type": "code",
     "collapsed": false,
     "input": [],
     "language": "python",
     "metadata": {},
     "outputs": []
    }
   ],
   "metadata": {}
  }
 ]
}