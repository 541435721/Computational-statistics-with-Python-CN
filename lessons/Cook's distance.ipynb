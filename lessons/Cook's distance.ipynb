{
 "metadata": {
  "name": "",
  "signature": "sha256:5cbb5383215408aa4edf2ec2a87c7d1a72668d700a7e91de76ddb40a2b855611"
 },
 "nbformat": 3,
 "nbformat_minor": 0,
 "worksheets": [
  {
   "cells": [
    {
     "cell_type": "markdown",
     "metadata": {},
     "source": [
      "$$\n",
      "D_i = \\frac{\\sum_{j=1}^n (\\hat Y_j - \\hat Y_{j(i)})^2}{p \\text{MSE}}\n",
      "$$\n",
      "\n",
      "The calculation of Cook's distance involves the fitting of $n$ regression models, so we want to do this as efficiently as possible."
     ]
    },
    {
     "cell_type": "code",
     "collapsed": false,
     "input": [
      "%matplotlib inline\n",
      "import matplotlib.pyplot as plt\n",
      "import numpy as np\n",
      "from numba import jit\n",
      "import statsmodels.api as sm\n",
      "from statsmodels.formula.api import ols\n",
      "from pandas import DataFrame"
     ],
     "language": "python",
     "metadata": {},
     "outputs": [],
     "prompt_number": 4
    },
    {
     "cell_type": "code",
     "collapsed": false,
     "input": [
      "%precision 4"
     ],
     "language": "python",
     "metadata": {},
     "outputs": [
      {
       "metadata": {},
       "output_type": "pyout",
       "prompt_number": 5,
       "text": [
        "u'%.4f'"
       ]
      }
     ],
     "prompt_number": 5
    },
    {
     "cell_type": "code",
     "collapsed": false,
     "input": [
      "def cook_dist(X, y, model):\n",
      "    \"\"\"Vectorized version of Cook's distance.\"\"\"\n",
      "    n = len(X)\n",
      "    fitted = model(y, X).fit()\n",
      "    yhat = fitted.predict(X)\n",
      "    p = len(fitted.params)\n",
      "    mse = np.sum((yhat - y)**2.0)/n\n",
      "    denom = p*mse\n",
      "    idx = np.arange(n)\n",
      "    return np.array([np.sum((yhat - model(y[idx!=i], X[idx!=i]).fit().predict(X))**2.0) for i in range(n)])/denom"
     ],
     "language": "python",
     "metadata": {},
     "outputs": [],
     "prompt_number": 16
    },
    {
     "cell_type": "code",
     "collapsed": false,
     "input": [
      "# create data set with outliers\n",
      "nobs = 100\n",
      "X = np.random.random((nobs, 2))\n",
      "X = sm.add_constant(X)\n",
      "beta = [1, .1, .5]\n",
      "e = np.random.random(nobs)\n",
      "y = np.dot(X, beta) + e\n",
      "y[[7, 29, 78]] *= 3"
     ],
     "language": "python",
     "metadata": {},
     "outputs": [],
     "prompt_number": 25
    },
    {
     "cell_type": "code",
     "collapsed": false,
     "input": [
      "# use Cook's distance to identify outliers\n",
      "model = sm.OLS\n",
      "d = cook_dist(X, y, model)\n",
      "plt.stem(d);"
     ],
     "language": "python",
     "metadata": {},
     "outputs": [
      {
       "metadata": {},
       "output_type": "display_data",
       "png": "[encoded data removed]",
       "text": [
        "<matplotlib.figure.Figure at 0x10eef8c90>"
       ]
      }
     ],
     "prompt_number": 26
    },
    {
     "cell_type": "code",
     "collapsed": false,
     "input": [],
     "language": "python",
     "metadata": {},
     "outputs": []
    }
   ],
   "metadata": {}
  }
 ]
}