{
 "metadata": {
  "name": "",
  "signature": "sha256:7274a33e357ff143887b102df3b38551f57618a35a45419e25c7904cf3f05241"
 },
 "nbformat": 3,
 "nbformat_minor": 0,
 "worksheets": [
  {
   "cells": [
    {
     "cell_type": "code",
     "collapsed": false,
     "input": [
      "%matplotlib inline\n",
      "import matplotlib.pyplot as plt\n",
      "import numpy as np\n",
      "%precision 4\n",
      "import os, sys, glob\n",
      "import scipy.linalg.blas as blas"
     ],
     "language": "python",
     "metadata": {},
     "outputs": [],
     "prompt_number": 3
    },
    {
     "cell_type": "markdown",
     "metadata": {},
     "source": [
      "## Basic Linear Algebra Subroutines (low level routines)\n",
      "\n",
      "BLAS routine names are very terse but have a standard format:\n",
      "\n",
      "The first letter indicates the precision - e..g D for double, C for "
     ]
    },
    {
     "cell_type": "markdown",
     "metadata": {},
     "source": [
      "### Level 1 (vector operations)"
     ]
    },
    {
     "cell_type": "code",
     "collapsed": false,
     "input": [
      "x = np.random.randn(10)\n",
      "y = np.arange(10)\n",
      "a = 5\n",
      "\n",
      "blas.daxpy(x, y, a=a)"
     ],
     "language": "python",
     "metadata": {},
     "outputs": [
      {
       "metadata": {},
       "output_type": "pyout",
       "prompt_number": 4,
       "text": [
        "array([  4.4634,   5.8388,   1.007 ,   4.557 ,   7.7982,  -0.1454,\n",
        "         7.2994,   4.2211,  15.4016,  19.4493])"
       ]
      }
     ],
     "prompt_number": 4
    },
    {
     "cell_type": "code",
     "collapsed": false,
     "input": [
      "a*x + y"
     ],
     "language": "python",
     "metadata": {},
     "outputs": [
      {
       "metadata": {},
       "output_type": "pyout",
       "prompt_number": 5,
       "text": [
        "array([  4.4634,   5.8388,   1.007 ,   4.557 ,   7.7982,  -0.1454,\n",
        "         7.2994,   4.2211,  15.4016,  19.4493])"
       ]
      }
     ],
     "prompt_number": 5
    },
    {
     "cell_type": "markdown",
     "metadata": {},
     "source": [
      "### Level 2 (matrix-vector operations)"
     ]
    },
    {
     "cell_type": "code",
     "collapsed": false,
     "input": [
      "alpha = 4.5\n",
      "A = np.array(np.random.random((10,10)), order='F')\n",
      "x = np.arange(10)\n",
      "\n",
      "blas.dgemv(alpha, A, x)"
     ],
     "language": "python",
     "metadata": {},
     "outputs": [
      {
       "metadata": {},
       "output_type": "pyout",
       "prompt_number": 13,
       "text": [
        "array([ 151.5333,  119.0783,  106.1082,  124.7269,   89.5855,   97.6217,\n",
        "         92.6226,  103.0936,  122.2811,  110.8718])"
       ]
      }
     ],
     "prompt_number": 13
    },
    {
     "cell_type": "code",
     "collapsed": false,
     "input": [
      "alpha*np.dot(A, x)"
     ],
     "language": "python",
     "metadata": {},
     "outputs": [
      {
       "metadata": {},
       "output_type": "pyout",
       "prompt_number": 14,
       "text": [
        "array([ 151.5333,  119.0783,  106.1082,  124.7269,   89.5855,   97.6217,\n",
        "         92.6226,  103.0936,  122.2811,  110.8718])"
       ]
      }
     ],
     "prompt_number": 14
    },
    {
     "cell_type": "markdown",
     "metadata": {},
     "source": [
      "### Level 3 (matrix-matrix operations)"
     ]
    },
    {
     "cell_type": "code",
     "collapsed": false,
     "input": [
      "alpha = 4.5\n",
      "A = np.array(np.random.random((10,10)), order='F')\n",
      "B = np.array(np.random.random((10,10)), order='F')\n",
      "\n",
      "blas.dgemm(alpha, A, B)"
     ],
     "language": "python",
     "metadata": {},
     "outputs": [
      {
       "metadata": {},
       "output_type": "pyout",
       "prompt_number": 15,
       "text": [
        "array([[ 15.1155,  14.1165,  15.4648,  18.7769,  17.457 ,  12.4479,\n",
        "         10.9408,  16.3954,  11.4299,  18.5753],\n",
        "       [ 12.2529,  10.0401,  11.4517,  13.2281,  12.5725,   9.512 ,\n",
        "          7.5282,  13.9027,   9.0767,  14.9203],\n",
        "       [ 18.1235,  11.2084,  17.9736,  19.0056,  18.2769,  12.7463,\n",
        "         12.8659,  18.6458,  11.4908,  19.3322],\n",
        "       [ 13.1803,   8.4472,  12.4789,  12.8254,  12.76  ,   8.9358,\n",
        "          8.679 ,  14.2974,   9.919 ,  14.707 ],\n",
        "       [ 11.0215,  11.2754,  12.9927,  14.183 ,  12.0997,   9.4604,\n",
        "          9.2062,  11.5333,   8.0758,  14.657 ],\n",
        "       [ 11.7916,   9.52  ,  11.6892,  12.0876,  13.8408,   9.3081,\n",
        "          7.3596,  14.6331,   6.6304,  14.3007],\n",
        "       [ 17.3259,  14.6364,  17.8489,  20.4546,  18.6711,  13.6133,\n",
        "         12.368 ,  18.1615,  12.2205,  19.679 ],\n",
        "       [  7.6547,   7.8775,   7.4847,   8.2369,  11.4967,   5.9842,\n",
        "          5.3387,   9.5029,   4.6886,  10.4885],\n",
        "       [ 10.4803,   6.8675,   9.9492,   9.7499,  12.4523,   6.2336,\n",
        "          7.7469,  11.4728,   6.4471,  10.5456],\n",
        "       [ 13.4838,  14.059 ,  14.4645,  15.3024,  14.1659,  11.9237,\n",
        "          9.6157,  17.9991,  10.4154,  19.471 ]])"
       ]
      }
     ],
     "prompt_number": 15
    },
    {
     "cell_type": "code",
     "collapsed": false,
     "input": [
      "alpha * np.dot(A, B)"
     ],
     "language": "python",
     "metadata": {},
     "outputs": [
      {
       "metadata": {},
       "output_type": "pyout",
       "prompt_number": 16,
       "text": [
        "array([[ 15.1155,  14.1165,  15.4648,  18.7769,  17.457 ,  12.4479,\n",
        "         10.9408,  16.3954,  11.4299,  18.5753],\n",
        "       [ 12.2529,  10.0401,  11.4517,  13.2281,  12.5725,   9.512 ,\n",
        "          7.5282,  13.9027,   9.0767,  14.9203],\n",
        "       [ 18.1235,  11.2084,  17.9736,  19.0056,  18.2769,  12.7463,\n",
        "         12.8659,  18.6458,  11.4908,  19.3322],\n",
        "       [ 13.1803,   8.4472,  12.4789,  12.8254,  12.76  ,   8.9358,\n",
        "          8.679 ,  14.2974,   9.919 ,  14.707 ],\n",
        "       [ 11.0215,  11.2754,  12.9927,  14.183 ,  12.0997,   9.4604,\n",
        "          9.2062,  11.5333,   8.0758,  14.657 ],\n",
        "       [ 11.7916,   9.52  ,  11.6892,  12.0876,  13.8408,   9.3081,\n",
        "          7.3596,  14.6331,   6.6304,  14.3007],\n",
        "       [ 17.3259,  14.6364,  17.8489,  20.4546,  18.6711,  13.6133,\n",
        "         12.368 ,  18.1615,  12.2205,  19.679 ],\n",
        "       [  7.6547,   7.8775,   7.4847,   8.2369,  11.4967,   5.9842,\n",
        "          5.3387,   9.5029,   4.6886,  10.4885],\n",
        "       [ 10.4803,   6.8675,   9.9492,   9.7499,  12.4523,   6.2336,\n",
        "          7.7469,  11.4728,   6.4471,  10.5456],\n",
        "       [ 13.4838,  14.059 ,  14.4645,  15.3024,  14.1659,  11.9237,\n",
        "          9.6157,  17.9991,  10.4154,  19.471 ]])"
       ]
      }
     ],
     "prompt_number": 16
    },
    {
     "cell_type": "code",
     "collapsed": false,
     "input": [],
     "language": "python",
     "metadata": {},
     "outputs": []
    }
   ],
   "metadata": {}
  }
 ]
}