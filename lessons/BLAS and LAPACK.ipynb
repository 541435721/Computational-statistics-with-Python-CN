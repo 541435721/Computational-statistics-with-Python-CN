{
 "metadata": {
  "name": "",
  "signature": "sha256:6e9c08a60a514f526fe8526961e389637276b6cb64b1b168443ebe5a230c234d"
 },
 "nbformat": 3,
 "nbformat_minor": 0,
 "worksheets": [
  {
   "cells": [
    {
     "cell_type": "code",
     "collapsed": false,
     "input": [
      "%matplotlib inline\n",
      "import matplotlib.pyplot as plt\n",
      "import numpy as np\n",
      "%precision 4\n",
      "import os, sys, glob\n",
      "import scipy.linalg as la\n",
      "import scipy.linalg.blas as blas\n",
      "import scipy.linalg.lapack as lapack"
     ],
     "language": "python",
     "metadata": {},
     "outputs": [],
     "prompt_number": 1
    },
    {
     "cell_type": "markdown",
     "metadata": {},
     "source": [
      "## Notes\n",
      "\n",
      "The BLAS and LAPACK routines are available from `scipy.linalg.blas` and `scipy.linalg.lapack` moudles resepctively. In general, they are not often used directly when coding in Python unless speed is critical, since functions in `scipy.linalg` that build on these low level routtines are safer and more convenient to use. However, these linear algebra routins are widely used if you are programming in C, Fortran or CUDA, and the Python modules provide a friendly interface to get familiar with what they do."
     ]
    },
    {
     "cell_type": "markdown",
     "metadata": {},
     "source": [
      "## Basic Linear Algebra Subroutines (low level routines)\n",
      "\n",
      "BLAS routine names are very terse but have a standard format:\n",
      "\n",
      "The first letter indicates the precision - e..g D for double, C for complex single precision. The remsining letters is a mnemonic for  what the subroutine does: for example, axpy is a\\*x + y and gemm is generalized matrix multiplication. See <http://web.stanford.edu/class/me200c/tutorial_77/18.1_blas.html> for a list of subroutines.\n",
      "\n",
      "The list of routines avaiable in `scipy.linalg.blas` are listed at <http://docs.scipy.org/doc/scipy/reference/linalg.blas.html>"
     ]
    },
    {
     "cell_type": "markdown",
     "metadata": {},
     "source": [
      "### Level 1 (vector operations)"
     ]
    },
    {
     "cell_type": "code",
     "collapsed": false,
     "input": [
      "x = np.random.randn(10)\n",
      "y = np.arange(10)\n",
      "a = 5\n",
      "\n",
      "blas.daxpy(x, y, a=a)"
     ],
     "language": "python",
     "metadata": {},
     "outputs": [
      {
       "metadata": {},
       "output_type": "pyout",
       "prompt_number": 3,
       "text": [
        "array([  4.241 ,   6.133 ,   4.7711,   6.6665,   2.2578,  -1.239 ,\n",
        "        15.6784,   5.6715,   2.72  ,   3.3001])"
       ]
      }
     ],
     "prompt_number": 3
    },
    {
     "cell_type": "code",
     "collapsed": false,
     "input": [
      "a*x + y"
     ],
     "language": "python",
     "metadata": {},
     "outputs": [
      {
       "metadata": {},
       "output_type": "pyout",
       "prompt_number": 5,
       "text": [
        "array([  4.4634,   5.8388,   1.007 ,   4.557 ,   7.7982,  -0.1454,\n",
        "         7.2994,   4.2211,  15.4016,  19.4493])"
       ]
      }
     ],
     "prompt_number": 5
    },
    {
     "cell_type": "code",
     "collapsed": false,
     "input": [
      "%timeit blas.daxpy(x, y, a=a)\n",
      "%timeit a*x + y"
     ],
     "language": "python",
     "metadata": {},
     "outputs": [
      {
       "output_type": "stream",
       "stream": "stdout",
       "text": [
        "100000 loops, best of 3: 3.76 \u00b5s per loop\n",
        "100000 loops, best of 3: 5.79 \u00b5s per loop"
       ]
      },
      {
       "output_type": "stream",
       "stream": "stdout",
       "text": [
        "\n"
       ]
      }
     ],
     "prompt_number": 185
    },
    {
     "cell_type": "code",
     "collapsed": false,
     "input": [
      "# Calculate the L2 norm of a vector\n",
      "blas.dnrm2(x)"
     ],
     "language": "python",
     "metadata": {},
     "outputs": [
      {
       "metadata": {},
       "output_type": "pyout",
       "prompt_number": 4,
       "text": [
        "3.2448"
       ]
      }
     ],
     "prompt_number": 4
    },
    {
     "cell_type": "code",
     "collapsed": false,
     "input": [
      "la.norm(x)"
     ],
     "language": "python",
     "metadata": {},
     "outputs": [
      {
       "metadata": {},
       "output_type": "pyout",
       "prompt_number": 8,
       "text": [
        "3.2448"
       ]
      }
     ],
     "prompt_number": 8
    },
    {
     "cell_type": "code",
     "collapsed": false,
     "input": [
      "np.sqrt(np.sum(x**2.0))"
     ],
     "language": "python",
     "metadata": {},
     "outputs": [
      {
       "metadata": {},
       "output_type": "pyout",
       "prompt_number": 6,
       "text": [
        "3.2448"
       ]
      }
     ],
     "prompt_number": 6
    },
    {
     "cell_type": "code",
     "collapsed": false,
     "input": [
      "%timeit blas.dnrm2(x)\n",
      "%timeit la.norm(x)\n",
      "%timeit np.sqrt(np.sum(x**2.0))"
     ],
     "language": "python",
     "metadata": {},
     "outputs": [
      {
       "output_type": "stream",
       "stream": "stdout",
       "text": [
        "1000000 loops, best of 3: 426 ns per loop\n",
        "100000 loops, best of 3: 19.2 \u00b5s per loop"
       ]
      },
      {
       "output_type": "stream",
       "stream": "stdout",
       "text": [
        "\n",
        "100000 loops, best of 3: 19 \u00b5s per loop"
       ]
      },
      {
       "output_type": "stream",
       "stream": "stdout",
       "text": [
        "\n"
       ]
      }
     ],
     "prompt_number": 9
    },
    {
     "cell_type": "markdown",
     "metadata": {},
     "source": [
      "### Level 2 (matrix-vector operations)"
     ]
    },
    {
     "cell_type": "code",
     "collapsed": false,
     "input": [
      "alpha = 4.5\n",
      "A = np.array(np.random.random((10,10)), order='F')\n",
      "x = np.arange(10)\n",
      "\n",
      "blas.dgemv(alpha, A, x)"
     ],
     "language": "python",
     "metadata": {},
     "outputs": [
      {
       "metadata": {},
       "output_type": "pyout",
       "prompt_number": 183,
       "text": [
        "array([ 129.2942,   91.8997,   95.0826,   58.4414,   73.5954,  109.9264,\n",
        "        114.6127,   93.6298,  101.9434,   77.5346])"
       ]
      }
     ],
     "prompt_number": 183
    },
    {
     "cell_type": "code",
     "collapsed": false,
     "input": [
      "alpha*np.dot(A, x)"
     ],
     "language": "python",
     "metadata": {},
     "outputs": [
      {
       "metadata": {},
       "output_type": "pyout",
       "prompt_number": 14,
       "text": [
        "array([ 151.5333,  119.0783,  106.1082,  124.7269,   89.5855,   97.6217,\n",
        "         92.6226,  103.0936,  122.2811,  110.8718])"
       ]
      }
     ],
     "prompt_number": 14
    },
    {
     "cell_type": "code",
     "collapsed": false,
     "input": [
      "%timeit blas.dgemv(alpha, A, x)\n",
      "%timeit alpha*np.dot(A, x)"
     ],
     "language": "python",
     "metadata": {},
     "outputs": [
      {
       "output_type": "stream",
       "stream": "stdout",
       "text": [
        "100000 loops, best of 3: 3.26 \u00b5s per loop\n",
        "100000 loops, best of 3: 9.19 \u00b5s per loop"
       ]
      },
      {
       "output_type": "stream",
       "stream": "stdout",
       "text": [
        "\n"
       ]
      }
     ],
     "prompt_number": 184
    },
    {
     "cell_type": "markdown",
     "metadata": {},
     "source": [
      "### Level 3 (matrix-matrix operations)"
     ]
    },
    {
     "cell_type": "code",
     "collapsed": false,
     "input": [
      "alpha = 4.5\n",
      "A = np.array(np.random.random((10,10)), order='F')\n",
      "B = np.array(np.random.random((10,10)), order='F')"
     ],
     "language": "python",
     "metadata": {},
     "outputs": [],
     "prompt_number": 174
    },
    {
     "cell_type": "code",
     "collapsed": false,
     "input": [
      "# Generalized matrix multiplication using BLAS\n",
      "blas.dgemm(alpha, A, B)"
     ],
     "language": "python",
     "metadata": {},
     "outputs": [
      {
       "metadata": {},
       "output_type": "pyout",
       "prompt_number": 175,
       "text": [
        "array([[ 14.8295,  18.3113,   8.6895,  14.595 ,  16.1909,  12.8001,\n",
        "         14.977 ,  14.5193,  14.4497,   9.3579],\n",
        "       [ 15.5151,  19.3362,  11.3736,  15.6106,  19.7325,  15.8014,\n",
        "         15.8858,  17.551 ,  14.3498,  10.3179],\n",
        "       [ 15.7565,  21.5616,  13.6526,  16.7323,  18.2677,  15.5938,\n",
        "         16.6589,  17.5071,  16.7137,  11.7698],\n",
        "       [  9.3038,  10.4388,   7.0385,   7.8845,  11.7872,   8.7079,\n",
        "          9.8485,  10.4154,   7.2954,   4.635 ],\n",
        "       [ 13.0305,  17.5726,   8.4547,  14.2175,  14.8902,  13.3124,\n",
        "         14.404 ,  12.2774,  13.9513,  10.5146],\n",
        "       [  5.9218,  11.8419,   6.3019,   9.7036,   8.2374,   7.7266,\n",
        "          8.6968,   6.5304,   7.9931,   7.9259],\n",
        "       [  9.2482,  12.5788,   6.6815,  10.1571,  12.9328,  10.3127,\n",
        "         11.2173,  10.5424,   9.268 ,   7.9728],\n",
        "       [ 13.6315,  19.7645,  14.388 ,  15.4112,  14.7904,  12.9431,\n",
        "         14.9162,  16.697 ,  16.8267,  12.9328],\n",
        "       [ 10.6103,  16.2252,   8.8419,  12.6698,  12.9806,  10.4855,\n",
        "         12.0503,  12.2443,  11.3026,   8.3287],\n",
        "       [ 12.706 ,  17.6542,  11.4738,  14.1602,  13.1672,  12.8127,\n",
        "         12.1637,  14.9421,  15.3919,  10.6683]])"
       ]
      }
     ],
     "prompt_number": 175
    },
    {
     "cell_type": "code",
     "collapsed": false,
     "input": [
      "# Equivalent operation in numpy\n",
      "alpha * np.dot(A, B)"
     ],
     "language": "python",
     "metadata": {},
     "outputs": [
      {
       "metadata": {},
       "output_type": "pyout",
       "prompt_number": 176,
       "text": [
        "array([[ 14.8295,  18.3113,   8.6895,  14.595 ,  16.1909,  12.8001,\n",
        "         14.977 ,  14.5193,  14.4497,   9.3579],\n",
        "       [ 15.5151,  19.3362,  11.3736,  15.6106,  19.7325,  15.8014,\n",
        "         15.8858,  17.551 ,  14.3498,  10.3179],\n",
        "       [ 15.7565,  21.5616,  13.6526,  16.7323,  18.2677,  15.5938,\n",
        "         16.6589,  17.5071,  16.7137,  11.7698],\n",
        "       [  9.3038,  10.4388,   7.0385,   7.8845,  11.7872,   8.7079,\n",
        "          9.8485,  10.4154,   7.2954,   4.635 ],\n",
        "       [ 13.0305,  17.5726,   8.4547,  14.2175,  14.8902,  13.3124,\n",
        "         14.404 ,  12.2774,  13.9513,  10.5146],\n",
        "       [  5.9218,  11.8419,   6.3019,   9.7036,   8.2374,   7.7266,\n",
        "          8.6968,   6.5304,   7.9931,   7.9259],\n",
        "       [  9.2482,  12.5788,   6.6815,  10.1571,  12.9328,  10.3127,\n",
        "         11.2173,  10.5424,   9.268 ,   7.9728],\n",
        "       [ 13.6315,  19.7645,  14.388 ,  15.4112,  14.7904,  12.9431,\n",
        "         14.9162,  16.697 ,  16.8267,  12.9328],\n",
        "       [ 10.6103,  16.2252,   8.8419,  12.6698,  12.9806,  10.4855,\n",
        "         12.0503,  12.2443,  11.3026,   8.3287],\n",
        "       [ 12.706 ,  17.6542,  11.4738,  14.1602,  13.1672,  12.8127,\n",
        "         12.1637,  14.9421,  15.3919,  10.6683]])"
       ]
      }
     ],
     "prompt_number": 176
    },
    {
     "cell_type": "code",
     "collapsed": false,
     "input": [
      "%timeit blas.dgemm(alpha, A, B)\n",
      "%timeit alpha * np.dot(A, B)"
     ],
     "language": "python",
     "metadata": {},
     "outputs": [
      {
       "output_type": "stream",
       "stream": "stdout",
       "text": [
        "100000 loops, best of 3: 4.53 \u00b5s per loop\n",
        "100000 loops, best of 3: 10.4 \u00b5s per loop"
       ]
      },
      {
       "output_type": "stream",
       "stream": "stdout",
       "text": [
        "\n"
       ]
      }
     ],
     "prompt_number": 177
    },
    {
     "cell_type": "markdown",
     "metadata": {},
     "source": [
      "## LAPACK\n",
      "\n",
      "LAPACK provides routines at a higher level than BLAS for solving systems of simultaneous linear equations, least-squares solutions of linear systems of equations, eigenvalue problems, singular value problems, as well as various matrix factorizations. Most LAPACK routines make use of the lower level BLAS routines. The naming convention for LAPACK is similar to that for BLAS. The LAPACK User Guide is the official reference and can be found at <http://www.netlib.org/lapack/lug/>.\n",
      "\n",
      "The list of routines avaiable in `scipy.linalg.lapack` are listed at <http://docs.scipy.org/doc/scipy/reference/linalg.lapack.html>"
     ]
    },
    {
     "cell_type": "markdown",
     "metadata": {},
     "source": [
      "### Solving a least squares estimation problem"
     ]
    },
    {
     "cell_type": "code",
     "collapsed": false,
     "input": [
      "A = np.array([[-0.09,  0.14, -0.46,  0.68,  1.29], \n",
      "              [-1.56,  0.20,  0.29,  1.09,  0.51], \n",
      "              [-1.48, -0.43,  0.89, -0.71, -0.96], \n",
      "              [-1.09,  0.84,  0.77,  2.11, -1.27],\n",
      "              [0.08,   0.55, -1.13,  0.14,  1.74],\n",
      "              [-1.59, -0.72,  1.06,  1.24,  0.34]])\n",
      "b = np.array([ 7.4, 4.2, -8.3, 1.8,  8.6,   2.1]) #.reshape(-1,1)"
     ],
     "language": "python",
     "metadata": {},
     "outputs": [],
     "prompt_number": 180
    },
    {
     "cell_type": "code",
     "collapsed": false,
     "input": [
      "# Set cond to reflect the relative accuracy of the input data \n",
      "v, x, s, rank, work, info = lapack.dgelss(A, b, cond=0.01) "
     ],
     "language": "python",
     "metadata": {},
     "outputs": [],
     "prompt_number": 142
    },
    {
     "cell_type": "code",
     "collapsed": false,
     "input": [
      "x # least squeares solution"
     ],
     "language": "python",
     "metadata": {},
     "outputs": [
      {
       "metadata": {},
       "output_type": "pyout",
       "prompt_number": 143,
       "text": [
        "array([ 0.6344,  0.9699, -1.4403,  3.3678,  3.3992, -0.0035])"
       ]
      }
     ],
     "prompt_number": 143
    },
    {
     "cell_type": "code",
     "collapsed": false,
     "input": [
      "s # Singular values of A "
     ],
     "language": "python",
     "metadata": {},
     "outputs": [
      {
       "metadata": {},
       "output_type": "pyout",
       "prompt_number": 144,
       "text": [
        "array([  3.9997e+00,   2.9962e+00,   2.0001e+00,   9.9883e-01,   2.4992e-03])"
       ]
      }
     ],
     "prompt_number": 144
    },
    {
     "cell_type": "code",
     "collapsed": false,
     "input": [
      "rank # Estimated rank of A"
     ],
     "language": "python",
     "metadata": {},
     "outputs": [
      {
       "metadata": {},
       "output_type": "pyout",
       "prompt_number": 145,
       "text": [
        "4"
       ]
      }
     ],
     "prompt_number": 145
    },
    {
     "cell_type": "markdown",
     "metadata": {},
     "source": [
      "### Using convenient `lstsq` wrapper"
     ]
    },
    {
     "cell_type": "code",
     "collapsed": false,
     "input": [
      "x, res, rank, s = la.lstsq(A, b, cond=0.01)"
     ],
     "language": "python",
     "metadata": {},
     "outputs": [],
     "prompt_number": 156
    },
    {
     "cell_type": "code",
     "collapsed": false,
     "input": [
      "x"
     ],
     "language": "python",
     "metadata": {},
     "outputs": [
      {
       "metadata": {},
       "output_type": "pyout",
       "prompt_number": 157,
       "text": [
        "array([ 0.6344,  0.9699, -1.4403,  3.3678,  3.3992])"
       ]
      }
     ],
     "prompt_number": 157
    },
    {
     "cell_type": "code",
     "collapsed": false,
     "input": [
      "s"
     ],
     "language": "python",
     "metadata": {},
     "outputs": [
      {
       "metadata": {},
       "output_type": "pyout",
       "prompt_number": 158,
       "text": [
        "array([  3.9997e+00,   2.9962e+00,   2.0001e+00,   9.9883e-01,   2.4992e-03])"
       ]
      }
     ],
     "prompt_number": 158
    },
    {
     "cell_type": "code",
     "collapsed": false,
     "input": [
      "rank"
     ],
     "language": "python",
     "metadata": {},
     "outputs": [
      {
       "metadata": {},
       "output_type": "pyout",
       "prompt_number": 159,
       "text": [
        "4"
       ]
      }
     ],
     "prompt_number": 159
    },
    {
     "cell_type": "code",
     "collapsed": false,
     "input": [
      "%timeit lapack.dgelss(A, b, cond=0.01) \n",
      "%timeit la.lstsq(A, b, cond=0.01)"
     ],
     "language": "python",
     "metadata": {},
     "outputs": [
      {
       "output_type": "stream",
       "stream": "stdout",
       "text": [
        "10000 loops, best of 3: 23.9 \u00b5s per loop\n",
        "10000 loops, best of 3: 122 \u00b5s per loop"
       ]
      },
      {
       "output_type": "stream",
       "stream": "stdout",
       "text": [
        "\n"
       ]
      }
     ],
     "prompt_number": 181
    },
    {
     "cell_type": "markdown",
     "metadata": {},
     "source": [
      "### Cholesky decomposition"
     ]
    },
    {
     "cell_type": "code",
     "collapsed": false,
     "input": [
      "x = np.random.multivariate_normal(np.zeros(5), np.eye(5), 100).T\n",
      "s = np.cov(x)"
     ],
     "language": "python",
     "metadata": {},
     "outputs": [],
     "prompt_number": 166
    },
    {
     "cell_type": "code",
     "collapsed": false,
     "input": [
      "c, info = lapack.dpotrf(s)"
     ],
     "language": "python",
     "metadata": {},
     "outputs": [],
     "prompt_number": 170
    },
    {
     "cell_type": "code",
     "collapsed": false,
     "input": [
      "c"
     ],
     "language": "python",
     "metadata": {},
     "outputs": [
      {
       "metadata": {},
       "output_type": "pyout",
       "prompt_number": 171,
       "text": [
        "array([[ 1.0284, -0.2548,  0.0134, -0.2548, -0.0463],\n",
        "       [ 0.    ,  0.9123,  0.0657, -0.1343, -0.0069],\n",
        "       [ 0.    ,  0.    ,  1.0574, -0.0015,  0.1208],\n",
        "       [ 0.    ,  0.    ,  0.    ,  0.8925, -0.027 ],\n",
        "       [ 0.    ,  0.    ,  0.    ,  0.    ,  0.8918]])"
       ]
      }
     ],
     "prompt_number": 171
    },
    {
     "cell_type": "markdown",
     "metadata": {},
     "source": [
      "### Using convenient `cholesky` wrapper"
     ]
    },
    {
     "cell_type": "code",
     "collapsed": false,
     "input": [
      "la.cholesky(s)"
     ],
     "language": "python",
     "metadata": {},
     "outputs": [
      {
       "metadata": {},
       "output_type": "pyout",
       "prompt_number": 172,
       "text": [
        "array([[ 1.0284, -0.2548,  0.0134, -0.2548, -0.0463],\n",
        "       [ 0.    ,  0.9123,  0.0657, -0.1343, -0.0069],\n",
        "       [ 0.    ,  0.    ,  1.0574, -0.0015,  0.1208],\n",
        "       [ 0.    ,  0.    ,  0.    ,  0.8925, -0.027 ],\n",
        "       [ 0.    ,  0.    ,  0.    ,  0.    ,  0.8918]])"
       ]
      }
     ],
     "prompt_number": 172
    },
    {
     "cell_type": "code",
     "collapsed": false,
     "input": [
      "%timeit lapack.dpotrf(s)\n",
      "%timeit la.cholesky(s)"
     ],
     "language": "python",
     "metadata": {},
     "outputs": [
      {
       "output_type": "stream",
       "stream": "stdout",
       "text": [
        "100000 loops, best of 3: 2.87 \u00b5s per loop\n",
        "10000 loops, best of 3: 43.9 \u00b5s per loop"
       ]
      },
      {
       "output_type": "stream",
       "stream": "stdout",
       "text": [
        "\n"
       ]
      }
     ],
     "prompt_number": 178
    },
    {
     "cell_type": "code",
     "collapsed": false,
     "input": [],
     "language": "python",
     "metadata": {},
     "outputs": []
    }
   ],
   "metadata": {}
  }
 ]
}