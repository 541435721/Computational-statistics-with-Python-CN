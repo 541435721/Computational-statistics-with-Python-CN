{
 "metadata": {
  "name": "",
  "signature": "sha256:2932813461f0393457ef07bb7832fa453a54483e0f3a9707a9cb5436cf58c074"
 },
 "nbformat": 3,
 "nbformat_minor": 0,
 "worksheets": [
  {
   "cells": [
    {
     "cell_type": "markdown",
     "metadata": {},
     "source": [
      "### R code for MCMC\n",
      "\n",
      "Example from <https://dl.dropboxusercontent.com/u/2993202/teaching/methods/mcmc/mcmc_print.pdf>\n",
      "\n",
      "```R\n",
      "gibbs <- function(n.sims, beta.start, alpha, gamma, delta,\n",
      "+ y, t, burnin = 0, thin = 1) {\n",
      "+ beta.draws <- c()\n",
      "+ lambda.draws <- matrix(NA, nrow = n.sims, ncol = length(y))\n",
      "+ beta.cur <- beta.start\n",
      "+ lambda.update <- function(alpha, beta, y, t) {\n",
      "+ rgamma(length(y), y + alpha, t + beta)\n",
      "+ }\n",
      "+ beta.update <- function(alpha, gamma, delta, lambda,\n",
      "+ y) {\n",
      "+ rgamma(1, length(y) * alpha + gamma, delta + sum(lambda))\n",
      "+ }\n",
      "+ for (i in 1:n.sims) {\n",
      "+ lambda.cur <- lambda.update(alpha = alpha, beta = beta.cur,\n",
      "+ y = y, t = t)\n",
      "+ beta.cur <- beta.update(alpha = alpha, gamma = gamma,\n",
      "+ delta = delta, lambda = lambda.cur, y = y)\n",
      "+ if (i > burnin & (i - burnin)%%thin == 0) {\n",
      "+ lambda.draws[(i - burnin)/thin, ] <- lambda.cur\n",
      "+ beta.draws[(i - burnin)/thin] <- beta.cur\n",
      "+ }\n",
      "+ }\n",
      "+ return(list(lambda.draws = lambda.draws, beta.draws = beta.draws))\n",
      "```\n",
      "\n",
      "Results\n",
      "```R\n",
      "> posterior <- gibbs(n.sims = 10000, beta.start = 1, alpha = 1.8,\n",
      "+ gamma = 0.01, delta = 1, y = y, t = t)\n",
      "> colMeans(posterior$lambda.draws)\n",
      "[1] 0.07113 0.15098 0.10447 0.12321 0.65680 0.62212 0.86522 0.85465\n",
      "[9] 1.35524 1.92694\n",
      "> mean(posterior$beta.draws)\n",
      "[1] 2.389\n",
      "> apply(posterior$lambda.draws, 2, sd)\n",
      "[1] 0.02759 0.08974 0.04012 0.03071 0.30899 0.13676 0.55689 0.54814\n",
      "[9] 0.60854 0.40812\n",
      "> sd(posterior$beta.draws)\n",
      "[1] 0.6986\n",
      "```"
     ]
    },
    {
     "cell_type": "code",
     "collapsed": false,
     "input": [
      "%matplotlib inline\n",
      "import matplotlib.pyplot as plt\n",
      "import numpy as np\n",
      "from numpy.random import gamma as rgamma"
     ],
     "language": "python",
     "metadata": {},
     "outputs": [],
     "prompt_number": 8
    },
    {
     "cell_type": "code",
     "collapsed": false,
     "input": [
      "def lambda_update(alpha, beta, y, t):\n",
      "    return rgamma(size=len(y), shape=y+alpha, scale=1.0/(t+beta))\n",
      "\n",
      "def beta_update(alpha, gamma, delta, lambd, y):\n",
      "    return rgamma(size=1, shape=len(y) * alpha + gamma, scale=1.0/(delta + lambd.sum()))\n",
      "\n",
      "def gibbs(niter, y, t, beta0, alpha, gamma, delta):\n",
      "    lambdas_ = np.zeros((niter, len(y)), np.float)\n",
      "    betas_ = np.zeros(niter, np.float)\n",
      "    beta_ = beta0\n",
      "\n",
      "    for i in range(niter):\n",
      "        lambda_ = lambda_update(alpha, beta_, y, t)\n",
      "        beta_ = beta_update(alpha, gamma, delta, lambda_, y)\n",
      "\n",
      "        betas_[i] = beta_\n",
      "        lambdas_[i,:] = lambda_\n",
      "        \n",
      "    return betas_, lambdas_"
     ],
     "language": "python",
     "metadata": {},
     "outputs": [],
     "prompt_number": 58
    },
    {
     "cell_type": "code",
     "collapsed": false,
     "input": [
      "alpha = 1.8\n",
      "gamma = 0.01\n",
      "delta = 1.0\n",
      "beta0 = 1\n",
      "y = np.array([5, 1, 5, 14, 3, 19, 1, 1, 4, 22])\n",
      "t = np.array([94, 16, 63, 126, 5, 31, 1, 1, 2, 10])\n",
      "niter = 10000\n",
      "\n",
      "np.set_printoptions(precision=3)"
     ],
     "language": "python",
     "metadata": {},
     "outputs": [],
     "prompt_number": 64
    },
    {
     "cell_type": "code",
     "collapsed": false,
     "input": [
      "np.random.seed(12345)\n",
      "\n",
      "betas, lambdas = mcmc(niter, y, t, beta0, alpha, gamma, delta)\n",
      "print '%.3f' % betas.mean()\n",
      "print '%.3f' % betas.std(ddof=1)\n",
      "print lambdas.mean(axis=0)\n",
      "print lambdas.std(ddof=1, axis=0)"
     ],
     "language": "python",
     "metadata": {},
     "outputs": [
      {
       "output_type": "stream",
       "stream": "stdout",
       "text": [
        "2.389\n",
        "0.694\n",
        "[ 0.071  0.152  0.104  0.123  0.655  0.625  0.86   0.867  1.345  1.929]\n",
        "[ 0.027  0.092  0.04   0.031  0.306  0.138  0.568  0.556  0.599  0.405]\n"
       ]
      }
     ],
     "prompt_number": 74
    },
    {
     "cell_type": "code",
     "collapsed": false,
     "input": [
      "%timeit(mcmc(niter, y, t, beta0, alpha, gamma, delta))"
     ],
     "language": "python",
     "metadata": {},
     "outputs": [
      {
       "output_type": "stream",
       "stream": "stdout",
       "text": [
        "1 loops, best of 3: 885 ms per loop\n"
       ]
      }
     ],
     "prompt_number": 68
    },
    {
     "cell_type": "code",
     "collapsed": false,
     "input": [],
     "language": "python",
     "metadata": {},
     "outputs": []
    }
   ],
   "metadata": {}
  }
 ]
}