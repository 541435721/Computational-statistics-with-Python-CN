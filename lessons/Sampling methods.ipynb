{
 "metadata": {
  "name": "",
  "signature": "sha256:52b63d1ff8b47266e428f90dbbef32ee6aa4207ca782e617c09f40b15e382b08"
 },
 "nbformat": 3,
 "nbformat_minor": 0,
 "worksheets": [
  {
   "cells": [
    {
     "cell_type": "markdown",
     "metadata": {},
     "source": [
      "### Gibbs sampler example\n",
      "\n",
      "Modeled after R version from <https://dl.dropboxusercontent.com/u/2993202/teaching/methods/mcmc/mcmc_print.pdf>"
     ]
    },
    {
     "cell_type": "code",
     "collapsed": false,
     "input": [
      "%matplotlib inline\n",
      "import matplotlib.pyplot as plt\n",
      "import numpy as np\n",
      "from numpy.random import gamma as rgamma"
     ],
     "language": "python",
     "metadata": {},
     "outputs": [],
     "prompt_number": 115
    },
    {
     "cell_type": "code",
     "collapsed": false,
     "input": [
      "def lambda_update(alpha, beta, y, t):\n",
      "    return rgamma(size=len(y), shape=y+alpha, scale=1.0/(t+beta))\n",
      "\n",
      "def beta_update(alpha, gamma, delta, lambd, y):\n",
      "    return rgamma(size=1, shape=len(y) * alpha + gamma, scale=1.0/(delta + lambd.sum()))\n",
      "\n",
      "def gibbs(niter, y, t, alpha, gamma, delta):\n",
      "    lambdas_ = np.zeros((niter, len(y)), np.float)\n",
      "    betas_ = np.zeros(niter, np.float)\n",
      "    \n",
      "    lambda_ = y/t\n",
      "\n",
      "    for i in range(niter):\n",
      "        beta_ = beta_update(alpha, gamma, delta, lambda_, y)\n",
      "        lambda_ = lambda_update(alpha, beta_, y, t)\n",
      "\n",
      "        betas_[i] = beta_\n",
      "        lambdas_[i,:] = lambda_\n",
      "        \n",
      "    return betas_, lambdas_"
     ],
     "language": "python",
     "metadata": {},
     "outputs": [],
     "prompt_number": 125
    },
    {
     "cell_type": "code",
     "collapsed": false,
     "input": [
      "alpha = 1.8\n",
      "gamma = 0.01\n",
      "delta = 1.0\n",
      "beta0 = 1\n",
      "y = np.array([5, 1, 5, 14, 3, 19, 1, 1, 4, 22])\n",
      "t = np.array([94.32, 15.72, 62.88, 125.76, 5.24, 31.44, 1.05, 1.05, 2.10, 10.48])\n",
      "niter = 10000\n",
      "\n",
      "np.set_printoptions(precision=3)"
     ],
     "language": "python",
     "metadata": {},
     "outputs": [],
     "prompt_number": 158
    },
    {
     "cell_type": "code",
     "collapsed": false,
     "input": [
      "np.random.seed(12345)\n",
      "\n",
      "betas, lambdas = gibbs(niter, y, t, alpha, gamma, delta)\n",
      "print '%.3f' % betas.mean()\n",
      "print '%.3f' % betas.std(ddof=1)\n",
      "print lambdas.mean(axis=0)\n",
      "print lambdas.std(ddof=1, axis=0)"
     ],
     "language": "python",
     "metadata": {},
     "outputs": [
      {
       "output_type": "stream",
       "stream": "stdout",
       "text": [
        "2.463\n",
        "0.711\n",
        "[ 0.071  0.154  0.104  0.123  0.628  0.615  0.828  0.837  1.292  1.847]\n",
        "[ 0.027  0.093  0.04   0.031  0.293  0.136  0.546  0.535  0.574  0.387]\n"
       ]
      }
     ],
     "prompt_number": 159
    },
    {
     "cell_type": "code",
     "collapsed": false,
     "input": [
      "%timeit(gibbs(niter, y, t, beta0, alpha, gamma, delta))"
     ],
     "language": "python",
     "metadata": {},
     "outputs": [
      {
       "output_type": "stream",
       "stream": "stdout",
       "text": [
        "1 loops, best of 3: 881 ms per loop\n"
       ]
      }
     ],
     "prompt_number": 77
    },
    {
     "cell_type": "markdown",
     "metadata": {},
     "source": [
      "### Multivariate normal random variates"
     ]
    },
    {
     "cell_type": "code",
     "collapsed": false,
     "input": [
      "import scipy.linalg as la\n",
      "from numpy import dot"
     ],
     "language": "python",
     "metadata": {},
     "outputs": [],
     "prompt_number": 140
    },
    {
     "cell_type": "code",
     "collapsed": false,
     "input": [
      "mu = np.zeros(2)\n",
      "sigma = np.array([[1,0.6], [0.6,3]])\n",
      "\n",
      "def mvn(sigma, n):\n",
      "    A = la.cholesky(sigma)\n",
      "    u = np.random.normal(0, 1, (len(sigma), n))\n",
      "    return dot(A, u)\n",
      "\n",
      "n = 100\n",
      "xs = mvn(sigma, n)\n",
      "ys = np.random.multivariate_normal(mu, sigma, n).T\n",
      "plt.scatter(4+xs[0], xs[1], facecolor='none', edgecolor='blue', s=50)\n",
      "plt.scatter(ys[0], ys[1], facecolor='none', edgecolor='red', s=50);"
     ],
     "language": "python",
     "metadata": {},
     "outputs": [
      {
       "metadata": {},
       "output_type": "display_data",
       "png": "[encoded data removed]",
       "text": [
        "<matplotlib.figure.Figure at 0x111f0a950>"
       ]
      }
     ],
     "prompt_number": 157
    },
    {
     "cell_type": "code",
     "collapsed": false,
     "input": [
      "la.cholesky?"
     ],
     "language": "python",
     "metadata": {},
     "outputs": [],
     "prompt_number": 153
    },
    {
     "cell_type": "code",
     "collapsed": false,
     "input": [],
     "language": "python",
     "metadata": {},
     "outputs": [],
     "prompt_number": 153
    },
    {
     "cell_type": "code",
     "collapsed": false,
     "input": [],
     "language": "python",
     "metadata": {},
     "outputs": []
    }
   ],
   "metadata": {}
  }
 ]
}