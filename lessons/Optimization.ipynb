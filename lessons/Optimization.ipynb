{
 "metadata": {
  "name": "",
  "signature": "sha256:bd9d7c1ad8135406b95084371a705fac15776b8c83b116d17b51b465b253c603"
 },
 "nbformat": 3,
 "nbformat_minor": 0,
 "worksheets": [
  {
   "cells": [
    {
     "cell_type": "heading",
     "level": 1,
     "metadata": {},
     "source": [
      "Optimization in Python"
     ]
    },
    {
     "cell_type": "heading",
     "level": 2,
     "metadata": {},
     "source": [
      "Basics"
     ]
    },
    {
     "cell_type": "markdown",
     "metadata": {},
     "source": [
      "Remember \"Premature optimization is the root of all evil in programming\" - Don Knuth\n",
      "\n",
      "- First make it right\n",
      "- Then test that it's right\n",
      "- If it's too slow, profile the code\n",
      "- Optimize\n",
      "- Repeat steps 1-4\n",
      "\n",
      "Install profling tools:\n",
      "```bash\n",
      "pip install --pre line-profiler\n",
      "pip install psutil\n",
      "pip install memory_profiler\n",
      "```\n",
      "\n",
      "References:\n",
      "\n",
      "1. <http://scipy-lectures.github.com/advanced/optimizing/index.html>\n",
      "2. <http://pynash.org/2013/03/06/timing-and-profiling.html>"
     ]
    },
    {
     "cell_type": "markdown",
     "metadata": {},
     "source": [
      "Timing code\n",
      "----"
     ]
    },
    {
     "cell_type": "code",
     "collapsed": false,
     "input": [
      "import time\n",
      "import timeit\n",
      "\n",
      "def f(nsec=1.0):\n",
      "    \"\"\"Function sleeps for nsec seconds.\"\"\"\n",
      "    time.sleep(nsec) \n",
      "    \n",
      "start = timeit.default_timer()\n",
      "f()\n",
      "elapsed = timeit.default_timer() - start\n",
      "elapsed"
     ],
     "language": "python",
     "metadata": {},
     "outputs": [
      {
       "metadata": {},
       "output_type": "pyout",
       "prompt_number": 1,
       "text": [
        "1.0015220642089844"
       ]
      }
     ],
     "prompt_number": 1
    },
    {
     "cell_type": "code",
     "collapsed": false,
     "input": [
      "# We can make a decorator for conveneience\n",
      "\n",
      "def process_time(f, *args, **kwargs):\n",
      "    def func(*args, **kwargs):\n",
      "        import timeit\n",
      "        start = timeit.default_timer()\n",
      "        f(*args, **kwargs)\n",
      "        print timeit.default_timer() - start\n",
      "    return func"
     ],
     "language": "python",
     "metadata": {},
     "outputs": [],
     "prompt_number": 2
    },
    {
     "cell_type": "code",
     "collapsed": false,
     "input": [
      "@process_time\n",
      "def f1(nsec):\n",
      "    \"\"\"Function sleeps for nsec seconds.\"\"\"\n",
      "    time.sleep(nsec)"
     ],
     "language": "python",
     "metadata": {},
     "outputs": [],
     "prompt_number": 3
    },
    {
     "cell_type": "code",
     "collapsed": false,
     "input": [
      "f1(3.0)"
     ],
     "language": "python",
     "metadata": {},
     "outputs": [
      {
       "output_type": "stream",
       "stream": "stdout",
       "text": [
        "3.00119900703\n"
       ]
      }
     ],
     "prompt_number": 4
    },
    {
     "cell_type": "code",
     "collapsed": false,
     "input": [
      "# Within the ipython notebook, use the timeit magic function"
     ],
     "language": "python",
     "metadata": {},
     "outputs": [],
     "prompt_number": 5
    },
    {
     "cell_type": "code",
     "collapsed": false,
     "input": [
      "%timeit f()"
     ],
     "language": "python",
     "metadata": {},
     "outputs": [
      {
       "output_type": "stream",
       "stream": "stdout",
       "text": [
        "1 loops, best of 3: 1 s per loop\n"
       ]
      }
     ],
     "prompt_number": 6
    },
    {
     "cell_type": "markdown",
     "metadata": {},
     "source": [
      "### Timing each function in a script."
     ]
    },
    {
     "cell_type": "code",
     "collapsed": false,
     "input": [
      "def f2():\n",
      "    time.sleep(2)\n",
      "\n",
      "def f3():\n",
      "    time.sleep(3)\n",
      "\n",
      "def f5():\n",
      "    f2()\n",
      "    f3()\n",
      "    \n",
      "%prun f5()"
     ],
     "language": "python",
     "metadata": {},
     "outputs": [
      {
       "output_type": "stream",
       "stream": "stdout",
       "text": [
        " "
       ]
      }
     ],
     "prompt_number": 7
    },
    {
     "cell_type": "markdown",
     "metadata": {},
     "source": [
      "### Checking memory usage"
     ]
    },
    {
     "cell_type": "code",
     "collapsed": false,
     "input": [
      "%load_ext memory_profiler"
     ],
     "language": "python",
     "metadata": {},
     "outputs": [],
     "prompt_number": 8
    },
    {
     "cell_type": "code",
     "collapsed": false,
     "input": [
      "%%file foo.py\n",
      "\n",
      "def foo(n):\n",
      "    phrase = 'repeat me'\n",
      "    pmul = phrase * n\n",
      "    pjoi = ''.join([phrase for x in xrange(n)])\n",
      "    pinc = ''\n",
      "    for x in xrange(n):\n",
      "        pinc += phrase\n",
      "    del pmul, pjoi, pinc"
     ],
     "language": "python",
     "metadata": {},
     "outputs": [
      {
       "output_type": "stream",
       "stream": "stdout",
       "text": [
        "Writing foo.py\n"
       ]
      }
     ],
     "prompt_number": 14
    },
    {
     "cell_type": "code",
     "collapsed": false,
     "input": [
      "# mprun requires the code be in a file \n",
      "# funcions declared interactively in python will not work\n",
      "\n",
      "from foo import foo\n",
      "\n",
      "%mprun -f foo foo(100000)"
     ],
     "language": "python",
     "metadata": {},
     "outputs": [
      {
       "output_type": "stream",
       "stream": "stdout",
       "text": [
        "('',)\n"
       ]
      }
     ],
     "prompt_number": 17
    },
    {
     "cell_type": "code",
     "collapsed": false,
     "input": [
      "# However, memit does work with interactive functions\n",
      "# Unlike mprun which gives a line by line analysis\n",
      "# memit gives the total amount of memory used\n",
      "\n",
      "def gobble(n):\n",
      "    x = [i*i for i in range(n)]\n",
      "    \n",
      "%memit -r 3 gobble(1000000)"
     ],
     "language": "python",
     "metadata": {},
     "outputs": [
      {
       "output_type": "stream",
       "stream": "stdout",
       "text": [
        "peak memory: 111.80 MiB, increment: 55.01 MiB\n"
       ]
      }
     ],
     "prompt_number": 24
    },
    {
     "cell_type": "heading",
     "level": 2,
     "metadata": {},
     "source": [
      "Sequence of possible optimizations to try"
     ]
    },
    {
     "cell_type": "markdown",
     "metadata": {},
     "source": [
      "- is data structure appropriate?\n",
      "-  is algorithm appropriate?\n",
      "- are correct Python idioms being used?\n",
      "- can we use numpy vector operations?\n",
      "- can we make it parallel with multiprocessing?\n",
      "- can we Cythonize the slow parts?\n",
      "- can we CUDAize the slow parts?\n",
      "- can we run multiple CUDA instances on the cloud?"
     ]
    },
    {
     "cell_type": "heading",
     "level": 2,
     "metadata": {},
     "source": [
      "Data structures"
     ]
    },
    {
     "cell_type": "code",
     "collapsed": false,
     "input": [
      "\"\"\"Find unique elements in common between xs and ys. Illustrates use of the set data structure.\"\"\"\n",
      "\n",
      "def common1(xs, ys):\n",
      "    \"\"\"Using lists.\"\"\"\n",
      "    zs = set([])\n",
      "    for x in xs:\n",
      "        for y in ys:\n",
      "            if x==y:\n",
      "                zs.add(x)\n",
      "    return zs\n",
      "\n",
      "def common2(xs, ys):\n",
      "    \"\"\"Using sets.\"\"\"\n",
      "    return set(xs) & set(ys)\n",
      "\n",
      "def main():\n",
      "    n = 5000\n",
      "    xs = npr.randint(1, 100, n)\n",
      "    ys = npr.randint(50, 150, n)\n",
      "    \n",
      "    z1 = common1(xs, ys)\n",
      "    z2 = common2(xs, ys)\n",
      "    \n",
      "    assert(z1 == z2)\n",
      "\n",
      "xs = np.random.randint(0, 1000, 100)\n",
      "ys = np.random.randint(0, 1000, 100)\n",
      "%timeit common1(xs, ys)\n",
      "%timeit common2(xs, ys)"
     ],
     "language": "python",
     "metadata": {},
     "outputs": [
      {
       "output_type": "stream",
       "stream": "stdout",
       "text": [
        "100 loops, best of 3: 1.83 ms per loop\n",
        "10000 loops, best of 3: 60.6 \u00b5s per loop"
       ]
      },
      {
       "output_type": "stream",
       "stream": "stdout",
       "text": [
        "\n"
       ]
      }
     ],
     "prompt_number": 26
    },
    {
     "cell_type": "code",
     "collapsed": false,
     "input": [
      "\"\"\"Find values corresponding to set of keys from a dictionary. Illustrates subtle mistake in searching dictionary.\"\"\"\n",
      "\n",
      "adict = dict(zip(np.arange(100000), np.random.randint(0,10,10000)))\n",
      "\n",
      "def search1(adict, targets):\n",
      "    \"\"\"Using a list.\"\"\"\n",
      "    return [adict[t] for t in targets if t in adict.keys()]\n",
      "\n",
      "def search2(adict, targets):\n",
      "    \"\"\"Using a dict.\"\"\"\n",
      "    return [adict[t] for t in targets if t in adict]\n",
      "\n",
      "targets = np.random.randint(0, 1000000, 10000)\n",
      "%timeit search1(adict, targets)\n",
      "%timeit search2(adict, targets)"
     ],
     "language": "python",
     "metadata": {},
     "outputs": [
      {
       "output_type": "stream",
       "stream": "stdout",
       "text": [
        "1 loops, best of 3: 3.73 s per loop\n",
        "1000 loops, best of 3: 1.76 ms per loop"
       ]
      },
      {
       "output_type": "stream",
       "stream": "stdout",
       "text": [
        "\n"
       ]
      }
     ],
     "prompt_number": 32
    },
    {
     "cell_type": "code",
     "collapsed": false,
     "input": [
      "\"\"\"Find minimum item in a list each time a new item is inserted. Illustrates use of priority queue data structure.\"\"\"\n",
      "\n",
      "from heapq import heappushpop, heapify\n",
      "\n",
      "def f1(alist, entries):\n",
      "    \"\"\"Using repeated sorts.\"\"\"\n",
      "    zs = []\n",
      "    for entry in entries:\n",
      "        alist.append(entry)\n",
      "        alist.sort(reverse=True)\n",
      "        zs.append(alist.pop())\n",
      "    return zs\n",
      "\n",
      "def f2(alist, entries):\n",
      "    \"\"\"Using a priority queue.\"\"\"\n",
      "    heapify(alist)\n",
      "    zs = []\n",
      "    for entry in entries:\n",
      "        zs.append(heappushpop(alist, entry))\n",
      "    return zs\n",
      "\n",
      "alist = list(np.random.randint(1000, 100000, 1000))\n",
      "blist = alist[:]\n",
      "entries = np.random.randint(1, 10000, 10000)\n",
      "    \n",
      "%timeit f1(alist, entries)\n",
      "%timeit f2(blist, entries)    "
     ],
     "language": "python",
     "metadata": {},
     "outputs": [
      {
       "output_type": "stream",
       "stream": "stdout",
       "text": [
        "1 loops, best of 3: 283 ms per loop\n",
        "100 loops, best of 3: 5.94 ms per loop"
       ]
      },
      {
       "output_type": "stream",
       "stream": "stdout",
       "text": [
        "\n"
       ]
      }
     ],
     "prompt_number": 34
    },
    {
     "cell_type": "heading",
     "level": 2,
     "metadata": {},
     "source": [
      "Algorithms"
     ]
    },
    {
     "cell_type": "code",
     "collapsed": false,
     "input": [
      "\"\"\"Subset sum problem solved by brute force and with dynamic programming.\"\"\"\n",
      "\n",
      "import itertools\n",
      "\n",
      "def knapsack1(size, values):\n",
      "    \"\"\"Using brute force search.\"\"\"\n",
      "    n = len(values)\n",
      "    if size > np.sum(values):\n",
      "        return False\n",
      "    for i in range(1, n):\n",
      "        for group in itertools.combinations(values, i):\n",
      "            if size == np.sum(group):\n",
      "                return True\n",
      "    return False\n",
      "            \n",
      "def knapsack2(size, values):\n",
      "    \"\"\"Using dynamic programming. Note trade-off in complexity.\"\"\"\n",
      "    n = len(values)\n",
      "    s = np.sum(values)\n",
      "    if size > np.sum(values):\n",
      "        return False\n",
      "    solns = {}\n",
      "    table = np.zeros((n, s+1), dtype='bool')\n",
      "    table[0][values[0]] = True\n",
      "    for i in xrange(1, n):\n",
      "        for j in xrange(0, s):\n",
      "            table[i][j] = values[i] == j or table[i-1][j] or table[i-1][j-values[i]]\n",
      "    return table[-1][size]\n",
      "    \n",
      "s = 149\n",
      "values = np.array([12, 15, 8, 13, 11, 19, 12, 13, 14, 15, 7, 1, 12, 8, 9])\n",
      "%timeit knapsack1(s, values)\n",
      "%timeit knapsack2(s, values)"
     ],
     "language": "python",
     "metadata": {},
     "outputs": [
      {
       "output_type": "stream",
       "stream": "stdout",
       "text": [
        "1 loops, best of 3: 359 ms per loop\n",
        "100 loops, best of 3: 7.81 ms per loop"
       ]
      },
      {
       "output_type": "stream",
       "stream": "stdout",
       "text": [
        "\n"
       ]
      }
     ],
     "prompt_number": 35
    },
    {
     "cell_type": "heading",
     "level": 2,
     "metadata": {},
     "source": [
      "Python idioms for speed"
     ]
    },
    {
     "cell_type": "code",
     "collapsed": false,
     "input": [
      "\"\"\"String concatenation\"\"\"\n",
      "\n",
      "def concat1(alist):\n",
      "    \"\"\"Using string concatenation.\"\"\"\n",
      "    s = alist[0]\n",
      "    for item in alist[1:]:\n",
      "        s += \" \" + item\n",
      "    return s\n",
      "    \n",
      "def concat2(alist):\n",
      "    \"\"\"Using join.\"\"\"\n",
      "    return \" \".join(alist)\n",
      "\n",
      "alist = ['abcde'] * 1000000\n",
      "%timeit concat1(alist)\n",
      "%timeit concat2(alist)    "
     ],
     "language": "python",
     "metadata": {},
     "outputs": [
      {
       "output_type": "stream",
       "stream": "stdout",
       "text": [
        "1 loops, best of 3: 222 ms per loop\n",
        "100 loops, best of 3: 18.8 ms per loop"
       ]
      },
      {
       "output_type": "stream",
       "stream": "stdout",
       "text": [
        "\n"
       ]
      }
     ],
     "prompt_number": 36
    },
    {
     "cell_type": "code",
     "collapsed": false,
     "input": [
      "\"\"\"Avoiding loops.\"\"\"\n",
      "\n",
      "import math\n",
      "\n",
      "def loop1(n):\n",
      "    \"\"\"Using for loop with function call.\"\"\"\n",
      "    z = []\n",
      "    for i in xrange(n):\n",
      "        z.append(math.sin(i))\n",
      "    return z\n",
      "\n",
      "def loop2(n):\n",
      "    \"\"\"Using local version of function.\"\"\"\n",
      "    z = []\n",
      "    sin = math.sin\n",
      "    for i in xrange(n):\n",
      "        z.append(sin(i))\n",
      "    return z\n",
      "\n",
      "def loop3(n):\n",
      "    \"\"\"Using list comprehension.\"\"\"\n",
      "    sin = math.sin\n",
      "    return [sin(i) for i in xrange(n)]\n",
      "\n",
      "def loop4(n):\n",
      "    \"\"\"Using map.\"\"\"\n",
      "    sin = math.sin\n",
      "    return map(sin, xrange(n))\n",
      "\n",
      "def loop5(n):\n",
      "    \"\"\"Using numpy.\"\"\"\n",
      "    return np.sin(np.arange(n)).tolist()\n",
      "\n",
      "n = 1000000\n",
      "%timeit loop1(n)\n",
      "    z2 = loop2(n)\n",
      "    z3 = loop3(n)\n",
      "    z4 = loop4(n)\n",
      "    z5 = loop5(n)\n",
      "\n",
      "    assert(z1==z2)\n",
      "    assert(z1==z3)\n",
      "    assert(z1==z4)\n",
      "    assert(z1==z5)\n",
      "    \n",
      "main()"
     ],
     "language": "python",
     "metadata": {},
     "outputs": []
    },
    {
     "cell_type": "code",
     "collapsed": false,
     "input": [
      "\"\"\"I/O bounded.\"\"\"\n",
      "\n",
      "@timeit\n",
      "def io1(xs):\n",
      "    \"\"\"Using loops to write.\"\"\"\n",
      "    with open('foo1.txt', 'w') as f:\n",
      "        for x in xs:\n",
      "            f.write('%d\\t' % x)\n",
      "    \n",
      "@timeit\n",
      "def io2(xs):\n",
      "    \"\"\"Join before writing.\"\"\"\n",
      "    with open('foo2.txt', 'w') as f:\n",
      "        f.write('\\t'.join(map(str, xs)))\n",
      "        \n",
      "@timeit\n",
      "def io3(xs):\n",
      "    \"\"\"Numpy savetxt is surprisingly slow.\"\"\"\n",
      "    np.savetxt('foo3.txt', xs, delimiter='\\t')\n",
      "        \n",
      "@timeit\n",
      "def io4(xs):\n",
      "    \"\"\"NUmpy save is better if binary format is OK.\"\"\"\n",
      "    np.save('foo4.npy', xs)\n",
      "    \n",
      "def main():\n",
      "    n = 100000\n",
      "    xs = range(n)\n",
      "    io1(xs)\n",
      "    io2(xs)\n",
      "    io3(xs)\n",
      "    io4(xs)\n",
      "    \n",
      "    x1 = map(int, open('foo1.txt').read().strip().split())\n",
      "    x2 = map(int, open('foo2.txt').read().strip().split())\n",
      "    x3 = np.loadtxt('foo3.txt').tolist()\n",
      "    x4 = np.load('foo4.npy').tolist()\n",
      "    \n",
      "    assert(x1 == x2)\n",
      "    assert(x1 == x3)\n",
      "    assert(x1 == x4)\n",
      "    \n",
      "main()"
     ],
     "language": "python",
     "metadata": {},
     "outputs": []
    },
    {
     "cell_type": "code",
     "collapsed": false,
     "input": [
      "\"\"\"Use of caching to trade space for time.\"\"\"\n",
      "\n",
      "def fib1(n):\n",
      "    \"\"\"Traditional recursive definition of Fibonacci series.\"\"\"\n",
      "    if n==1 or n==2:\n",
      "        return 1\n",
      "    else:\n",
      "        return fib1(n-1) + fib1(n-2)\n",
      "    \n",
      "def fib2(n, cache={}):\n",
      "    \"\"\"Use of a dictionary as cache to memoize results.\"\"\"\n",
      "    if n==1 or n==2:\n",
      "        return 1\n",
      "    else:\n",
      "        try:\n",
      "            return cache[n]\n",
      "        except KeyError:\n",
      "            f = fib2(n-1) + fib2(n-2)\n",
      "            cache[n] = f\n",
      "            return f\n",
      "\n",
      "@timeit\n",
      "def fib3(n):\n",
      "    \"\"\"Use closed form solution.\"\"\"\n",
      "    sqrt5 = np.sqrt(5)\n",
      "    phi = (1 + sqrt5)/2\n",
      "    return int(phi**n/sqrt5)\n",
      "        \n",
      "def main():\n",
      "    n = 32\n",
      "    \n",
      "    start = time.clock()\n",
      "    z1 = fib1(n)\n",
      "    print \"'fib1'\", '%0.3f sec' % (time.clock() - start)\n",
      "    \n",
      "    start = time.clock()\n",
      "    z2 = fib2(n)\n",
      "    print \"'fib2'\", '%0.3f sec' % (time.clock() - start)\n",
      "    \n",
      "    z3 = fib3(n)\n",
      "       \n",
      "    assert(z1==z2)\n",
      "    assert(z2==z3)\n",
      "    \n",
      "main()"
     ],
     "language": "python",
     "metadata": {},
     "outputs": []
    },
    {
     "cell_type": "heading",
     "level": 2,
     "metadata": {},
     "source": [
      "Numpy and Scipy"
     ]
    },
    {
     "cell_type": "code",
     "collapsed": false,
     "input": [
      "\"\"\"In place operations are faster than copying.\"\"\"\n",
      "\n",
      "a = np.arange(1e6)\n",
      "    \n",
      "def main():\n",
      "    %timeit global a; a = a * 0\n",
      "    %timeit global a; a *= 0\n",
      "    \n",
      "main()\n",
      "del a"
     ],
     "language": "python",
     "metadata": {},
     "outputs": []
    },
    {
     "cell_type": "code",
     "collapsed": false,
     "input": [
      "\"\"\"Use small strides to maximize cache hits. Variable results.\"\"\"\n",
      "\n",
      "def f1(xs):\n",
      "    return xs.sum(axis=1)\n",
      "\n",
      "def f2(xs):\n",
      "    return xs.sum(axis=0)\n",
      "\n",
      "def main():\n",
      "    global xs\n",
      "    xs = np.zeros((1e4, 1e4), order='C')\n",
      "    %timeit global xs; f1(xs)\n",
      "    %timeit global xs; f2(xs)\n",
      "    \n",
      "main()"
     ],
     "language": "python",
     "metadata": {},
     "outputs": []
    },
    {
     "cell_type": "code",
     "collapsed": false,
     "input": [
      "\"\"\"Numpy indexing tricks to avoid looping.\"\"\"\n",
      "\n",
      "@timeit\n",
      "def idx1(xs):\n",
      "    \"\"\"Using loops.\"\"\"\n",
      "    s = 0\n",
      "    for x in xs:\n",
      "        if (x > 10) and (x < 20):\n",
      "            s += x\n",
      "    return s\n",
      "\n",
      "@timeit\n",
      "def idx2(xs):\n",
      "    \"\"\"Using logical indexing.\"\"\"\n",
      "    return np.sum(xs[(xs > 10) & (xs < 20)])\n",
      "\n",
      "def main():\n",
      "    n = 1000000\n",
      "    xs = npr.randint(0, 100, n)\n",
      "    z1 = idx1(xs)\n",
      "    z2 = idx2(xs)\n",
      "    \n",
      "    assert(z1 == z2)\n",
      "    \n",
      "main()"
     ],
     "language": "python",
     "metadata": {},
     "outputs": []
    },
    {
     "cell_type": "code",
     "collapsed": false,
     "input": [
      "\"\"\"More indexing tricks - stencil operations to average over 9 neighbors with zero boundary conditions\"\"\"\n",
      "\n",
      "@timeit\n",
      "def average1(xs):\n",
      "    \"\"\"Using loops.\"\"\"\n",
      "    ys = xs.copy()\n",
      "    rows, cols = xs.shape\n",
      "    for i in range(rows):\n",
      "        for j in range(cols):\n",
      "            s = 0\n",
      "            for u in range(i-1, i+2):\n",
      "                if u < 0 or u >= rows:\n",
      "                    continue\n",
      "                for v in range(j-1, j+2):\n",
      "                    if v < 0 or v >= cols:\n",
      "                        continue\n",
      "                    s += xs[u, v]\n",
      "            ys[i, j] = s/9.0\n",
      "    return ys\n",
      "\n",
      "@timeit\n",
      "def average2(xs):\n",
      "    \"\"\"Using shifted array views and border to avoid out of bounds checks.\"\"\"\n",
      "    rows, cols = xs.shape\n",
      "    xs1 = np.zeros((rows+2, cols+2))\n",
      "    xs1[1:-1, 1:-1] = xs[:]\n",
      "    ys = (xs1[:-2, :-2]  + xs1[1:-1, :-2]  + xs1[2:, :-2] +\n",
      "          xs1[:-2, 1:-1] + xs1[1:-1, 1:-1] + xs1[2:, 1:-1] +\n",
      "          xs1[:-2, 2:]   + xs1[1:-1, 2:]   + xs1[2:, 2:])/9.0\n",
      "    return ys\n",
      "\n",
      "def main():\n",
      "    n = 300\n",
      "    xs = npr.uniform(0,10,(n, n))\n",
      "    z1 = average1(xs)\n",
      "    z2 = average2(xs)\n",
      "    \n",
      "    subplot(1,3,1)\n",
      "    imshow(xs, interpolation='nearest')\n",
      "    subplot(1,3,2)\n",
      "    imshow(z1, interpolation='nearest')\n",
      "    subplot(1,3,3)\n",
      "    imshow(z2, interpolation='nearest')\n",
      "    \n",
      "    assert(z1.all() == z2.all())\n",
      "    \n",
      "main()"
     ],
     "language": "python",
     "metadata": {},
     "outputs": []
    },
    {
     "cell_type": "code",
     "collapsed": false,
     "input": [
      "\"\"\"Using broadcasting.\"\"\"\n",
      "\n",
      "def main():\n",
      "    \"\"\"Not optimization comparison - just illustrating what broadcasting does.\"\"\"\n",
      "    x = np.arange(1,25)\n",
      "    x.shape = (2,3,4)\n",
      "    \n",
      "    # multiply axis 2 (columns) by [1,2,3,4] - 1st col x1, 2nd col x2, ...\n",
      "    y1 = np.array([1,2,3,4])\n",
      "    z1 = x * y1\n",
      "    \n",
      "    # multiply axis 1 (rows) by [1,2,3] - 1st row x1, 2nd row x2, 3rd row x2\n",
      "    y2 = np.array([1,2,3])\n",
      "    z2 = x * y2[:, np.newaxis]\n",
      "    \n",
      "    # multiply axis 0 (stack) by [1,2] - 1st stack x1, 2nd stack x2\n",
      "    y3 = np.array([1,2])\n",
      "    z3 = x * y3[:, np.newaxis, np.newaxis]\n",
      "    \n",
      "    print z1 / x\n",
      "    print '='*30\n",
      "    print z2 /x\n",
      "    print '='*30\n",
      "    print z3 / x\n",
      "\n",
      "main()"
     ],
     "language": "python",
     "metadata": {},
     "outputs": []
    },
    {
     "cell_type": "code",
     "collapsed": false,
     "input": [
      "\"\"\"Repeat and tile.\"\"\"\n",
      "\n",
      "def main():\n",
      "    x = np.arange(1,5)\n",
      "    print x\n",
      "    print '='*30\n",
      "    print x.repeat(2)\n",
      "    print '='*30\n",
      "    print x.repeat([1,2,3,4])\n",
      "    print\n",
      "    print\n",
      "\n",
      "    y = np.arange(1,9).reshape(2,4)\n",
      "    print y\n",
      "    print '='*30\n",
      "    print y.repeat(2)\n",
      "    print '='*30\n",
      "    print y.repeat(2, axis=1)\n",
      "    print '='*30\n",
      "    print y.repeat(2, axis=0)\n",
      "    print '='*30\n",
      "    print y.repeat([1,2,3,4], axis=1)\n",
      "    print '='*30\n",
      "    print y.repeat([1,2], axis=0)\n",
      "    print \n",
      "    print\n",
      "\n",
      "    z = np.arange(1, 5).reshape(2,2)\n",
      "    print z\n",
      "    print '='*30\n",
      "    # make 1 row and 2 cols of the block z\n",
      "    # broadcasting rules prepend1 to missing dimensions\n",
      "    # so tile(z, 2) is equivalnet to tile(z, (1,2))\n",
      "    print np.tile(z, 2)\n",
      "    print '='*30\n",
      "    # make 2 rows and 3 cols of the block z\n",
      "    print np.tile(z, (2,3))\n",
      "    \n",
      "main()"
     ],
     "language": "python",
     "metadata": {},
     "outputs": []
    },
    {
     "cell_type": "code",
     "collapsed": false,
     "input": [
      "\"\"\"Random choice.\"\"\"\n",
      "\n",
      "def main():\n",
      "    x = np.arange(1, 30)\n",
      "    k = 10\n",
      "\n",
      "    # select with repetition \n",
      "    print npr.choice(x, 10)\n",
      "\n",
      "    # select without repetition\n",
      "    print npr.choice(x, 10, replace=False)\n",
      "\n",
      "    # weighted selection to favor bigger numbers\n",
      "    wts = np.arange(1, len(x)+1, dtype='float')\n",
      "    wts /= np.sum(wts)\n",
      "    print npr.choice(x, 10, p=wts)\n",
      "    \n",
      "main()"
     ],
     "language": "python",
     "metadata": {},
     "outputs": []
    },
    {
     "cell_type": "code",
     "collapsed": false,
     "input": [
      "\"\"\"Distance cacluations.\"\"\"\n",
      "\n",
      "from scipy.spatial.distance import pdist, cdist, squareform\n",
      "\n",
      "def main():\n",
      "    # find all pairwise distance between a set of points\n",
      "    xs = np.arange(1, 13).reshape(4, 3)\n",
      "    print squareform(pdist(xs), 'sqeuclidean')\n",
      "    print '=' * 30\n",
      "\n",
      "    # find all pairwise distances between 2 sets of points\n",
      "    print cdist(xs, xs[::-1], 'sqeuclidean')\n",
      "    \n",
      "main()"
     ],
     "language": "python",
     "metadata": {},
     "outputs": []
    },
    {
     "cell_type": "code",
     "collapsed": false,
     "input": [
      "\"\"\"Dot products for matching lists of vectors or matrices.\"\"\"\n",
      "\n",
      "# find dot product of matching vectors in 2 sets of points\n",
      "from numpy.core.umath_tests import inner1d\n",
      "\n",
      "def main():\n",
      "    xs = np.arange(1,13).reshape(3,4)\n",
      "    print inner1d(xs, xs[::-1])\n",
      "\n",
      "    print '='*30\n",
      "\n",
      "    # same thing but for matrices\n",
      "    from numpy.core.umath_tests import matrix_multiply\n",
      "\n",
      "    xs = npr.randint(0, 10, (5, 2, 2))\n",
      "    ys = npr.randint(0, 10, (5, 2, 2))\n",
      "    print matrix_multiply(xs, ys)\n",
      "    \n",
      "main()"
     ],
     "language": "python",
     "metadata": {},
     "outputs": []
    },
    {
     "cell_type": "code",
     "collapsed": false,
     "input": [
      "\"\"\"Using a memory map to read chunks from file.\"\"\"\n",
      "\n",
      "from tempfile import mktemp\n",
      "\n",
      "def main():\n",
      "    s = 6\n",
      "    x = np.arange(s*s, dtype='float').reshape(s, s)\n",
      "    f = mktemp()\n",
      "    x.tofile(f)\n",
      "\n",
      "    y1 = np.memmap(f, dtype='float', offset=0, shape=(s/2, s))\n",
      "    y2 = np.memmap(f, dtype='float', offset=s/2*x[0].nbytes, shape=(s/2, s))\n",
      "\n",
      "    print x\n",
      "    print '='*30\n",
      "    print y1\n",
      "    print '='*30\n",
      "    print y2\n",
      "    \n",
      "main()"
     ],
     "language": "python",
     "metadata": {},
     "outputs": []
    },
    {
     "cell_type": "code",
     "collapsed": false,
     "input": [
      "\"\"\"Vectorizing a function.\"\"\"\n",
      "\n",
      "def tlog(x):\n",
      "    if x < 1:\n",
      "        return 0\n",
      "    else:\n",
      "        return np.log(x)\n",
      "    \n",
      "vtlog = np.vectorize(tlog, otypes='d')\n",
      "\n",
      "@timeit\n",
      "def func1(xs):\n",
      "    return np.array(map(tlog, xs))\n",
      "\n",
      "@timeit\n",
      "def func2(xs):\n",
      "    return vtlog(xs)\n",
      "\n",
      "def main():\n",
      "    n = 100000\n",
      "    xs = npr.uniform(-10, 10, n)\n",
      "    z1 = func1(xs)\n",
      "    z2 = func2(xs)\n",
      "    assert(np.all(z1==z2))\n",
      "    \n",
      "main()"
     ],
     "language": "python",
     "metadata": {},
     "outputs": []
    },
    {
     "cell_type": "code",
     "collapsed": false,
     "input": [
      "\"\"\"Using bottleneck. Provides a small set of fast operations, especially with NaNs.\"\"\"\n",
      "\n",
      "import bottleneck as bn\n",
      "import numpy.linalg as linalg\n",
      "\n",
      "@timeit\n",
      "def move_mean1(a, window):\n",
      "    \"\"\"Simple implementation using window shifting in numpy.\"\"\"\n",
      "    x = np.zeros_like(a).astype('float')\n",
      "    n = len(a)\n",
      "    for i in range(window):\n",
      "        x[(window-1):] += a[i:(n-window+1+i)]\n",
      "    x[:(window-1)] = np.nan\n",
      "    return x / window\n",
      "\n",
      "@timeit\n",
      "def move_mean2(a, window):\n",
      "    \"\"\"Use bottleneck function.\"\"\"\n",
      "    return bn.move_nanmean(a, window)\n",
      "\n",
      "@timeit\n",
      "def move_mean3(a, window):\n",
      "    \"\"\"Use botteneck function for NaNs.\"\"\"\n",
      "    return bn.move_nanmean(a, window)\n",
      "\n",
      "def main():\n",
      "    a = npr.random(1e6)\n",
      "    window = 100\n",
      "    z1 = move_mean1(a, window)\n",
      "    z2 = move_mean2(a, window)\n",
      "    assert(linalg.norm(z1[(window-1):]-z2[(window-1):]) < 1e-9)\n",
      "    \n",
      "    # bottleneck can also handle NaNs correctly\n",
      "    a[a > 0.9] = np.nan\n",
      "    z3 = move_mean3(a, window)\n",
      "    \n",
      "main()"
     ],
     "language": "python",
     "metadata": {},
     "outputs": []
    },
    {
     "cell_type": "code",
     "collapsed": false,
     "input": [
      "\"\"\"Using numexpr. Provides automatic parallelism and smarter JIT compilation to C code.\"\"\"\n",
      "\n",
      "import numexpr as ne\n",
      "\n",
      "a = npr.random(1e6)\n",
      "\n",
      "def main():\n",
      "    %timeit global a; np.sin(a)**2 + np.cos(a)**2\n",
      "    %timeit global a; ne.evaluate(\"sin(a)**2 + cos(a)**2\")\n",
      "    \n",
      "main()\n",
      "del a"
     ],
     "language": "python",
     "metadata": {},
     "outputs": []
    },
    {
     "cell_type": "heading",
     "level": 2,
     "metadata": {},
     "source": [
      "Parallelization"
     ]
    },
    {
     "cell_type": "code",
     "collapsed": false,
     "input": [
      "\"\"\"Example showing basic use of multiprocessing.Pool.\"\"\"\n",
      "\n",
      "def slow_calc(*args):\n",
      "    time.sleep(1)\n",
      "    return args\n",
      "\n",
      "@timeit\n",
      "def serial(njobs):\n",
      "    results = []\n",
      "    for i in range(njobs):\n",
      "        results.append(slow_calc([i]))\n",
      "    return results\n",
      "       \n",
      "@timeit\n",
      "def parallel(njobs):\n",
      "    from multiprocessing import Pool\n",
      "    p = Pool()\n",
      "    \n",
      "    argss = [[i] for i in range(njobs)]\n",
      "    p.map(slow_calc, argss)\n",
      "    \n",
      "def main():\n",
      "    njobs = 5\n",
      "    serial(njobs)\n",
      "    parallel(njobs)\n",
      "    \n",
      "main()"
     ],
     "language": "python",
     "metadata": {},
     "outputs": []
    },
    {
     "cell_type": "code",
     "collapsed": false,
     "input": [
      "\"\"\"Comparing sync and async versions of apply and map. \n",
      "There is also a threading module in Python, but for numerical calculations, \n",
      "mutliprocessing is more straightforward to use.\"\"\"\n",
      "\n",
      "def calc(args):\n",
      "    i, j = args\n",
      "    return i, j\n",
      "\n",
      "def calc2(i, j):\n",
      "    return i, j\n",
      "\n",
      "def main():\n",
      "    n = 5\n",
      "    \n",
      "    from multiprocessing import Pool\n",
      "    argss = [(i, i) for i in range(n)]\n",
      "    p = Pool()\n",
      "\n",
      "    \"\"\"Use synchronous map.\"\"\"\n",
      "    results1 = p.map(calc, argss)\n",
      "    # blocks until all workers complete their tasks\n",
      "    print results1\n",
      "    \n",
      "    \"\"\"Use asynchronous map.\"\"\"\n",
      "    results2 = p.map_async(calc, argss)\n",
      "    # Do other stuff here\n",
      "    print results2.get()\n",
      "    \n",
      "    \"\"\" Use synchronous apply.\"\"\"\n",
      "    results3 = []\n",
      "    for i in range(n):\n",
      "        args = (i, i)\n",
      "        results3.append(p.apply(calc2, args))\n",
      "    # blocks until all workers complete their tasks\n",
      "    print results3\n",
      "    \n",
      "    \"\"\" Use asynchronous apply.\"\"\"\n",
      "    results4 = []\n",
      "    for i in range(n):\n",
      "        args = (i, i)\n",
      "        results4.append(p.apply_async(calc2, args))\n",
      "    # Do other stuff here\n",
      "    print [worker.get() for worker in results4]\n",
      "    \n",
      "main()"
     ],
     "language": "python",
     "metadata": {},
     "outputs": []
    },
    {
     "cell_type": "code",
     "collapsed": false,
     "input": [
      "\"\"\"Out of memory problems with multiprocessing.Pool.\n",
      "By default, each worker in a pool does not release its memory \n",
      "until all tasks are complete. This can be changed with the\n",
      "maxtasksperchild argument.\n",
      "\"\"\"\n",
      "\n",
      "from multiprocessing import Pool\n",
      "\n",
      "# each thread is destroyed and recreated after every task\n",
      "# use only 4 threadss.\n",
      "p = Pool(4, maxtasksperchild=1)"
     ],
     "language": "python",
     "metadata": {},
     "outputs": []
    },
    {
     "cell_type": "code",
     "collapsed": false,
     "input": [
      "\"\"\"Interactive parallelism with IPython. \n",
      "\n",
      "Python has support for interactive parallel processing. See\n",
      "\n",
      "http://ipython.org/ipython-doc/dev/parallel/parallel_intro.html#parallel-overview and \n",
      "http://minrk.github.com/scipy-tutorial-2011/\n",
      "\n",
      "for details.\"\"\"\n",
      "\n",
      "pass"
     ],
     "language": "python",
     "metadata": {},
     "outputs": []
    },
    {
     "cell_type": "heading",
     "level": 2,
     "metadata": {},
     "source": [
      "Cython"
     ]
    },
    {
     "cell_type": "code",
     "collapsed": false,
     "input": [
      "\"\"\"The following series of examples shows how to code fast Cython versions.\"\"\"\n",
      "import operator\n",
      "\n",
      "def adder1(xs):\n",
      "    \"\"\"Illustrative pure Python code written in a functional style just for fun.\"\"\"\n",
      "    sqrt = np.sqrt\n",
      "    add = operator.add\n",
      "    s = reduce(add, map(sqrt, xs), 0)\n",
      "    return s"
     ],
     "language": "python",
     "metadata": {},
     "outputs": []
    },
    {
     "cell_type": "code",
     "collapsed": false,
     "input": [
      "%load_ext cythonmagic"
     ],
     "language": "python",
     "metadata": {},
     "outputs": []
    },
    {
     "cell_type": "code",
     "collapsed": false,
     "input": [
      "%%cython\n",
      "cimport numpy as np\n",
      "cimport cython\n",
      "\n",
      "# loadign a function from a C library\n",
      "cdef extern from \"math.h\":\n",
      "    double sqrt(double)\n",
      "\n",
      "# this is a slow version - next example shows stuff we can do to make it faster\n",
      "cdef double cadder1(xs):\n",
      "    cdef double s = 0\n",
      "    cdef int i\n",
      "    cdef int n = len(xs)\n",
      "    for i in range(n):\n",
      "        s += sqrt(xs[i])\n",
      "    return s\n",
      "\n",
      "def adder2(xs not None):\n",
      "    return cadder1(xs)\n",
      "\n",
      "# [1] typing the numpy array makes it much faster\n",
      "cdef double cadder2(np.ndarray[np.double_t, ndim=1] xs):\n",
      "    cdef double s = 0\n",
      "    cdef unsigned int i # [2] turn off check for negative indices\n",
      "    cdef int n = len(xs)\n",
      "    for i in range(n):\n",
      "        s += sqrt(xs[i])\n",
      "    return s\n",
      "\n",
      "# [3] turn off bounds checking wit decorator\n",
      "@cython.boundscheck(False)\n",
      "def adder3(xs not None):\n",
      "    return cadder2(xs)"
     ],
     "language": "python",
     "metadata": {},
     "outputs": []
    },
    {
     "cell_type": "code",
     "collapsed": false,
     "input": [
      "def main():\n",
      "    n = 1e6\n",
      "    xs = npr.random(n)\n",
      "    \n",
      "    start = time.time()\n",
      "    z1 = adder1(xs)\n",
      "    print \"'adder1' %.03f sec\" % (time.time() - start)\n",
      "    \n",
      "    start = time.time()\n",
      "    z2 = adder2(xs)\n",
      "    print \"'adder2' %.03f sec\" % (time.time() - start)\n",
      "        \n",
      "    start = time.time()\n",
      "    z3 = adder3(xs)\n",
      "    print \"'adder3' %.03f sec\" % (time.time() - start)\n",
      "            \n",
      "    # numpy version for comparison\n",
      "    start = time.time()\n",
      "    z4 = np.sqrt(xs).sum()\n",
      "    print \"'adder4' %.03f sec\" % (time.time() - start)\n",
      "    \n",
      "    assert(z1 == z2 == z3 == z4)\n",
      "\n",
      "main()"
     ],
     "language": "python",
     "metadata": {},
     "outputs": []
    },
    {
     "cell_type": "heading",
     "level": 2,
     "metadata": {},
     "source": [
      "References"
     ]
    }
   ],
   "metadata": {}
  }
 ]
}