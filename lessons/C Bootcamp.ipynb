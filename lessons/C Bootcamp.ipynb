{
 "metadata": {
  "name": "",
  "signature": "sha256:21c3a341130308a0b513463b356fb1670395ed920b4496a9c57b5bcaa6eef31a"
 },
 "nbformat": 3,
 "nbformat_minor": 0,
 "worksheets": [
  {
   "cells": [
    {
     "cell_type": "markdown",
     "metadata": {},
     "source": [
      "Why C?\n",
      "====\n",
      "\n",
      "1. Speed (and size)\n",
      "2. Use (or wrap) libraries not available in language X\n",
      "3. C programs are portable across platforms\n",
      "4. It is good enough to write the Linux and OSX operating systems, as well as languages such as R and Python"
     ]
    },
    {
     "cell_type": "markdown",
     "metadata": {},
     "source": [
      "### Why not C? \n",
      "\n",
      "What other language has an annual Obfuscated Code Contest <http://www.ioccc.org/>? \n",
      "\n",
      "Here is one winning [entry](http://www.ioccc.org/2013/dlowe/hint.html) that should warm the heart of statisticians - it displays sparklines (invented by Tufte).\n",
      "\n",
      "```c\n",
      "main(a,b)char**b;{int c=1,d=c,e=a-d;for(;e;e--)_(e)<_(c)?c=e:_(e)>_(d)?d=e:7;\n",
      "while(++e<a)printf(\"\\xe2\\x96%c\",129+(**b=8*(_(e)-_(c))/(_(d)-_(c))));}\n",
      "```"
     ]
    },
    {
     "cell_type": "code",
     "collapsed": false,
     "input": [
      "%%file sparkl.c\n",
      "main(a,b)char**b;{int c=1,d=c,e=a-d;for(;e;e--)_(e)<_(c)?c=e:_(e)>_(d)?d=e:7;\n",
      "while(++e<a)printf(\"\\xe2\\x96%c\",129+(**b=8*(_(e)-_(c))/(_(d)-_(c))));}"
     ],
     "language": "python",
     "metadata": {},
     "outputs": [
      {
       "output_type": "stream",
       "stream": "stdout",
       "text": [
        "Overwriting sparkl.c\n"
       ]
      }
     ],
     "prompt_number": 83
    },
    {
     "cell_type": "code",
     "collapsed": false,
     "input": [
      "! gcc -Wno-implicit-int -include stdio.h -include stdlib.h -D'_(x)=strtof(b[x],0)' sparkl.c -o bin/sparkl"
     ],
     "language": "python",
     "metadata": {},
     "outputs": [],
     "prompt_number": 84
    },
    {
     "cell_type": "code",
     "collapsed": false,
     "input": [
      "import numpy as np\n",
      "np.set_printoptions(linewidth=np.infty)\n",
      "print ' '.join(map(str, (100*np.sin(np.linspace(0, 8*np.pi, 30))).astype('int')))"
     ],
     "language": "python",
     "metadata": {},
     "outputs": [
      {
       "output_type": "stream",
       "stream": "stdout",
       "text": [
        "0 76 98 51 -31 -92 -88 -21 60 99 68 -10 -82 -96 -41 41 96 82 10 -68 -99 -60 21 88 92 31 -51 -98 -76 0\n"
       ]
      }
     ],
     "prompt_number": 85
    },
    {
     "cell_type": "code",
     "collapsed": false,
     "input": [
      "%%bash\n",
      "\n",
      "bin/sparkl 0 76 98 51 -31 -92 -88 -21 60 99 68 -10 -82 -96 -41 41 96 82 10 -68 -99 -60 21 88 92 31 -51 -98 -76 0"
     ],
     "language": "python",
     "metadata": {},
     "outputs": [
      {
       "output_type": "stream",
       "stream": "stdout",
       "text": [
        "\u2585\u2588\u2588\u2587\u2583\u2581\u2581\u2584\u2587\u2589\u2587\u2584\u2581\u2581\u2583\u2586\u2588\u2588\u2585\u2582\u2581\u2582\u2585\u2588\u2588\u2586\u2582\u2581\u2581\u2585"
       ]
      }
     ],
     "prompt_number": 86
    },
    {
     "cell_type": "markdown",
     "metadata": {},
     "source": [
      "Tutorial introduction to C\n",
      "----"
     ]
    },
    {
     "cell_type": "code",
     "collapsed": false,
     "input": [
      "%%file utils.c\n",
      "#include \"utils.h\"\n",
      "\n",
      "// Function definitions\n",
      "void print_blank() {\n",
      "    printf(\"\\n\");\n",
      "}\n",
      "\n",
      "double array2d_sum(double **m, int r, int c) {\n",
      "    double s= 0.0;\n",
      "    for (int i=0; i<r; i++) {\n",
      "        for (int j=0; j<c; j++) {\n",
      "            s += m[i][j];\n",
      "        }\n",
      "    }\n",
      "    return s;\n",
      "}"
     ],
     "language": "python",
     "metadata": {},
     "outputs": [
      {
       "output_type": "stream",
       "stream": "stdout",
       "text": [
        "Overwriting utils.c\n"
       ]
      }
     ],
     "prompt_number": 87
    },
    {
     "cell_type": "code",
     "collapsed": false,
     "input": [
      "%%file utils.h\n",
      "#include <stdio.h>\n",
      "\n",
      "// typedef and struct\n",
      "typedef struct point {\n",
      "    double x;\n",
      "    double y;\n",
      "    double z;\n",
      "} point;\n",
      "\n",
      "// Function declarations\n",
      "void print_blank();\n",
      "double array2d_sum(double **m, int r, int c);"
     ],
     "language": "python",
     "metadata": {},
     "outputs": [
      {
       "output_type": "stream",
       "stream": "stdout",
       "text": [
        "Overwriting utils.h\n"
       ]
      }
     ],
     "prompt_number": 88
    },
    {
     "cell_type": "code",
     "collapsed": false,
     "input": [
      "%%file tutorial.c\n",
      "#include <stdlib.h>\n",
      "#include <stdio.h>\n",
      "#include <math.h>\n",
      "#include \"utils.h\"\n",
      "\n",
      "int main(int argc, char *argv[])\n",
      "{\n",
      "    /*\n",
      "    Silly program to demonstrate some C languaage syntax \n",
      "    */\n",
      "\n",
      "    int i = 3;\n",
      "    double pi = 3.14;\n",
      "    char c = 'a'; // single quotes\n",
      "    char s[] = \"Hello, world\"; // double quotes\n",
      "\n",
      "    printf(\"%s, pi=%.2f, num=%d, char=%c\\n\", s, pi, i, c);\n",
      "\n",
      "    print_blank();\n",
      "    \n",
      "    // Initializing a struct\n",
      "    point p = {.z = 2.0, .x = 3.0};\n",
      "    printf(\"Point is (%.4f, %.4f, %.4f)\\n\", p.x, p.y, p.z);\n",
      "\n",
      "    print_blank();\n",
      "\n",
      "    // Get some numbers from command line arguments\n",
      "    int n1 = atoi(argv[1]);\n",
      "    int n2 = atoi(argv[2]);     \n",
      "\n",
      "    // Using arrays with automatic memory\n",
      "    int v1[n1];\n",
      "    for (int i=0; i<n1; i++) {\n",
      "        v1[i] = i*i;\n",
      "    }\n",
      "\n",
      "    // Using the ternary ?: operator to print either \", \" or \"\\n\"\n",
      "    for (int i=0; i<n1; i++) {\n",
      "        printf(\"%d%s\", v1[i], i < (n1-1) ? \", \" : \"\\n\");\n",
      "    }\n",
      "\n",
      "    print_blank();\n",
      "\n",
      "    // Using arrays with manual (or dynamic) memory\n",
      "    double *v2 = malloc(n1 * sizeof(int));\n",
      "    for (int i=0; i<n1; i++) {\n",
      "        v2[i] = sin(i*i);\n",
      "    }\n",
      "\n",
      "    for (int i=0; i<n1; i++) {\n",
      "        printf(\"%.4f%s\", v2[i], i < (n1-1) ? \", \" : \"\\n\");\n",
      "    }\n",
      "\n",
      "    print_blank();\n",
      "    \n",
      "    // Using 2D arrays with automatic memory\n",
      "    double m1[n1][n2];\n",
      "    for (int i=0; i<n1; i++) {\n",
      "        for (int j=0; j<n2; j++) {\n",
      "            m1[i][j] = i*n2 + j;\n",
      "        }\n",
      "    }\n",
      "\n",
      "    for (int i=0; i<n1; i++) {\n",
      "        for (int j=0; j<n2; j++) {\n",
      "            printf(\"%8.4f%s\", m1[i][j], j < (n2-1) ? \", \" : \"\\n\");\n",
      "        }\n",
      "    }\n",
      "\n",
      "    print_blank();\n",
      "\n",
      "    // Using 2D arrays with manual memory\n",
      "    double **m2 = malloc(n1 * sizeof(double));\n",
      "    for (int i=0; i<n1; i++) {\n",
      "        m2[i] = calloc(n2, sizeof(double));\n",
      "    }\n",
      "\n",
      "    for (int i=0; i<n1; i++) {\n",
      "        for (int j=0; j<n2; j++) {\n",
      "            m2[i][j] = sqrt(i*n2 + j);\n",
      "        }\n",
      "    }\n",
      "\n",
      "    for (int i=0; i<n1; i++) {\n",
      "        for (int j=0; j<n2; j++) {\n",
      "            printf(\"%8.4f%s\", m2[i][j], j < (n2-1) ? \", \" : \"\\n\");\n",
      "        }\n",
      "    }\n",
      "\n",
      "    print_blank();\n",
      "\n",
      "    printf(\"The sum of entries in m2 is %.4f\\n\", array2d_sum(m2, n1, n2));\n",
      "\n",
      "    // free memory after usage\n",
      "    free(v2); \n",
      "    for (int i=0; i<n1; i++) {\n",
      "        free(m2[i]);\n",
      "    }\n",
      "    free(m2);\n",
      "}"
     ],
     "language": "python",
     "metadata": {},
     "outputs": [
      {
       "output_type": "stream",
       "stream": "stdout",
       "text": [
        "Overwriting tutorial.c\n"
       ]
      }
     ],
     "prompt_number": 89
    },
    {
     "cell_type": "code",
     "collapsed": false,
     "input": [
      "! clang tutorial.c utils.c -o bin/tutorial"
     ],
     "language": "python",
     "metadata": {},
     "outputs": [],
     "prompt_number": 90
    },
    {
     "cell_type": "code",
     "collapsed": false,
     "input": [
      "! bin/tutorial 4 6"
     ],
     "language": "python",
     "metadata": {},
     "outputs": [
      {
       "output_type": "stream",
       "stream": "stdout",
       "text": [
        "Hello, world, pi=3.14, num=3, char=a\r\n",
        "\r\n",
        "Point is (3.0000, 0.0000, 2.0000)\r\n",
        "\r\n",
        "0, 1, 4, 9\r\n",
        "\r\n",
        "0.0000, 0.8415, -0.7568, 0.4121\r\n",
        "\r\n",
        "  0.0000,   1.0000,   2.0000,   3.0000,   4.0000,   5.0000\r\n",
        "  6.0000,   7.0000,   8.0000,   9.0000,  10.0000,  11.0000\r\n",
        " 12.0000,  13.0000,  14.0000,  15.0000,  16.0000,  17.0000\r\n",
        " 18.0000,  19.0000,  20.0000,  21.0000,  22.0000,  23.0000\r\n",
        "\r\n",
        "  0.0000,   1.0000,   1.4142,   1.7321,   2.0000,   2.2361\r\n",
        "  2.4495,   2.6458,   2.8284,   3.0000,   3.1623,   3.3166\r\n",
        "  3.4641,   3.6056,   3.7417,   3.8730,   4.0000,   4.1231\r\n",
        "  4.2426,   4.3589,   4.4721,   4.5826,   4.6904,   4.7958\r\n",
        "\r\n",
        "The sum of entries in m2 is 75.7348\r\n"
       ]
      }
     ],
     "prompt_number": 91
    },
    {
     "cell_type": "markdown",
     "metadata": {},
     "source": [
      "### C program structure"
     ]
    },
    {
     "cell_type": "code",
     "collapsed": false,
     "input": [
      "%%file main1.c\n",
      "// simplest possible C program\n",
      "int main() {}"
     ],
     "language": "python",
     "metadata": {},
     "outputs": [
      {
       "output_type": "stream",
       "stream": "stdout",
       "text": [
        "Overwriting main1.c\n"
       ]
      }
     ],
     "prompt_number": 92
    },
    {
     "cell_type": "markdown",
     "metadata": {},
     "source": [
      "### Compilation\n",
      "\n",
      "C code is processed by a *preprocessor*, a *compiler* and a *linker* to produce an executable program:\n",
      "\n",
      "* **Preprocessor**: Mainjob is to copy `#include` source code into files. By convention, source files that are found in \"the usual places\" use the <stdio.h> notation while source files in the local directory that you create use the \"my_header.h\" notation.\n",
      "* **Compiler**: Converts C source files into object code\n",
      "* **Linker**: Resolves symbols from differnt object files (including shared libraries) to create a single executble\n",
      "\n",
      "Typically, preprocssing and compiling are done in one stage, and linking is a done in a separate stage."
     ]
    },
    {
     "cell_type": "code",
     "collapsed": false,
     "input": [
      "! clang -Wall main.c -o bin/main"
     ],
     "language": "python",
     "metadata": {},
     "outputs": [
      {
       "output_type": "stream",
       "stream": "stdout",
       "text": [
        "clang: error: no such file or directory: 'main.c'\r\n",
        "clang: error: no input files\r\n"
       ]
      }
     ],
     "prompt_number": 93
    },
    {
     "cell_type": "code",
     "collapsed": false,
     "input": [
      "%%bash\n",
      "\n",
      "# Again, but separating compilation and linking steps\n",
      "\n",
      "# Preprocess and compile\n",
      "clang -Wall -c main1.c -o bin/main1.o\n",
      "\n",
      "# Link\n",
      "clang -Wall bin/main1.o -o bin/main1"
     ],
     "language": "python",
     "metadata": {},
     "outputs": [],
     "prompt_number": 109
    },
    {
     "cell_type": "markdown",
     "metadata": {},
     "source": [
      "### Command line arguments"
     ]
    },
    {
     "cell_type": "code",
     "collapsed": false,
     "input": [
      "%%file main2.c\n",
      "#include <stdio.h>\n",
      "\n",
      "int main(int argc, char* argv[])\n",
      "{\n",
      "    printf(\"Number of arguments = %d\\n\", argc);\n",
      "    for (int i=0; i<argc; i++) {\n",
      "        printf(\"%s %s\", argv[i], i < (argc-1)? \", \" : \"\\n\");\n",
      "    }\n",
      "}"
     ],
     "language": "python",
     "metadata": {},
     "outputs": [
      {
       "output_type": "stream",
       "stream": "stdout",
       "text": [
        "Overwriting main2.c\n"
       ]
      }
     ],
     "prompt_number": 95
    },
    {
     "cell_type": "code",
     "collapsed": false,
     "input": [
      "%%bash\n",
      "clang -Wall main2.c -o bin/main2\n",
      "bin/main2 Hello this is number 4"
     ],
     "language": "python",
     "metadata": {},
     "outputs": [
      {
       "output_type": "stream",
       "stream": "stdout",
       "text": [
        "Number of arguments = 6\n",
        "bin/main2 , Hello , this , is , number , 4 \n"
       ]
      }
     ],
     "prompt_number": 96
    },
    {
     "cell_type": "markdown",
     "metadata": {},
     "source": [
      "### Types in C\n",
      "\n",
      "The basic types are very simple - use int, float and double for numbers. In genneral, avoid float for plain C code as its lack of precision may bite you unless you are writing CUDA code. Strings are quite nasty to use in C - I would suggest doing all your string processing in Python ...\n",
      "\n",
      "Structs are sort of like classes in Python\n",
      "\n",
      "```c\n",
      "struct point {\n",
      "    double x;\n",
      "    double y;\n",
      "    double z;\n",
      "};\n",
      "\n",
      "struct point p1 = {.x = 1, .y = 2, .z = 3};\n",
      "struct point p2 = {1, 2, 3};\n",
      "struct point p3;\n",
      "p3.x = 1;\n",
      "p3.y = 2;\n",
      "p3.z = 3;\n",
      "```\n",
      "\n",
      "You can define your own types using `typedef` -.e.g.\n",
      "```c\n",
      "#include <stdio.h>\n",
      "struct point {\n",
      "    double x;\n",
      "    double y;\n",
      "    double z;\n",
      "};\n",
      "\n",
      "typedef struct point point;\n",
      "\n",
      "int main() {\n",
      "    point p = {1, 2, 3};\n",
      "    printf(\"%.2f, %.2f, %.2f\", p.x, p.y, p.z);\n",
      "};\n",
      "```\n",
      "\n",
      "\n"
     ]
    },
    {
     "cell_type": "markdown",
     "metadata": {},
     "source": [
      "### Operators\n",
      "Most of the operators in C are the same in Python, but an important difference is the increment/decrement operator. That is\n",
      "```c\n",
      "int c = 10;\n",
      "c++; // same as c = c + 1, i.e., c is now 11\n",
      "c--; // same as c = c - 1, i.e.. c is now 10 again\n",
      "```\n",
      "\n",
      "There are two forms of the incremanet operator - postfix ```c++``` and prefix ```++c```. Both increemnt the varible, but in an expressino, the postfix veersion returns the value before the increment and the prefix returns the value after the increment.\n"
     ]
    },
    {
     "cell_type": "code",
     "collapsed": false,
     "input": [
      "%%file increment.c\n",
      "#include <stdio.h>\n",
      "#include <stdlib.h>\n",
      "\n",
      "int main()\n",
      "{\n",
      "    int x = 3, y;\n",
      "    y = x++; // x is incremented and y takes the value of x before incrementation\n",
      "    printf(\"x = %d, y = %d\\n\", x, y); \n",
      "    y = ++x; // x is incremented and y takes the value of x after incrementation\n",
      "    printf(\"x = %d, y = %d\\n\", x, y); \n",
      "}"
     ],
     "language": "python",
     "metadata": {},
     "outputs": [
      {
       "output_type": "stream",
       "stream": "stdout",
       "text": [
        "Overwriting increment.c\n"
       ]
      }
     ],
     "prompt_number": 97
    },
    {
     "cell_type": "code",
     "collapsed": false,
     "input": [
      "%%bash\n",
      "\n",
      "clang -Wall increment.c -o bin/increment\n",
      "bin/increment"
     ],
     "language": "python",
     "metadata": {},
     "outputs": [
      {
       "output_type": "stream",
       "stream": "stdout",
       "text": [
        "x = 4, y = 3\n",
        "x = 5, y = 5\n"
       ]
      }
     ],
     "prompt_number": 98
    },
    {
     "cell_type": "markdown",
     "metadata": {},
     "source": [
      "#### Automatic arrays\n",
      "If you know the size of the arrays at initialization (i.e. when the program is first run), you can usually get away with the use of fixed size arrays for which C will automatically manage memory for you.\n",
      "\n",
      "```c\n",
      "int len = 3;\n",
      "\n",
      "// Giving an explicit size\n",
      "double xs[len];\n",
      "for (int i=0; i<len; i++) {\n",
      "    xs[i] = 0.0;\n",
      "}\n",
      "\n",
      "// C can infer size if initializer is given\n",
      "double ys[] = {1, 2, 3};\n",
      "```\n",
      "\n",
      "### Pointers\n",
      "Otherwise, we have to manage memory ourselves using pointers. Bascially, memory in C can be auotmatic, static or dynamic. Variables in automatic memory are managed by the computer, when it goes out of *scope*, the varible disappears. Static variables essentially live forever. Dynamic memory is allocated in the *stack*, and you manage its lifetime. \n",
      "\n",
      "Mini-glossary:\n",
      "* **scope**: Where a variable is visible - basically C variables have *block* scope - variables either live within a pair of curly braces (inlucdes variables in parentheses just before block such as function arguments and the counter in a for loop), or they are visible thorughout the file.\n",
      "* **stack**: Computer memory is divided into a stack (small) and a heap (big). Automatic varianbles are put on the stack; dynamcic variables are put in the heap. Hence if you have a very large array, you would use dynamic memory allocation even if you knwe its size at initialization. \n",
      "\n",
      "Any variable in memory has an address represented as a 64-bit integer in most operating systems. A pointer is basically an integer containing the address of a block of memory. This is what is returned by functions such as `malloc`. In C, a pointer is dentoed by '*'. However, the '*' notation is confusing because its interpreation depends on whehter you are using it in a declaraiton or not. In a declaration\n",
      "```c\n",
      "int *p = malloc(sizeof(int)); // p is a pointer to an integer\n",
      "*p = 5; // *p is an integer\n",
      "```\n",
      "\n",
      "To get the actual address value, we can use the `&` address opertor. This is often used so that a function can alter the value of an argument passed in (e.g. see address.c below)."
     ]
    },
    {
     "cell_type": "code",
     "collapsed": false,
     "input": [
      "%%file address.c\n",
      "#include <stdio.h>\n",
      "\n",
      "void change_arg(int *p) {\n",
      "    *p *= 2;\n",
      "}\n",
      "int main()\n",
      "{\n",
      "    int x = 5;\n",
      "    change_arg(&x);\n",
      "    printf(\"%d\\n\", x);\n",
      "}"
     ],
     "language": "python",
     "metadata": {},
     "outputs": [
      {
       "output_type": "stream",
       "stream": "stdout",
       "text": [
        "Overwriting address.c\n"
       ]
      }
     ],
     "prompt_number": 99
    },
    {
     "cell_type": "code",
     "collapsed": false,
     "input": [
      "%%bash\n",
      "\n",
      "clang -Wall address.c -o bin/address\n",
      "bin/address"
     ],
     "language": "python",
     "metadata": {},
     "outputs": [
      {
       "output_type": "stream",
       "stream": "stdout",
       "text": [
        "10\n"
       ]
      }
     ],
     "prompt_number": 100
    },
    {
     "cell_type": "markdown",
     "metadata": {},
     "source": [
      "### Pointers (continued)\n",
      "If we want to store a whole sequence of ints, we can do so by simply allocating more memory:\n",
      "\n",
      "```c\n",
      "int *ps = malloc(5 * sizeof(int)); // p is a pointer to an integer\n",
      "for (int i=0; i<5; i++) {\n",
      "    ps[i] = i;\n",
      "}\n",
      "```\n",
      "\n",
      "The computer will find enough space in the heap to store 5 consecutive integers in a **contiguour** way. Since C arrays are all fo the same type, this allows us to do **pointer arithmetic** - i.e. the pointer `ps` is the same as `&ps[0]` and `ps + 2` is the same as `&ps[2]`. An example at this point is helpful."
     ]
    },
    {
     "cell_type": "code",
     "collapsed": false,
     "input": [
      "%%file pointers.c\n",
      "#include <stdio.h>\n",
      "#include <stdlib.h>\n",
      "\n",
      "int main()\n",
      "{\n",
      "    int *ps = malloc(5 * sizeof(int));\n",
      "    for (int i =0; i < 5; i++) {\n",
      "        ps[i] = i + 10;\n",
      "    }\n",
      "\n",
      "    printf(\"%d, %d\\n\", *ps, ps[0]); // remmeber that *ptr is just a regular variable outside of a declaration, in this case, an int\n",
      "    printf(\"%d, %d\\n\", *(ps+2), ps[2]); \n",
      "    printf(\"%d, %d\\n\", *(ps+4), *(&ps[4])); // * and & are inverses\n",
      "}"
     ],
     "language": "python",
     "metadata": {},
     "outputs": [
      {
       "output_type": "stream",
       "stream": "stdout",
       "text": [
        "Overwriting pointers.c\n"
       ]
      }
     ],
     "prompt_number": 101
    },
    {
     "cell_type": "code",
     "collapsed": false,
     "input": [
      "%%bash\n",
      "\n",
      "clang -Wall pointers.c -o bin/pointers\n",
      "bin/pointers"
     ],
     "language": "python",
     "metadata": {},
     "outputs": [
      {
       "output_type": "stream",
       "stream": "stdout",
       "text": [
        "10, 10\n",
        "12, 12\n",
        "14, 14\n"
       ]
      }
     ],
     "prompt_number": 102
    },
    {
     "cell_type": "markdown",
     "metadata": {},
     "source": [
      "### Pointers (continued)\n",
      "\n",
      "A common C idiom is `*q++ = *p++` to copy from a src array to a destination array, where p and q are both pointers. In English, this says\n",
      "\n",
      "* \\*q = \\*p (copy the variable pointed to by p into the variable pointed to by q)\n",
      "* increment q\n",
      "* increment p\n",
      "\n",
      "I suggest that you avoid such code."
     ]
    },
    {
     "cell_type": "code",
     "collapsed": false,
     "input": [
      "%%file pointers2.c\n",
      "#include <stdio.h>\n",
      "#include <stdlib.h>\n",
      "\n",
      "int main()\n",
      "{\n",
      "    // example 1\n",
      "    typedef char* string;\n",
      "    char *s[] = {\"mary \", \"had \", \"a \", \"little \", \"lamb\", NULL};\n",
      "    for (char **sp = s; *sp != NULL; sp++) {\n",
      "        printf(\"%s\", *sp);\n",
      "    }\n",
      "    printf(\"\\n\");\n",
      "\n",
      "    // example 2\n",
      "    char *src = \"abcde\";\n",
      "    char *dest = malloc(5); // char is always 1 byte by C99 definition\n",
      "    \n",
      "    char *p = src + 4;\n",
      "    char *q = dest;\n",
      "    while ((*q++ = *p--)); // put the string in src into dest in reverse order\n",
      "\n",
      "    for (int i = 0; i < 5; i++) {\n",
      "        printf(\"i = %d, src[i] = %c, dest[i] = %c\\n\", i, src[i], dest[i]);\n",
      "    }\n",
      "}"
     ],
     "language": "python",
     "metadata": {},
     "outputs": [
      {
       "output_type": "stream",
       "stream": "stdout",
       "text": [
        "Overwriting pointers2.c\n"
       ]
      }
     ],
     "prompt_number": 103
    },
    {
     "cell_type": "code",
     "collapsed": false,
     "input": [
      "%%bash\n",
      "\n",
      "clang -Wall pointers2.c -o bin/pointers2\n",
      "bin/pointers2"
     ],
     "language": "python",
     "metadata": {},
     "outputs": [
      {
       "output_type": "stream",
       "stream": "stdout",
       "text": [
        "mary had a little lamb\n",
        "i = 0, src[i] = a, dest[i] = e\n",
        "i = 1, src[i] = b, dest[i] = d\n",
        "i = 2, src[i] = c, dest[i] = c\n",
        "i = 3, src[i] = d, dest[i] = b\n",
        "i = 4, src[i] = e, dest[i] = a\n"
       ]
      }
     ],
     "prompt_number": 104
    },
    {
     "cell_type": "markdown",
     "metadata": {},
     "source": [
      "### Functions"
     ]
    },
    {
     "cell_type": "code",
     "collapsed": false,
     "input": [
      "%%file square.c\n",
      "#include <stdio.h>\n",
      "\n",
      "double square(double x)\n",
      "{\n",
      "    return x * x;\n",
      "}\n",
      "\n",
      "int main()\n",
      "{\n",
      "    double a = 3;\n",
      "    printf(\"%f\\n\", square(a));\n",
      "}"
     ],
     "language": "python",
     "metadata": {},
     "outputs": [
      {
       "output_type": "stream",
       "stream": "stdout",
       "text": [
        "Overwriting square.c\n"
       ]
      }
     ],
     "prompt_number": 105
    },
    {
     "cell_type": "code",
     "collapsed": false,
     "input": [
      "%%bash\n",
      "\n",
      "clang -Wall square.c -o bin/square\n",
      "bin/square"
     ],
     "language": "python",
     "metadata": {},
     "outputs": [
      {
       "output_type": "stream",
       "stream": "stdout",
       "text": [
        "9.000000\n"
       ]
      }
     ],
     "prompt_number": 106
    },
    {
     "cell_type": "markdown",
     "metadata": {},
     "source": [
      "### Function pointers"
     ]
    },
    {
     "cell_type": "code",
     "collapsed": false,
     "input": [
      "%%file square2.c\n",
      "#include <stdio.h>\n",
      "#include <math.h>\n",
      "\n",
      "// Create a function pointer type that takes a double and returns a double\n",
      "typedef double (*func)(double x);\n",
      "\n",
      "// A higher order function that takes just such a function pointer\n",
      "double apply(func f, double x)\n",
      "{\n",
      "    return f(x);\n",
      "}\n",
      "\n",
      "double square(double x)\n",
      "{\n",
      "    return x * x;\n",
      "}\n",
      "\n",
      "double cube(double x)\n",
      "{\n",
      "    return pow(x, 3);\n",
      "}\n",
      "\n",
      "int main()\n",
      "{\n",
      "    double a = 3;\n",
      "    func fs[] = {square, cube};\n",
      "    for (int i=0; i<2; i++) {\n",
      "        printf(\"%.1f\\n\", apply(fs[i], a));\n",
      "    }\n",
      "}"
     ],
     "language": "python",
     "metadata": {},
     "outputs": [
      {
       "output_type": "stream",
       "stream": "stdout",
       "text": [
        "Overwriting square2.c\n"
       ]
      }
     ],
     "prompt_number": 107
    },
    {
     "cell_type": "code",
     "collapsed": false,
     "input": [
      "%%bash\n",
      "\n",
      "clang -Wall -lm square2.c -o bin/square2\n",
      "bin/square2"
     ],
     "language": "python",
     "metadata": {},
     "outputs": [
      {
       "output_type": "stream",
       "stream": "stdout",
       "text": [
        "9.0\n",
        "27.0\n"
       ]
      }
     ],
     "prompt_number": 108
    },
    {
     "cell_type": "code",
     "collapsed": false,
     "input": [],
     "language": "python",
     "metadata": {},
     "outputs": [],
     "prompt_number": 108
    }
   ],
   "metadata": {}
  }
 ]
}