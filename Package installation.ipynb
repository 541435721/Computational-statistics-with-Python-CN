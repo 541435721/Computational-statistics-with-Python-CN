{
 "metadata": {
  "name": "",
  "signature": "sha256:275005e6ef901ed802e9e1f85fada4d3719b1278696a02e3e5bf1089c78dab74"
 },
 "nbformat": 3,
 "nbformat_minor": 0,
 "worksheets": [
  {
   "cells": [
    {
     "cell_type": "code",
     "collapsed": false,
     "input": [
      "! conda install basemap "
     ],
     "language": "python",
     "metadata": {},
     "outputs": []
    },
    {
     "cell_type": "code",
     "collapsed": false,
     "input": [
      "! pip install cythongsl"
     ],
     "language": "python",
     "metadata": {},
     "outputs": [
      {
       "output_type": "stream",
       "stream": "stdout",
       "text": [
        "Downloading/unpacking cythongsl\r\n"
       ]
      },
      {
       "output_type": "stream",
       "stream": "stdout",
       "text": [
        "  Downloading CythonGSL-0.2.1.tar.gz (81kB): \r",
        "  Downloading CythonGSL-0.2.1.tar.gz (81kB):   5%  4.1kB\r",
        "  Downloading CythonGSL-0.2.1.tar.gz (81kB):  10%  8.2kB\r",
        "  Downloading CythonGSL-0.2.1.tar.gz (81kB):  15%  12kB \r",
        "  Downloading CythonGSL-0.2.1.tar.gz (81kB):  20%  16kB\r",
        "  Downloading CythonGSL-0.2.1.tar.gz (81kB):  25%  20kB\r",
        "  Downloading CythonGSL-0.2.1.tar.gz (81kB):  30%  24kB\r",
        "  Downloading CythonGSL-0.2.1.tar.gz (81kB):  35%  28kB\r",
        "  Downloading CythonGSL-0.2.1.tar.gz (81kB):  40%  32kB"
       ]
      },
      {
       "output_type": "stream",
       "stream": "stdout",
       "text": [
        "\r",
        "  Downloading CythonGSL-0.2.1.tar.gz (81kB):  45%  36kB\r",
        "  Downloading CythonGSL-0.2.1.tar.gz (81kB):  50%  40kB\r",
        "  Downloading CythonGSL-0.2.1.tar.gz (81kB):  55%  45kB\r",
        "  Downloading CythonGSL-0.2.1.tar.gz (81kB):  60%  49kB\r",
        "  Downloading CythonGSL-0.2.1.tar.gz (81kB):  65%  53kB\r",
        "  Downloading CythonGSL-0.2.1.tar.gz (81kB):  70%  57kB\r",
        "  Downloading CythonGSL-0.2.1.tar.gz (81kB):  75%  61kB\r",
        "  Downloading CythonGSL-0.2.1.tar.gz (81kB):  80%  65kB\r",
        "  Downloading CythonGSL-0.2.1.tar.gz (81kB):  85%  69kB\r",
        "  Downloading CythonGSL-0.2.1.tar.gz (81kB):  90%  73kB\r",
        "  Downloading CythonGSL-0.2.1.tar.gz (81kB):  95%  77kB\r",
        "  Downloading CythonGSL-0.2.1.tar.gz (81kB): 100%  81kB\r",
        "  Downloading CythonGSL-0.2.1.tar.gz (81kB):           \r",
        "  Downloading CythonGSL-0.2.1.tar.gz (81kB): 81kB downloaded\r\n"
       ]
      },
      {
       "output_type": "stream",
       "stream": "stdout",
       "text": [
        "  Running setup.py (path:/private/var/folders/bh/x038t1s943qftp7jzrnkg1vm0000gn/T/pip_build_cliburn/cythongsl/setup.py) egg_info for package cythongsl\r\n"
       ]
      },
      {
       "output_type": "stream",
       "stream": "stdout",
       "text": [
        "    \r\n"
       ]
      },
      {
       "output_type": "stream",
       "stream": "stdout",
       "text": [
        "Requirement already satisfied (use --upgrade to upgrade): Cython>=0.16 in /Users/cliburn/anaconda/lib/python2.7/site-packages (from cythongsl)\r\n"
       ]
      },
      {
       "output_type": "stream",
       "stream": "stdout",
       "text": [
        "Installing collected packages: cythongsl\r\n",
        "  Running setup.py install for cythongsl\r\n"
       ]
      },
      {
       "output_type": "stream",
       "stream": "stdout",
       "text": [
        "    \r\n"
       ]
      },
      {
       "output_type": "stream",
       "stream": "stdout",
       "text": [
        "Successfully installed cythongsl\r\n",
        "Cleaning up...\r\n"
       ]
      }
     ],
     "prompt_number": 2
    },
    {
     "cell_type": "code",
     "collapsed": false,
     "input": [
      "! pip install Quandl"
     ],
     "language": "python",
     "metadata": {},
     "outputs": [
      {
       "output_type": "stream",
       "stream": "stdout",
       "text": [
        "Downloading/unpacking Quandl\r\n"
       ]
      },
      {
       "output_type": "stream",
       "stream": "stdout",
       "text": [
        "  Downloading Quandl-1.9.7.tar.gz\r\n"
       ]
      },
      {
       "output_type": "stream",
       "stream": "stdout",
       "text": [
        "  Running setup.py (path:/private/var/folders/41/h4zw85g95_3fsdf2jw_b01240000gn/T/pip_build_cliburn/Quandl/setup.py) egg_info for package Quandl\r\n"
       ]
      },
      {
       "output_type": "stream",
       "stream": "stdout",
       "text": [
        "    \r\n"
       ]
      },
      {
       "output_type": "stream",
       "stream": "stdout",
       "text": [
        "Installing collected packages: Quandl\r\n",
        "  Running setup.py install for Quandl\r\n"
       ]
      },
      {
       "output_type": "stream",
       "stream": "stdout",
       "text": [
        "    \r\n"
       ]
      },
      {
       "output_type": "stream",
       "stream": "stdout",
       "text": [
        "Successfully installed Quandl\r\n",
        "Cleaning up...\r\n"
       ]
      }
     ],
     "prompt_number": 1
    },
    {
     "cell_type": "code",
     "collapsed": false,
     "input": [
      "%%bash\n",
      "pip install plotly\n",
      "python -c \"import plotly; plotly.tools.set_credentials_file(username='cliburn', api_key='ehst6lm24h', stream_ids=['ppwi86xkzd', 'e16qb7oyep'])\""
     ],
     "language": "python",
     "metadata": {},
     "outputs": []
    },
    {
     "cell_type": "code",
     "collapsed": false,
     "input": [
      "! pip install git+https://github.com/nfoti/cythonRMath.git"
     ],
     "language": "python",
     "metadata": {},
     "outputs": []
    },
    {
     "cell_type": "code",
     "collapsed": false,
     "input": [
      "! pip install git+https://github.com/dabeaz/bitey.git"
     ],
     "language": "python",
     "metadata": {},
     "outputs": []
    },
    {
     "cell_type": "code",
     "collapsed": false,
     "input": [
      "! pip install ggplot"
     ],
     "language": "python",
     "metadata": {},
     "outputs": []
    },
    {
     "cell_type": "code",
     "collapsed": false,
     "input": [
      "! pip install -U pandasql"
     ],
     "language": "python",
     "metadata": {},
     "outputs": []
    },
    {
     "cell_type": "code",
     "collapsed": false,
     "input": [
      "! pip install psutil"
     ],
     "language": "python",
     "metadata": {},
     "outputs": []
    },
    {
     "cell_type": "code",
     "collapsed": false,
     "input": [
      "! pip install memory_profiler"
     ],
     "language": "python",
     "metadata": {},
     "outputs": []
    },
    {
     "cell_type": "code",
     "collapsed": false,
     "input": [
      "! pip install --pre line-profiler "
     ],
     "language": "python",
     "metadata": {},
     "outputs": []
    },
    {
     "cell_type": "code",
     "collapsed": false,
     "input": [
      "! pip install -I openpyxl==1.8.6 "
     ],
     "language": "python",
     "metadata": {},
     "outputs": []
    },
    {
     "cell_type": "code",
     "collapsed": false,
     "input": [
      "! pip install git+https://github.com/jakevdp/JSAnimation.git"
     ],
     "language": "python",
     "metadata": {},
     "outputs": []
    },
    {
     "cell_type": "code",
     "collapsed": false,
     "input": [
      "! pip install oct2py  "
     ],
     "language": "python",
     "metadata": {},
     "outputs": []
    },
    {
     "cell_type": "code",
     "collapsed": false,
     "input": [
      "! pip install rpy2 "
     ],
     "language": "python",
     "metadata": {},
     "outputs": []
    },
    {
     "cell_type": "code",
     "collapsed": false,
     "input": [
      "! pip install functional "
     ],
     "language": "python",
     "metadata": {},
     "outputs": []
    },
    {
     "cell_type": "code",
     "collapsed": false,
     "input": [
      "! pip install mpld3 "
     ],
     "language": "python",
     "metadata": {},
     "outputs": []
    },
    {
     "cell_type": "code",
     "collapsed": false,
     "input": [
      "! pip install statsmodels"
     ],
     "language": "python",
     "metadata": {},
     "outputs": []
    },
    {
     "cell_type": "code",
     "collapsed": false,
     "input": [
      "! pip install seaborn "
     ],
     "language": "python",
     "metadata": {},
     "outputs": []
    },
    {
     "cell_type": "code",
     "collapsed": false,
     "input": [
      "! pip install git+https://github.com/epmoyer/ipy_table "
     ],
     "language": "python",
     "metadata": {},
     "outputs": []
    },
    {
     "cell_type": "code",
     "collapsed": false,
     "input": [
      " ! pip install git+https://github.com/arokem/python-matlab-bridge.git "
     ],
     "language": "python",
     "metadata": {},
     "outputs": []
    },
    {
     "cell_type": "code",
     "collapsed": false,
     "input": [
      "! pip install git+https://github.com/pymc-devs/pymc"
     ],
     "language": "python",
     "metadata": {},
     "outputs": []
    },
    {
     "cell_type": "code",
     "collapsed": false,
     "input": [
      "! pip install pyzmq "
     ],
     "language": "python",
     "metadata": {},
     "outputs": []
    },
    {
     "cell_type": "code",
     "collapsed": false,
     "input": [
      "! pip install emcee "
     ],
     "language": "python",
     "metadata": {},
     "outputs": []
    },
    {
     "cell_type": "code",
     "collapsed": false,
     "input": [
      "! pip install pystan "
     ],
     "language": "python",
     "metadata": {},
     "outputs": []
    },
    {
     "cell_type": "code",
     "collapsed": false,
     "input": [
      "! pip install runipy"
     ],
     "language": "python",
     "metadata": {},
     "outputs": []
    },
    {
     "cell_type": "code",
     "collapsed": false,
     "input": [
      "%install_ext https://raw.github.com/mgaitan/fortran_magic/master/fortranmagic.py\n",
      "%install_ext https://gist.githubusercontent.com/bfroehle/3458310/raw/biteymagic.py\n",
      "%install_ext https://raw.github.com/tkf/ipython-sqlitemagic/master/sqlitemagic.py\n",
      "%install_ext http://raw.github.com/jrjohansson/version_information/master/version_information.py"
     ],
     "language": "python",
     "metadata": {},
     "outputs": []
    },
    {
     "cell_type": "code",
     "collapsed": false,
     "input": [],
     "language": "python",
     "metadata": {},
     "outputs": []
    }
   ],
   "metadata": {}
  }
 ]
}