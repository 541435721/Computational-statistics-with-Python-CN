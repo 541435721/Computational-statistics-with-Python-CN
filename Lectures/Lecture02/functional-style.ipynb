{
 "metadata": {
  "name": "",
  "signature": "sha256:68567e4808e098c04312a68c7e38fc31569009e30afcc53ba9a02492887f0047"
 },
 "nbformat": 3,
 "nbformat_minor": 0,
 "worksheets": [
  {
   "cells": [
    {
     "cell_type": "code",
     "collapsed": false,
     "input": [
      "import os\n",
      "import sys\n",
      "import glob\n",
      "import matplotlib.pyplot as plt\n",
      "import numpy as np\n",
      "import pandas as pd\n",
      "%matplotlib inline\n",
      "%precision 4"
     ],
     "language": "python",
     "metadata": {},
     "outputs": [
      {
       "metadata": {},
       "output_type": "pyout",
       "prompt_number": 11,
       "text": [
        "u'%.4f'"
       ]
      }
     ],
     "prompt_number": 11
    },
    {
     "cell_type": "markdown",
     "metadata": {},
     "source": [
      "Functions are first class objects\n",
      "----\n",
      "\n",
      "In Python, functions behave like any other object, such as an int or a list. That means that you can use functions as arguments to other functions, store functions as dictionary values, or retrun a function from another function. This leads to many powerful ways to use functions."
     ]
    },
    {
     "cell_type": "code",
     "collapsed": false,
     "input": [
      "def square(x):\n",
      "    \"\"\"Square of x.\"\"\"\n",
      "    return x*x\n",
      "\n",
      "def cube(x):\n",
      "    \"\"\"Cube of x.\"\"\"\n",
      "    return x*x*x"
     ],
     "language": "python",
     "metadata": {},
     "outputs": [],
     "prompt_number": 7
    },
    {
     "cell_type": "code",
     "collapsed": false,
     "input": [
      "# create a dictionary of functions\n",
      "\n",
      "funcs = {\n",
      "    'square': square,\n",
      "    'cube': cube,\n",
      "}"
     ],
     "language": "python",
     "metadata": {},
     "outputs": [],
     "prompt_number": 9
    },
    {
     "cell_type": "code",
     "collapsed": false,
     "input": [
      "x = 2\n",
      "\n",
      "print square(x)\n",
      "print cube(x)\n",
      "\n",
      "for func in sorted(funcs):\n",
      "    print func, funcs[func](x)"
     ],
     "language": "python",
     "metadata": {},
     "outputs": [
      {
       "output_type": "stream",
       "stream": "stdout",
       "text": [
        "4\n",
        "8\n",
        "cube 8\n",
        "square 4\n"
       ]
      }
     ],
     "prompt_number": 10
    },
    {
     "cell_type": "markdown",
     "metadata": {},
     "source": [
      "Higher-order functions\n",
      "----\n",
      "\n",
      "A function that uses another function as an input argument or returns a function (HOF) is known as a higher-order function. The most familiar examples are `map` and `filter`."
     ]
    },
    {
     "cell_type": "code",
     "collapsed": false,
     "input": [
      "# The map function applies a function to each member of a collection\n",
      "\n",
      "map(square, range(5))"
     ],
     "language": "python",
     "metadata": {},
     "outputs": [
      {
       "metadata": {},
       "output_type": "pyout",
       "prompt_number": 13,
       "text": [
        "[0, 1, 4, 9, 16]"
       ]
      }
     ],
     "prompt_number": 13
    },
    {
     "cell_type": "code",
     "collapsed": false,
     "input": [
      "# The filter function applies a predciate to each memmber of a collection, \n",
      "# retaining only those members where the preidcate is True\n",
      "\n",
      "def is_even(x):\n",
      "    return x%2 == 0\n",
      "\n",
      "filter(is_even, range(5))"
     ],
     "language": "python",
     "metadata": {},
     "outputs": [
      {
       "metadata": {},
       "output_type": "pyout",
       "prompt_number": 14,
       "text": [
        "[0, 2, 4]"
       ]
      }
     ],
     "prompt_number": 14
    },
    {
     "cell_type": "code",
     "collapsed": false,
     "input": [
      "# It is common to combine map and reduce - hence the famous \"map-reduce\" construct\n",
      "\n",
      "map(square, filter(is_even, range(5)))"
     ],
     "language": "python",
     "metadata": {},
     "outputs": [
      {
       "metadata": {},
       "output_type": "pyout",
       "prompt_number": 15,
       "text": [
        "[0, 4, 16]"
       ]
      }
     ],
     "prompt_number": 15
    },
    {
     "cell_type": "code",
     "collapsed": false,
     "input": [
      "# Custom functions can of couse, also be HOFs\n",
      "\n",
      "def custom_sum(xs, transform):\n",
      "    \"\"\"Returns the sum of xs after a user specified transform.\"\"\"\n",
      "    return sum(map(transform, xs))\n",
      "\n",
      "xs = range(5)\n",
      "print custom_sum(xs, square)\n",
      "print custom_sum(xs, cube)"
     ],
     "language": "python",
     "metadata": {},
     "outputs": [
      {
       "output_type": "stream",
       "stream": "stdout",
       "text": [
        "30\n",
        "100\n"
       ]
      }
     ],
     "prompt_number": 17
    },
    {
     "cell_type": "code",
     "collapsed": false,
     "input": [
      "# Returning a function is also useful\n",
      "\n",
      "# A closure\n",
      "def make_logger(target):\n",
      "    def logger(data):\n",
      "        with open(target, 'a') as f:\n",
      "            f.write(data + '\\n')\n",
      "    return logger\n",
      "\n",
      "foo_logger = make_logger('foo.txt')\n",
      "foo_logger('Hello')\n",
      "foo_logger('World')"
     ],
     "language": "python",
     "metadata": {},
     "outputs": [],
     "prompt_number": 23
    },
    {
     "cell_type": "code",
     "collapsed": false,
     "input": [
      "!cat 'foo.txt'"
     ],
     "language": "python",
     "metadata": {},
     "outputs": [
      {
       "output_type": "stream",
       "stream": "stdout",
       "text": [
        "Hello\r\n",
        "World\r\n"
       ]
      }
     ],
     "prompt_number": 24
    },
    {
     "cell_type": "code",
     "collapsed": false,
     "input": [
      "# Decorators take a function and provide some additional functionality\n",
      "\n",
      "def func_timer(func):\n",
      "    \"\"\"Times how long the function took.\"\"\"\n",
      "    \n",
      "    def f(*args, **kwargs):\n",
      "        import time\n",
      "        start = time.time()\n",
      "        results = func(*args, **kwargs)\n",
      "        print \"Elapsed: %.2fs\" % (time.time() - start)\n",
      "        return results\n",
      "    \n",
      "    return f"
     ],
     "language": "python",
     "metadata": {},
     "outputs": [],
     "prompt_number": 37
    },
    {
     "cell_type": "code",
     "collapsed": false,
     "input": [
      "# There is a special shorthand notation for decorating functions\n",
      "\n",
      "@func_timer\n",
      "def sleepy(msg, sleep=1.0):\n",
      "    \"\"\"Delays a while before answering.\"\"\"\n",
      "    import time\n",
      "    time.sleep(sleep)\n",
      "    print msg\n",
      "\n",
      "sleepy(\"Hello\", 1.5)"
     ],
     "language": "python",
     "metadata": {},
     "outputs": [
      {
       "output_type": "stream",
       "stream": "stdout",
       "text": [
        "Hello\n",
        "Elapsed: 1.50s\n"
       ]
      }
     ],
     "prompt_number": 40
    },
    {
     "cell_type": "markdown",
     "metadata": {},
     "source": [
      "Pure functions\n",
      "----\n",
      "\n",
      "Functions are pure if they do not have any *side effects* and do not depend on global variables. Pure functions are similar to mathematical functions - each time the same inout is given, the same output will be returned. This is useful for reducing bugs and in paralleld programming since each function call is independent of any other function call and hence trivially parallelizable."
     ]
    },
    {
     "cell_type": "code",
     "collapsed": false,
     "input": [
      "def pure(xs):\n",
      "    \"\"\"Make a new list and return that.\"\"\"\n",
      "    xs = [x*2 for x in xs]\n",
      "    return xs"
     ],
     "language": "python",
     "metadata": {},
     "outputs": [],
     "prompt_number": 48
    },
    {
     "cell_type": "code",
     "collapsed": false,
     "input": [
      "xs = range(5)\n",
      "print \"xs =\", xs\n",
      "print pure(xs)\n",
      "print \"xs =\", xs"
     ],
     "language": "python",
     "metadata": {},
     "outputs": [
      {
       "output_type": "stream",
       "stream": "stdout",
       "text": [
        "xs = [0, 1, 2, 3, 4]\n",
        "[0, 2, 4, 6, 8]\n",
        "xs = [0, 1, 2, 3, 4]\n"
       ]
      }
     ],
     "prompt_number": 46
    },
    {
     "cell_type": "code",
     "collapsed": false,
     "input": [
      "def impure(xs):\n",
      "    for i, x in enumerate(xs):\n",
      "        xs[i] = x*2\n",
      "    return xs"
     ],
     "language": "python",
     "metadata": {},
     "outputs": [],
     "prompt_number": 49
    },
    {
     "cell_type": "code",
     "collapsed": false,
     "input": [
      "xs = range(5)\n",
      "print \"xs =\", xs\n",
      "print impure(xs)\n",
      "print \"xs =\", xs"
     ],
     "language": "python",
     "metadata": {},
     "outputs": [
      {
       "output_type": "stream",
       "stream": "stdout",
       "text": [
        "xs = [0, 1, 2, 3, 4]\n",
        "[0, 2, 4, 6, 8]\n",
        "xs = [0, 2, 4, 6, 8]\n"
       ]
      }
     ],
     "prompt_number": 50
    },
    {
     "cell_type": "code",
     "collapsed": false,
     "input": [
      "# Note that mutatble functions are created upon function declaration, not use.\n",
      "# This gives rise to a common source of beginner errors.\n",
      "\n",
      "def f1(x, y=[]):\n",
      "    \"\"\"Never give an empty list or other mutatble structure as a default.\"\"\"\n",
      "    y.append(x)\n",
      "    return sum(y)"
     ],
     "language": "python",
     "metadata": {},
     "outputs": [],
     "prompt_number": 54
    },
    {
     "cell_type": "code",
     "collapsed": false,
     "input": [
      "print f1(10)\n",
      "print f1(10)\n",
      "print f1(10, y =[1,2])"
     ],
     "language": "python",
     "metadata": {},
     "outputs": [
      {
       "output_type": "stream",
       "stream": "stdout",
       "text": [
        "49\n",
        "59\n",
        "13\n"
       ]
      }
     ],
     "prompt_number": 59
    },
    {
     "cell_type": "code",
     "collapsed": false,
     "input": [
      "# Here is the correct Python idiom\n",
      "\n",
      "def f2(x, y=None):\n",
      "    \"\"\"Check if y is None - if so make it a list.\"\"\"\n",
      "    if y is None:\n",
      "        y = []\n",
      "    y.append(x)\n",
      "    return sum(y)"
     ],
     "language": "python",
     "metadata": {},
     "outputs": [],
     "prompt_number": 62
    },
    {
     "cell_type": "code",
     "collapsed": false,
     "input": [
      "print f1(10)\n",
      "print f1(10)\n",
      "print f1(10, y =[1,2])"
     ],
     "language": "python",
     "metadata": {},
     "outputs": [
      {
       "output_type": "stream",
       "stream": "stdout",
       "text": [
        "10\n",
        "10\n",
        "13\n"
       ]
      }
     ],
     "prompt_number": 63
    },
    {
     "cell_type": "markdown",
     "metadata": {},
     "source": [
      "Iterators\n",
      "----\n",
      "\n",
      "Iterators represent streams of values. Because only one value is consumed at a time, they use very memory. Use of iterators is very helpful for working with data sets too large to fit into RAM."
     ]
    },
    {
     "cell_type": "code",
     "collapsed": false,
     "input": [
      "# Iterators can be created from sequences with the built-in function iter()\n",
      "\n",
      "xs = [1,2,3]\n",
      "x_iter = iter(xs)\n",
      "\n",
      "print x_iter.next()\n",
      "print x_iter.next()\n",
      "print x_iter.next()\n",
      "print x_iter.next()"
     ],
     "language": "python",
     "metadata": {},
     "outputs": [
      {
       "output_type": "stream",
       "stream": "stdout",
       "text": [
        "1\n",
        "2\n",
        "3\n"
       ]
      },
      {
       "ename": "StopIteration",
       "evalue": "",
       "output_type": "pyerr",
       "traceback": [
        "\u001b[0;31m---------------------------------------------------------------------------\u001b[0m\n\u001b[0;31mStopIteration\u001b[0m                             Traceback (most recent call last)",
        "\u001b[0;32m<ipython-input-64-eb1a17442aa0>\u001b[0m in \u001b[0;36m<module>\u001b[0;34m()\u001b[0m\n\u001b[1;32m      7\u001b[0m \u001b[0;32mprint\u001b[0m \u001b[0mx_iter\u001b[0m\u001b[0;34m.\u001b[0m\u001b[0mnext\u001b[0m\u001b[0;34m(\u001b[0m\u001b[0;34m)\u001b[0m\u001b[0;34m\u001b[0m\u001b[0m\n\u001b[1;32m      8\u001b[0m \u001b[0;32mprint\u001b[0m \u001b[0mx_iter\u001b[0m\u001b[0;34m.\u001b[0m\u001b[0mnext\u001b[0m\u001b[0;34m(\u001b[0m\u001b[0;34m)\u001b[0m\u001b[0;34m\u001b[0m\u001b[0m\n\u001b[0;32m----> 9\u001b[0;31m \u001b[0;32mprint\u001b[0m \u001b[0mx_iter\u001b[0m\u001b[0;34m.\u001b[0m\u001b[0mnext\u001b[0m\u001b[0;34m(\u001b[0m\u001b[0;34m)\u001b[0m\u001b[0;34m\u001b[0m\u001b[0m\n\u001b[0m",
        "\u001b[0;31mStopIteration\u001b[0m: "
       ]
      }
     ],
     "prompt_number": 64
    },
    {
     "cell_type": "code",
     "collapsed": false,
     "input": [
      "# Most commonly, iterators are used (automatically) within a for loop\n",
      "# which terminats when it encouters a StopIteration exception\n",
      "\n",
      "x_iter = iter(xs)\n",
      "for x in x_iter:\n",
      "    print x"
     ],
     "language": "python",
     "metadata": {},
     "outputs": [
      {
       "output_type": "stream",
       "stream": "stdout",
       "text": [
        "1\n",
        "2\n",
        "3\n"
       ]
      }
     ],
     "prompt_number": 67
    },
    {
     "cell_type": "code",
     "collapsed": false,
     "input": [
      "# Functions containing the 'yield' keyword return iterators\n",
      "# After yielding, the function retains its previous state\n",
      "\n",
      "def count_down(n):\n",
      "    for i in range(n, 0, -1):\n",
      "        yield i"
     ],
     "language": "python",
     "metadata": {},
     "outputs": [],
     "prompt_number": 68
    },
    {
     "cell_type": "code",
     "collapsed": false,
     "input": [
      "counter = count_down(10)\n",
      "print counter.next()\n",
      "print counter.next()\n",
      "for count in counter:\n",
      "    print count,"
     ],
     "language": "python",
     "metadata": {},
     "outputs": [
      {
       "output_type": "stream",
       "stream": "stdout",
       "text": [
        "10\n",
        "9\n",
        "8 7 6 5 4 3 2 1\n"
       ]
      }
     ],
     "prompt_number": 70
    },
    {
     "cell_type": "code",
     "collapsed": false,
     "input": [
      "# Iterators can also be created with 'generator expressions'\n",
      "# which can be coded similar to list generators but with parenthesis\n",
      "# in place of square brackets\n",
      "\n",
      "xs1 = [x*x for x in range(5)]\n",
      "print xs1\n",
      "\n",
      "xs2 = (x*x for x in range(5))\n",
      "print xs2\n",
      "\n",
      "for x in xs2:\n",
      "    print x,\n",
      "print"
     ],
     "language": "python",
     "metadata": {},
     "outputs": [
      {
       "output_type": "stream",
       "stream": "stdout",
       "text": [
        "[0, 1, 4, 9, 16]\n",
        "<generator object <genexpr> at 0x11305d5f0>\n",
        "0 1 4 9 16\n"
       ]
      }
     ],
     "prompt_number": 71
    },
    {
     "cell_type": "code",
     "collapsed": false,
     "input": [
      "# Iterators can be used for infinte functions\n",
      "\n",
      "def fib():\n",
      "    a, b = 0, 1\n",
      "    while True:\n",
      "        yield a\n",
      "        a, b = b, a+b"
     ],
     "language": "python",
     "metadata": {},
     "outputs": [],
     "prompt_number": 84
    },
    {
     "cell_type": "code",
     "collapsed": false,
     "input": [
      "for i in fib():\n",
      "    # We must have a stopping condiiton since the generator returns an infinite stream\n",
      "    if i > 1000:\n",
      "        break\n",
      "    print i,"
     ],
     "language": "python",
     "metadata": {},
     "outputs": [
      {
       "output_type": "stream",
       "stream": "stdout",
       "text": [
        "0 1 1 2 3 5 8 13 21 34 55 89 144 233 377 610 987\n"
       ]
      }
     ],
     "prompt_number": 103
    },
    {
     "cell_type": "code",
     "collapsed": false,
     "input": [
      "# Many built-in Python functions return iterators\n",
      "# including file handlers\n",
      "# so with the idiom below, you can process a 1 terabyte file line by line \n",
      "# on your laptop without any problem\n",
      "for line in open('foo.txt'):\n",
      "    print line,"
     ],
     "language": "python",
     "metadata": {},
     "outputs": [
      {
       "output_type": "stream",
       "stream": "stdout",
       "text": [
        "Hello\n",
        "World\n"
       ]
      }
     ],
     "prompt_number": 106
    },
    {
     "cell_type": "code",
     "collapsed": false,
     "input": [],
     "language": "python",
     "metadata": {},
     "outputs": []
    }
   ],
   "metadata": {}
  }
 ]
}