{
 "metadata": {
  "name": "",
  "signature": "sha256:27c05992364fb708e7b054ef2e4a20c2ab54b282a3f6955cf04382eb90030e62"
 },
 "nbformat": 3,
 "nbformat_minor": 0,
 "worksheets": [
  {
   "cells": [
    {
     "cell_type": "code",
     "collapsed": false,
     "input": [
      "import os\n",
      "import sys\n",
      "import glob\n",
      "import matplotlib.pyplot as plt\n",
      "import numpy as np\n",
      "import pandas as pd\n",
      "%matplotlib inline\n",
      "%precision 4"
     ],
     "language": "python",
     "metadata": {},
     "outputs": [
      {
       "metadata": {},
       "output_type": "pyout",
       "prompt_number": 1,
       "text": [
        "u'%.4f'"
       ]
      }
     ],
     "prompt_number": 1
    },
    {
     "cell_type": "markdown",
     "metadata": {},
     "source": [
      "Divide and conquer\n",
      "----\n",
      "\n",
      "This cateogry includes many famous recursive algorithms, such as quicksort, mergesort, kd-tree, binary search etc."
     ]
    },
    {
     "cell_type": "markdown",
     "metadata": {},
     "source": [
      "### Mergesort"
     ]
    },
    {
     "cell_type": "code",
     "collapsed": false,
     "input": [
      "from collections import deque\n",
      "\n",
      "def merge(left, right):\n",
      "    \"\"\"Merge two sorted deques into a single sorted list.\"\"\"\n",
      "    result = []\n",
      "    left = deque(left)\n",
      "    right = deque(right)\n",
      "    while left or right:\n",
      "        if left and right:\n",
      "            if left[0] < right[0]:\n",
      "                result.append(left.popleft())\n",
      "            else:\n",
      "                result.append(right.popleft())\n",
      "        else:\n",
      "            if not left:\n",
      "                result.extend(right)\n",
      "                right.clear()\n",
      "            elif not right:\n",
      "                result.extend(left)\n",
      "                left.clear()\n",
      "    return result\n",
      "\n",
      "def mergesort(xs):\n",
      "    \"\"\"Return the sorted list xs.\"\"\"\n",
      "    # base case\n",
      "    n = len(xs)\n",
      "    if n <= 1:\n",
      "        return xs\n",
      "    # recursive case\n",
      "    else:\n",
      "        left = xs[:(n/2)]\n",
      "        right = xs[(n/2):]\n",
      "        left = mergesort(left)\n",
      "        right = mergesort(right)\n",
      "        return merge(left, right)"
     ],
     "language": "python",
     "metadata": {},
     "outputs": [],
     "prompt_number": 2
    },
    {
     "cell_type": "code",
     "collapsed": false,
     "input": [
      "print mergesort([3,1,5,4,6,2,5])"
     ],
     "language": "python",
     "metadata": {},
     "outputs": [
      {
       "output_type": "stream",
       "stream": "stdout",
       "text": [
        "[1, 2, 3, 4, 5, 5, 6]\n"
       ]
      }
     ],
     "prompt_number": 3
    },
    {
     "cell_type": "markdown",
     "metadata": {},
     "source": [
      "Decrease and conquer\n",
      "----\n",
      "\n",
      "This class of algorithms typcially peel off one or more items at a time, then recursviely proceses the remaining smaller set."
     ]
    },
    {
     "cell_type": "markdown",
     "metadata": {},
     "source": [
      "### Eculid's algorihtm for GCD\n",
      "\n",
      "gcd(m, n) = gcd(n, m mod n)"
     ]
    },
    {
     "cell_type": "code",
     "collapsed": false,
     "input": [
      "def gcd(m, n):\n",
      "    \"\"\"Euclid's algorithm.\"\"\"\n",
      "\n",
      "    # base case\n",
      "    if n == 0:\n",
      "        return m\n",
      "    # recrusive case\n",
      "    else:\n",
      "        result = gcd(n, m % n)\n",
      "    return result"
     ],
     "language": "python",
     "metadata": {},
     "outputs": [],
     "prompt_number": 4
    },
    {
     "cell_type": "code",
     "collapsed": false,
     "input": [
      "print gcd(60, 240)"
     ],
     "language": "python",
     "metadata": {},
     "outputs": [
      {
       "output_type": "stream",
       "stream": "stdout",
       "text": [
        "60\n"
       ]
      }
     ],
     "prompt_number": 5
    },
    {
     "cell_type": "markdown",
     "metadata": {},
     "source": [
      "Greedy Algorithms\n",
      "----\n",
      "\n",
      "A greedy algorithm picks the locally best solution at each stage. Depending on the application, it may or may not find the globally optimal solution. An example in statistics is simple froward or backwards stepwise regression."
     ]
    },
    {
     "cell_type": "markdown",
     "metadata": {},
     "source": [
      "### Minimal spanning tree with Prim's algorithm\n",
      "\n",
      "We will represent trees using an adjacency list structure, wheare each edges is (weight, vertex1, vertex2)."
     ]
    },
    {
     "cell_type": "code",
     "collapsed": false,
     "input": [
      "def prim_mst(edges):\n",
      "    import heapq\n",
      "    seen = set([])\n",
      "    heapq.heapify(edges)\n",
      "    \n",
      "    tree = []\n",
      "    if len(edges) == 0:\n",
      "        return tree\n",
      "    else:\n",
      "        w, v1, v2 = heapq.heappop(edges)\n",
      "        tree.append((w, v1, v2))\n",
      "        seen.update((v1, v2))\n",
      "    \n",
      "    while True:\n",
      "        if len(edges) == 0:\n",
      "            break\n",
      "        while len(edges) > 0:\n",
      "            tmp = []\n",
      "            w, v1, v2 = heapq.heappop(edges)\n",
      "            # edge does not share vertex with existing tree\n",
      "            if v1 not in seen and v2 not in seen:\n",
      "                tmp.append((w, v1, v2))\n",
      "            # edge is redundant\n",
      "            elif v1 in seen and v2 in seen:\n",
      "                pass\n",
      "            # next best edge to add\n",
      "            else:\n",
      "                tree.append((w, v1, v2))\n",
      "                seen.update((v1, v2))\n",
      "                \n",
      "        # put edges not used back into heap\n",
      "        for item in tmp:\n",
      "            heapq.heappush(edges, item)\n",
      "    return tree"
     ],
     "language": "python",
     "metadata": {},
     "outputs": [],
     "prompt_number": 6
    },
    {
     "cell_type": "code",
     "collapsed": false,
     "input": [
      "edges = [(2.5,'a','b'), (1,'a','d'), (2,'b','d'), (3,'c','d')]\n",
      "prim_mst(edges)"
     ],
     "language": "python",
     "metadata": {},
     "outputs": [
      {
       "metadata": {},
       "output_type": "pyout",
       "prompt_number": 7,
       "text": [
        "[(1, 'a', 'd'), (2, 'b', 'd'), (3, 'c', 'd')]"
       ]
      }
     ],
     "prompt_number": 7
    },
    {
     "cell_type": "markdown",
     "metadata": {},
     "source": [
      "Dynamic programming\n",
      "----\n",
      "\n",
      "The essential feature of dyanmic programming is that the problem has overlapping subporoblems that need to be re-used multiple times. In addition, combination of these subproblems must be able to solve the overall problem - this is known as \"optimal structure\". Given this, dynamic programming is just the idea that if we cache subproblem solutions (\"memoization\"), we don't need to solve them twice."
     ]
    },
    {
     "cell_type": "code",
     "collapsed": false,
     "input": [
      "# A trivial example is the recursive Fibonacci function\n",
      "from collections import defaultdict\n",
      "\n",
      "def fib(n):\n",
      "    \"\"\"Retrns the nth Fibonacci number, 1,1,2,3,5,8,....\"\"\"\n",
      "    if n==0 or n==1:\n",
      "        return 1\n",
      "    else:\n",
      "        print \"fib(%d) + fib(%d)\" % ((n-2), (n-1))\n",
      "        return fib(n-2) + fib(n-1)"
     ],
     "language": "python",
     "metadata": {},
     "outputs": [],
     "prompt_number": 8
    },
    {
     "cell_type": "code",
     "collapsed": false,
     "input": [
      "# Notice redundancy of calls\n",
      "fib(6)"
     ],
     "language": "python",
     "metadata": {},
     "outputs": [
      {
       "output_type": "stream",
       "stream": "stdout",
       "text": [
        "fib(4) + fib(5)\n",
        "fib(2) + fib(3)\n",
        "fib(0) + fib(1)\n",
        "fib(1) + fib(2)\n",
        "fib(0) + fib(1)\n",
        "fib(3) + fib(4)\n",
        "fib(1) + fib(2)\n",
        "fib(0) + fib(1)\n",
        "fib(2) + fib(3)\n",
        "fib(0) + fib(1)\n",
        "fib(1) + fib(2)\n",
        "fib(0) + fib(1)\n"
       ]
      },
      {
       "metadata": {},
       "output_type": "pyout",
       "prompt_number": 9,
       "text": [
        "13"
       ]
      }
     ],
     "prompt_number": 9
    },
    {
     "cell_type": "code",
     "collapsed": false,
     "input": [
      "# clean up\n",
      "def fib1(n):\n",
      "    \"\"\"Returns the nth Fibonacci number, 1,1,2,3,5,8,....\"\"\"\n",
      "    return 1 if n < 2 else fib1(n-2) + fib1(n-1)"
     ],
     "language": "python",
     "metadata": {},
     "outputs": [],
     "prompt_number": 10
    },
    {
     "cell_type": "code",
     "collapsed": false,
     "input": [
      "# We can remove the redundant calls by caching previosly calculated results\n",
      "cache = {}\n",
      "def fib2(n):\n",
      "    if n < 2:\n",
      "        return 1\n",
      "    if n not in cache:\n",
      "        cache[n] = fib2(n-2) + fib2(n-1)\n",
      "    return cache[n]"
     ],
     "language": "python",
     "metadata": {},
     "outputs": [],
     "prompt_number": 11
    },
    {
     "cell_type": "code",
     "collapsed": false,
     "input": [
      "# The cached version is much faster for large n\n",
      "%time fib1(33)\n",
      "%time fib2(33)"
     ],
     "language": "python",
     "metadata": {},
     "outputs": [
      {
       "output_type": "stream",
       "stream": "stdout",
       "text": [
        "CPU times: user 2.59 s, sys: 22.8 ms, total: 2.62 s\n",
        "Wall time: 2.6 s\n",
        "CPU times: user 36 \u00b5s, sys: 1 \u00b5s, total: 37 \u00b5s\n",
        "Wall time: 41 \u00b5s\n"
       ]
      },
      {
       "metadata": {},
       "output_type": "pyout",
       "prompt_number": 12,
       "text": [
        "5702887"
       ]
      }
     ],
     "prompt_number": 12
    },
    {
     "cell_type": "code",
     "collapsed": false,
     "input": [
      "# However, the use of a global cache is not very nice\n",
      "# We need to repeat the caching code for every function\n",
      "# To generalize, we will write a memoize decorator\n",
      "\n",
      "def memoize(f):\n",
      "    \"\"\"A decorator to cache results for re-use.\"\"\"\n",
      "    cache = {}\n",
      "    def func(*args):\n",
      "        if args not in cache:\n",
      "            cache[args] = f(*args)\n",
      "        return cache[args]\n",
      "    return func"
     ],
     "language": "python",
     "metadata": {},
     "outputs": [],
     "prompt_number": 13
    },
    {
     "cell_type": "code",
     "collapsed": false,
     "input": [
      "@memoize\n",
      "def fib3(n):\n",
      "    \"\"\"Returns the nth Fibonacci number, 1,1,2,3,5,8,....\"\"\"\n",
      "    return 1 if n < 2 else fib3(n-2) + fib3(n-1)"
     ],
     "language": "python",
     "metadata": {},
     "outputs": [],
     "prompt_number": 14
    },
    {
     "cell_type": "code",
     "collapsed": false,
     "input": [
      "# performance\n",
      "%time fib1(33)\n",
      "%time fib2(33)\n",
      "%time fib3(33)"
     ],
     "language": "python",
     "metadata": {},
     "outputs": [
      {
       "output_type": "stream",
       "stream": "stdout",
       "text": [
        "CPU times: user 2.6 s, sys: 17.6 ms, total: 2.62 s\n",
        "Wall time: 2.61 s\n",
        "CPU times: user 5 \u00b5s, sys: 1 \u00b5s, total: 6 \u00b5s\n",
        "Wall time: 9.06 \u00b5s\n",
        "CPU times: user 64 \u00b5s, sys: 15 \u00b5s, total: 79 \u00b5s\n",
        "Wall time: 82 \u00b5s\n"
       ]
      },
      {
       "metadata": {},
       "output_type": "pyout",
       "prompt_number": 15,
       "text": [
        "5702887"
       ]
      }
     ],
     "prompt_number": 15
    },
    {
     "cell_type": "code",
     "collapsed": false,
     "input": [
      "# An example using linear combinations\n",
      "# What is the fewest number of coins to make up $0.63? \n",
      "# using pennies (1c), nickels (5c), dimes (10c) and quarters (25c)?\n",
      "\n",
      "def factors(n, weights):\n",
      "    \"\"\"Brute force enumeration of number of coins.\"\"\"\n",
      "    s = ((i,j,k,l) \n",
      "            for i in range(1+n/weights[0]) \n",
      "            for j in range(1+n/weights[1])\n",
      "            for k in range(1+n/weights[2]) \n",
      "            for l in range(1+n/weights[3]))\n",
      "    for _ in s:\n",
      "        yield _\n",
      "\n",
      "def combinations(n, weights):\n",
      "    \"\"\"Returns solution to the coin problem.\"\"\"\n",
      "    for f in factors(n, weights):\n",
      "         if np.dot(f, weights) == n:\n",
      "            yield f"
     ],
     "language": "python",
     "metadata": {},
     "outputs": [],
     "prompt_number": 82
    },
    {
     "cell_type": "code",
     "collapsed": false,
     "input": [
      "# The brute force solution is slow\n",
      "weights = (25, 10, 5, 1)\n",
      "n = 47\n",
      "%time sorted(list(combinations(n, weights)), key=sum)[0]"
     ],
     "language": "python",
     "metadata": {},
     "outputs": [
      {
       "output_type": "stream",
       "stream": "stdout",
       "text": [
        "CPU times: user 34 ms, sys: 7.95 ms, total: 41.9 ms\n",
        "Wall time: 36.6 ms\n"
       ]
      },
      {
       "metadata": {},
       "output_type": "pyout",
       "prompt_number": 17,
       "text": [
        "(1, 2, 0, 2)"
       ]
      }
     ],
     "prompt_number": 17
    },
    {
     "cell_type": "code",
     "collapsed": false,
     "input": [
      "# Let's write a recursive version\n",
      "\n",
      "def combinaions1(n, weights, solution):\n",
      "    \"\"\"Returns min number of coins to make up n.\n",
      "    weights are the values of the coins in decreasing order\n",
      "    \"\"\"\n",
      "    current = n\n",
      "    if n in weights:\n",
      "        return 1\n",
      "    else:\n",
      "        for i in (w for w in weights if w < n):\n",
      "            count = combinaions1(n-i, weights) + 1\n",
      "            if count < current:\n",
      "                current = count\n",
      "    return current"
     ],
     "language": "python",
     "metadata": {},
     "outputs": [],
     "prompt_number": 75
    },
    {
     "cell_type": "code",
     "collapsed": false,
     "input": [
      "# The recursive version is even slower\n",
      "weights = (25, 10, 5, 1)\n",
      "n = 47\n",
      "%time combinaions1(n, weights)"
     ],
     "language": "python",
     "metadata": {},
     "outputs": [
      {
       "output_type": "stream",
       "stream": "stdout",
       "text": [
        "CPU times: user 594 ms, sys: 14.7 ms, total: 609 ms\n",
        "Wall time: 598 ms\n"
       ]
      },
      {
       "metadata": {},
       "output_type": "pyout",
       "prompt_number": 74,
       "text": [
        "5"
       ]
      }
     ],
     "prompt_number": 74
    },
    {
     "cell_type": "code",
     "collapsed": false,
     "input": [
      "# But can be memoized\n",
      "@memoize\n",
      "def combinaions2(n, weights):\n",
      "    \"\"\"Returns min number of coins to make up n.\n",
      "    weights are the values of the coins in decreasing order\n",
      "    \"\"\"\n",
      "    current = n\n",
      "    if n in weights:\n",
      "        return 1\n",
      "    else:\n",
      "        for i in (w for w in weights if w < n):\n",
      "            count = 1 + combinaions2(n-i, weights)\n",
      "            if count < current:\n",
      "                current = count\n",
      "    return current"
     ],
     "language": "python",
     "metadata": {},
     "outputs": [],
     "prompt_number": 76
    },
    {
     "cell_type": "code",
     "collapsed": false,
     "input": [
      "weights = (25, 10, 5, 1)\n",
      "n = 47\n",
      "%time combinaions2(n, weights)"
     ],
     "language": "python",
     "metadata": {},
     "outputs": [
      {
       "output_type": "stream",
       "stream": "stdout",
       "text": [
        "CPU times: user 264 \u00b5s, sys: 237 \u00b5s, total: 501 \u00b5s\n",
        "Wall time: 346 \u00b5s\n"
       ]
      },
      {
       "metadata": {},
       "output_type": "pyout",
       "prompt_number": 77,
       "text": [
        "5"
       ]
      }
     ],
     "prompt_number": 77
    },
    {
     "cell_type": "code",
     "collapsed": false,
     "input": [
      "n = 213\n",
      "%time sorted(list(combinations(n, weights)), key=sum)[0]\n",
      "%time combinaions2(n, weights)"
     ],
     "language": "python",
     "metadata": {},
     "outputs": [
      {
       "output_type": "stream",
       "stream": "stdout",
       "text": [
        "CPU times: user 10.9 s, sys: 27.7 ms, total: 10.9 s\n",
        "Wall time: 10.9 s\n",
        "CPU times: user 826 \u00b5s, sys: 5 \u00b5s, total: 831 \u00b5s\n",
        "Wall time: 836 \u00b5s\n"
       ]
      },
      {
       "metadata": {},
       "output_type": "pyout",
       "prompt_number": 78,
       "text": [
        "12"
       ]
      }
     ],
     "prompt_number": 78
    },
    {
     "cell_type": "code",
     "collapsed": false,
     "input": [
      "# Caching (memoization) is a simple way to achieve much of the gains of dynamic prorgramming.\n",
      "# However, dynamic programming usually refers to explicit tracking of partial solutions"
     ],
     "language": "python",
     "metadata": {},
     "outputs": [],
     "prompt_number": 83
    },
    {
     "cell_type": "code",
     "collapsed": false,
     "input": [
      "def combinations_dp1(weights, n, counts, show=False):\n",
      "    \"\"\"Dynamic programming solution.\n",
      "    counts is a vector of the least number of coins needed to reach up the index value.\"\"\"\n",
      "    for i in range(n+1):\n",
      "        s = i\n",
      "        for j in (w for w in weights if w <= i):\n",
      "            value = counts[i-j] + 1\n",
      "            if value < s:\n",
      "                s = value\n",
      "        counts[i] = s\n",
      "        if show:\n",
      "            print counts\n",
      "    return counts[n]"
     ],
     "language": "python",
     "metadata": {},
     "outputs": [],
     "prompt_number": 47
    },
    {
     "cell_type": "code",
     "collapsed": false,
     "input": [
      "weights = (25, 10, 5, 1)\n",
      "n = 5\n",
      "counts = [0]*(n+1)\n",
      "combinations_dp1(weights, n, counts, show=True)"
     ],
     "language": "python",
     "metadata": {},
     "outputs": [
      {
       "output_type": "stream",
       "stream": "stdout",
       "text": [
        "[0, 0, 0, 0, 0, 0]\n",
        "[0, 1, 0, 0, 0, 0]\n",
        "[0, 1, 2, 0, 0, 0]\n",
        "[0, 1, 2, 3, 0, 0]\n",
        "[0, 1, 2, 3, 4, 0]\n",
        "[0, 1, 2, 3, 4, 1]\n"
       ]
      },
      {
       "metadata": {},
       "output_type": "pyout",
       "prompt_number": 48,
       "text": [
        "1"
       ]
      }
     ],
     "prompt_number": 48
    },
    {
     "cell_type": "code",
     "collapsed": false,
     "input": [
      "weights = (25, 10, 5, 1)\n",
      "n = 11\n",
      "counts = [0]*(n+1)\n",
      "combinations_dp1(weights, n, counts, show=True)"
     ],
     "language": "python",
     "metadata": {},
     "outputs": [
      {
       "output_type": "stream",
       "stream": "stdout",
       "text": [
        "[0, 0, 0, 0, 0, 0, 0, 0, 0, 0, 0, 0]\n",
        "[0, 1, 0, 0, 0, 0, 0, 0, 0, 0, 0, 0]\n",
        "[0, 1, 2, 0, 0, 0, 0, 0, 0, 0, 0, 0]\n",
        "[0, 1, 2, 3, 0, 0, 0, 0, 0, 0, 0, 0]\n",
        "[0, 1, 2, 3, 4, 0, 0, 0, 0, 0, 0, 0]\n",
        "[0, 1, 2, 3, 4, 1, 0, 0, 0, 0, 0, 0]\n",
        "[0, 1, 2, 3, 4, 1, 2, 0, 0, 0, 0, 0]\n",
        "[0, 1, 2, 3, 4, 1, 2, 3, 0, 0, 0, 0]\n",
        "[0, 1, 2, 3, 4, 1, 2, 3, 4, 0, 0, 0]\n",
        "[0, 1, 2, 3, 4, 1, 2, 3, 4, 5, 0, 0]\n",
        "[0, 1, 2, 3, 4, 1, 2, 3, 4, 5, 1, 0]\n",
        "[0, 1, 2, 3, 4, 1, 2, 3, 4, 5, 1, 2]\n"
       ]
      },
      {
       "metadata": {},
       "output_type": "pyout",
       "prompt_number": 53,
       "text": [
        "2"
       ]
      }
     ],
     "prompt_number": 53
    },
    {
     "cell_type": "code",
     "collapsed": false,
     "input": [
      "def combinations_dp2(weights, n, counts, used, show=False):\n",
      "    \"\"\"Dynamic programming solution.\n",
      "    counts is a vector of the least number of coins needed to reach up the index value.\n",
      "    used returns the actual solution.\"\"\"\n",
      "    for i in range(n+1):\n",
      "        s = i\n",
      "        t = 1\n",
      "        for j in (w for w in weights if w <= i):\n",
      "            value = counts[i-j] + 1\n",
      "            if value < s:\n",
      "                s = value\n",
      "                t = j\n",
      "        counts[i] = s\n",
      "        used[i] = t\n",
      "        if show:\n",
      "            print counts\n",
      "    return counts[n], used"
     ],
     "language": "python",
     "metadata": {},
     "outputs": [],
     "prompt_number": 45
    },
    {
     "cell_type": "code",
     "collapsed": false,
     "input": [
      "def change(n, used):\n",
      "    \"\"\"Find coins used to make up amount.\"\"\"\n",
      "    idx = len(used) - 1\n",
      "    s = used[idx]\n",
      "    val = s\n",
      "    result = [s]\n",
      "    while val < n:\n",
      "        idx -= s\n",
      "        s = used[idx]\n",
      "        val += s\n",
      "        result.append(s)\n",
      "    return result"
     ],
     "language": "python",
     "metadata": {},
     "outputs": [],
     "prompt_number": 57
    },
    {
     "cell_type": "code",
     "collapsed": false,
     "input": [
      "weights = (25, 10, 5, 1)\n",
      "n = 14\n",
      "counts = [0]*(n+1)\n",
      "used = [0]*(n+1)\n",
      "ncoins, used = combinations_dp2(weights, n, counts, used, show=False)\n",
      "print change(n, used)"
     ],
     "language": "python",
     "metadata": {},
     "outputs": [
      {
       "output_type": "stream",
       "stream": "stdout",
       "text": [
        "[10, 1, 1, 1, 1]\n"
       ]
      }
     ],
     "prompt_number": 59
    },
    {
     "cell_type": "code",
     "collapsed": false,
     "input": [],
     "language": "python",
     "metadata": {},
     "outputs": []
    }
   ],
   "metadata": {}
  }
 ]
}