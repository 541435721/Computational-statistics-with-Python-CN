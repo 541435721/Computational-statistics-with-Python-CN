{
 "metadata": {
  "name": "",
  "signature": "sha256:79fa1fe659c3f6bc9d3482f1c778a512ace269585ffe452aef997faa10396bee"
 },
 "nbformat": 3,
 "nbformat_minor": 0,
 "worksheets": [
  {
   "cells": [
    {
     "cell_type": "code",
     "collapsed": false,
     "input": [
      "import os\n",
      "import sys\n",
      "import glob\n",
      "import matplotlib.pyplot as plt\n",
      "import numpy as np\n",
      "import pandas as pd\n",
      "%matplotlib inline\n",
      "%precision 4"
     ],
     "language": "python",
     "metadata": {},
     "outputs": [
      {
       "metadata": {},
       "output_type": "pyout",
       "prompt_number": 1,
       "text": [
        "u'%.4f'"
       ]
      }
     ],
     "prompt_number": 1
    },
    {
     "cell_type": "markdown",
     "metadata": {},
     "source": [
      "Divide and conquer\n",
      "----\n",
      "\n",
      "This cateogry includes many famous recursive algorithms, such as quicksort, mergesort, kd-tree, binary search etc."
     ]
    },
    {
     "cell_type": "markdown",
     "metadata": {},
     "source": [
      "### Mergesort"
     ]
    },
    {
     "cell_type": "code",
     "collapsed": false,
     "input": [
      "from collections import deque\n",
      "\n",
      "def merge(left, right):\n",
      "    \"\"\"Merge two sorted deques into a single sorted list.\"\"\"\n",
      "    result = []\n",
      "    left = deque(left)\n",
      "    right = deque(right)\n",
      "    while left or right:\n",
      "        if left and right:\n",
      "            if left[0] < right[0]:\n",
      "                result.append(left.popleft())\n",
      "            else:\n",
      "                result.append(right.popleft())\n",
      "        else:\n",
      "            if not left:\n",
      "                result.extend(right)\n",
      "                right.clear()\n",
      "            elif not right:\n",
      "                result.extend(left)\n",
      "                left.clear()\n",
      "    return result\n",
      "\n",
      "def mergesort(xs):\n",
      "    \"\"\"Return the sorted list xs.\"\"\"\n",
      "    # base case\n",
      "    n = len(xs)\n",
      "    if n <= 1:\n",
      "        return xs\n",
      "    # recursive case\n",
      "    else:\n",
      "        left = xs[:(n/2)]\n",
      "        right = xs[(n/2):]\n",
      "        left = mergesort(left)\n",
      "        right = mergesort(right)\n",
      "        return merge(left, right)"
     ],
     "language": "python",
     "metadata": {},
     "outputs": [],
     "prompt_number": 39
    },
    {
     "cell_type": "code",
     "collapsed": false,
     "input": [
      "print mergesort([3,1,5,4,6,2,5])"
     ],
     "language": "python",
     "metadata": {},
     "outputs": [
      {
       "output_type": "stream",
       "stream": "stdout",
       "text": [
        "[1, 2, 3, 4, 5, 5, 6]\n"
       ]
      }
     ],
     "prompt_number": 40
    },
    {
     "cell_type": "markdown",
     "metadata": {},
     "source": [
      "Decrease and conquer\n",
      "----\n",
      "\n",
      "This class of algorithms typcially peel off one or more items at a time, then recursviely proceses the remaining smaller set."
     ]
    },
    {
     "cell_type": "markdown",
     "metadata": {},
     "source": [
      "### Eculid's algorihtm for GCD\n",
      "\n",
      "gcd(m, n) = gcd(n, m mod n)"
     ]
    },
    {
     "cell_type": "code",
     "collapsed": false,
     "input": [
      "def gcd(m, n):\n",
      "    \"\"\"Euclid's algorithm.\"\"\"\n",
      "\n",
      "    # base case\n",
      "    if n == 0:\n",
      "        return m\n",
      "    # recrusive case\n",
      "    else:\n",
      "        result = gcd(n, m % n)\n",
      "    return result"
     ],
     "language": "python",
     "metadata": {},
     "outputs": [],
     "prompt_number": 80
    },
    {
     "cell_type": "code",
     "collapsed": false,
     "input": [
      "print gcd(60, 240)"
     ],
     "language": "python",
     "metadata": {},
     "outputs": [
      {
       "output_type": "stream",
       "stream": "stdout",
       "text": [
        "60\n"
       ]
      }
     ],
     "prompt_number": 82
    },
    {
     "cell_type": "markdown",
     "metadata": {},
     "source": [
      "Greedy Algorithms\n",
      "----\n",
      "\n",
      "A greedy algorithm picks the locally best solution at each stage. Depending on the application, it may or may not find the globally optimal solution. An example in statistics is simple froward or backwards stepwise regression."
     ]
    },
    {
     "cell_type": "markdown",
     "metadata": {},
     "source": [
      "### Minimal spanning tree with Prim's algorithm\n",
      "\n",
      "We will represent trees using an adjacency list structure, wheare each edges is (weight, vertex1, vertex2)."
     ]
    },
    {
     "cell_type": "code",
     "collapsed": false,
     "input": [
      "def prim_mst(edges):\n",
      "    import heapq\n",
      "    seen = set([])\n",
      "    heapq.heapify(edges)\n",
      "    \n",
      "    tree = []\n",
      "    if len(edges) == 0:\n",
      "        return tree\n",
      "    else:\n",
      "        w, v1, v2 = heapq.heappop(edges)\n",
      "        tree.append((w, v1, v2))\n",
      "        seen.update((v1, v2))\n",
      "    \n",
      "    while True:\n",
      "        if len(edges) == 0:\n",
      "            break\n",
      "        while len(edges) > 0:\n",
      "            tmp = []\n",
      "            w, v1, v2 = heapq.heappop(edges)\n",
      "            # edge does not share vertex with existing tree\n",
      "            if v1 not in seen and v2 not in seen:\n",
      "                tmp.append((w, v1, v2))\n",
      "            # edge is redundant\n",
      "            elif v1 in seen and v2 in seen:\n",
      "                pass\n",
      "            # next best edge to add\n",
      "            else:\n",
      "                tree.append((w, v1, v2))\n",
      "                seen.update((v1, v2))\n",
      "                \n",
      "        # put edges not used back into heap\n",
      "        for item in tmp:\n",
      "            heapq.heappush(edges, item)\n",
      "    return tree"
     ],
     "language": "python",
     "metadata": {},
     "outputs": [],
     "prompt_number": 131
    },
    {
     "cell_type": "code",
     "collapsed": false,
     "input": [
      "edges = [(2.5,'a','b'), (1,'a','d'), (2,'b','d'), (3,'c','d')]\n",
      "prim_mst(edges)"
     ],
     "language": "python",
     "metadata": {},
     "outputs": [
      {
       "metadata": {},
       "output_type": "pyout",
       "prompt_number": 133,
       "text": [
        "[(1, 'a', 'd'), (2, 'b', 'd'), (3, 'c', 'd')]"
       ]
      }
     ],
     "prompt_number": 133
    },
    {
     "cell_type": "code",
     "collapsed": false,
     "input": [],
     "language": "python",
     "metadata": {},
     "outputs": []
    }
   ],
   "metadata": {}
  }
 ]
}