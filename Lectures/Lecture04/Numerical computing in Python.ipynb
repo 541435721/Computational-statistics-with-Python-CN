{
 "metadata": {
  "name": "",
  "signature": "sha256:8cf49c25037755f3ac828d733e82d754f6707aee594fc36a82f0555177c7bf39"
 },
 "nbformat": 3,
 "nbformat_minor": 0,
 "worksheets": [
  {
   "cells": [
    {
     "cell_type": "markdown",
     "metadata": {},
     "source": [
      "Numerical computing in Python \n",
      "===="
     ]
    },
    {
     "cell_type": "code",
     "collapsed": false,
     "input": [
      "# Set up inline plotting\n",
      "%matplotlib inline\n",
      "import matplotlib.pyplot as plt"
     ],
     "language": "python",
     "metadata": {},
     "outputs": [],
     "prompt_number": 56
    },
    {
     "cell_type": "markdown",
     "metadata": {},
     "source": [
      "Numpy\n",
      "----\n",
      "\n",
      "The main package for numerical computing is `numpy`. It provides data structures for vectors, matrices and higher-dimensinoal arrays, pseudo-random number generators, a flexible indexing system to extract parts of these data strucures, a convenient *broadcasting* system to simplify vector-vector and vector-matrix operations and efficient basic linear algebra routines.\n",
      "\n",
      "**References**:\n",
      "\n",
      "- [Basics](http://wiki.scipy.org/Tentative_NumPy_Tutorial)\n",
      "- [Advanced](http://scipy-lectures.github.io/advanced/advanced_numpy/)"
     ]
    },
    {
     "cell_type": "code",
     "collapsed": false,
     "input": [
      "import numpy as np\n",
      "import numpy.random as npr\n",
      "import scipy.linalg as la\n",
      "np.set_printoptions(precision=4)"
     ],
     "language": "python",
     "metadata": {},
     "outputs": [],
     "prompt_number": 57
    },
    {
     "cell_type": "markdown",
     "metadata": {},
     "source": [
      "### NDArray\n",
      "\n",
      "The base structure in `numpy` is `ndarray`, used to represent vectors, matrices and higher-dimensional arrays. Each `ndarray` has the following attributes:\n",
      "\n",
      "- dtype = correspond to data types in C\n",
      "- shape = dimensionns of array\n",
      "- strides = number of bytes to step in each direction when traversing the array"
     ]
    },
    {
     "cell_type": "code",
     "collapsed": false,
     "input": [
      "x = np.array([1,2,3,4,5,6])\n",
      "print x\n",
      "print 'dytpe', x.dtype\n",
      "print 'shape', x.shape\n",
      "print 'strides', x.strides"
     ],
     "language": "python",
     "metadata": {},
     "outputs": [
      {
       "output_type": "stream",
       "stream": "stdout",
       "text": [
        "[1 2 3 4 5 6]\n",
        "dytpe int64\n",
        "shape (6,)\n",
        "strides (8,)\n"
       ]
      }
     ],
     "prompt_number": 58
    },
    {
     "cell_type": "code",
     "collapsed": false,
     "input": [
      "x.shape = (2,3)\n",
      "print x\n",
      "print 'dytpe', x.dtype\n",
      "print 'shape', x.shape\n",
      "print 'strides', x.strides"
     ],
     "language": "python",
     "metadata": {},
     "outputs": [
      {
       "output_type": "stream",
       "stream": "stdout",
       "text": [
        "[[1 2 3]\n",
        " [4 5 6]]\n",
        "dytpe int64\n",
        "shape (2, 3)\n",
        "strides (24, 8)\n"
       ]
      }
     ],
     "prompt_number": 59
    },
    {
     "cell_type": "code",
     "collapsed": false,
     "input": [
      "x = x.astype('complex')\n",
      "print x\n",
      "print 'dytpe', x.dtype\n",
      "print 'shape', x.shape\n",
      "print 'strides', x.strides"
     ],
     "language": "python",
     "metadata": {},
     "outputs": [
      {
       "output_type": "stream",
       "stream": "stdout",
       "text": [
        "[[ 1.+0.j  2.+0.j  3.+0.j]\n",
        " [ 4.+0.j  5.+0.j  6.+0.j]]\n",
        "dytpe complex128\n",
        "shape (2, 3)\n",
        "strides (48, 16)\n"
       ]
      }
     ],
     "prompt_number": 60
    },
    {
     "cell_type": "markdown",
     "metadata": {},
     "source": [
      "### Creating arrays"
     ]
    },
    {
     "cell_type": "code",
     "collapsed": false,
     "input": [
      "# from lists\n",
      "x_list = [(i,j) for i in range(2) for j in range(3)]\n",
      "print x_list, '\\n'\n",
      "x_array = np.array(x_list)\n",
      "print x_array"
     ],
     "language": "python",
     "metadata": {},
     "outputs": [
      {
       "output_type": "stream",
       "stream": "stdout",
       "text": [
        "[(0, 0), (0, 1), (0, 2), (1, 0), (1, 1), (1, 2)] \n",
        "\n",
        "[[0 0]\n",
        " [0 1]\n",
        " [0 2]\n",
        " [1 0]\n",
        " [1 1]\n",
        " [1 2]]\n"
       ]
      }
     ],
     "prompt_number": 61
    },
    {
     "cell_type": "code",
     "collapsed": false,
     "input": [
      "# Using convenience functions\n",
      "\n",
      "print np.ones((3,2)), '\\n'\n",
      "print np.zeros((3,2)), '\\n'\n",
      "print np.eye(3), '\\n'\n",
      "print np.diag([1,2,3]), '\\n'\n",
      "print np.fromfunction(lambda i, j: (i-2)**2+(j-2)**2, (5,5))"
     ],
     "language": "python",
     "metadata": {},
     "outputs": [
      {
       "output_type": "stream",
       "stream": "stdout",
       "text": [
        "[[ 1.  1.]\n",
        " [ 1.  1.]\n",
        " [ 1.  1.]] \n",
        "\n",
        "[[ 0.  0.]\n",
        " [ 0.  0.]\n",
        " [ 0.  0.]] \n",
        "\n",
        "[[ 1.  0.  0.]\n",
        " [ 0.  1.  0.]\n",
        " [ 0.  0.  1.]] \n",
        "\n",
        "[[1 0 0]\n",
        " [0 2 0]\n",
        " [0 0 3]] \n",
        "\n",
        "[[ 8.  5.  4.  5.  8.]\n",
        " [ 5.  2.  1.  2.  5.]\n",
        " [ 4.  1.  0.  1.  4.]\n",
        " [ 5.  2.  1.  2.  5.]\n",
        " [ 8.  5.  4.  5.  8.]]\n"
       ]
      }
     ],
     "prompt_number": 62
    },
    {
     "cell_type": "markdown",
     "metadata": {},
     "source": [
      "### Array indexing"
     ]
    },
    {
     "cell_type": "code",
     "collapsed": false,
     "input": [
      "# Create a 10 by 6 array from normal deviates and convert to ints\n",
      "n, nrows, ncols = 100, 10, 6\n",
      "xs = np.random.normal(n, 15, size=(nrows, ncols)).astype('int')\n",
      "xs"
     ],
     "language": "python",
     "metadata": {},
     "outputs": [
      {
       "metadata": {},
       "output_type": "pyout",
       "prompt_number": 63,
       "text": [
        "array([[122, 103, 108, 101, 108,  93],\n",
        "       [108,  86,  98, 125,  89, 114],\n",
        "       [138, 107, 101, 111,  78,  80],\n",
        "       [102, 102, 110,  79, 120, 117],\n",
        "       [114,  80,  79, 100, 108,  76],\n",
        "       [ 63, 124,  81, 113, 122, 103],\n",
        "       [ 93,  65,  94,  92,  83,  92],\n",
        "       [ 86, 115, 100, 106,  84, 112],\n",
        "       [113, 115,  78, 119,  74, 146],\n",
        "       [128, 113, 107,  91,  91, 126]])"
       ]
      }
     ],
     "prompt_number": 63
    },
    {
     "cell_type": "code",
     "collapsed": false,
     "input": [
      "# Use slice notation\n",
      "print(xs[0,0])\n",
      "print(xs[-1,-1])\n",
      "print(xs[3,:])\n",
      "print(xs[:,0])\n",
      "print(xs[::2,::2])\n",
      "print(xs[2:5,2:5])"
     ],
     "language": "python",
     "metadata": {},
     "outputs": [
      {
       "output_type": "stream",
       "stream": "stdout",
       "text": [
        "122\n",
        "126\n",
        "[102 102 110  79 120 117]\n",
        "[122 108 138 102 114  63  93  86 113 128]\n",
        "[[122 108 108]\n",
        " [138 101  78]\n",
        " [114  79 108]\n",
        " [ 93  94  83]\n",
        " [113  78  74]]\n",
        "[[101 111  78]\n",
        " [110  79 120]\n",
        " [ 79 100 108]]\n"
       ]
      }
     ],
     "prompt_number": 64
    },
    {
     "cell_type": "code",
     "collapsed": false,
     "input": [
      "#  Indexing with list of integers\n",
      "print(xs[0, [1,2,4,5]])"
     ],
     "language": "python",
     "metadata": {},
     "outputs": [
      {
       "output_type": "stream",
       "stream": "stdout",
       "text": [
        "[103 108 108  93]\n"
       ]
      }
     ],
     "prompt_number": 65
    },
    {
     "cell_type": "code",
     "collapsed": false,
     "input": [
      "# Boolean indexing\n",
      "print(xs[xs % 2 == 0])\n",
      "xs[xs % 2 == 0] = 0 # set even entries to zero\n",
      "print(xs)"
     ],
     "language": "python",
     "metadata": {},
     "outputs": [
      {
       "output_type": "stream",
       "stream": "stdout",
       "text": [
        "[122 108 108 108  86  98 114 138  78  80 102 102 110 120 114  80 100 108\n",
        "  76 124 122  94  92  92  86 100 106  84 112  78  74 146 128 126]\n",
        "[[  0 103   0 101   0  93]\n",
        " [  0   0   0 125  89   0]\n",
        " [  0 107 101 111   0   0]\n",
        " [  0   0   0  79   0 117]\n",
        " [  0   0  79   0   0   0]\n",
        " [ 63   0  81 113   0 103]\n",
        " [ 93  65   0   0  83   0]\n",
        " [  0 115   0   0   0   0]\n",
        " [113 115   0 119   0   0]\n",
        " [  0 113 107  91  91   0]]\n"
       ]
      }
     ],
     "prompt_number": 66
    },
    {
     "cell_type": "code",
     "collapsed": false,
     "input": [
      "np.tril_indices?"
     ],
     "language": "python",
     "metadata": {},
     "outputs": [],
     "prompt_number": 67
    },
    {
     "cell_type": "code",
     "collapsed": false,
     "input": [
      "# Extracting lower triangular, diagonal and upper triangular matrices\n",
      "\n",
      "a = np.arange(16).reshape(4,4)\n",
      "print a, '\\n'\n",
      "print np.tril(a, -1), '\\n'\n",
      "print np.diag(np.diag(a)), '\\n'\n",
      "print np.triu(a, 1)"
     ],
     "language": "python",
     "metadata": {},
     "outputs": [
      {
       "output_type": "stream",
       "stream": "stdout",
       "text": [
        "[[ 0  1  2  3]\n",
        " [ 4  5  6  7]\n",
        " [ 8  9 10 11]\n",
        " [12 13 14 15]] \n",
        "\n",
        "[[ 0  0  0  0]\n",
        " [ 4  0  0  0]\n",
        " [ 8  9  0  0]\n",
        " [12 13 14  0]] \n",
        "\n",
        "[[ 0  0  0  0]\n",
        " [ 0  5  0  0]\n",
        " [ 0  0 10  0]\n",
        " [ 0  0  0 15]] \n",
        "\n",
        "[[ 0  1  2  3]\n",
        " [ 0  0  6  7]\n",
        " [ 0  0  0 11]\n",
        " [ 0  0  0  0]]\n"
       ]
      }
     ],
     "prompt_number": 68
    },
    {
     "cell_type": "markdown",
     "metadata": {},
     "source": [
      "### Broadcasting, row, column and matrix operations"
     ]
    },
    {
     "cell_type": "code",
     "collapsed": false,
     "input": [
      "# operations across rows, cols or entire matrix\n",
      "print(xs.max())\n",
      "print(xs.max(axis=0)) # max of each col\n",
      "print(xs.max(axis=1)) # max of each row"
     ],
     "language": "python",
     "metadata": {},
     "outputs": [
      {
       "output_type": "stream",
       "stream": "stdout",
       "text": [
        "125\n",
        "[113 115 107 125  91 117]\n",
        "[103 125 111 117  79 113  93 115 119 113]\n"
       ]
      }
     ],
     "prompt_number": 69
    },
    {
     "cell_type": "code",
     "collapsed": false,
     "input": [
      "# A funcitonal rather than object-oriented approacha also wokrs\n",
      "print(np.max(xs, axis=0))\n",
      "print(np.max(xs, axis=1))"
     ],
     "language": "python",
     "metadata": {},
     "outputs": [
      {
       "output_type": "stream",
       "stream": "stdout",
       "text": [
        "[113 115 107 125  91 117]\n",
        "[103 125 111 117  79 113  93 115 119 113]\n"
       ]
      }
     ],
     "prompt_number": 70
    },
    {
     "cell_type": "code",
     "collapsed": false,
     "input": [
      "# broadcasting\n",
      "xs = np.arange(12).reshape(2,6)\n",
      "print(xs, '\\n')\n",
      "print(xs * 10, '\\n')\n",
      "\n",
      "# broadcasting just works when doing column-wise operations\n",
      "col_means = xs.mean(axis=0)\n",
      "print(col_means, '\\n')\n",
      "print(xs + col_means, '\\n')\n",
      "\n",
      "# but needs a little more work for row-wise operations\n",
      "row_means = xs.mean(axis=1)[:, np.newaxis]\n",
      "print(row_means)\n",
      "print(xs + row_means)"
     ],
     "language": "python",
     "metadata": {},
     "outputs": [
      {
       "output_type": "stream",
       "stream": "stdout",
       "text": [
        "(array([[ 0,  1,  2,  3,  4,  5],\n",
        "       [ 6,  7,  8,  9, 10, 11]]), '\\n')\n",
        "(array([[  0,  10,  20,  30,  40,  50],\n",
        "       [ 60,  70,  80,  90, 100, 110]]), '\\n')\n",
        "(array([ 3.,  4.,  5.,  6.,  7.,  8.]), '\\n')\n",
        "(array([[  3.,   5.,   7.,   9.,  11.,  13.],\n",
        "       [  9.,  11.,  13.,  15.,  17.,  19.]]), '\\n')\n",
        "[[ 2.5]\n",
        " [ 8.5]]\n",
        "[[  2.5   3.5   4.5   5.5   6.5   7.5]\n",
        " [ 14.5  15.5  16.5  17.5  18.5  19.5]]\n"
       ]
      }
     ],
     "prompt_number": 71
    },
    {
     "cell_type": "code",
     "collapsed": false,
     "input": [
      "# convert matrix to have zero mean and unit standard deviation using col summary statistics\n",
      "print((xs - xs.mean(axis=0))/xs.std(axis=0))"
     ],
     "language": "python",
     "metadata": {},
     "outputs": [
      {
       "output_type": "stream",
       "stream": "stdout",
       "text": [
        "[[-1. -1. -1. -1. -1. -1.]\n",
        " [ 1.  1.  1.  1.  1.  1.]]\n"
       ]
      }
     ],
     "prompt_number": 72
    },
    {
     "cell_type": "code",
     "collapsed": false,
     "input": [
      "# convert matrix to have zero mean and unit standard deviation using row summary statistics\n",
      "print((xs - xs.mean(axis=1)[:, np.newaxis])/xs.std(axis=1)[:, np.newaxis])"
     ],
     "language": "python",
     "metadata": {},
     "outputs": [
      {
       "output_type": "stream",
       "stream": "stdout",
       "text": [
        "[[-1.4639 -0.8783 -0.2928  0.2928  0.8783  1.4639]\n",
        " [-1.4639 -0.8783 -0.2928  0.2928  0.8783  1.4639]]\n"
       ]
      }
     ],
     "prompt_number": 73
    },
    {
     "cell_type": "code",
     "collapsed": false,
     "input": [
      "# broadcasting for outer product\n",
      "# e.g. create the 12x12 multiplication toable\n",
      "u = np.arange(1, 13)\n",
      "u[:,None] * u[None,:]"
     ],
     "language": "python",
     "metadata": {},
     "outputs": [
      {
       "metadata": {},
       "output_type": "pyout",
       "prompt_number": 109,
       "text": [
        "array([[  1,   2,   3,   4,   5,   6,   7,   8,   9,  10,  11,  12],\n",
        "       [  2,   4,   6,   8,  10,  12,  14,  16,  18,  20,  22,  24],\n",
        "       [  3,   6,   9,  12,  15,  18,  21,  24,  27,  30,  33,  36],\n",
        "       [  4,   8,  12,  16,  20,  24,  28,  32,  36,  40,  44,  48],\n",
        "       [  5,  10,  15,  20,  25,  30,  35,  40,  45,  50,  55,  60],\n",
        "       [  6,  12,  18,  24,  30,  36,  42,  48,  54,  60,  66,  72],\n",
        "       [  7,  14,  21,  28,  35,  42,  49,  56,  63,  70,  77,  84],\n",
        "       [  8,  16,  24,  32,  40,  48,  56,  64,  72,  80,  88,  96],\n",
        "       [  9,  18,  27,  36,  45,  54,  63,  72,  81,  90,  99, 108],\n",
        "       [ 10,  20,  30,  40,  50,  60,  70,  80,  90, 100, 110, 120],\n",
        "       [ 11,  22,  33,  44,  55,  66,  77,  88,  99, 110, 121, 132],\n",
        "       [ 12,  24,  36,  48,  60,  72,  84,  96, 108, 120, 132, 144]])"
       ]
      }
     ],
     "prompt_number": 109
    },
    {
     "cell_type": "markdown",
     "metadata": {},
     "source": [
      "### Universal functions (Ufuncs)\n",
      "\n",
      "Functions that work on both scalars and arrays are known as ufuncs. For arrays, ufuncs apply the function in an element-wise fashion. Use of ufuncs is an esssential aspect of vectorization and typically much more computtionally efficient than using an explicit loop over each element."
     ]
    },
    {
     "cell_type": "code",
     "collapsed": false,
     "input": [
      "xs = np.linspace(0, 2*np.pi, 100)\n",
      "ys = np.sin(xs) # np.sin is a universal function\n",
      "plt.plot(xs, ys);"
     ],
     "language": "python",
     "metadata": {},
     "outputs": [
      {
       "metadata": {},
       "output_type": "display_data",
       "png": "[encoded data removed]",
       "text": [
        "<matplotlib.figure.Figure at 0x10b7e8e90>"
       ]
      }
     ],
     "prompt_number": 112
    },
    {
     "cell_type": "code",
     "collapsed": false,
     "input": [
      "# operators also perform elementwise operations by default\n",
      "\n",
      "xs = np.arange(10)\n",
      "print xs\n",
      "print -xs\n",
      "print xs+xs\n",
      "print xs*xs\n",
      "print xs**3\n",
      "print xs < 5"
     ],
     "language": "python",
     "metadata": {},
     "outputs": [
      {
       "output_type": "stream",
       "stream": "stdout",
       "text": [
        "[0 1 2 3 4 5 6 7 8 9]\n",
        "[ 0 -1 -2 -3 -4 -5 -6 -7 -8 -9]\n",
        "[ 0  2  4  6  8 10 12 14 16 18]\n",
        "[ 0  1  4  9 16 25 36 49 64 81]\n",
        "[  0   1   8  27  64 125 216 343 512 729]\n",
        "[ True  True  True  True  True False False False False False]\n"
       ]
      }
     ],
     "prompt_number": 123
    },
    {
     "cell_type": "markdown",
     "metadata": {},
     "source": [
      "### Generalized ufucns\n",
      "\n",
      "A universal function performs vectorized looping over scalars. A generalized ufucn performs looping over vectors or arrays. Currently, numpy only ships with a single generalized ufunc. However, they play an important role for JIT compilation with `numba`, a topic we will cover in future lectures."
     ]
    },
    {
     "cell_type": "code",
     "collapsed": false,
     "input": [
      "from numpy.core.umath_tests import matrix_multiply\n",
      "\n",
      "print matrix_multiply.signature"
     ],
     "language": "python",
     "metadata": {},
     "outputs": [
      {
       "output_type": "stream",
       "stream": "stdout",
       "text": [
        "(m,n),(n,p)->(m,p)\n"
       ]
      }
     ],
     "prompt_number": 124
    },
    {
     "cell_type": "code",
     "collapsed": false,
     "input": [
      "us = np.random.random((5, 2, 3)) # 5 2x3 matrics\n",
      "vs = np.random.random((5, 3, 4)) # 5 3x4 matrices\n",
      "# perform matrix multiplication for each of the 5 sets of matrices\n",
      "ws = matrix_multiply(us, vs) \n",
      "print ws.shape\n",
      "print ws"
     ],
     "language": "python",
     "metadata": {},
     "outputs": [
      {
       "output_type": "stream",
       "stream": "stdout",
       "text": [
        "(5, 2, 4)\n",
        "[[[ 0.7777  1.0021  0.1337  1.1211]\n",
        "  [ 1.758   1.6653  0.5851  1.8356]]\n",
        "\n",
        " [[ 0.2676  0.1982  0.6121  0.6385]\n",
        "  [ 0.2744  0.3078  0.3117  0.5689]]\n",
        "\n",
        " [[ 0.7395  1.0228  0.6215  0.4334]\n",
        "  [ 0.6112  0.7895  0.7492  0.604 ]]\n",
        "\n",
        " [[ 0.9593  0.4507  0.6687  0.8067]\n",
        "  [ 1.081   0.5623  0.8686  1.0632]]\n",
        "\n",
        " [[ 1.707   0.6632  1.0997  1.4098]\n",
        "  [ 0.8343  0.4056  0.2793  0.834 ]]]\n"
       ]
      }
     ],
     "prompt_number": 128
    },
    {
     "cell_type": "markdown",
     "metadata": {},
     "source": [
      "### Linear algebra\n",
      "\n",
      "In general, the linear algebra functions can be found in scipy.linalg. You can also get access to BLAS and LAPACK function via scipy.linagl.blas and scipy.linalg.lapack."
     ]
    },
    {
     "cell_type": "code",
     "collapsed": false,
     "input": [
      "A = np.array([[1,2],[3,4]])\n",
      "b = np.array([1,4])\n",
      "print(A)\n",
      "print(b)"
     ],
     "language": "python",
     "metadata": {},
     "outputs": [
      {
       "output_type": "stream",
       "stream": "stdout",
       "text": [
        "[[1 2]\n",
        " [3 4]]\n",
        "[1 4]\n"
       ]
      }
     ],
     "prompt_number": 74
    },
    {
     "cell_type": "code",
     "collapsed": false,
     "input": [
      "# Matrix operations\n",
      "import numpy as np\n",
      "import scipy.linalg as la\n",
      "from functools import reduce\n",
      "\n",
      "A = np.array([[1,2],[3,4]])\n",
      "print(np.dot(A, A))\n",
      "print(A)\n",
      "print(la.inv(A))\n",
      "print(A.T)"
     ],
     "language": "python",
     "metadata": {},
     "outputs": [
      {
       "output_type": "stream",
       "stream": "stdout",
       "text": [
        "[[ 7 10]\n",
        " [15 22]]\n",
        "[[1 2]\n",
        " [3 4]]\n",
        "[[-2.   1. ]\n",
        " [ 1.5 -0.5]]\n",
        "[[1 3]\n",
        " [2 4]]\n"
       ]
      }
     ],
     "prompt_number": 75
    },
    {
     "cell_type": "code",
     "collapsed": false,
     "input": [
      "x = la.solve(A, b) # do not use x = dot(inv(A), b) as it is inefficient and numerically unstable\n",
      "print(x)\n",
      "print(np.dot(A, x) - b)"
     ],
     "language": "python",
     "metadata": {},
     "outputs": [
      {
       "output_type": "stream",
       "stream": "stdout",
       "text": [
        "[ 2.  -0.5]\n",
        "[ 0.  0.]\n"
       ]
      }
     ],
     "prompt_number": 76
    },
    {
     "cell_type": "markdown",
     "metadata": {},
     "source": [
      "### Matrix decompositions"
     ]
    },
    {
     "cell_type": "code",
     "collapsed": false,
     "input": [
      "A = npr.normal(100, 15, (6, 10)).astype('int')\n",
      "print(A)"
     ],
     "language": "python",
     "metadata": {},
     "outputs": [
      {
       "output_type": "stream",
       "stream": "stdout",
       "text": [
        "[[ 96 107  79  92  83 101  84  85  85  89]\n",
        " [110 108 123  93  99  84 115  60 113 135]\n",
        " [109  88  77  97 120  85  86  95  87 101]\n",
        " [112  88  71  80  96  71  93  96  92  98]\n",
        " [ 95  95 116 104  72  99 102 108  96 117]\n",
        " [117  77  98  99 122  99  96  86 110 106]]\n"
       ]
      }
     ],
     "prompt_number": 77
    },
    {
     "cell_type": "code",
     "collapsed": false,
     "input": [
      "P, L, U = la.lu(A)\n",
      "print(np.dot(P, A))\n",
      "print(np.dot(L, U))"
     ],
     "language": "python",
     "metadata": {},
     "outputs": [
      {
       "output_type": "stream",
       "stream": "stdout",
       "text": [
        "[[ 110.  108.  123.   93.   99.   84.  115.   60.  113.  135.]\n",
        " [ 112.   88.   71.   80.   96.   71.   93.   96.   92.   98.]\n",
        " [ 117.   77.   98.   99.  122.   99.   96.   86.  110.  106.]\n",
        " [  95.   95.  116.  104.   72.   99.  102.  108.   96.  117.]\n",
        " [ 109.   88.   77.   97.  120.   85.   86.   95.   87.  101.]\n",
        " [  96.  107.   79.   92.   83.  101.   84.   85.   85.   89.]]\n",
        "[[ 117.   77.   98.   99.  122.   99.   96.   86.  110.  106.]\n",
        " [  96.  107.   79.   92.   83.  101.   84.   85.   85.   89.]\n",
        " [  95.   95.  116.  104.   72.   99.  102.  108.   96.  117.]\n",
        " [ 110.  108.  123.   93.   99.   84.  115.   60.  113.  135.]\n",
        " [ 112.   88.   71.   80.   96.   71.   93.   96.   92.   98.]\n",
        " [ 109.   88.   77.   97.  120.   85.   86.   95.   87.  101.]]\n"
       ]
      }
     ],
     "prompt_number": 78
    },
    {
     "cell_type": "code",
     "collapsed": false,
     "input": [
      "Q, R = la.qr(A)\n",
      "print(A)\n",
      "print(np.dot(Q, R).astype('int'))"
     ],
     "language": "python",
     "metadata": {},
     "outputs": [
      {
       "output_type": "stream",
       "stream": "stdout",
       "text": [
        "[[ 96 107  79  92  83 101  84  85  85  89]\n",
        " [110 108 123  93  99  84 115  60 113 135]\n",
        " [109  88  77  97 120  85  86  95  87 101]\n",
        " [112  88  71  80  96  71  93  96  92  98]\n",
        " [ 95  95 116 104  72  99 102 108  96 117]\n",
        " [117  77  98  99 122  99  96  86 110 106]]\n",
        "[[ 96 106  78  91  82 100  83  84  84  88]\n",
        " [109 107 123  92  98  83 114  59 112 134]\n",
        " [109  87  77  96 120  84  85  94  86 100]\n",
        " [112  87  70  79  95  70  92  96  91  97]\n",
        " [ 95  95 116 103  71  98 102 107  95 116]\n",
        " [116  77  97  98 121  98  95  85 109 105]]\n"
       ]
      }
     ],
     "prompt_number": 79
    },
    {
     "cell_type": "code",
     "collapsed": false,
     "input": [
      "U, s, V = la.svd(A)\n",
      "m, n = A.shape\n",
      "S =  np.zeros((m, n))\n",
      "for i, _s in enumerate(s):\n",
      "    S[i,i] = _s\n",
      "print(reduce(np.dot, [U, S, V]))"
     ],
     "language": "python",
     "metadata": {},
     "outputs": [
      {
       "output_type": "stream",
       "stream": "stdout",
       "text": [
        "[[  96.  107.   79.   92.   83.  101.   84.   85.   85.   89.]\n",
        " [ 110.  108.  123.   93.   99.   84.  115.   60.  113.  135.]\n",
        " [ 109.   88.   77.   97.  120.   85.   86.   95.   87.  101.]\n",
        " [ 112.   88.   71.   80.   96.   71.   93.   96.   92.   98.]\n",
        " [  95.   95.  116.  104.   72.   99.  102.  108.   96.  117.]\n",
        " [ 117.   77.   98.   99.  122.   99.   96.   86.  110.  106.]]\n"
       ]
      }
     ],
     "prompt_number": 80
    },
    {
     "cell_type": "code",
     "collapsed": false,
     "input": [
      "B = np.cov(A)\n",
      "print(B)"
     ],
     "language": "python",
     "metadata": {},
     "outputs": [
      {
       "output_type": "stream",
       "stream": "stdout",
       "text": [
        "[[  78.5444  -26.       -3.2778   -3.3     -16.3778  -44.1111]\n",
        " [ -26.      450.8889  -24.2222   28.6667   59.       82.3333]\n",
        " [  -3.2778  -24.2222  164.0556  109.7222  -98.5556  110.    ]\n",
        " [  -3.3      28.6667  109.7222  162.0111  -45.5333   66.    ]\n",
        " [ -16.3778   59.      -98.5556  -45.5333  164.2667  -75.8889]\n",
        " [ -44.1111   82.3333  110.       66.      -75.8889  182.8889]]\n"
       ]
      }
     ],
     "prompt_number": 81
    },
    {
     "cell_type": "code",
     "collapsed": false,
     "input": [
      "u, V = la.eig(B)\n",
      "print(np.dot(B, V))\n",
      "print(np.real(np.dot(V, np.diag(u))))"
     ],
     "language": "python",
     "metadata": {},
     "outputs": [
      {
       "output_type": "stream",
       "stream": "stdout",
       "text": [
        "[[  4.7178e+01  -1.0678e+01  -8.1403e+00  -2.5028e+01   3.5652e+01\n",
        "   -6.9118e+01]\n",
        " [ -4.5141e+02  -1.0588e+02   3.5430e+00   2.6246e+00   4.1260e+00\n",
        "   -2.5100e+01]\n",
        " [ -3.8296e+01   2.4289e+02   1.7957e+01  -1.5368e+01   1.8124e+01\n",
        "    3.6148e+00]\n",
        " [ -8.0541e+01   1.7469e+02  -9.1166e+00   1.2647e+01   8.9056e+01\n",
        "    1.9271e+01]\n",
        " [ -2.5693e+01  -2.0314e+02   3.5983e-01  -2.1254e+01   3.9097e+01\n",
        "    6.6115e+01]\n",
        " [ -1.5346e+02   1.8987e+02  -1.2681e+01  -1.4659e+01  -5.8984e+01\n",
        "    3.0497e+01]]\n",
        "[[  4.7178e+01  -1.0678e+01  -8.1403e+00  -2.5028e+01   3.5652e+01\n",
        "   -6.9118e+01]\n",
        " [ -4.5141e+02  -1.0588e+02   3.5430e+00   2.6246e+00   4.1260e+00\n",
        "   -2.5100e+01]\n",
        " [ -3.8296e+01   2.4289e+02   1.7957e+01  -1.5368e+01   1.8124e+01\n",
        "    3.6148e+00]\n",
        " [ -8.0541e+01   1.7469e+02  -9.1166e+00   1.2647e+01   8.9056e+01\n",
        "    1.9271e+01]\n",
        " [ -2.5693e+01  -2.0314e+02   3.5983e-01  -2.1254e+01   3.9097e+01\n",
        "    6.6115e+01]\n",
        " [ -1.5346e+02   1.8987e+02  -1.2681e+01  -1.4659e+01  -5.8984e+01\n",
        "    3.0497e+01]]\n"
       ]
      }
     ],
     "prompt_number": 82
    },
    {
     "cell_type": "code",
     "collapsed": false,
     "input": [
      "C = la.cholesky(B)\n",
      "print(np.dot(C.T, C)) # dot(C.T.conj(), C)\n",
      "print(B)"
     ],
     "language": "python",
     "metadata": {},
     "outputs": [
      {
       "output_type": "stream",
       "stream": "stdout",
       "text": [
        "[[  78.5444  -26.       -3.2778   -3.3     -16.3778  -44.1111]\n",
        " [ -26.      450.8889  -24.2222   28.6667   59.       82.3333]\n",
        " [  -3.2778  -24.2222  164.0556  109.7222  -98.5556  110.    ]\n",
        " [  -3.3      28.6667  109.7222  162.0111  -45.5333   66.    ]\n",
        " [ -16.3778   59.      -98.5556  -45.5333  164.2667  -75.8889]\n",
        " [ -44.1111   82.3333  110.       66.      -75.8889  182.8889]]\n",
        "[[  78.5444  -26.       -3.2778   -3.3     -16.3778  -44.1111]\n",
        " [ -26.      450.8889  -24.2222   28.6667   59.       82.3333]\n",
        " [  -3.2778  -24.2222  164.0556  109.7222  -98.5556  110.    ]\n",
        " [  -3.3      28.6667  109.7222  162.0111  -45.5333   66.    ]\n",
        " [ -16.3778   59.      -98.5556  -45.5333  164.2667  -75.8889]\n",
        " [ -44.1111   82.3333  110.       66.      -75.8889  182.8889]]\n"
       ]
      }
     ],
     "prompt_number": 83
    },
    {
     "cell_type": "markdown",
     "metadata": {},
     "source": [
      "### Finding the covariance matrix"
     ]
    },
    {
     "cell_type": "code",
     "collapsed": false,
     "input": [
      "np.random.seed(123)\n",
      "x = np.random.multivariate_normal([10,10], np.array([[3,1],[1,5]]), 10)\n",
      "# create a zero mean array\n",
      "u = x - x.mean(0)\n",
      "cov = np.dot(u.T, u)/(10-1)\n",
      "print cov, '\\n'\n",
      "print np.cov(x.T)"
     ],
     "language": "python",
     "metadata": {},
     "outputs": [
      {
       "output_type": "stream",
       "stream": "stdout",
       "text": [
        "[[ 5.1286  3.0701]\n",
        " [ 3.0701  9.0755]] \n",
        "\n",
        "[[ 5.1286  3.0701]\n",
        " [ 3.0701  9.0755]]\n"
       ]
      }
     ],
     "prompt_number": 107
    },
    {
     "cell_type": "markdown",
     "metadata": {},
     "source": [
      "### Least squares solution"
     ]
    },
    {
     "cell_type": "markdown",
     "metadata": {},
     "source": [
      "Suppose we want to solve a system of noisy linear equations\n",
      "\n",
      "$$\n",
      "y_1 = b_0 x_1 + b_1 \\\\\n",
      "y_2 = b_0 x_2 + b_1 \\\\\n",
      "y_3 = b_0 x_2 + b_1 \\\\\n",
      "y_4 = b_0 x_4 + b_1 \\\\\n",
      "$$\n",
      "\n",
      "Since the system is noisy (implies full rank) and overdetermined, we cannot find an exact solution. Instead, we will look for the least squares solution. First we can rewrrite in matrix notation $Y = AB$, treating $b_1$ as the coefficient of $x^0 = 1$:\n",
      "\n",
      "$$\n",
      "\\left(\n",
      "\\begin{array}{c}\n",
      "y_1 \\\\\n",
      "y_2 \\\\\n",
      "y_3 \\\\\n",
      "y_4 \n",
      "\\end{array} \n",
      "\\right) = \\left( \\begin{array}{cc}\n",
      "x_1 & 1 \\\\\n",
      "x_2 & 1 \\\\\n",
      "x_3 & 1 \\\\\n",
      "x_4 & 1 \\end{array} \\right)\n",
      "\\left( \n",
      "\\begin{array}{cc}\n",
      "b_0 & b_1 \n",
      "\\end{array}\n",
      "\\right)\n",
      "$$\n",
      "\n",
      "The solution of this (i.e. the $B$ matrix) is solved by multipling the psudoinverse of $A$ (the Vandermonde matrix) with $Y$\n",
      "\n",
      "$$\n",
      "(A^\\text{T}A)^{-1}A^\\text{T} Y\n",
      "$$\n",
      "\n",
      "Note that higher order polynomials have the same structure and can be solved in the same way\n",
      "\n",
      "$$\n",
      "\\left(\n",
      "\\begin{array}{c}\n",
      "y_1 \\\\\n",
      "y_2 \\\\\n",
      "y_3 \\\\\n",
      "y_4 \n",
      "\\end{array} \n",
      "\\right) = \\left( \\begin{array}{ccc}\n",
      "x_1^2 & x_1 & 1 \\\\\n",
      "x_2^2 & x_2 & 1 \\\\\n",
      "x_3^2 & x_3 & 1 \\\\\n",
      "x_4^2 & x_4 & 1 \\end{array} \\right)\n",
      "\\left( \n",
      "\\begin{array}{ccc}\n",
      "b_0 & b_1 & b_2\n",
      "\\end{array}\n",
      "\\right)\n",
      "$$"
     ]
    },
    {
     "cell_type": "code",
     "collapsed": false,
     "input": [
      "# Set up a system of 11 linear equations\n",
      "x = np.linspace(1,2,11)\n",
      "y = 6*x - 2 + npr.normal(0, 0.3, len(x))\n",
      "\n",
      "# Form the VanderMonde matrix\n",
      "A = np.vstack([x, np.ones(len(x))]).T\n",
      "\n",
      "# The linear algebra librayr has a lstsq() function \n",
      "# that will do the above calculaitons for us\n",
      "\n",
      "b, resids, rank, sv = la.lstsq(A, y)\n",
      "\n",
      "# Check against pseudoinverse and the normal equation\n",
      "print(\"lstsq solution\".ljust(30), b)\n",
      "print(\"pseudoinverse solution\".ljust(30), np.dot(la.pinv(A), y))\n",
      "print(\"normal euqation solution\".ljust(30), np.dot(np.dot(la.inv(np.dot(A.T, A)), A.T), y))\n",
      "\n",
      "# Now plot the solution\n",
      "xi = np.linspace(1,2,11)\n",
      "yi = b[0]*xi + b[1]\n",
      "\n",
      "plt.plot(x, y, 'o')\n",
      "plt.plot(xi, yi, 'r-');"
     ],
     "language": "python",
     "metadata": {},
     "outputs": [
      {
       "output_type": "stream",
       "stream": "stdout",
       "text": [
        "('lstsq solution                ', array([ 5.764 , -1.6499]))\n",
        "('pseudoinverse solution        ', array([ 5.764 , -1.6499]))\n",
        "('normal euqation solution      ', array([ 5.764 , -1.6499]))\n"
       ]
      },
      {
       "metadata": {},
       "output_type": "display_data",
       "png": "[encoded data removed]",
       "text": [
        "<matplotlib.figure.Figure at 0x1098875d0>"
       ]
      }
     ],
     "prompt_number": 84
    },
    {
     "cell_type": "code",
     "collapsed": false,
     "input": [
      "# As advertised, this works for finding coeefficeints of a polynomial too\n",
      "\n",
      "x = np.linspace(0,2,11)\n",
      "y = 6*x*x + .5*x + 2 + npr.normal(0, 0.6, len(x))\n",
      "plt.plot(x, y, 'o')\n",
      "A = np.vstack([x*x, x, np.ones(len(x))]).T\n",
      "b = la.lstsq(A, y)[0]\n",
      "\n",
      "xi = np.linspace(0,2,11)\n",
      "yi = b[0]*xi*xi + b[1]*xi + b[2]\n",
      "plt.plot(xi, yi, 'r-');"
     ],
     "language": "python",
     "metadata": {},
     "outputs": [
      {
       "metadata": {},
       "output_type": "display_data",
       "png": "[encoded data removed]",
       "text": [
        "<matplotlib.figure.Figure at 0x10b73f690>"
       ]
      }
     ],
     "prompt_number": 85
    },
    {
     "cell_type": "code",
     "collapsed": false,
     "input": [
      "# It is important to understand what is going on,\n",
      "# but we don't have to work so hard to fit a polynomial\n",
      "\n",
      "b = np.random.randint(0, 10, 6)\n",
      "x = np.linspace(0, 1, 25)\n",
      "y = np.poly1d(b)(x) \n",
      "y += np.random.normal(0, 5, y.shape)\n",
      "\n",
      "p = np.poly1d(np.polyfit(x, y, len(b)-1))\n",
      "plt.plot(x, y, 'bo')\n",
      "plt.plot(x, p(x), 'r-')\n",
      "list(zip(b, p.coeffs))"
     ],
     "language": "python",
     "metadata": {},
     "outputs": [
      {
       "metadata": {},
       "output_type": "pyout",
       "prompt_number": 86,
       "text": [
        "[(0, 160.99436522903608),\n",
        " (5, -415.00265287106492),\n",
        " (5, 416.80989082175017),\n",
        " (9, -167.29773074996189),\n",
        " (9, 34.608174937989993),\n",
        " (5, 6.9688155339225144)]"
       ]
      },
      {
       "metadata": {},
       "output_type": "display_data",
       "png": "[encoded data removed]",
       "text": [
        "<matplotlib.figure.Figure at 0x10b685050>"
       ]
      }
     ],
     "prompt_number": 86
    },
    {
     "cell_type": "code",
     "collapsed": false,
     "input": [
      "%load_ext version_information\n",
      "\n",
      "%version_information numpy, scipy, functional"
     ],
     "language": "python",
     "metadata": {},
     "outputs": [
      {
       "html": [
        "<table><tr><th>Software</th><th>Version</th></tr><tr><td>Python</td><td>2.7.8 |Anaconda 2.1.0 (x86_64)| (default, Aug 21 2014, 15:21:46) [GCC 4.2.1 (Apple Inc. build 5577)]</td></tr><tr><td>IPython</td><td>2.2.0</td></tr><tr><td>OS</td><td>posix [darwin]</td></tr><tr><td>numpy</td><td>1.9.0</td></tr><tr><td>scipy</td><td>0.14.0</td></tr><tr><td>functional</td><td>0.4</td></tr><tr><td colspan='2'>Sun Dec 14 22:28:54 2014 EST</td></tr></table>"
       ],
       "json": [
        "{\"Software versions\": [{\"version\": \"2.7.8 |Anaconda 2.1.0 (x86_64)| (default, Aug 21 2014, 15:21:46) [GCC 4.2.1 (Apple Inc. build 5577)]\", \"module\": \"Python\"}, {\"version\": \"2.2.0\", \"module\": \"IPython\"}, {\"version\": \"posix [darwin]\", \"module\": \"OS\"}, {\"version\": \"1.9.0\", \"module\": \"numpy\"}, {\"version\": \"0.14.0\", \"module\": \"scipy\"}, {\"version\": \"0.4\", \"module\": \"functional\"}]}"
       ],
       "latex": [
        "\\begin{tabular}{|l|l|}\\hline\n",
        "{\\bf Software} & {\\bf Version} \\\\ \\hline\\hline\n",
        "Python & 2.7.8 |Anaconda 2.1.0 (x86\\letterunderscore{}64)| (default, Aug 21 2014, 15:21:46) [GCC 4.2.1 (Apple Inc. build 5577)] \\\\ \\hline\n",
        "IPython & 2.2.0 \\\\ \\hline\n",
        "OS & posix [darwin] \\\\ \\hline\n",
        "numpy & 1.9.0 \\\\ \\hline\n",
        "scipy & 0.14.0 \\\\ \\hline\n",
        "functional & 0.4 \\\\ \\hline\n",
        "\\hline \\multicolumn{2}{|l|}{Sun Dec 14 22:28:54 2014 EST} \\\\ \\hline\n",
        "\\end{tabular}\n"
       ],
       "metadata": {},
       "output_type": "pyout",
       "prompt_number": 87,
       "text": [
        "Software versions\n",
        "Python 2.7.8 |Anaconda 2.1.0 (x86_64)| (default, Aug 21 2014, 15:21:46) [GCC 4.2.1 (Apple Inc. build 5577)]\n",
        "IPython 2.2.0\n",
        "OS posix [darwin]\n",
        "numpy 1.9.0\n",
        "scipy 0.14.0\n",
        "functional 0.4\n",
        "<tr><td colspan='2'>Sun Dec 14 22:28:54 2014 EST</td></tr>"
       ]
      }
     ],
     "prompt_number": 87
    }
   ],
   "metadata": {}
  }
 ]
}