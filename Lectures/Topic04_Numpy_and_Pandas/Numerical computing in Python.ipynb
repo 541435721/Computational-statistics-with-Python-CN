{
 "metadata": {
  "name": "",
  "signature": "sha256:865882dd91a257ca55a24d554edc2ef624a7ec795080f992152bdb7866538ca4"
 },
 "nbformat": 3,
 "nbformat_minor": 0,
 "worksheets": [
  {
   "cells": [
    {
     "cell_type": "code",
     "collapsed": false,
     "input": [
      "import os\n",
      "import sys\n",
      "import glob\n",
      "import matplotlib.pyplot as plt\n",
      "import numpy as np\n",
      "import pandas as pd\n",
      "%matplotlib inline\n",
      "%precision 4\n",
      "plt.style.use('ggplot')"
     ],
     "language": "python",
     "metadata": {},
     "outputs": [],
     "prompt_number": 79
    },
    {
     "cell_type": "markdown",
     "metadata": {},
     "source": [
      "Lecture outline\n",
      "----\n",
      "\n",
      "- Modules for dealing with numeric data - `numpy`, `pandas` and (maybe) `blaze`.\n",
      "- Most fundamental is `numpy`\n",
      "- Motivate with [exercises](http://scipy-lectures.github.io/intro/numpy/exercises.html)\n",
      "- Follow outline of [numpy tutorial](http://scipy-lectures.github.io/intro/numpy/index.html)\n",
      "- The `linalg` and `random` modules\n",
      "- DataFrame with `pandas` and (maybe) `blaze`\n",
      "\n",
      "### References\n",
      "\n",
      "- [Basics of numpy](http://scipy-lectures.github.io/intro/numpy/index.html)\n",
      "- [Advanced numpy](http://scipy-lectures.github.io/advanced/advanced_numpy/)\n",
      "- [Numpy reference](http://docs.scipy.org/doc/numpy/reference/)\n",
      "- [Numpy for Matlab users](http://wiki.scipy.org/NumPy_for_Matlab_Users)\n",
      "- [Numpy for R users](http://mathesaurus.sourceforge.net/r-numpy.html)\n",
      "- [Tutorials on Pandas](http://pandas.pydata.org/pandas-docs/stable/tutorials.html)\n",
      "- [Blaze documentation](http://blaze.pydata.org/docs/dev/index.html)"
     ]
    },
    {
     "cell_type": "markdown",
     "metadata": {},
     "source": [
      "Example\n",
      "----\n",
      "\n",
      "From <http://scipy-lectures.github.io/intro/numpy/exercises.html#data-statistics>\n",
      "\n",
      "The data in [populations.txt](http://scipy-lectures.github.io/_downloads/populations.txt) describes the populations of hares and lynxes (and carrots) in northern Canada during 20 years:\n",
      "\n",
      "Computes and print, based on the data in populations.txt...\n",
      "\n",
      "- The mean and std of the populations of each species for the years in the period.\n",
      "- Which year each species had the largest population.\n",
      "- Which species has the largest population for each year. (Hint: argsort & fancy indexing of np.array(['H', 'L', 'C']))\n",
      "- Which years any of the populations is above 50000. (Hint: comparisons and np.any)\n",
      "- The top 2 years for each species when they had the lowest populations. (Hint: argsort, fancy indexing)\n",
      "- Compare (plot) the change in hare population (see help(np.gradient)) and the number of lynxes - Check correlation (see help(np.corrcoef)).\n",
      "\n",
      "... all without for-loops."
     ]
    },
    {
     "cell_type": "code",
     "collapsed": false,
     "input": [
      "# download the data locally\n",
      "if not os.path.exists('populations.txt'):\n",
      "    ! wget http://scipy-lectures.github.io/_downloads/populations.txt"
     ],
     "language": "python",
     "metadata": {},
     "outputs": [],
     "prompt_number": 80
    },
    {
     "cell_type": "code",
     "collapsed": false,
     "input": [
      "# peek at the file to see its structure\n",
      "! head -n 6 populations.txt"
     ],
     "language": "python",
     "metadata": {},
     "outputs": [
      {
       "output_type": "stream",
       "stream": "stdout",
       "text": [
        "# year\thare\tlynx\tcarrot\r\n",
        "1900\t30e3\t4e3\t48300\r\n",
        "1901\t47.2e3\t6.1e3\t48200\r\n",
        "1902\t70.2e3\t9.8e3\t41500\r\n",
        "1903\t77.4e3\t35.2e3\t38200\r\n",
        "1904\t36.3e3\t59.4e3\t40600\r\n"
       ]
      }
     ],
     "prompt_number": 81
    },
    {
     "cell_type": "code",
     "collapsed": false,
     "input": [
      "# load data into a numpy array\n",
      "data = np.loadtxt('populations.txt').astype('int')\n",
      "data[:5, :]"
     ],
     "language": "python",
     "metadata": {},
     "outputs": [
      {
       "metadata": {},
       "output_type": "pyout",
       "prompt_number": 82,
       "text": [
        "array([[ 1900, 30000,  4000, 48300],\n",
        "       [ 1901, 47200,  6100, 48200],\n",
        "       [ 1902, 70200,  9800, 41500],\n",
        "       [ 1903, 77400, 35200, 38200],\n",
        "       [ 1904, 36300, 59400, 40600]])"
       ]
      }
     ],
     "prompt_number": 82
    },
    {
     "cell_type": "code",
     "collapsed": false,
     "input": [
      "# provide convenient named variables\n",
      "populations = data[:, 1:]\n",
      "year, hare, lynx, carrot = data.T"
     ],
     "language": "python",
     "metadata": {},
     "outputs": [],
     "prompt_number": 83
    },
    {
     "cell_type": "code",
     "collapsed": false,
     "input": [
      "# The mean and std of the populations of each species for the years in the period\n",
      "print \"Mean (hare, lynx, carrot):\", populations.mean(axis=0)\n",
      "print \"Std (hare, lynx, carrot):\", populations.std(axis=0)"
     ],
     "language": "python",
     "metadata": {},
     "outputs": [
      {
       "output_type": "stream",
       "stream": "stdout",
       "text": [
        "Mean (hare, lynx, carrot): [ 34080.9524  20166.6667  42400.    ]\n",
        "Std (hare, lynx, carrot): [ 20897.9065  16254.5915   3322.5062]\n"
       ]
      }
     ],
     "prompt_number": 84
    },
    {
     "cell_type": "code",
     "collapsed": false,
     "input": [
      "# Which year each species had the largest population.\n",
      "print \"Year with largest population (hare, lynx, carrot)\", \n",
      "print year[np.argmax(populations, axis=0)]"
     ],
     "language": "python",
     "metadata": {},
     "outputs": [
      {
       "output_type": "stream",
       "stream": "stdout",
       "text": [
        "Year with largest population (hare, lynx, carrot) [1903 1904 1900]\n"
       ]
      }
     ],
     "prompt_number": 85
    },
    {
     "cell_type": "code",
     "collapsed": false,
     "input": [
      "# Which species has the largest population for each year.\n",
      "species = ['hare', 'lynx', 'carrot']\n",
      "zip(year, np.take(species, np.argmax(populations, axis=1)))"
     ],
     "language": "python",
     "metadata": {},
     "outputs": [
      {
       "metadata": {},
       "output_type": "pyout",
       "prompt_number": 86,
       "text": [
        "[(1900, 'carrot'),\n",
        " (1901, 'carrot'),\n",
        " (1902, 'hare'),\n",
        " (1903, 'hare'),\n",
        " (1904, 'lynx'),\n",
        " (1905, 'lynx'),\n",
        " (1906, 'carrot'),\n",
        " (1907, 'carrot'),\n",
        " (1908, 'carrot'),\n",
        " (1909, 'carrot'),\n",
        " (1910, 'carrot'),\n",
        " (1911, 'carrot'),\n",
        " (1912, 'hare'),\n",
        " (1913, 'hare'),\n",
        " (1914, 'hare'),\n",
        " (1915, 'lynx'),\n",
        " (1916, 'carrot'),\n",
        " (1917, 'carrot'),\n",
        " (1918, 'carrot'),\n",
        " (1919, 'carrot'),\n",
        " (1920, 'carrot')]"
       ]
      }
     ],
     "prompt_number": 86
    },
    {
     "cell_type": "code",
     "collapsed": false,
     "input": [
      "# Which years any of the populations is above 50000\n",
      "print year[np.any(populations > 50000, axis=1)]"
     ],
     "language": "python",
     "metadata": {},
     "outputs": [
      {
       "output_type": "stream",
       "stream": "stdout",
       "text": [
        "[1902 1903 1904 1912 1913 1914 1915]\n"
       ]
      }
     ],
     "prompt_number": 87
    },
    {
     "cell_type": "code",
     "collapsed": false,
     "input": [
      "# The top 2 years for each species when they had the lowest populations.\n",
      "print year[np.argsort(populations, axis=0)[:2]]"
     ],
     "language": "python",
     "metadata": {},
     "outputs": [
      {
       "output_type": "stream",
       "stream": "stdout",
       "text": [
        "[[1917 1900 1916]\n",
        " [1916 1901 1903]]\n"
       ]
      }
     ],
     "prompt_number": 88
    },
    {
     "cell_type": "code",
     "collapsed": false,
     "input": [
      "plt.plot(year, lynx, 'r-', year, np.gradient(hare), 'b--')\n",
      "plt.legend(['lynx', 'grad(hare)'], loc='best')\n",
      "print np.corrcoef(lynx, np.gradient(hare))"
     ],
     "language": "python",
     "metadata": {},
     "outputs": [
      {
       "output_type": "stream",
       "stream": "stdout",
       "text": [
        "[[ 1.     -0.9179]\n",
        " [-0.9179  1.    ]]\n"
       ]
      },
      {
       "metadata": {},
       "output_type": "display_data",
       "png": "[encoded data removed]",
       "text": [
        "<matplotlib.figure.Figure at 0x114f8aed0>"
       ]
      }
     ],
     "prompt_number": 89
    },
    {
     "cell_type": "markdown",
     "metadata": {},
     "source": [
      "Numerical computing in Python \n",
      "===="
     ]
    },
    {
     "cell_type": "code",
     "collapsed": false,
     "input": [
      "import numpy.random as npr\n",
      "import scipy.linalg as la"
     ],
     "language": "python",
     "metadata": {},
     "outputs": [],
     "prompt_number": 90
    },
    {
     "cell_type": "markdown",
     "metadata": {},
     "source": [
      "### NDArray\n",
      "\n",
      "The base structure in `numpy` is `ndarray`, used to represent vectors, matrices and higher-dimensional arrays. Each `ndarray` has the following attributes:\n",
      "\n",
      "- dtype = correspond to data types in C\n",
      "- shape = dimensionns of array\n",
      "- strides = number of bytes to step in each direction when traversing the array"
     ]
    },
    {
     "cell_type": "code",
     "collapsed": false,
     "input": [
      "x = np.array([1,2,3,4,5,6])\n",
      "print x\n",
      "print 'dytpe', x.dtype\n",
      "print 'shape', x.shape\n",
      "print 'strides', x.strides"
     ],
     "language": "python",
     "metadata": {},
     "outputs": [
      {
       "output_type": "stream",
       "stream": "stdout",
       "text": [
        "[1 2 3 4 5 6]\n",
        "dytpe int64\n",
        "shape (6,)\n",
        "strides (8,)\n"
       ]
      }
     ],
     "prompt_number": 91
    },
    {
     "cell_type": "code",
     "collapsed": false,
     "input": [
      "x.shape = (2,3)\n",
      "print x\n",
      "print 'dytpe', x.dtype\n",
      "print 'shape', x.shape\n",
      "print 'strides', x.strides"
     ],
     "language": "python",
     "metadata": {},
     "outputs": [
      {
       "output_type": "stream",
       "stream": "stdout",
       "text": [
        "[[1 2 3]\n",
        " [4 5 6]]\n",
        "dytpe int64\n",
        "shape (2, 3)\n",
        "strides (24, 8)\n"
       ]
      }
     ],
     "prompt_number": 92
    },
    {
     "cell_type": "code",
     "collapsed": false,
     "input": [
      "x = x.astype('complex')\n",
      "print x\n",
      "print 'dytpe', x.dtype\n",
      "print 'shape', x.shape\n",
      "print 'strides', x.strides"
     ],
     "language": "python",
     "metadata": {},
     "outputs": [
      {
       "output_type": "stream",
       "stream": "stdout",
       "text": [
        "[[ 1.+0.j  2.+0.j  3.+0.j]\n",
        " [ 4.+0.j  5.+0.j  6.+0.j]]\n",
        "dytpe complex128\n",
        "shape (2, 3)\n",
        "strides (48, 16)\n"
       ]
      }
     ],
     "prompt_number": 93
    },
    {
     "cell_type": "markdown",
     "metadata": {},
     "source": [
      "### Creating arrays"
     ]
    },
    {
     "cell_type": "code",
     "collapsed": false,
     "input": [
      "# from lists\n",
      "x_list = [(i,j) for i in range(2) for j in range(3)]\n",
      "print x_list, '\\n'\n",
      "x_array = np.array(x_list)\n",
      "print x_array"
     ],
     "language": "python",
     "metadata": {},
     "outputs": [
      {
       "output_type": "stream",
       "stream": "stdout",
       "text": [
        "[(0, 0), (0, 1), (0, 2), (1, 0), (1, 1), (1, 2)] \n",
        "\n",
        "[[0 0]\n",
        " [0 1]\n",
        " [0 2]\n",
        " [1 0]\n",
        " [1 1]\n",
        " [1 2]]\n"
       ]
      }
     ],
     "prompt_number": 94
    },
    {
     "cell_type": "code",
     "collapsed": false,
     "input": [
      "# Using convenience functions\n",
      "\n",
      "print np.ones((3,2)), '\\n'\n",
      "print np.zeros((3,2)), '\\n'\n",
      "print np.eye(3), '\\n'\n",
      "print np.diag([1,2,3]), '\\n'\n",
      "print np.fromfunction(lambda i, j: (i-2)**2+(j-2)**2, (5,5))"
     ],
     "language": "python",
     "metadata": {},
     "outputs": [
      {
       "output_type": "stream",
       "stream": "stdout",
       "text": [
        "[[ 1.  1.]\n",
        " [ 1.  1.]\n",
        " [ 1.  1.]] \n",
        "\n",
        "[[ 0.  0.]\n",
        " [ 0.  0.]\n",
        " [ 0.  0.]] \n",
        "\n",
        "[[ 1.  0.  0.]\n",
        " [ 0.  1.  0.]\n",
        " [ 0.  0.  1.]] \n",
        "\n",
        "[[1 0 0]\n",
        " [0 2 0]\n",
        " [0 0 3]] \n",
        "\n",
        "[[ 8.  5.  4.  5.  8.]\n",
        " [ 5.  2.  1.  2.  5.]\n",
        " [ 4.  1.  0.  1.  4.]\n",
        " [ 5.  2.  1.  2.  5.]\n",
        " [ 8.  5.  4.  5.  8.]]\n"
       ]
      }
     ],
     "prompt_number": 95
    },
    {
     "cell_type": "markdown",
     "metadata": {},
     "source": [
      "### Array indexing"
     ]
    },
    {
     "cell_type": "code",
     "collapsed": false,
     "input": [
      "# Create a 10 by 6 array from normal deviates and convert to ints\n",
      "n, nrows, ncols = 100, 10, 6\n",
      "xs = np.random.normal(n, 15, size=(nrows, ncols)).astype('int')\n",
      "xs"
     ],
     "language": "python",
     "metadata": {},
     "outputs": [
      {
       "metadata": {},
       "output_type": "pyout",
       "prompt_number": 96,
       "text": [
        "array([[113,  69, 105, 120, 114, 101],\n",
        "       [109,  84,  95,  92, 103,  62],\n",
        "       [106,  92,  78, 105,  85,  90],\n",
        "       [120, 108,  97,  93,  76,  97],\n",
        "       [105,  64,  81,  92, 121, 118],\n",
        "       [ 66, 118,  99,  84, 107,  85],\n",
        "       [102,  87, 135,  90, 104, 139],\n",
        "       [130,  84, 112, 114,  84,  94],\n",
        "       [ 95, 108,  85,  67, 105, 102],\n",
        "       [113,  92,  84,  84,  85, 110]])"
       ]
      }
     ],
     "prompt_number": 96
    },
    {
     "cell_type": "code",
     "collapsed": false,
     "input": [
      "# Use slice notation\n",
      "print(xs[0,0])\n",
      "print(xs[-1,-1])\n",
      "print(xs[3,:])\n",
      "print(xs[:,0])\n",
      "print(xs[::2,::2])\n",
      "print(xs[2:5,2:5])"
     ],
     "language": "python",
     "metadata": {},
     "outputs": [
      {
       "output_type": "stream",
       "stream": "stdout",
       "text": [
        "113\n",
        "110\n",
        "[120 108  97  93  76  97]\n",
        "[113 109 106 120 105  66 102 130  95 113]\n",
        "[[113 105 114]\n",
        " [106  78  85]\n",
        " [105  81 121]\n",
        " [102 135 104]\n",
        " [ 95  85 105]]\n",
        "[[ 78 105  85]\n",
        " [ 97  93  76]\n",
        " [ 81  92 121]]\n"
       ]
      }
     ],
     "prompt_number": 97
    },
    {
     "cell_type": "code",
     "collapsed": false,
     "input": [
      "#  Indexing with list of integers\n",
      "print(xs[0, [1,2,4,5]])"
     ],
     "language": "python",
     "metadata": {},
     "outputs": [
      {
       "output_type": "stream",
       "stream": "stdout",
       "text": [
        "[ 69 105 114 101]\n"
       ]
      }
     ],
     "prompt_number": 98
    },
    {
     "cell_type": "code",
     "collapsed": false,
     "input": [
      "# Boolean indexing\n",
      "print(xs[xs % 2 == 0])\n",
      "xs[xs % 2 == 0] = 0 # set even entries to zero\n",
      "print(xs)"
     ],
     "language": "python",
     "metadata": {},
     "outputs": [
      {
       "output_type": "stream",
       "stream": "stdout",
       "text": [
        "[120 114  84  92  62 106  92  78  90 120 108  76  64  92 118  66 118  84\n",
        " 102  90 104 130  84 112 114  84  94 108 102  92  84  84 110]\n",
        "[[113  69 105   0   0 101]\n",
        " [109   0  95   0 103   0]\n",
        " [  0   0   0 105  85   0]\n",
        " [  0   0  97  93   0  97]\n",
        " [105   0  81   0 121   0]\n",
        " [  0   0  99   0 107  85]\n",
        " [  0  87 135   0   0 139]\n",
        " [  0   0   0   0   0   0]\n",
        " [ 95   0  85  67 105   0]\n",
        " [113   0   0   0  85   0]]\n"
       ]
      }
     ],
     "prompt_number": 99
    },
    {
     "cell_type": "code",
     "collapsed": false,
     "input": [
      "np.tril_indices?"
     ],
     "language": "python",
     "metadata": {},
     "outputs": [],
     "prompt_number": 100
    },
    {
     "cell_type": "code",
     "collapsed": false,
     "input": [
      "# Extracting lower triangular, diagonal and upper triangular matrices\n",
      "\n",
      "a = np.arange(16).reshape(4,4)\n",
      "print a, '\\n'\n",
      "print np.tril(a, -1), '\\n'\n",
      "print np.diag(np.diag(a)), '\\n'\n",
      "print np.triu(a, 1)"
     ],
     "language": "python",
     "metadata": {},
     "outputs": [
      {
       "output_type": "stream",
       "stream": "stdout",
       "text": [
        "[[ 0  1  2  3]\n",
        " [ 4  5  6  7]\n",
        " [ 8  9 10 11]\n",
        " [12 13 14 15]] \n",
        "\n",
        "[[ 0  0  0  0]\n",
        " [ 4  0  0  0]\n",
        " [ 8  9  0  0]\n",
        " [12 13 14  0]] \n",
        "\n",
        "[[ 0  0  0  0]\n",
        " [ 0  5  0  0]\n",
        " [ 0  0 10  0]\n",
        " [ 0  0  0 15]] \n",
        "\n",
        "[[ 0  1  2  3]\n",
        " [ 0  0  6  7]\n",
        " [ 0  0  0 11]\n",
        " [ 0  0  0  0]]\n"
       ]
      }
     ],
     "prompt_number": 101
    },
    {
     "cell_type": "markdown",
     "metadata": {},
     "source": [
      "### Broadcasting, row, column and matrix operations"
     ]
    },
    {
     "cell_type": "code",
     "collapsed": false,
     "input": [
      "# operations across rows, cols or entire matrix\n",
      "print(xs.max())\n",
      "print(xs.max(axis=0)) # max of each col\n",
      "print(xs.max(axis=1)) # max of each row"
     ],
     "language": "python",
     "metadata": {},
     "outputs": [
      {
       "output_type": "stream",
       "stream": "stdout",
       "text": [
        "139\n",
        "[113  87 135 105 121 139]\n",
        "[113 109 105  97 121 107 139   0 105 113]\n"
       ]
      }
     ],
     "prompt_number": 102
    },
    {
     "cell_type": "code",
     "collapsed": false,
     "input": [
      "# A funcitonal rather than object-oriented approacha also wokrs\n",
      "print(np.max(xs, axis=0))\n",
      "print(np.max(xs, axis=1))"
     ],
     "language": "python",
     "metadata": {},
     "outputs": [
      {
       "output_type": "stream",
       "stream": "stdout",
       "text": [
        "[113  87 135 105 121 139]\n",
        "[113 109 105  97 121 107 139   0 105 113]\n"
       ]
      }
     ],
     "prompt_number": 103
    },
    {
     "cell_type": "code",
     "collapsed": false,
     "input": [
      "# broadcasting\n",
      "xs = np.arange(12).reshape(2,6)\n",
      "print(xs, '\\n')\n",
      "print(xs * 10, '\\n')\n",
      "\n",
      "# broadcasting just works when doing column-wise operations\n",
      "col_means = xs.mean(axis=0)\n",
      "print(col_means, '\\n')\n",
      "print(xs + col_means, '\\n')\n",
      "\n",
      "# but needs a little more work for row-wise operations\n",
      "row_means = xs.mean(axis=1)[:, np.newaxis]\n",
      "print(row_means)\n",
      "print(xs + row_means)"
     ],
     "language": "python",
     "metadata": {},
     "outputs": [
      {
       "output_type": "stream",
       "stream": "stdout",
       "text": [
        "(array([[ 0,  1,  2,  3,  4,  5],\n",
        "       [ 6,  7,  8,  9, 10, 11]]), '\\n')\n",
        "(array([[  0,  10,  20,  30,  40,  50],\n",
        "       [ 60,  70,  80,  90, 100, 110]]), '\\n')\n",
        "(array([ 3.,  4.,  5.,  6.,  7.,  8.]), '\\n')\n",
        "(array([[  3.,   5.,   7.,   9.,  11.,  13.],\n",
        "       [  9.,  11.,  13.,  15.,  17.,  19.]]), '\\n')\n",
        "[[ 2.5]\n",
        " [ 8.5]]\n",
        "[[  2.5   3.5   4.5   5.5   6.5   7.5]\n",
        " [ 14.5  15.5  16.5  17.5  18.5  19.5]]\n"
       ]
      }
     ],
     "prompt_number": 104
    },
    {
     "cell_type": "code",
     "collapsed": false,
     "input": [
      "# convert matrix to have zero mean and unit standard deviation using col summary statistics\n",
      "print((xs - xs.mean(axis=0))/xs.std(axis=0))"
     ],
     "language": "python",
     "metadata": {},
     "outputs": [
      {
       "output_type": "stream",
       "stream": "stdout",
       "text": [
        "[[-1. -1. -1. -1. -1. -1.]\n",
        " [ 1.  1.  1.  1.  1.  1.]]\n"
       ]
      }
     ],
     "prompt_number": 105
    },
    {
     "cell_type": "code",
     "collapsed": false,
     "input": [
      "# convert matrix to have zero mean and unit standard deviation using row summary statistics\n",
      "print((xs - xs.mean(axis=1)[:, np.newaxis])/xs.std(axis=1)[:, np.newaxis])"
     ],
     "language": "python",
     "metadata": {},
     "outputs": [
      {
       "output_type": "stream",
       "stream": "stdout",
       "text": [
        "[[-1.4639 -0.8783 -0.2928  0.2928  0.8783  1.4639]\n",
        " [-1.4639 -0.8783 -0.2928  0.2928  0.8783  1.4639]]\n"
       ]
      }
     ],
     "prompt_number": 106
    },
    {
     "cell_type": "code",
     "collapsed": false,
     "input": [
      "# broadcasting for outer product\n",
      "# e.g. create the 12x12 multiplication toable\n",
      "u = np.arange(1, 13)\n",
      "u[:,None] * u[None,:]"
     ],
     "language": "python",
     "metadata": {},
     "outputs": [
      {
       "metadata": {},
       "output_type": "pyout",
       "prompt_number": 107,
       "text": [
        "array([[  1,   2,   3,   4,   5,   6,   7,   8,   9,  10,  11,  12],\n",
        "       [  2,   4,   6,   8,  10,  12,  14,  16,  18,  20,  22,  24],\n",
        "       [  3,   6,   9,  12,  15,  18,  21,  24,  27,  30,  33,  36],\n",
        "       [  4,   8,  12,  16,  20,  24,  28,  32,  36,  40,  44,  48],\n",
        "       [  5,  10,  15,  20,  25,  30,  35,  40,  45,  50,  55,  60],\n",
        "       [  6,  12,  18,  24,  30,  36,  42,  48,  54,  60,  66,  72],\n",
        "       [  7,  14,  21,  28,  35,  42,  49,  56,  63,  70,  77,  84],\n",
        "       [  8,  16,  24,  32,  40,  48,  56,  64,  72,  80,  88,  96],\n",
        "       [  9,  18,  27,  36,  45,  54,  63,  72,  81,  90,  99, 108],\n",
        "       [ 10,  20,  30,  40,  50,  60,  70,  80,  90, 100, 110, 120],\n",
        "       [ 11,  22,  33,  44,  55,  66,  77,  88,  99, 110, 121, 132],\n",
        "       [ 12,  24,  36,  48,  60,  72,  84,  96, 108, 120, 132, 144]])"
       ]
      }
     ],
     "prompt_number": 107
    },
    {
     "cell_type": "markdown",
     "metadata": {},
     "source": [
      "### Universal functions (Ufuncs)\n",
      "\n",
      "Functions that work on both scalars and arrays are known as ufuncs. For arrays, ufuncs apply the function in an element-wise fashion. Use of ufuncs is an esssential aspect of vectorization and typically much more computtionally efficient than using an explicit loop over each element."
     ]
    },
    {
     "cell_type": "code",
     "collapsed": false,
     "input": [
      "xs = np.linspace(0, 2*np.pi, 100)\n",
      "ys = np.sin(xs) # np.sin is a universal function\n",
      "plt.plot(xs, ys);"
     ],
     "language": "python",
     "metadata": {},
     "outputs": [
      {
       "metadata": {},
       "output_type": "display_data",
       "png": "[encoded data removed]",
       "text": [
        "<matplotlib.figure.Figure at 0x114675850>"
       ]
      }
     ],
     "prompt_number": 108
    },
    {
     "cell_type": "code",
     "collapsed": false,
     "input": [
      "# operators also perform elementwise operations by default\n",
      "\n",
      "xs = np.arange(10)\n",
      "print xs\n",
      "print -xs\n",
      "print xs+xs\n",
      "print xs*xs\n",
      "print xs**3\n",
      "print xs < 5"
     ],
     "language": "python",
     "metadata": {},
     "outputs": [
      {
       "output_type": "stream",
       "stream": "stdout",
       "text": [
        "[0 1 2 3 4 5 6 7 8 9]\n",
        "[ 0 -1 -2 -3 -4 -5 -6 -7 -8 -9]\n",
        "[ 0  2  4  6  8 10 12 14 16 18]\n",
        "[ 0  1  4  9 16 25 36 49 64 81]\n",
        "[  0   1   8  27  64 125 216 343 512 729]\n",
        "[ True  True  True  True  True False False False False False]\n"
       ]
      }
     ],
     "prompt_number": 109
    },
    {
     "cell_type": "markdown",
     "metadata": {},
     "source": [
      "### Generalized ufucns\n",
      "\n",
      "A universal function performs vectorized looping over scalars. A generalized ufucn performs looping over vectors or arrays. Currently, numpy only ships with a single generalized ufunc. However, they play an important role for JIT compilation with `numba`, a topic we will cover in future lectures."
     ]
    },
    {
     "cell_type": "code",
     "collapsed": false,
     "input": [
      "from numpy.core.umath_tests import matrix_multiply\n",
      "\n",
      "print matrix_multiply.signature"
     ],
     "language": "python",
     "metadata": {},
     "outputs": [
      {
       "output_type": "stream",
       "stream": "stdout",
       "text": [
        "(m,n),(n,p)->(m,p)\n"
       ]
      }
     ],
     "prompt_number": 110
    },
    {
     "cell_type": "code",
     "collapsed": false,
     "input": [
      "us = np.random.random((5, 2, 3)) # 5 2x3 matrics\n",
      "vs = np.random.random((5, 3, 4)) # 5 3x4 matrices\n",
      "# perform matrix multiplication for each of the 5 sets of matrices\n",
      "ws = matrix_multiply(us, vs) \n",
      "print ws.shape\n",
      "print ws"
     ],
     "language": "python",
     "metadata": {},
     "outputs": [
      {
       "output_type": "stream",
       "stream": "stdout",
       "text": [
        "(5, 2, 4)\n",
        "[[[ 0.665   1.0673  1.2181  0.6667]\n",
        "  [ 0.2426  1.1724  0.9609  0.7296]]\n",
        "\n",
        " [[ 1.0152  0.5529  0.1043  1.0575]\n",
        "  [ 0.286   0.1387  0.1095  0.2624]]\n",
        "\n",
        " [[ 1.7824  1.3432  1.3478  0.6171]\n",
        "  [ 1.6314  1.4266  1.2608  0.6831]]\n",
        "\n",
        " [[ 0.583   0.476   0.7884  0.7143]\n",
        "  [ 0.6048  0.3295  0.7017  0.9835]]\n",
        "\n",
        " [[ 0.4241  0.8622  0.3349  1.0402]\n",
        "  [ 0.3913  1.3869  0.5137  1.084 ]]]\n"
       ]
      }
     ],
     "prompt_number": 111
    },
    {
     "cell_type": "markdown",
     "metadata": {},
     "source": [
      "### Linear algebra\n",
      "\n",
      "In general, the linear algebra functions can be found in scipy.linalg. You can also get access to BLAS and LAPACK function via scipy.linagl.blas and scipy.linalg.lapack."
     ]
    },
    {
     "cell_type": "code",
     "collapsed": false,
     "input": [
      "A = np.array([[1,2],[3,4]])\n",
      "b = np.array([1,4])\n",
      "print(A)\n",
      "print(b)"
     ],
     "language": "python",
     "metadata": {},
     "outputs": [
      {
       "output_type": "stream",
       "stream": "stdout",
       "text": [
        "[[1 2]\n",
        " [3 4]]\n",
        "[1 4]\n"
       ]
      }
     ],
     "prompt_number": 112
    },
    {
     "cell_type": "code",
     "collapsed": false,
     "input": [
      "# Matrix operations\n",
      "import numpy as np\n",
      "import scipy.linalg as la\n",
      "from functools import reduce\n",
      "\n",
      "A = np.array([[1,2],[3,4]])\n",
      "print(np.dot(A, A))\n",
      "print(A)\n",
      "print(la.inv(A))\n",
      "print(A.T)"
     ],
     "language": "python",
     "metadata": {},
     "outputs": [
      {
       "output_type": "stream",
       "stream": "stdout",
       "text": [
        "[[ 7 10]\n",
        " [15 22]]\n",
        "[[1 2]\n",
        " [3 4]]\n",
        "[[-2.   1. ]\n",
        " [ 1.5 -0.5]]\n",
        "[[1 3]\n",
        " [2 4]]\n"
       ]
      }
     ],
     "prompt_number": 113
    },
    {
     "cell_type": "code",
     "collapsed": false,
     "input": [
      "x = la.solve(A, b) # do not use x = dot(inv(A), b) as it is inefficient and numerically unstable\n",
      "print(x)\n",
      "print(np.dot(A, x) - b)"
     ],
     "language": "python",
     "metadata": {},
     "outputs": [
      {
       "output_type": "stream",
       "stream": "stdout",
       "text": [
        "[ 2.  -0.5]\n",
        "[ 0.  0.]\n"
       ]
      }
     ],
     "prompt_number": 114
    },
    {
     "cell_type": "markdown",
     "metadata": {},
     "source": [
      "### Matrix decompositions"
     ]
    },
    {
     "cell_type": "code",
     "collapsed": false,
     "input": [
      "A = np.floor(npr.normal(100, 15, (6, 10)))\n",
      "print(A)"
     ],
     "language": "python",
     "metadata": {},
     "outputs": [
      {
       "output_type": "stream",
       "stream": "stdout",
       "text": [
        "[[ 126.   93.  103.  100.   84.   80.   96.  115.   96.   91.]\n",
        " [ 105.  103.   80.   71.  126.  104.   66.   93.   98.   84.]\n",
        " [ 129.   95.   86.  111.  112.  102.   94.   93.   92.   58.]\n",
        " [  69.  100.   88.   95.  118.  122.  107.   88.   64.  108.]\n",
        " [ 108.  107.   90.  111.   99.   81.   84.  112.   99.  106.]\n",
        " [  87.  104.  104.  103.   90.  123.  117.   97.   91.   90.]]\n"
       ]
      }
     ],
     "prompt_number": 161
    },
    {
     "cell_type": "code",
     "collapsed": false,
     "input": [
      "P, L, U = la.lu(A)\n",
      "print(np.dot(P.T, A))\n",
      "print\n",
      "print(np.dot(L, U))"
     ],
     "language": "python",
     "metadata": {},
     "outputs": [
      {
       "output_type": "stream",
       "stream": "stdout",
       "text": [
        "[[ 129.   95.   86.  111.  112.  102.   94.   93.   92.   58.]\n",
        " [  69.  100.   88.   95.  118.  122.  107.   88.   64.  108.]\n",
        " [ 126.   93.  103.  100.   84.   80.   96.  115.   96.   91.]\n",
        " [ 105.  103.   80.   71.  126.  104.   66.   93.   98.   84.]\n",
        " [ 108.  107.   90.  111.   99.   81.   84.  112.   99.  106.]\n",
        " [  87.  104.  104.  103.   90.  123.  117.   97.   91.   90.]]\n",
        "\n",
        "[[ 129.   95.   86.  111.  112.  102.   94.   93.   92.   58.]\n",
        " [  69.  100.   88.   95.  118.  122.  107.   88.   64.  108.]\n",
        " [ 126.   93.  103.  100.   84.   80.   96.  115.   96.   91.]\n",
        " [ 105.  103.   80.   71.  126.  104.   66.   93.   98.   84.]\n",
        " [ 108.  107.   90.  111.   99.   81.   84.  112.   99.  106.]\n",
        " [  87.  104.  104.  103.   90.  123.  117.   97.   91.   90.]]\n"
       ]
      }
     ],
     "prompt_number": 162
    },
    {
     "cell_type": "code",
     "collapsed": false,
     "input": [
      "Q, R = la.qr(A)\n",
      "print(A)\n",
      "print\n",
      "print(np.dot(Q, R))"
     ],
     "language": "python",
     "metadata": {},
     "outputs": [
      {
       "output_type": "stream",
       "stream": "stdout",
       "text": [
        "[[ 126.   93.  103.  100.   84.   80.   96.  115.   96.   91.]\n",
        " [ 105.  103.   80.   71.  126.  104.   66.   93.   98.   84.]\n",
        " [ 129.   95.   86.  111.  112.  102.   94.   93.   92.   58.]\n",
        " [  69.  100.   88.   95.  118.  122.  107.   88.   64.  108.]\n",
        " [ 108.  107.   90.  111.   99.   81.   84.  112.   99.  106.]\n",
        " [  87.  104.  104.  103.   90.  123.  117.   97.   91.   90.]]\n",
        "\n",
        "[[ 126.   93.  103.  100.   84.   80.   96.  115.   96.   91.]\n",
        " [ 105.  103.   80.   71.  126.  104.   66.   93.   98.   84.]\n",
        " [ 129.   95.   86.  111.  112.  102.   94.   93.   92.   58.]\n",
        " [  69.  100.   88.   95.  118.  122.  107.   88.   64.  108.]\n",
        " [ 108.  107.   90.  111.   99.   81.   84.  112.   99.  106.]\n",
        " [  87.  104.  104.  103.   90.  123.  117.   97.   91.   90.]]\n"
       ]
      }
     ],
     "prompt_number": 163
    },
    {
     "cell_type": "code",
     "collapsed": false,
     "input": [
      "U, s, V = la.svd(A)\n",
      "m, n = A.shape\n",
      "S =  np.zeros((m, n))\n",
      "for i, _s in enumerate(s):\n",
      "    S[i,i] = _s\n",
      "print(reduce(np.dot, [U, S, V]))"
     ],
     "language": "python",
     "metadata": {},
     "outputs": [
      {
       "output_type": "stream",
       "stream": "stdout",
       "text": [
        "[[  85.   73.  113.   99.   96.  100.  112.  116.  129.  110.]\n",
        " [ 135.  100.   72.   95.  112.   83.  103.  102.  102.   97.]\n",
        " [  82.   94.  100.   81.  110.  116.  104.  112.   97.  103.]\n",
        " [  97.  108.  132.  111.  100.  101.  119.   94.   92.  110.]\n",
        " [ 110.   86.  110.  126.   99.   88.  108.  105.  131.   98.]\n",
        " [ 103.   87.   99.   86.  123.  107.  112.   81.   91.  103.]]\n"
       ]
      }
     ],
     "prompt_number": 118
    },
    {
     "cell_type": "code",
     "collapsed": false,
     "input": [
      "B = np.cov(A)\n",
      "print(B)"
     ],
     "language": "python",
     "metadata": {},
     "outputs": [
      {
       "output_type": "stream",
       "stream": "stdout",
       "text": [
        "[[ 189.1556  -41.7778   88.8    -196.8444   79.3556  -70.1556]\n",
        " [ -41.7778  326.8889  128.4444   32.1111   20.5556  -80.5556]\n",
        " [  88.8     128.4444  351.7333  -71.8667   18.6222   -7.3556]\n",
        " [-196.8444   32.1111  -71.8667  369.2111  -89.2556  121.0667]\n",
        " [  79.3556   20.5556   18.6222  -89.2556  125.7889  -96.3556]\n",
        " [ -70.1556  -80.5556   -7.3556  121.0667  -96.3556  146.0444]]\n"
       ]
      }
     ],
     "prompt_number": 164
    },
    {
     "cell_type": "code",
     "collapsed": false,
     "input": [
      "u, V = la.eig(B)\n",
      "print(np.dot(B, V))\n",
      "print\n",
      "print(np.real(np.dot(V, np.diag(u))))"
     ],
     "language": "python",
     "metadata": {},
     "outputs": [
      {
       "output_type": "stream",
       "stream": "stdout",
       "text": [
        "[[ 290.6426  -87.6228  -38.6097  -26.0345   32.4978   -1.4121]\n",
        " [  85.7732  331.097   122.9447   27.9599   11.4891    5.5811]\n",
        " [ 254.0076  246.2989 -167.5386  -16.8982  -10.8303   -3.226 ]\n",
        " [-421.8735  148.1165  -12.0764  -60.8179   10.0067   -4.868 ]\n",
        " [ 169.6832  -25.316    74.1524  -70.0484  -11.0896   13.3716]\n",
        " [-197.8549   -6.5098 -129.1614   21.7868    7.9677   18.051 ]]\n",
        "\n",
        "[[ 290.6426  -87.6228  -38.6097  -26.0345   32.4978   -1.4121]\n",
        " [  85.7732  331.097   122.9447   27.9599   11.4891    5.5811]\n",
        " [ 254.0076  246.2989 -167.5386  -16.8982  -10.8303   -3.226 ]\n",
        " [-421.8735  148.1165  -12.0764  -60.8179   10.0067   -4.868 ]\n",
        " [ 169.6832  -25.316    74.1524  -70.0484  -11.0896   13.3716]\n",
        " [-197.8549   -6.5098 -129.1614   21.7868    7.9677   18.051 ]]\n"
       ]
      }
     ],
     "prompt_number": 165
    },
    {
     "cell_type": "code",
     "collapsed": false,
     "input": [
      "C = la.cholesky(B)\n",
      "print(np.dot(C.T, C))\n",
      "print\n",
      "print(B)"
     ],
     "language": "python",
     "metadata": {},
     "outputs": [
      {
       "output_type": "stream",
       "stream": "stdout",
       "text": [
        "[[ 263.5667  -93.2556   66.3667    2.5333  132.1889  -16.6222]\n",
        " [ -93.2556  276.9889  -73.9889 -120.0444   25.3222   36.8667]\n",
        " [  66.3667  -73.9889  139.4333  -13.6222  -88.1      54.1333]\n",
        " [   2.5333 -120.0444  -13.6222  152.2667   -9.3778   22.5778]\n",
        " [ 132.1889   25.3222  -88.1      -9.3778  210.9889  -56.0222]\n",
        " [ -16.6222   36.8667   54.1333   22.5778  -56.0222  171.2889]]\n",
        "\n",
        "[[ 263.5667  -93.2556   66.3667    2.5333  132.1889  -16.6222]\n",
        " [ -93.2556  276.9889  -73.9889 -120.0444   25.3222   36.8667]\n",
        " [  66.3667  -73.9889  139.4333  -13.6222  -88.1      54.1333]\n",
        " [   2.5333 -120.0444  -13.6222  152.2667   -9.3778   22.5778]\n",
        " [ 132.1889   25.3222  -88.1      -9.3778  210.9889  -56.0222]\n",
        " [ -16.6222   36.8667   54.1333   22.5778  -56.0222  171.2889]]\n"
       ]
      }
     ],
     "prompt_number": 141
    },
    {
     "cell_type": "markdown",
     "metadata": {},
     "source": [
      "### Finding the covariance matrix"
     ]
    },
    {
     "cell_type": "code",
     "collapsed": false,
     "input": [
      "np.random.seed(123)\n",
      "x = np.random.multivariate_normal([10,10], np.array([[3,1],[1,5]]), 10)\n",
      "# create a zero mean array\n",
      "u = x - x.mean(0)\n",
      "cov = np.dot(u.T, u)/(10-1)\n",
      "print cov, '\\n'\n",
      "print np.cov(x.T)"
     ],
     "language": "python",
     "metadata": {},
     "outputs": [
      {
       "output_type": "stream",
       "stream": "stdout",
       "text": [
        "[[ 5.1286  3.0701]\n",
        " [ 3.0701  9.0755]] \n",
        "\n",
        "[[ 5.1286  3.0701]\n",
        " [ 3.0701  9.0755]]\n"
       ]
      }
     ],
     "prompt_number": 122
    },
    {
     "cell_type": "markdown",
     "metadata": {},
     "source": [
      "### Least squares solution"
     ]
    },
    {
     "cell_type": "markdown",
     "metadata": {},
     "source": [
      "Suppose we want to solve a system of noisy linear equations\n",
      "\n",
      "$$\n",
      "y_1 = b_0 x_1 + b_1 \\\\\n",
      "y_2 = b_0 x_2 + b_1 \\\\\n",
      "y_3 = b_0 x_2 + b_1 \\\\\n",
      "y_4 = b_0 x_4 + b_1 \\\\\n",
      "$$\n",
      "\n",
      "Since the system is noisy (implies full rank) and overdetermined, we cannot find an exact solution. Instead, we will look for the least squares solution. First we can rewrrite in matrix notation $Y = AB$, treating $b_1$ as the coefficient of $x^0 = 1$:\n",
      "\n",
      "$$\n",
      "\\left(\n",
      "\\begin{array}{c}\n",
      "y_1 \\\\\n",
      "y_2 \\\\\n",
      "y_3 \\\\\n",
      "y_4 \n",
      "\\end{array} \n",
      "\\right) = \\left( \\begin{array}{cc}\n",
      "x_1 & 1 \\\\\n",
      "x_2 & 1 \\\\\n",
      "x_3 & 1 \\\\\n",
      "x_4 & 1 \\end{array} \\right)\n",
      "\\left( \n",
      "\\begin{array}{cc}\n",
      "b_0 & b_1 \n",
      "\\end{array}\n",
      "\\right)\n",
      "$$\n",
      "\n",
      "The solution of this (i.e. the $B$ matrix) is solved by multipling the psudoinverse of $A$ (the Vandermonde matrix) with $Y$\n",
      "\n",
      "$$\n",
      "(A^\\text{T}A)^{-1}A^\\text{T} Y\n",
      "$$\n",
      "\n",
      "Note that higher order polynomials have the same structure and can be solved in the same way\n",
      "\n",
      "$$\n",
      "\\left(\n",
      "\\begin{array}{c}\n",
      "y_1 \\\\\n",
      "y_2 \\\\\n",
      "y_3 \\\\\n",
      "y_4 \n",
      "\\end{array} \n",
      "\\right) = \\left( \\begin{array}{ccc}\n",
      "x_1^2 & x_1 & 1 \\\\\n",
      "x_2^2 & x_2 & 1 \\\\\n",
      "x_3^2 & x_3 & 1 \\\\\n",
      "x_4^2 & x_4 & 1 \\end{array} \\right)\n",
      "\\left( \n",
      "\\begin{array}{ccc}\n",
      "b_0 & b_1 & b_2\n",
      "\\end{array}\n",
      "\\right)\n",
      "$$"
     ]
    },
    {
     "cell_type": "code",
     "collapsed": false,
     "input": [
      "# Set up a system of 11 linear equations\n",
      "x = np.linspace(1,2,11)\n",
      "y = 6*x - 2 + npr.normal(0, 0.3, len(x))\n",
      "\n",
      "# Form the VanderMonde matrix\n",
      "A = np.vstack([x, np.ones(len(x))]).T\n",
      "\n",
      "# The linear algebra librayr has a lstsq() function \n",
      "# that will do the above calculaitons for us\n",
      "\n",
      "b, resids, rank, sv = la.lstsq(A, y)\n",
      "\n",
      "# Check against pseudoinverse and the normal equation\n",
      "print(\"lstsq solution\".ljust(30), b)\n",
      "print(\"pseudoinverse solution\".ljust(30), np.dot(la.pinv(A), y))\n",
      "print(\"normal euqation solution\".ljust(30), np.dot(np.dot(la.inv(np.dot(A.T, A)), A.T), y))\n",
      "\n",
      "# Now plot the solution\n",
      "xi = np.linspace(1,2,11)\n",
      "yi = b[0]*xi + b[1]\n",
      "\n",
      "plt.plot(x, y, 'o')\n",
      "plt.plot(xi, yi, 'r-');"
     ],
     "language": "python",
     "metadata": {},
     "outputs": [
      {
       "output_type": "stream",
       "stream": "stdout",
       "text": [
        "('lstsq solution                ', array([ 5.5899, -1.4177]))\n",
        "('pseudoinverse solution        ', array([ 5.5899, -1.4177]))\n",
        "('normal euqation solution      ', array([ 5.5899, -1.4177]))\n"
       ]
      },
      {
       "metadata": {},
       "output_type": "display_data",
       "png": "[encoded data removed]",
       "text": [
        "<matplotlib.figure.Figure at 0x1143ec0d0>"
       ]
      }
     ],
     "prompt_number": 123
    },
    {
     "cell_type": "code",
     "collapsed": false,
     "input": [
      "# As advertised, this works for finding coeefficeints of a polynomial too\n",
      "\n",
      "x = np.linspace(0,2,11)\n",
      "y = 6*x*x + .5*x + 2 + npr.normal(0, 0.6, len(x))\n",
      "plt.plot(x, y, 'o')\n",
      "A = np.vstack([x*x, x, np.ones(len(x))]).T\n",
      "b = la.lstsq(A, y)[0]\n",
      "\n",
      "xi = np.linspace(0,2,11)\n",
      "yi = b[0]*xi*xi + b[1]*xi + b[2]\n",
      "plt.plot(xi, yi, 'r-');"
     ],
     "language": "python",
     "metadata": {},
     "outputs": [
      {
       "metadata": {},
       "output_type": "display_data",
       "png": "[encoded data removed]",
       "text": [
        "<matplotlib.figure.Figure at 0x1143dfed0>"
       ]
      }
     ],
     "prompt_number": 124
    },
    {
     "cell_type": "code",
     "collapsed": false,
     "input": [
      "# It is important to understand what is going on,\n",
      "# but we don't have to work so hard to fit a polynomial\n",
      "\n",
      "b = np.random.randint(0, 10, 6)\n",
      "x = np.linspace(0, 1, 25)\n",
      "y = np.poly1d(b)(x) \n",
      "y += np.random.normal(0, 5, y.shape)\n",
      "\n",
      "p = np.poly1d(np.polyfit(x, y, len(b)-1))\n",
      "plt.plot(x, y, 'bo')\n",
      "plt.plot(x, p(x), 'r-')\n",
      "list(zip(b, p.coeffs))"
     ],
     "language": "python",
     "metadata": {},
     "outputs": [
      {
       "metadata": {},
       "output_type": "pyout",
       "prompt_number": 125,
       "text": [
        "[(6, -250.9964),\n",
        " (7, 819.7606),\n",
        " (1, -909.5724),\n",
        " (5, 449.7862),\n",
        " (7, -91.2660),\n",
        " (9, 15.5274)]"
       ]
      },
      {
       "metadata": {},
       "output_type": "display_data",
       "png": "[encoded data removed]",
       "text": [
        "<matplotlib.figure.Figure at 0x114717090>"
       ]
      }
     ],
     "prompt_number": 125
    },
    {
     "cell_type": "markdown",
     "metadata": {},
     "source": [
      "<font color=red>Exercises</font>\n",
      "----"
     ]
    },
    {
     "cell_type": "markdown",
     "metadata": {},
     "source": [
      "**1**. Find the row, column and overall means for the following matrix:\n",
      "\n",
      "```python\n",
      "m = np.arange(12).reshape((3,4))\n",
      "```"
     ]
    },
    {
     "cell_type": "code",
     "collapsed": false,
     "input": [
      "# YOUR CODE HERE\n",
      "\n",
      "\n"
     ],
     "language": "python",
     "metadata": {},
     "outputs": [],
     "prompt_number": 126
    },
    {
     "cell_type": "markdown",
     "metadata": {},
     "source": [
      "**2**. Find the outer product of the following two vecotrs\n",
      "\n",
      "```python\n",
      "u = np.array([1,3,5,7])\n",
      "v = np.array([2,4,6,8])\n",
      "```\n",
      "\n",
      "Do this in the following ways:\n",
      "\n",
      "- Using the function `outer` in numpy\n",
      "- Using a nested for loop or list comprehension\n",
      "- Using numpy broadcasting operatoins"
     ]
    },
    {
     "cell_type": "code",
     "collapsed": false,
     "input": [
      "# YOUR CODE HERE\n",
      "\n",
      "\n"
     ],
     "language": "python",
     "metadata": {},
     "outputs": [],
     "prompt_number": 127
    },
    {
     "cell_type": "markdown",
     "metadata": {},
     "source": [
      "**3**. Create a 10 by 6 matrix of random uniform numbers. Set all rows with *any* entry less than 0.1 to be zero. For example, here is a 4 by 10 version:\n",
      "\n",
      "```python\n",
      "array([[ 0.49722235,  0.88833973,  0.07289358,  0.12375223,  0.39659254,\n",
      "         0.70267114],\n",
      "       [ 0.3954172 ,  0.889077  ,  0.71286225,  0.06353112,  0.68107965,\n",
      "         0.17186995],\n",
      "       [ 0.74821206,  0.92692111,  0.24871227,  0.26904958,  0.80410194,\n",
      "         0.22304055],\n",
      "       [ 0.22582605,  0.37671244,  0.96510957,  0.88819053,  0.14654176,\n",
      "         0.33987323]])\n",
      "```\n",
      "\n",
      "becomes\n",
      "\n",
      "```python\n",
      "array([[ 0.        ,  0.        ,  0.        ,  0.        ,  0.        ,\n",
      "         0.        ],\n",
      "       [ 0.        ,  0.        ,  0.        ,  0.        ,  0.        ,\n",
      "         0.        ],\n",
      "       [ 0.74821206,  0.92692111,  0.24871227,  0.26904958,  0.80410194,\n",
      "         0.22304055],\n",
      "       [ 0.22582605,  0.37671244,  0.96510957,  0.88819053,  0.14654176,\n",
      "         0.33987323]])\n",
      "```\n",
      "\n",
      "Hint: Use the following numpy functions - `np.random.random`, `np.any` as well as Boolean indexing and the axis argument."
     ]
    },
    {
     "cell_type": "code",
     "collapsed": false,
     "input": [
      "# YOUR CODE HERE\n",
      "\n",
      "\n"
     ],
     "language": "python",
     "metadata": {},
     "outputs": [],
     "prompt_number": 128
    },
    {
     "cell_type": "markdown",
     "metadata": {},
     "source": [
      "**4**. Use `np.linspace` to create an array of 100 numbers between 0 and $2\\pi$ (includsive). \n",
      "\n",
      "- Extract every 10th element using slice notation\n",
      "- Reverse the array using slice notation\n",
      "- Extract elements where the absolute difference between the sine and cosine functions evaluated at that element is less than 0.1\n",
      "- Make a plot of the array"
     ]
    },
    {
     "cell_type": "code",
     "collapsed": false,
     "input": [
      "# YOUR CODE HERE\n",
      "\n",
      "\n"
     ],
     "language": "python",
     "metadata": {},
     "outputs": [],
     "prompt_number": 129
    },
    {
     "cell_type": "markdown",
     "metadata": {},
     "source": [
      "**5**. Create a matrix that shows the 10 by 10 multiplication table.\n",
      "\n",
      "- Find the trace of the matrix\n",
      "- Extract the anto-diagonal (this should be `array([10, 18, 24, 28, 30, 30, 28, 24, 18, 10])`)\n",
      "- Extract the diagnoal offset by 1 upwards (this should be `array([ 2,  6, 12, 20, 30, 42, 56, 72, 90])`)"
     ]
    },
    {
     "cell_type": "code",
     "collapsed": false,
     "input": [
      "# YOUR CODE HERE\n",
      "\n",
      "\n"
     ],
     "language": "python",
     "metadata": {},
     "outputs": [],
     "prompt_number": 130
    },
    {
     "cell_type": "markdown",
     "metadata": {},
     "source": [
      "**6**. Diagonalize the follwoing matrix\n",
      "```python\n",
      "A = np.array([\n",
      "    [1,  2, 1],\n",
      "    [6, -1, 0],\n",
      "    [-1,-2,-1]\n",
      "])\n",
      "```\n",
      "In other words, find the invertible matrix $P$ and the diagonal matrix $D$ such that $A = P^{-1}DP $. Confirm by calculating the value of $P^{-1}DP $.\n",
      "\n",
      "- Do this mnaully\n",
      "- Then use numpy.linalg functions to do the same"
     ]
    },
    {
     "cell_type": "code",
     "collapsed": false,
     "input": [
      "# YOUR CODE HERE\n",
      "\n",
      "\n"
     ],
     "language": "python",
     "metadata": {},
     "outputs": [],
     "prompt_number": 131
    },
    {
     "cell_type": "markdown",
     "metadata": {},
     "source": [
      "**7**. Use the function provided below to visualize matrix multiplication as a geometric transformation by experiment with differnt values of the matrix $m$.\n",
      "\n",
      "- What does a diagonal matrix do to the origianl vectors?\n",
      "- What does a non-invertible matrix do to the original vectors?\n",
      "- What property results in matrices that preserves the area of the parallelogram spanned by the two vectors?\n",
      "- What property results in matrices that also preserve the length and angle of the original vectors?\n",
      "- What additional property is necessary to preserve the orientation of the original vecotrs?\n",
      "- What does the transpose of the matrix that preserves the length and angle of the original vectors do?\n",
      "- Write a function that when given any two non-colinear 2D vectors u, v, finds a transformation that converts u into e1 (1,0) and v into e2 (0,1)."
     ]
    },
    {
     "cell_type": "code",
     "collapsed": false,
     "input": [
      "#  Provided function\n",
      "def plot_matrix_transform(m):\n",
      "    \"\"\"Show the geometric effect of m on the standard unit vectors e1 and e2.\"\"\"\n",
      "\n",
      "    e1 = np.array([1,0])\n",
      "    e2 = np.array([0,1])\n",
      "    v1 = np.dot(m, e1)\n",
      "    v2 = np.dot(m, e2)\n",
      "\n",
      "    X = np.zeros((2,2))\n",
      "    Y = np.zeros((2,2))\n",
      "    pts = np.array([e1,e2,v1,v2])\n",
      "    U = pts[:, 0]\n",
      "    V = pts[:, 1]\n",
      "    C = [0,1,0,1]\n",
      "\n",
      "    xmin = min(-1, U.min())\n",
      "    xmax = max(1, U.max())\n",
      "    ymin = min(-1, V.min())\n",
      "    ymax = max(-1, V.max())\n",
      "\n",
      "    plt.figure(figsize=(6,6))\n",
      "    plt.quiver(X, Y, U, V, C, angles='xy', scale_units='xy', scale=1)\n",
      "    plt.axis([xmin, xmax, ymin, ymax]);"
     ],
     "language": "python",
     "metadata": {},
     "outputs": [],
     "prompt_number": 132
    },
    {
     "cell_type": "code",
     "collapsed": false,
     "input": [
      "### Example usage\n",
      "m = np.array([[1,2],[3,4]])\n",
      "plot_matrix_transform(m)"
     ],
     "language": "python",
     "metadata": {},
     "outputs": [
      {
       "metadata": {},
       "output_type": "display_data",
       "png": "[encoded data removed]",
       "text": [
        "<matplotlib.figure.Figure at 0x114eef290>"
       ]
      }
     ],
     "prompt_number": 133
    },
    {
     "cell_type": "code",
     "collapsed": false,
     "input": [
      "# YOUR CODE HERE\n",
      "\n",
      "\n"
     ],
     "language": "python",
     "metadata": {},
     "outputs": [],
     "prompt_number": 134
    },
    {
     "cell_type": "markdown",
     "metadata": {},
     "source": [
      "**8**. Find and plot the least squares fit to the given values of $x$ and $y$ for the following:\n",
      "\n",
      "- a constant\n",
      "- a quadratic equation\n",
      "- a 5th order polynomial\n",
      "- a polynomial of order 50"
     ]
    },
    {
     "cell_type": "code",
     "collapsed": false,
     "input": [
      "x = np.load('x.npy')\n",
      "y = np.load('y.npy')\n",
      "plt.plot(x, y, 'o')\n",
      "\n",
      "### YOUR CODE HERE\n"
     ],
     "language": "python",
     "metadata": {},
     "outputs": [
      {
       "metadata": {},
       "output_type": "pyout",
       "prompt_number": 135,
       "text": [
        "[<matplotlib.lines.Line2D at 0x114bab550>]"
       ]
      },
      {
       "metadata": {},
       "output_type": "display_data",
       "png": "[encoded data removed]",
       "text": [
        "<matplotlib.figure.Figure at 0x113dd7090>"
       ]
      }
     ],
     "prompt_number": 135
    },
    {
     "cell_type": "code",
     "collapsed": false,
     "input": [
      "%load_ext version_information\n",
      "\n",
      "%version_information numpy, scipy, functional"
     ],
     "language": "python",
     "metadata": {},
     "outputs": [
      {
       "ename": "ImportError",
       "evalue": "No module named version_information",
       "output_type": "pyerr",
       "traceback": [
        "\u001b[0;31m---------------------------------------------------------------------------\u001b[0m\n\u001b[0;31mImportError\u001b[0m                               Traceback (most recent call last)",
        "\u001b[0;32m<ipython-input-136-7bc3a9a9b4fd>\u001b[0m in \u001b[0;36m<module>\u001b[0;34m()\u001b[0m\n\u001b[0;32m----> 1\u001b[0;31m \u001b[0mget_ipython\u001b[0m\u001b[0;34m(\u001b[0m\u001b[0;34m)\u001b[0m\u001b[0;34m.\u001b[0m\u001b[0mmagic\u001b[0m\u001b[0;34m(\u001b[0m\u001b[0;34mu'load_ext version_information'\u001b[0m\u001b[0;34m)\u001b[0m\u001b[0;34m\u001b[0m\u001b[0m\n\u001b[0m\u001b[1;32m      2\u001b[0m \u001b[0;34m\u001b[0m\u001b[0m\n\u001b[1;32m      3\u001b[0m \u001b[0mget_ipython\u001b[0m\u001b[0;34m(\u001b[0m\u001b[0;34m)\u001b[0m\u001b[0;34m.\u001b[0m\u001b[0mmagic\u001b[0m\u001b[0;34m(\u001b[0m\u001b[0;34mu'version_information numpy, scipy, functional'\u001b[0m\u001b[0;34m)\u001b[0m\u001b[0;34m\u001b[0m\u001b[0m\n",
        "\u001b[0;32m/Users/cliburn/anaconda/lib/python2.7/site-packages/IPython/core/interactiveshell.pyc\u001b[0m in \u001b[0;36mmagic\u001b[0;34m(self, arg_s)\u001b[0m\n\u001b[1;32m   2203\u001b[0m         \u001b[0mmagic_name\u001b[0m\u001b[0;34m,\u001b[0m \u001b[0m_\u001b[0m\u001b[0;34m,\u001b[0m \u001b[0mmagic_arg_s\u001b[0m \u001b[0;34m=\u001b[0m \u001b[0marg_s\u001b[0m\u001b[0;34m.\u001b[0m\u001b[0mpartition\u001b[0m\u001b[0;34m(\u001b[0m\u001b[0;34m' '\u001b[0m\u001b[0;34m)\u001b[0m\u001b[0;34m\u001b[0m\u001b[0m\n\u001b[1;32m   2204\u001b[0m         \u001b[0mmagic_name\u001b[0m \u001b[0;34m=\u001b[0m \u001b[0mmagic_name\u001b[0m\u001b[0;34m.\u001b[0m\u001b[0mlstrip\u001b[0m\u001b[0;34m(\u001b[0m\u001b[0mprefilter\u001b[0m\u001b[0;34m.\u001b[0m\u001b[0mESC_MAGIC\u001b[0m\u001b[0;34m)\u001b[0m\u001b[0;34m\u001b[0m\u001b[0m\n\u001b[0;32m-> 2205\u001b[0;31m         \u001b[0;32mreturn\u001b[0m \u001b[0mself\u001b[0m\u001b[0;34m.\u001b[0m\u001b[0mrun_line_magic\u001b[0m\u001b[0;34m(\u001b[0m\u001b[0mmagic_name\u001b[0m\u001b[0;34m,\u001b[0m \u001b[0mmagic_arg_s\u001b[0m\u001b[0;34m)\u001b[0m\u001b[0;34m\u001b[0m\u001b[0m\n\u001b[0m\u001b[1;32m   2206\u001b[0m \u001b[0;34m\u001b[0m\u001b[0m\n\u001b[1;32m   2207\u001b[0m     \u001b[0;31m#-------------------------------------------------------------------------\u001b[0m\u001b[0;34m\u001b[0m\u001b[0;34m\u001b[0m\u001b[0m\n",
        "\u001b[0;32m/Users/cliburn/anaconda/lib/python2.7/site-packages/IPython/core/interactiveshell.pyc\u001b[0m in \u001b[0;36mrun_line_magic\u001b[0;34m(self, magic_name, line)\u001b[0m\n\u001b[1;32m   2124\u001b[0m                 \u001b[0mkwargs\u001b[0m\u001b[0;34m[\u001b[0m\u001b[0;34m'local_ns'\u001b[0m\u001b[0;34m]\u001b[0m \u001b[0;34m=\u001b[0m \u001b[0msys\u001b[0m\u001b[0;34m.\u001b[0m\u001b[0m_getframe\u001b[0m\u001b[0;34m(\u001b[0m\u001b[0mstack_depth\u001b[0m\u001b[0;34m)\u001b[0m\u001b[0;34m.\u001b[0m\u001b[0mf_locals\u001b[0m\u001b[0;34m\u001b[0m\u001b[0m\n\u001b[1;32m   2125\u001b[0m             \u001b[0;32mwith\u001b[0m \u001b[0mself\u001b[0m\u001b[0;34m.\u001b[0m\u001b[0mbuiltin_trap\u001b[0m\u001b[0;34m:\u001b[0m\u001b[0;34m\u001b[0m\u001b[0m\n\u001b[0;32m-> 2126\u001b[0;31m                 \u001b[0mresult\u001b[0m \u001b[0;34m=\u001b[0m \u001b[0mfn\u001b[0m\u001b[0;34m(\u001b[0m\u001b[0;34m*\u001b[0m\u001b[0margs\u001b[0m\u001b[0;34m,\u001b[0m\u001b[0;34m**\u001b[0m\u001b[0mkwargs\u001b[0m\u001b[0;34m)\u001b[0m\u001b[0;34m\u001b[0m\u001b[0m\n\u001b[0m\u001b[1;32m   2127\u001b[0m             \u001b[0;32mreturn\u001b[0m \u001b[0mresult\u001b[0m\u001b[0;34m\u001b[0m\u001b[0m\n\u001b[1;32m   2128\u001b[0m \u001b[0;34m\u001b[0m\u001b[0m\n",
        "\u001b[0;32m/Users/cliburn/anaconda/lib/python2.7/site-packages/IPython/core/magics/extension.pyc\u001b[0m in \u001b[0;36mload_ext\u001b[0;34m(self, module_str)\u001b[0m\n",
        "\u001b[0;32m/Users/cliburn/anaconda/lib/python2.7/site-packages/IPython/core/magic.pyc\u001b[0m in \u001b[0;36m<lambda>\u001b[0;34m(f, *a, **k)\u001b[0m\n\u001b[1;32m    191\u001b[0m     \u001b[0;31m# but it's overkill for just that one bit of state.\u001b[0m\u001b[0;34m\u001b[0m\u001b[0;34m\u001b[0m\u001b[0m\n\u001b[1;32m    192\u001b[0m     \u001b[0;32mdef\u001b[0m \u001b[0mmagic_deco\u001b[0m\u001b[0;34m(\u001b[0m\u001b[0marg\u001b[0m\u001b[0;34m)\u001b[0m\u001b[0;34m:\u001b[0m\u001b[0;34m\u001b[0m\u001b[0m\n\u001b[0;32m--> 193\u001b[0;31m         \u001b[0mcall\u001b[0m \u001b[0;34m=\u001b[0m \u001b[0;32mlambda\u001b[0m \u001b[0mf\u001b[0m\u001b[0;34m,\u001b[0m \u001b[0;34m*\u001b[0m\u001b[0ma\u001b[0m\u001b[0;34m,\u001b[0m \u001b[0;34m**\u001b[0m\u001b[0mk\u001b[0m\u001b[0;34m:\u001b[0m \u001b[0mf\u001b[0m\u001b[0;34m(\u001b[0m\u001b[0;34m*\u001b[0m\u001b[0ma\u001b[0m\u001b[0;34m,\u001b[0m \u001b[0;34m**\u001b[0m\u001b[0mk\u001b[0m\u001b[0;34m)\u001b[0m\u001b[0;34m\u001b[0m\u001b[0m\n\u001b[0m\u001b[1;32m    194\u001b[0m \u001b[0;34m\u001b[0m\u001b[0m\n\u001b[1;32m    195\u001b[0m         \u001b[0;32mif\u001b[0m \u001b[0mcallable\u001b[0m\u001b[0;34m(\u001b[0m\u001b[0marg\u001b[0m\u001b[0;34m)\u001b[0m\u001b[0;34m:\u001b[0m\u001b[0;34m\u001b[0m\u001b[0m\n",
        "\u001b[0;32m/Users/cliburn/anaconda/lib/python2.7/site-packages/IPython/core/magics/extension.pyc\u001b[0m in \u001b[0;36mload_ext\u001b[0;34m(self, module_str)\u001b[0m\n\u001b[1;32m     61\u001b[0m         \u001b[0;32mif\u001b[0m \u001b[0;32mnot\u001b[0m \u001b[0mmodule_str\u001b[0m\u001b[0;34m:\u001b[0m\u001b[0;34m\u001b[0m\u001b[0m\n\u001b[1;32m     62\u001b[0m             \u001b[0;32mraise\u001b[0m \u001b[0mUsageError\u001b[0m\u001b[0;34m(\u001b[0m\u001b[0;34m'Missing module name.'\u001b[0m\u001b[0;34m)\u001b[0m\u001b[0;34m\u001b[0m\u001b[0m\n\u001b[0;32m---> 63\u001b[0;31m         \u001b[0mres\u001b[0m \u001b[0;34m=\u001b[0m \u001b[0mself\u001b[0m\u001b[0;34m.\u001b[0m\u001b[0mshell\u001b[0m\u001b[0;34m.\u001b[0m\u001b[0mextension_manager\u001b[0m\u001b[0;34m.\u001b[0m\u001b[0mload_extension\u001b[0m\u001b[0;34m(\u001b[0m\u001b[0mmodule_str\u001b[0m\u001b[0;34m)\u001b[0m\u001b[0;34m\u001b[0m\u001b[0m\n\u001b[0m\u001b[1;32m     64\u001b[0m \u001b[0;34m\u001b[0m\u001b[0m\n\u001b[1;32m     65\u001b[0m         \u001b[0;32mif\u001b[0m \u001b[0mres\u001b[0m \u001b[0;34m==\u001b[0m \u001b[0;34m'already loaded'\u001b[0m\u001b[0;34m:\u001b[0m\u001b[0;34m\u001b[0m\u001b[0m\n",
        "\u001b[0;32m/Users/cliburn/anaconda/lib/python2.7/site-packages/IPython/core/extensions.pyc\u001b[0m in \u001b[0;36mload_extension\u001b[0;34m(self, module_str)\u001b[0m\n\u001b[1;32m     96\u001b[0m             \u001b[0;32mif\u001b[0m \u001b[0mmodule_str\u001b[0m \u001b[0;32mnot\u001b[0m \u001b[0;32min\u001b[0m \u001b[0msys\u001b[0m\u001b[0;34m.\u001b[0m\u001b[0mmodules\u001b[0m\u001b[0;34m:\u001b[0m\u001b[0;34m\u001b[0m\u001b[0m\n\u001b[1;32m     97\u001b[0m                 \u001b[0;32mwith\u001b[0m \u001b[0mprepended_to_syspath\u001b[0m\u001b[0;34m(\u001b[0m\u001b[0mself\u001b[0m\u001b[0;34m.\u001b[0m\u001b[0mipython_extension_dir\u001b[0m\u001b[0;34m)\u001b[0m\u001b[0;34m:\u001b[0m\u001b[0;34m\u001b[0m\u001b[0m\n\u001b[0;32m---> 98\u001b[0;31m                     \u001b[0m__import__\u001b[0m\u001b[0;34m(\u001b[0m\u001b[0mmodule_str\u001b[0m\u001b[0;34m)\u001b[0m\u001b[0;34m\u001b[0m\u001b[0m\n\u001b[0m\u001b[1;32m     99\u001b[0m             \u001b[0mmod\u001b[0m \u001b[0;34m=\u001b[0m \u001b[0msys\u001b[0m\u001b[0;34m.\u001b[0m\u001b[0mmodules\u001b[0m\u001b[0;34m[\u001b[0m\u001b[0mmodule_str\u001b[0m\u001b[0;34m]\u001b[0m\u001b[0;34m\u001b[0m\u001b[0m\n\u001b[1;32m    100\u001b[0m             \u001b[0;32mif\u001b[0m \u001b[0mself\u001b[0m\u001b[0;34m.\u001b[0m\u001b[0m_call_load_ipython_extension\u001b[0m\u001b[0;34m(\u001b[0m\u001b[0mmod\u001b[0m\u001b[0;34m)\u001b[0m\u001b[0;34m:\u001b[0m\u001b[0;34m\u001b[0m\u001b[0m\n",
        "\u001b[0;31mImportError\u001b[0m: No module named version_information"
       ]
      }
     ],
     "prompt_number": 136
    }
   ],
   "metadata": {}
  }
 ]
}