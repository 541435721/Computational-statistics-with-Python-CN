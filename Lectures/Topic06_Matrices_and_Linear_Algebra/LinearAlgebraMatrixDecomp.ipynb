{
 "metadata": {
  "name": "",
  "signature": "sha256:69bf62e714a5c9978c2c6951382a602d9c124884c5a23cf4b8860837b17261bc"
 },
 "nbformat": 3,
 "nbformat_minor": 0,
 "worksheets": [
  {
   "cells": [
    {
     "cell_type": "heading",
     "level": 3,
     "metadata": {},
     "source": [
      "Matrix Decompositions for Square Matrices"
     ]
    },
    {
     "cell_type": "markdown",
     "metadata": {},
     "source": [
      "Matrix decompositions are an important step in solving linear systems in a computationally efficient manner. "
     ]
    },
    {
     "cell_type": "heading",
     "level": 4,
     "metadata": {},
     "source": [
      "LU Decomposition and Gaussian Elimination"
     ]
    },
    {
     "cell_type": "markdown",
     "metadata": {},
     "source": [
      "LU stands for 'Lower Upper', and so an LU decomposition of a matrix $A$ is a decomposition so that \n",
      "$$A= LU$$\n",
      "where $L$ is lower triangular and $U$ is upper triangular.\n",
      "\n",
      "Now, LU decomposition is essentially gaussian elimination, with a small difference that helps when solution for multiple right-hand-side vectors $b$ is required.\n",
      "\n",
      "Let's review how gaussian elimination (ge) works.  We will deal with a $3\\times 3$ system of equations for conciseness, but everything here generalizes to the $n\\times n$ case. Consider the following equation:\n",
      "\n",
      "$$\\left(\\begin{matrix}a_{11}&a_{12} & a_{13}\\\\a_{21}&a_{22}&a_{23}\\\\a_{31}&a_{32}&a_{33}\\end{matrix}\\right)\\left(\\begin{matrix}x_1\\\\x_2\\\\x_3\\end{matrix}\\right) = \\left(\\begin{matrix}b_1\\\\b_2\\\\b_3\\end{matrix}\\right)$$\n",
      "\n",
      "For simplicity, let us assume that the leftmost matrix $A$ is non-singular.  To solve the system using ge, we start with the 'augmented matrix':\n",
      "\n",
      "$$\\left(\\begin{array}{ccc|c}a_{11}&a_{12} & a_{13}& b_1 \\\\a_{21}&a_{22}&a_{23}&b_2\\\\a_{31}&a_{32}&a_{33}&b_3\\end{array}\\right)$$\n",
      "\n",
      "We begin at the first entry, $a_{11}$.  If $a_{11} \\neq 0$, then we divide the first row by $a_{11}$ and then subtract the appropriate multiple of the first row from each of the other rows, zeroing out the first entry of all rows. (If $a_{11}$ is zero, we need to permute rows.  We will not go into detail of that here.)  The result is as follows:\n",
      "\n"
     ]
    },
    {
     "cell_type": "markdown",
     "metadata": {},
     "source": [
      "$$\\left(\\begin{array}{ccc|c}\n",
      "1 & \\frac{a_{12}}{a_{11}} & \\frac{a_{13}}{a_{11}} & \\frac{b_1}{a_{11}} \\\\\n",
      "0 & a_{22} - a_{21}\\frac{a_{12}}{a_{11}} & a_{23} - a_{21}\\frac{a_{13}}{a_{11}}  & b_2 - a_{21}\\frac{b_1}{a_{11}}\\\\\n",
      "0&a_{32}-a_{31}\\frac{a_{12}}{a_{11}} & a_{33} - a_{31}\\frac{a_{13}}{a_{11}}  &b_3- a_{31}\\frac{b_1}{a_{11}}\\end{array}\\right)$$"
     ]
    },
    {
     "cell_type": "markdown",
     "metadata": {},
     "source": [
      "We repeat the procedure for the second row, first dividing by the leading entry, then subtracting the appropriate multiple of the resulting row from each of the third and first rows, so that the second entry in row 1 and in row 3 are zero.  We *could* continue until the matrix on the left is the identity. In that case, we can then just 'read off' the solution: i.e., the vector $x$ is the resulting column vector on the right.  Usually, it is more efficient to stop at *reduced row eschelon* form (upper triangular, with ones on the diagonal), and then use *back substitution* to obtain the final answer.\n",
      "\n",
      "Note that in some cases, it is necessary to permute rows to obtain reduced row eschelon form.  This is called *partial pivoting*.  If we also manipulate columns, that is called *full pivoting*.\n",
      "\n",
      "It should be mentioned that we may obtain the inverse of a matrix using ge, by reducing the matrix $A$ to the identity, with the identity matrix as the augmented portion.  \n",
      "\n",
      "Now, this is all fine when we are solving a system one time, for one outcome $b$.  Many applications involve solutions to multiple problems, where the left-hand-side of our matrix equation does not change, but there are many outcome vectors $b$.  In this case, it is more efficient to decompose $A$.\n",
      "\n",
      "First, we start just as in ge, but we 'keep track' of the various multiples required to eliminate entries.  For example, consider the matrix\n",
      "\n",
      "$$A = \\left(\\begin{matrix} 1 & 3 & 4 \\\\\n",
      "                           2& 1& 3\\\\\n",
      "                           4&1&2\n",
      "                           \\end{matrix}\\right)$$"
     ]
    },
    {
     "cell_type": "markdown",
     "metadata": {},
     "source": [
      "We need to multiply row $1$ by $2$ and subtract from row $2$ to eliminate the first entry in row $2$, and then multiply row $1$ by $4$ and subtract from row $3$. Instead of entering zeroes into the first entries of rows $2$ and $3$, we record the multiples required for their elimination, as so:\n",
      "\n",
      "$$\\left(\\begin{matrix} 1 & 3 & 4 \\\\\n",
      "                           (2)& -5 & -5\\\\\n",
      "                           (4)&-11&-14\n",
      "                           \\end{matrix}\\right)$$"
     ]
    },
    {
     "cell_type": "markdown",
     "metadata": {},
     "source": [
      "\n",
      "And then we eliminate the second entry in the third row:\n",
      "\n",
      "\n",
      "$$\\left(\\begin{matrix} 1 & 3 & 4 \\\\\n",
      "                           (2)& -5 & -5\\\\\n",
      "                           (4)&(\\frac{-11}{5})&-3\n",
      "                           \\end{matrix}\\right)$$\n",
      "                           \n",
      "And now we have the decomposition:\n",
      "$$L= \\left(\\begin{matrix} 1 & 0 & 0 \\\\\n",
      "                           2& 1 & 0\\\\\n",
      "                           4&\\frac{-11}5&1\n",
      "                           \\end{matrix}\\right)\n",
      "                          U = \\left(\\begin{matrix} 1 & 3 & 4 \\\\\n",
      "                           0& -5 & -5\\\\\n",
      "                           0&0&-3\n",
      "                           \\end{matrix}\\right)$$\n",
      "                                                  "
     ]
    },
    {
     "cell_type": "markdown",
     "metadata": {},
     "source": [
      "We can solve the system by solving two back-substitution problems:\n",
      "    \n",
      "$$Ly = b$$    and\n",
      "$$Ux=y$$\n",
      "\n",
      "\n",
      "These are both $O(n^2)$, so it is more efficient to decompose when there are multiple outcomes to solve for."
     ]
    },
    {
     "cell_type": "heading",
     "level": 4,
     "metadata": {},
     "source": [
      "Cholesky Decomposition"
     ]
    },
    {
     "cell_type": "markdown",
     "metadata": {},
     "source": [
      "Recall that a square matrix $A$ is positive definite if\n",
      "\n",
      "$$u^TA u > 0$$\n",
      "\n",
      "for any non-zero n-dimensional vector $u$,\n",
      "\n",
      "and a symmetric, positive-definite matrix $A$ is a positive-definite matrix such that\n",
      "\n",
      "$$A = A^T$$"
     ]
    },
    {
     "cell_type": "markdown",
     "metadata": {},
     "source": [
      "Let $A$ be a symmetric, positive-definite matrix.  There is a unique decomposition such that\n",
      "\n",
      "$$A = L L^T$$\n",
      "\n",
      "where $L$ is lower-triangular with positive diagonal elements and $L^T$ is its transpose.  This decomposition is known as the Cholesky decompostion, and $L$ may be interpreted as the 'square root' of the matrix $A$.  "
     ]
    },
    {
     "cell_type": "heading",
     "level": 6,
     "metadata": {},
     "source": [
      "Algorithm:"
     ]
    },
    {
     "cell_type": "markdown",
     "metadata": {},
     "source": [
      "Let $A$ be an $n\\times n$ matrix.  We find the matri $L$ using the following iterative procedure:\n",
      "\n",
      "\n",
      "$$A = \\left(\\begin{matrix}a_{11}&A_{12}\\\\A_{12}&A_{22}\\end{matrix}\\right) =\n",
      "\\left(\\begin{matrix}\\ell_{11}&0\\\\\n",
      "L_{12}&L_{22}\\end{matrix}\\right)\n",
      "\\left(\\begin{matrix}\\ell_{11}&L_{12}\\\\0&L_{22}\\end{matrix}\\right)\n",
      "$$"
     ]
    },
    {
     "cell_type": "markdown",
     "metadata": {},
     "source": [
      "1.) Let $\\ell_{11} = \\sqrt{a_{11}}$\n",
      "\n",
      "2.) $L_{12} = \\frac{1}{\\ell_{11}}A_{12}$\n",
      "\n",
      "3.) Solve $A_{22} - L_{12}L_{12}^T = L_{22}L_{22}^T$ for $L_{22}$"
     ]
    },
    {
     "cell_type": "heading",
     "level": 6,
     "metadata": {},
     "source": [
      "Example:"
     ]
    },
    {
     "cell_type": "markdown",
     "metadata": {},
     "source": [
      "$$A = \\left(\\begin{matrix}1&3&5\\\\3&13&23\\\\5&23&42\\end{matrix}\\right)$$"
     ]
    },
    {
     "cell_type": "markdown",
     "metadata": {},
     "source": [
      "$$\\ell_{11} = \\sqrt{a_11} = 1$$\n",
      "\n",
      "$$L_{12} = \\frac{1}{\\ell_{11}} A_{12} = A_{12}$$\n",
      "\n",
      "$\\begin{eqnarray*}\n",
      "A_22 - L_{12}L_{12}^T &=& \\left(\\begin{matrix}13&23\\\\23&42\\end{matrix}\\right) - \\left(\\begin{matrix}9&15\\\\15&25\\end{matrix}\\right)\\\\\n",
      "&=& \\left(\\begin{matrix}4&8\\\\8&17\\end{matrix}\\right)\\\\\n",
      "&=& \\left(\\begin{matrix}2&0\\\\4&\\ell_{33}\\end{matrix}\\right) \\left(\\begin{matrix}2&4\\\\0&\\ell_{33}\\end{matrix}\\right)\\\\\n",
      "&=& \\left(\\begin{matrix}4&8\\\\8&16+\\ell_{33}^2\\end{matrix}\\right)\n",
      "\\end{eqnarray*}$\n",
      "\n",
      "And so we conclude that $\\ell_{33}=1$.\n",
      "\n",
      "\n",
      "This yields the decomposition:\n",
      "\n",
      "\n",
      "$$\\left(\\begin{matrix}1&3&5\\\\3&13&23\\\\5&23&42\\end{matrix}\\right) = \n",
      "\\left(\\begin{matrix}1&0&0\\\\3&2&0\\\\5&4&1\\end{matrix}\\right)\\left(\\begin{matrix}1&3&5\\\\0&2&4\\\\0&0&1\\end{matrix}\\right)$$\n"
     ]
    },
    {
     "cell_type": "heading",
     "level": 3,
     "metadata": {},
     "source": [
      "Matrix Decompositions for Rectangular Matrices"
     ]
    },
    {
     "cell_type": "markdown",
     "metadata": {},
     "source": [
      "In this section we will review some decompositions that are valid for non-square, $m\\times n$ matrices."
     ]
    },
    {
     "cell_type": "heading",
     "level": 4,
     "metadata": {},
     "source": [
      "Eigendecomposition"
     ]
    },
    {
     "cell_type": "heading",
     "level": 5,
     "metadata": {},
     "source": [
      "Eigenvectors and Eigenvalues"
     ]
    },
    {
     "cell_type": "markdown",
     "metadata": {},
     "source": [
      "First recall that an *eigenvector* of a matrix $A$ is a non-zero vector $v$ such that\n",
      "\n",
      "$$Av = \\lambda v$$\n",
      "\n",
      "for some scalar $\\lambda$\n",
      "\n",
      "The value $\\lambda$ is called an *eigenvalue* of $A$.\n",
      "\n",
      "If an $n\\times n$ matrix $A$ has $n$ linearly independent eigenvectors, then $A$ may be decomposed in the following manner:\n",
      "\n",
      "$$A = B\\Lambda B^{-1}$$\n",
      "\n",
      "where $\\Lambda$ is a diagonal matrix whose diagonal entries are the eigenvalues of $A$ and the columns of $B$ are the corresponding eigenvectors of $A$.\n",
      "\n",
      "Facts: \n",
      "\n",
      "* An $n\\times n$ matrix is diagonizable $\\iff$ it has $n$ linearly independent eigenvectors.\n",
      "* A symmetric, positive definite matrix has only positive eigenvalues and its eigendecomposition \n",
      "$$A=B\\Lambda B^{-1}$$\n",
      "\n",
      "is via an orthogonal transformation $B$. (I.e. its eigenvectors are an orthonormal set)\n",
      "\n"
     ]
    },
    {
     "cell_type": "heading",
     "level": 5,
     "metadata": {},
     "source": [
      "Calculating Eigenvalues"
     ]
    },
    {
     "cell_type": "markdown",
     "metadata": {},
     "source": [
      "It is easy to see from the definition that if $v$ is an eigenvector of an $n\\times n$ matrix $A$ with eigenvalue $\\lambda$, then\n",
      "\n",
      "$$Av - \\lambda I = \\bf{0}$$\n",
      "\n",
      "where $I$ is the identity matrix of dimension $n$ and $\\bf{0}$ is an n-dimensional zero vector. Therefore, the eigenvalues of $A$ satisfy:\n",
      "\n",
      "$$\\det\\left(A-\\lambda I\\right)=0$$\n",
      "\n",
      "The left-hand side above is a polynomial in $\\lambda$, and is called the *characteristic polynomial* of $A$.  Thus, to find the eigenvalues of $A$, we find the roots of the characteristic polynomial.\n",
      "\n"
     ]
    },
    {
     "cell_type": "markdown",
     "metadata": {},
     "source": [
      "Computationally, however, computing the characteristic polynomial and then solving for the roots is prohibitively expensive.  Therefore, in practice, numerical methods are used - both to find eigenvalues and their corresponding eigenvectors."
     ]
    },
    {
     "cell_type": "heading",
     "level": 5,
     "metadata": {},
     "source": [
      "QR decompositon"
     ]
    },
    {
     "cell_type": "markdown",
     "metadata": {},
     "source": [
      "As with the previous decompositions, $QR$ decomposition is a method to write a matrix $A$ as the product of two matrices of simpler form.  In this case, we want:\n",
      "\n",
      "$$ A= QR$$\n",
      "where $Q$ is an $m\\times n$ matrix with $Q Q^T = I$ (i.e. $Q$ is *orthogonal* and $R$ is an $n\\times n$ upper-triangular matrix.\n",
      "\n",
      "This is really just the matrix form of the Grahm-Schmidt orthogonalization of the columns of $A$.  The G-S algorithm itself is unstable, so various other methods have been developed to compute the QR decomposition."
     ]
    },
    {
     "cell_type": "heading",
     "level": 5,
     "metadata": {},
     "source": [
      "Householder Method"
     ]
    },
    {
     "cell_type": "code",
     "collapsed": false,
     "input": [],
     "language": "python",
     "metadata": {},
     "outputs": []
    },
    {
     "cell_type": "heading",
     "level": 4,
     "metadata": {},
     "source": [
      "Singular Value Decomposition"
     ]
    },
    {
     "cell_type": "markdown",
     "metadata": {},
     "source": [
      "Another important matrix decomposition is singular value decomposition or SVD.   For any $m\\times n$ matrix $A$, we may write:\n",
      "\n",
      "$$A= UDV$$\n",
      "\n",
      "where $U$ is a unitary (orthogonal in the real case) $m\\times m$ matrix, $D$ is a rectangular, diagonal $m\\times n$ matrix with diagonal entries $d_1,...,d_m$ all non-negative. $V$ is a unitary (orthogonal) $n\\times n$ matrix. SVD is used in principle component analysis and in the computation of the Moore-Penrose pseudo-inverse used above."
     ]
    },
    {
     "cell_type": "heading",
     "level": 4,
     "metadata": {},
     "source": [
      "Condition Number"
     ]
    }
   ],
   "metadata": {}
  }
 ]
}