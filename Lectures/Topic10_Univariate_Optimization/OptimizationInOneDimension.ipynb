{
 "metadata": {
  "name": "",
  "signature": "sha256:781a012baf0cb71a62fcb9d3e4d290f2ec0fb98a378d731e29c71844bd37a7d8"
 },
 "nbformat": 3,
 "nbformat_minor": 0,
 "worksheets": [
  {
   "cells": [
    {
     "cell_type": "code",
     "collapsed": false,
     "input": [
      "%matplotlib inline\n",
      "import matplotlib.pyplot as plt\n",
      "import numpy as np"
     ],
     "language": "python",
     "metadata": {},
     "outputs": [],
     "prompt_number": 1
    },
    {
     "cell_type": "heading",
     "level": 1,
     "metadata": {},
     "source": [
      "Optimization and Non-linear Methods"
     ]
    },
    {
     "cell_type": "markdown",
     "metadata": {},
     "source": [
      "It is sometimes necessary to solve equations or systems of equations that are non-linear. Often, those non-linear equations arise as optimization problems.  "
     ]
    },
    {
     "cell_type": "heading",
     "level": 2,
     "metadata": {},
     "source": [
      "Example: Maximum Likelihood Estimation (MLE)"
     ]
    },
    {
     "cell_type": "markdown",
     "metadata": {},
     "source": [
      "Recall that in MLE, we are interested in estimating the value of a parameter $\\theta$ that maximizes a log-likelihood function $\\ell(X;\\theta)$.  Let $X_1,...,X_n$ be an iid set of random variables with pdf $f(x;\\theta)$, where $\\theta \\in \\mathbb{R}^k$ is a parameter.  The likelihood function is:\n",
      "\n",
      "\n",
      "\n",
      "$$L(X;\\theta) = \\prod_{i=1}^n f(X_i;\\theta)$$\n"
     ]
    },
    {
     "cell_type": "markdown",
     "metadata": {},
     "source": [
      "We want the value of $\\theta$ that maximizes $L$.  We can accomplish this by taking the first derivative (or gradient) of $L$ with respect to $\\theta$, setting it to zero and solving for $\\theta$.  However, this is more easily accomplished if we first take $\\log(L)$, as $L$ is a product of densities, and taking the log of a product yields a sum.  Because $log$ is a monotonically increasing function, any value of $\\theta$ that maximizes $\\log(L)$ also maximizes $L$."
     ]
    },
    {
     "cell_type": "markdown",
     "metadata": {},
     "source": [
      "$$\n",
      "\\begin{eqnarray*}\n",
      "\\ell(X;\\theta) &=& \\log(L(X;\\theta)) \\\\\\\\\n",
      "&=& \\log\\left(\\prod_{i=1}^n f(X_i;\\theta)\\right)\\\\\\\\\n",
      "&=&\\sum_{i=1}^n \\log(f(X_i;\\theta)\n",
      "\\end{eqnarray*}\n",
      "$$"
     ]
    },
    {
     "cell_type": "markdown",
     "metadata": {},
     "source": [
      "Optimization then amounts to finding the zeros of"
     ]
    },
    {
     "cell_type": "markdown",
     "metadata": {},
     "source": [
      "$$\n",
      "\\begin{eqnarray*}\n",
      "\\frac{\\partial\\ell}{\\partial \\theta} &=& \\frac{\\partial}{\\partial \\theta} \\left(\\sum_{i=1}^n\\log(f(X_i;\\theta)\\right)\\\\\\\\\n",
      "&=& \\sum_{i=1}^n \\frac{\\partial\\log(f(X_i;\\theta)}{\\partial \\theta}\n",
      "\\end{eqnarray*}\n",
      "$$"
     ]
    },
    {
     "cell_type": "heading",
     "level": 2,
     "metadata": {},
     "source": [
      "Bisection Method"
     ]
    },
    {
     "cell_type": "markdown",
     "metadata": {},
     "source": [
      "The bisection method is one of the simplest methods for finding zeroes of a non-linear function.  It is guaranteed to find a root - but it can be slow. The main idea comes from the intermediate value theorem:  If $f(a)$ and $f(b)$ have different signs and $f$ is continous, then $f$ must have a zero between $a$ and $b$.  We evaluate the function at the midpoint, $c = \\frac12(a+b)$. $f(c)$ is either zero, has the same sign as $f(a)$ or the same sign as $f(b)$.  Suppose $f(c)$ has the same sign as $f(a)$ (as pictured below).  We then repeat the process on the interval $[c,b]$.   "
     ]
    },
    {
     "cell_type": "code",
     "collapsed": false,
     "input": [
      "def f(x):\n",
      "    return x**3 + 4*x**2 -3\n",
      "\n",
      "x = np.linspace(-3.1, 0, 100)\n",
      "plt.plot(x, x**3 + 4*x**2 -3)\n",
      "\n",
      "a = -3.0\n",
      "b = -0.5\n",
      "c = 0.5*(a+b)\n",
      "\n",
      "plt.text(a,-1,\"a\")\n",
      "plt.text(b,-1,\"b\")\n",
      "plt.text(c,-1,\"c\")\n",
      "\n",
      "plt.scatter([a,b,c], [f(a), f(b),f(c)], s=50, facecolors='none')\n",
      "plt.scatter([a,b,c], [0,0,0], s=50, c='red')\n",
      "\n",
      "xaxis = plt.axhline(0);"
     ],
     "language": "python",
     "metadata": {},
     "outputs": [
      {
       "metadata": {},
       "output_type": "display_data",
       "png": "[encoded data removed]",
       "text": [
        "<matplotlib.figure.Figure at 0x7ffaa3bd8fd0>"
       ]
      }
     ],
     "prompt_number": 34
    },
    {
     "cell_type": "code",
     "collapsed": false,
     "input": [
      "\n",
      "x = np.linspace(-3.1, 0, 100)\n",
      "plt.plot(x, x**3 + 4*x**2 -3)\n",
      "\n",
      "d = 0.5*(b+c)\n",
      "\n",
      "plt.text(d,-1,\"d\")\n",
      "plt.text(b,-1,\"b\")\n",
      "plt.text(c,-1,\"c\")\n",
      "\n",
      "plt.scatter([d,b,c], [f(d), f(b),f(c)], s=50, facecolors='none')\n",
      "plt.scatter([d,b,c], [0,0,0], s=50, c='red')\n",
      "\n",
      "xaxis = plt.axhline(0);"
     ],
     "language": "python",
     "metadata": {},
     "outputs": [
      {
       "metadata": {},
       "output_type": "display_data",
       "png": "[encoded data removed]",
       "text": [
        "<matplotlib.figure.Figure at 0x7ffaa3b26950>"
       ]
      }
     ],
     "prompt_number": 36
    },
    {
     "cell_type": "markdown",
     "metadata": {},
     "source": [
      "We can terminate the process whenever the function evaluated at the new midpoint is 'close enough' to zero."
     ]
    },
    {
     "cell_type": "heading",
     "level": 2,
     "metadata": {},
     "source": [
      "Secant Method"
     ]
    },
    {
     "cell_type": "markdown",
     "metadata": {},
     "source": [
      "The secant method also begins with two initial points, but without the constraint that the function values are of opposite signs.  We use the secant line to extrapolate the next candidate point."
     ]
    },
    {
     "cell_type": "code",
     "collapsed": false,
     "input": [
      "def f(x):\n",
      "    return (x**3-2*x+7)/(x**4+2)\n",
      "\n",
      "x = np.arange(-3,5, 0.1);\n",
      "y = f(x)\n",
      "\n",
      "p1=plt.plot(x, y)\n",
      "plt.xlim(-3, 4)\n",
      "plt.ylim(-.5, 4)\n",
      "plt.xlabel('x')\n",
      "plt.axhline(0)\n",
      "t = np.arange(-10, 5., 0.1)\n",
      "\n",
      "x0=-1.2\n",
      "x1=-0.5\n",
      "xvals = []\n",
      "xvals.append(x0)\n",
      "xvals.append(x1)\n",
      "notconverge = 1\n",
      "count = 0\n",
      "cols=['r--','b--','g--','y--']\n",
      "while (notconverge==1 and count <  3):\n",
      "    slope=(f(xvals[count+1])-f(xvals[count]))/(xvals[count+1]-xvals[count])\n",
      "    intercept=-slope*xvals[count+1]+f(xvals[count+1])\n",
      "    plt.plot(t, slope*t + intercept, cols[count])\n",
      "    nextval = -intercept/slope\n",
      "    if abs(f(nextval)) < 0.001:\n",
      "        notconverge=0\n",
      "    else:\n",
      "        xvals.append(nextval)\n",
      "    count = count+1\n",
      "\n",
      "plt.show()"
     ],
     "language": "python",
     "metadata": {},
     "outputs": [
      {
       "metadata": {},
       "output_type": "display_data",
       "png": "[encoded data removed]",
       "text": [
        "<matplotlib.figure.Figure at 0x7ffaa81e76d0>"
       ]
      }
     ],
     "prompt_number": 67
    },
    {
     "cell_type": "markdown",
     "metadata": {},
     "source": [
      "The secant method has the advantage of fast convergence.  While the bisection method has a linear convergence rate (i.e. error goes to zero at the rate that $h(x) = x$ goes to zero, the secant method has a convergence rate that is faster than linear, but not quite quadratic (i.e. $\\sim x^\\alpha$, where $\\alpha = \\frac{1+\\sqrt{5}}2 \\approx 1.6$)"
     ]
    },
    {
     "cell_type": "heading",
     "level": 2,
     "metadata": {},
     "source": [
      "Newton-Rhapson Method"
     ]
    },
    {
     "cell_type": "code",
     "collapsed": false,
     "input": [],
     "language": "python",
     "metadata": {},
     "outputs": [],
     "prompt_number": 67
    },
    {
     "cell_type": "markdown",
     "metadata": {},
     "source": [
      "We want to find the value $\\theta$ so that some (differentiable) function $g(\\theta)=0$. \n",
      "Idea: start with a guess, $\\theta_0$.  Let $\\tilde{\\theta}$ denote the value of $\\theta$ for which $g(\\theta)$ and define $h = \\tilde{\\theta} - \\theta_0$.  Then:\n",
      "\n",
      "$$\n",
      "\\begin{eqnarray*}\n",
      "g(\\tilde{\\theta}) &=& 0 \\\\\\\\\n",
      "&=&g(\\theta_0 + h) \\\\\\\\\n",
      "&\\approx& g(\\theta_0) + hg'(\\theta_0)\n",
      "\\end{eqnarray*}\n",
      "$$\n",
      "\n",
      "This implies that \n",
      "\n",
      "$$ h\\approx \\frac{g(\\theta_0)}{g'(\\theta_0)}$$\n",
      "\n",
      "So that\n",
      "\n",
      "$$\\tilde{\\theta}\\approx \\theta_0 - \\frac{g(\\theta_0)}{g'(\\theta_0)}$$\n",
      "\n",
      "Thus, we set our next approximation:\n",
      "\n",
      "$$\\theta_1 = \\theta_0 - \\frac{g(\\theta_0)}{g'(\\theta_0)}$$\n",
      "\n",
      "and we have developed an interative procedure with:\n",
      "\n",
      "$$\\theta_n = \\theta_{n-1} - \\frac{g(\\theta_{n-1})}{g'(\\theta_{n-1})}$$"
     ]
    },
    {
     "cell_type": "heading",
     "level": 4,
     "metadata": {},
     "source": [
      "Example:"
     ]
    },
    {
     "cell_type": "markdown",
     "metadata": {},
     "source": [
      "Let $$g(x) = \\frac{x^3-2x+7}{x^4+2}$$\n"
     ]
    },
    {
     "cell_type": "markdown",
     "metadata": {},
     "source": [
      "The graph of this function is:"
     ]
    },
    {
     "cell_type": "code",
     "collapsed": false,
     "input": [
      "%matplotlib inline\n",
      "import numpy as np\n",
      "import matplotlib.pyplot as plt\n",
      "\n",
      "x = np.arange(-5,5, 0.1);\n",
      "y = (x**3-2*x+7)/(x**4+2)\n",
      "\n",
      "p1=plt.plot(x, y)\n",
      "plt.xlim(-4, 4)\n",
      "plt.ylim(-.5, 4)\n",
      "plt.xlabel('x')\n",
      "plt.axhline(0)\n",
      "plt.title('Example Function')\n",
      "plt.show()"
     ],
     "language": "python",
     "metadata": {},
     "outputs": [
      {
       "metadata": {},
       "output_type": "display_data",
       "png": "[encoded data removed]",
       "text": [
        "<matplotlib.figure.Figure at 0x404fcd0>"
       ]
      }
     ],
     "prompt_number": 7
    },
    {
     "cell_type": "code",
     "collapsed": false,
     "input": [
      "\n",
      "x = np.arange(-5,5, 0.1);\n",
      "y = (x**3-2*x+7)/(x**4+2)\n",
      "\n",
      "p1=plt.plot(x, y)\n",
      "plt.xlim(-4, 4)\n",
      "plt.ylim(-.5, 4)\n",
      "plt.xlabel('x')\n",
      "plt.axhline(0)\n",
      "plt.title('Good Guess')\n",
      "t = np.arange(-5, 5., 0.1)\n",
      "\n",
      "x0=-1.5\n",
      "xvals = []\n",
      "xvals.append(x0)\n",
      "notconverge = 1\n",
      "count = 0\n",
      "cols=['r--','b--','g--','y--','c--','m--','k--','w--']\n",
      "while (notconverge==1 and count <  6):\n",
      "    funval=(xvals[count]**3-2*xvals[count]+7)/(xvals[count]**4+2)\n",
      "    slope=-((4*xvals[count]**3 *(7 - 2 *xvals[count] + xvals[count]**3))/(2 + xvals[count]**4)**2) + (-2 + 3 *xvals[count]**2)/(2 + xvals[count]**4)\n",
      "   \n",
      "    intercept=-slope*xvals[count]+(xvals[count]**3-2*xvals[count]+7)/(xvals[count]**4+2)\n",
      "\n",
      "    plt.plot(t, slope*t + intercept, cols[count])\n",
      "    nextval = -intercept/slope\n",
      "    if abs(funval) < 0.01:\n",
      "        notconverge=0\n",
      "    else:\n",
      "        xvals.append(nextval)\n",
      "    count = count+1\n",
      "\n",
      "plt.show()\n",
      "\n"
     ],
     "language": "python",
     "metadata": {},
     "outputs": [
      {
       "metadata": {},
       "output_type": "display_data",
       "png": "[encoded data removed]",
       "text": [
        "<matplotlib.figure.Figure at 0x7ffaa8219290>"
       ]
      }
     ],
     "prompt_number": 37
    },
    {
     "cell_type": "markdown",
     "metadata": {},
     "source": [
      "From the graph, we see the zero is near -2.  We make an initial guess of $$x=-1.5$$"
     ]
    },
    {
     "cell_type": "markdown",
     "metadata": {},
     "source": [
      "We have made an excellent choice for our first guess, and we can see rapid convergence!"
     ]
    },
    {
     "cell_type": "code",
     "collapsed": false,
     "input": [
      "funval"
     ],
     "language": "python",
     "metadata": {},
     "outputs": [
      {
       "metadata": {},
       "output_type": "pyout",
       "prompt_number": 68,
       "text": [
        "0.007591996330867034"
       ]
      }
     ],
     "prompt_number": 68
    },
    {
     "cell_type": "markdown",
     "metadata": {},
     "source": [
      "In fact, the Newton-Rhapson method converges quadratically.  However, NR (and the secant method) have a fatal flaw:"
     ]
    },
    {
     "cell_type": "code",
     "collapsed": false,
     "input": [
      "%matplotlib inline\n",
      "import numpy as np\n",
      "import matplotlib.pyplot as plt\n",
      "\n",
      "x = np.arange(-5,5, 0.1);\n",
      "y = (x**3-2*x+7)/(x**4+2)\n",
      "\n",
      "p1=plt.plot(x, y)\n",
      "plt.xlim(-4, 4)\n",
      "plt.ylim(-.5, 4)\n",
      "plt.xlabel('x')\n",
      "plt.axhline(0)\n",
      "plt.title('Bad Guess')\n",
      "t = np.arange(-5, 5., 0.1)\n",
      "\n",
      "x0=-0.5\n",
      "xvals = []\n",
      "xvals.append(x0)\n",
      "notconverge = 1\n",
      "count = 0\n",
      "cols=['r--','b--','g--','y--','c--','m--','k--','w--']\n",
      "while (notconverge==1 and count <  6):\n",
      "    funval=(xvals[count]**3-2*xvals[count]+7)/(xvals[count]**4+2)\n",
      "    slope=-((4*xvals[count]**3 *(7 - 2 *xvals[count] + xvals[count]**3))/(2 + xvals[count]**4)**2) + (-2 + 3 *xvals[count]**2)/(2 + xvals[count]**4)\n",
      "   \n",
      "    intercept=-slope*xvals[count]+(xvals[count]**3-2*xvals[count]+7)/(xvals[count]**4+2)\n",
      "\n",
      "    plt.plot(t, slope*t + intercept, cols[count])\n",
      "    nextval = -intercept/slope\n",
      "    if abs(funval) < 0.01:\n",
      "        notconverge = 0\n",
      "    else:\n",
      "        xvals.append(nextval)\n",
      "    count = count+1\n",
      "\n",
      "plt.show()\n"
     ],
     "language": "python",
     "metadata": {},
     "outputs": [
      {
       "metadata": {},
       "output_type": "display_data",
       "png": "[encoded data removed]",
       "text": [
        "<matplotlib.figure.Figure at 0x3f8e510>"
       ]
      }
     ],
     "prompt_number": 11
    },
    {
     "cell_type": "markdown",
     "metadata": {},
     "source": [
      "We have stumbled on the horizontal asymptote.  The algorithm fails to converge. "
     ]
    },
    {
     "cell_type": "heading",
     "level": 3,
     "metadata": {},
     "source": [
      "Convergence Rate"
     ]
    },
    {
     "cell_type": "markdown",
     "metadata": {},
     "source": [
      "\n",
      "The following is a derivation of the convergence rate of the NR method:\n",
      "\n",
      "\n",
      "Suppose $x_k \\; \\rightarrow \\; x^*$ and $g'(x^*) \\neq 0$.  Then we may write:\n",
      "\n",
      "$$x_k = x^* + \\epsilon_k$$.\n",
      "\n",
      "Now expand $g$ at $x^*$:\n",
      "\n",
      "$$g(x_k) = g(x^*) + g'(x^*)\\epsilon_k + \\frac12 g''(x^*)\\epsilon_k^2 + ...$$\n",
      "$$g'(x_k)=g'(x^*) + g''(x^*)\\epsilon_k$$\n",
      "\n",
      "We have that\n",
      "\n",
      "\n",
      "\\begin{eqnarray}\n",
      "\\epsilon_{k+1} &=& \\epsilon_k + \\left(x_{k-1-x_k}\\right)\\\\\n",
      "&=& \\epsilon_k -\\frac{g(x_k)}{g'(x_k)}\\\\\n",
      "&\\approx & \\frac{g'(x^*)\\epsilon_k + \\frac12g''(x^*)\\epsilon_k^2}{g'(x^*)+g''(x^*)\\epsilon_k}\\\\\n",
      "&\\approx & \\frac{g''(x^*)}{2g'(x^*)}\\epsilon_k^2\n",
      "\\end{eqnarray}"
     ]
    },
    {
     "cell_type": "heading",
     "level": 2,
     "metadata": {},
     "source": [
      "Inverse Quadratic Interpolation"
     ]
    },
    {
     "cell_type": "markdown",
     "metadata": {},
     "source": [
      "Inverse quadratic interpolation is a type of polynomial interpolation.  Polynomial interpolation simply means we find the polynomial of least degree that fits a set of points.  In quadratic interpolation, we use three points, and find the quadratic polynomial that passes through those three points.  \n",
      "\n",
      "Inverse quadratic interpolation means we do quadratic interpolation on the inverse function.  So, if we are looking for a root of $f$, we approximate $f^{-1}(x)$ using quadratic interpolation. Note that the secant method can be viewed as a *linear* interpolation on the inverse of $f$. We can write:\n",
      "\n",
      "$$f^{-1}(y) = \\frac{(y-f(x_n))(y-f(x_{n-1}))}{(f(x_{n-2})-f(x_{n-1}))(f(x_{n-2})-f(x_{n}))}x_{n-2} + \\frac{(y-f(x_n))(y-f(x_{n-2}))}{(f(x_{n-1})-f(x_{n-2}))(f(x_{n-1})-f(x_{n}))}x_{n-1} + \\frac{(y-f(x_{n-2}))(y-f(x_{n-1}))}{(f(x_{n})-f(x_{n-2}))(f(x_{n})-f(x_{n-1}))}x_{n-1}$$\n",
      "\n",
      "We use the above formula to find the next guess $x_{n+1}$ for a zero of $f$ (so $y=0$):\n",
      "\n",
      "$$x_{n+1} = \\frac{f(x_n)f(x_{n-1})}{(f(x_{n-2})-f(x_{n-1}))(f(x_{n-2})-f(x_{n}))}x_{n-2} + \\frac{f(x_n)f(x_{n-2})}{(f(x_{n-1})-f(x_{n-2}))(f(x_{n-1})-f(x_{n}))}x_{n-1} + \\frac{f(x_{n-2})f(x_{n-1})}{(f(x_{n})-f(x_{n-2}))(f(x_{n})-f(x_{n-1}))}x_{n}$$\n",
      "\n",
      "\n",
      "Convergence rate is approximately $1.8$.\n",
      "\n"
     ]
    },
    {
     "cell_type": "heading",
     "level": 2,
     "metadata": {},
     "source": [
      "Brent's Method"
     ]
    },
    {
     "cell_type": "markdown",
     "metadata": {},
     "source": [
      "Brent's method is a combination of bisection, secant and inverse quadratic interpolation.  Like bisection, it is a 'bracketed' method (starts with points $(a,b)$ such that $f(a)f(b)<0$.   "
     ]
    },
    {
     "cell_type": "markdown",
     "metadata": {},
     "source": [
      "Roughly speaking, the method begins by using the secant method to obtain a third point $c$, then uses inverse quadratic interpolation to generate the next possible root. Without going into too much detail, the algorithm attempts to assess when interpolation will go awry, and if so, performs a bisection step. Also, it has certain criteria to reject an iterate. If that happens, the next step will be linear interpolation (secant method). "
     ]
    },
    {
     "cell_type": "code",
     "collapsed": false,
     "input": [],
     "language": "python",
     "metadata": {},
     "outputs": []
    }
   ],
   "metadata": {}
  }
 ]
}