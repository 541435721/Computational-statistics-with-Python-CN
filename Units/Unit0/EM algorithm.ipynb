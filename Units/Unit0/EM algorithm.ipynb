{
 "metadata": {
  "name": "",
  "signature": "sha256:0f6f339896545aca323766c3e91480a0d2cb7f4aa1a3184239c4a281b91892b7"
 },
 "nbformat": 3,
 "nbformat_minor": 0,
 "worksheets": [
  {
   "cells": [
    {
     "cell_type": "code",
     "collapsed": false,
     "input": [
      "import numpy as np"
     ],
     "language": "python",
     "metadata": {},
     "outputs": [],
     "prompt_number": 1
    },
    {
     "cell_type": "code",
     "collapsed": false,
     "input": [],
     "language": "python",
     "metadata": {},
     "outputs": [
      {
       "metadata": {},
       "output_type": "pyout",
       "prompt_number": 13,
       "text": [
        "u'%.4f'"
       ]
      }
     ],
     "prompt_number": 13
    },
    {
     "cell_type": "code",
     "collapsed": false,
     "input": [
      "def mn_ll(y, theta):\n",
      "    \"\"\"Log likelihood for multinomial distribution (ignoring constant).\"\"\"\n",
      "    return np.sum(y * np.log(theta))\n",
      "\n",
      "def ll(y, theta, p):\n",
      "    \"\"\"Complete log likelihood for mixture.\"\"\"\n",
      "    return np.sum(p * mm_ll(y, theta))"
     ],
     "language": "python",
     "metadata": {},
     "outputs": [],
     "prompt_number": 29
    },
    {
     "cell_type": "markdown",
     "metadata": {},
     "source": [
      "Coin toss example from [What is the expectation maximization algorithm?](http://www.nature.com/nbt/journal/v26/n8/full/nbt1406.html)"
     ]
    },
    {
     "cell_type": "code",
     "collapsed": false,
     "input": [
      "ys = np.array([(5,5), (9,1), (8,2), (4,6), (7,3)])\n",
      "theta_A, theta_B = np.array([0.6, 0.4]), np.array([0.5, 0.5])\n",
      "\n",
      "ll_old = 0\n",
      "\n",
      "while True:\n",
      "    exp_A = []\n",
      "    exp_B = []\n",
      "    ll_new = 0\n",
      "\n",
      "    # E-step: calculate probability distributions over possible completions\n",
      "    for i, y in enumerate(ys):\n",
      "\n",
      "        ll_A = mn_ll(y, theta_A)\n",
      "        ll_B = mn_ll(y, theta_B)\n",
      "      \n",
      "        denom = np.exp(ll_A) + np.exp(ll_B)       \n",
      "        wt_A = np.exp(ll_A)/denom\n",
      "        wt_B = np.exp(ll_B)/denom\n",
      "        print \"A = %.2f\" % wt_A, \"B = %.2f\" % wt_B\n",
      "        exp_A.append(np.dot(wt_A, y))\n",
      "        exp_B.append(np.dot(wt_B, y))\n",
      "        \n",
      "        # update complete log likelihood\n",
      "        ll_new += wt_A * ll_A + wt_B * ll_B\n",
      "    \n",
      "    # M-step: update values for parameters given current distribution\n",
      "    theta_A = np.sum(exp_A, 0)/np.sum(exp_A)\n",
      "    theta_B = np.sum(exp_B, 0)/np.sum(exp_B)\n",
      "    print \"theta_A = %.2f, theta_B = %.2f\" % (theta_A[0], theta_B[0])\n",
      "\n",
      "    if np.abs(ll_new - ll_old) < 0.1:\n",
      "        break\n",
      "    ll_old = ll_new"
     ],
     "language": "python",
     "metadata": {},
     "outputs": [
      {
       "output_type": "stream",
       "stream": "stdout",
       "text": [
        "A = 0.45 B = 0.55\n",
        "A = 0.80 B = 0.20\n",
        "A = 0.73 B = 0.27\n",
        "A = 0.35 B = 0.65\n",
        "A = 0.65 B = 0.35\n",
        "theta_A = 0.71, theta_B = 0.58\n",
        "A = 0.30 B = 0.70\n",
        "A = 0.81 B = 0.19\n",
        "A = 0.71 B = 0.29\n",
        "A = 0.19 B = 0.81\n",
        "A = 0.57 B = 0.43\n",
        "theta_A = 0.75, theta_B = 0.57\n",
        "A = 0.22 B = 0.78\n",
        "A = 0.87 B = 0.13\n",
        "A = 0.75 B = 0.25\n",
        "A = 0.11 B = 0.89\n",
        "A = 0.58 B = 0.42\n",
        "theta_A = 0.77, theta_B = 0.55\n",
        "A = 0.16 B = 0.84\n",
        "A = 0.91 B = 0.09\n",
        "A = 0.79 B = 0.21\n",
        "A = 0.07 B = 0.93\n",
        "A = 0.59 B = 0.41\n",
        "theta_A = 0.78, theta_B = 0.53\n",
        "A = 0.13 B = 0.87\n",
        "A = 0.94 B = 0.06\n",
        "A = 0.82 B = 0.18\n",
        "A = 0.04 B = 0.96\n",
        "A = 0.59 B = 0.41\n",
        "theta_A = 0.79, theta_B = 0.53\n",
        "A = 0.11 B = 0.89\n",
        "A = 0.95 B = 0.05\n",
        "A = 0.84 B = 0.16\n",
        "A = 0.04 B = 0.96\n",
        "A = 0.60 B = 0.40\n",
        "theta_A = 0.79, theta_B = 0.52\n",
        "A = 0.11 B = 0.89\n",
        "A = 0.95 B = 0.05\n",
        "A = 0.84 B = 0.16\n",
        "A = 0.03 B = 0.97\n",
        "A = 0.60 B = 0.40\n",
        "theta_A = 0.80, theta_B = 0.52\n"
       ]
      }
     ],
     "prompt_number": 58
    },
    {
     "cell_type": "code",
     "collapsed": false,
     "input": [],
     "language": "python",
     "metadata": {},
     "outputs": []
    }
   ],
   "metadata": {}
  }
 ]
}