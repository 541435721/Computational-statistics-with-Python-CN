{
 "metadata": {
  "name": "",
  "signature": "sha256:348efce845e4b439756f2e1a0124e0142cee2028b6e7e530e422cebff115eac7"
 },
 "nbformat": 3,
 "nbformat_minor": 0,
 "worksheets": [
  {
   "cells": [
    {
     "cell_type": "code",
     "collapsed": false,
     "input": [
      "import collections\n",
      "import Queue"
     ],
     "language": "python",
     "metadata": {},
     "outputs": [],
     "prompt_number": 1
    },
    {
     "cell_type": "markdown",
     "metadata": {},
     "source": [
      "### Double-ended queue (also serves as ring when maxlen argument is given)\n",
      "\n",
      "* FIFO and LIFO queuss\n",
      "* Manage a pool of resources"
     ]
    },
    {
     "cell_type": "code",
     "collapsed": false,
     "input": [
      "dq = collections.deque(range(5), maxlen=5)"
     ],
     "language": "python",
     "metadata": {},
     "outputs": [],
     "prompt_number": 2
    },
    {
     "cell_type": "code",
     "collapsed": false,
     "input": [
      "dq"
     ],
     "language": "python",
     "metadata": {},
     "outputs": [
      {
       "metadata": {},
       "output_type": "pyout",
       "prompt_number": 3,
       "text": [
        "deque([0, 1, 2, 3, 4], maxlen=5)"
       ]
      }
     ],
     "prompt_number": 3
    },
    {
     "cell_type": "code",
     "collapsed": false,
     "input": [
      "dq.appendleft(10)"
     ],
     "language": "python",
     "metadata": {},
     "outputs": [],
     "prompt_number": 4
    },
    {
     "cell_type": "code",
     "collapsed": false,
     "input": [
      "dq"
     ],
     "language": "python",
     "metadata": {},
     "outputs": [
      {
       "metadata": {},
       "output_type": "pyout",
       "prompt_number": 5,
       "text": [
        "deque([10, 0, 1, 2, 3], maxlen=5)"
       ]
      }
     ],
     "prompt_number": 5
    },
    {
     "cell_type": "code",
     "collapsed": false,
     "input": [
      "dq.extendleft([20,30])"
     ],
     "language": "python",
     "metadata": {},
     "outputs": [],
     "prompt_number": 6
    },
    {
     "cell_type": "code",
     "collapsed": false,
     "input": [
      "dq"
     ],
     "language": "python",
     "metadata": {},
     "outputs": [
      {
       "metadata": {},
       "output_type": "pyout",
       "prompt_number": 7,
       "text": [
        "deque([30, 20, 10, 0, 1], maxlen=5)"
       ]
      }
     ],
     "prompt_number": 7
    },
    {
     "cell_type": "code",
     "collapsed": false,
     "input": [
      "dq.extend([2,3,4])"
     ],
     "language": "python",
     "metadata": {},
     "outputs": [],
     "prompt_number": 8
    },
    {
     "cell_type": "code",
     "collapsed": false,
     "input": [
      "dq"
     ],
     "language": "python",
     "metadata": {},
     "outputs": [
      {
       "metadata": {},
       "output_type": "pyout",
       "prompt_number": 9,
       "text": [
        "deque([0, 1, 2, 3, 4], maxlen=5)"
       ]
      }
     ],
     "prompt_number": 9
    },
    {
     "cell_type": "markdown",
     "metadata": {},
     "source": [
      "### Heaps\n",
      "\n",
      "* Implement priority queues and scheduling algoritms\n",
      "* Sort very large collections that may not fit into memory"
     ]
    },
    {
     "cell_type": "code",
     "collapsed": false,
     "input": [
      "import heapq"
     ],
     "language": "python",
     "metadata": {},
     "outputs": [],
     "prompt_number": 10
    },
    {
     "cell_type": "code",
     "collapsed": false,
     "input": [
      "items = [(1, 'job 1'), (2, 'job 2'), (10, 'job 3'), (4, 'job 4')]\n",
      "pq = []\n",
      "for item in items:\n",
      "    heapq.heappush(pq, item)"
     ],
     "language": "python",
     "metadata": {},
     "outputs": [],
     "prompt_number": 11
    },
    {
     "cell_type": "code",
     "collapsed": false,
     "input": [
      "heapq.heappop(pq)"
     ],
     "language": "python",
     "metadata": {},
     "outputs": [
      {
       "metadata": {},
       "output_type": "pyout",
       "prompt_number": 12,
       "text": [
        "(1, 'job 1')"
       ]
      }
     ],
     "prompt_number": 12
    },
    {
     "cell_type": "code",
     "collapsed": false,
     "input": [
      "heapq.heappop(pq)"
     ],
     "language": "python",
     "metadata": {},
     "outputs": [
      {
       "metadata": {},
       "output_type": "pyout",
       "prompt_number": 13,
       "text": [
        "(2, 'job 2')"
       ]
      }
     ],
     "prompt_number": 13
    },
    {
     "cell_type": "code",
     "collapsed": false,
     "input": [
      "heapq.heappop(pq)"
     ],
     "language": "python",
     "metadata": {},
     "outputs": [
      {
       "metadata": {},
       "output_type": "pyout",
       "prompt_number": 14,
       "text": [
        "(4, 'job 4')"
       ]
      }
     ],
     "prompt_number": 14
    },
    {
     "cell_type": "code",
     "collapsed": false,
     "input": [
      "heapq.heappush(pq, (11, 'job 5'))\n",
      "heapq.heappush(pq, (9, 'job 6'))"
     ],
     "language": "python",
     "metadata": {},
     "outputs": [],
     "prompt_number": 15
    },
    {
     "cell_type": "code",
     "collapsed": false,
     "input": [
      "heapq.heappop(pq)"
     ],
     "language": "python",
     "metadata": {},
     "outputs": [
      {
       "metadata": {},
       "output_type": "pyout",
       "prompt_number": 16,
       "text": [
        "(9, 'job 6')"
       ]
      }
     ],
     "prompt_number": 16
    },
    {
     "cell_type": "code",
     "collapsed": false,
     "input": [
      "heapq.heappop(pq)"
     ],
     "language": "python",
     "metadata": {},
     "outputs": [
      {
       "metadata": {},
       "output_type": "pyout",
       "prompt_number": 17,
       "text": [
        "(10, 'job 3')"
       ]
      }
     ],
     "prompt_number": 17
    },
    {
     "cell_type": "code",
     "collapsed": false,
     "input": [
      "heapq.heappop(pq)"
     ],
     "language": "python",
     "metadata": {},
     "outputs": [
      {
       "metadata": {},
       "output_type": "pyout",
       "prompt_number": 18,
       "text": [
        "(11, 'job 5')"
       ]
      }
     ],
     "prompt_number": 18
    },
    {
     "cell_type": "markdown",
     "metadata": {},
     "source": [
      "### Graphs"
     ]
    },
    {
     "cell_type": "code",
     "collapsed": false,
     "input": [
      "G = nx.watts_strogatz_graph(n=100, k=5, p=0.3)\n",
      "mst = nx.minimum_spanning_tree(G)\n",
      "pos=nx.graphviz_layout(mst, prog='neato', args='')\n",
      "plt.figure(figsize=(8,8))\n",
      "nx.draw(mst,pos, node_size=50,alpha=0.5,node_color=\"blue\", with_labels=False)\n",
      "plt.axis('equal');"
     ],
     "language": "python",
     "metadata": {},
     "outputs": [
      {
       "metadata": {},
       "output_type": "display_data",
       "png": "[encoded data removed]",
       "text": [
        "<matplotlib.figure.Figure at 0x10ce58f50>"
       ]
      }
     ],
     "prompt_number": 58
    },
    {
     "cell_type": "markdown",
     "metadata": {},
     "source": [
      "### Sorting"
     ]
    },
    {
     "cell_type": "code",
     "collapsed": false,
     "input": [
      "xs = list(random_integers(0,100, 20))\n",
      "xs"
     ],
     "language": "python",
     "metadata": {},
     "outputs": [
      {
       "metadata": {},
       "output_type": "pyout",
       "prompt_number": 79,
       "text": [
        "[59, 35, 69, 78, 56, 2, 38, 39, 40, 83, 16, 19, 32, 74, 28, 98, 58, 68, 13, 0]"
       ]
      }
     ],
     "prompt_number": 79
    },
    {
     "cell_type": "code",
     "collapsed": false,
     "input": [
      "sorted(xs)"
     ],
     "language": "python",
     "metadata": {},
     "outputs": [
      {
       "metadata": {},
       "output_type": "pyout",
       "prompt_number": 80,
       "text": [
        "[0, 2, 13, 16, 19, 28, 32, 35, 38, 39, 40, 56, 58, 59, 68, 69, 74, 78, 83, 98]"
       ]
      }
     ],
     "prompt_number": 80
    },
    {
     "cell_type": "code",
     "collapsed": false,
     "input": [
      "sorted(xs, key=str)"
     ],
     "language": "python",
     "metadata": {},
     "outputs": [
      {
       "metadata": {},
       "output_type": "pyout",
       "prompt_number": 81,
       "text": [
        "[0, 13, 16, 19, 2, 28, 32, 35, 38, 39, 40, 56, 58, 59, 68, 69, 74, 78, 83, 98]"
       ]
      }
     ],
     "prompt_number": 81
    },
    {
     "cell_type": "code",
     "collapsed": false,
     "input": [
      "sorted(xs, key=lambda x: x % 7, reverse=True)"
     ],
     "language": "python",
     "metadata": {},
     "outputs": [
      {
       "metadata": {},
       "output_type": "pyout",
       "prompt_number": 82,
       "text": [
        "[69, 83, 13, 40, 19, 68, 39, 32, 74, 59, 38, 2, 16, 58, 78, 35, 56, 28, 98, 0]"
       ]
      }
     ],
     "prompt_number": 82
    },
    {
     "cell_type": "code",
     "collapsed": false,
     "input": [
      "# in-place sort\n",
      "xs.sort()\n",
      "xs"
     ],
     "language": "python",
     "metadata": {},
     "outputs": [
      {
       "metadata": {},
       "output_type": "pyout",
       "prompt_number": 83,
       "text": [
        "[0, 2, 13, 16, 19, 28, 32, 35, 38, 39, 40, 56, 58, 59, 68, 69, 74, 78, 83, 98]"
       ]
      }
     ],
     "prompt_number": 83
    },
    {
     "cell_type": "code",
     "collapsed": false,
     "input": [
      "# insertion into sorted list\n",
      "import bisect\n",
      "\n",
      "bisect.insort(xs, 50)\n",
      "print xs"
     ],
     "language": "python",
     "metadata": {},
     "outputs": [
      {
       "output_type": "stream",
       "stream": "stdout",
       "text": [
        "[0, 2, 13, 16, 19, 28, 32, 35, 38, 39, 40, 50, 56, 58, 59, 68, 69, 74, 78, 83, 98]\n"
       ]
      }
     ],
     "prompt_number": 84
    },
    {
     "cell_type": "markdown",
     "metadata": {},
     "source": [
      "### Searching"
     ]
    },
    {
     "cell_type": "code",
     "collapsed": false,
     "input": [
      "# searching unsorted list\n",
      "xs = list(random_integers(0,1e7, 1e6))\n",
      "print xs[:20]"
     ],
     "language": "python",
     "metadata": {},
     "outputs": [
      {
       "output_type": "stream",
       "stream": "stdout",
       "text": [
        "[4267638, 7006172, 2586638, 8931681, 31407, 1498472, 2057095, 6047311, 3661232, 7267216, 9555760, 7082443, 3833399, 4782456, 6155364, 6071452, 3814115, 3385790, 3396997, 8859708]\n"
       ]
      }
     ],
     "prompt_number": 114
    },
    {
     "cell_type": "code",
     "collapsed": false,
     "input": [
      "# more efficient to sort list first then do binary search with bisect if the search is repeated\n",
      "\n",
      "import time\n",
      "\n",
      "num_keys = 1000\n",
      "keys = list(set(xs))[:num_keys]\n",
      "\n",
      "start = time.clock()\n",
      "for i in keys:\n",
      "    xs.index(i)\n",
      "print '%.2f s' % (time.clock() - start)\n",
      "\n",
      "start = time.clock()\n",
      "ys = sorted(xs)\n",
      "for i in keys:\n",
      "    bisect.bisect(ys, i)\n",
      "print '%.2f s' % (time.clock() - start)"
     ],
     "language": "python",
     "metadata": {},
     "outputs": [
      {
       "output_type": "stream",
       "stream": "stdout",
       "text": [
        "18.08 s\n",
        "0.97 s"
       ]
      },
      {
       "output_type": "stream",
       "stream": "stdout",
       "text": [
        "\n"
       ]
      }
     ],
     "prompt_number": 115
    },
    {
     "cell_type": "code",
     "collapsed": false,
     "input": [],
     "language": "python",
     "metadata": {},
     "outputs": []
    }
   ],
   "metadata": {}
  }
 ]
}